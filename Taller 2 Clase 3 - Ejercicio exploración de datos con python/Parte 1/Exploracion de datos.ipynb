{
 "cells": [
  {
   "cell_type": "markdown",
   "metadata": {
    "application/vnd.databricks.v1+cell": {
     "inputWidgets": {},
     "nuid": "d64f6055-c648-4e7f-a369-825f0f90bc3e",
     "showTitle": false,
     "title": ""
    }
   },
   "source": [
    "<h1>Preparación de Datos - Exploración</h1>"
   ]
  },
  {
   "cell_type": "markdown",
   "metadata": {
    "application/vnd.databricks.v1+cell": {
     "inputWidgets": {},
     "nuid": "2fb5e273-b0ec-4d4a-8301-5f38921a416f",
     "showTitle": false,
     "title": ""
    }
   },
   "source": [
    "<p><strong>Objetivo: </strong> El objetivo de este cuaderno es cargar y realizar la explorarción inicial de los datos utilizando el lenguaje de programación Python.  </p>\n",
    "<p>Por Anabel Montero</p>"
   ]
  },
  {
   "cell_type": "markdown",
   "metadata": {
    "application/vnd.databricks.v1+cell": {
     "inputWidgets": {},
     "nuid": "2a426d41-ba0c-4e7c-92e3-a2a7abf5b966",
     "showTitle": false,
     "title": ""
    }
   },
   "source": [
    "<h2>Exploración de Datos</h2>"
   ]
  },
  {
   "cell_type": "markdown",
   "metadata": {
    "application/vnd.databricks.v1+cell": {
     "inputWidgets": {},
     "nuid": "96e06886-547a-481a-b0eb-a944ed18105c",
     "showTitle": false,
     "title": ""
    },
    "tags": []
   },
   "source": [
    "<h2>Indice</h2>\n",
    "\n",
    "<div class=\"alert alert-block alert-info\" style=\"margin-top: 20px\">\n",
    "<ul>\n",
    "  <li>Cargar los Datos</li>\n",
    "  <li>Visualizar los Datos</li>\n",
    "  <li>Tipos de datos</li>\n",
    "  <li>Visualizar las estadísticas</li>\n",
    "  <li>Identificar datos faltantes</li>\n",
    "  <li>Explorar relaciones entre los datos</li>\n",
    "  <li>Graficar las estadísticas</li>\n",
    "  <li>Exportar los datos</li>\n",
    "</ul>\n",
    "\n",
    "Tiempo estimado: <strong>30 min</strong>\n",
    "\n",
    "</div>\n",
    "<hr>"
   ]
  },
  {
   "cell_type": "markdown",
   "metadata": {
    "application/vnd.databricks.v1+cell": {
     "inputWidgets": {},
     "nuid": "13e4ffed-ca6c-4dd9-8b4c-d7c1ff398ea8",
     "showTitle": false,
     "title": ""
    }
   },
   "source": [
    "<h3>Cargar los datos</h3>"
   ]
  },
  {
   "cell_type": "markdown",
   "metadata": {
    "application/vnd.databricks.v1+cell": {
     "inputWidgets": {},
     "nuid": "43cca865-2eb1-41fc-bbfd-dff4f33f3f10",
     "showTitle": false,
     "title": ""
    }
   },
   "source": [
    "Existen varios formatos para un conjunto de datos, .csv, .json, .xlsx, etc. Los datos pueden ser almacenados en distintos lugares, ya sea localmente o en línea.<b>\n",
    "En estas sección aprenderá a cargar un conjunto de datos en un cuaderno de Jupyter.</b>\n",
    "En nuestro caso el conjunto de datos Automobile es de una fuente en línea en formato CSV (valores separados por coma). Usemos este conjunto como ejemplo para practicar la lectura de datos.\n",
    "<ul>\n",
    "    <li>fuente de datos: <a href=\"https://archive.ics.uci.edu/ml/machine-learning-databases/autos/imports-85.data\" target=\"_blank\">https://archive.ics.uci.edu/ml/machine-learning-databases/autos/imports-85.data</a></li>\n",
    "    <li>tipo de datos: csv</li>"
   ]
  },
  {
   "cell_type": "markdown",
   "metadata": {
    "application/vnd.databricks.v1+cell": {
     "inputWidgets": {},
     "nuid": "66010a16-f783-49fb-a052-79571d2e02c9",
     "showTitle": false,
     "title": ""
    }
   },
   "source": [
    "Vamos a utilizar las librerías Pandas y Numpy de Python para realizar la lectura de archivos. Estas librerías ofrecen herramientas para la manipulación, tratamiento y análisis de datos. \n",
    "Al cargar las librerías, les pondremos un alias: <strong>pd</strong> y <strong>np</strong>, para que sea más fácil utilizarlas:"
   ]
  },
  {
   "cell_type": "code",
   "execution_count": 2,
   "metadata": {
    "application/vnd.databricks.v1+cell": {
     "inputWidgets": {},
     "nuid": "8bcf940e-b07d-4e37-9142-34cd1e682e9f",
     "showTitle": false,
     "title": ""
    }
   },
   "outputs": [],
   "source": [
    "# Importar librerias requeridas\n",
    "import pandas as pd\n",
    "import numpy as np"
   ]
  },
  {
   "cell_type": "markdown",
   "metadata": {
    "application/vnd.databricks.v1+cell": {
     "inputWidgets": {},
     "nuid": "3be2d82b-1ea3-494e-8c7d-f94d07aa2fcc",
     "showTitle": false,
     "title": ""
    }
   },
   "source": [
    "Después del comando para importar, ahora tenemos acceso a una gran cantidad de clases y funciones predefinidas. Una forma en que pandas permite trabajar con datos es a través del uso de dataframes. El proceso para pasar de un archivo de valores separados por comas (<b>.csv</b>) a un dataframe, es el siguiente: la variable <code>csv_path</code> almacena la ruta de <b>.csv</b>, que se utiliza como argumento para la función <code>read_csv</code>. El resultado se almacena en el objeto <code>df</code>."
   ]
  },
  {
   "cell_type": "code",
   "execution_count": 3,
   "metadata": {
    "application/vnd.databricks.v1+cell": {
     "inputWidgets": {},
     "nuid": "c39537da-aee9-40cd-a0cb-92a761fe3b8c",
     "showTitle": false,
     "title": ""
    }
   },
   "outputs": [],
   "source": [
    "# Read data from CSV file\n",
    "\n",
    "csv_path = \"https://archive.ics.uci.edu/ml/machine-learning-databases/autos/imports-85.data\"\n",
    "df = pd.read_csv(csv_path, sep=\",\", header=None)"
   ]
  },
  {
   "cell_type": "code",
   "execution_count": 4,
   "metadata": {
    "application/vnd.databricks.v1+cell": {
     "inputWidgets": {},
     "nuid": "f3b887a6-0356-4a9f-91e2-19db3aa29a56",
     "showTitle": false,
     "title": ""
    }
   },
   "outputs": [],
   "source": [
    "#Ayuda de Pandas para función read_csv\n",
    "#https://pandas.pydata.org/pandas-docs/stable/reference/api/pandas.read_csv.html?highlight=pandas%20read_csv#pandas.read_csv"
   ]
  },
  {
   "cell_type": "markdown",
   "metadata": {
    "application/vnd.databricks.v1+cell": {
     "inputWidgets": {},
     "nuid": "53cb9580-1758-4564-bb7b-e8acccf2a7b8",
     "showTitle": false,
     "title": ""
    }
   },
   "source": [
    "<h3>Visualizar los datos</h3>"
   ]
  },
  {
   "cell_type": "markdown",
   "metadata": {
    "application/vnd.databricks.v1+cell": {
     "inputWidgets": {},
     "nuid": "f6ef4034-9670-4ae8-bff8-bb122c729bfb",
     "showTitle": false,
     "title": ""
    }
   },
   "source": [
    "Podemos utilizar el método <code>head()</code> para examinar las primeras cinco filas del dataframe, se utiliza cuando el conjuntos de datos es muy grande y no queremos cargar todo:"
   ]
  },
  {
   "cell_type": "code",
   "execution_count": 5,
   "metadata": {
    "application/vnd.databricks.v1+cell": {
     "inputWidgets": {},
     "nuid": "73025c09-9f2c-4f9a-9f91-4fbd99f4a52c",
     "showTitle": false,
     "title": ""
    }
   },
   "outputs": [
    {
     "data": {
      "text/html": [
       "<div>\n",
       "<style scoped>\n",
       "    .dataframe tbody tr th:only-of-type {\n",
       "        vertical-align: middle;\n",
       "    }\n",
       "\n",
       "    .dataframe tbody tr th {\n",
       "        vertical-align: top;\n",
       "    }\n",
       "\n",
       "    .dataframe thead th {\n",
       "        text-align: right;\n",
       "    }\n",
       "</style>\n",
       "<table border=\"1\" class=\"dataframe\">\n",
       "  <thead>\n",
       "    <tr style=\"text-align: right;\">\n",
       "      <th></th>\n",
       "      <th>0</th>\n",
       "      <th>1</th>\n",
       "      <th>2</th>\n",
       "      <th>3</th>\n",
       "      <th>4</th>\n",
       "      <th>5</th>\n",
       "      <th>6</th>\n",
       "      <th>7</th>\n",
       "      <th>8</th>\n",
       "      <th>9</th>\n",
       "      <th>...</th>\n",
       "      <th>16</th>\n",
       "      <th>17</th>\n",
       "      <th>18</th>\n",
       "      <th>19</th>\n",
       "      <th>20</th>\n",
       "      <th>21</th>\n",
       "      <th>22</th>\n",
       "      <th>23</th>\n",
       "      <th>24</th>\n",
       "      <th>25</th>\n",
       "    </tr>\n",
       "  </thead>\n",
       "  <tbody>\n",
       "    <tr>\n",
       "      <th>0</th>\n",
       "      <td>3</td>\n",
       "      <td>?</td>\n",
       "      <td>alfa-romero</td>\n",
       "      <td>gas</td>\n",
       "      <td>std</td>\n",
       "      <td>two</td>\n",
       "      <td>convertible</td>\n",
       "      <td>rwd</td>\n",
       "      <td>front</td>\n",
       "      <td>88.6</td>\n",
       "      <td>...</td>\n",
       "      <td>130</td>\n",
       "      <td>mpfi</td>\n",
       "      <td>3.47</td>\n",
       "      <td>2.68</td>\n",
       "      <td>9.0</td>\n",
       "      <td>111</td>\n",
       "      <td>5000</td>\n",
       "      <td>21</td>\n",
       "      <td>27</td>\n",
       "      <td>13495</td>\n",
       "    </tr>\n",
       "    <tr>\n",
       "      <th>1</th>\n",
       "      <td>3</td>\n",
       "      <td>?</td>\n",
       "      <td>alfa-romero</td>\n",
       "      <td>gas</td>\n",
       "      <td>std</td>\n",
       "      <td>two</td>\n",
       "      <td>convertible</td>\n",
       "      <td>rwd</td>\n",
       "      <td>front</td>\n",
       "      <td>88.6</td>\n",
       "      <td>...</td>\n",
       "      <td>130</td>\n",
       "      <td>mpfi</td>\n",
       "      <td>3.47</td>\n",
       "      <td>2.68</td>\n",
       "      <td>9.0</td>\n",
       "      <td>111</td>\n",
       "      <td>5000</td>\n",
       "      <td>21</td>\n",
       "      <td>27</td>\n",
       "      <td>16500</td>\n",
       "    </tr>\n",
       "    <tr>\n",
       "      <th>2</th>\n",
       "      <td>1</td>\n",
       "      <td>?</td>\n",
       "      <td>alfa-romero</td>\n",
       "      <td>gas</td>\n",
       "      <td>std</td>\n",
       "      <td>two</td>\n",
       "      <td>hatchback</td>\n",
       "      <td>rwd</td>\n",
       "      <td>front</td>\n",
       "      <td>94.5</td>\n",
       "      <td>...</td>\n",
       "      <td>152</td>\n",
       "      <td>mpfi</td>\n",
       "      <td>2.68</td>\n",
       "      <td>3.47</td>\n",
       "      <td>9.0</td>\n",
       "      <td>154</td>\n",
       "      <td>5000</td>\n",
       "      <td>19</td>\n",
       "      <td>26</td>\n",
       "      <td>16500</td>\n",
       "    </tr>\n",
       "    <tr>\n",
       "      <th>3</th>\n",
       "      <td>2</td>\n",
       "      <td>164</td>\n",
       "      <td>audi</td>\n",
       "      <td>gas</td>\n",
       "      <td>std</td>\n",
       "      <td>four</td>\n",
       "      <td>sedan</td>\n",
       "      <td>fwd</td>\n",
       "      <td>front</td>\n",
       "      <td>99.8</td>\n",
       "      <td>...</td>\n",
       "      <td>109</td>\n",
       "      <td>mpfi</td>\n",
       "      <td>3.19</td>\n",
       "      <td>3.40</td>\n",
       "      <td>10.0</td>\n",
       "      <td>102</td>\n",
       "      <td>5500</td>\n",
       "      <td>24</td>\n",
       "      <td>30</td>\n",
       "      <td>13950</td>\n",
       "    </tr>\n",
       "    <tr>\n",
       "      <th>4</th>\n",
       "      <td>2</td>\n",
       "      <td>164</td>\n",
       "      <td>audi</td>\n",
       "      <td>gas</td>\n",
       "      <td>std</td>\n",
       "      <td>four</td>\n",
       "      <td>sedan</td>\n",
       "      <td>4wd</td>\n",
       "      <td>front</td>\n",
       "      <td>99.4</td>\n",
       "      <td>...</td>\n",
       "      <td>136</td>\n",
       "      <td>mpfi</td>\n",
       "      <td>3.19</td>\n",
       "      <td>3.40</td>\n",
       "      <td>8.0</td>\n",
       "      <td>115</td>\n",
       "      <td>5500</td>\n",
       "      <td>18</td>\n",
       "      <td>22</td>\n",
       "      <td>17450</td>\n",
       "    </tr>\n",
       "  </tbody>\n",
       "</table>\n",
       "<p>5 rows × 26 columns</p>\n",
       "</div>"
      ],
      "text/plain": [
       "   0    1            2    3    4     5            6    7      8     9   ...  \\\n",
       "0   3    ?  alfa-romero  gas  std   two  convertible  rwd  front  88.6  ...   \n",
       "1   3    ?  alfa-romero  gas  std   two  convertible  rwd  front  88.6  ...   \n",
       "2   1    ?  alfa-romero  gas  std   two    hatchback  rwd  front  94.5  ...   \n",
       "3   2  164         audi  gas  std  four        sedan  fwd  front  99.8  ...   \n",
       "4   2  164         audi  gas  std  four        sedan  4wd  front  99.4  ...   \n",
       "\n",
       "    16    17    18    19    20   21    22  23  24     25  \n",
       "0  130  mpfi  3.47  2.68   9.0  111  5000  21  27  13495  \n",
       "1  130  mpfi  3.47  2.68   9.0  111  5000  21  27  16500  \n",
       "2  152  mpfi  2.68  3.47   9.0  154  5000  19  26  16500  \n",
       "3  109  mpfi  3.19  3.40  10.0  102  5500  24  30  13950  \n",
       "4  136  mpfi  3.19  3.40   8.0  115  5500  18  22  17450  \n",
       "\n",
       "[5 rows x 26 columns]"
      ]
     },
     "execution_count": 5,
     "metadata": {},
     "output_type": "execute_result"
    }
   ],
   "source": [
    "# Imprimer las primeras cinco filas de un dataframe\n",
    "df.head()"
   ]
  },
  {
   "cell_type": "markdown",
   "metadata": {
    "application/vnd.databricks.v1+cell": {
     "inputWidgets": {},
     "nuid": "cf28d20b-6e0c-431e-a740-b6ea364a88fb",
     "showTitle": false,
     "title": ""
    }
   },
   "source": [
    "Después de leer el conjunto de datos podemos utilizar el método <code>dataframe.head(n)</code> para revisar las primeras n filas del dataframe; donde n es un entero. Al contrario de <code>dataframe.head(n)</code>, <code>dataframe.tail(n)</code> mostrará las n filas del final del dataframe."
   ]
  },
  {
   "cell_type": "markdown",
   "metadata": {
    "application/vnd.databricks.v1+cell": {
     "inputWidgets": {},
     "nuid": "9708d7aa-84f9-413e-b7f2-a3c14c883355",
     "showTitle": false,
     "title": ""
    }
   },
   "source": [
    "<div class=\"alert alert-success alertsuccess\" style=\"margin-top: 20px\">\n",
    "   <strong>AHORA TÚ: </strong>  \n",
    "  <p>\n",
    "Revisa las ultimas 10 filas del dataframe \"df\":\n",
    "</p>\n",
    "</div>"
   ]
  },
  {
   "cell_type": "code",
   "execution_count": 6,
   "metadata": {
    "application/vnd.databricks.v1+cell": {
     "inputWidgets": {},
     "nuid": "8d8504f1-5e59-4763-a311-5e7fd6783a24",
     "showTitle": false,
     "title": ""
    }
   },
   "outputs": [
    {
     "data": {
      "text/html": [
       "<div>\n",
       "<style scoped>\n",
       "    .dataframe tbody tr th:only-of-type {\n",
       "        vertical-align: middle;\n",
       "    }\n",
       "\n",
       "    .dataframe tbody tr th {\n",
       "        vertical-align: top;\n",
       "    }\n",
       "\n",
       "    .dataframe thead th {\n",
       "        text-align: right;\n",
       "    }\n",
       "</style>\n",
       "<table border=\"1\" class=\"dataframe\">\n",
       "  <thead>\n",
       "    <tr style=\"text-align: right;\">\n",
       "      <th></th>\n",
       "      <th>0</th>\n",
       "      <th>1</th>\n",
       "      <th>2</th>\n",
       "      <th>3</th>\n",
       "      <th>4</th>\n",
       "      <th>5</th>\n",
       "      <th>6</th>\n",
       "      <th>7</th>\n",
       "      <th>8</th>\n",
       "      <th>9</th>\n",
       "      <th>...</th>\n",
       "      <th>16</th>\n",
       "      <th>17</th>\n",
       "      <th>18</th>\n",
       "      <th>19</th>\n",
       "      <th>20</th>\n",
       "      <th>21</th>\n",
       "      <th>22</th>\n",
       "      <th>23</th>\n",
       "      <th>24</th>\n",
       "      <th>25</th>\n",
       "    </tr>\n",
       "  </thead>\n",
       "  <tbody>\n",
       "    <tr>\n",
       "      <th>195</th>\n",
       "      <td>-1</td>\n",
       "      <td>74</td>\n",
       "      <td>volvo</td>\n",
       "      <td>gas</td>\n",
       "      <td>std</td>\n",
       "      <td>four</td>\n",
       "      <td>wagon</td>\n",
       "      <td>rwd</td>\n",
       "      <td>front</td>\n",
       "      <td>104.3</td>\n",
       "      <td>...</td>\n",
       "      <td>141</td>\n",
       "      <td>mpfi</td>\n",
       "      <td>3.78</td>\n",
       "      <td>3.15</td>\n",
       "      <td>9.5</td>\n",
       "      <td>114</td>\n",
       "      <td>5400</td>\n",
       "      <td>23</td>\n",
       "      <td>28</td>\n",
       "      <td>13415</td>\n",
       "    </tr>\n",
       "    <tr>\n",
       "      <th>196</th>\n",
       "      <td>-2</td>\n",
       "      <td>103</td>\n",
       "      <td>volvo</td>\n",
       "      <td>gas</td>\n",
       "      <td>std</td>\n",
       "      <td>four</td>\n",
       "      <td>sedan</td>\n",
       "      <td>rwd</td>\n",
       "      <td>front</td>\n",
       "      <td>104.3</td>\n",
       "      <td>...</td>\n",
       "      <td>141</td>\n",
       "      <td>mpfi</td>\n",
       "      <td>3.78</td>\n",
       "      <td>3.15</td>\n",
       "      <td>9.5</td>\n",
       "      <td>114</td>\n",
       "      <td>5400</td>\n",
       "      <td>24</td>\n",
       "      <td>28</td>\n",
       "      <td>15985</td>\n",
       "    </tr>\n",
       "    <tr>\n",
       "      <th>197</th>\n",
       "      <td>-1</td>\n",
       "      <td>74</td>\n",
       "      <td>volvo</td>\n",
       "      <td>gas</td>\n",
       "      <td>std</td>\n",
       "      <td>four</td>\n",
       "      <td>wagon</td>\n",
       "      <td>rwd</td>\n",
       "      <td>front</td>\n",
       "      <td>104.3</td>\n",
       "      <td>...</td>\n",
       "      <td>141</td>\n",
       "      <td>mpfi</td>\n",
       "      <td>3.78</td>\n",
       "      <td>3.15</td>\n",
       "      <td>9.5</td>\n",
       "      <td>114</td>\n",
       "      <td>5400</td>\n",
       "      <td>24</td>\n",
       "      <td>28</td>\n",
       "      <td>16515</td>\n",
       "    </tr>\n",
       "    <tr>\n",
       "      <th>198</th>\n",
       "      <td>-2</td>\n",
       "      <td>103</td>\n",
       "      <td>volvo</td>\n",
       "      <td>gas</td>\n",
       "      <td>turbo</td>\n",
       "      <td>four</td>\n",
       "      <td>sedan</td>\n",
       "      <td>rwd</td>\n",
       "      <td>front</td>\n",
       "      <td>104.3</td>\n",
       "      <td>...</td>\n",
       "      <td>130</td>\n",
       "      <td>mpfi</td>\n",
       "      <td>3.62</td>\n",
       "      <td>3.15</td>\n",
       "      <td>7.5</td>\n",
       "      <td>162</td>\n",
       "      <td>5100</td>\n",
       "      <td>17</td>\n",
       "      <td>22</td>\n",
       "      <td>18420</td>\n",
       "    </tr>\n",
       "    <tr>\n",
       "      <th>199</th>\n",
       "      <td>-1</td>\n",
       "      <td>74</td>\n",
       "      <td>volvo</td>\n",
       "      <td>gas</td>\n",
       "      <td>turbo</td>\n",
       "      <td>four</td>\n",
       "      <td>wagon</td>\n",
       "      <td>rwd</td>\n",
       "      <td>front</td>\n",
       "      <td>104.3</td>\n",
       "      <td>...</td>\n",
       "      <td>130</td>\n",
       "      <td>mpfi</td>\n",
       "      <td>3.62</td>\n",
       "      <td>3.15</td>\n",
       "      <td>7.5</td>\n",
       "      <td>162</td>\n",
       "      <td>5100</td>\n",
       "      <td>17</td>\n",
       "      <td>22</td>\n",
       "      <td>18950</td>\n",
       "    </tr>\n",
       "    <tr>\n",
       "      <th>200</th>\n",
       "      <td>-1</td>\n",
       "      <td>95</td>\n",
       "      <td>volvo</td>\n",
       "      <td>gas</td>\n",
       "      <td>std</td>\n",
       "      <td>four</td>\n",
       "      <td>sedan</td>\n",
       "      <td>rwd</td>\n",
       "      <td>front</td>\n",
       "      <td>109.1</td>\n",
       "      <td>...</td>\n",
       "      <td>141</td>\n",
       "      <td>mpfi</td>\n",
       "      <td>3.78</td>\n",
       "      <td>3.15</td>\n",
       "      <td>9.5</td>\n",
       "      <td>114</td>\n",
       "      <td>5400</td>\n",
       "      <td>23</td>\n",
       "      <td>28</td>\n",
       "      <td>16845</td>\n",
       "    </tr>\n",
       "    <tr>\n",
       "      <th>201</th>\n",
       "      <td>-1</td>\n",
       "      <td>95</td>\n",
       "      <td>volvo</td>\n",
       "      <td>gas</td>\n",
       "      <td>turbo</td>\n",
       "      <td>four</td>\n",
       "      <td>sedan</td>\n",
       "      <td>rwd</td>\n",
       "      <td>front</td>\n",
       "      <td>109.1</td>\n",
       "      <td>...</td>\n",
       "      <td>141</td>\n",
       "      <td>mpfi</td>\n",
       "      <td>3.78</td>\n",
       "      <td>3.15</td>\n",
       "      <td>8.7</td>\n",
       "      <td>160</td>\n",
       "      <td>5300</td>\n",
       "      <td>19</td>\n",
       "      <td>25</td>\n",
       "      <td>19045</td>\n",
       "    </tr>\n",
       "    <tr>\n",
       "      <th>202</th>\n",
       "      <td>-1</td>\n",
       "      <td>95</td>\n",
       "      <td>volvo</td>\n",
       "      <td>gas</td>\n",
       "      <td>std</td>\n",
       "      <td>four</td>\n",
       "      <td>sedan</td>\n",
       "      <td>rwd</td>\n",
       "      <td>front</td>\n",
       "      <td>109.1</td>\n",
       "      <td>...</td>\n",
       "      <td>173</td>\n",
       "      <td>mpfi</td>\n",
       "      <td>3.58</td>\n",
       "      <td>2.87</td>\n",
       "      <td>8.8</td>\n",
       "      <td>134</td>\n",
       "      <td>5500</td>\n",
       "      <td>18</td>\n",
       "      <td>23</td>\n",
       "      <td>21485</td>\n",
       "    </tr>\n",
       "    <tr>\n",
       "      <th>203</th>\n",
       "      <td>-1</td>\n",
       "      <td>95</td>\n",
       "      <td>volvo</td>\n",
       "      <td>diesel</td>\n",
       "      <td>turbo</td>\n",
       "      <td>four</td>\n",
       "      <td>sedan</td>\n",
       "      <td>rwd</td>\n",
       "      <td>front</td>\n",
       "      <td>109.1</td>\n",
       "      <td>...</td>\n",
       "      <td>145</td>\n",
       "      <td>idi</td>\n",
       "      <td>3.01</td>\n",
       "      <td>3.40</td>\n",
       "      <td>23.0</td>\n",
       "      <td>106</td>\n",
       "      <td>4800</td>\n",
       "      <td>26</td>\n",
       "      <td>27</td>\n",
       "      <td>22470</td>\n",
       "    </tr>\n",
       "    <tr>\n",
       "      <th>204</th>\n",
       "      <td>-1</td>\n",
       "      <td>95</td>\n",
       "      <td>volvo</td>\n",
       "      <td>gas</td>\n",
       "      <td>turbo</td>\n",
       "      <td>four</td>\n",
       "      <td>sedan</td>\n",
       "      <td>rwd</td>\n",
       "      <td>front</td>\n",
       "      <td>109.1</td>\n",
       "      <td>...</td>\n",
       "      <td>141</td>\n",
       "      <td>mpfi</td>\n",
       "      <td>3.78</td>\n",
       "      <td>3.15</td>\n",
       "      <td>9.5</td>\n",
       "      <td>114</td>\n",
       "      <td>5400</td>\n",
       "      <td>19</td>\n",
       "      <td>25</td>\n",
       "      <td>22625</td>\n",
       "    </tr>\n",
       "  </tbody>\n",
       "</table>\n",
       "<p>10 rows × 26 columns</p>\n",
       "</div>"
      ],
      "text/plain": [
       "     0    1      2       3      4     5      6    7      8      9   ...   16  \\\n",
       "195  -1   74  volvo     gas    std  four  wagon  rwd  front  104.3  ...  141   \n",
       "196  -2  103  volvo     gas    std  four  sedan  rwd  front  104.3  ...  141   \n",
       "197  -1   74  volvo     gas    std  four  wagon  rwd  front  104.3  ...  141   \n",
       "198  -2  103  volvo     gas  turbo  four  sedan  rwd  front  104.3  ...  130   \n",
       "199  -1   74  volvo     gas  turbo  four  wagon  rwd  front  104.3  ...  130   \n",
       "200  -1   95  volvo     gas    std  four  sedan  rwd  front  109.1  ...  141   \n",
       "201  -1   95  volvo     gas  turbo  four  sedan  rwd  front  109.1  ...  141   \n",
       "202  -1   95  volvo     gas    std  four  sedan  rwd  front  109.1  ...  173   \n",
       "203  -1   95  volvo  diesel  turbo  four  sedan  rwd  front  109.1  ...  145   \n",
       "204  -1   95  volvo     gas  turbo  four  sedan  rwd  front  109.1  ...  141   \n",
       "\n",
       "       17    18    19    20   21    22  23  24     25  \n",
       "195  mpfi  3.78  3.15   9.5  114  5400  23  28  13415  \n",
       "196  mpfi  3.78  3.15   9.5  114  5400  24  28  15985  \n",
       "197  mpfi  3.78  3.15   9.5  114  5400  24  28  16515  \n",
       "198  mpfi  3.62  3.15   7.5  162  5100  17  22  18420  \n",
       "199  mpfi  3.62  3.15   7.5  162  5100  17  22  18950  \n",
       "200  mpfi  3.78  3.15   9.5  114  5400  23  28  16845  \n",
       "201  mpfi  3.78  3.15   8.7  160  5300  19  25  19045  \n",
       "202  mpfi  3.58  2.87   8.8  134  5500  18  23  21485  \n",
       "203   idi  3.01  3.40  23.0  106  4800  26  27  22470  \n",
       "204  mpfi  3.78  3.15   9.5  114  5400  19  25  22625  \n",
       "\n",
       "[10 rows x 26 columns]"
      ]
     },
     "execution_count": 6,
     "metadata": {},
     "output_type": "execute_result"
    }
   ],
   "source": [
    "# Escribe tu código aquí y presiona Shift+Enter para ejecutar\n",
    "df.tail(10)"
   ]
  },
  {
   "cell_type": "markdown",
   "metadata": {
    "application/vnd.databricks.v1+cell": {
     "inputWidgets": {},
     "nuid": "5fad7c29-ba84-4041-b495-d8b50180d490",
     "showTitle": false,
     "title": ""
    }
   },
   "source": [
    "Haz doble clic <b>aquí</b> para ver la solución.\n",
    "\n",
    "<!-- Respuesta:\n",
    "\n",
    "print(\"The last 10 rows of the dataframe\\n\")\n",
    "df.tail(10)\n",
    "\n",
    "-->"
   ]
  },
  {
   "cell_type": "markdown",
   "metadata": {
    "application/vnd.databricks.v1+cell": {
     "inputWidgets": {},
     "nuid": "6773c821-aee6-486d-8e40-6354528268c8",
     "showTitle": false,
     "title": ""
    }
   },
   "source": [
    "<h5 id=\"func\">Añadir cabeceras</h5>"
   ]
  },
  {
   "cell_type": "markdown",
   "metadata": {
    "application/vnd.databricks.v1+cell": {
     "inputWidgets": {},
     "nuid": "6bf6bf77-df01-4dbd-999b-1197cf656efb",
     "showTitle": false,
     "title": ""
    }
   },
   "source": [
    "<p>\n",
    "Observe el conjunto de datos; Pandas automaticamente establece la cabecera en un entero a partir de 0.  \n",
    "Para describir mejor nuestros datos podemos agregarle una cabecera, esta información esta disponible en: <a href=\"https://archive.ics.uci.edu/ml/datasets/Automobile\" target=\"_blank\">https://archive.ics.uci.edu/ml/datasets/Automobile</a>\n",
    "</p>\n",
    "<p>\n",
    "De este modo debemos agregar las cabeceras manualmente.    \n",
    "Primero creamos una lista <b>headers</b> que incluya todos los nombres de columna en orden.\n",
    "Despues usamos <code>dataframe.columns = headers</code> para reemplazar las cabeceras por la lista que hemos creado.\n",
    "</p>"
   ]
  },
  {
   "cell_type": "code",
   "execution_count": 7,
   "metadata": {
    "application/vnd.databricks.v1+cell": {
     "inputWidgets": {},
     "nuid": "859c1c18-c762-49b1-a451-9e195959ac8f",
     "showTitle": false,
     "title": ""
    }
   },
   "outputs": [
    {
     "name": "stdout",
     "output_type": "stream",
     "text": [
      "headers\n",
      " ['symboling', 'normalized-losses', 'make', 'fuel-type', 'aspiration', 'num-of-doors', 'body-style', 'drive-wheels', 'engine-location', 'wheel-base', 'length', 'width', 'height', 'curb-weight', 'engine-type', 'num-of-cylinders', 'engine-size', 'fuel-system', 'bore', 'stroke', 'compression-ratio', 'horsepower', 'peak-rpm', 'city-mpg', 'highway-mpg', 'price']\n"
     ]
    }
   ],
   "source": [
    "# crear la lista headers \n",
    "headers = [\"symboling\",\"normalized-losses\",\"make\",\"fuel-type\",\"aspiration\", \"num-of-doors\",\"body-style\",\n",
    "         \"drive-wheels\",\"engine-location\",\"wheel-base\", \"length\",\"width\",\"height\",\"curb-weight\",\"engine-type\",\n",
    "         \"num-of-cylinders\", \"engine-size\",\"fuel-system\",\"bore\",\"stroke\",\"compression-ratio\",\"horsepower\",\n",
    "         \"peak-rpm\",\"city-mpg\",\"highway-mpg\",\"price\"]\n",
    "print(\"headers\\n\", headers)"
   ]
  },
  {
   "cell_type": "markdown",
   "metadata": {
    "application/vnd.databricks.v1+cell": {
     "inputWidgets": {},
     "nuid": "dc2cae3b-1904-4b89-9724-21fd54cb4af7",
     "showTitle": false,
     "title": ""
    }
   },
   "source": [
    "Remplazamos las cabeceras y volvemos a revisar nuestro dataframe:"
   ]
  },
  {
   "cell_type": "code",
   "execution_count": 8,
   "metadata": {
    "application/vnd.databricks.v1+cell": {
     "inputWidgets": {},
     "nuid": "7d1c93ff-c5cf-4ae2-a28f-d6aa5881a663",
     "showTitle": false,
     "title": ""
    }
   },
   "outputs": [
    {
     "data": {
      "text/html": [
       "<div>\n",
       "<style scoped>\n",
       "    .dataframe tbody tr th:only-of-type {\n",
       "        vertical-align: middle;\n",
       "    }\n",
       "\n",
       "    .dataframe tbody tr th {\n",
       "        vertical-align: top;\n",
       "    }\n",
       "\n",
       "    .dataframe thead th {\n",
       "        text-align: right;\n",
       "    }\n",
       "</style>\n",
       "<table border=\"1\" class=\"dataframe\">\n",
       "  <thead>\n",
       "    <tr style=\"text-align: right;\">\n",
       "      <th></th>\n",
       "      <th>symboling</th>\n",
       "      <th>normalized-losses</th>\n",
       "      <th>make</th>\n",
       "      <th>fuel-type</th>\n",
       "      <th>aspiration</th>\n",
       "      <th>num-of-doors</th>\n",
       "      <th>body-style</th>\n",
       "      <th>drive-wheels</th>\n",
       "      <th>engine-location</th>\n",
       "      <th>wheel-base</th>\n",
       "      <th>...</th>\n",
       "      <th>engine-size</th>\n",
       "      <th>fuel-system</th>\n",
       "      <th>bore</th>\n",
       "      <th>stroke</th>\n",
       "      <th>compression-ratio</th>\n",
       "      <th>horsepower</th>\n",
       "      <th>peak-rpm</th>\n",
       "      <th>city-mpg</th>\n",
       "      <th>highway-mpg</th>\n",
       "      <th>price</th>\n",
       "    </tr>\n",
       "  </thead>\n",
       "  <tbody>\n",
       "    <tr>\n",
       "      <th>0</th>\n",
       "      <td>3</td>\n",
       "      <td>?</td>\n",
       "      <td>alfa-romero</td>\n",
       "      <td>gas</td>\n",
       "      <td>std</td>\n",
       "      <td>two</td>\n",
       "      <td>convertible</td>\n",
       "      <td>rwd</td>\n",
       "      <td>front</td>\n",
       "      <td>88.6</td>\n",
       "      <td>...</td>\n",
       "      <td>130</td>\n",
       "      <td>mpfi</td>\n",
       "      <td>3.47</td>\n",
       "      <td>2.68</td>\n",
       "      <td>9.0</td>\n",
       "      <td>111</td>\n",
       "      <td>5000</td>\n",
       "      <td>21</td>\n",
       "      <td>27</td>\n",
       "      <td>13495</td>\n",
       "    </tr>\n",
       "    <tr>\n",
       "      <th>1</th>\n",
       "      <td>3</td>\n",
       "      <td>?</td>\n",
       "      <td>alfa-romero</td>\n",
       "      <td>gas</td>\n",
       "      <td>std</td>\n",
       "      <td>two</td>\n",
       "      <td>convertible</td>\n",
       "      <td>rwd</td>\n",
       "      <td>front</td>\n",
       "      <td>88.6</td>\n",
       "      <td>...</td>\n",
       "      <td>130</td>\n",
       "      <td>mpfi</td>\n",
       "      <td>3.47</td>\n",
       "      <td>2.68</td>\n",
       "      <td>9.0</td>\n",
       "      <td>111</td>\n",
       "      <td>5000</td>\n",
       "      <td>21</td>\n",
       "      <td>27</td>\n",
       "      <td>16500</td>\n",
       "    </tr>\n",
       "    <tr>\n",
       "      <th>2</th>\n",
       "      <td>1</td>\n",
       "      <td>?</td>\n",
       "      <td>alfa-romero</td>\n",
       "      <td>gas</td>\n",
       "      <td>std</td>\n",
       "      <td>two</td>\n",
       "      <td>hatchback</td>\n",
       "      <td>rwd</td>\n",
       "      <td>front</td>\n",
       "      <td>94.5</td>\n",
       "      <td>...</td>\n",
       "      <td>152</td>\n",
       "      <td>mpfi</td>\n",
       "      <td>2.68</td>\n",
       "      <td>3.47</td>\n",
       "      <td>9.0</td>\n",
       "      <td>154</td>\n",
       "      <td>5000</td>\n",
       "      <td>19</td>\n",
       "      <td>26</td>\n",
       "      <td>16500</td>\n",
       "    </tr>\n",
       "    <tr>\n",
       "      <th>3</th>\n",
       "      <td>2</td>\n",
       "      <td>164</td>\n",
       "      <td>audi</td>\n",
       "      <td>gas</td>\n",
       "      <td>std</td>\n",
       "      <td>four</td>\n",
       "      <td>sedan</td>\n",
       "      <td>fwd</td>\n",
       "      <td>front</td>\n",
       "      <td>99.8</td>\n",
       "      <td>...</td>\n",
       "      <td>109</td>\n",
       "      <td>mpfi</td>\n",
       "      <td>3.19</td>\n",
       "      <td>3.40</td>\n",
       "      <td>10.0</td>\n",
       "      <td>102</td>\n",
       "      <td>5500</td>\n",
       "      <td>24</td>\n",
       "      <td>30</td>\n",
       "      <td>13950</td>\n",
       "    </tr>\n",
       "    <tr>\n",
       "      <th>4</th>\n",
       "      <td>2</td>\n",
       "      <td>164</td>\n",
       "      <td>audi</td>\n",
       "      <td>gas</td>\n",
       "      <td>std</td>\n",
       "      <td>four</td>\n",
       "      <td>sedan</td>\n",
       "      <td>4wd</td>\n",
       "      <td>front</td>\n",
       "      <td>99.4</td>\n",
       "      <td>...</td>\n",
       "      <td>136</td>\n",
       "      <td>mpfi</td>\n",
       "      <td>3.19</td>\n",
       "      <td>3.40</td>\n",
       "      <td>8.0</td>\n",
       "      <td>115</td>\n",
       "      <td>5500</td>\n",
       "      <td>18</td>\n",
       "      <td>22</td>\n",
       "      <td>17450</td>\n",
       "    </tr>\n",
       "    <tr>\n",
       "      <th>5</th>\n",
       "      <td>2</td>\n",
       "      <td>?</td>\n",
       "      <td>audi</td>\n",
       "      <td>gas</td>\n",
       "      <td>std</td>\n",
       "      <td>two</td>\n",
       "      <td>sedan</td>\n",
       "      <td>fwd</td>\n",
       "      <td>front</td>\n",
       "      <td>99.8</td>\n",
       "      <td>...</td>\n",
       "      <td>136</td>\n",
       "      <td>mpfi</td>\n",
       "      <td>3.19</td>\n",
       "      <td>3.40</td>\n",
       "      <td>8.5</td>\n",
       "      <td>110</td>\n",
       "      <td>5500</td>\n",
       "      <td>19</td>\n",
       "      <td>25</td>\n",
       "      <td>15250</td>\n",
       "    </tr>\n",
       "    <tr>\n",
       "      <th>6</th>\n",
       "      <td>1</td>\n",
       "      <td>158</td>\n",
       "      <td>audi</td>\n",
       "      <td>gas</td>\n",
       "      <td>std</td>\n",
       "      <td>four</td>\n",
       "      <td>sedan</td>\n",
       "      <td>fwd</td>\n",
       "      <td>front</td>\n",
       "      <td>105.8</td>\n",
       "      <td>...</td>\n",
       "      <td>136</td>\n",
       "      <td>mpfi</td>\n",
       "      <td>3.19</td>\n",
       "      <td>3.40</td>\n",
       "      <td>8.5</td>\n",
       "      <td>110</td>\n",
       "      <td>5500</td>\n",
       "      <td>19</td>\n",
       "      <td>25</td>\n",
       "      <td>17710</td>\n",
       "    </tr>\n",
       "    <tr>\n",
       "      <th>7</th>\n",
       "      <td>1</td>\n",
       "      <td>?</td>\n",
       "      <td>audi</td>\n",
       "      <td>gas</td>\n",
       "      <td>std</td>\n",
       "      <td>four</td>\n",
       "      <td>wagon</td>\n",
       "      <td>fwd</td>\n",
       "      <td>front</td>\n",
       "      <td>105.8</td>\n",
       "      <td>...</td>\n",
       "      <td>136</td>\n",
       "      <td>mpfi</td>\n",
       "      <td>3.19</td>\n",
       "      <td>3.40</td>\n",
       "      <td>8.5</td>\n",
       "      <td>110</td>\n",
       "      <td>5500</td>\n",
       "      <td>19</td>\n",
       "      <td>25</td>\n",
       "      <td>18920</td>\n",
       "    </tr>\n",
       "    <tr>\n",
       "      <th>8</th>\n",
       "      <td>1</td>\n",
       "      <td>158</td>\n",
       "      <td>audi</td>\n",
       "      <td>gas</td>\n",
       "      <td>turbo</td>\n",
       "      <td>four</td>\n",
       "      <td>sedan</td>\n",
       "      <td>fwd</td>\n",
       "      <td>front</td>\n",
       "      <td>105.8</td>\n",
       "      <td>...</td>\n",
       "      <td>131</td>\n",
       "      <td>mpfi</td>\n",
       "      <td>3.13</td>\n",
       "      <td>3.40</td>\n",
       "      <td>8.3</td>\n",
       "      <td>140</td>\n",
       "      <td>5500</td>\n",
       "      <td>17</td>\n",
       "      <td>20</td>\n",
       "      <td>23875</td>\n",
       "    </tr>\n",
       "    <tr>\n",
       "      <th>9</th>\n",
       "      <td>0</td>\n",
       "      <td>?</td>\n",
       "      <td>audi</td>\n",
       "      <td>gas</td>\n",
       "      <td>turbo</td>\n",
       "      <td>two</td>\n",
       "      <td>hatchback</td>\n",
       "      <td>4wd</td>\n",
       "      <td>front</td>\n",
       "      <td>99.5</td>\n",
       "      <td>...</td>\n",
       "      <td>131</td>\n",
       "      <td>mpfi</td>\n",
       "      <td>3.13</td>\n",
       "      <td>3.40</td>\n",
       "      <td>7.0</td>\n",
       "      <td>160</td>\n",
       "      <td>5500</td>\n",
       "      <td>16</td>\n",
       "      <td>22</td>\n",
       "      <td>?</td>\n",
       "    </tr>\n",
       "    <tr>\n",
       "      <th>10</th>\n",
       "      <td>2</td>\n",
       "      <td>192</td>\n",
       "      <td>bmw</td>\n",
       "      <td>gas</td>\n",
       "      <td>std</td>\n",
       "      <td>two</td>\n",
       "      <td>sedan</td>\n",
       "      <td>rwd</td>\n",
       "      <td>front</td>\n",
       "      <td>101.2</td>\n",
       "      <td>...</td>\n",
       "      <td>108</td>\n",
       "      <td>mpfi</td>\n",
       "      <td>3.50</td>\n",
       "      <td>2.80</td>\n",
       "      <td>8.8</td>\n",
       "      <td>101</td>\n",
       "      <td>5800</td>\n",
       "      <td>23</td>\n",
       "      <td>29</td>\n",
       "      <td>16430</td>\n",
       "    </tr>\n",
       "    <tr>\n",
       "      <th>11</th>\n",
       "      <td>0</td>\n",
       "      <td>192</td>\n",
       "      <td>bmw</td>\n",
       "      <td>gas</td>\n",
       "      <td>std</td>\n",
       "      <td>four</td>\n",
       "      <td>sedan</td>\n",
       "      <td>rwd</td>\n",
       "      <td>front</td>\n",
       "      <td>101.2</td>\n",
       "      <td>...</td>\n",
       "      <td>108</td>\n",
       "      <td>mpfi</td>\n",
       "      <td>3.50</td>\n",
       "      <td>2.80</td>\n",
       "      <td>8.8</td>\n",
       "      <td>101</td>\n",
       "      <td>5800</td>\n",
       "      <td>23</td>\n",
       "      <td>29</td>\n",
       "      <td>16925</td>\n",
       "    </tr>\n",
       "    <tr>\n",
       "      <th>12</th>\n",
       "      <td>0</td>\n",
       "      <td>188</td>\n",
       "      <td>bmw</td>\n",
       "      <td>gas</td>\n",
       "      <td>std</td>\n",
       "      <td>two</td>\n",
       "      <td>sedan</td>\n",
       "      <td>rwd</td>\n",
       "      <td>front</td>\n",
       "      <td>101.2</td>\n",
       "      <td>...</td>\n",
       "      <td>164</td>\n",
       "      <td>mpfi</td>\n",
       "      <td>3.31</td>\n",
       "      <td>3.19</td>\n",
       "      <td>9.0</td>\n",
       "      <td>121</td>\n",
       "      <td>4250</td>\n",
       "      <td>21</td>\n",
       "      <td>28</td>\n",
       "      <td>20970</td>\n",
       "    </tr>\n",
       "    <tr>\n",
       "      <th>13</th>\n",
       "      <td>0</td>\n",
       "      <td>188</td>\n",
       "      <td>bmw</td>\n",
       "      <td>gas</td>\n",
       "      <td>std</td>\n",
       "      <td>four</td>\n",
       "      <td>sedan</td>\n",
       "      <td>rwd</td>\n",
       "      <td>front</td>\n",
       "      <td>101.2</td>\n",
       "      <td>...</td>\n",
       "      <td>164</td>\n",
       "      <td>mpfi</td>\n",
       "      <td>3.31</td>\n",
       "      <td>3.19</td>\n",
       "      <td>9.0</td>\n",
       "      <td>121</td>\n",
       "      <td>4250</td>\n",
       "      <td>21</td>\n",
       "      <td>28</td>\n",
       "      <td>21105</td>\n",
       "    </tr>\n",
       "    <tr>\n",
       "      <th>14</th>\n",
       "      <td>1</td>\n",
       "      <td>?</td>\n",
       "      <td>bmw</td>\n",
       "      <td>gas</td>\n",
       "      <td>std</td>\n",
       "      <td>four</td>\n",
       "      <td>sedan</td>\n",
       "      <td>rwd</td>\n",
       "      <td>front</td>\n",
       "      <td>103.5</td>\n",
       "      <td>...</td>\n",
       "      <td>164</td>\n",
       "      <td>mpfi</td>\n",
       "      <td>3.31</td>\n",
       "      <td>3.19</td>\n",
       "      <td>9.0</td>\n",
       "      <td>121</td>\n",
       "      <td>4250</td>\n",
       "      <td>20</td>\n",
       "      <td>25</td>\n",
       "      <td>24565</td>\n",
       "    </tr>\n",
       "    <tr>\n",
       "      <th>15</th>\n",
       "      <td>0</td>\n",
       "      <td>?</td>\n",
       "      <td>bmw</td>\n",
       "      <td>gas</td>\n",
       "      <td>std</td>\n",
       "      <td>four</td>\n",
       "      <td>sedan</td>\n",
       "      <td>rwd</td>\n",
       "      <td>front</td>\n",
       "      <td>103.5</td>\n",
       "      <td>...</td>\n",
       "      <td>209</td>\n",
       "      <td>mpfi</td>\n",
       "      <td>3.62</td>\n",
       "      <td>3.39</td>\n",
       "      <td>8.0</td>\n",
       "      <td>182</td>\n",
       "      <td>5400</td>\n",
       "      <td>16</td>\n",
       "      <td>22</td>\n",
       "      <td>30760</td>\n",
       "    </tr>\n",
       "    <tr>\n",
       "      <th>16</th>\n",
       "      <td>0</td>\n",
       "      <td>?</td>\n",
       "      <td>bmw</td>\n",
       "      <td>gas</td>\n",
       "      <td>std</td>\n",
       "      <td>two</td>\n",
       "      <td>sedan</td>\n",
       "      <td>rwd</td>\n",
       "      <td>front</td>\n",
       "      <td>103.5</td>\n",
       "      <td>...</td>\n",
       "      <td>209</td>\n",
       "      <td>mpfi</td>\n",
       "      <td>3.62</td>\n",
       "      <td>3.39</td>\n",
       "      <td>8.0</td>\n",
       "      <td>182</td>\n",
       "      <td>5400</td>\n",
       "      <td>16</td>\n",
       "      <td>22</td>\n",
       "      <td>41315</td>\n",
       "    </tr>\n",
       "    <tr>\n",
       "      <th>17</th>\n",
       "      <td>0</td>\n",
       "      <td>?</td>\n",
       "      <td>bmw</td>\n",
       "      <td>gas</td>\n",
       "      <td>std</td>\n",
       "      <td>four</td>\n",
       "      <td>sedan</td>\n",
       "      <td>rwd</td>\n",
       "      <td>front</td>\n",
       "      <td>110.0</td>\n",
       "      <td>...</td>\n",
       "      <td>209</td>\n",
       "      <td>mpfi</td>\n",
       "      <td>3.62</td>\n",
       "      <td>3.39</td>\n",
       "      <td>8.0</td>\n",
       "      <td>182</td>\n",
       "      <td>5400</td>\n",
       "      <td>15</td>\n",
       "      <td>20</td>\n",
       "      <td>36880</td>\n",
       "    </tr>\n",
       "    <tr>\n",
       "      <th>18</th>\n",
       "      <td>2</td>\n",
       "      <td>121</td>\n",
       "      <td>chevrolet</td>\n",
       "      <td>gas</td>\n",
       "      <td>std</td>\n",
       "      <td>two</td>\n",
       "      <td>hatchback</td>\n",
       "      <td>fwd</td>\n",
       "      <td>front</td>\n",
       "      <td>88.4</td>\n",
       "      <td>...</td>\n",
       "      <td>61</td>\n",
       "      <td>2bbl</td>\n",
       "      <td>2.91</td>\n",
       "      <td>3.03</td>\n",
       "      <td>9.5</td>\n",
       "      <td>48</td>\n",
       "      <td>5100</td>\n",
       "      <td>47</td>\n",
       "      <td>53</td>\n",
       "      <td>5151</td>\n",
       "    </tr>\n",
       "    <tr>\n",
       "      <th>19</th>\n",
       "      <td>1</td>\n",
       "      <td>98</td>\n",
       "      <td>chevrolet</td>\n",
       "      <td>gas</td>\n",
       "      <td>std</td>\n",
       "      <td>two</td>\n",
       "      <td>hatchback</td>\n",
       "      <td>fwd</td>\n",
       "      <td>front</td>\n",
       "      <td>94.5</td>\n",
       "      <td>...</td>\n",
       "      <td>90</td>\n",
       "      <td>2bbl</td>\n",
       "      <td>3.03</td>\n",
       "      <td>3.11</td>\n",
       "      <td>9.6</td>\n",
       "      <td>70</td>\n",
       "      <td>5400</td>\n",
       "      <td>38</td>\n",
       "      <td>43</td>\n",
       "      <td>6295</td>\n",
       "    </tr>\n",
       "  </tbody>\n",
       "</table>\n",
       "<p>20 rows × 26 columns</p>\n",
       "</div>"
      ],
      "text/plain": [
       "    symboling normalized-losses         make fuel-type aspiration  \\\n",
       "0           3                 ?  alfa-romero       gas        std   \n",
       "1           3                 ?  alfa-romero       gas        std   \n",
       "2           1                 ?  alfa-romero       gas        std   \n",
       "3           2               164         audi       gas        std   \n",
       "4           2               164         audi       gas        std   \n",
       "5           2                 ?         audi       gas        std   \n",
       "6           1               158         audi       gas        std   \n",
       "7           1                 ?         audi       gas        std   \n",
       "8           1               158         audi       gas      turbo   \n",
       "9           0                 ?         audi       gas      turbo   \n",
       "10          2               192          bmw       gas        std   \n",
       "11          0               192          bmw       gas        std   \n",
       "12          0               188          bmw       gas        std   \n",
       "13          0               188          bmw       gas        std   \n",
       "14          1                 ?          bmw       gas        std   \n",
       "15          0                 ?          bmw       gas        std   \n",
       "16          0                 ?          bmw       gas        std   \n",
       "17          0                 ?          bmw       gas        std   \n",
       "18          2               121    chevrolet       gas        std   \n",
       "19          1                98    chevrolet       gas        std   \n",
       "\n",
       "   num-of-doors   body-style drive-wheels engine-location  wheel-base  ...  \\\n",
       "0           two  convertible          rwd           front        88.6  ...   \n",
       "1           two  convertible          rwd           front        88.6  ...   \n",
       "2           two    hatchback          rwd           front        94.5  ...   \n",
       "3          four        sedan          fwd           front        99.8  ...   \n",
       "4          four        sedan          4wd           front        99.4  ...   \n",
       "5           two        sedan          fwd           front        99.8  ...   \n",
       "6          four        sedan          fwd           front       105.8  ...   \n",
       "7          four        wagon          fwd           front       105.8  ...   \n",
       "8          four        sedan          fwd           front       105.8  ...   \n",
       "9           two    hatchback          4wd           front        99.5  ...   \n",
       "10          two        sedan          rwd           front       101.2  ...   \n",
       "11         four        sedan          rwd           front       101.2  ...   \n",
       "12          two        sedan          rwd           front       101.2  ...   \n",
       "13         four        sedan          rwd           front       101.2  ...   \n",
       "14         four        sedan          rwd           front       103.5  ...   \n",
       "15         four        sedan          rwd           front       103.5  ...   \n",
       "16          two        sedan          rwd           front       103.5  ...   \n",
       "17         four        sedan          rwd           front       110.0  ...   \n",
       "18          two    hatchback          fwd           front        88.4  ...   \n",
       "19          two    hatchback          fwd           front        94.5  ...   \n",
       "\n",
       "    engine-size  fuel-system  bore  stroke compression-ratio horsepower  \\\n",
       "0           130         mpfi  3.47    2.68               9.0        111   \n",
       "1           130         mpfi  3.47    2.68               9.0        111   \n",
       "2           152         mpfi  2.68    3.47               9.0        154   \n",
       "3           109         mpfi  3.19    3.40              10.0        102   \n",
       "4           136         mpfi  3.19    3.40               8.0        115   \n",
       "5           136         mpfi  3.19    3.40               8.5        110   \n",
       "6           136         mpfi  3.19    3.40               8.5        110   \n",
       "7           136         mpfi  3.19    3.40               8.5        110   \n",
       "8           131         mpfi  3.13    3.40               8.3        140   \n",
       "9           131         mpfi  3.13    3.40               7.0        160   \n",
       "10          108         mpfi  3.50    2.80               8.8        101   \n",
       "11          108         mpfi  3.50    2.80               8.8        101   \n",
       "12          164         mpfi  3.31    3.19               9.0        121   \n",
       "13          164         mpfi  3.31    3.19               9.0        121   \n",
       "14          164         mpfi  3.31    3.19               9.0        121   \n",
       "15          209         mpfi  3.62    3.39               8.0        182   \n",
       "16          209         mpfi  3.62    3.39               8.0        182   \n",
       "17          209         mpfi  3.62    3.39               8.0        182   \n",
       "18           61         2bbl  2.91    3.03               9.5         48   \n",
       "19           90         2bbl  3.03    3.11               9.6         70   \n",
       "\n",
       "    peak-rpm city-mpg highway-mpg  price  \n",
       "0       5000       21          27  13495  \n",
       "1       5000       21          27  16500  \n",
       "2       5000       19          26  16500  \n",
       "3       5500       24          30  13950  \n",
       "4       5500       18          22  17450  \n",
       "5       5500       19          25  15250  \n",
       "6       5500       19          25  17710  \n",
       "7       5500       19          25  18920  \n",
       "8       5500       17          20  23875  \n",
       "9       5500       16          22      ?  \n",
       "10      5800       23          29  16430  \n",
       "11      5800       23          29  16925  \n",
       "12      4250       21          28  20970  \n",
       "13      4250       21          28  21105  \n",
       "14      4250       20          25  24565  \n",
       "15      5400       16          22  30760  \n",
       "16      5400       16          22  41315  \n",
       "17      5400       15          20  36880  \n",
       "18      5100       47          53   5151  \n",
       "19      5400       38          43   6295  \n",
       "\n",
       "[20 rows x 26 columns]"
      ]
     },
     "execution_count": 8,
     "metadata": {},
     "output_type": "execute_result"
    }
   ],
   "source": [
    "df.columns = headers\n",
    "df.head(20)"
   ]
  },
  {
   "cell_type": "markdown",
   "metadata": {
    "application/vnd.databricks.v1+cell": {
     "inputWidgets": {},
     "nuid": "ce4b5105-fdf1-4f98-8aa1-5fb76d8f49bb",
     "showTitle": false,
     "title": ""
    }
   },
   "source": [
    "<h5>Acceder a una columna y ver sus valores</h5>"
   ]
  },
  {
   "cell_type": "markdown",
   "metadata": {
    "application/vnd.databricks.v1+cell": {
     "inputWidgets": {},
     "nuid": "3b0aa59d-6ce8-46f7-b465-adb19080c38d",
     "showTitle": false,
     "title": ""
    }
   },
   "source": [
    "Se accede a una columna especificando el nombre de la misma. Por ejemplo, puedes acceder a la columna <b>symboling</b> y a la columna <b>body-style</b>. Cada una de estas columnas es una serie de Pandas."
   ]
  },
  {
   "cell_type": "code",
   "execution_count": 9,
   "metadata": {
    "application/vnd.databricks.v1+cell": {
     "inputWidgets": {},
     "nuid": "49690389-71b1-4786-94c3-d3c433d62c37",
     "showTitle": false,
     "title": ""
    }
   },
   "outputs": [
    {
     "data": {
      "text/html": [
       "<div>\n",
       "<style scoped>\n",
       "    .dataframe tbody tr th:only-of-type {\n",
       "        vertical-align: middle;\n",
       "    }\n",
       "\n",
       "    .dataframe tbody tr th {\n",
       "        vertical-align: top;\n",
       "    }\n",
       "\n",
       "    .dataframe thead th {\n",
       "        text-align: right;\n",
       "    }\n",
       "</style>\n",
       "<table border=\"1\" class=\"dataframe\">\n",
       "  <thead>\n",
       "    <tr style=\"text-align: right;\">\n",
       "      <th></th>\n",
       "      <th>symboling</th>\n",
       "    </tr>\n",
       "  </thead>\n",
       "  <tbody>\n",
       "    <tr>\n",
       "      <th>0</th>\n",
       "      <td>3</td>\n",
       "    </tr>\n",
       "    <tr>\n",
       "      <th>1</th>\n",
       "      <td>3</td>\n",
       "    </tr>\n",
       "    <tr>\n",
       "      <th>2</th>\n",
       "      <td>1</td>\n",
       "    </tr>\n",
       "    <tr>\n",
       "      <th>3</th>\n",
       "      <td>2</td>\n",
       "    </tr>\n",
       "    <tr>\n",
       "      <th>4</th>\n",
       "      <td>2</td>\n",
       "    </tr>\n",
       "    <tr>\n",
       "      <th>...</th>\n",
       "      <td>...</td>\n",
       "    </tr>\n",
       "    <tr>\n",
       "      <th>200</th>\n",
       "      <td>-1</td>\n",
       "    </tr>\n",
       "    <tr>\n",
       "      <th>201</th>\n",
       "      <td>-1</td>\n",
       "    </tr>\n",
       "    <tr>\n",
       "      <th>202</th>\n",
       "      <td>-1</td>\n",
       "    </tr>\n",
       "    <tr>\n",
       "      <th>203</th>\n",
       "      <td>-1</td>\n",
       "    </tr>\n",
       "    <tr>\n",
       "      <th>204</th>\n",
       "      <td>-1</td>\n",
       "    </tr>\n",
       "  </tbody>\n",
       "</table>\n",
       "<p>205 rows × 1 columns</p>\n",
       "</div>"
      ],
      "text/plain": [
       "     symboling\n",
       "0            3\n",
       "1            3\n",
       "2            1\n",
       "3            2\n",
       "4            2\n",
       "..         ...\n",
       "200         -1\n",
       "201         -1\n",
       "202         -1\n",
       "203         -1\n",
       "204         -1\n",
       "\n",
       "[205 rows x 1 columns]"
      ]
     },
     "execution_count": 9,
     "metadata": {},
     "output_type": "execute_result"
    }
   ],
   "source": [
    "x=df[[\"symboling\"]]\n",
    "x"
   ]
  },
  {
   "cell_type": "code",
   "execution_count": 10,
   "metadata": {
    "application/vnd.databricks.v1+cell": {
     "inputWidgets": {},
     "nuid": "49bcc928-93de-46a2-b7df-a6fac68eab92",
     "showTitle": false,
     "title": ""
    }
   },
   "outputs": [
    {
     "data": {
      "text/plain": [
       "0      convertible\n",
       "1      convertible\n",
       "2        hatchback\n",
       "3            sedan\n",
       "4            sedan\n",
       "          ...     \n",
       "200          sedan\n",
       "201          sedan\n",
       "202          sedan\n",
       "203          sedan\n",
       "204          sedan\n",
       "Name: body-style, Length: 205, dtype: object"
      ]
     },
     "execution_count": 10,
     "metadata": {},
     "output_type": "execute_result"
    }
   ],
   "source": [
    "y=df[\"body-style\"]\n",
    "y"
   ]
  },
  {
   "cell_type": "markdown",
   "metadata": {
    "application/vnd.databricks.v1+cell": {
     "inputWidgets": {},
     "nuid": "b1b1128e-3b4b-47e9-93cf-44aa82bb9940",
     "showTitle": false,
     "title": ""
    }
   },
   "source": [
    "<h5 id=\"func\">Visualizar la tabla de datos</h5>"
   ]
  },
  {
   "cell_type": "markdown",
   "metadata": {
    "application/vnd.databricks.v1+cell": {
     "inputWidgets": {},
     "nuid": "0c5b7f74-33bf-4aff-af47-884f5f5506d2",
     "showTitle": false,
     "title": ""
    }
   },
   "source": [
    "Podemos utilizar la funcion <code>display()</code> para visualizar la Tabla y graficar los atributos:"
   ]
  },
  {
   "cell_type": "code",
   "execution_count": 11,
   "metadata": {
    "application/vnd.databricks.v1+cell": {
     "inputWidgets": {},
     "nuid": "bb1a8350-d065-4a0c-919c-c10530c4ef39",
     "showTitle": false,
     "title": ""
    }
   },
   "outputs": [
    {
     "data": {
      "text/html": [
       "<div>\n",
       "<style scoped>\n",
       "    .dataframe tbody tr th:only-of-type {\n",
       "        vertical-align: middle;\n",
       "    }\n",
       "\n",
       "    .dataframe tbody tr th {\n",
       "        vertical-align: top;\n",
       "    }\n",
       "\n",
       "    .dataframe thead th {\n",
       "        text-align: right;\n",
       "    }\n",
       "</style>\n",
       "<table border=\"1\" class=\"dataframe\">\n",
       "  <thead>\n",
       "    <tr style=\"text-align: right;\">\n",
       "      <th></th>\n",
       "      <th>symboling</th>\n",
       "      <th>normalized-losses</th>\n",
       "      <th>make</th>\n",
       "      <th>fuel-type</th>\n",
       "      <th>aspiration</th>\n",
       "      <th>num-of-doors</th>\n",
       "      <th>body-style</th>\n",
       "      <th>drive-wheels</th>\n",
       "      <th>engine-location</th>\n",
       "      <th>wheel-base</th>\n",
       "      <th>...</th>\n",
       "      <th>engine-size</th>\n",
       "      <th>fuel-system</th>\n",
       "      <th>bore</th>\n",
       "      <th>stroke</th>\n",
       "      <th>compression-ratio</th>\n",
       "      <th>horsepower</th>\n",
       "      <th>peak-rpm</th>\n",
       "      <th>city-mpg</th>\n",
       "      <th>highway-mpg</th>\n",
       "      <th>price</th>\n",
       "    </tr>\n",
       "  </thead>\n",
       "  <tbody>\n",
       "    <tr>\n",
       "      <th>0</th>\n",
       "      <td>3</td>\n",
       "      <td>?</td>\n",
       "      <td>alfa-romero</td>\n",
       "      <td>gas</td>\n",
       "      <td>std</td>\n",
       "      <td>two</td>\n",
       "      <td>convertible</td>\n",
       "      <td>rwd</td>\n",
       "      <td>front</td>\n",
       "      <td>88.6</td>\n",
       "      <td>...</td>\n",
       "      <td>130</td>\n",
       "      <td>mpfi</td>\n",
       "      <td>3.47</td>\n",
       "      <td>2.68</td>\n",
       "      <td>9.0</td>\n",
       "      <td>111</td>\n",
       "      <td>5000</td>\n",
       "      <td>21</td>\n",
       "      <td>27</td>\n",
       "      <td>13495</td>\n",
       "    </tr>\n",
       "    <tr>\n",
       "      <th>1</th>\n",
       "      <td>3</td>\n",
       "      <td>?</td>\n",
       "      <td>alfa-romero</td>\n",
       "      <td>gas</td>\n",
       "      <td>std</td>\n",
       "      <td>two</td>\n",
       "      <td>convertible</td>\n",
       "      <td>rwd</td>\n",
       "      <td>front</td>\n",
       "      <td>88.6</td>\n",
       "      <td>...</td>\n",
       "      <td>130</td>\n",
       "      <td>mpfi</td>\n",
       "      <td>3.47</td>\n",
       "      <td>2.68</td>\n",
       "      <td>9.0</td>\n",
       "      <td>111</td>\n",
       "      <td>5000</td>\n",
       "      <td>21</td>\n",
       "      <td>27</td>\n",
       "      <td>16500</td>\n",
       "    </tr>\n",
       "    <tr>\n",
       "      <th>2</th>\n",
       "      <td>1</td>\n",
       "      <td>?</td>\n",
       "      <td>alfa-romero</td>\n",
       "      <td>gas</td>\n",
       "      <td>std</td>\n",
       "      <td>two</td>\n",
       "      <td>hatchback</td>\n",
       "      <td>rwd</td>\n",
       "      <td>front</td>\n",
       "      <td>94.5</td>\n",
       "      <td>...</td>\n",
       "      <td>152</td>\n",
       "      <td>mpfi</td>\n",
       "      <td>2.68</td>\n",
       "      <td>3.47</td>\n",
       "      <td>9.0</td>\n",
       "      <td>154</td>\n",
       "      <td>5000</td>\n",
       "      <td>19</td>\n",
       "      <td>26</td>\n",
       "      <td>16500</td>\n",
       "    </tr>\n",
       "    <tr>\n",
       "      <th>3</th>\n",
       "      <td>2</td>\n",
       "      <td>164</td>\n",
       "      <td>audi</td>\n",
       "      <td>gas</td>\n",
       "      <td>std</td>\n",
       "      <td>four</td>\n",
       "      <td>sedan</td>\n",
       "      <td>fwd</td>\n",
       "      <td>front</td>\n",
       "      <td>99.8</td>\n",
       "      <td>...</td>\n",
       "      <td>109</td>\n",
       "      <td>mpfi</td>\n",
       "      <td>3.19</td>\n",
       "      <td>3.40</td>\n",
       "      <td>10.0</td>\n",
       "      <td>102</td>\n",
       "      <td>5500</td>\n",
       "      <td>24</td>\n",
       "      <td>30</td>\n",
       "      <td>13950</td>\n",
       "    </tr>\n",
       "    <tr>\n",
       "      <th>4</th>\n",
       "      <td>2</td>\n",
       "      <td>164</td>\n",
       "      <td>audi</td>\n",
       "      <td>gas</td>\n",
       "      <td>std</td>\n",
       "      <td>four</td>\n",
       "      <td>sedan</td>\n",
       "      <td>4wd</td>\n",
       "      <td>front</td>\n",
       "      <td>99.4</td>\n",
       "      <td>...</td>\n",
       "      <td>136</td>\n",
       "      <td>mpfi</td>\n",
       "      <td>3.19</td>\n",
       "      <td>3.40</td>\n",
       "      <td>8.0</td>\n",
       "      <td>115</td>\n",
       "      <td>5500</td>\n",
       "      <td>18</td>\n",
       "      <td>22</td>\n",
       "      <td>17450</td>\n",
       "    </tr>\n",
       "    <tr>\n",
       "      <th>...</th>\n",
       "      <td>...</td>\n",
       "      <td>...</td>\n",
       "      <td>...</td>\n",
       "      <td>...</td>\n",
       "      <td>...</td>\n",
       "      <td>...</td>\n",
       "      <td>...</td>\n",
       "      <td>...</td>\n",
       "      <td>...</td>\n",
       "      <td>...</td>\n",
       "      <td>...</td>\n",
       "      <td>...</td>\n",
       "      <td>...</td>\n",
       "      <td>...</td>\n",
       "      <td>...</td>\n",
       "      <td>...</td>\n",
       "      <td>...</td>\n",
       "      <td>...</td>\n",
       "      <td>...</td>\n",
       "      <td>...</td>\n",
       "      <td>...</td>\n",
       "    </tr>\n",
       "    <tr>\n",
       "      <th>200</th>\n",
       "      <td>-1</td>\n",
       "      <td>95</td>\n",
       "      <td>volvo</td>\n",
       "      <td>gas</td>\n",
       "      <td>std</td>\n",
       "      <td>four</td>\n",
       "      <td>sedan</td>\n",
       "      <td>rwd</td>\n",
       "      <td>front</td>\n",
       "      <td>109.1</td>\n",
       "      <td>...</td>\n",
       "      <td>141</td>\n",
       "      <td>mpfi</td>\n",
       "      <td>3.78</td>\n",
       "      <td>3.15</td>\n",
       "      <td>9.5</td>\n",
       "      <td>114</td>\n",
       "      <td>5400</td>\n",
       "      <td>23</td>\n",
       "      <td>28</td>\n",
       "      <td>16845</td>\n",
       "    </tr>\n",
       "    <tr>\n",
       "      <th>201</th>\n",
       "      <td>-1</td>\n",
       "      <td>95</td>\n",
       "      <td>volvo</td>\n",
       "      <td>gas</td>\n",
       "      <td>turbo</td>\n",
       "      <td>four</td>\n",
       "      <td>sedan</td>\n",
       "      <td>rwd</td>\n",
       "      <td>front</td>\n",
       "      <td>109.1</td>\n",
       "      <td>...</td>\n",
       "      <td>141</td>\n",
       "      <td>mpfi</td>\n",
       "      <td>3.78</td>\n",
       "      <td>3.15</td>\n",
       "      <td>8.7</td>\n",
       "      <td>160</td>\n",
       "      <td>5300</td>\n",
       "      <td>19</td>\n",
       "      <td>25</td>\n",
       "      <td>19045</td>\n",
       "    </tr>\n",
       "    <tr>\n",
       "      <th>202</th>\n",
       "      <td>-1</td>\n",
       "      <td>95</td>\n",
       "      <td>volvo</td>\n",
       "      <td>gas</td>\n",
       "      <td>std</td>\n",
       "      <td>four</td>\n",
       "      <td>sedan</td>\n",
       "      <td>rwd</td>\n",
       "      <td>front</td>\n",
       "      <td>109.1</td>\n",
       "      <td>...</td>\n",
       "      <td>173</td>\n",
       "      <td>mpfi</td>\n",
       "      <td>3.58</td>\n",
       "      <td>2.87</td>\n",
       "      <td>8.8</td>\n",
       "      <td>134</td>\n",
       "      <td>5500</td>\n",
       "      <td>18</td>\n",
       "      <td>23</td>\n",
       "      <td>21485</td>\n",
       "    </tr>\n",
       "    <tr>\n",
       "      <th>203</th>\n",
       "      <td>-1</td>\n",
       "      <td>95</td>\n",
       "      <td>volvo</td>\n",
       "      <td>diesel</td>\n",
       "      <td>turbo</td>\n",
       "      <td>four</td>\n",
       "      <td>sedan</td>\n",
       "      <td>rwd</td>\n",
       "      <td>front</td>\n",
       "      <td>109.1</td>\n",
       "      <td>...</td>\n",
       "      <td>145</td>\n",
       "      <td>idi</td>\n",
       "      <td>3.01</td>\n",
       "      <td>3.40</td>\n",
       "      <td>23.0</td>\n",
       "      <td>106</td>\n",
       "      <td>4800</td>\n",
       "      <td>26</td>\n",
       "      <td>27</td>\n",
       "      <td>22470</td>\n",
       "    </tr>\n",
       "    <tr>\n",
       "      <th>204</th>\n",
       "      <td>-1</td>\n",
       "      <td>95</td>\n",
       "      <td>volvo</td>\n",
       "      <td>gas</td>\n",
       "      <td>turbo</td>\n",
       "      <td>four</td>\n",
       "      <td>sedan</td>\n",
       "      <td>rwd</td>\n",
       "      <td>front</td>\n",
       "      <td>109.1</td>\n",
       "      <td>...</td>\n",
       "      <td>141</td>\n",
       "      <td>mpfi</td>\n",
       "      <td>3.78</td>\n",
       "      <td>3.15</td>\n",
       "      <td>9.5</td>\n",
       "      <td>114</td>\n",
       "      <td>5400</td>\n",
       "      <td>19</td>\n",
       "      <td>25</td>\n",
       "      <td>22625</td>\n",
       "    </tr>\n",
       "  </tbody>\n",
       "</table>\n",
       "<p>205 rows × 26 columns</p>\n",
       "</div>"
      ],
      "text/plain": [
       "     symboling normalized-losses         make fuel-type aspiration  \\\n",
       "0            3                 ?  alfa-romero       gas        std   \n",
       "1            3                 ?  alfa-romero       gas        std   \n",
       "2            1                 ?  alfa-romero       gas        std   \n",
       "3            2               164         audi       gas        std   \n",
       "4            2               164         audi       gas        std   \n",
       "..         ...               ...          ...       ...        ...   \n",
       "200         -1                95        volvo       gas        std   \n",
       "201         -1                95        volvo       gas      turbo   \n",
       "202         -1                95        volvo       gas        std   \n",
       "203         -1                95        volvo    diesel      turbo   \n",
       "204         -1                95        volvo       gas      turbo   \n",
       "\n",
       "    num-of-doors   body-style drive-wheels engine-location  wheel-base  ...  \\\n",
       "0            two  convertible          rwd           front        88.6  ...   \n",
       "1            two  convertible          rwd           front        88.6  ...   \n",
       "2            two    hatchback          rwd           front        94.5  ...   \n",
       "3           four        sedan          fwd           front        99.8  ...   \n",
       "4           four        sedan          4wd           front        99.4  ...   \n",
       "..           ...          ...          ...             ...         ...  ...   \n",
       "200         four        sedan          rwd           front       109.1  ...   \n",
       "201         four        sedan          rwd           front       109.1  ...   \n",
       "202         four        sedan          rwd           front       109.1  ...   \n",
       "203         four        sedan          rwd           front       109.1  ...   \n",
       "204         four        sedan          rwd           front       109.1  ...   \n",
       "\n",
       "     engine-size  fuel-system  bore  stroke compression-ratio horsepower  \\\n",
       "0            130         mpfi  3.47    2.68               9.0        111   \n",
       "1            130         mpfi  3.47    2.68               9.0        111   \n",
       "2            152         mpfi  2.68    3.47               9.0        154   \n",
       "3            109         mpfi  3.19    3.40              10.0        102   \n",
       "4            136         mpfi  3.19    3.40               8.0        115   \n",
       "..           ...          ...   ...     ...               ...        ...   \n",
       "200          141         mpfi  3.78    3.15               9.5        114   \n",
       "201          141         mpfi  3.78    3.15               8.7        160   \n",
       "202          173         mpfi  3.58    2.87               8.8        134   \n",
       "203          145          idi  3.01    3.40              23.0        106   \n",
       "204          141         mpfi  3.78    3.15               9.5        114   \n",
       "\n",
       "     peak-rpm city-mpg highway-mpg  price  \n",
       "0        5000       21          27  13495  \n",
       "1        5000       21          27  16500  \n",
       "2        5000       19          26  16500  \n",
       "3        5500       24          30  13950  \n",
       "4        5500       18          22  17450  \n",
       "..        ...      ...         ...    ...  \n",
       "200      5400       23          28  16845  \n",
       "201      5300       19          25  19045  \n",
       "202      5500       18          23  21485  \n",
       "203      4800       26          27  22470  \n",
       "204      5400       19          25  22625  \n",
       "\n",
       "[205 rows x 26 columns]"
      ]
     },
     "metadata": {},
     "output_type": "display_data"
    }
   ],
   "source": [
    "# Muestra la tabla completa\n",
    "display(df)"
   ]
  },
  {
   "cell_type": "markdown",
   "metadata": {
    "application/vnd.databricks.v1+cell": {
     "inputWidgets": {},
     "nuid": "9ce90d20-6710-4468-99e7-aadbcee47db2",
     "showTitle": false,
     "title": ""
    }
   },
   "source": [
    "<h3>Tipos de datos</h3>"
   ]
  },
  {
   "cell_type": "markdown",
   "metadata": {
    "application/vnd.databricks.v1+cell": {
     "inputWidgets": {},
     "nuid": "128c96a5-faff-4d3b-be88-0609612e7538",
     "showTitle": false,
     "title": ""
    }
   },
   "source": [
    "<p>\n",
    "Los datos se encuentran en una variedad de tipos.<br>\n",
    "Los tipos principales almacenados en dataframes de Pandas son <b>object</b>, <b>float</b>, <b>int</b>, <b>bool</b> y <b>datetime64</b>. Para aprender mejor acerca de cada atributo es mejor para nosotros saber el tipo de dato de cada columna.\n",
    "</p>"
   ]
  },
  {
   "cell_type": "code",
   "execution_count": 12,
   "metadata": {
    "application/vnd.databricks.v1+cell": {
     "inputWidgets": {},
     "nuid": "972633b3-e218-4f83-92e0-46fe7e5c0784",
     "showTitle": false,
     "title": ""
    }
   },
   "outputs": [
    {
     "data": {
      "text/plain": [
       "symboling              int64\n",
       "normalized-losses     object\n",
       "make                  object\n",
       "fuel-type             object\n",
       "aspiration            object\n",
       "num-of-doors          object\n",
       "body-style            object\n",
       "drive-wheels          object\n",
       "engine-location       object\n",
       "wheel-base           float64\n",
       "length               float64\n",
       "width                float64\n",
       "height               float64\n",
       "curb-weight            int64\n",
       "engine-type           object\n",
       "num-of-cylinders      object\n",
       "engine-size            int64\n",
       "fuel-system           object\n",
       "bore                  object\n",
       "stroke                object\n",
       "compression-ratio    float64\n",
       "horsepower            object\n",
       "peak-rpm              object\n",
       "city-mpg               int64\n",
       "highway-mpg            int64\n",
       "price                 object\n",
       "dtype: object"
      ]
     },
     "execution_count": 12,
     "metadata": {},
     "output_type": "execute_result"
    }
   ],
   "source": [
    "#La función dtypes genera una tabla con el tipo de dato de cada columna\n",
    "df.dtypes"
   ]
  },
  {
   "cell_type": "markdown",
   "metadata": {
    "application/vnd.databricks.v1+cell": {
     "inputWidgets": {},
     "nuid": "a206dfaa-75dc-4897-a377-db673776038a",
     "showTitle": false,
     "title": ""
    }
   },
   "source": [
    "<h5>Tipo de dato de una columna específica</h5>"
   ]
  },
  {
   "cell_type": "markdown",
   "metadata": {
    "application/vnd.databricks.v1+cell": {
     "inputWidgets": {},
     "nuid": "35b07016-eba8-4e2c-b149-119c859a3a80",
     "showTitle": false,
     "title": ""
    }
   },
   "source": [
    "De esta forma podemos consultar cuál es el tipo de dato de una columna específica:"
   ]
  },
  {
   "cell_type": "code",
   "execution_count": 13,
   "metadata": {
    "application/vnd.databricks.v1+cell": {
     "inputWidgets": {},
     "nuid": "39bfe1ca-2547-444e-87cb-5b2a2982f9a5",
     "showTitle": false,
     "title": ""
    }
   },
   "outputs": [
    {
     "data": {
      "text/plain": [
       "engine-size    int64\n",
       "dtype: object"
      ]
     },
     "execution_count": 13,
     "metadata": {},
     "output_type": "execute_result"
    }
   ],
   "source": [
    "#Separamos la columna en una dataframe llamado df_column\n",
    "df_column=df[['engine-size']]\n",
    "df_column.dtypes"
   ]
  },
  {
   "cell_type": "markdown",
   "metadata": {
    "application/vnd.databricks.v1+cell": {
     "inputWidgets": {},
     "nuid": "aa8d4e98-4087-4305-8eb8-a15faeea631c",
     "showTitle": false,
     "title": ""
    }
   },
   "source": [
    "<h5>Cambiar el tipo de dato de una columna específica</h5>"
   ]
  },
  {
   "cell_type": "markdown",
   "metadata": {
    "application/vnd.databricks.v1+cell": {
     "inputWidgets": {},
     "nuid": "f2dcdb31-ea0c-4439-8fba-761c4897c66b",
     "showTitle": false,
     "title": ""
    }
   },
   "source": [
    "¿Cómo cambiar el tipo de dato de una columna específica? Cambiemos el tipo de datos de la columna <b>Price</b> que fue identificado como <b>object</b> y es un <b>float</b>."
   ]
  },
  {
   "cell_type": "code",
   "execution_count": 14,
   "metadata": {
    "application/vnd.databricks.v1+cell": {
     "inputWidgets": {},
     "nuid": "e8d1d695-ba67-4596-8d56-d58abfbb31a3",
     "showTitle": false,
     "title": ""
    }
   },
   "outputs": [
    {
     "data": {
      "text/plain": [
       "symboling              int64\n",
       "normalized-losses     object\n",
       "make                  object\n",
       "fuel-type             object\n",
       "aspiration            object\n",
       "num-of-doors          object\n",
       "body-style            object\n",
       "drive-wheels          object\n",
       "engine-location       object\n",
       "wheel-base           float64\n",
       "length               float64\n",
       "width                float64\n",
       "height               float64\n",
       "curb-weight            int64\n",
       "engine-type           object\n",
       "num-of-cylinders      object\n",
       "engine-size            int64\n",
       "fuel-system           object\n",
       "bore                  object\n",
       "stroke                object\n",
       "compression-ratio    float64\n",
       "horsepower            object\n",
       "peak-rpm              object\n",
       "city-mpg               int64\n",
       "highway-mpg            int64\n",
       "price                float64\n",
       "dtype: object"
      ]
     },
     "execution_count": 14,
     "metadata": {},
     "output_type": "execute_result"
    }
   ],
   "source": [
    "#utilizamos errors='coerce' para ignorar los datos faltantes\n",
    "df[\"price\"] = pd.to_numeric(df[\"price\"],errors='coerce')\n",
    "df.dtypes"
   ]
  },
  {
   "cell_type": "markdown",
   "metadata": {
    "application/vnd.databricks.v1+cell": {
     "inputWidgets": {},
     "nuid": "6a87f46f-a227-4f5c-afde-1ec103973cdc",
     "showTitle": false,
     "title": ""
    }
   },
   "source": [
    "Como se muestra, se observa claramente que el tipo de dato de <b>symboling</b> y <b>curb-weight</b> es <code>int64</code>, <b>normalized-losses</b> es <code>object</code> pero debería ser de tipo numérico, al igual que <b>bore</b>, etc. Estos tipos de datos pueden modificarse."
   ]
  },
  {
   "cell_type": "markdown",
   "metadata": {
    "application/vnd.databricks.v1+cell": {
     "inputWidgets": {},
     "nuid": "4bda4c99-a935-4cf7-89aa-a7e974e5afb7",
     "showTitle": false,
     "title": ""
    }
   },
   "source": [
    "<div class=\"alert alert-success alertsuccess\" style=\"margin-top: 20px\">\n",
    "   <strong>AHORA TÚ: </strong>  \n",
    "  <p>\n",
    "Cambia el tipo de datos de la columna \"stroke\":\n",
    "</p>\n",
    "</div>"
   ]
  },
  {
   "cell_type": "code",
   "execution_count": 15,
   "metadata": {
    "application/vnd.databricks.v1+cell": {
     "inputWidgets": {},
     "nuid": "b83b5990-c229-4a43-87e5-fcd3a44f8179",
     "showTitle": false,
     "title": ""
    }
   },
   "outputs": [
    {
     "data": {
      "text/plain": [
       "symboling              int64\n",
       "normalized-losses     object\n",
       "make                  object\n",
       "fuel-type             object\n",
       "aspiration            object\n",
       "num-of-doors          object\n",
       "body-style            object\n",
       "drive-wheels          object\n",
       "engine-location       object\n",
       "wheel-base           float64\n",
       "length               float64\n",
       "width                float64\n",
       "height               float64\n",
       "curb-weight            int64\n",
       "engine-type           object\n",
       "num-of-cylinders      object\n",
       "engine-size            int64\n",
       "fuel-system           object\n",
       "bore                  object\n",
       "stroke               float64\n",
       "compression-ratio    float64\n",
       "horsepower            object\n",
       "peak-rpm              object\n",
       "city-mpg               int64\n",
       "highway-mpg            int64\n",
       "price                float64\n",
       "dtype: object"
      ]
     },
     "execution_count": 15,
     "metadata": {},
     "output_type": "execute_result"
    }
   ],
   "source": [
    "# Escribe tu código aquí y presiona Shift+Enter para ejecutar\n",
    "df['stroke'] = pd.to_numeric(df['stroke'],errors='coerce')\n",
    "df.dtypes"
   ]
  },
  {
   "cell_type": "markdown",
   "metadata": {
    "application/vnd.databricks.v1+cell": {
     "inputWidgets": {},
     "nuid": "1266c092-2f2b-4eab-af41-8977203c5d6c",
     "showTitle": false,
     "title": ""
    }
   },
   "source": [
    "Haz doble clic <b>aquí</b> para ver la solución.\n",
    "\n",
    "<!-- Respuesta::\n",
    "\n",
    "df[\"stroke\"] = pd.to_numeric(df[\"stroke\"],errors='coerce')\n",
    "\n",
    "-->"
   ]
  },
  {
   "cell_type": "markdown",
   "metadata": {
    "application/vnd.databricks.v1+cell": {
     "inputWidgets": {},
     "nuid": "e0afdfce-7738-43b0-adb4-283b5e2638bc",
     "showTitle": false,
     "title": ""
    }
   },
   "source": [
    "<h3>Visualizar las estadísticas</h3>"
   ]
  },
  {
   "cell_type": "markdown",
   "metadata": {
    "application/vnd.databricks.v1+cell": {
     "inputWidgets": {},
     "nuid": "d96e61e0-f2fd-4506-846e-5cd355998f99",
     "showTitle": false,
     "title": ""
    }
   },
   "source": [
    "<p>Vamos a utilizar la función <code>dataframe.describe</code> para visualizar las estadísticas del conjunto de datos. Por defecto, la función <code>dataframe.describe</code> salta las filas y columnas que no contienen números.</p>\n",
    "Esto mostrará:\n",
    "<ul>\n",
    "    <li>el recuento de esa variable</li>\n",
    "    <li>la media</li>\n",
    "    <li>la desviación estándar (std)</li> \n",
    "    <li>el valor mínimo</li>\n",
    "    <li>el IQR (rango intercuartil: 25%, 50% y 75%)</li>\n",
    "    <li>el valor máximo</li>\n",
    "<ul>"
   ]
  },
  {
   "cell_type": "code",
   "execution_count": 16,
   "metadata": {
    "application/vnd.databricks.v1+cell": {
     "inputWidgets": {},
     "nuid": "4485bf74-9776-4bb5-9bd1-744b753a49ce",
     "showTitle": false,
     "title": ""
    }
   },
   "outputs": [
    {
     "data": {
      "text/html": [
       "<div>\n",
       "<style scoped>\n",
       "    .dataframe tbody tr th:only-of-type {\n",
       "        vertical-align: middle;\n",
       "    }\n",
       "\n",
       "    .dataframe tbody tr th {\n",
       "        vertical-align: top;\n",
       "    }\n",
       "\n",
       "    .dataframe thead th {\n",
       "        text-align: right;\n",
       "    }\n",
       "</style>\n",
       "<table border=\"1\" class=\"dataframe\">\n",
       "  <thead>\n",
       "    <tr style=\"text-align: right;\">\n",
       "      <th></th>\n",
       "      <th>symboling</th>\n",
       "      <th>wheel-base</th>\n",
       "      <th>length</th>\n",
       "      <th>width</th>\n",
       "      <th>height</th>\n",
       "      <th>curb-weight</th>\n",
       "      <th>engine-size</th>\n",
       "      <th>stroke</th>\n",
       "      <th>compression-ratio</th>\n",
       "      <th>city-mpg</th>\n",
       "      <th>highway-mpg</th>\n",
       "      <th>price</th>\n",
       "    </tr>\n",
       "  </thead>\n",
       "  <tbody>\n",
       "    <tr>\n",
       "      <th>count</th>\n",
       "      <td>205.000000</td>\n",
       "      <td>205.000000</td>\n",
       "      <td>205.000000</td>\n",
       "      <td>205.000000</td>\n",
       "      <td>205.000000</td>\n",
       "      <td>205.000000</td>\n",
       "      <td>205.000000</td>\n",
       "      <td>201.000000</td>\n",
       "      <td>205.000000</td>\n",
       "      <td>205.000000</td>\n",
       "      <td>205.000000</td>\n",
       "      <td>201.000000</td>\n",
       "    </tr>\n",
       "    <tr>\n",
       "      <th>mean</th>\n",
       "      <td>0.834146</td>\n",
       "      <td>98.756585</td>\n",
       "      <td>174.049268</td>\n",
       "      <td>65.907805</td>\n",
       "      <td>53.724878</td>\n",
       "      <td>2555.565854</td>\n",
       "      <td>126.907317</td>\n",
       "      <td>3.255423</td>\n",
       "      <td>10.142537</td>\n",
       "      <td>25.219512</td>\n",
       "      <td>30.751220</td>\n",
       "      <td>13207.129353</td>\n",
       "    </tr>\n",
       "    <tr>\n",
       "      <th>std</th>\n",
       "      <td>1.245307</td>\n",
       "      <td>6.021776</td>\n",
       "      <td>12.337289</td>\n",
       "      <td>2.145204</td>\n",
       "      <td>2.443522</td>\n",
       "      <td>520.680204</td>\n",
       "      <td>41.642693</td>\n",
       "      <td>0.316717</td>\n",
       "      <td>3.972040</td>\n",
       "      <td>6.542142</td>\n",
       "      <td>6.886443</td>\n",
       "      <td>7947.066342</td>\n",
       "    </tr>\n",
       "    <tr>\n",
       "      <th>min</th>\n",
       "      <td>-2.000000</td>\n",
       "      <td>86.600000</td>\n",
       "      <td>141.100000</td>\n",
       "      <td>60.300000</td>\n",
       "      <td>47.800000</td>\n",
       "      <td>1488.000000</td>\n",
       "      <td>61.000000</td>\n",
       "      <td>2.070000</td>\n",
       "      <td>7.000000</td>\n",
       "      <td>13.000000</td>\n",
       "      <td>16.000000</td>\n",
       "      <td>5118.000000</td>\n",
       "    </tr>\n",
       "    <tr>\n",
       "      <th>25%</th>\n",
       "      <td>0.000000</td>\n",
       "      <td>94.500000</td>\n",
       "      <td>166.300000</td>\n",
       "      <td>64.100000</td>\n",
       "      <td>52.000000</td>\n",
       "      <td>2145.000000</td>\n",
       "      <td>97.000000</td>\n",
       "      <td>3.110000</td>\n",
       "      <td>8.600000</td>\n",
       "      <td>19.000000</td>\n",
       "      <td>25.000000</td>\n",
       "      <td>7775.000000</td>\n",
       "    </tr>\n",
       "    <tr>\n",
       "      <th>50%</th>\n",
       "      <td>1.000000</td>\n",
       "      <td>97.000000</td>\n",
       "      <td>173.200000</td>\n",
       "      <td>65.500000</td>\n",
       "      <td>54.100000</td>\n",
       "      <td>2414.000000</td>\n",
       "      <td>120.000000</td>\n",
       "      <td>3.290000</td>\n",
       "      <td>9.000000</td>\n",
       "      <td>24.000000</td>\n",
       "      <td>30.000000</td>\n",
       "      <td>10295.000000</td>\n",
       "    </tr>\n",
       "    <tr>\n",
       "      <th>75%</th>\n",
       "      <td>2.000000</td>\n",
       "      <td>102.400000</td>\n",
       "      <td>183.100000</td>\n",
       "      <td>66.900000</td>\n",
       "      <td>55.500000</td>\n",
       "      <td>2935.000000</td>\n",
       "      <td>141.000000</td>\n",
       "      <td>3.410000</td>\n",
       "      <td>9.400000</td>\n",
       "      <td>30.000000</td>\n",
       "      <td>34.000000</td>\n",
       "      <td>16500.000000</td>\n",
       "    </tr>\n",
       "    <tr>\n",
       "      <th>max</th>\n",
       "      <td>3.000000</td>\n",
       "      <td>120.900000</td>\n",
       "      <td>208.100000</td>\n",
       "      <td>72.300000</td>\n",
       "      <td>59.800000</td>\n",
       "      <td>4066.000000</td>\n",
       "      <td>326.000000</td>\n",
       "      <td>4.170000</td>\n",
       "      <td>23.000000</td>\n",
       "      <td>49.000000</td>\n",
       "      <td>54.000000</td>\n",
       "      <td>45400.000000</td>\n",
       "    </tr>\n",
       "  </tbody>\n",
       "</table>\n",
       "</div>"
      ],
      "text/plain": [
       "        symboling  wheel-base      length       width      height  \\\n",
       "count  205.000000  205.000000  205.000000  205.000000  205.000000   \n",
       "mean     0.834146   98.756585  174.049268   65.907805   53.724878   \n",
       "std      1.245307    6.021776   12.337289    2.145204    2.443522   \n",
       "min     -2.000000   86.600000  141.100000   60.300000   47.800000   \n",
       "25%      0.000000   94.500000  166.300000   64.100000   52.000000   \n",
       "50%      1.000000   97.000000  173.200000   65.500000   54.100000   \n",
       "75%      2.000000  102.400000  183.100000   66.900000   55.500000   \n",
       "max      3.000000  120.900000  208.100000   72.300000   59.800000   \n",
       "\n",
       "       curb-weight  engine-size      stroke  compression-ratio    city-mpg  \\\n",
       "count   205.000000   205.000000  201.000000         205.000000  205.000000   \n",
       "mean   2555.565854   126.907317    3.255423          10.142537   25.219512   \n",
       "std     520.680204    41.642693    0.316717           3.972040    6.542142   \n",
       "min    1488.000000    61.000000    2.070000           7.000000   13.000000   \n",
       "25%    2145.000000    97.000000    3.110000           8.600000   19.000000   \n",
       "50%    2414.000000   120.000000    3.290000           9.000000   24.000000   \n",
       "75%    2935.000000   141.000000    3.410000           9.400000   30.000000   \n",
       "max    4066.000000   326.000000    4.170000          23.000000   49.000000   \n",
       "\n",
       "       highway-mpg         price  \n",
       "count   205.000000    201.000000  \n",
       "mean     30.751220  13207.129353  \n",
       "std       6.886443   7947.066342  \n",
       "min      16.000000   5118.000000  \n",
       "25%      25.000000   7775.000000  \n",
       "50%      30.000000  10295.000000  \n",
       "75%      34.000000  16500.000000  \n",
       "max      54.000000  45400.000000  "
      ]
     },
     "execution_count": 16,
     "metadata": {},
     "output_type": "execute_result"
    }
   ],
   "source": [
    "df.describe()"
   ]
  },
  {
   "cell_type": "markdown",
   "metadata": {
    "application/vnd.databricks.v1+cell": {
     "inputWidgets": {},
     "nuid": "09b8ec51-bae3-4c68-89e9-76ba0cbecbf2",
     "showTitle": false,
     "title": ""
    }
   },
   "source": [
    "Como la función <code>describe</code> no muestra la mediana, se puede calcular de la siguiente manera:"
   ]
  },
  {
   "cell_type": "code",
   "execution_count": 17,
   "metadata": {
    "application/vnd.databricks.v1+cell": {
     "inputWidgets": {},
     "nuid": "2cd87495-5c42-4331-a674-434005e142b0",
     "showTitle": false,
     "title": ""
    }
   },
   "outputs": [
    {
     "data": {
      "text/plain": [
       "length               173.2\n",
       "compression-ratio      9.0\n",
       "dtype: float64"
      ]
     },
     "execution_count": 17,
     "metadata": {},
     "output_type": "execute_result"
    }
   ],
   "source": [
    "# Muestra la mediana para los atributos \"length\" y \"compression-ratio\"\n",
    "df[['length', 'compression-ratio']].median()"
   ]
  },
  {
   "cell_type": "markdown",
   "metadata": {
    "application/vnd.databricks.v1+cell": {
     "inputWidgets": {},
     "nuid": "5069445c-1380-47b5-abc7-1a137935b264",
     "showTitle": false,
     "title": ""
    }
   },
   "source": [
    "Por defecto la función solo muestra atributos que son numéricos. Es posible hacer que la función <code>describe</code> funcione también para las columnas de tipo object. Para permitir un resumen de todas las columnas, podríamos añadir un argumento <code>include=\"all\"</code> entre los paréntesis de la función <code>describe</code>."
   ]
  },
  {
   "cell_type": "code",
   "execution_count": 18,
   "metadata": {
    "application/vnd.databricks.v1+cell": {
     "inputWidgets": {},
     "nuid": "96ea1a06-e4c0-4a64-83c2-82875e9048eb",
     "showTitle": false,
     "title": ""
    }
   },
   "outputs": [
    {
     "data": {
      "text/html": [
       "<div>\n",
       "<style scoped>\n",
       "    .dataframe tbody tr th:only-of-type {\n",
       "        vertical-align: middle;\n",
       "    }\n",
       "\n",
       "    .dataframe tbody tr th {\n",
       "        vertical-align: top;\n",
       "    }\n",
       "\n",
       "    .dataframe thead th {\n",
       "        text-align: right;\n",
       "    }\n",
       "</style>\n",
       "<table border=\"1\" class=\"dataframe\">\n",
       "  <thead>\n",
       "    <tr style=\"text-align: right;\">\n",
       "      <th></th>\n",
       "      <th>symboling</th>\n",
       "      <th>normalized-losses</th>\n",
       "      <th>make</th>\n",
       "      <th>fuel-type</th>\n",
       "      <th>aspiration</th>\n",
       "      <th>num-of-doors</th>\n",
       "      <th>body-style</th>\n",
       "      <th>drive-wheels</th>\n",
       "      <th>engine-location</th>\n",
       "      <th>wheel-base</th>\n",
       "      <th>...</th>\n",
       "      <th>engine-size</th>\n",
       "      <th>fuel-system</th>\n",
       "      <th>bore</th>\n",
       "      <th>stroke</th>\n",
       "      <th>compression-ratio</th>\n",
       "      <th>horsepower</th>\n",
       "      <th>peak-rpm</th>\n",
       "      <th>city-mpg</th>\n",
       "      <th>highway-mpg</th>\n",
       "      <th>price</th>\n",
       "    </tr>\n",
       "  </thead>\n",
       "  <tbody>\n",
       "    <tr>\n",
       "      <th>count</th>\n",
       "      <td>205.000000</td>\n",
       "      <td>205</td>\n",
       "      <td>205</td>\n",
       "      <td>205</td>\n",
       "      <td>205</td>\n",
       "      <td>205</td>\n",
       "      <td>205</td>\n",
       "      <td>205</td>\n",
       "      <td>205</td>\n",
       "      <td>205.000000</td>\n",
       "      <td>...</td>\n",
       "      <td>205.000000</td>\n",
       "      <td>205</td>\n",
       "      <td>205</td>\n",
       "      <td>201.000000</td>\n",
       "      <td>205.000000</td>\n",
       "      <td>205</td>\n",
       "      <td>205</td>\n",
       "      <td>205.000000</td>\n",
       "      <td>205.000000</td>\n",
       "      <td>201.000000</td>\n",
       "    </tr>\n",
       "    <tr>\n",
       "      <th>unique</th>\n",
       "      <td>NaN</td>\n",
       "      <td>52</td>\n",
       "      <td>22</td>\n",
       "      <td>2</td>\n",
       "      <td>2</td>\n",
       "      <td>3</td>\n",
       "      <td>5</td>\n",
       "      <td>3</td>\n",
       "      <td>2</td>\n",
       "      <td>NaN</td>\n",
       "      <td>...</td>\n",
       "      <td>NaN</td>\n",
       "      <td>8</td>\n",
       "      <td>39</td>\n",
       "      <td>NaN</td>\n",
       "      <td>NaN</td>\n",
       "      <td>60</td>\n",
       "      <td>24</td>\n",
       "      <td>NaN</td>\n",
       "      <td>NaN</td>\n",
       "      <td>NaN</td>\n",
       "    </tr>\n",
       "    <tr>\n",
       "      <th>top</th>\n",
       "      <td>NaN</td>\n",
       "      <td>?</td>\n",
       "      <td>toyota</td>\n",
       "      <td>gas</td>\n",
       "      <td>std</td>\n",
       "      <td>four</td>\n",
       "      <td>sedan</td>\n",
       "      <td>fwd</td>\n",
       "      <td>front</td>\n",
       "      <td>NaN</td>\n",
       "      <td>...</td>\n",
       "      <td>NaN</td>\n",
       "      <td>mpfi</td>\n",
       "      <td>3.62</td>\n",
       "      <td>NaN</td>\n",
       "      <td>NaN</td>\n",
       "      <td>68</td>\n",
       "      <td>5500</td>\n",
       "      <td>NaN</td>\n",
       "      <td>NaN</td>\n",
       "      <td>NaN</td>\n",
       "    </tr>\n",
       "    <tr>\n",
       "      <th>freq</th>\n",
       "      <td>NaN</td>\n",
       "      <td>41</td>\n",
       "      <td>32</td>\n",
       "      <td>185</td>\n",
       "      <td>168</td>\n",
       "      <td>114</td>\n",
       "      <td>96</td>\n",
       "      <td>120</td>\n",
       "      <td>202</td>\n",
       "      <td>NaN</td>\n",
       "      <td>...</td>\n",
       "      <td>NaN</td>\n",
       "      <td>94</td>\n",
       "      <td>23</td>\n",
       "      <td>NaN</td>\n",
       "      <td>NaN</td>\n",
       "      <td>19</td>\n",
       "      <td>37</td>\n",
       "      <td>NaN</td>\n",
       "      <td>NaN</td>\n",
       "      <td>NaN</td>\n",
       "    </tr>\n",
       "    <tr>\n",
       "      <th>mean</th>\n",
       "      <td>0.834146</td>\n",
       "      <td>NaN</td>\n",
       "      <td>NaN</td>\n",
       "      <td>NaN</td>\n",
       "      <td>NaN</td>\n",
       "      <td>NaN</td>\n",
       "      <td>NaN</td>\n",
       "      <td>NaN</td>\n",
       "      <td>NaN</td>\n",
       "      <td>98.756585</td>\n",
       "      <td>...</td>\n",
       "      <td>126.907317</td>\n",
       "      <td>NaN</td>\n",
       "      <td>NaN</td>\n",
       "      <td>3.255423</td>\n",
       "      <td>10.142537</td>\n",
       "      <td>NaN</td>\n",
       "      <td>NaN</td>\n",
       "      <td>25.219512</td>\n",
       "      <td>30.751220</td>\n",
       "      <td>13207.129353</td>\n",
       "    </tr>\n",
       "    <tr>\n",
       "      <th>std</th>\n",
       "      <td>1.245307</td>\n",
       "      <td>NaN</td>\n",
       "      <td>NaN</td>\n",
       "      <td>NaN</td>\n",
       "      <td>NaN</td>\n",
       "      <td>NaN</td>\n",
       "      <td>NaN</td>\n",
       "      <td>NaN</td>\n",
       "      <td>NaN</td>\n",
       "      <td>6.021776</td>\n",
       "      <td>...</td>\n",
       "      <td>41.642693</td>\n",
       "      <td>NaN</td>\n",
       "      <td>NaN</td>\n",
       "      <td>0.316717</td>\n",
       "      <td>3.972040</td>\n",
       "      <td>NaN</td>\n",
       "      <td>NaN</td>\n",
       "      <td>6.542142</td>\n",
       "      <td>6.886443</td>\n",
       "      <td>7947.066342</td>\n",
       "    </tr>\n",
       "    <tr>\n",
       "      <th>min</th>\n",
       "      <td>-2.000000</td>\n",
       "      <td>NaN</td>\n",
       "      <td>NaN</td>\n",
       "      <td>NaN</td>\n",
       "      <td>NaN</td>\n",
       "      <td>NaN</td>\n",
       "      <td>NaN</td>\n",
       "      <td>NaN</td>\n",
       "      <td>NaN</td>\n",
       "      <td>86.600000</td>\n",
       "      <td>...</td>\n",
       "      <td>61.000000</td>\n",
       "      <td>NaN</td>\n",
       "      <td>NaN</td>\n",
       "      <td>2.070000</td>\n",
       "      <td>7.000000</td>\n",
       "      <td>NaN</td>\n",
       "      <td>NaN</td>\n",
       "      <td>13.000000</td>\n",
       "      <td>16.000000</td>\n",
       "      <td>5118.000000</td>\n",
       "    </tr>\n",
       "    <tr>\n",
       "      <th>25%</th>\n",
       "      <td>0.000000</td>\n",
       "      <td>NaN</td>\n",
       "      <td>NaN</td>\n",
       "      <td>NaN</td>\n",
       "      <td>NaN</td>\n",
       "      <td>NaN</td>\n",
       "      <td>NaN</td>\n",
       "      <td>NaN</td>\n",
       "      <td>NaN</td>\n",
       "      <td>94.500000</td>\n",
       "      <td>...</td>\n",
       "      <td>97.000000</td>\n",
       "      <td>NaN</td>\n",
       "      <td>NaN</td>\n",
       "      <td>3.110000</td>\n",
       "      <td>8.600000</td>\n",
       "      <td>NaN</td>\n",
       "      <td>NaN</td>\n",
       "      <td>19.000000</td>\n",
       "      <td>25.000000</td>\n",
       "      <td>7775.000000</td>\n",
       "    </tr>\n",
       "    <tr>\n",
       "      <th>50%</th>\n",
       "      <td>1.000000</td>\n",
       "      <td>NaN</td>\n",
       "      <td>NaN</td>\n",
       "      <td>NaN</td>\n",
       "      <td>NaN</td>\n",
       "      <td>NaN</td>\n",
       "      <td>NaN</td>\n",
       "      <td>NaN</td>\n",
       "      <td>NaN</td>\n",
       "      <td>97.000000</td>\n",
       "      <td>...</td>\n",
       "      <td>120.000000</td>\n",
       "      <td>NaN</td>\n",
       "      <td>NaN</td>\n",
       "      <td>3.290000</td>\n",
       "      <td>9.000000</td>\n",
       "      <td>NaN</td>\n",
       "      <td>NaN</td>\n",
       "      <td>24.000000</td>\n",
       "      <td>30.000000</td>\n",
       "      <td>10295.000000</td>\n",
       "    </tr>\n",
       "    <tr>\n",
       "      <th>75%</th>\n",
       "      <td>2.000000</td>\n",
       "      <td>NaN</td>\n",
       "      <td>NaN</td>\n",
       "      <td>NaN</td>\n",
       "      <td>NaN</td>\n",
       "      <td>NaN</td>\n",
       "      <td>NaN</td>\n",
       "      <td>NaN</td>\n",
       "      <td>NaN</td>\n",
       "      <td>102.400000</td>\n",
       "      <td>...</td>\n",
       "      <td>141.000000</td>\n",
       "      <td>NaN</td>\n",
       "      <td>NaN</td>\n",
       "      <td>3.410000</td>\n",
       "      <td>9.400000</td>\n",
       "      <td>NaN</td>\n",
       "      <td>NaN</td>\n",
       "      <td>30.000000</td>\n",
       "      <td>34.000000</td>\n",
       "      <td>16500.000000</td>\n",
       "    </tr>\n",
       "    <tr>\n",
       "      <th>max</th>\n",
       "      <td>3.000000</td>\n",
       "      <td>NaN</td>\n",
       "      <td>NaN</td>\n",
       "      <td>NaN</td>\n",
       "      <td>NaN</td>\n",
       "      <td>NaN</td>\n",
       "      <td>NaN</td>\n",
       "      <td>NaN</td>\n",
       "      <td>NaN</td>\n",
       "      <td>120.900000</td>\n",
       "      <td>...</td>\n",
       "      <td>326.000000</td>\n",
       "      <td>NaN</td>\n",
       "      <td>NaN</td>\n",
       "      <td>4.170000</td>\n",
       "      <td>23.000000</td>\n",
       "      <td>NaN</td>\n",
       "      <td>NaN</td>\n",
       "      <td>49.000000</td>\n",
       "      <td>54.000000</td>\n",
       "      <td>45400.000000</td>\n",
       "    </tr>\n",
       "  </tbody>\n",
       "</table>\n",
       "<p>11 rows × 26 columns</p>\n",
       "</div>"
      ],
      "text/plain": [
       "         symboling normalized-losses    make fuel-type aspiration  \\\n",
       "count   205.000000               205     205       205        205   \n",
       "unique         NaN                52      22         2          2   \n",
       "top            NaN                 ?  toyota       gas        std   \n",
       "freq           NaN                41      32       185        168   \n",
       "mean      0.834146               NaN     NaN       NaN        NaN   \n",
       "std       1.245307               NaN     NaN       NaN        NaN   \n",
       "min      -2.000000               NaN     NaN       NaN        NaN   \n",
       "25%       0.000000               NaN     NaN       NaN        NaN   \n",
       "50%       1.000000               NaN     NaN       NaN        NaN   \n",
       "75%       2.000000               NaN     NaN       NaN        NaN   \n",
       "max       3.000000               NaN     NaN       NaN        NaN   \n",
       "\n",
       "       num-of-doors body-style drive-wheels engine-location  wheel-base  ...  \\\n",
       "count           205        205          205             205  205.000000  ...   \n",
       "unique            3          5            3               2         NaN  ...   \n",
       "top            four      sedan          fwd           front         NaN  ...   \n",
       "freq            114         96          120             202         NaN  ...   \n",
       "mean            NaN        NaN          NaN             NaN   98.756585  ...   \n",
       "std             NaN        NaN          NaN             NaN    6.021776  ...   \n",
       "min             NaN        NaN          NaN             NaN   86.600000  ...   \n",
       "25%             NaN        NaN          NaN             NaN   94.500000  ...   \n",
       "50%             NaN        NaN          NaN             NaN   97.000000  ...   \n",
       "75%             NaN        NaN          NaN             NaN  102.400000  ...   \n",
       "max             NaN        NaN          NaN             NaN  120.900000  ...   \n",
       "\n",
       "        engine-size  fuel-system  bore      stroke compression-ratio  \\\n",
       "count    205.000000          205   205  201.000000        205.000000   \n",
       "unique          NaN            8    39         NaN               NaN   \n",
       "top             NaN         mpfi  3.62         NaN               NaN   \n",
       "freq            NaN           94    23         NaN               NaN   \n",
       "mean     126.907317          NaN   NaN    3.255423         10.142537   \n",
       "std       41.642693          NaN   NaN    0.316717          3.972040   \n",
       "min       61.000000          NaN   NaN    2.070000          7.000000   \n",
       "25%       97.000000          NaN   NaN    3.110000          8.600000   \n",
       "50%      120.000000          NaN   NaN    3.290000          9.000000   \n",
       "75%      141.000000          NaN   NaN    3.410000          9.400000   \n",
       "max      326.000000          NaN   NaN    4.170000         23.000000   \n",
       "\n",
       "       horsepower  peak-rpm    city-mpg highway-mpg         price  \n",
       "count         205       205  205.000000  205.000000    201.000000  \n",
       "unique         60        24         NaN         NaN           NaN  \n",
       "top            68      5500         NaN         NaN           NaN  \n",
       "freq           19        37         NaN         NaN           NaN  \n",
       "mean          NaN       NaN   25.219512   30.751220  13207.129353  \n",
       "std           NaN       NaN    6.542142    6.886443   7947.066342  \n",
       "min           NaN       NaN   13.000000   16.000000   5118.000000  \n",
       "25%           NaN       NaN   19.000000   25.000000   7775.000000  \n",
       "50%           NaN       NaN   24.000000   30.000000  10295.000000  \n",
       "75%           NaN       NaN   30.000000   34.000000  16500.000000  \n",
       "max           NaN       NaN   49.000000   54.000000  45400.000000  \n",
       "\n",
       "[11 rows x 26 columns]"
      ]
     },
     "execution_count": 18,
     "metadata": {},
     "output_type": "execute_result"
    }
   ],
   "source": [
    "#unique, top y frequency (\"único, superior y frecuencia\").\n",
    "df.describe(include=\"all\")"
   ]
  },
  {
   "cell_type": "markdown",
   "metadata": {
    "application/vnd.databricks.v1+cell": {
     "inputWidgets": {},
     "nuid": "68843f4a-c0d7-43e9-827e-6b356a8c39f1",
     "showTitle": false,
     "title": ""
    }
   },
   "source": [
    "<h5>Contar Valores</h5>"
   ]
  },
  {
   "cell_type": "markdown",
   "metadata": {
    "application/vnd.databricks.v1+cell": {
     "inputWidgets": {},
     "nuid": "824f1e0e-6733-4cc3-87a1-fc6fc758383a",
     "showTitle": false,
     "title": ""
    }
   },
   "source": [
    "Una forma de resumir los datos categóricos es usando la función <code>value_counts</code>. Por ejemplo, en nuestro conjunto de datos, tenemos el sistema de tracción (<b>engine-location</b>) como una variable categórica de frontal y trasero."
   ]
  },
  {
   "cell_type": "code",
   "execution_count": 19,
   "metadata": {
    "application/vnd.databricks.v1+cell": {
     "inputWidgets": {},
     "nuid": "e8581c93-541e-4f75-bc8b-364265a92870",
     "showTitle": false,
     "title": ""
    }
   },
   "outputs": [
    {
     "data": {
      "text/plain": [
       "front    202\n",
       "rear       3\n",
       "Name: engine-location, dtype: int64"
      ]
     },
     "execution_count": 19,
     "metadata": {},
     "output_type": "execute_result"
    }
   ],
   "source": [
    "drive_wheels_counts = df['engine-location'].value_counts()\n",
    "drive_wheels_counts"
   ]
  },
  {
   "cell_type": "markdown",
   "metadata": {
    "application/vnd.databricks.v1+cell": {
     "inputWidgets": {},
     "nuid": "8059823d-3831-4f4b-8c4f-f242ef1eca6d",
     "showTitle": false,
     "title": ""
    }
   },
   "source": [
    "<p>Examinar los recuentos de valores de la ubicación del motor no sería una buena variable predictiva del precio. Esto se debe a que solo tenemos tres autos con motor trasero y 198 con motor delantero, este resultado es sesgado. Por lo tanto, no podemos sacar ninguna conclusión sobre la ubicación del motor.</p>"
   ]
  },
  {
   "cell_type": "markdown",
   "metadata": {
    "application/vnd.databricks.v1+cell": {
     "inputWidgets": {},
     "nuid": "2b0a72fb-58db-40f4-ba3d-65a547a37679",
     "showTitle": false,
     "title": ""
    }
   },
   "source": [
    "<div class=\"alert alert-success alertsuccess\" style=\"margin-top: 20px\">\n",
    "   <strong>AHORA TÚ: </strong>  \n",
    "  <p>\n",
    "Puedes seleccionar las columna de un dataframe indicando el nombre de cada una, por ejemplo, puedes seleccionar tres columnas de la siguiente manera:\n",
    "</p>\n",
    "<p>\n",
    "    <code>dataframe[['column 1',column 2', 'column 3']]</code>\n",
    "</p>\n",
    "<p>\n",
    "Donde \"column\" es el nombre de la columna se puede aplicar el método \".describe()\" para obtener las estadísticas de aquellas columnas de la siguiente manera:\n",
    "</p>\n",
    "<p>\n",
    "    <code>dataframe[[' column 1 ',column 2', 'column 3'] ].describe()</code>\n",
    "</p>\n",
    "Aplica el método \".describe()\" a las columnas 'length' y 'compression-ratio'.\n",
    "</div>"
   ]
  },
  {
   "cell_type": "code",
   "execution_count": 20,
   "metadata": {
    "application/vnd.databricks.v1+cell": {
     "inputWidgets": {},
     "nuid": "9c3748ee-b907-4d81-8941-f234944ffa8c",
     "showTitle": false,
     "title": ""
    }
   },
   "outputs": [
    {
     "data": {
      "text/html": [
       "<div>\n",
       "<style scoped>\n",
       "    .dataframe tbody tr th:only-of-type {\n",
       "        vertical-align: middle;\n",
       "    }\n",
       "\n",
       "    .dataframe tbody tr th {\n",
       "        vertical-align: top;\n",
       "    }\n",
       "\n",
       "    .dataframe thead th {\n",
       "        text-align: right;\n",
       "    }\n",
       "</style>\n",
       "<table border=\"1\" class=\"dataframe\">\n",
       "  <thead>\n",
       "    <tr style=\"text-align: right;\">\n",
       "      <th></th>\n",
       "      <th>length</th>\n",
       "      <th>compression-ratio</th>\n",
       "    </tr>\n",
       "  </thead>\n",
       "  <tbody>\n",
       "    <tr>\n",
       "      <th>count</th>\n",
       "      <td>205.000000</td>\n",
       "      <td>205.000000</td>\n",
       "    </tr>\n",
       "    <tr>\n",
       "      <th>mean</th>\n",
       "      <td>174.049268</td>\n",
       "      <td>10.142537</td>\n",
       "    </tr>\n",
       "    <tr>\n",
       "      <th>std</th>\n",
       "      <td>12.337289</td>\n",
       "      <td>3.972040</td>\n",
       "    </tr>\n",
       "    <tr>\n",
       "      <th>min</th>\n",
       "      <td>141.100000</td>\n",
       "      <td>7.000000</td>\n",
       "    </tr>\n",
       "    <tr>\n",
       "      <th>25%</th>\n",
       "      <td>166.300000</td>\n",
       "      <td>8.600000</td>\n",
       "    </tr>\n",
       "    <tr>\n",
       "      <th>50%</th>\n",
       "      <td>173.200000</td>\n",
       "      <td>9.000000</td>\n",
       "    </tr>\n",
       "    <tr>\n",
       "      <th>75%</th>\n",
       "      <td>183.100000</td>\n",
       "      <td>9.400000</td>\n",
       "    </tr>\n",
       "    <tr>\n",
       "      <th>max</th>\n",
       "      <td>208.100000</td>\n",
       "      <td>23.000000</td>\n",
       "    </tr>\n",
       "  </tbody>\n",
       "</table>\n",
       "</div>"
      ],
      "text/plain": [
       "           length  compression-ratio\n",
       "count  205.000000         205.000000\n",
       "mean   174.049268          10.142537\n",
       "std     12.337289           3.972040\n",
       "min    141.100000           7.000000\n",
       "25%    166.300000           8.600000\n",
       "50%    173.200000           9.000000\n",
       "75%    183.100000           9.400000\n",
       "max    208.100000          23.000000"
      ]
     },
     "execution_count": 20,
     "metadata": {},
     "output_type": "execute_result"
    }
   ],
   "source": [
    "# Escribe tu código aquí y presiona Shift+Enter para ejecutar\n",
    "df[['length', 'compression-ratio']].describe()"
   ]
  },
  {
   "cell_type": "markdown",
   "metadata": {
    "application/vnd.databricks.v1+cell": {
     "inputWidgets": {},
     "nuid": "baeb1819-9819-4c76-b3f7-37f1f5f61b7c",
     "showTitle": false,
     "title": ""
    }
   },
   "source": [
    "Haz doble clic <b>aquí</b> para ver la solución.\n",
    "\n",
    "<!-- Respuesta:\n",
    "\n",
    "df[['length', 'compression-ratio']].describe()\n",
    "\n",
    "-->"
   ]
  },
  {
   "cell_type": "markdown",
   "metadata": {
    "application/vnd.databricks.v1+cell": {
     "inputWidgets": {},
     "nuid": "bce1a3d6-76ae-48ec-ad43-6fc4d05347f9",
     "showTitle": false,
     "title": ""
    }
   },
   "source": [
    "<h3 id=\"func\">Identificar datos faltantes</h3>"
   ]
  },
  {
   "cell_type": "markdown",
   "metadata": {
    "application/vnd.databricks.v1+cell": {
     "inputWidgets": {},
     "nuid": "c75ea3ff-b27c-4376-98da-f47118ed76d8",
     "showTitle": false,
     "title": ""
    }
   },
   "source": [
    "Debemos visualizar nuestros datos e identificar el(los) valor(es) que se está utilizando para los datos faltantes. Los valores faltantes pueden ser espacios vacíos, NA, n/a, --, 0, o cualquier otro valor que no es considerado correcto en esa columna."
   ]
  },
  {
   "cell_type": "code",
   "execution_count": 21,
   "metadata": {
    "application/vnd.databricks.v1+cell": {
     "inputWidgets": {},
     "nuid": "501660b3-2290-4077-a5fa-3b267b0389c9",
     "showTitle": false,
     "title": ""
    }
   },
   "outputs": [
    {
     "data": {
      "text/html": [
       "<div>\n",
       "<style scoped>\n",
       "    .dataframe tbody tr th:only-of-type {\n",
       "        vertical-align: middle;\n",
       "    }\n",
       "\n",
       "    .dataframe tbody tr th {\n",
       "        vertical-align: top;\n",
       "    }\n",
       "\n",
       "    .dataframe thead th {\n",
       "        text-align: right;\n",
       "    }\n",
       "</style>\n",
       "<table border=\"1\" class=\"dataframe\">\n",
       "  <thead>\n",
       "    <tr style=\"text-align: right;\">\n",
       "      <th></th>\n",
       "      <th>symboling</th>\n",
       "      <th>normalized-losses</th>\n",
       "      <th>make</th>\n",
       "      <th>fuel-type</th>\n",
       "      <th>aspiration</th>\n",
       "      <th>num-of-doors</th>\n",
       "      <th>body-style</th>\n",
       "      <th>drive-wheels</th>\n",
       "      <th>engine-location</th>\n",
       "      <th>wheel-base</th>\n",
       "      <th>...</th>\n",
       "      <th>engine-size</th>\n",
       "      <th>fuel-system</th>\n",
       "      <th>bore</th>\n",
       "      <th>stroke</th>\n",
       "      <th>compression-ratio</th>\n",
       "      <th>horsepower</th>\n",
       "      <th>peak-rpm</th>\n",
       "      <th>city-mpg</th>\n",
       "      <th>highway-mpg</th>\n",
       "      <th>price</th>\n",
       "    </tr>\n",
       "  </thead>\n",
       "  <tbody>\n",
       "    <tr>\n",
       "      <th>0</th>\n",
       "      <td>3</td>\n",
       "      <td>?</td>\n",
       "      <td>alfa-romero</td>\n",
       "      <td>gas</td>\n",
       "      <td>std</td>\n",
       "      <td>two</td>\n",
       "      <td>convertible</td>\n",
       "      <td>rwd</td>\n",
       "      <td>front</td>\n",
       "      <td>88.6</td>\n",
       "      <td>...</td>\n",
       "      <td>130</td>\n",
       "      <td>mpfi</td>\n",
       "      <td>3.47</td>\n",
       "      <td>2.68</td>\n",
       "      <td>9.0</td>\n",
       "      <td>111</td>\n",
       "      <td>5000</td>\n",
       "      <td>21</td>\n",
       "      <td>27</td>\n",
       "      <td>13495.0</td>\n",
       "    </tr>\n",
       "    <tr>\n",
       "      <th>1</th>\n",
       "      <td>3</td>\n",
       "      <td>?</td>\n",
       "      <td>alfa-romero</td>\n",
       "      <td>gas</td>\n",
       "      <td>std</td>\n",
       "      <td>two</td>\n",
       "      <td>convertible</td>\n",
       "      <td>rwd</td>\n",
       "      <td>front</td>\n",
       "      <td>88.6</td>\n",
       "      <td>...</td>\n",
       "      <td>130</td>\n",
       "      <td>mpfi</td>\n",
       "      <td>3.47</td>\n",
       "      <td>2.68</td>\n",
       "      <td>9.0</td>\n",
       "      <td>111</td>\n",
       "      <td>5000</td>\n",
       "      <td>21</td>\n",
       "      <td>27</td>\n",
       "      <td>16500.0</td>\n",
       "    </tr>\n",
       "    <tr>\n",
       "      <th>2</th>\n",
       "      <td>1</td>\n",
       "      <td>?</td>\n",
       "      <td>alfa-romero</td>\n",
       "      <td>gas</td>\n",
       "      <td>std</td>\n",
       "      <td>two</td>\n",
       "      <td>hatchback</td>\n",
       "      <td>rwd</td>\n",
       "      <td>front</td>\n",
       "      <td>94.5</td>\n",
       "      <td>...</td>\n",
       "      <td>152</td>\n",
       "      <td>mpfi</td>\n",
       "      <td>2.68</td>\n",
       "      <td>3.47</td>\n",
       "      <td>9.0</td>\n",
       "      <td>154</td>\n",
       "      <td>5000</td>\n",
       "      <td>19</td>\n",
       "      <td>26</td>\n",
       "      <td>16500.0</td>\n",
       "    </tr>\n",
       "    <tr>\n",
       "      <th>3</th>\n",
       "      <td>2</td>\n",
       "      <td>164</td>\n",
       "      <td>audi</td>\n",
       "      <td>gas</td>\n",
       "      <td>std</td>\n",
       "      <td>four</td>\n",
       "      <td>sedan</td>\n",
       "      <td>fwd</td>\n",
       "      <td>front</td>\n",
       "      <td>99.8</td>\n",
       "      <td>...</td>\n",
       "      <td>109</td>\n",
       "      <td>mpfi</td>\n",
       "      <td>3.19</td>\n",
       "      <td>3.40</td>\n",
       "      <td>10.0</td>\n",
       "      <td>102</td>\n",
       "      <td>5500</td>\n",
       "      <td>24</td>\n",
       "      <td>30</td>\n",
       "      <td>13950.0</td>\n",
       "    </tr>\n",
       "    <tr>\n",
       "      <th>4</th>\n",
       "      <td>2</td>\n",
       "      <td>164</td>\n",
       "      <td>audi</td>\n",
       "      <td>gas</td>\n",
       "      <td>std</td>\n",
       "      <td>four</td>\n",
       "      <td>sedan</td>\n",
       "      <td>4wd</td>\n",
       "      <td>front</td>\n",
       "      <td>99.4</td>\n",
       "      <td>...</td>\n",
       "      <td>136</td>\n",
       "      <td>mpfi</td>\n",
       "      <td>3.19</td>\n",
       "      <td>3.40</td>\n",
       "      <td>8.0</td>\n",
       "      <td>115</td>\n",
       "      <td>5500</td>\n",
       "      <td>18</td>\n",
       "      <td>22</td>\n",
       "      <td>17450.0</td>\n",
       "    </tr>\n",
       "  </tbody>\n",
       "</table>\n",
       "<p>5 rows × 26 columns</p>\n",
       "</div>"
      ],
      "text/plain": [
       "   symboling normalized-losses         make fuel-type aspiration num-of-doors  \\\n",
       "0          3                 ?  alfa-romero       gas        std          two   \n",
       "1          3                 ?  alfa-romero       gas        std          two   \n",
       "2          1                 ?  alfa-romero       gas        std          two   \n",
       "3          2               164         audi       gas        std         four   \n",
       "4          2               164         audi       gas        std         four   \n",
       "\n",
       "    body-style drive-wheels engine-location  wheel-base  ...  engine-size  \\\n",
       "0  convertible          rwd           front        88.6  ...          130   \n",
       "1  convertible          rwd           front        88.6  ...          130   \n",
       "2    hatchback          rwd           front        94.5  ...          152   \n",
       "3        sedan          fwd           front        99.8  ...          109   \n",
       "4        sedan          4wd           front        99.4  ...          136   \n",
       "\n",
       "   fuel-system  bore  stroke compression-ratio horsepower  peak-rpm city-mpg  \\\n",
       "0         mpfi  3.47    2.68               9.0        111      5000       21   \n",
       "1         mpfi  3.47    2.68               9.0        111      5000       21   \n",
       "2         mpfi  2.68    3.47               9.0        154      5000       19   \n",
       "3         mpfi  3.19    3.40              10.0        102      5500       24   \n",
       "4         mpfi  3.19    3.40               8.0        115      5500       18   \n",
       "\n",
       "  highway-mpg    price  \n",
       "0          27  13495.0  \n",
       "1          27  16500.0  \n",
       "2          26  16500.0  \n",
       "3          30  13950.0  \n",
       "4          22  17450.0  \n",
       "\n",
       "[5 rows x 26 columns]"
      ]
     },
     "execution_count": 21,
     "metadata": {},
     "output_type": "execute_result"
    }
   ],
   "source": [
    "#Identifique cual es el valor que se está utilizando para los datos faltantes en el set de datos:\n",
    "df.head()"
   ]
  },
  {
   "cell_type": "markdown",
   "metadata": {
    "application/vnd.databricks.v1+cell": {
     "inputWidgets": {},
     "nuid": "26301e7c-00ce-4a5d-b23b-f2053b8c9203",
     "showTitle": false,
     "title": ""
    }
   },
   "source": [
    "Con la función <code>isnull</code> podemos saber cuantos datos faltantes identifica Python en nuestro set de datos."
   ]
  },
  {
   "cell_type": "code",
   "execution_count": 36,
   "metadata": {
    "application/vnd.databricks.v1+cell": {
     "inputWidgets": {},
     "nuid": "c07c8a06-15c7-480c-b58d-accbdf1af3d1",
     "showTitle": false,
     "title": ""
    }
   },
   "outputs": [
    {
     "name": "stdout",
     "output_type": "stream",
     "text": [
      "symboling             0\n",
      "normalized-losses    41\n",
      "make                  0\n",
      "fuel-type             0\n",
      "aspiration            0\n",
      "num-of-doors          2\n",
      "body-style            0\n",
      "drive-wheels          0\n",
      "engine-location       0\n",
      "wheel-base            0\n",
      "length                0\n",
      "width                 0\n",
      "height                0\n",
      "curb-weight           0\n",
      "engine-type          12\n",
      "num-of-cylinders      0\n",
      "engine-size           0\n",
      "fuel-system           0\n",
      "bore                  4\n",
      "stroke                4\n",
      "compression-ratio     0\n",
      "horsepower            2\n",
      "peak-rpm              2\n",
      "city-mpg              0\n",
      "highway-mpg           0\n",
      "price                 4\n",
      "dtype: int64\n"
     ]
    }
   ],
   "source": [
    "print(df.isnull().sum())"
   ]
  },
  {
   "cell_type": "markdown",
   "metadata": {
    "application/vnd.databricks.v1+cell": {
     "inputWidgets": {},
     "nuid": "973daa4c-5ea4-4f2d-8d06-fb235db7e1aa",
     "showTitle": false,
     "title": ""
    }
   },
   "source": [
    "Todavía Python no está identificando los datos faltantes en el conjunto de datos, sino que los está tratando como un valor correcto más. Para marcar los datos faltantes se realiza los siguiente:"
   ]
  },
  {
   "cell_type": "code",
   "execution_count": 23,
   "metadata": {
    "application/vnd.databricks.v1+cell": {
     "inputWidgets": {},
     "nuid": "255bdc6a-b0fa-42da-a44f-c4ed0ed59777",
     "showTitle": false,
     "title": ""
    }
   },
   "outputs": [
    {
     "data": {
      "text/html": [
       "<div>\n",
       "<style scoped>\n",
       "    .dataframe tbody tr th:only-of-type {\n",
       "        vertical-align: middle;\n",
       "    }\n",
       "\n",
       "    .dataframe tbody tr th {\n",
       "        vertical-align: top;\n",
       "    }\n",
       "\n",
       "    .dataframe thead th {\n",
       "        text-align: right;\n",
       "    }\n",
       "</style>\n",
       "<table border=\"1\" class=\"dataframe\">\n",
       "  <thead>\n",
       "    <tr style=\"text-align: right;\">\n",
       "      <th></th>\n",
       "      <th>symboling</th>\n",
       "      <th>normalized-losses</th>\n",
       "      <th>make</th>\n",
       "      <th>fuel-type</th>\n",
       "      <th>aspiration</th>\n",
       "      <th>num-of-doors</th>\n",
       "      <th>body-style</th>\n",
       "      <th>drive-wheels</th>\n",
       "      <th>engine-location</th>\n",
       "      <th>wheel-base</th>\n",
       "      <th>...</th>\n",
       "      <th>engine-size</th>\n",
       "      <th>fuel-system</th>\n",
       "      <th>bore</th>\n",
       "      <th>stroke</th>\n",
       "      <th>compression-ratio</th>\n",
       "      <th>horsepower</th>\n",
       "      <th>peak-rpm</th>\n",
       "      <th>city-mpg</th>\n",
       "      <th>highway-mpg</th>\n",
       "      <th>price</th>\n",
       "    </tr>\n",
       "  </thead>\n",
       "  <tbody>\n",
       "    <tr>\n",
       "      <th>0</th>\n",
       "      <td>3</td>\n",
       "      <td>NaN</td>\n",
       "      <td>alfa-romero</td>\n",
       "      <td>gas</td>\n",
       "      <td>std</td>\n",
       "      <td>two</td>\n",
       "      <td>convertible</td>\n",
       "      <td>rwd</td>\n",
       "      <td>front</td>\n",
       "      <td>88.6</td>\n",
       "      <td>...</td>\n",
       "      <td>130</td>\n",
       "      <td>mpfi</td>\n",
       "      <td>3.47</td>\n",
       "      <td>2.68</td>\n",
       "      <td>9.0</td>\n",
       "      <td>111.0</td>\n",
       "      <td>5000.0</td>\n",
       "      <td>21</td>\n",
       "      <td>27</td>\n",
       "      <td>13495.0</td>\n",
       "    </tr>\n",
       "    <tr>\n",
       "      <th>1</th>\n",
       "      <td>3</td>\n",
       "      <td>NaN</td>\n",
       "      <td>alfa-romero</td>\n",
       "      <td>gas</td>\n",
       "      <td>std</td>\n",
       "      <td>two</td>\n",
       "      <td>convertible</td>\n",
       "      <td>rwd</td>\n",
       "      <td>front</td>\n",
       "      <td>88.6</td>\n",
       "      <td>...</td>\n",
       "      <td>130</td>\n",
       "      <td>mpfi</td>\n",
       "      <td>3.47</td>\n",
       "      <td>2.68</td>\n",
       "      <td>9.0</td>\n",
       "      <td>111.0</td>\n",
       "      <td>5000.0</td>\n",
       "      <td>21</td>\n",
       "      <td>27</td>\n",
       "      <td>16500.0</td>\n",
       "    </tr>\n",
       "    <tr>\n",
       "      <th>2</th>\n",
       "      <td>1</td>\n",
       "      <td>NaN</td>\n",
       "      <td>alfa-romero</td>\n",
       "      <td>gas</td>\n",
       "      <td>std</td>\n",
       "      <td>two</td>\n",
       "      <td>hatchback</td>\n",
       "      <td>rwd</td>\n",
       "      <td>front</td>\n",
       "      <td>94.5</td>\n",
       "      <td>...</td>\n",
       "      <td>152</td>\n",
       "      <td>mpfi</td>\n",
       "      <td>2.68</td>\n",
       "      <td>3.47</td>\n",
       "      <td>9.0</td>\n",
       "      <td>154.0</td>\n",
       "      <td>5000.0</td>\n",
       "      <td>19</td>\n",
       "      <td>26</td>\n",
       "      <td>16500.0</td>\n",
       "    </tr>\n",
       "    <tr>\n",
       "      <th>3</th>\n",
       "      <td>2</td>\n",
       "      <td>164.0</td>\n",
       "      <td>audi</td>\n",
       "      <td>gas</td>\n",
       "      <td>std</td>\n",
       "      <td>four</td>\n",
       "      <td>sedan</td>\n",
       "      <td>fwd</td>\n",
       "      <td>front</td>\n",
       "      <td>99.8</td>\n",
       "      <td>...</td>\n",
       "      <td>109</td>\n",
       "      <td>mpfi</td>\n",
       "      <td>3.19</td>\n",
       "      <td>3.40</td>\n",
       "      <td>10.0</td>\n",
       "      <td>102.0</td>\n",
       "      <td>5500.0</td>\n",
       "      <td>24</td>\n",
       "      <td>30</td>\n",
       "      <td>13950.0</td>\n",
       "    </tr>\n",
       "    <tr>\n",
       "      <th>4</th>\n",
       "      <td>2</td>\n",
       "      <td>164.0</td>\n",
       "      <td>audi</td>\n",
       "      <td>gas</td>\n",
       "      <td>std</td>\n",
       "      <td>four</td>\n",
       "      <td>sedan</td>\n",
       "      <td>4wd</td>\n",
       "      <td>front</td>\n",
       "      <td>99.4</td>\n",
       "      <td>...</td>\n",
       "      <td>136</td>\n",
       "      <td>mpfi</td>\n",
       "      <td>3.19</td>\n",
       "      <td>3.40</td>\n",
       "      <td>8.0</td>\n",
       "      <td>115.0</td>\n",
       "      <td>5500.0</td>\n",
       "      <td>18</td>\n",
       "      <td>22</td>\n",
       "      <td>17450.0</td>\n",
       "    </tr>\n",
       "    <tr>\n",
       "      <th>5</th>\n",
       "      <td>2</td>\n",
       "      <td>NaN</td>\n",
       "      <td>audi</td>\n",
       "      <td>gas</td>\n",
       "      <td>std</td>\n",
       "      <td>two</td>\n",
       "      <td>sedan</td>\n",
       "      <td>fwd</td>\n",
       "      <td>front</td>\n",
       "      <td>99.8</td>\n",
       "      <td>...</td>\n",
       "      <td>136</td>\n",
       "      <td>mpfi</td>\n",
       "      <td>3.19</td>\n",
       "      <td>3.40</td>\n",
       "      <td>8.5</td>\n",
       "      <td>110.0</td>\n",
       "      <td>5500.0</td>\n",
       "      <td>19</td>\n",
       "      <td>25</td>\n",
       "      <td>15250.0</td>\n",
       "    </tr>\n",
       "    <tr>\n",
       "      <th>6</th>\n",
       "      <td>1</td>\n",
       "      <td>158.0</td>\n",
       "      <td>audi</td>\n",
       "      <td>gas</td>\n",
       "      <td>std</td>\n",
       "      <td>four</td>\n",
       "      <td>sedan</td>\n",
       "      <td>fwd</td>\n",
       "      <td>front</td>\n",
       "      <td>105.8</td>\n",
       "      <td>...</td>\n",
       "      <td>136</td>\n",
       "      <td>mpfi</td>\n",
       "      <td>3.19</td>\n",
       "      <td>3.40</td>\n",
       "      <td>8.5</td>\n",
       "      <td>110.0</td>\n",
       "      <td>5500.0</td>\n",
       "      <td>19</td>\n",
       "      <td>25</td>\n",
       "      <td>17710.0</td>\n",
       "    </tr>\n",
       "    <tr>\n",
       "      <th>7</th>\n",
       "      <td>1</td>\n",
       "      <td>NaN</td>\n",
       "      <td>audi</td>\n",
       "      <td>gas</td>\n",
       "      <td>std</td>\n",
       "      <td>four</td>\n",
       "      <td>wagon</td>\n",
       "      <td>fwd</td>\n",
       "      <td>front</td>\n",
       "      <td>105.8</td>\n",
       "      <td>...</td>\n",
       "      <td>136</td>\n",
       "      <td>mpfi</td>\n",
       "      <td>3.19</td>\n",
       "      <td>3.40</td>\n",
       "      <td>8.5</td>\n",
       "      <td>110.0</td>\n",
       "      <td>5500.0</td>\n",
       "      <td>19</td>\n",
       "      <td>25</td>\n",
       "      <td>18920.0</td>\n",
       "    </tr>\n",
       "    <tr>\n",
       "      <th>8</th>\n",
       "      <td>1</td>\n",
       "      <td>158.0</td>\n",
       "      <td>audi</td>\n",
       "      <td>gas</td>\n",
       "      <td>turbo</td>\n",
       "      <td>four</td>\n",
       "      <td>sedan</td>\n",
       "      <td>fwd</td>\n",
       "      <td>front</td>\n",
       "      <td>105.8</td>\n",
       "      <td>...</td>\n",
       "      <td>131</td>\n",
       "      <td>mpfi</td>\n",
       "      <td>3.13</td>\n",
       "      <td>3.40</td>\n",
       "      <td>8.3</td>\n",
       "      <td>140.0</td>\n",
       "      <td>5500.0</td>\n",
       "      <td>17</td>\n",
       "      <td>20</td>\n",
       "      <td>23875.0</td>\n",
       "    </tr>\n",
       "    <tr>\n",
       "      <th>9</th>\n",
       "      <td>0</td>\n",
       "      <td>NaN</td>\n",
       "      <td>audi</td>\n",
       "      <td>gas</td>\n",
       "      <td>turbo</td>\n",
       "      <td>two</td>\n",
       "      <td>hatchback</td>\n",
       "      <td>4wd</td>\n",
       "      <td>front</td>\n",
       "      <td>99.5</td>\n",
       "      <td>...</td>\n",
       "      <td>131</td>\n",
       "      <td>mpfi</td>\n",
       "      <td>3.13</td>\n",
       "      <td>3.40</td>\n",
       "      <td>7.0</td>\n",
       "      <td>160.0</td>\n",
       "      <td>5500.0</td>\n",
       "      <td>16</td>\n",
       "      <td>22</td>\n",
       "      <td>NaN</td>\n",
       "    </tr>\n",
       "    <tr>\n",
       "      <th>10</th>\n",
       "      <td>2</td>\n",
       "      <td>192.0</td>\n",
       "      <td>bmw</td>\n",
       "      <td>gas</td>\n",
       "      <td>std</td>\n",
       "      <td>two</td>\n",
       "      <td>sedan</td>\n",
       "      <td>rwd</td>\n",
       "      <td>front</td>\n",
       "      <td>101.2</td>\n",
       "      <td>...</td>\n",
       "      <td>108</td>\n",
       "      <td>mpfi</td>\n",
       "      <td>3.50</td>\n",
       "      <td>2.80</td>\n",
       "      <td>8.8</td>\n",
       "      <td>101.0</td>\n",
       "      <td>5800.0</td>\n",
       "      <td>23</td>\n",
       "      <td>29</td>\n",
       "      <td>16430.0</td>\n",
       "    </tr>\n",
       "    <tr>\n",
       "      <th>11</th>\n",
       "      <td>0</td>\n",
       "      <td>192.0</td>\n",
       "      <td>bmw</td>\n",
       "      <td>gas</td>\n",
       "      <td>std</td>\n",
       "      <td>four</td>\n",
       "      <td>sedan</td>\n",
       "      <td>rwd</td>\n",
       "      <td>front</td>\n",
       "      <td>101.2</td>\n",
       "      <td>...</td>\n",
       "      <td>108</td>\n",
       "      <td>mpfi</td>\n",
       "      <td>3.50</td>\n",
       "      <td>2.80</td>\n",
       "      <td>8.8</td>\n",
       "      <td>101.0</td>\n",
       "      <td>5800.0</td>\n",
       "      <td>23</td>\n",
       "      <td>29</td>\n",
       "      <td>16925.0</td>\n",
       "    </tr>\n",
       "    <tr>\n",
       "      <th>12</th>\n",
       "      <td>0</td>\n",
       "      <td>188.0</td>\n",
       "      <td>bmw</td>\n",
       "      <td>gas</td>\n",
       "      <td>std</td>\n",
       "      <td>two</td>\n",
       "      <td>sedan</td>\n",
       "      <td>rwd</td>\n",
       "      <td>front</td>\n",
       "      <td>101.2</td>\n",
       "      <td>...</td>\n",
       "      <td>164</td>\n",
       "      <td>mpfi</td>\n",
       "      <td>3.31</td>\n",
       "      <td>3.19</td>\n",
       "      <td>9.0</td>\n",
       "      <td>121.0</td>\n",
       "      <td>4250.0</td>\n",
       "      <td>21</td>\n",
       "      <td>28</td>\n",
       "      <td>20970.0</td>\n",
       "    </tr>\n",
       "    <tr>\n",
       "      <th>13</th>\n",
       "      <td>0</td>\n",
       "      <td>188.0</td>\n",
       "      <td>bmw</td>\n",
       "      <td>gas</td>\n",
       "      <td>std</td>\n",
       "      <td>four</td>\n",
       "      <td>sedan</td>\n",
       "      <td>rwd</td>\n",
       "      <td>front</td>\n",
       "      <td>101.2</td>\n",
       "      <td>...</td>\n",
       "      <td>164</td>\n",
       "      <td>mpfi</td>\n",
       "      <td>3.31</td>\n",
       "      <td>3.19</td>\n",
       "      <td>9.0</td>\n",
       "      <td>121.0</td>\n",
       "      <td>4250.0</td>\n",
       "      <td>21</td>\n",
       "      <td>28</td>\n",
       "      <td>21105.0</td>\n",
       "    </tr>\n",
       "    <tr>\n",
       "      <th>14</th>\n",
       "      <td>1</td>\n",
       "      <td>NaN</td>\n",
       "      <td>bmw</td>\n",
       "      <td>gas</td>\n",
       "      <td>std</td>\n",
       "      <td>four</td>\n",
       "      <td>sedan</td>\n",
       "      <td>rwd</td>\n",
       "      <td>front</td>\n",
       "      <td>103.5</td>\n",
       "      <td>...</td>\n",
       "      <td>164</td>\n",
       "      <td>mpfi</td>\n",
       "      <td>3.31</td>\n",
       "      <td>3.19</td>\n",
       "      <td>9.0</td>\n",
       "      <td>121.0</td>\n",
       "      <td>4250.0</td>\n",
       "      <td>20</td>\n",
       "      <td>25</td>\n",
       "      <td>24565.0</td>\n",
       "    </tr>\n",
       "    <tr>\n",
       "      <th>15</th>\n",
       "      <td>0</td>\n",
       "      <td>NaN</td>\n",
       "      <td>bmw</td>\n",
       "      <td>gas</td>\n",
       "      <td>std</td>\n",
       "      <td>four</td>\n",
       "      <td>sedan</td>\n",
       "      <td>rwd</td>\n",
       "      <td>front</td>\n",
       "      <td>103.5</td>\n",
       "      <td>...</td>\n",
       "      <td>209</td>\n",
       "      <td>mpfi</td>\n",
       "      <td>3.62</td>\n",
       "      <td>3.39</td>\n",
       "      <td>8.0</td>\n",
       "      <td>182.0</td>\n",
       "      <td>5400.0</td>\n",
       "      <td>16</td>\n",
       "      <td>22</td>\n",
       "      <td>30760.0</td>\n",
       "    </tr>\n",
       "    <tr>\n",
       "      <th>16</th>\n",
       "      <td>0</td>\n",
       "      <td>NaN</td>\n",
       "      <td>bmw</td>\n",
       "      <td>gas</td>\n",
       "      <td>std</td>\n",
       "      <td>two</td>\n",
       "      <td>sedan</td>\n",
       "      <td>rwd</td>\n",
       "      <td>front</td>\n",
       "      <td>103.5</td>\n",
       "      <td>...</td>\n",
       "      <td>209</td>\n",
       "      <td>mpfi</td>\n",
       "      <td>3.62</td>\n",
       "      <td>3.39</td>\n",
       "      <td>8.0</td>\n",
       "      <td>182.0</td>\n",
       "      <td>5400.0</td>\n",
       "      <td>16</td>\n",
       "      <td>22</td>\n",
       "      <td>41315.0</td>\n",
       "    </tr>\n",
       "    <tr>\n",
       "      <th>17</th>\n",
       "      <td>0</td>\n",
       "      <td>NaN</td>\n",
       "      <td>bmw</td>\n",
       "      <td>gas</td>\n",
       "      <td>std</td>\n",
       "      <td>four</td>\n",
       "      <td>sedan</td>\n",
       "      <td>rwd</td>\n",
       "      <td>front</td>\n",
       "      <td>110.0</td>\n",
       "      <td>...</td>\n",
       "      <td>209</td>\n",
       "      <td>mpfi</td>\n",
       "      <td>3.62</td>\n",
       "      <td>3.39</td>\n",
       "      <td>8.0</td>\n",
       "      <td>182.0</td>\n",
       "      <td>5400.0</td>\n",
       "      <td>15</td>\n",
       "      <td>20</td>\n",
       "      <td>36880.0</td>\n",
       "    </tr>\n",
       "    <tr>\n",
       "      <th>18</th>\n",
       "      <td>2</td>\n",
       "      <td>121.0</td>\n",
       "      <td>chevrolet</td>\n",
       "      <td>gas</td>\n",
       "      <td>std</td>\n",
       "      <td>two</td>\n",
       "      <td>hatchback</td>\n",
       "      <td>fwd</td>\n",
       "      <td>front</td>\n",
       "      <td>88.4</td>\n",
       "      <td>...</td>\n",
       "      <td>61</td>\n",
       "      <td>2bbl</td>\n",
       "      <td>2.91</td>\n",
       "      <td>3.03</td>\n",
       "      <td>9.5</td>\n",
       "      <td>48.0</td>\n",
       "      <td>5100.0</td>\n",
       "      <td>47</td>\n",
       "      <td>53</td>\n",
       "      <td>5151.0</td>\n",
       "    </tr>\n",
       "    <tr>\n",
       "      <th>19</th>\n",
       "      <td>1</td>\n",
       "      <td>98.0</td>\n",
       "      <td>chevrolet</td>\n",
       "      <td>gas</td>\n",
       "      <td>std</td>\n",
       "      <td>two</td>\n",
       "      <td>hatchback</td>\n",
       "      <td>fwd</td>\n",
       "      <td>front</td>\n",
       "      <td>94.5</td>\n",
       "      <td>...</td>\n",
       "      <td>90</td>\n",
       "      <td>2bbl</td>\n",
       "      <td>3.03</td>\n",
       "      <td>3.11</td>\n",
       "      <td>9.6</td>\n",
       "      <td>70.0</td>\n",
       "      <td>5400.0</td>\n",
       "      <td>38</td>\n",
       "      <td>43</td>\n",
       "      <td>6295.0</td>\n",
       "    </tr>\n",
       "  </tbody>\n",
       "</table>\n",
       "<p>20 rows × 26 columns</p>\n",
       "</div>"
      ],
      "text/plain": [
       "    symboling  normalized-losses         make fuel-type aspiration  \\\n",
       "0           3                NaN  alfa-romero       gas        std   \n",
       "1           3                NaN  alfa-romero       gas        std   \n",
       "2           1                NaN  alfa-romero       gas        std   \n",
       "3           2              164.0         audi       gas        std   \n",
       "4           2              164.0         audi       gas        std   \n",
       "5           2                NaN         audi       gas        std   \n",
       "6           1              158.0         audi       gas        std   \n",
       "7           1                NaN         audi       gas        std   \n",
       "8           1              158.0         audi       gas      turbo   \n",
       "9           0                NaN         audi       gas      turbo   \n",
       "10          2              192.0          bmw       gas        std   \n",
       "11          0              192.0          bmw       gas        std   \n",
       "12          0              188.0          bmw       gas        std   \n",
       "13          0              188.0          bmw       gas        std   \n",
       "14          1                NaN          bmw       gas        std   \n",
       "15          0                NaN          bmw       gas        std   \n",
       "16          0                NaN          bmw       gas        std   \n",
       "17          0                NaN          bmw       gas        std   \n",
       "18          2              121.0    chevrolet       gas        std   \n",
       "19          1               98.0    chevrolet       gas        std   \n",
       "\n",
       "   num-of-doors   body-style drive-wheels engine-location  wheel-base  ...  \\\n",
       "0           two  convertible          rwd           front        88.6  ...   \n",
       "1           two  convertible          rwd           front        88.6  ...   \n",
       "2           two    hatchback          rwd           front        94.5  ...   \n",
       "3          four        sedan          fwd           front        99.8  ...   \n",
       "4          four        sedan          4wd           front        99.4  ...   \n",
       "5           two        sedan          fwd           front        99.8  ...   \n",
       "6          four        sedan          fwd           front       105.8  ...   \n",
       "7          four        wagon          fwd           front       105.8  ...   \n",
       "8          four        sedan          fwd           front       105.8  ...   \n",
       "9           two    hatchback          4wd           front        99.5  ...   \n",
       "10          two        sedan          rwd           front       101.2  ...   \n",
       "11         four        sedan          rwd           front       101.2  ...   \n",
       "12          two        sedan          rwd           front       101.2  ...   \n",
       "13         four        sedan          rwd           front       101.2  ...   \n",
       "14         four        sedan          rwd           front       103.5  ...   \n",
       "15         four        sedan          rwd           front       103.5  ...   \n",
       "16          two        sedan          rwd           front       103.5  ...   \n",
       "17         four        sedan          rwd           front       110.0  ...   \n",
       "18          two    hatchback          fwd           front        88.4  ...   \n",
       "19          two    hatchback          fwd           front        94.5  ...   \n",
       "\n",
       "    engine-size  fuel-system  bore  stroke compression-ratio horsepower  \\\n",
       "0           130         mpfi  3.47    2.68               9.0      111.0   \n",
       "1           130         mpfi  3.47    2.68               9.0      111.0   \n",
       "2           152         mpfi  2.68    3.47               9.0      154.0   \n",
       "3           109         mpfi  3.19    3.40              10.0      102.0   \n",
       "4           136         mpfi  3.19    3.40               8.0      115.0   \n",
       "5           136         mpfi  3.19    3.40               8.5      110.0   \n",
       "6           136         mpfi  3.19    3.40               8.5      110.0   \n",
       "7           136         mpfi  3.19    3.40               8.5      110.0   \n",
       "8           131         mpfi  3.13    3.40               8.3      140.0   \n",
       "9           131         mpfi  3.13    3.40               7.0      160.0   \n",
       "10          108         mpfi  3.50    2.80               8.8      101.0   \n",
       "11          108         mpfi  3.50    2.80               8.8      101.0   \n",
       "12          164         mpfi  3.31    3.19               9.0      121.0   \n",
       "13          164         mpfi  3.31    3.19               9.0      121.0   \n",
       "14          164         mpfi  3.31    3.19               9.0      121.0   \n",
       "15          209         mpfi  3.62    3.39               8.0      182.0   \n",
       "16          209         mpfi  3.62    3.39               8.0      182.0   \n",
       "17          209         mpfi  3.62    3.39               8.0      182.0   \n",
       "18           61         2bbl  2.91    3.03               9.5       48.0   \n",
       "19           90         2bbl  3.03    3.11               9.6       70.0   \n",
       "\n",
       "    peak-rpm city-mpg  highway-mpg    price  \n",
       "0     5000.0       21           27  13495.0  \n",
       "1     5000.0       21           27  16500.0  \n",
       "2     5000.0       19           26  16500.0  \n",
       "3     5500.0       24           30  13950.0  \n",
       "4     5500.0       18           22  17450.0  \n",
       "5     5500.0       19           25  15250.0  \n",
       "6     5500.0       19           25  17710.0  \n",
       "7     5500.0       19           25  18920.0  \n",
       "8     5500.0       17           20  23875.0  \n",
       "9     5500.0       16           22      NaN  \n",
       "10    5800.0       23           29  16430.0  \n",
       "11    5800.0       23           29  16925.0  \n",
       "12    4250.0       21           28  20970.0  \n",
       "13    4250.0       21           28  21105.0  \n",
       "14    4250.0       20           25  24565.0  \n",
       "15    5400.0       16           22  30760.0  \n",
       "16    5400.0       16           22  41315.0  \n",
       "17    5400.0       15           20  36880.0  \n",
       "18    5100.0       47           53   5151.0  \n",
       "19    5400.0       38           43   6295.0  \n",
       "\n",
       "[20 rows x 26 columns]"
      ]
     },
     "execution_count": 23,
     "metadata": {},
     "output_type": "execute_result"
    }
   ],
   "source": [
    "# Realice una lista de los valores que son identificados como datos faltantes\n",
    "# No olvide al final volver a cargar las cabeceras\n",
    "missing_values = [\"?\", \"l\"]\n",
    "csv_path = \"https://archive.ics.uci.edu/ml/machine-learning-databases/autos/imports-85.data\"\n",
    "df = pd.read_csv(csv_path, sep=\",\", header= None, na_values = missing_values)\n",
    "df.columns = headers\n",
    "df.head(20)"
   ]
  },
  {
   "cell_type": "markdown",
   "metadata": {
    "application/vnd.databricks.v1+cell": {
     "inputWidgets": {},
     "nuid": "4b8421b5-19a4-41f7-acc7-fc22f182b584",
     "showTitle": false,
     "title": ""
    }
   },
   "source": [
    "Vuelva a ejectuar la sentencia <code>print(df.isnull().sum())</code> para visualizar los datos faltantes"
   ]
  },
  {
   "cell_type": "markdown",
   "metadata": {
    "application/vnd.databricks.v1+cell": {
     "inputWidgets": {},
     "nuid": "89a2d5a1-905c-4784-a6d9-7a6ca4015852",
     "showTitle": false,
     "title": ""
    }
   },
   "source": [
    "<h3>Explorar relaciones entre los datos</h3>"
   ]
  },
  {
   "cell_type": "markdown",
   "metadata": {
    "application/vnd.databricks.v1+cell": {
     "inputWidgets": {},
     "nuid": "eac009b9-b37a-4688-966a-2973bd18763d",
     "showTitle": false,
     "title": ""
    }
   },
   "source": [
    "<h5>Variables numéricas continuas:</h5> \n",
    "\n",
    "<p>Las variables numéricas continuas son variables que pueden contener cualquier valor dentro de cierto rango. Las variables numéricas continuas pueden tener el tipo <b>int64</b> o <b>float64</b>. Una excelente manera de visualizar estas variables es mediante el uso de diagramas de dispersión con líneas ajustadas.</p>\n",
    "<p>Para comenzar a comprender la relación (lineal) entre una variable individual y el precio. Podemos hacer esto usando <code>regplot</code>, que traza el diagrama de dispersión más la línea de regresión ajustada para los datos.</p>"
   ]
  },
  {
   "cell_type": "markdown",
   "metadata": {
    "application/vnd.databricks.v1+cell": {
     "inputWidgets": {},
     "nuid": "b05210e4-86e4-4fb1-bd1e-eca95aca1e7c",
     "showTitle": false,
     "title": ""
    }
   },
   "source": [
    "Vamos a importar las librerías Matplotlib y Seaborn para la visualización de datos. Les ponemos un alias <strong>plt</strong> y <strong>sns</strong> para que sea más fácil su uso:"
   ]
  },
  {
   "cell_type": "code",
   "execution_count": 24,
   "metadata": {
    "application/vnd.databricks.v1+cell": {
     "inputWidgets": {},
     "nuid": "017dbf38-1268-483b-8130-8c71c6a9ab5d",
     "showTitle": false,
     "title": ""
    }
   },
   "outputs": [],
   "source": [
    "import matplotlib.pyplot as plt\n",
    "import seaborn as sns"
   ]
  },
  {
   "cell_type": "markdown",
   "metadata": {
    "application/vnd.databricks.v1+cell": {
     "inputWidgets": {},
     "nuid": "3ac697b0-59d4-47c9-a5a6-00df1c045f84",
     "showTitle": false,
     "title": ""
    }
   },
   "source": [
    "Visualicemos el diagrama de dispersión de tamaño del motor (<b>engine-size</b>) y precio (<b>price</b>)"
   ]
  },
  {
   "cell_type": "code",
   "execution_count": 25,
   "metadata": {
    "application/vnd.databricks.v1+cell": {
     "inputWidgets": {},
     "nuid": "7f6b0b01-57f5-4973-8643-68690ab3cde5",
     "showTitle": false,
     "title": ""
    }
   },
   "outputs": [
    {
     "data": {
      "text/plain": [
       "(0.0, 53391.0748408319)"
      ]
     },
     "execution_count": 25,
     "metadata": {},
     "output_type": "execute_result"
    },
    {
     "data": {
      "image/png": "[encoded data removed]",
      "image/svg+xml": "<?xml version=\"1.0\" encoding=\"utf-8\" standalone=\"no\"?>\n<!DOCTYPE svg PUBLIC \"-//W3C//DTD SVG 1.1//EN\"\n  \"http://www.w3.org/Graphics/SVG/1.1/DTD/svg11.dtd\">\n<svg xmlns:xlink=\"http://www.w3.org/1999/xlink\" width=\"404.259531pt\" height=\"266.514844pt\" viewBox=\"0 0 404.259531 266.514844\" xmlns=\"http://www.w3.org/2000/svg\" version=\"1.1\">\n <metadata>\n  <rdf:RDF xmlns:dc=\"http://purl.org/dc/elements/1.1/\" xmlns:cc=\"http://creativecommons.org/ns#\" xmlns:rdf=\"http://www.w3.org/1999/02/22-rdf-syntax-ns#\">\n   <cc:Work>\n    <dc:type rdf:resource=\"http://purl.org/dc/dcmitype/StillImage\"/>\n    <dc:date>2022-02-07T12:59:08.176213</dc:date>\n    <dc:format>image/svg+xml</dc:format>\n    <dc:creator>\n     <cc:Agent>\n      <dc:title>Matplotlib v3.5.0, https://matplotlib.org/</dc:title>\n     </cc:Agent>\n    </dc:creator>\n   </cc:Work>\n  </rdf:RDF>\n </metadata>\n <defs>\n  <style type=\"text/css\">*{stroke-linejoin: round; stroke-linecap: butt}</style>\n </defs>\n <g id=\"figure_1\">\n  <g id=\"patch_1\">\n   <path d=\"M 0 266.514844 \nL 404.259531 266.514844 \nL 404.259531 0 \nL 0 0 \nz\n\" style=\"fill: #ffffff\"/>\n  </g>\n  <g id=\"axes_1\">\n   <g id=\"patch_2\">\n    <path d=\"M 62.259531 224.64 \nL 397.059531 224.64 \nL 397.059531 7.2 \nL 62.259531 7.2 \nz\n\" style=\"fill: #ffffff\"/>\n   </g>\n   <g id=\"matplotlib.axis_1\">\n    <g id=\"xtick_1\">\n     <g id=\"line2d_1\">\n      <path d=\"M 64.843751 224.64 \nL 64.843751 7.2 \n\" clip-path=\"url(#pb1c8159c72)\" style=\"fill: none; stroke: #cccccc; stroke-linecap: round\"/>\n     </g>\n     <g id=\"text_1\">\n      <!-- 50 -->\n      <g style=\"fill: #262626\" transform=\"translate(58.72672 242.013594)scale(0.11 -0.11)\">\n       <defs>\n        <path id=\"ArialMT-35\" d=\"M 266 1200 \nL 856 1250 \nQ 922 819 1161 601 \nQ 1400 384 1738 384 \nQ 2144 384 2425 690 \nQ 2706 997 2706 1503 \nQ 2706 1984 2436 2262 \nQ 2166 2541 1728 2541 \nQ 1456 2541 1237 2417 \nQ 1019 2294 894 2097 \nL 366 2166 \nL 809 4519 \nL 3088 4519 \nL 3088 3981 \nL 1259 3981 \nL 1013 2750 \nQ 1425 3038 1878 3038 \nQ 2478 3038 2890 2622 \nQ 3303 2206 3303 1553 \nQ 3303 931 2941 478 \nQ 2500 -78 1738 -78 \nQ 1113 -78 717 272 \nQ 322 622 266 1200 \nz\n\" transform=\"scale(0.015625)\"/>\n        <path id=\"ArialMT-30\" d=\"M 266 2259 \nQ 266 3072 433 3567 \nQ 600 4063 929 4331 \nQ 1259 4600 1759 4600 \nQ 2128 4600 2406 4451 \nQ 2684 4303 2865 4023 \nQ 3047 3744 3150 3342 \nQ 3253 2941 3253 2259 \nQ 3253 1453 3087 958 \nQ 2922 463 2592 192 \nQ 2263 -78 1759 -78 \nQ 1097 -78 719 397 \nQ 266 969 266 2259 \nz\nM 844 2259 \nQ 844 1131 1108 757 \nQ 1372 384 1759 384 \nQ 2147 384 2411 759 \nQ 2675 1134 2675 2259 \nQ 2675 3391 2411 3762 \nQ 2147 4134 1753 4134 \nQ 1366 4134 1134 3806 \nQ 844 3388 844 2259 \nz\n\" transform=\"scale(0.015625)\"/>\n       </defs>\n       <use xlink:href=\"#ArialMT-35\"/>\n       <use xlink:href=\"#ArialMT-30\" x=\"55.615234\"/>\n      </g>\n     </g>\n    </g>\n    <g id=\"xtick_2\">\n     <g id=\"line2d_2\">\n      <path d=\"M 122.270852 224.64 \nL 122.270852 7.2 \n\" clip-path=\"url(#pb1c8159c72)\" style=\"fill: none; stroke: #cccccc; stroke-linecap: round\"/>\n     </g>\n     <g id=\"text_2\">\n      <!-- 100 -->\n      <g style=\"fill: #262626\" transform=\"translate(113.095305 242.013594)scale(0.11 -0.11)\">\n       <defs>\n        <path id=\"ArialMT-31\" d=\"M 2384 0 \nL 1822 0 \nL 1822 3584 \nQ 1619 3391 1289 3197 \nQ 959 3003 697 2906 \nL 697 3450 \nQ 1169 3672 1522 3987 \nQ 1875 4303 2022 4600 \nL 2384 4600 \nL 2384 0 \nz\n\" transform=\"scale(0.015625)\"/>\n       </defs>\n       <use xlink:href=\"#ArialMT-31\"/>\n       <use xlink:href=\"#ArialMT-30\" x=\"55.615234\"/>\n       <use xlink:href=\"#ArialMT-30\" x=\"111.230469\"/>\n      </g>\n     </g>\n    </g>\n    <g id=\"xtick_3\">\n     <g id=\"line2d_3\">\n      <path d=\"M 179.697953 224.64 \nL 179.697953 7.2 \n\" clip-path=\"url(#pb1c8159c72)\" style=\"fill: none; stroke: #cccccc; stroke-linecap: round\"/>\n     </g>\n     <g id=\"text_3\">\n      <!-- 150 -->\n      <g style=\"fill: #262626\" transform=\"translate(170.522406 242.013594)scale(0.11 -0.11)\">\n       <use xlink:href=\"#ArialMT-31\"/>\n       <use xlink:href=\"#ArialMT-35\" x=\"55.615234\"/>\n       <use xlink:href=\"#ArialMT-30\" x=\"111.230469\"/>\n      </g>\n     </g>\n    </g>\n    <g id=\"xtick_4\">\n     <g id=\"line2d_4\">\n      <path d=\"M 237.125054 224.64 \nL 237.125054 7.2 \n\" clip-path=\"url(#pb1c8159c72)\" style=\"fill: none; stroke: #cccccc; stroke-linecap: round\"/>\n     </g>\n     <g id=\"text_4\">\n      <!-- 200 -->\n      <g style=\"fill: #262626\" transform=\"translate(227.949508 242.013594)scale(0.11 -0.11)\">\n       <defs>\n        <path id=\"ArialMT-32\" d=\"M 3222 541 \nL 3222 0 \nL 194 0 \nQ 188 203 259 391 \nQ 375 700 629 1000 \nQ 884 1300 1366 1694 \nQ 2113 2306 2375 2664 \nQ 2638 3022 2638 3341 \nQ 2638 3675 2398 3904 \nQ 2159 4134 1775 4134 \nQ 1369 4134 1125 3890 \nQ 881 3647 878 3216 \nL 300 3275 \nQ 359 3922 746 4261 \nQ 1134 4600 1788 4600 \nQ 2447 4600 2831 4234 \nQ 3216 3869 3216 3328 \nQ 3216 3053 3103 2787 \nQ 2991 2522 2730 2228 \nQ 2469 1934 1863 1422 \nQ 1356 997 1212 845 \nQ 1069 694 975 541 \nL 3222 541 \nz\n\" transform=\"scale(0.015625)\"/>\n       </defs>\n       <use xlink:href=\"#ArialMT-32\"/>\n       <use xlink:href=\"#ArialMT-30\" x=\"55.615234\"/>\n       <use xlink:href=\"#ArialMT-30\" x=\"111.230469\"/>\n      </g>\n     </g>\n    </g>\n    <g id=\"xtick_5\">\n     <g id=\"line2d_5\">\n      <path d=\"M 294.552156 224.64 \nL 294.552156 7.2 \n\" clip-path=\"url(#pb1c8159c72)\" style=\"fill: none; stroke: #cccccc; stroke-linecap: round\"/>\n     </g>\n     <g id=\"text_5\">\n      <!-- 250 -->\n      <g style=\"fill: #262626\" transform=\"translate(285.376609 242.013594)scale(0.11 -0.11)\">\n       <use xlink:href=\"#ArialMT-32\"/>\n       <use xlink:href=\"#ArialMT-35\" x=\"55.615234\"/>\n       <use xlink:href=\"#ArialMT-30\" x=\"111.230469\"/>\n      </g>\n     </g>\n    </g>\n    <g id=\"xtick_6\">\n     <g id=\"line2d_6\">\n      <path d=\"M 351.979257 224.64 \nL 351.979257 7.2 \n\" clip-path=\"url(#pb1c8159c72)\" style=\"fill: none; stroke: #cccccc; stroke-linecap: round\"/>\n     </g>\n     <g id=\"text_6\">\n      <!-- 300 -->\n      <g style=\"fill: #262626\" transform=\"translate(342.80371 242.013594)scale(0.11 -0.11)\">\n       <defs>\n        <path id=\"ArialMT-33\" d=\"M 269 1209 \nL 831 1284 \nQ 928 806 1161 595 \nQ 1394 384 1728 384 \nQ 2125 384 2398 659 \nQ 2672 934 2672 1341 \nQ 2672 1728 2419 1979 \nQ 2166 2231 1775 2231 \nQ 1616 2231 1378 2169 \nL 1441 2663 \nQ 1497 2656 1531 2656 \nQ 1891 2656 2178 2843 \nQ 2466 3031 2466 3422 \nQ 2466 3731 2256 3934 \nQ 2047 4138 1716 4138 \nQ 1388 4138 1169 3931 \nQ 950 3725 888 3313 \nL 325 3413 \nQ 428 3978 793 4289 \nQ 1159 4600 1703 4600 \nQ 2078 4600 2393 4439 \nQ 2709 4278 2876 4000 \nQ 3044 3722 3044 3409 \nQ 3044 3113 2884 2869 \nQ 2725 2625 2413 2481 \nQ 2819 2388 3044 2092 \nQ 3269 1797 3269 1353 \nQ 3269 753 2831 336 \nQ 2394 -81 1725 -81 \nQ 1122 -81 723 278 \nQ 325 638 269 1209 \nz\n\" transform=\"scale(0.015625)\"/>\n       </defs>\n       <use xlink:href=\"#ArialMT-33\"/>\n       <use xlink:href=\"#ArialMT-30\" x=\"55.615234\"/>\n       <use xlink:href=\"#ArialMT-30\" x=\"111.230469\"/>\n      </g>\n     </g>\n    </g>\n    <g id=\"text_7\">\n     <!-- engine-size -->\n     <g style=\"fill: #262626\" transform=\"translate(198.976094 256.789219)scale(0.12 -0.12)\">\n      <defs>\n       <path id=\"ArialMT-65\" d=\"M 2694 1069 \nL 3275 997 \nQ 3138 488 2766 206 \nQ 2394 -75 1816 -75 \nQ 1088 -75 661 373 \nQ 234 822 234 1631 \nQ 234 2469 665 2931 \nQ 1097 3394 1784 3394 \nQ 2450 3394 2872 2941 \nQ 3294 2488 3294 1666 \nQ 3294 1616 3291 1516 \nL 816 1516 \nQ 847 969 1125 678 \nQ 1403 388 1819 388 \nQ 2128 388 2347 550 \nQ 2566 713 2694 1069 \nz\nM 847 1978 \nL 2700 1978 \nQ 2663 2397 2488 2606 \nQ 2219 2931 1791 2931 \nQ 1403 2931 1139 2672 \nQ 875 2413 847 1978 \nz\n\" transform=\"scale(0.015625)\"/>\n       <path id=\"ArialMT-6e\" d=\"M 422 0 \nL 422 3319 \nL 928 3319 \nL 928 2847 \nQ 1294 3394 1984 3394 \nQ 2284 3394 2536 3286 \nQ 2788 3178 2913 3003 \nQ 3038 2828 3088 2588 \nQ 3119 2431 3119 2041 \nL 3119 0 \nL 2556 0 \nL 2556 2019 \nQ 2556 2363 2490 2533 \nQ 2425 2703 2258 2804 \nQ 2091 2906 1866 2906 \nQ 1506 2906 1245 2678 \nQ 984 2450 984 1813 \nL 984 0 \nL 422 0 \nz\n\" transform=\"scale(0.015625)\"/>\n       <path id=\"ArialMT-67\" d=\"M 319 -275 \nL 866 -356 \nQ 900 -609 1056 -725 \nQ 1266 -881 1628 -881 \nQ 2019 -881 2231 -725 \nQ 2444 -569 2519 -288 \nQ 2563 -116 2559 434 \nQ 2191 0 1641 0 \nQ 956 0 581 494 \nQ 206 988 206 1678 \nQ 206 2153 378 2554 \nQ 550 2956 876 3175 \nQ 1203 3394 1644 3394 \nQ 2231 3394 2613 2919 \nL 2613 3319 \nL 3131 3319 \nL 3131 450 \nQ 3131 -325 2973 -648 \nQ 2816 -972 2473 -1159 \nQ 2131 -1347 1631 -1347 \nQ 1038 -1347 672 -1080 \nQ 306 -813 319 -275 \nz\nM 784 1719 \nQ 784 1066 1043 766 \nQ 1303 466 1694 466 \nQ 2081 466 2343 764 \nQ 2606 1063 2606 1700 \nQ 2606 2309 2336 2618 \nQ 2066 2928 1684 2928 \nQ 1309 2928 1046 2623 \nQ 784 2319 784 1719 \nz\n\" transform=\"scale(0.015625)\"/>\n       <path id=\"ArialMT-69\" d=\"M 425 3934 \nL 425 4581 \nL 988 4581 \nL 988 3934 \nL 425 3934 \nz\nM 425 0 \nL 425 3319 \nL 988 3319 \nL 988 0 \nL 425 0 \nz\n\" transform=\"scale(0.015625)\"/>\n       <path id=\"ArialMT-2d\" d=\"M 203 1375 \nL 203 1941 \nL 1931 1941 \nL 1931 1375 \nL 203 1375 \nz\n\" transform=\"scale(0.015625)\"/>\n       <path id=\"ArialMT-73\" d=\"M 197 991 \nL 753 1078 \nQ 800 744 1014 566 \nQ 1228 388 1613 388 \nQ 2000 388 2187 545 \nQ 2375 703 2375 916 \nQ 2375 1106 2209 1216 \nQ 2094 1291 1634 1406 \nQ 1016 1563 777 1677 \nQ 538 1791 414 1992 \nQ 291 2194 291 2438 \nQ 291 2659 392 2848 \nQ 494 3038 669 3163 \nQ 800 3259 1026 3326 \nQ 1253 3394 1513 3394 \nQ 1903 3394 2198 3281 \nQ 2494 3169 2634 2976 \nQ 2775 2784 2828 2463 \nL 2278 2388 \nQ 2241 2644 2061 2787 \nQ 1881 2931 1553 2931 \nQ 1166 2931 1000 2803 \nQ 834 2675 834 2503 \nQ 834 2394 903 2306 \nQ 972 2216 1119 2156 \nQ 1203 2125 1616 2013 \nQ 2213 1853 2448 1751 \nQ 2684 1650 2818 1456 \nQ 2953 1263 2953 975 \nQ 2953 694 2789 445 \nQ 2625 197 2315 61 \nQ 2006 -75 1616 -75 \nQ 969 -75 630 194 \nQ 291 463 197 991 \nz\n\" transform=\"scale(0.015625)\"/>\n       <path id=\"ArialMT-7a\" d=\"M 125 0 \nL 125 456 \nL 2238 2881 \nQ 1878 2863 1603 2863 \nL 250 2863 \nL 250 3319 \nL 2963 3319 \nL 2963 2947 \nL 1166 841 \nL 819 456 \nQ 1197 484 1528 484 \nL 3063 484 \nL 3063 0 \nL 125 0 \nz\n\" transform=\"scale(0.015625)\"/>\n      </defs>\n      <use xlink:href=\"#ArialMT-65\"/>\n      <use xlink:href=\"#ArialMT-6e\" x=\"55.615234\"/>\n      <use xlink:href=\"#ArialMT-67\" x=\"111.230469\"/>\n      <use xlink:href=\"#ArialMT-69\" x=\"166.845703\"/>\n      <use xlink:href=\"#ArialMT-6e\" x=\"189.0625\"/>\n      <use xlink:href=\"#ArialMT-65\" x=\"244.677734\"/>\n      <use xlink:href=\"#ArialMT-2d\" x=\"300.292969\"/>\n      <use xlink:href=\"#ArialMT-73\" x=\"333.59375\"/>\n      <use xlink:href=\"#ArialMT-69\" x=\"383.59375\"/>\n      <use xlink:href=\"#ArialMT-7a\" x=\"405.810547\"/>\n      <use xlink:href=\"#ArialMT-65\" x=\"455.810547\"/>\n     </g>\n    </g>\n   </g>\n   <g id=\"matplotlib.axis_2\">\n    <g id=\"ytick_1\">\n     <g id=\"line2d_7\">\n      <path d=\"M 62.259531 224.64 \nL 397.059531 224.64 \n\" clip-path=\"url(#pb1c8159c72)\" style=\"fill: none; stroke: #cccccc; stroke-linecap: round\"/>\n     </g>\n     <g id=\"text_8\">\n      <!-- 0 -->\n      <g style=\"fill: #262626\" transform=\"translate(46.6425 228.576797)scale(0.11 -0.11)\">\n       <use xlink:href=\"#ArialMT-30\"/>\n      </g>\n     </g>\n    </g>\n    <g id=\"ytick_2\">\n     <g id=\"line2d_8\">\n      <path d=\"M 62.259531 183.914092 \nL 397.059531 183.914092 \n\" clip-path=\"url(#pb1c8159c72)\" style=\"fill: none; stroke: #cccccc; stroke-linecap: round\"/>\n     </g>\n     <g id=\"text_9\">\n      <!-- 10000 -->\n      <g style=\"fill: #262626\" transform=\"translate(22.174375 187.850889)scale(0.11 -0.11)\">\n       <use xlink:href=\"#ArialMT-31\"/>\n       <use xlink:href=\"#ArialMT-30\" x=\"55.615234\"/>\n       <use xlink:href=\"#ArialMT-30\" x=\"111.230469\"/>\n       <use xlink:href=\"#ArialMT-30\" x=\"166.845703\"/>\n       <use xlink:href=\"#ArialMT-30\" x=\"222.460938\"/>\n      </g>\n     </g>\n    </g>\n    <g id=\"ytick_3\">\n     <g id=\"line2d_9\">\n      <path d=\"M 62.259531 143.188184 \nL 397.059531 143.188184 \n\" clip-path=\"url(#pb1c8159c72)\" style=\"fill: none; stroke: #cccccc; stroke-linecap: round\"/>\n     </g>\n     <g id=\"text_10\">\n      <!-- 20000 -->\n      <g style=\"fill: #262626\" transform=\"translate(22.174375 147.124981)scale(0.11 -0.11)\">\n       <use xlink:href=\"#ArialMT-32\"/>\n       <use xlink:href=\"#ArialMT-30\" x=\"55.615234\"/>\n       <use xlink:href=\"#ArialMT-30\" x=\"111.230469\"/>\n       <use xlink:href=\"#ArialMT-30\" x=\"166.845703\"/>\n       <use xlink:href=\"#ArialMT-30\" x=\"222.460938\"/>\n      </g>\n     </g>\n    </g>\n    <g id=\"ytick_4\">\n     <g id=\"line2d_10\">\n      <path d=\"M 62.259531 102.462276 \nL 397.059531 102.462276 \n\" clip-path=\"url(#pb1c8159c72)\" style=\"fill: none; stroke: #cccccc; stroke-linecap: round\"/>\n     </g>\n     <g id=\"text_11\">\n      <!-- 30000 -->\n      <g style=\"fill: #262626\" transform=\"translate(22.174375 106.399073)scale(0.11 -0.11)\">\n       <use xlink:href=\"#ArialMT-33\"/>\n       <use xlink:href=\"#ArialMT-30\" x=\"55.615234\"/>\n       <use xlink:href=\"#ArialMT-30\" x=\"111.230469\"/>\n       <use xlink:href=\"#ArialMT-30\" x=\"166.845703\"/>\n       <use xlink:href=\"#ArialMT-30\" x=\"222.460938\"/>\n      </g>\n     </g>\n    </g>\n    <g id=\"ytick_5\">\n     <g id=\"line2d_11\">\n      <path d=\"M 62.259531 61.736368 \nL 397.059531 61.736368 \n\" clip-path=\"url(#pb1c8159c72)\" style=\"fill: none; stroke: #cccccc; stroke-linecap: round\"/>\n     </g>\n     <g id=\"text_12\">\n      <!-- 40000 -->\n      <g style=\"fill: #262626\" transform=\"translate(22.174375 65.673165)scale(0.11 -0.11)\">\n       <defs>\n        <path id=\"ArialMT-34\" d=\"M 2069 0 \nL 2069 1097 \nL 81 1097 \nL 81 1613 \nL 2172 4581 \nL 2631 4581 \nL 2631 1613 \nL 3250 1613 \nL 3250 1097 \nL 2631 1097 \nL 2631 0 \nL 2069 0 \nz\nM 2069 1613 \nL 2069 3678 \nL 634 1613 \nL 2069 1613 \nz\n\" transform=\"scale(0.015625)\"/>\n       </defs>\n       <use xlink:href=\"#ArialMT-34\"/>\n       <use xlink:href=\"#ArialMT-30\" x=\"55.615234\"/>\n       <use xlink:href=\"#ArialMT-30\" x=\"111.230469\"/>\n       <use xlink:href=\"#ArialMT-30\" x=\"166.845703\"/>\n       <use xlink:href=\"#ArialMT-30\" x=\"222.460938\"/>\n      </g>\n     </g>\n    </g>\n    <g id=\"ytick_6\">\n     <g id=\"line2d_12\">\n      <path d=\"M 62.259531 21.01046 \nL 397.059531 21.01046 \n\" clip-path=\"url(#pb1c8159c72)\" style=\"fill: none; stroke: #cccccc; stroke-linecap: round\"/>\n     </g>\n     <g id=\"text_13\">\n      <!-- 50000 -->\n      <g style=\"fill: #262626\" transform=\"translate(22.174375 24.947257)scale(0.11 -0.11)\">\n       <use xlink:href=\"#ArialMT-35\"/>\n       <use xlink:href=\"#ArialMT-30\" x=\"55.615234\"/>\n       <use xlink:href=\"#ArialMT-30\" x=\"111.230469\"/>\n       <use xlink:href=\"#ArialMT-30\" x=\"166.845703\"/>\n       <use xlink:href=\"#ArialMT-30\" x=\"222.460938\"/>\n      </g>\n     </g>\n    </g>\n    <g id=\"text_14\">\n     <!-- price -->\n     <g style=\"fill: #262626\" transform=\"translate(15.789375 128.924062)rotate(-90)scale(0.12 -0.12)\">\n      <defs>\n       <path id=\"ArialMT-70\" d=\"M 422 -1272 \nL 422 3319 \nL 934 3319 \nL 934 2888 \nQ 1116 3141 1344 3267 \nQ 1572 3394 1897 3394 \nQ 2322 3394 2647 3175 \nQ 2972 2956 3137 2557 \nQ 3303 2159 3303 1684 \nQ 3303 1175 3120 767 \nQ 2938 359 2589 142 \nQ 2241 -75 1856 -75 \nQ 1575 -75 1351 44 \nQ 1128 163 984 344 \nL 984 -1272 \nL 422 -1272 \nz\nM 931 1641 \nQ 931 1000 1190 694 \nQ 1450 388 1819 388 \nQ 2194 388 2461 705 \nQ 2728 1022 2728 1688 \nQ 2728 2322 2467 2637 \nQ 2206 2953 1844 2953 \nQ 1484 2953 1207 2617 \nQ 931 2281 931 1641 \nz\n\" transform=\"scale(0.015625)\"/>\n       <path id=\"ArialMT-72\" d=\"M 416 0 \nL 416 3319 \nL 922 3319 \nL 922 2816 \nQ 1116 3169 1280 3281 \nQ 1444 3394 1641 3394 \nQ 1925 3394 2219 3213 \nL 2025 2691 \nQ 1819 2813 1613 2813 \nQ 1428 2813 1281 2702 \nQ 1134 2591 1072 2394 \nQ 978 2094 978 1738 \nL 978 0 \nL 416 0 \nz\n\" transform=\"scale(0.015625)\"/>\n       <path id=\"ArialMT-63\" d=\"M 2588 1216 \nL 3141 1144 \nQ 3050 572 2676 248 \nQ 2303 -75 1759 -75 \nQ 1078 -75 664 370 \nQ 250 816 250 1647 \nQ 250 2184 428 2587 \nQ 606 2991 970 3192 \nQ 1334 3394 1763 3394 \nQ 2303 3394 2647 3120 \nQ 2991 2847 3088 2344 \nL 2541 2259 \nQ 2463 2594 2264 2762 \nQ 2066 2931 1784 2931 \nQ 1359 2931 1093 2626 \nQ 828 2322 828 1663 \nQ 828 994 1084 691 \nQ 1341 388 1753 388 \nQ 2084 388 2306 591 \nQ 2528 794 2588 1216 \nz\n\" transform=\"scale(0.015625)\"/>\n      </defs>\n      <use xlink:href=\"#ArialMT-70\"/>\n      <use xlink:href=\"#ArialMT-72\" x=\"55.615234\"/>\n      <use xlink:href=\"#ArialMT-69\" x=\"88.916016\"/>\n      <use xlink:href=\"#ArialMT-63\" x=\"111.132812\"/>\n      <use xlink:href=\"#ArialMT-65\" x=\"161.132812\"/>\n     </g>\n    </g>\n   </g>\n   <g id=\"PathCollection_1\">\n    <defs>\n     <path id=\"m3bbda8800d\" d=\"M 0 3 \nC 0.795609 3 1.55874 2.683901 2.12132 2.12132 \nC 2.683901 1.55874 3 0.795609 3 0 \nC 3 -0.795609 2.683901 -1.55874 2.12132 -2.12132 \nC 1.55874 -2.683901 0.795609 -3 0 -3 \nC -0.795609 -3 -1.55874 -2.683901 -2.12132 -2.12132 \nC -2.683901 -1.55874 -3 -0.795609 -3 0 \nC -3 0.795609 -2.683901 1.55874 -2.12132 2.12132 \nC -1.55874 2.683901 -0.795609 3 0 3 \nz\n\" style=\"stroke: #4c72b0; stroke-opacity: 0.8\"/>\n    </defs>\n    <g clip-path=\"url(#pb1c8159c72)\">\n     <use xlink:href=\"#m3bbda8800d\" x=\"156.727113\" y=\"169.680387\" style=\"fill: #4c72b0; fill-opacity: 0.8; stroke: #4c72b0; stroke-opacity: 0.8\"/>\n     <use xlink:href=\"#m3bbda8800d\" x=\"156.727113\" y=\"157.442252\" style=\"fill: #4c72b0; fill-opacity: 0.8; stroke: #4c72b0; stroke-opacity: 0.8\"/>\n     <use xlink:href=\"#m3bbda8800d\" x=\"181.995037\" y=\"157.442252\" style=\"fill: #4c72b0; fill-opacity: 0.8; stroke: #4c72b0; stroke-opacity: 0.8\"/>\n     <use xlink:href=\"#m3bbda8800d\" x=\"132.60773\" y=\"167.827358\" style=\"fill: #4c72b0; fill-opacity: 0.8; stroke: #4c72b0; stroke-opacity: 0.8\"/>\n     <use xlink:href=\"#m3bbda8800d\" x=\"163.618365\" y=\"153.573291\" style=\"fill: #4c72b0; fill-opacity: 0.8; stroke: #4c72b0; stroke-opacity: 0.8\"/>\n     <use xlink:href=\"#m3bbda8800d\" x=\"163.618365\" y=\"162.53299\" style=\"fill: #4c72b0; fill-opacity: 0.8; stroke: #4c72b0; stroke-opacity: 0.8\"/>\n     <use xlink:href=\"#m3bbda8800d\" x=\"163.618365\" y=\"152.514417\" style=\"fill: #4c72b0; fill-opacity: 0.8; stroke: #4c72b0; stroke-opacity: 0.8\"/>\n     <use xlink:href=\"#m3bbda8800d\" x=\"163.618365\" y=\"147.586582\" style=\"fill: #4c72b0; fill-opacity: 0.8; stroke: #4c72b0; stroke-opacity: 0.8\"/>\n     <use xlink:href=\"#m3bbda8800d\" x=\"157.875655\" y=\"127.406895\" style=\"fill: #4c72b0; fill-opacity: 0.8; stroke: #4c72b0; stroke-opacity: 0.8\"/>\n     <use xlink:href=\"#m3bbda8800d\" x=\"131.459188\" y=\"157.727333\" style=\"fill: #4c72b0; fill-opacity: 0.8; stroke: #4c72b0; stroke-opacity: 0.8\"/>\n     <use xlink:href=\"#m3bbda8800d\" x=\"131.459188\" y=\"155.711401\" style=\"fill: #4c72b0; fill-opacity: 0.8; stroke: #4c72b0; stroke-opacity: 0.8\"/>\n     <use xlink:href=\"#m3bbda8800d\" x=\"195.777542\" y=\"139.237771\" style=\"fill: #4c72b0; fill-opacity: 0.8; stroke: #4c72b0; stroke-opacity: 0.8\"/>\n     <use xlink:href=\"#m3bbda8800d\" x=\"195.777542\" y=\"138.687971\" style=\"fill: #4c72b0; fill-opacity: 0.8; stroke: #4c72b0; stroke-opacity: 0.8\"/>\n     <use xlink:href=\"#m3bbda8800d\" x=\"195.777542\" y=\"124.596807\" style=\"fill: #4c72b0; fill-opacity: 0.8; stroke: #4c72b0; stroke-opacity: 0.8\"/>\n     <use xlink:href=\"#m3bbda8800d\" x=\"247.461933\" y=\"99.367107\" style=\"fill: #4c72b0; fill-opacity: 0.8; stroke: #4c72b0; stroke-opacity: 0.8\"/>\n     <use xlink:href=\"#m3bbda8800d\" x=\"247.461933\" y=\"56.380911\" style=\"fill: #4c72b0; fill-opacity: 0.8; stroke: #4c72b0; stroke-opacity: 0.8\"/>\n     <use xlink:href=\"#m3bbda8800d\" x=\"247.461933\" y=\"74.442851\" style=\"fill: #4c72b0; fill-opacity: 0.8; stroke: #4c72b0; stroke-opacity: 0.8\"/>\n     <use xlink:href=\"#m3bbda8800d\" x=\"77.477713\" y=\"203.662085\" style=\"fill: #4c72b0; fill-opacity: 0.8; stroke: #4c72b0; stroke-opacity: 0.8\"/>\n     <use xlink:href=\"#m3bbda8800d\" x=\"110.785432\" y=\"199.003041\" style=\"fill: #4c72b0; fill-opacity: 0.8; stroke: #4c72b0; stroke-opacity: 0.8\"/>\n     <use xlink:href=\"#m3bbda8800d\" x=\"110.785432\" y=\"197.862716\" style=\"fill: #4c72b0; fill-opacity: 0.8; stroke: #4c72b0; stroke-opacity: 0.8\"/>\n     <use xlink:href=\"#m3bbda8800d\" x=\"110.785432\" y=\"201.947524\" style=\"fill: #4c72b0; fill-opacity: 0.8; stroke: #4c72b0; stroke-opacity: 0.8\"/>\n     <use xlink:href=\"#m3bbda8800d\" x=\"110.785432\" y=\"198.669088\" style=\"fill: #4c72b0; fill-opacity: 0.8; stroke: #4c72b0; stroke-opacity: 0.8\"/>\n     <use xlink:href=\"#m3bbda8800d\" x=\"119.973768\" y=\"192.234395\" style=\"fill: #4c72b0; fill-opacity: 0.8; stroke: #4c72b0; stroke-opacity: 0.8\"/>\n     <use xlink:href=\"#m3bbda8800d\" x=\"110.785432\" y=\"199.271832\" style=\"fill: #4c72b0; fill-opacity: 0.8; stroke: #4c72b0; stroke-opacity: 0.8\"/>\n     <use xlink:href=\"#m3bbda8800d\" x=\"110.785432\" y=\"197.386222\" style=\"fill: #4c72b0; fill-opacity: 0.8; stroke: #4c72b0; stroke-opacity: 0.8\"/>\n     <use xlink:href=\"#m3bbda8800d\" x=\"110.785432\" y=\"193.651657\" style=\"fill: #4c72b0; fill-opacity: 0.8; stroke: #4c72b0; stroke-opacity: 0.8\"/>\n     <use xlink:href=\"#m3bbda8800d\" x=\"119.973768\" y=\"189.786768\" style=\"fill: #4c72b0; fill-opacity: 0.8; stroke: #4c72b0; stroke-opacity: 0.8\"/>\n     <use xlink:href=\"#m3bbda8800d\" x=\"147.538777\" y=\"188.308418\" style=\"fill: #4c72b0; fill-opacity: 0.8; stroke: #4c72b0; stroke-opacity: 0.8\"/>\n     <use xlink:href=\"#m3bbda8800d\" x=\"186.589205\" y=\"171.842933\" style=\"fill: #4c72b0; fill-opacity: 0.8; stroke: #4c72b0; stroke-opacity: 0.8\"/>\n     <use xlink:href=\"#m3bbda8800d\" x=\"113.082516\" y=\"198.253684\" style=\"fill: #4c72b0; fill-opacity: 0.8; stroke: #4c72b0; stroke-opacity: 0.8\"/>\n     <use xlink:href=\"#m3bbda8800d\" x=\"113.082516\" y=\"196.72239\" style=\"fill: #4c72b0; fill-opacity: 0.8; stroke: #4c72b0; stroke-opacity: 0.8\"/>\n     <use xlink:href=\"#m3bbda8800d\" x=\"98.15147\" y=\"202.652082\" style=\"fill: #4c72b0; fill-opacity: 0.8; stroke: #4c72b0; stroke-opacity: 0.8\"/>\n     <use xlink:href=\"#m3bbda8800d\" x=\"113.082516\" y=\"198.050055\" style=\"fill: #4c72b0; fill-opacity: 0.8; stroke: #4c72b0; stroke-opacity: 0.8\"/>\n     <use xlink:href=\"#m3bbda8800d\" x=\"113.082516\" y=\"195.6065\" style=\"fill: #4c72b0; fill-opacity: 0.8; stroke: #4c72b0; stroke-opacity: 0.8\"/>\n     <use xlink:href=\"#m3bbda8800d\" x=\"113.082516\" y=\"194.93045\" style=\"fill: #4c72b0; fill-opacity: 0.8; stroke: #4c72b0; stroke-opacity: 0.8\"/>\n     <use xlink:href=\"#m3bbda8800d\" x=\"113.082516\" y=\"194.93045\" style=\"fill: #4c72b0; fill-opacity: 0.8; stroke: #4c72b0; stroke-opacity: 0.8\"/>\n     <use xlink:href=\"#m3bbda8800d\" x=\"133.756272\" y=\"192.486896\" style=\"fill: #4c72b0; fill-opacity: 0.8; stroke: #4c72b0; stroke-opacity: 0.8\"/>\n     <use xlink:href=\"#m3bbda8800d\" x=\"133.756272\" y=\"187.599787\" style=\"fill: #4c72b0; fill-opacity: 0.8; stroke: #4c72b0; stroke-opacity: 0.8\"/>\n     <use xlink:href=\"#m3bbda8800d\" x=\"133.756272\" y=\"188.617934\" style=\"fill: #4c72b0; fill-opacity: 0.8; stroke: #4c72b0; stroke-opacity: 0.8\"/>\n     <use xlink:href=\"#m3bbda8800d\" x=\"133.756272\" y=\"182.712678\" style=\"fill: #4c72b0; fill-opacity: 0.8; stroke: #4c72b0; stroke-opacity: 0.8\"/>\n     <use xlink:href=\"#m3bbda8800d\" x=\"133.756272\" y=\"171.920312\" style=\"fill: #4c72b0; fill-opacity: 0.8; stroke: #4c72b0; stroke-opacity: 0.8\"/>\n     <use xlink:href=\"#m3bbda8800d\" x=\"133.756272\" y=\"182.509048\" style=\"fill: #4c72b0; fill-opacity: 0.8; stroke: #4c72b0; stroke-opacity: 0.8\"/>\n     <use xlink:href=\"#m3bbda8800d\" x=\"134.904814\" y=\"197.007471\" style=\"fill: #4c72b0; fill-opacity: 0.8; stroke: #4c72b0; stroke-opacity: 0.8\"/>\n     <use xlink:href=\"#m3bbda8800d\" x=\"144.09315\" y=\"179.646017\" style=\"fill: #4c72b0; fill-opacity: 0.8; stroke: #4c72b0; stroke-opacity: 0.8\"/>\n     <use xlink:href=\"#m3bbda8800d\" x=\"303.740492\" y=\"93.298947\" style=\"fill: #4c72b0; fill-opacity: 0.8; stroke: #4c72b0; stroke-opacity: 0.8\"/>\n     <use xlink:href=\"#m3bbda8800d\" x=\"303.740492\" y=\"79.859397\" style=\"fill: #4c72b0; fill-opacity: 0.8; stroke: #4c72b0; stroke-opacity: 0.8\"/>\n     <use xlink:href=\"#m3bbda8800d\" x=\"381.841349\" y=\"78.026731\" style=\"fill: #4c72b0; fill-opacity: 0.8; stroke: #4c72b0; stroke-opacity: 0.8\"/>\n     <use xlink:href=\"#m3bbda8800d\" x=\"111.933974\" y=\"203.482891\" style=\"fill: #4c72b0; fill-opacity: 0.8; stroke: #4c72b0; stroke-opacity: 0.8\"/>\n     <use xlink:href=\"#m3bbda8800d\" x=\"111.933974\" y=\"199.817559\" style=\"fill: #4c72b0; fill-opacity: 0.8; stroke: #4c72b0; stroke-opacity: 0.8\"/>\n     <use xlink:href=\"#m3bbda8800d\" x=\"111.933974\" y=\"196.966746\" style=\"fill: #4c72b0; fill-opacity: 0.8; stroke: #4c72b0; stroke-opacity: 0.8\"/>\n     <use xlink:href=\"#m3bbda8800d\" x=\"111.933974\" y=\"197.374005\" style=\"fill: #4c72b0; fill-opacity: 0.8; stroke: #4c72b0; stroke-opacity: 0.8\"/>\n     <use xlink:href=\"#m3bbda8800d\" x=\"111.933974\" y=\"194.523191\" style=\"fill: #4c72b0; fill-opacity: 0.8; stroke: #4c72b0; stroke-opacity: 0.8\"/>\n     <use xlink:href=\"#m3bbda8800d\" x=\"87.814591\" y=\"180.065494\" style=\"fill: #4c72b0; fill-opacity: 0.8; stroke: #4c72b0; stroke-opacity: 0.8\"/>\n     <use xlink:href=\"#m3bbda8800d\" x=\"87.814591\" y=\"176.400162\" style=\"fill: #4c72b0; fill-opacity: 0.8; stroke: #4c72b0; stroke-opacity: 0.8\"/>\n     <use xlink:href=\"#m3bbda8800d\" x=\"87.814591\" y=\"169.069499\" style=\"fill: #4c72b0; fill-opacity: 0.8; stroke: #4c72b0; stroke-opacity: 0.8\"/>\n     <use xlink:href=\"#m3bbda8800d\" x=\"99.300012\" y=\"160.924317\" style=\"fill: #4c72b0; fill-opacity: 0.8; stroke: #4c72b0; stroke-opacity: 0.8\"/>\n     <use xlink:href=\"#m3bbda8800d\" x=\"147.538777\" y=\"188.617934\" style=\"fill: #4c72b0; fill-opacity: 0.8; stroke: #4c72b0; stroke-opacity: 0.8\"/>\n     <use xlink:href=\"#m3bbda8800d\" x=\"147.538777\" y=\"190.043341\" style=\"fill: #4c72b0; fill-opacity: 0.8; stroke: #4c72b0; stroke-opacity: 0.8\"/>\n     <use xlink:href=\"#m3bbda8800d\" x=\"147.538777\" y=\"181.490901\" style=\"fill: #4c72b0; fill-opacity: 0.8; stroke: #4c72b0; stroke-opacity: 0.8\"/>\n     <use xlink:href=\"#m3bbda8800d\" x=\"147.538777\" y=\"182.916307\" style=\"fill: #4c72b0; fill-opacity: 0.8; stroke: #4c72b0; stroke-opacity: 0.8\"/>\n     <use xlink:href=\"#m3bbda8800d\" x=\"147.538777\" y=\"180.676382\" style=\"fill: #4c72b0; fill-opacity: 0.8; stroke: #4c72b0; stroke-opacity: 0.8\"/>\n     <use xlink:href=\"#m3bbda8800d\" x=\"147.538777\" y=\"178.843716\" style=\"fill: #4c72b0; fill-opacity: 0.8; stroke: #4c72b0; stroke-opacity: 0.8\"/>\n     <use xlink:href=\"#m3bbda8800d\" x=\"168.212533\" y=\"150.19304\" style=\"fill: #4c72b0; fill-opacity: 0.8; stroke: #4c72b0; stroke-opacity: 0.8\"/>\n     <use xlink:href=\"#m3bbda8800d\" x=\"161.321281\" y=\"149.932394\" style=\"fill: #4c72b0; fill-opacity: 0.8; stroke: #4c72b0; stroke-opacity: 0.8\"/>\n     <use xlink:href=\"#m3bbda8800d\" x=\"217.59984\" y=\"120.57716\" style=\"fill: #4c72b0; fill-opacity: 0.8; stroke: #4c72b0; stroke-opacity: 0.8\"/>\n     <use xlink:href=\"#m3bbda8800d\" x=\"217.59984\" y=\"109.597455\" style=\"fill: #4c72b0; fill-opacity: 0.8; stroke: #4c72b0; stroke-opacity: 0.8\"/>\n     <use xlink:href=\"#m3bbda8800d\" x=\"217.59984\" y=\"109.890682\" style=\"fill: #4c72b0; fill-opacity: 0.8; stroke: #4c72b0; stroke-opacity: 0.8\"/>\n     <use xlink:href=\"#m3bbda8800d\" x=\"217.59984\" y=\"95.946131\" style=\"fill: #4c72b0; fill-opacity: 0.8; stroke: #4c72b0; stroke-opacity: 0.8\"/>\n     <use xlink:href=\"#m3bbda8800d\" x=\"276.175483\" y=\"85.422556\" style=\"fill: #4c72b0; fill-opacity: 0.8; stroke: #4c72b0; stroke-opacity: 0.8\"/>\n     <use xlink:href=\"#m3bbda8800d\" x=\"276.175483\" y=\"81.871257\" style=\"fill: #4c72b0; fill-opacity: 0.8; stroke: #4c72b0; stroke-opacity: 0.8\"/>\n     <use xlink:href=\"#m3bbda8800d\" x=\"361.167593\" y=\"57.826681\" style=\"fill: #4c72b0; fill-opacity: 0.8; stroke: #4c72b0; stroke-opacity: 0.8\"/>\n     <use xlink:href=\"#m3bbda8800d\" x=\"356.573425\" y=\"39.744378\" style=\"fill: #4c72b0; fill-opacity: 0.8; stroke: #4c72b0; stroke-opacity: 0.8\"/>\n     <use xlink:href=\"#m3bbda8800d\" x=\"168.212533\" y=\"157.430034\" style=\"fill: #4c72b0; fill-opacity: 0.8; stroke: #4c72b0; stroke-opacity: 0.8\"/>\n     <use xlink:href=\"#m3bbda8800d\" x=\"113.082516\" y=\"202.692808\" style=\"fill: #4c72b0; fill-opacity: 0.8; stroke: #4c72b0; stroke-opacity: 0.8\"/>\n     <use xlink:href=\"#m3bbda8800d\" x=\"113.082516\" y=\"199.434736\" style=\"fill: #4c72b0; fill-opacity: 0.8; stroke: #4c72b0; stroke-opacity: 0.8\"/>\n     <use xlink:href=\"#m3bbda8800d\" x=\"113.082516\" y=\"197.479892\" style=\"fill: #4c72b0; fill-opacity: 0.8; stroke: #4c72b0; stroke-opacity: 0.8\"/>\n     <use xlink:href=\"#m3bbda8800d\" x=\"119.973768\" y=\"193.325849\" style=\"fill: #4c72b0; fill-opacity: 0.8; stroke: #4c72b0; stroke-opacity: 0.8\"/>\n     <use xlink:href=\"#m3bbda8800d\" x=\"133.756272\" y=\"184.081068\" style=\"fill: #4c72b0; fill-opacity: 0.8; stroke: #4c72b0; stroke-opacity: 0.8\"/>\n     <use xlink:href=\"#m3bbda8800d\" x=\"147.538777\" y=\"190.027051\" style=\"fill: #4c72b0; fill-opacity: 0.8; stroke: #4c72b0; stroke-opacity: 0.8\"/>\n     <use xlink:href=\"#m3bbda8800d\" x=\"186.589205\" y=\"173.207251\" style=\"fill: #4c72b0; fill-opacity: 0.8; stroke: #4c72b0; stroke-opacity: 0.8\"/>\n     <use xlink:href=\"#m3bbda8800d\" x=\"186.589205\" y=\"164.084647\" style=\"fill: #4c72b0; fill-opacity: 0.8; stroke: #4c72b0; stroke-opacity: 0.8\"/>\n     <use xlink:href=\"#m3bbda8800d\" x=\"186.589205\" y=\"165.632232\" style=\"fill: #4c72b0; fill-opacity: 0.8; stroke: #4c72b0; stroke-opacity: 0.8\"/>\n     <use xlink:href=\"#m3bbda8800d\" x=\"147.538777\" y=\"196.176663\" style=\"fill: #4c72b0; fill-opacity: 0.8; stroke: #4c72b0; stroke-opacity: 0.8\"/>\n     <use xlink:href=\"#m3bbda8800d\" x=\"147.538777\" y=\"191.289554\" style=\"fill: #4c72b0; fill-opacity: 0.8; stroke: #4c72b0; stroke-opacity: 0.8\"/>\n     <use xlink:href=\"#m3bbda8800d\" x=\"133.756272\" y=\"186.85043\" style=\"fill: #4c72b0; fill-opacity: 0.8; stroke: #4c72b0; stroke-opacity: 0.8\"/>\n     <use xlink:href=\"#m3bbda8800d\" x=\"133.756272\" y=\"186.85043\" style=\"fill: #4c72b0; fill-opacity: 0.8; stroke: #4c72b0; stroke-opacity: 0.8\"/>\n     <use xlink:href=\"#m3bbda8800d\" x=\"118.825226\" y=\"202.244823\" style=\"fill: #4c72b0; fill-opacity: 0.8; stroke: #4c72b0; stroke-opacity: 0.8\"/>\n     <use xlink:href=\"#m3bbda8800d\" x=\"125.716478\" y=\"195.728678\" style=\"fill: #4c72b0; fill-opacity: 0.8; stroke: #4c72b0; stroke-opacity: 0.8\"/>\n     <use xlink:href=\"#m3bbda8800d\" x=\"118.825226\" y=\"197.561344\" style=\"fill: #4c72b0; fill-opacity: 0.8; stroke: #4c72b0; stroke-opacity: 0.8\"/>\n     <use xlink:href=\"#m3bbda8800d\" x=\"118.825226\" y=\"196.746826\" style=\"fill: #4c72b0; fill-opacity: 0.8; stroke: #4c72b0; stroke-opacity: 0.8\"/>\n     <use xlink:href=\"#m3bbda8800d\" x=\"118.825226\" y=\"194.71053\" style=\"fill: #4c72b0; fill-opacity: 0.8; stroke: #4c72b0; stroke-opacity: 0.8\"/>\n     <use xlink:href=\"#m3bbda8800d\" x=\"118.825226\" y=\"194.91416\" style=\"fill: #4c72b0; fill-opacity: 0.8; stroke: #4c72b0; stroke-opacity: 0.8\"/>\n     <use xlink:href=\"#m3bbda8800d\" x=\"118.825226\" y=\"192.877864\" style=\"fill: #4c72b0; fill-opacity: 0.8; stroke: #4c72b0; stroke-opacity: 0.8\"/>\n     <use xlink:href=\"#m3bbda8800d\" x=\"118.825226\" y=\"194.099642\" style=\"fill: #4c72b0; fill-opacity: 0.8; stroke: #4c72b0; stroke-opacity: 0.8\"/>\n     <use xlink:href=\"#m3bbda8800d\" x=\"118.825226\" y=\"192.063346\" style=\"fill: #4c72b0; fill-opacity: 0.8; stroke: #4c72b0; stroke-opacity: 0.8\"/>\n     <use xlink:href=\"#m3bbda8800d\" x=\"118.825226\" y=\"191.045199\" style=\"fill: #4c72b0; fill-opacity: 0.8; stroke: #4c72b0; stroke-opacity: 0.8\"/>\n     <use xlink:href=\"#m3bbda8800d\" x=\"145.241692\" y=\"188.194385\" style=\"fill: #4c72b0; fill-opacity: 0.8; stroke: #4c72b0; stroke-opacity: 0.8\"/>\n     <use xlink:href=\"#m3bbda8800d\" x=\"145.241692\" y=\"185.75083\" style=\"fill: #4c72b0; fill-opacity: 0.8; stroke: #4c72b0; stroke-opacity: 0.8\"/>\n     <use xlink:href=\"#m3bbda8800d\" x=\"215.302756\" y=\"169.664097\" style=\"fill: #4c72b0; fill-opacity: 0.8; stroke: #4c72b0; stroke-opacity: 0.8\"/>\n     <use xlink:href=\"#m3bbda8800d\" x=\"215.302756\" y=\"165.998765\" style=\"fill: #4c72b0; fill-opacity: 0.8; stroke: #4c72b0; stroke-opacity: 0.8\"/>\n     <use xlink:href=\"#m3bbda8800d\" x=\"215.302756\" y=\"169.664097\" style=\"fill: #4c72b0; fill-opacity: 0.8; stroke: #4c72b0; stroke-opacity: 0.8\"/>\n     <use xlink:href=\"#m3bbda8800d\" x=\"215.302756\" y=\"154.595511\" style=\"fill: #4c72b0; fill-opacity: 0.8; stroke: #4c72b0; stroke-opacity: 0.8\"/>\n     <use xlink:href=\"#m3bbda8800d\" x=\"215.302756\" y=\"144.414034\" style=\"fill: #4c72b0; fill-opacity: 0.8; stroke: #4c72b0; stroke-opacity: 0.8\"/>\n     <use xlink:href=\"#m3bbda8800d\" x=\"215.302756\" y=\"149.708402\" style=\"fill: #4c72b0; fill-opacity: 0.8; stroke: #4c72b0; stroke-opacity: 0.8\"/>\n     <use xlink:href=\"#m3bbda8800d\" x=\"145.241692\" y=\"176.17617\" style=\"fill: #4c72b0; fill-opacity: 0.8; stroke: #4c72b0; stroke-opacity: 0.8\"/>\n     <use xlink:href=\"#m3bbda8800d\" x=\"181.995037\" y=\"170.881801\" style=\"fill: #4c72b0; fill-opacity: 0.8; stroke: #4c72b0; stroke-opacity: 0.8\"/>\n     <use xlink:href=\"#m3bbda8800d\" x=\"145.241692\" y=\"173.97697\" style=\"fill: #4c72b0; fill-opacity: 0.8; stroke: #4c72b0; stroke-opacity: 0.8\"/>\n     <use xlink:href=\"#m3bbda8800d\" x=\"181.995037\" y=\"168.193892\" style=\"fill: #4c72b0; fill-opacity: 0.8; stroke: #4c72b0; stroke-opacity: 0.8\"/>\n     <use xlink:href=\"#m3bbda8800d\" x=\"145.241692\" y=\"161.189035\" style=\"fill: #4c72b0; fill-opacity: 0.8; stroke: #4c72b0; stroke-opacity: 0.8\"/>\n     <use xlink:href=\"#m3bbda8800d\" x=\"181.995037\" y=\"155.813216\" style=\"fill: #4c72b0; fill-opacity: 0.8; stroke: #4c72b0; stroke-opacity: 0.8\"/>\n     <use xlink:href=\"#m3bbda8800d\" x=\"145.241692\" y=\"156.648097\" style=\"fill: #4c72b0; fill-opacity: 0.8; stroke: #4c72b0; stroke-opacity: 0.8\"/>\n     <use xlink:href=\"#m3bbda8800d\" x=\"181.995037\" y=\"155.100512\" style=\"fill: #4c72b0; fill-opacity: 0.8; stroke: #4c72b0; stroke-opacity: 0.8\"/>\n     <use xlink:href=\"#m3bbda8800d\" x=\"145.241692\" y=\"156.912815\" style=\"fill: #4c72b0; fill-opacity: 0.8; stroke: #4c72b0; stroke-opacity: 0.8\"/>\n     <use xlink:href=\"#m3bbda8800d\" x=\"181.995037\" y=\"151.536995\" style=\"fill: #4c72b0; fill-opacity: 0.8; stroke: #4c72b0; stroke-opacity: 0.8\"/>\n     <use xlink:href=\"#m3bbda8800d\" x=\"161.321281\" y=\"150.722477\" style=\"fill: #4c72b0; fill-opacity: 0.8; stroke: #4c72b0; stroke-opacity: 0.8\"/>\n     <use xlink:href=\"#m3bbda8800d\" x=\"110.785432\" y=\"201.947524\" style=\"fill: #4c72b0; fill-opacity: 0.8; stroke: #4c72b0; stroke-opacity: 0.8\"/>\n     <use xlink:href=\"#m3bbda8800d\" x=\"119.973768\" y=\"192.234395\" style=\"fill: #4c72b0; fill-opacity: 0.8; stroke: #4c72b0; stroke-opacity: 0.8\"/>\n     <use xlink:href=\"#m3bbda8800d\" x=\"110.785432\" y=\"199.271832\" style=\"fill: #4c72b0; fill-opacity: 0.8; stroke: #4c72b0; stroke-opacity: 0.8\"/>\n     <use xlink:href=\"#m3bbda8800d\" x=\"110.785432\" y=\"197.386222\" style=\"fill: #4c72b0; fill-opacity: 0.8; stroke: #4c72b0; stroke-opacity: 0.8\"/>\n     <use xlink:href=\"#m3bbda8800d\" x=\"119.973768\" y=\"193.651657\" style=\"fill: #4c72b0; fill-opacity: 0.8; stroke: #4c72b0; stroke-opacity: 0.8\"/>\n     <use xlink:href=\"#m3bbda8800d\" x=\"147.538777\" y=\"188.308418\" style=\"fill: #4c72b0; fill-opacity: 0.8; stroke: #4c72b0; stroke-opacity: 0.8\"/>\n     <use xlink:href=\"#m3bbda8800d\" x=\"186.589205\" y=\"172.657451\" style=\"fill: #4c72b0; fill-opacity: 0.8; stroke: #4c72b0; stroke-opacity: 0.8\"/>\n     <use xlink:href=\"#m3bbda8800d\" x=\"180.846495\" y=\"134.969696\" style=\"fill: #4c72b0; fill-opacity: 0.8; stroke: #4c72b0; stroke-opacity: 0.8\"/>\n     <use xlink:href=\"#m3bbda8800d\" x=\"230.233802\" y=\"92.166767\" style=\"fill: #4c72b0; fill-opacity: 0.8; stroke: #4c72b0; stroke-opacity: 0.8\"/>\n     <use xlink:href=\"#m3bbda8800d\" x=\"230.233802\" y=\"86.05788\" style=\"fill: #4c72b0; fill-opacity: 0.8; stroke: #4c72b0; stroke-opacity: 0.8\"/>\n     <use xlink:href=\"#m3bbda8800d\" x=\"230.233802\" y=\"73.840108\" style=\"fill: #4c72b0; fill-opacity: 0.8; stroke: #4c72b0; stroke-opacity: 0.8\"/>\n     <use xlink:href=\"#m3bbda8800d\" x=\"159.024197\" y=\"186.785269\" style=\"fill: #4c72b0; fill-opacity: 0.8; stroke: #4c72b0; stroke-opacity: 0.8\"/>\n     <use xlink:href=\"#m3bbda8800d\" x=\"159.024197\" y=\"184.341714\" style=\"fill: #4c72b0; fill-opacity: 0.8; stroke: #4c72b0; stroke-opacity: 0.8\"/>\n     <use xlink:href=\"#m3bbda8800d\" x=\"146.390235\" y=\"176.379799\" style=\"fill: #4c72b0; fill-opacity: 0.8; stroke: #4c72b0; stroke-opacity: 0.8\"/>\n     <use xlink:href=\"#m3bbda8800d\" x=\"146.390235\" y=\"175.07657\" style=\"fill: #4c72b0; fill-opacity: 0.8; stroke: #4c72b0; stroke-opacity: 0.8\"/>\n     <use xlink:href=\"#m3bbda8800d\" x=\"146.390235\" y=\"163.388234\" style=\"fill: #4c72b0; fill-opacity: 0.8; stroke: #4c72b0; stroke-opacity: 0.8\"/>\n     <use xlink:href=\"#m3bbda8800d\" x=\"146.390235\" y=\"161.474117\" style=\"fill: #4c72b0; fill-opacity: 0.8; stroke: #4c72b0; stroke-opacity: 0.8\"/>\n     <use xlink:href=\"#m3bbda8800d\" x=\"146.390235\" y=\"150.722477\" style=\"fill: #4c72b0; fill-opacity: 0.8; stroke: #4c72b0; stroke-opacity: 0.8\"/>\n     <use xlink:href=\"#m3bbda8800d\" x=\"146.390235\" y=\"148.808359\" style=\"fill: #4c72b0; fill-opacity: 0.8; stroke: #4c72b0; stroke-opacity: 0.8\"/>\n     <use xlink:href=\"#m3bbda8800d\" x=\"118.825226\" y=\"203.79648\" style=\"fill: #4c72b0; fill-opacity: 0.8; stroke: #4c72b0; stroke-opacity: 0.8\"/>\n     <use xlink:href=\"#m3bbda8800d\" x=\"131.459188\" y=\"195.916017\" style=\"fill: #4c72b0; fill-opacity: 0.8; stroke: #4c72b0; stroke-opacity: 0.8\"/>\n     <use xlink:href=\"#m3bbda8800d\" x=\"131.459188\" y=\"193.676092\" style=\"fill: #4c72b0; fill-opacity: 0.8; stroke: #4c72b0; stroke-opacity: 0.8\"/>\n     <use xlink:href=\"#m3bbda8800d\" x=\"131.459188\" y=\"195.618718\" style=\"fill: #4c72b0; fill-opacity: 0.8; stroke: #4c72b0; stroke-opacity: 0.8\"/>\n     <use xlink:href=\"#m3bbda8800d\" x=\"131.459188\" y=\"192.975607\" style=\"fill: #4c72b0; fill-opacity: 0.8; stroke: #4c72b0; stroke-opacity: 0.8\"/>\n     <use xlink:href=\"#m3bbda8800d\" x=\"131.459188\" y=\"184.076996\" style=\"fill: #4c72b0; fill-opacity: 0.8; stroke: #4c72b0; stroke-opacity: 0.8\"/>\n     <use xlink:href=\"#m3bbda8800d\" x=\"131.459188\" y=\"187.037769\" style=\"fill: #4c72b0; fill-opacity: 0.8; stroke: #4c72b0; stroke-opacity: 0.8\"/>\n     <use xlink:href=\"#m3bbda8800d\" x=\"131.459188\" y=\"178.7867\" style=\"fill: #4c72b0; fill-opacity: 0.8; stroke: #4c72b0; stroke-opacity: 0.8\"/>\n     <use xlink:href=\"#m3bbda8800d\" x=\"131.459188\" y=\"194.246255\" style=\"fill: #4c72b0; fill-opacity: 0.8; stroke: #4c72b0; stroke-opacity: 0.8\"/>\n     <use xlink:href=\"#m3bbda8800d\" x=\"131.459188\" y=\"183.107719\" style=\"fill: #4c72b0; fill-opacity: 0.8; stroke: #4c72b0; stroke-opacity: 0.8\"/>\n     <use xlink:href=\"#m3bbda8800d\" x=\"131.459188\" y=\"192.00633\" style=\"fill: #4c72b0; fill-opacity: 0.8; stroke: #4c72b0; stroke-opacity: 0.8\"/>\n     <use xlink:href=\"#m3bbda8800d\" x=\"131.459188\" y=\"177.015123\" style=\"fill: #4c72b0; fill-opacity: 0.8; stroke: #4c72b0; stroke-opacity: 0.8\"/>\n     <use xlink:href=\"#m3bbda8800d\" x=\"113.082516\" y=\"202.859784\" style=\"fill: #4c72b0; fill-opacity: 0.8; stroke: #4c72b0; stroke-opacity: 0.8\"/>\n     <use xlink:href=\"#m3bbda8800d\" x=\"113.082516\" y=\"198.82792\" style=\"fill: #4c72b0; fill-opacity: 0.8; stroke: #4c72b0; stroke-opacity: 0.8\"/>\n     <use xlink:href=\"#m3bbda8800d\" x=\"113.082516\" y=\"198.217031\" style=\"fill: #4c72b0; fill-opacity: 0.8; stroke: #4c72b0; stroke-opacity: 0.8\"/>\n     <use xlink:href=\"#m3bbda8800d\" x=\"113.082516\" y=\"196.465817\" style=\"fill: #4c72b0; fill-opacity: 0.8; stroke: #4c72b0; stroke-opacity: 0.8\"/>\n     <use xlink:href=\"#m3bbda8800d\" x=\"113.082516\" y=\"192.474678\" style=\"fill: #4c72b0; fill-opacity: 0.8; stroke: #4c72b0; stroke-opacity: 0.8\"/>\n     <use xlink:href=\"#m3bbda8800d\" x=\"113.082516\" y=\"188.890798\" style=\"fill: #4c72b0; fill-opacity: 0.8; stroke: #4c72b0; stroke-opacity: 0.8\"/>\n     <use xlink:href=\"#m3bbda8800d\" x=\"119.973768\" y=\"196.384365\" style=\"fill: #4c72b0; fill-opacity: 0.8; stroke: #4c72b0; stroke-opacity: 0.8\"/>\n     <use xlink:href=\"#m3bbda8800d\" x=\"119.973768\" y=\"195.325491\" style=\"fill: #4c72b0; fill-opacity: 0.8; stroke: #4c72b0; stroke-opacity: 0.8\"/>\n     <use xlink:href=\"#m3bbda8800d\" x=\"133.756272\" y=\"192.474678\" style=\"fill: #4c72b0; fill-opacity: 0.8; stroke: #4c72b0; stroke-opacity: 0.8\"/>\n     <use xlink:href=\"#m3bbda8800d\" x=\"133.756272\" y=\"192.922663\" style=\"fill: #4c72b0; fill-opacity: 0.8; stroke: #4c72b0; stroke-opacity: 0.8\"/>\n     <use xlink:href=\"#m3bbda8800d\" x=\"119.973768\" y=\"193.126292\" style=\"fill: #4c72b0; fill-opacity: 0.8; stroke: #4c72b0; stroke-opacity: 0.8\"/>\n     <use xlink:href=\"#m3bbda8800d\" x=\"119.973768\" y=\"190.601286\" style=\"fill: #4c72b0; fill-opacity: 0.8; stroke: #4c72b0; stroke-opacity: 0.8\"/>\n     <use xlink:href=\"#m3bbda8800d\" x=\"119.973768\" y=\"186.935954\" style=\"fill: #4c72b0; fill-opacity: 0.8; stroke: #4c72b0; stroke-opacity: 0.8\"/>\n     <use xlink:href=\"#m3bbda8800d\" x=\"119.973768\" y=\"191.823063\" style=\"fill: #4c72b0; fill-opacity: 0.8; stroke: #4c72b0; stroke-opacity: 0.8\"/>\n     <use xlink:href=\"#m3bbda8800d\" x=\"119.973768\" y=\"191.089997\" style=\"fill: #4c72b0; fill-opacity: 0.8; stroke: #4c72b0; stroke-opacity: 0.8\"/>\n     <use xlink:href=\"#m3bbda8800d\" x=\"119.973768\" y=\"186.773051\" style=\"fill: #4c72b0; fill-opacity: 0.8; stroke: #4c72b0; stroke-opacity: 0.8\"/>\n     <use xlink:href=\"#m3bbda8800d\" x=\"119.973768\" y=\"185.795629\" style=\"fill: #4c72b0; fill-opacity: 0.8; stroke: #4c72b0; stroke-opacity: 0.8\"/>\n     <use xlink:href=\"#m3bbda8800d\" x=\"175.103785\" y=\"190.23068\" style=\"fill: #4c72b0; fill-opacity: 0.8; stroke: #4c72b0; stroke-opacity: 0.8\"/>\n     <use xlink:href=\"#m3bbda8800d\" x=\"175.103785\" y=\"185.384297\" style=\"fill: #4c72b0; fill-opacity: 0.8; stroke: #4c72b0; stroke-opacity: 0.8\"/>\n     <use xlink:href=\"#m3bbda8800d\" x=\"175.103785\" y=\"183.958891\" style=\"fill: #4c72b0; fill-opacity: 0.8; stroke: #4c72b0; stroke-opacity: 0.8\"/>\n     <use xlink:href=\"#m3bbda8800d\" x=\"175.103785\" y=\"179.031056\" style=\"fill: #4c72b0; fill-opacity: 0.8; stroke: #4c72b0; stroke-opacity: 0.8\"/>\n     <use xlink:href=\"#m3bbda8800d\" x=\"175.103785\" y=\"177.605649\" style=\"fill: #4c72b0; fill-opacity: 0.8; stroke: #4c72b0; stroke-opacity: 0.8\"/>\n     <use xlink:href=\"#m3bbda8800d\" x=\"175.103785\" y=\"152.681393\" style=\"fill: #4c72b0; fill-opacity: 0.8; stroke: #4c72b0; stroke-opacity: 0.8\"/>\n     <use xlink:href=\"#m3bbda8800d\" x=\"147.538777\" y=\"188.198458\" style=\"fill: #4c72b0; fill-opacity: 0.8; stroke: #4c72b0; stroke-opacity: 0.8\"/>\n     <use xlink:href=\"#m3bbda8800d\" x=\"133.756272\" y=\"181.071424\" style=\"fill: #4c72b0; fill-opacity: 0.8; stroke: #4c72b0; stroke-opacity: 0.8\"/>\n     <use xlink:href=\"#m3bbda8800d\" x=\"147.538777\" y=\"183.962963\" style=\"fill: #4c72b0; fill-opacity: 0.8; stroke: #4c72b0; stroke-opacity: 0.8\"/>\n     <use xlink:href=\"#m3bbda8800d\" x=\"147.538777\" y=\"180.256906\" style=\"fill: #4c72b0; fill-opacity: 0.8; stroke: #4c72b0; stroke-opacity: 0.8\"/>\n     <use xlink:href=\"#m3bbda8800d\" x=\"147.538777\" y=\"178.831499\" style=\"fill: #4c72b0; fill-opacity: 0.8; stroke: #4c72b0; stroke-opacity: 0.8\"/>\n     <use xlink:href=\"#m3bbda8800d\" x=\"203.817336\" y=\"157.206042\" style=\"fill: #4c72b0; fill-opacity: 0.8; stroke: #4c72b0; stroke-opacity: 0.8\"/>\n     <use xlink:href=\"#m3bbda8800d\" x=\"203.817336\" y=\"159.486692\" style=\"fill: #4c72b0; fill-opacity: 0.8; stroke: #4c72b0; stroke-opacity: 0.8\"/>\n     <use xlink:href=\"#m3bbda8800d\" x=\"203.817336\" y=\"160.74105\" style=\"fill: #4c72b0; fill-opacity: 0.8; stroke: #4c72b0; stroke-opacity: 0.8\"/>\n     <use xlink:href=\"#m3bbda8800d\" x=\"192.331915\" y=\"160.496695\" style=\"fill: #4c72b0; fill-opacity: 0.8; stroke: #4c72b0; stroke-opacity: 0.8\"/>\n     <use xlink:href=\"#m3bbda8800d\" x=\"118.825226\" y=\"192.975607\" style=\"fill: #4c72b0; fill-opacity: 0.8; stroke: #4c72b0; stroke-opacity: 0.8\"/>\n     <use xlink:href=\"#m3bbda8800d\" x=\"132.60773\" y=\"192.161088\" style=\"fill: #4c72b0; fill-opacity: 0.8; stroke: #4c72b0; stroke-opacity: 0.8\"/>\n     <use xlink:href=\"#m3bbda8800d\" x=\"118.825226\" y=\"192.079637\" style=\"fill: #4c72b0; fill-opacity: 0.8; stroke: #4c72b0; stroke-opacity: 0.8\"/>\n     <use xlink:href=\"#m3bbda8800d\" x=\"132.60773\" y=\"191.265118\" style=\"fill: #4c72b0; fill-opacity: 0.8; stroke: #4c72b0; stroke-opacity: 0.8\"/>\n     <use xlink:href=\"#m3bbda8800d\" x=\"132.60773\" y=\"190.043341\" style=\"fill: #4c72b0; fill-opacity: 0.8; stroke: #4c72b0; stroke-opacity: 0.8\"/>\n     <use xlink:href=\"#m3bbda8800d\" x=\"118.825226\" y=\"185.97075\" style=\"fill: #4c72b0; fill-opacity: 0.8; stroke: #4c72b0; stroke-opacity: 0.8\"/>\n     <use xlink:href=\"#m3bbda8800d\" x=\"132.60773\" y=\"183.934455\" style=\"fill: #4c72b0; fill-opacity: 0.8; stroke: #4c72b0; stroke-opacity: 0.8\"/>\n     <use xlink:href=\"#m3bbda8800d\" x=\"132.60773\" y=\"177.41831\" style=\"fill: #4c72b0; fill-opacity: 0.8; stroke: #4c72b0; stroke-opacity: 0.8\"/>\n     <use xlink:href=\"#m3bbda8800d\" x=\"132.60773\" y=\"183.995544\" style=\"fill: #4c72b0; fill-opacity: 0.8; stroke: #4c72b0; stroke-opacity: 0.8\"/>\n     <use xlink:href=\"#m3bbda8800d\" x=\"163.618365\" y=\"170.494905\" style=\"fill: #4c72b0; fill-opacity: 0.8; stroke: #4c72b0; stroke-opacity: 0.8\"/>\n     <use xlink:href=\"#m3bbda8800d\" x=\"118.825226\" y=\"168.25498\" style=\"fill: #4c72b0; fill-opacity: 0.8; stroke: #4c72b0; stroke-opacity: 0.8\"/>\n     <use xlink:href=\"#m3bbda8800d\" x=\"132.60773\" y=\"174.587859\" style=\"fill: #4c72b0; fill-opacity: 0.8; stroke: #4c72b0; stroke-opacity: 0.8\"/>\n     <use xlink:href=\"#m3bbda8800d\" x=\"169.361075\" y=\"171.940675\" style=\"fill: #4c72b0; fill-opacity: 0.8; stroke: #4c72b0; stroke-opacity: 0.8\"/>\n     <use xlink:href=\"#m3bbda8800d\" x=\"169.361075\" y=\"170.006194\" style=\"fill: #4c72b0; fill-opacity: 0.8; stroke: #4c72b0; stroke-opacity: 0.8\"/>\n     <use xlink:href=\"#m3bbda8800d\" x=\"169.361075\" y=\"159.539636\" style=\"fill: #4c72b0; fill-opacity: 0.8; stroke: #4c72b0; stroke-opacity: 0.8\"/>\n     <use xlink:href=\"#m3bbda8800d\" x=\"169.361075\" y=\"157.381163\" style=\"fill: #4c72b0; fill-opacity: 0.8; stroke: #4c72b0; stroke-opacity: 0.8\"/>\n     <use xlink:href=\"#m3bbda8800d\" x=\"156.727113\" y=\"149.622878\" style=\"fill: #4c72b0; fill-opacity: 0.8; stroke: #4c72b0; stroke-opacity: 0.8\"/>\n     <use xlink:href=\"#m3bbda8800d\" x=\"156.727113\" y=\"147.464404\" style=\"fill: #4c72b0; fill-opacity: 0.8; stroke: #4c72b0; stroke-opacity: 0.8\"/>\n     <use xlink:href=\"#m3bbda8800d\" x=\"169.361075\" y=\"156.037208\" style=\"fill: #4c72b0; fill-opacity: 0.8; stroke: #4c72b0; stroke-opacity: 0.8\"/>\n     <use xlink:href=\"#m3bbda8800d\" x=\"169.361075\" y=\"147.077508\" style=\"fill: #4c72b0; fill-opacity: 0.8; stroke: #4c72b0; stroke-opacity: 0.8\"/>\n     <use xlink:href=\"#m3bbda8800d\" x=\"206.11442\" y=\"137.140387\" style=\"fill: #4c72b0; fill-opacity: 0.8; stroke: #4c72b0; stroke-opacity: 0.8\"/>\n     <use xlink:href=\"#m3bbda8800d\" x=\"173.955243\" y=\"133.128885\" style=\"fill: #4c72b0; fill-opacity: 0.8; stroke: #4c72b0; stroke-opacity: 0.8\"/>\n     <use xlink:href=\"#m3bbda8800d\" x=\"169.361075\" y=\"132.497633\" style=\"fill: #4c72b0; fill-opacity: 0.8; stroke: #4c72b0; stroke-opacity: 0.8\"/>\n    </g>\n   </g>\n   <g id=\"PolyCollection_1\">\n    <defs>\n     <path id=\"m7ee0fac725\" d=\"M 77.477713 -55.214767 \nL 77.477713 -45.916609 \nL 80.552093 -47.943467 \nL 83.626473 -49.931777 \nL 86.700854 -51.931316 \nL 89.775234 -53.939547 \nL 92.849614 -55.922378 \nL 95.923994 -57.942229 \nL 98.998374 -59.900434 \nL 102.072754 -61.938749 \nL 105.147135 -64.001103 \nL 108.221515 -66.022636 \nL 111.295895 -68.055813 \nL 114.370275 -70.055697 \nL 117.444655 -72.035542 \nL 120.519035 -74.026969 \nL 123.593416 -75.905394 \nL 126.667796 -77.80489 \nL 129.742176 -79.6858 \nL 132.816556 -81.544168 \nL 135.890936 -83.407028 \nL 138.965316 -85.324005 \nL 142.039697 -87.089744 \nL 145.114077 -88.878746 \nL 148.188457 -90.658478 \nL 151.262837 -92.432566 \nL 154.337217 -94.219696 \nL 157.411597 -95.963242 \nL 160.485978 -97.665265 \nL 163.560358 -99.367153 \nL 166.634738 -101.041808 \nL 169.709118 -102.69996 \nL 172.783498 -104.353179 \nL 175.857878 -106.02775 \nL 178.932259 -107.702321 \nL 182.006639 -109.376891 \nL 185.081019 -111.009948 \nL 188.155399 -112.578182 \nL 191.229779 -114.200597 \nL 194.304159 -115.842943 \nL 197.37854 -117.465672 \nL 200.45292 -119.10138 \nL 203.5273 -120.770199 \nL 206.60168 -122.407268 \nL 209.67606 -124.030641 \nL 212.75044 -125.667118 \nL 215.824821 -127.344198 \nL 218.899201 -128.986713 \nL 221.973581 -130.629599 \nL 225.047961 -132.273038 \nL 228.122341 -133.906765 \nL 231.196721 -135.532245 \nL 234.271101 -137.16954 \nL 237.345482 -138.827562 \nL 240.419862 -140.485584 \nL 243.494242 -142.130791 \nL 246.568622 -143.773373 \nL 249.643002 -145.407869 \nL 252.717382 -147.019646 \nL 255.791763 -148.631422 \nL 258.866143 -150.232891 \nL 261.940523 -151.814536 \nL 265.014903 -153.403457 \nL 268.089283 -155.034331 \nL 271.163663 -156.680277 \nL 274.238044 -158.3255 \nL 277.312424 -159.97044 \nL 280.386804 -161.615409 \nL 283.461184 -163.260678 \nL 286.535564 -164.906429 \nL 289.609944 -166.552396 \nL 292.684325 -168.198363 \nL 295.758705 -169.84433 \nL 298.833085 -171.490297 \nL 301.907465 -173.136264 \nL 304.981845 -174.782231 \nL 308.056225 -176.428197 \nL 311.130606 -178.074164 \nL 314.204986 -179.720131 \nL 317.279366 -181.366098 \nL 320.353746 -183.012065 \nL 323.428126 -184.658032 \nL 326.502506 -186.298896 \nL 329.576887 -187.929965 \nL 332.651267 -189.58127 \nL 335.725647 -191.224986 \nL 338.800027 -192.829364 \nL 341.874407 -194.433743 \nL 344.948787 -196.038121 \nL 348.023168 -197.6425 \nL 351.097548 -199.246878 \nL 354.171928 -200.851528 \nL 357.246308 -202.456892 \nL 360.320688 -204.062256 \nL 363.395068 -205.671984 \nL 366.469449 -207.314068 \nL 369.543829 -208.956151 \nL 372.618209 -210.598235 \nL 375.692589 -212.240443 \nL 378.766969 -213.883569 \nL 381.841349 -215.526695 \nL 381.841349 -249.153023 \nL 381.841349 -249.153023 \nL 378.766969 -247.078296 \nL 375.692589 -245.024595 \nL 372.618209 -242.973105 \nL 369.543829 -240.908773 \nL 366.469449 -238.844441 \nL 363.395068 -236.780109 \nL 360.320688 -234.715776 \nL 357.246308 -232.651444 \nL 354.171928 -230.587112 \nL 351.097548 -228.52278 \nL 348.023168 -226.458448 \nL 344.948787 -224.394116 \nL 341.874407 -222.329784 \nL 338.800027 -220.265271 \nL 335.725647 -218.200639 \nL 332.651267 -216.136007 \nL 329.576887 -214.071374 \nL 326.502506 -212.006742 \nL 323.428126 -209.942109 \nL 320.353746 -207.892118 \nL 317.279366 -205.853775 \nL 314.204986 -203.815179 \nL 311.130606 -201.776544 \nL 308.056225 -199.737909 \nL 304.981845 -197.699274 \nL 301.907465 -195.662633 \nL 298.833085 -193.640561 \nL 295.758705 -191.618488 \nL 292.684325 -189.596415 \nL 289.609944 -187.574343 \nL 286.535564 -185.55227 \nL 283.461184 -183.530197 \nL 280.386804 -181.488807 \nL 277.312424 -179.454129 \nL 274.238044 -177.436713 \nL 271.163663 -175.419297 \nL 268.089283 -173.401881 \nL 265.014903 -171.379664 \nL 261.940523 -169.330978 \nL 258.866143 -167.282293 \nL 255.791763 -165.233098 \nL 252.717382 -163.242597 \nL 249.643002 -161.174299 \nL 246.568622 -159.105259 \nL 243.494242 -157.036219 \nL 240.419862 -154.985679 \nL 237.345482 -152.936047 \nL 234.271101 -150.886415 \nL 231.196721 -148.836621 \nL 228.122341 -146.784108 \nL 225.047961 -144.703488 \nL 221.973581 -142.665145 \nL 218.899201 -140.637591 \nL 215.824821 -138.589364 \nL 212.75044 -136.550879 \nL 209.67606 -134.514069 \nL 206.60168 -132.477158 \nL 203.5273 -130.489334 \nL 200.45292 -128.455663 \nL 197.37854 -126.448672 \nL 194.304159 -124.441753 \nL 191.229779 -122.345559 \nL 188.155399 -120.286398 \nL 185.081019 -118.33095 \nL 182.006639 -116.316734 \nL 178.932259 -114.387295 \nL 175.857878 -112.288418 \nL 172.783498 -110.348984 \nL 169.709118 -108.388093 \nL 166.634738 -106.412669 \nL 163.560358 -104.445367 \nL 160.485978 -102.425727 \nL 157.411597 -100.44575 \nL 154.337217 -98.515236 \nL 151.262837 -96.542817 \nL 148.188457 -94.572882 \nL 145.114077 -92.710268 \nL 142.039697 -90.771861 \nL 138.965316 -89.016212 \nL 135.890936 -87.236693 \nL 132.816556 -85.435413 \nL 129.742176 -83.709615 \nL 126.667796 -82.007512 \nL 123.593416 -80.263272 \nL 120.519035 -78.567531 \nL 117.444655 -76.880249 \nL 114.370275 -75.215032 \nL 111.295895 -73.513006 \nL 108.221515 -71.854885 \nL 105.147135 -70.201459 \nL 102.072754 -68.546323 \nL 98.998374 -66.893954 \nL 95.923994 -65.230054 \nL 92.849614 -63.532657 \nL 89.775234 -61.889483 \nL 86.700854 -60.22088 \nL 83.626473 -58.552176 \nL 80.552093 -56.889439 \nL 77.477713 -55.214767 \nz\n\" style=\"stroke: #ffffff; stroke-opacity: 0.15\"/>\n    </defs>\n    <g clip-path=\"url(#pb1c8159c72)\">\n     <use xlink:href=\"#m7ee0fac725\" x=\"0\" y=\"266.514844\" style=\"fill: #4c72b0; fill-opacity: 0.15; stroke: #ffffff; stroke-opacity: 0.15\"/>\n    </g>\n   </g>\n   <g id=\"line2d_13\">\n    <path d=\"M 77.477713 215.618714 \nL 80.552093 213.79971 \nL 83.626473 211.980706 \nL 86.700854 210.161701 \nL 89.775234 208.342697 \nL 92.849614 206.523693 \nL 95.923994 204.704688 \nL 98.998374 202.885684 \nL 102.072754 201.06668 \nL 105.147135 199.247675 \nL 108.221515 197.428671 \nL 111.295895 195.609667 \nL 114.370275 193.790662 \nL 117.444655 191.971658 \nL 120.519035 190.152654 \nL 123.593416 188.333649 \nL 126.667796 186.514645 \nL 129.742176 184.695641 \nL 132.816556 182.876636 \nL 135.890936 181.057632 \nL 138.965316 179.238628 \nL 142.039697 177.419623 \nL 145.114077 175.600619 \nL 148.188457 173.781615 \nL 151.262837 171.96261 \nL 154.337217 170.143606 \nL 157.411597 168.324602 \nL 160.485978 166.505597 \nL 163.560358 164.686593 \nL 166.634738 162.867589 \nL 169.709118 161.048584 \nL 172.783498 159.22958 \nL 175.857878 157.410575 \nL 178.932259 155.591571 \nL 182.006639 153.772567 \nL 185.081019 151.953562 \nL 188.155399 150.134558 \nL 191.229779 148.315554 \nL 194.304159 146.496549 \nL 197.37854 144.677545 \nL 200.45292 142.858541 \nL 203.5273 141.039536 \nL 206.60168 139.220532 \nL 209.67606 137.401528 \nL 212.75044 135.582523 \nL 215.824821 133.763519 \nL 218.899201 131.944515 \nL 221.973581 130.12551 \nL 225.047961 128.306506 \nL 228.122341 126.487502 \nL 231.196721 124.668497 \nL 234.271101 122.849493 \nL 237.345482 121.030489 \nL 240.419862 119.211484 \nL 243.494242 117.39248 \nL 246.568622 115.573476 \nL 249.643002 113.754471 \nL 252.717382 111.935467 \nL 255.791763 110.116463 \nL 258.866143 108.297458 \nL 261.940523 106.478454 \nL 265.014903 104.65945 \nL 268.089283 102.840445 \nL 271.163663 101.021441 \nL 274.238044 99.202437 \nL 277.312424 97.383432 \nL 280.386804 95.564428 \nL 283.461184 93.745424 \nL 286.535564 91.926419 \nL 289.609944 90.107415 \nL 292.684325 88.288411 \nL 295.758705 86.469406 \nL 298.833085 84.650402 \nL 301.907465 82.831398 \nL 304.981845 81.012393 \nL 308.056225 79.193389 \nL 311.130606 77.374385 \nL 314.204986 75.55538 \nL 317.279366 73.736376 \nL 320.353746 71.917372 \nL 323.428126 70.098367 \nL 326.502506 68.279363 \nL 329.576887 66.460359 \nL 332.651267 64.641354 \nL 335.725647 62.82235 \nL 338.800027 61.003346 \nL 341.874407 59.184341 \nL 344.948787 57.365337 \nL 348.023168 55.546333 \nL 351.097548 53.727328 \nL 354.171928 51.908324 \nL 357.246308 50.08932 \nL 360.320688 48.270315 \nL 363.395068 46.451311 \nL 366.469449 44.632307 \nL 369.543829 42.813302 \nL 372.618209 40.994298 \nL 375.692589 39.175293 \nL 378.766969 37.356289 \nL 381.841349 35.537285 \n\" clip-path=\"url(#pb1c8159c72)\" style=\"fill: none; stroke: #4c72b0; stroke-width: 2.25; stroke-linecap: round\"/>\n   </g>\n   <g id=\"patch_3\">\n    <path d=\"M 62.259531 224.64 \nL 62.259531 7.2 \n\" style=\"fill: none; stroke: #cccccc; stroke-width: 1.25; stroke-linejoin: miter; stroke-linecap: square\"/>\n   </g>\n   <g id=\"patch_4\">\n    <path d=\"M 397.059531 224.64 \nL 397.059531 7.2 \n\" style=\"fill: none; stroke: #cccccc; stroke-width: 1.25; stroke-linejoin: miter; stroke-linecap: square\"/>\n   </g>\n   <g id=\"patch_5\">\n    <path d=\"M 62.259531 224.64 \nL 397.059531 224.64 \n\" style=\"fill: none; stroke: #cccccc; stroke-width: 1.25; stroke-linejoin: miter; stroke-linecap: square\"/>\n   </g>\n   <g id=\"patch_6\">\n    <path d=\"M 62.259531 7.2 \nL 397.059531 7.2 \n\" style=\"fill: none; stroke: #cccccc; stroke-width: 1.25; stroke-linejoin: miter; stroke-linecap: square\"/>\n   </g>\n  </g>\n </g>\n <defs>\n  <clipPath id=\"pb1c8159c72\">\n   <rect x=\"62.259531\" y=\"7.2\" width=\"334.8\" height=\"217.44\"/>\n  </clipPath>\n </defs>\n</svg>\n",
      "text/plain": [
       "<Figure size 432x288 with 1 Axes>"
      ]
     },
     "metadata": {},
     "output_type": "display_data"
    }
   ],
   "source": [
    "sns.set(style=\"whitegrid\")\n",
    "sns.regplot(x=\"engine-size\", y=\"price\", data=df)\n",
    "plt.ylim(0,)"
   ]
  },
  {
   "cell_type": "markdown",
   "metadata": {
    "application/vnd.databricks.v1+cell": {
     "inputWidgets": {},
     "nuid": "c1d44005-93fe-4dd1-a431-fef7d34ff0f9",
     "showTitle": false,
     "title": ""
    }
   },
   "source": [
    "<p>A medida que aumenta el tamaño del motor, aumenta el precio: esto indica una correlación directa positiva entre estas dos variables. El tamaño del motor parece ser un buen predictor de precio ya que la línea de regresión es casi una línea diagonal perfecta.</p>"
   ]
  },
  {
   "cell_type": "markdown",
   "metadata": {
    "application/vnd.databricks.v1+cell": {
     "inputWidgets": {},
     "nuid": "04f48e32-a980-47ff-b26a-02e94df7d743",
     "showTitle": false,
     "title": ""
    }
   },
   "source": [
    "Visualicemos ahora <b>highway-mpg</b> y <b>price</b>. A medida que aumenta <b>highway-mpg</b>, el precio baja: esto indica un relación inversa/negativa entre estas dos variables. <b>highway-mpg</b> podría predecir el precio."
   ]
  },
  {
   "cell_type": "code",
   "execution_count": 26,
   "metadata": {
    "application/vnd.databricks.v1+cell": {
     "inputWidgets": {},
     "nuid": "1785a874-ee53-49ec-99d9-6d1bba695e31",
     "showTitle": false,
     "title": ""
    }
   },
   "outputs": [
    {
     "data": {
      "text/plain": [
       "<AxesSubplot:xlabel='highway-mpg', ylabel='price'>"
      ]
     },
     "execution_count": 26,
     "metadata": {},
     "output_type": "execute_result"
    },
    {
     "data": {
      "image/png": "[encoded data removed]",
      "image/svg+xml": "<?xml version=\"1.0\" encoding=\"utf-8\" standalone=\"no\"?>\n<!DOCTYPE svg PUBLIC \"-//W3C//DTD SVG 1.1//EN\"\n  \"http://www.w3.org/Graphics/SVG/1.1/DTD/svg11.dtd\">\n<svg xmlns:xlink=\"http://www.w3.org/1999/xlink\" width=\"410.684219pt\" height=\"266.514844pt\" viewBox=\"0 0 410.684219 266.514844\" xmlns=\"http://www.w3.org/2000/svg\" version=\"1.1\">\n <metadata>\n  <rdf:RDF xmlns:dc=\"http://purl.org/dc/elements/1.1/\" xmlns:cc=\"http://creativecommons.org/ns#\" xmlns:rdf=\"http://www.w3.org/1999/02/22-rdf-syntax-ns#\">\n   <cc:Work>\n    <dc:type rdf:resource=\"http://purl.org/dc/dcmitype/StillImage\"/>\n    <dc:date>2022-02-07T12:59:08.795105</dc:date>\n    <dc:format>image/svg+xml</dc:format>\n    <dc:creator>\n     <cc:Agent>\n      <dc:title>Matplotlib v3.5.0, https://matplotlib.org/</dc:title>\n     </cc:Agent>\n    </dc:creator>\n   </cc:Work>\n  </rdf:RDF>\n </metadata>\n <defs>\n  <style type=\"text/css\">*{stroke-linejoin: round; stroke-linecap: butt}</style>\n </defs>\n <g id=\"figure_1\">\n  <g id=\"patch_1\">\n   <path d=\"M 0 266.514844 \nL 410.684219 266.514844 \nL 410.684219 0 \nL 0 0 \nz\n\" style=\"fill: #ffffff\"/>\n  </g>\n  <g id=\"axes_1\">\n   <g id=\"patch_2\">\n    <path d=\"M 68.684219 224.64 \nL 403.484219 224.64 \nL 403.484219 7.2 \nL 68.684219 7.2 \nz\n\" style=\"fill: #ffffff\"/>\n   </g>\n   <g id=\"matplotlib.axis_1\">\n    <g id=\"xtick_1\">\n     <g id=\"line2d_1\">\n      <path d=\"M 75.892831 224.64 \nL 75.892831 7.2 \n\" clip-path=\"url(#p764292ef81)\" style=\"fill: none; stroke: #cccccc; stroke-linecap: round\"/>\n     </g>\n     <g id=\"text_1\">\n      <!-- 15 -->\n      <g style=\"fill: #262626\" transform=\"translate(69.7758 242.013594)scale(0.11 -0.11)\">\n       <defs>\n        <path id=\"ArialMT-31\" d=\"M 2384 0 \nL 1822 0 \nL 1822 3584 \nQ 1619 3391 1289 3197 \nQ 959 3003 697 2906 \nL 697 3450 \nQ 1169 3672 1522 3987 \nQ 1875 4303 2022 4600 \nL 2384 4600 \nL 2384 0 \nz\n\" transform=\"scale(0.015625)\"/>\n        <path id=\"ArialMT-35\" d=\"M 266 1200 \nL 856 1250 \nQ 922 819 1161 601 \nQ 1400 384 1738 384 \nQ 2144 384 2425 690 \nQ 2706 997 2706 1503 \nQ 2706 1984 2436 2262 \nQ 2166 2541 1728 2541 \nQ 1456 2541 1237 2417 \nQ 1019 2294 894 2097 \nL 366 2166 \nL 809 4519 \nL 3088 4519 \nL 3088 3981 \nL 1259 3981 \nL 1013 2750 \nQ 1425 3038 1878 3038 \nQ 2478 3038 2890 2622 \nQ 3303 2206 3303 1553 \nQ 3303 931 2941 478 \nQ 2500 -78 1738 -78 \nQ 1113 -78 717 272 \nQ 322 622 266 1200 \nz\n\" transform=\"scale(0.015625)\"/>\n       </defs>\n       <use xlink:href=\"#ArialMT-31\"/>\n       <use xlink:href=\"#ArialMT-35\" x=\"55.615234\"/>\n      </g>\n     </g>\n    </g>\n    <g id=\"xtick_2\">\n     <g id=\"line2d_2\">\n      <path d=\"M 115.940678 224.64 \nL 115.940678 7.2 \n\" clip-path=\"url(#p764292ef81)\" style=\"fill: none; stroke: #cccccc; stroke-linecap: round\"/>\n     </g>\n     <g id=\"text_2\">\n      <!-- 20 -->\n      <g style=\"fill: #262626\" transform=\"translate(109.823647 242.013594)scale(0.11 -0.11)\">\n       <defs>\n        <path id=\"ArialMT-32\" d=\"M 3222 541 \nL 3222 0 \nL 194 0 \nQ 188 203 259 391 \nQ 375 700 629 1000 \nQ 884 1300 1366 1694 \nQ 2113 2306 2375 2664 \nQ 2638 3022 2638 3341 \nQ 2638 3675 2398 3904 \nQ 2159 4134 1775 4134 \nQ 1369 4134 1125 3890 \nQ 881 3647 878 3216 \nL 300 3275 \nQ 359 3922 746 4261 \nQ 1134 4600 1788 4600 \nQ 2447 4600 2831 4234 \nQ 3216 3869 3216 3328 \nQ 3216 3053 3103 2787 \nQ 2991 2522 2730 2228 \nQ 2469 1934 1863 1422 \nQ 1356 997 1212 845 \nQ 1069 694 975 541 \nL 3222 541 \nz\n\" transform=\"scale(0.015625)\"/>\n        <path id=\"ArialMT-30\" d=\"M 266 2259 \nQ 266 3072 433 3567 \nQ 600 4063 929 4331 \nQ 1259 4600 1759 4600 \nQ 2128 4600 2406 4451 \nQ 2684 4303 2865 4023 \nQ 3047 3744 3150 3342 \nQ 3253 2941 3253 2259 \nQ 3253 1453 3087 958 \nQ 2922 463 2592 192 \nQ 2263 -78 1759 -78 \nQ 1097 -78 719 397 \nQ 266 969 266 2259 \nz\nM 844 2259 \nQ 844 1131 1108 757 \nQ 1372 384 1759 384 \nQ 2147 384 2411 759 \nQ 2675 1134 2675 2259 \nQ 2675 3391 2411 3762 \nQ 2147 4134 1753 4134 \nQ 1366 4134 1134 3806 \nQ 844 3388 844 2259 \nz\n\" transform=\"scale(0.015625)\"/>\n       </defs>\n       <use xlink:href=\"#ArialMT-32\"/>\n       <use xlink:href=\"#ArialMT-30\" x=\"55.615234\"/>\n      </g>\n     </g>\n    </g>\n    <g id=\"xtick_3\">\n     <g id=\"line2d_3\">\n      <path d=\"M 155.988525 224.64 \nL 155.988525 7.2 \n\" clip-path=\"url(#p764292ef81)\" style=\"fill: none; stroke: #cccccc; stroke-linecap: round\"/>\n     </g>\n     <g id=\"text_3\">\n      <!-- 25 -->\n      <g style=\"fill: #262626\" transform=\"translate(149.871494 242.013594)scale(0.11 -0.11)\">\n       <use xlink:href=\"#ArialMT-32\"/>\n       <use xlink:href=\"#ArialMT-35\" x=\"55.615234\"/>\n      </g>\n     </g>\n    </g>\n    <g id=\"xtick_4\">\n     <g id=\"line2d_4\">\n      <path d=\"M 196.036372 224.64 \nL 196.036372 7.2 \n\" clip-path=\"url(#p764292ef81)\" style=\"fill: none; stroke: #cccccc; stroke-linecap: round\"/>\n     </g>\n     <g id=\"text_4\">\n      <!-- 30 -->\n      <g style=\"fill: #262626\" transform=\"translate(189.919341 242.013594)scale(0.11 -0.11)\">\n       <defs>\n        <path id=\"ArialMT-33\" d=\"M 269 1209 \nL 831 1284 \nQ 928 806 1161 595 \nQ 1394 384 1728 384 \nQ 2125 384 2398 659 \nQ 2672 934 2672 1341 \nQ 2672 1728 2419 1979 \nQ 2166 2231 1775 2231 \nQ 1616 2231 1378 2169 \nL 1441 2663 \nQ 1497 2656 1531 2656 \nQ 1891 2656 2178 2843 \nQ 2466 3031 2466 3422 \nQ 2466 3731 2256 3934 \nQ 2047 4138 1716 4138 \nQ 1388 4138 1169 3931 \nQ 950 3725 888 3313 \nL 325 3413 \nQ 428 3978 793 4289 \nQ 1159 4600 1703 4600 \nQ 2078 4600 2393 4439 \nQ 2709 4278 2876 4000 \nQ 3044 3722 3044 3409 \nQ 3044 3113 2884 2869 \nQ 2725 2625 2413 2481 \nQ 2819 2388 3044 2092 \nQ 3269 1797 3269 1353 \nQ 3269 753 2831 336 \nQ 2394 -81 1725 -81 \nQ 1122 -81 723 278 \nQ 325 638 269 1209 \nz\n\" transform=\"scale(0.015625)\"/>\n       </defs>\n       <use xlink:href=\"#ArialMT-33\"/>\n       <use xlink:href=\"#ArialMT-30\" x=\"55.615234\"/>\n      </g>\n     </g>\n    </g>\n    <g id=\"xtick_5\">\n     <g id=\"line2d_5\">\n      <path d=\"M 236.084219 224.64 \nL 236.084219 7.2 \n\" clip-path=\"url(#p764292ef81)\" style=\"fill: none; stroke: #cccccc; stroke-linecap: round\"/>\n     </g>\n     <g id=\"text_5\">\n      <!-- 35 -->\n      <g style=\"fill: #262626\" transform=\"translate(229.967187 242.013594)scale(0.11 -0.11)\">\n       <use xlink:href=\"#ArialMT-33\"/>\n       <use xlink:href=\"#ArialMT-35\" x=\"55.615234\"/>\n      </g>\n     </g>\n    </g>\n    <g id=\"xtick_6\">\n     <g id=\"line2d_6\">\n      <path d=\"M 276.132066 224.64 \nL 276.132066 7.2 \n\" clip-path=\"url(#p764292ef81)\" style=\"fill: none; stroke: #cccccc; stroke-linecap: round\"/>\n     </g>\n     <g id=\"text_6\">\n      <!-- 40 -->\n      <g style=\"fill: #262626\" transform=\"translate(270.015034 242.013594)scale(0.11 -0.11)\">\n       <defs>\n        <path id=\"ArialMT-34\" d=\"M 2069 0 \nL 2069 1097 \nL 81 1097 \nL 81 1613 \nL 2172 4581 \nL 2631 4581 \nL 2631 1613 \nL 3250 1613 \nL 3250 1097 \nL 2631 1097 \nL 2631 0 \nL 2069 0 \nz\nM 2069 1613 \nL 2069 3678 \nL 634 1613 \nL 2069 1613 \nz\n\" transform=\"scale(0.015625)\"/>\n       </defs>\n       <use xlink:href=\"#ArialMT-34\"/>\n       <use xlink:href=\"#ArialMT-30\" x=\"55.615234\"/>\n      </g>\n     </g>\n    </g>\n    <g id=\"xtick_7\">\n     <g id=\"line2d_7\">\n      <path d=\"M 316.179913 224.64 \nL 316.179913 7.2 \n\" clip-path=\"url(#p764292ef81)\" style=\"fill: none; stroke: #cccccc; stroke-linecap: round\"/>\n     </g>\n     <g id=\"text_7\">\n      <!-- 45 -->\n      <g style=\"fill: #262626\" transform=\"translate(310.062881 242.013594)scale(0.11 -0.11)\">\n       <use xlink:href=\"#ArialMT-34\"/>\n       <use xlink:href=\"#ArialMT-35\" x=\"55.615234\"/>\n      </g>\n     </g>\n    </g>\n    <g id=\"xtick_8\">\n     <g id=\"line2d_8\">\n      <path d=\"M 356.227759 224.64 \nL 356.227759 7.2 \n\" clip-path=\"url(#p764292ef81)\" style=\"fill: none; stroke: #cccccc; stroke-linecap: round\"/>\n     </g>\n     <g id=\"text_8\">\n      <!-- 50 -->\n      <g style=\"fill: #262626\" transform=\"translate(350.110728 242.013594)scale(0.11 -0.11)\">\n       <use xlink:href=\"#ArialMT-35\"/>\n       <use xlink:href=\"#ArialMT-30\" x=\"55.615234\"/>\n      </g>\n     </g>\n    </g>\n    <g id=\"xtick_9\">\n     <g id=\"line2d_9\">\n      <path d=\"M 396.275606 224.64 \nL 396.275606 7.2 \n\" clip-path=\"url(#p764292ef81)\" style=\"fill: none; stroke: #cccccc; stroke-linecap: round\"/>\n     </g>\n     <g id=\"text_9\">\n      <!-- 55 -->\n      <g style=\"fill: #262626\" transform=\"translate(390.158575 242.013594)scale(0.11 -0.11)\">\n       <use xlink:href=\"#ArialMT-35\"/>\n       <use xlink:href=\"#ArialMT-35\" x=\"55.615234\"/>\n      </g>\n     </g>\n    </g>\n    <g id=\"text_10\">\n     <!-- highway-mpg -->\n     <g style=\"fill: #262626\" transform=\"translate(200.402969 256.789219)scale(0.12 -0.12)\">\n      <defs>\n       <path id=\"ArialMT-68\" d=\"M 422 0 \nL 422 4581 \nL 984 4581 \nL 984 2938 \nQ 1378 3394 1978 3394 \nQ 2347 3394 2619 3248 \nQ 2891 3103 3008 2847 \nQ 3125 2591 3125 2103 \nL 3125 0 \nL 2563 0 \nL 2563 2103 \nQ 2563 2525 2380 2717 \nQ 2197 2909 1863 2909 \nQ 1613 2909 1392 2779 \nQ 1172 2650 1078 2428 \nQ 984 2206 984 1816 \nL 984 0 \nL 422 0 \nz\n\" transform=\"scale(0.015625)\"/>\n       <path id=\"ArialMT-69\" d=\"M 425 3934 \nL 425 4581 \nL 988 4581 \nL 988 3934 \nL 425 3934 \nz\nM 425 0 \nL 425 3319 \nL 988 3319 \nL 988 0 \nL 425 0 \nz\n\" transform=\"scale(0.015625)\"/>\n       <path id=\"ArialMT-67\" d=\"M 319 -275 \nL 866 -356 \nQ 900 -609 1056 -725 \nQ 1266 -881 1628 -881 \nQ 2019 -881 2231 -725 \nQ 2444 -569 2519 -288 \nQ 2563 -116 2559 434 \nQ 2191 0 1641 0 \nQ 956 0 581 494 \nQ 206 988 206 1678 \nQ 206 2153 378 2554 \nQ 550 2956 876 3175 \nQ 1203 3394 1644 3394 \nQ 2231 3394 2613 2919 \nL 2613 3319 \nL 3131 3319 \nL 3131 450 \nQ 3131 -325 2973 -648 \nQ 2816 -972 2473 -1159 \nQ 2131 -1347 1631 -1347 \nQ 1038 -1347 672 -1080 \nQ 306 -813 319 -275 \nz\nM 784 1719 \nQ 784 1066 1043 766 \nQ 1303 466 1694 466 \nQ 2081 466 2343 764 \nQ 2606 1063 2606 1700 \nQ 2606 2309 2336 2618 \nQ 2066 2928 1684 2928 \nQ 1309 2928 1046 2623 \nQ 784 2319 784 1719 \nz\n\" transform=\"scale(0.015625)\"/>\n       <path id=\"ArialMT-77\" d=\"M 1034 0 \nL 19 3319 \nL 600 3319 \nL 1128 1403 \nL 1325 691 \nQ 1338 744 1497 1375 \nL 2025 3319 \nL 2603 3319 \nL 3100 1394 \nL 3266 759 \nL 3456 1400 \nL 4025 3319 \nL 4572 3319 \nL 3534 0 \nL 2950 0 \nL 2422 1988 \nL 2294 2553 \nL 1622 0 \nL 1034 0 \nz\n\" transform=\"scale(0.015625)\"/>\n       <path id=\"ArialMT-61\" d=\"M 2588 409 \nQ 2275 144 1986 34 \nQ 1697 -75 1366 -75 \nQ 819 -75 525 192 \nQ 231 459 231 875 \nQ 231 1119 342 1320 \nQ 453 1522 633 1644 \nQ 813 1766 1038 1828 \nQ 1203 1872 1538 1913 \nQ 2219 1994 2541 2106 \nQ 2544 2222 2544 2253 \nQ 2544 2597 2384 2738 \nQ 2169 2928 1744 2928 \nQ 1347 2928 1158 2789 \nQ 969 2650 878 2297 \nL 328 2372 \nQ 403 2725 575 2942 \nQ 747 3159 1072 3276 \nQ 1397 3394 1825 3394 \nQ 2250 3394 2515 3294 \nQ 2781 3194 2906 3042 \nQ 3031 2891 3081 2659 \nQ 3109 2516 3109 2141 \nL 3109 1391 \nQ 3109 606 3145 398 \nQ 3181 191 3288 0 \nL 2700 0 \nQ 2613 175 2588 409 \nz\nM 2541 1666 \nQ 2234 1541 1622 1453 \nQ 1275 1403 1131 1340 \nQ 988 1278 909 1158 \nQ 831 1038 831 891 \nQ 831 666 1001 516 \nQ 1172 366 1500 366 \nQ 1825 366 2078 508 \nQ 2331 650 2450 897 \nQ 2541 1088 2541 1459 \nL 2541 1666 \nz\n\" transform=\"scale(0.015625)\"/>\n       <path id=\"ArialMT-79\" d=\"M 397 -1278 \nL 334 -750 \nQ 519 -800 656 -800 \nQ 844 -800 956 -737 \nQ 1069 -675 1141 -563 \nQ 1194 -478 1313 -144 \nQ 1328 -97 1363 -6 \nL 103 3319 \nL 709 3319 \nL 1400 1397 \nQ 1534 1031 1641 628 \nQ 1738 1016 1872 1384 \nL 2581 3319 \nL 3144 3319 \nL 1881 -56 \nQ 1678 -603 1566 -809 \nQ 1416 -1088 1222 -1217 \nQ 1028 -1347 759 -1347 \nQ 597 -1347 397 -1278 \nz\n\" transform=\"scale(0.015625)\"/>\n       <path id=\"ArialMT-2d\" d=\"M 203 1375 \nL 203 1941 \nL 1931 1941 \nL 1931 1375 \nL 203 1375 \nz\n\" transform=\"scale(0.015625)\"/>\n       <path id=\"ArialMT-6d\" d=\"M 422 0 \nL 422 3319 \nL 925 3319 \nL 925 2853 \nQ 1081 3097 1340 3245 \nQ 1600 3394 1931 3394 \nQ 2300 3394 2536 3241 \nQ 2772 3088 2869 2813 \nQ 3263 3394 3894 3394 \nQ 4388 3394 4653 3120 \nQ 4919 2847 4919 2278 \nL 4919 0 \nL 4359 0 \nL 4359 2091 \nQ 4359 2428 4304 2576 \nQ 4250 2725 4106 2815 \nQ 3963 2906 3769 2906 \nQ 3419 2906 3187 2673 \nQ 2956 2441 2956 1928 \nL 2956 0 \nL 2394 0 \nL 2394 2156 \nQ 2394 2531 2256 2718 \nQ 2119 2906 1806 2906 \nQ 1569 2906 1367 2781 \nQ 1166 2656 1075 2415 \nQ 984 2175 984 1722 \nL 984 0 \nL 422 0 \nz\n\" transform=\"scale(0.015625)\"/>\n       <path id=\"ArialMT-70\" d=\"M 422 -1272 \nL 422 3319 \nL 934 3319 \nL 934 2888 \nQ 1116 3141 1344 3267 \nQ 1572 3394 1897 3394 \nQ 2322 3394 2647 3175 \nQ 2972 2956 3137 2557 \nQ 3303 2159 3303 1684 \nQ 3303 1175 3120 767 \nQ 2938 359 2589 142 \nQ 2241 -75 1856 -75 \nQ 1575 -75 1351 44 \nQ 1128 163 984 344 \nL 984 -1272 \nL 422 -1272 \nz\nM 931 1641 \nQ 931 1000 1190 694 \nQ 1450 388 1819 388 \nQ 2194 388 2461 705 \nQ 2728 1022 2728 1688 \nQ 2728 2322 2467 2637 \nQ 2206 2953 1844 2953 \nQ 1484 2953 1207 2617 \nQ 931 2281 931 1641 \nz\n\" transform=\"scale(0.015625)\"/>\n      </defs>\n      <use xlink:href=\"#ArialMT-68\"/>\n      <use xlink:href=\"#ArialMT-69\" x=\"55.615234\"/>\n      <use xlink:href=\"#ArialMT-67\" x=\"77.832031\"/>\n      <use xlink:href=\"#ArialMT-68\" x=\"133.447266\"/>\n      <use xlink:href=\"#ArialMT-77\" x=\"189.0625\"/>\n      <use xlink:href=\"#ArialMT-61\" x=\"261.279297\"/>\n      <use xlink:href=\"#ArialMT-79\" x=\"316.894531\"/>\n      <use xlink:href=\"#ArialMT-2d\" x=\"366.894531\"/>\n      <use xlink:href=\"#ArialMT-6d\" x=\"400.195312\"/>\n      <use xlink:href=\"#ArialMT-70\" x=\"483.496094\"/>\n      <use xlink:href=\"#ArialMT-67\" x=\"539.111328\"/>\n     </g>\n    </g>\n   </g>\n   <g id=\"matplotlib.axis_2\">\n    <g id=\"ytick_1\">\n     <g id=\"line2d_10\">\n      <path d=\"M 68.684219 215.53885 \nL 403.484219 215.53885 \n\" clip-path=\"url(#p764292ef81)\" style=\"fill: none; stroke: #cccccc; stroke-linecap: round\"/>\n     </g>\n     <g id=\"text_11\">\n      <!-- −10000 -->\n      <g style=\"fill: #262626\" transform=\"translate(22.174375 219.475647)scale(0.11 -0.11)\">\n       <defs>\n        <path id=\"ArialMT-2212\" d=\"M 3381 1997 \nL 356 1997 \nL 356 2522 \nL 3381 2522 \nL 3381 1997 \nz\n\" transform=\"scale(0.015625)\"/>\n       </defs>\n       <use xlink:href=\"#ArialMT-2212\"/>\n       <use xlink:href=\"#ArialMT-31\" x=\"58.398438\"/>\n       <use xlink:href=\"#ArialMT-30\" x=\"114.013672\"/>\n       <use xlink:href=\"#ArialMT-30\" x=\"169.628906\"/>\n       <use xlink:href=\"#ArialMT-30\" x=\"225.244141\"/>\n       <use xlink:href=\"#ArialMT-30\" x=\"280.859375\"/>\n      </g>\n     </g>\n    </g>\n    <g id=\"ytick_2\">\n     <g id=\"line2d_11\">\n      <path d=\"M 68.684219 179.716609 \nL 403.484219 179.716609 \n\" clip-path=\"url(#p764292ef81)\" style=\"fill: none; stroke: #cccccc; stroke-linecap: round\"/>\n     </g>\n     <g id=\"text_12\">\n      <!-- 0 -->\n      <g style=\"fill: #262626\" transform=\"translate(53.067188 183.653406)scale(0.11 -0.11)\">\n       <use xlink:href=\"#ArialMT-30\"/>\n      </g>\n     </g>\n    </g>\n    <g id=\"ytick_3\">\n     <g id=\"line2d_12\">\n      <path d=\"M 68.684219 143.894369 \nL 403.484219 143.894369 \n\" clip-path=\"url(#p764292ef81)\" style=\"fill: none; stroke: #cccccc; stroke-linecap: round\"/>\n     </g>\n     <g id=\"text_13\">\n      <!-- 10000 -->\n      <g style=\"fill: #262626\" transform=\"translate(28.599062 147.831166)scale(0.11 -0.11)\">\n       <use xlink:href=\"#ArialMT-31\"/>\n       <use xlink:href=\"#ArialMT-30\" x=\"55.615234\"/>\n       <use xlink:href=\"#ArialMT-30\" x=\"111.230469\"/>\n       <use xlink:href=\"#ArialMT-30\" x=\"166.845703\"/>\n       <use xlink:href=\"#ArialMT-30\" x=\"222.460938\"/>\n      </g>\n     </g>\n    </g>\n    <g id=\"ytick_4\">\n     <g id=\"line2d_13\">\n      <path d=\"M 68.684219 108.072128 \nL 403.484219 108.072128 \n\" clip-path=\"url(#p764292ef81)\" style=\"fill: none; stroke: #cccccc; stroke-linecap: round\"/>\n     </g>\n     <g id=\"text_14\">\n      <!-- 20000 -->\n      <g style=\"fill: #262626\" transform=\"translate(28.599062 112.008925)scale(0.11 -0.11)\">\n       <use xlink:href=\"#ArialMT-32\"/>\n       <use xlink:href=\"#ArialMT-30\" x=\"55.615234\"/>\n       <use xlink:href=\"#ArialMT-30\" x=\"111.230469\"/>\n       <use xlink:href=\"#ArialMT-30\" x=\"166.845703\"/>\n       <use xlink:href=\"#ArialMT-30\" x=\"222.460938\"/>\n      </g>\n     </g>\n    </g>\n    <g id=\"ytick_5\">\n     <g id=\"line2d_14\">\n      <path d=\"M 68.684219 72.249887 \nL 403.484219 72.249887 \n\" clip-path=\"url(#p764292ef81)\" style=\"fill: none; stroke: #cccccc; stroke-linecap: round\"/>\n     </g>\n     <g id=\"text_15\">\n      <!-- 30000 -->\n      <g style=\"fill: #262626\" transform=\"translate(28.599062 76.186684)scale(0.11 -0.11)\">\n       <use xlink:href=\"#ArialMT-33\"/>\n       <use xlink:href=\"#ArialMT-30\" x=\"55.615234\"/>\n       <use xlink:href=\"#ArialMT-30\" x=\"111.230469\"/>\n       <use xlink:href=\"#ArialMT-30\" x=\"166.845703\"/>\n       <use xlink:href=\"#ArialMT-30\" x=\"222.460938\"/>\n      </g>\n     </g>\n    </g>\n    <g id=\"ytick_6\">\n     <g id=\"line2d_15\">\n      <path d=\"M 68.684219 36.427646 \nL 403.484219 36.427646 \n\" clip-path=\"url(#p764292ef81)\" style=\"fill: none; stroke: #cccccc; stroke-linecap: round\"/>\n     </g>\n     <g id=\"text_16\">\n      <!-- 40000 -->\n      <g style=\"fill: #262626\" transform=\"translate(28.599062 40.364443)scale(0.11 -0.11)\">\n       <use xlink:href=\"#ArialMT-34\"/>\n       <use xlink:href=\"#ArialMT-30\" x=\"55.615234\"/>\n       <use xlink:href=\"#ArialMT-30\" x=\"111.230469\"/>\n       <use xlink:href=\"#ArialMT-30\" x=\"166.845703\"/>\n       <use xlink:href=\"#ArialMT-30\" x=\"222.460938\"/>\n      </g>\n     </g>\n    </g>\n    <g id=\"text_17\">\n     <!-- price -->\n     <g style=\"fill: #262626\" transform=\"translate(15.789375 128.924062)rotate(-90)scale(0.12 -0.12)\">\n      <defs>\n       <path id=\"ArialMT-72\" d=\"M 416 0 \nL 416 3319 \nL 922 3319 \nL 922 2816 \nQ 1116 3169 1280 3281 \nQ 1444 3394 1641 3394 \nQ 1925 3394 2219 3213 \nL 2025 2691 \nQ 1819 2813 1613 2813 \nQ 1428 2813 1281 2702 \nQ 1134 2591 1072 2394 \nQ 978 2094 978 1738 \nL 978 0 \nL 416 0 \nz\n\" transform=\"scale(0.015625)\"/>\n       <path id=\"ArialMT-63\" d=\"M 2588 1216 \nL 3141 1144 \nQ 3050 572 2676 248 \nQ 2303 -75 1759 -75 \nQ 1078 -75 664 370 \nQ 250 816 250 1647 \nQ 250 2184 428 2587 \nQ 606 2991 970 3192 \nQ 1334 3394 1763 3394 \nQ 2303 3394 2647 3120 \nQ 2991 2847 3088 2344 \nL 2541 2259 \nQ 2463 2594 2264 2762 \nQ 2066 2931 1784 2931 \nQ 1359 2931 1093 2626 \nQ 828 2322 828 1663 \nQ 828 994 1084 691 \nQ 1341 388 1753 388 \nQ 2084 388 2306 591 \nQ 2528 794 2588 1216 \nz\n\" transform=\"scale(0.015625)\"/>\n       <path id=\"ArialMT-65\" d=\"M 2694 1069 \nL 3275 997 \nQ 3138 488 2766 206 \nQ 2394 -75 1816 -75 \nQ 1088 -75 661 373 \nQ 234 822 234 1631 \nQ 234 2469 665 2931 \nQ 1097 3394 1784 3394 \nQ 2450 3394 2872 2941 \nQ 3294 2488 3294 1666 \nQ 3294 1616 3291 1516 \nL 816 1516 \nQ 847 969 1125 678 \nQ 1403 388 1819 388 \nQ 2128 388 2347 550 \nQ 2566 713 2694 1069 \nz\nM 847 1978 \nL 2700 1978 \nQ 2663 2397 2488 2606 \nQ 2219 2931 1791 2931 \nQ 1403 2931 1139 2672 \nQ 875 2413 847 1978 \nz\n\" transform=\"scale(0.015625)\"/>\n      </defs>\n      <use xlink:href=\"#ArialMT-70\"/>\n      <use xlink:href=\"#ArialMT-72\" x=\"55.615234\"/>\n      <use xlink:href=\"#ArialMT-69\" x=\"88.916016\"/>\n      <use xlink:href=\"#ArialMT-63\" x=\"111.132812\"/>\n      <use xlink:href=\"#ArialMT-65\" x=\"161.132812\"/>\n     </g>\n    </g>\n   </g>\n   <g id=\"PathCollection_1\">\n    <defs>\n     <path id=\"m3a18acd5bf\" d=\"M 0 3 \nC 0.795609 3 1.55874 2.683901 2.12132 2.12132 \nC 2.683901 1.55874 3 0.795609 3 0 \nC 3 -0.795609 2.683901 -1.55874 2.12132 -2.12132 \nC 1.55874 -2.683901 0.795609 -3 0 -3 \nC -0.795609 -3 -1.55874 -2.683901 -2.12132 -2.12132 \nC -2.683901 -1.55874 -3 -0.795609 -3 0 \nC -3 0.795609 -2.683901 1.55874 -2.12132 2.12132 \nC -1.55874 2.683901 -0.795609 3 0 3 \nz\n\" style=\"stroke: #4c72b0; stroke-opacity: 0.8\"/>\n    </defs>\n    <g clip-path=\"url(#p764292ef81)\">\n     <use xlink:href=\"#m3a18acd5bf\" x=\"172.007664\" y=\"131.374496\" style=\"fill: #4c72b0; fill-opacity: 0.8; stroke: #4c72b0; stroke-opacity: 0.8\"/>\n     <use xlink:href=\"#m3a18acd5bf\" x=\"172.007664\" y=\"120.609912\" style=\"fill: #4c72b0; fill-opacity: 0.8; stroke: #4c72b0; stroke-opacity: 0.8\"/>\n     <use xlink:href=\"#m3a18acd5bf\" x=\"163.998094\" y=\"120.609912\" style=\"fill: #4c72b0; fill-opacity: 0.8; stroke: #4c72b0; stroke-opacity: 0.8\"/>\n     <use xlink:href=\"#m3a18acd5bf\" x=\"196.036372\" y=\"129.744584\" style=\"fill: #4c72b0; fill-opacity: 0.8; stroke: #4c72b0; stroke-opacity: 0.8\"/>\n     <use xlink:href=\"#m3a18acd5bf\" x=\"131.959817\" y=\"117.206799\" style=\"fill: #4c72b0; fill-opacity: 0.8; stroke: #4c72b0; stroke-opacity: 0.8\"/>\n     <use xlink:href=\"#m3a18acd5bf\" x=\"155.988525\" y=\"125.087692\" style=\"fill: #4c72b0; fill-opacity: 0.8; stroke: #4c72b0; stroke-opacity: 0.8\"/>\n     <use xlink:href=\"#m3a18acd5bf\" x=\"155.988525\" y=\"116.275421\" style=\"fill: #4c72b0; fill-opacity: 0.8; stroke: #4c72b0; stroke-opacity: 0.8\"/>\n     <use xlink:href=\"#m3a18acd5bf\" x=\"155.988525\" y=\"111.94093\" style=\"fill: #4c72b0; fill-opacity: 0.8; stroke: #4c72b0; stroke-opacity: 0.8\"/>\n     <use xlink:href=\"#m3a18acd5bf\" x=\"115.940678\" y=\"94.19101\" style=\"fill: #4c72b0; fill-opacity: 0.8; stroke: #4c72b0; stroke-opacity: 0.8\"/>\n     <use xlink:href=\"#m3a18acd5bf\" x=\"188.026802\" y=\"120.860668\" style=\"fill: #4c72b0; fill-opacity: 0.8; stroke: #4c72b0; stroke-opacity: 0.8\"/>\n     <use xlink:href=\"#m3a18acd5bf\" x=\"188.026802\" y=\"119.087467\" style=\"fill: #4c72b0; fill-opacity: 0.8; stroke: #4c72b0; stroke-opacity: 0.8\"/>\n     <use xlink:href=\"#m3a18acd5bf\" x=\"180.017233\" y=\"104.597371\" style=\"fill: #4c72b0; fill-opacity: 0.8; stroke: #4c72b0; stroke-opacity: 0.8\"/>\n     <use xlink:href=\"#m3a18acd5bf\" x=\"180.017233\" y=\"104.11377\" style=\"fill: #4c72b0; fill-opacity: 0.8; stroke: #4c72b0; stroke-opacity: 0.8\"/>\n     <use xlink:href=\"#m3a18acd5bf\" x=\"155.988525\" y=\"91.719275\" style=\"fill: #4c72b0; fill-opacity: 0.8; stroke: #4c72b0; stroke-opacity: 0.8\"/>\n     <use xlink:href=\"#m3a18acd5bf\" x=\"131.959817\" y=\"69.527397\" style=\"fill: #4c72b0; fill-opacity: 0.8; stroke: #4c72b0; stroke-opacity: 0.8\"/>\n     <use xlink:href=\"#m3a18acd5bf\" x=\"131.959817\" y=\"31.717022\" style=\"fill: #4c72b0; fill-opacity: 0.8; stroke: #4c72b0; stroke-opacity: 0.8\"/>\n     <use xlink:href=\"#m3a18acd5bf\" x=\"115.940678\" y=\"47.604185\" style=\"fill: #4c72b0; fill-opacity: 0.8; stroke: #4c72b0; stroke-opacity: 0.8\"/>\n     <use xlink:href=\"#m3a18acd5bf\" x=\"380.256468\" y=\"161.264573\" style=\"fill: #4c72b0; fill-opacity: 0.8; stroke: #4c72b0; stroke-opacity: 0.8\"/>\n     <use xlink:href=\"#m3a18acd5bf\" x=\"300.160774\" y=\"157.166509\" style=\"fill: #4c72b0; fill-opacity: 0.8; stroke: #4c72b0; stroke-opacity: 0.8\"/>\n     <use xlink:href=\"#m3a18acd5bf\" x=\"300.160774\" y=\"156.163486\" style=\"fill: #4c72b0; fill-opacity: 0.8; stroke: #4c72b0; stroke-opacity: 0.8\"/>\n     <use xlink:href=\"#m3a18acd5bf\" x=\"284.141635\" y=\"159.756457\" style=\"fill: #4c72b0; fill-opacity: 0.8; stroke: #4c72b0; stroke-opacity: 0.8\"/>\n     <use xlink:href=\"#m3a18acd5bf\" x=\"260.112927\" y=\"156.872766\" style=\"fill: #4c72b0; fill-opacity: 0.8; stroke: #4c72b0; stroke-opacity: 0.8\"/>\n     <use xlink:href=\"#m3a18acd5bf\" x=\"196.036372\" y=\"151.212852\" style=\"fill: #4c72b0; fill-opacity: 0.8; stroke: #4c72b0; stroke-opacity: 0.8\"/>\n     <use xlink:href=\"#m3a18acd5bf\" x=\"260.112927\" y=\"157.402936\" style=\"fill: #4c72b0; fill-opacity: 0.8; stroke: #4c72b0; stroke-opacity: 0.8\"/>\n     <use xlink:href=\"#m3a18acd5bf\" x=\"260.112927\" y=\"155.744366\" style=\"fill: #4c72b0; fill-opacity: 0.8; stroke: #4c72b0; stroke-opacity: 0.8\"/>\n     <use xlink:href=\"#m3a18acd5bf\" x=\"260.112927\" y=\"152.459466\" style=\"fill: #4c72b0; fill-opacity: 0.8; stroke: #4c72b0; stroke-opacity: 0.8\"/>\n     <use xlink:href=\"#m3a18acd5bf\" x=\"196.036372\" y=\"149.059936\" style=\"fill: #4c72b0; fill-opacity: 0.8; stroke: #4c72b0; stroke-opacity: 0.8\"/>\n     <use xlink:href=\"#m3a18acd5bf\" x=\"196.036372\" y=\"147.759588\" style=\"fill: #4c72b0; fill-opacity: 0.8; stroke: #4c72b0; stroke-opacity: 0.8\"/>\n     <use xlink:href=\"#m3a18acd5bf\" x=\"147.978956\" y=\"133.276657\" style=\"fill: #4c72b0; fill-opacity: 0.8; stroke: #4c72b0; stroke-opacity: 0.8\"/>\n     <use xlink:href=\"#m3a18acd5bf\" x=\"388.266037\" y=\"156.50738\" style=\"fill: #4c72b0; fill-opacity: 0.8; stroke: #4c72b0; stroke-opacity: 0.8\"/>\n     <use xlink:href=\"#m3a18acd5bf\" x=\"260.112927\" y=\"155.160463\" style=\"fill: #4c72b0; fill-opacity: 0.8; stroke: #4c72b0; stroke-opacity: 0.8\"/>\n     <use xlink:href=\"#m3a18acd5bf\" x=\"292.151204\" y=\"160.376182\" style=\"fill: #4c72b0; fill-opacity: 0.8; stroke: #4c72b0; stroke-opacity: 0.8\"/>\n     <use xlink:href=\"#m3a18acd5bf\" x=\"228.074649\" y=\"156.328268\" style=\"fill: #4c72b0; fill-opacity: 0.8; stroke: #4c72b0; stroke-opacity: 0.8\"/>\n     <use xlink:href=\"#m3a18acd5bf\" x=\"228.074649\" y=\"154.178934\" style=\"fill: #4c72b0; fill-opacity: 0.8; stroke: #4c72b0; stroke-opacity: 0.8\"/>\n     <use xlink:href=\"#m3a18acd5bf\" x=\"228.074649\" y=\"153.584285\" style=\"fill: #4c72b0; fill-opacity: 0.8; stroke: #4c72b0; stroke-opacity: 0.8\"/>\n     <use xlink:href=\"#m3a18acd5bf\" x=\"228.074649\" y=\"153.584285\" style=\"fill: #4c72b0; fill-opacity: 0.8; stroke: #4c72b0; stroke-opacity: 0.8\"/>\n     <use xlink:href=\"#m3a18acd5bf\" x=\"220.06508\" y=\"151.43495\" style=\"fill: #4c72b0; fill-opacity: 0.8; stroke: #4c72b0; stroke-opacity: 0.8\"/>\n     <use xlink:href=\"#m3a18acd5bf\" x=\"220.06508\" y=\"147.136281\" style=\"fill: #4c72b0; fill-opacity: 0.8; stroke: #4c72b0; stroke-opacity: 0.8\"/>\n     <use xlink:href=\"#m3a18acd5bf\" x=\"220.06508\" y=\"148.031837\" style=\"fill: #4c72b0; fill-opacity: 0.8; stroke: #4c72b0; stroke-opacity: 0.8\"/>\n     <use xlink:href=\"#m3a18acd5bf\" x=\"220.06508\" y=\"142.837613\" style=\"fill: #4c72b0; fill-opacity: 0.8; stroke: #4c72b0; stroke-opacity: 0.8\"/>\n     <use xlink:href=\"#m3a18acd5bf\" x=\"180.017233\" y=\"133.344719\" style=\"fill: #4c72b0; fill-opacity: 0.8; stroke: #4c72b0; stroke-opacity: 0.8\"/>\n     <use xlink:href=\"#m3a18acd5bf\" x=\"204.045941\" y=\"142.658501\" style=\"fill: #4c72b0; fill-opacity: 0.8; stroke: #4c72b0; stroke-opacity: 0.8\"/>\n     <use xlink:href=\"#m3a18acd5bf\" x=\"188.026802\" y=\"155.411219\" style=\"fill: #4c72b0; fill-opacity: 0.8; stroke: #4c72b0; stroke-opacity: 0.8\"/>\n     <use xlink:href=\"#m3a18acd5bf\" x=\"188.026802\" y=\"140.140198\" style=\"fill: #4c72b0; fill-opacity: 0.8; stroke: #4c72b0; stroke-opacity: 0.8\"/>\n     <use xlink:href=\"#m3a18acd5bf\" x=\"107.931109\" y=\"64.189883\" style=\"fill: #4c72b0; fill-opacity: 0.8; stroke: #4c72b0; stroke-opacity: 0.8\"/>\n     <use xlink:href=\"#m3a18acd5bf\" x=\"107.931109\" y=\"52.368544\" style=\"fill: #4c72b0; fill-opacity: 0.8; stroke: #4c72b0; stroke-opacity: 0.8\"/>\n     <use xlink:href=\"#m3a18acd5bf\" x=\"91.91197\" y=\"50.756543\" style=\"fill: #4c72b0; fill-opacity: 0.8; stroke: #4c72b0; stroke-opacity: 0.8\"/>\n     <use xlink:href=\"#m3a18acd5bf\" x=\"204.045941\" y=\"161.106955\" style=\"fill: #4c72b0; fill-opacity: 0.8; stroke: #4c72b0; stroke-opacity: 0.8\"/>\n     <use xlink:href=\"#m3a18acd5bf\" x=\"260.112927\" y=\"157.882954\" style=\"fill: #4c72b0; fill-opacity: 0.8; stroke: #4c72b0; stroke-opacity: 0.8\"/>\n     <use xlink:href=\"#m3a18acd5bf\" x=\"260.112927\" y=\"155.375397\" style=\"fill: #4c72b0; fill-opacity: 0.8; stroke: #4c72b0; stroke-opacity: 0.8\"/>\n     <use xlink:href=\"#m3a18acd5bf\" x=\"260.112927\" y=\"155.733619\" style=\"fill: #4c72b0; fill-opacity: 0.8; stroke: #4c72b0; stroke-opacity: 0.8\"/>\n     <use xlink:href=\"#m3a18acd5bf\" x=\"260.112927\" y=\"153.226062\" style=\"fill: #4c72b0; fill-opacity: 0.8; stroke: #4c72b0; stroke-opacity: 0.8\"/>\n     <use xlink:href=\"#m3a18acd5bf\" x=\"139.969386\" y=\"140.509167\" style=\"fill: #4c72b0; fill-opacity: 0.8; stroke: #4c72b0; stroke-opacity: 0.8\"/>\n     <use xlink:href=\"#m3a18acd5bf\" x=\"139.969386\" y=\"137.285165\" style=\"fill: #4c72b0; fill-opacity: 0.8; stroke: #4c72b0; stroke-opacity: 0.8\"/>\n     <use xlink:href=\"#m3a18acd5bf\" x=\"139.969386\" y=\"130.837162\" style=\"fill: #4c72b0; fill-opacity: 0.8; stroke: #4c72b0; stroke-opacity: 0.8\"/>\n     <use xlink:href=\"#m3a18acd5bf\" x=\"139.969386\" y=\"123.672714\" style=\"fill: #4c72b0; fill-opacity: 0.8; stroke: #4c72b0; stroke-opacity: 0.8\"/>\n     <use xlink:href=\"#m3a18acd5bf\" x=\"212.055511\" y=\"148.031837\" style=\"fill: #4c72b0; fill-opacity: 0.8; stroke: #4c72b0; stroke-opacity: 0.8\"/>\n     <use xlink:href=\"#m3a18acd5bf\" x=\"212.055511\" y=\"149.285616\" style=\"fill: #4c72b0; fill-opacity: 0.8; stroke: #4c72b0; stroke-opacity: 0.8\"/>\n     <use xlink:href=\"#m3a18acd5bf\" x=\"212.055511\" y=\"141.762945\" style=\"fill: #4c72b0; fill-opacity: 0.8; stroke: #4c72b0; stroke-opacity: 0.8\"/>\n     <use xlink:href=\"#m3a18acd5bf\" x=\"212.055511\" y=\"143.016724\" style=\"fill: #4c72b0; fill-opacity: 0.8; stroke: #4c72b0; stroke-opacity: 0.8\"/>\n     <use xlink:href=\"#m3a18acd5bf\" x=\"292.151204\" y=\"141.046501\" style=\"fill: #4c72b0; fill-opacity: 0.8; stroke: #4c72b0; stroke-opacity: 0.8\"/>\n     <use xlink:href=\"#m3a18acd5bf\" x=\"212.055511\" y=\"139.4345\" style=\"fill: #4c72b0; fill-opacity: 0.8; stroke: #4c72b0; stroke-opacity: 0.8\"/>\n     <use xlink:href=\"#m3a18acd5bf\" x=\"172.007664\" y=\"114.233553\" style=\"fill: #4c72b0; fill-opacity: 0.8; stroke: #4c72b0; stroke-opacity: 0.8\"/>\n     <use xlink:href=\"#m3a18acd5bf\" x=\"268.122496\" y=\"114.004291\" style=\"fill: #4c72b0; fill-opacity: 0.8; stroke: #4c72b0; stroke-opacity: 0.8\"/>\n     <use xlink:href=\"#m3a18acd5bf\" x=\"155.988525\" y=\"88.18362\" style=\"fill: #4c72b0; fill-opacity: 0.8; stroke: #4c72b0; stroke-opacity: 0.8\"/>\n     <use xlink:href=\"#m3a18acd5bf\" x=\"155.988525\" y=\"78.525944\" style=\"fill: #4c72b0; fill-opacity: 0.8; stroke: #4c72b0; stroke-opacity: 0.8\"/>\n     <use xlink:href=\"#m3a18acd5bf\" x=\"155.988525\" y=\"78.783864\" style=\"fill: #4c72b0; fill-opacity: 0.8; stroke: #4c72b0; stroke-opacity: 0.8\"/>\n     <use xlink:href=\"#m3a18acd5bf\" x=\"155.988525\" y=\"66.518329\" style=\"fill: #4c72b0; fill-opacity: 0.8; stroke: #4c72b0; stroke-opacity: 0.8\"/>\n     <use xlink:href=\"#m3a18acd5bf\" x=\"99.921539\" y=\"57.261862\" style=\"fill: #4c72b0; fill-opacity: 0.8; stroke: #4c72b0; stroke-opacity: 0.8\"/>\n     <use xlink:href=\"#m3a18acd5bf\" x=\"99.921539\" y=\"54.138162\" style=\"fill: #4c72b0; fill-opacity: 0.8; stroke: #4c72b0; stroke-opacity: 0.8\"/>\n     <use xlink:href=\"#m3a18acd5bf\" x=\"83.902401\" y=\"32.988711\" style=\"fill: #4c72b0; fill-opacity: 0.8; stroke: #4c72b0; stroke-opacity: 0.8\"/>\n     <use xlink:href=\"#m3a18acd5bf\" x=\"83.902401\" y=\"17.083636\" style=\"fill: #4c72b0; fill-opacity: 0.8; stroke: #4c72b0; stroke-opacity: 0.8\"/>\n     <use xlink:href=\"#m3a18acd5bf\" x=\"147.978956\" y=\"120.599165\" style=\"fill: #4c72b0; fill-opacity: 0.8; stroke: #4c72b0; stroke-opacity: 0.8\"/>\n     <use xlink:href=\"#m3a18acd5bf\" x=\"284.141635\" y=\"160.412004\" style=\"fill: #4c72b0; fill-opacity: 0.8; stroke: #4c72b0; stroke-opacity: 0.8\"/>\n     <use xlink:href=\"#m3a18acd5bf\" x=\"260.112927\" y=\"157.546225\" style=\"fill: #4c72b0; fill-opacity: 0.8; stroke: #4c72b0; stroke-opacity: 0.8\"/>\n     <use xlink:href=\"#m3a18acd5bf\" x=\"260.112927\" y=\"155.826757\" style=\"fill: #4c72b0; fill-opacity: 0.8; stroke: #4c72b0; stroke-opacity: 0.8\"/>\n     <use xlink:href=\"#m3a18acd5bf\" x=\"196.036372\" y=\"152.172889\" style=\"fill: #4c72b0; fill-opacity: 0.8; stroke: #4c72b0; stroke-opacity: 0.8\"/>\n     <use xlink:href=\"#m3a18acd5bf\" x=\"196.036372\" y=\"144.04124\" style=\"fill: #4c72b0; fill-opacity: 0.8; stroke: #4c72b0; stroke-opacity: 0.8\"/>\n     <use xlink:href=\"#m3a18acd5bf\" x=\"212.055511\" y=\"149.271287\" style=\"fill: #4c72b0; fill-opacity: 0.8; stroke: #4c72b0; stroke-opacity: 0.8\"/>\n     <use xlink:href=\"#m3a18acd5bf\" x=\"147.978956\" y=\"134.476702\" style=\"fill: #4c72b0; fill-opacity: 0.8; stroke: #4c72b0; stroke-opacity: 0.8\"/>\n     <use xlink:href=\"#m3a18acd5bf\" x=\"147.978956\" y=\"126.45252\" style=\"fill: #4c72b0; fill-opacity: 0.8; stroke: #4c72b0; stroke-opacity: 0.8\"/>\n     <use xlink:href=\"#m3a18acd5bf\" x=\"147.978956\" y=\"127.813765\" style=\"fill: #4c72b0; fill-opacity: 0.8; stroke: #4c72b0; stroke-opacity: 0.8\"/>\n     <use xlink:href=\"#m3a18acd5bf\" x=\"212.055511\" y=\"154.680445\" style=\"fill: #4c72b0; fill-opacity: 0.8; stroke: #4c72b0; stroke-opacity: 0.8\"/>\n     <use xlink:href=\"#m3a18acd5bf\" x=\"212.055511\" y=\"150.381776\" style=\"fill: #4c72b0; fill-opacity: 0.8; stroke: #4c72b0; stroke-opacity: 0.8\"/>\n     <use xlink:href=\"#m3a18acd5bf\" x=\"196.036372\" y=\"146.477152\" style=\"fill: #4c72b0; fill-opacity: 0.8; stroke: #4c72b0; stroke-opacity: 0.8\"/>\n     <use xlink:href=\"#m3a18acd5bf\" x=\"196.036372\" y=\"146.477152\" style=\"fill: #4c72b0; fill-opacity: 0.8; stroke: #4c72b0; stroke-opacity: 0.8\"/>\n     <use xlink:href=\"#m3a18acd5bf\" x=\"252.103358\" y=\"160.017959\" style=\"fill: #4c72b0; fill-opacity: 0.8; stroke: #4c72b0; stroke-opacity: 0.8\"/>\n     <use xlink:href=\"#m3a18acd5bf\" x=\"356.227759\" y=\"154.286401\" style=\"fill: #4c72b0; fill-opacity: 0.8; stroke: #4c72b0; stroke-opacity: 0.8\"/>\n     <use xlink:href=\"#m3a18acd5bf\" x=\"252.103358\" y=\"155.898402\" style=\"fill: #4c72b0; fill-opacity: 0.8; stroke: #4c72b0; stroke-opacity: 0.8\"/>\n     <use xlink:href=\"#m3a18acd5bf\" x=\"252.103358\" y=\"155.181957\" style=\"fill: #4c72b0; fill-opacity: 0.8; stroke: #4c72b0; stroke-opacity: 0.8\"/>\n     <use xlink:href=\"#m3a18acd5bf\" x=\"252.103358\" y=\"153.390845\" style=\"fill: #4c72b0; fill-opacity: 0.8; stroke: #4c72b0; stroke-opacity: 0.8\"/>\n     <use xlink:href=\"#m3a18acd5bf\" x=\"252.103358\" y=\"153.569956\" style=\"fill: #4c72b0; fill-opacity: 0.8; stroke: #4c72b0; stroke-opacity: 0.8\"/>\n     <use xlink:href=\"#m3a18acd5bf\" x=\"252.103358\" y=\"151.778844\" style=\"fill: #4c72b0; fill-opacity: 0.8; stroke: #4c72b0; stroke-opacity: 0.8\"/>\n     <use xlink:href=\"#m3a18acd5bf\" x=\"252.103358\" y=\"152.853511\" style=\"fill: #4c72b0; fill-opacity: 0.8; stroke: #4c72b0; stroke-opacity: 0.8\"/>\n     <use xlink:href=\"#m3a18acd5bf\" x=\"252.103358\" y=\"151.062399\" style=\"fill: #4c72b0; fill-opacity: 0.8; stroke: #4c72b0; stroke-opacity: 0.8\"/>\n     <use xlink:href=\"#m3a18acd5bf\" x=\"252.103358\" y=\"150.166843\" style=\"fill: #4c72b0; fill-opacity: 0.8; stroke: #4c72b0; stroke-opacity: 0.8\"/>\n     <use xlink:href=\"#m3a18acd5bf\" x=\"228.074649\" y=\"147.659286\" style=\"fill: #4c72b0; fill-opacity: 0.8; stroke: #4c72b0; stroke-opacity: 0.8\"/>\n     <use xlink:href=\"#m3a18acd5bf\" x=\"228.074649\" y=\"145.509952\" style=\"fill: #4c72b0; fill-opacity: 0.8; stroke: #4c72b0; stroke-opacity: 0.8\"/>\n     <use xlink:href=\"#m3a18acd5bf\" x=\"131.959817\" y=\"131.360167\" style=\"fill: #4c72b0; fill-opacity: 0.8; stroke: #4c72b0; stroke-opacity: 0.8\"/>\n     <use xlink:href=\"#m3a18acd5bf\" x=\"131.959817\" y=\"128.136165\" style=\"fill: #4c72b0; fill-opacity: 0.8; stroke: #4c72b0; stroke-opacity: 0.8\"/>\n     <use xlink:href=\"#m3a18acd5bf\" x=\"155.988525\" y=\"131.360167\" style=\"fill: #4c72b0; fill-opacity: 0.8; stroke: #4c72b0; stroke-opacity: 0.8\"/>\n     <use xlink:href=\"#m3a18acd5bf\" x=\"155.988525\" y=\"118.105938\" style=\"fill: #4c72b0; fill-opacity: 0.8; stroke: #4c72b0; stroke-opacity: 0.8\"/>\n     <use xlink:href=\"#m3a18acd5bf\" x=\"139.969386\" y=\"109.150377\" style=\"fill: #4c72b0; fill-opacity: 0.8; stroke: #4c72b0; stroke-opacity: 0.8\"/>\n     <use xlink:href=\"#m3a18acd5bf\" x=\"155.988525\" y=\"113.807269\" style=\"fill: #4c72b0; fill-opacity: 0.8; stroke: #4c72b0; stroke-opacity: 0.8\"/>\n     <use xlink:href=\"#m3a18acd5bf\" x=\"147.978956\" y=\"137.088143\" style=\"fill: #4c72b0; fill-opacity: 0.8; stroke: #4c72b0; stroke-opacity: 0.8\"/>\n     <use xlink:href=\"#m3a18acd5bf\" x=\"220.06508\" y=\"132.431252\" style=\"fill: #4c72b0; fill-opacity: 0.8; stroke: #4c72b0; stroke-opacity: 0.8\"/>\n     <use xlink:href=\"#m3a18acd5bf\" x=\"147.978956\" y=\"135.153742\" style=\"fill: #4c72b0; fill-opacity: 0.8; stroke: #4c72b0; stroke-opacity: 0.8\"/>\n     <use xlink:href=\"#m3a18acd5bf\" x=\"155.988525\" y=\"130.066984\" style=\"fill: #4c72b0; fill-opacity: 0.8; stroke: #4c72b0; stroke-opacity: 0.8\"/>\n     <use xlink:href=\"#m3a18acd5bf\" x=\"147.978956\" y=\"123.905558\" style=\"fill: #4c72b0; fill-opacity: 0.8; stroke: #4c72b0; stroke-opacity: 0.8\"/>\n     <use xlink:href=\"#m3a18acd5bf\" x=\"220.06508\" y=\"119.177023\" style=\"fill: #4c72b0; fill-opacity: 0.8; stroke: #4c72b0; stroke-opacity: 0.8\"/>\n     <use xlink:href=\"#m3a18acd5bf\" x=\"147.978956\" y=\"119.911378\" style=\"fill: #4c72b0; fill-opacity: 0.8; stroke: #4c72b0; stroke-opacity: 0.8\"/>\n     <use xlink:href=\"#m3a18acd5bf\" x=\"155.988525\" y=\"118.550133\" style=\"fill: #4c72b0; fill-opacity: 0.8; stroke: #4c72b0; stroke-opacity: 0.8\"/>\n     <use xlink:href=\"#m3a18acd5bf\" x=\"147.978956\" y=\"120.144223\" style=\"fill: #4c72b0; fill-opacity: 0.8; stroke: #4c72b0; stroke-opacity: 0.8\"/>\n     <use xlink:href=\"#m3a18acd5bf\" x=\"220.06508\" y=\"115.415687\" style=\"fill: #4c72b0; fill-opacity: 0.8; stroke: #4c72b0; stroke-opacity: 0.8\"/>\n     <use xlink:href=\"#m3a18acd5bf\" x=\"147.978956\" y=\"114.699242\" style=\"fill: #4c72b0; fill-opacity: 0.8; stroke: #4c72b0; stroke-opacity: 0.8\"/>\n     <use xlink:href=\"#m3a18acd5bf\" x=\"284.141635\" y=\"159.756457\" style=\"fill: #4c72b0; fill-opacity: 0.8; stroke: #4c72b0; stroke-opacity: 0.8\"/>\n     <use xlink:href=\"#m3a18acd5bf\" x=\"196.036372\" y=\"151.212852\" style=\"fill: #4c72b0; fill-opacity: 0.8; stroke: #4c72b0; stroke-opacity: 0.8\"/>\n     <use xlink:href=\"#m3a18acd5bf\" x=\"260.112927\" y=\"157.402936\" style=\"fill: #4c72b0; fill-opacity: 0.8; stroke: #4c72b0; stroke-opacity: 0.8\"/>\n     <use xlink:href=\"#m3a18acd5bf\" x=\"260.112927\" y=\"155.744366\" style=\"fill: #4c72b0; fill-opacity: 0.8; stroke: #4c72b0; stroke-opacity: 0.8\"/>\n     <use xlink:href=\"#m3a18acd5bf\" x=\"260.112927\" y=\"152.459466\" style=\"fill: #4c72b0; fill-opacity: 0.8; stroke: #4c72b0; stroke-opacity: 0.8\"/>\n     <use xlink:href=\"#m3a18acd5bf\" x=\"196.036372\" y=\"147.759588\" style=\"fill: #4c72b0; fill-opacity: 0.8; stroke: #4c72b0; stroke-opacity: 0.8\"/>\n     <use xlink:href=\"#m3a18acd5bf\" x=\"147.978956\" y=\"133.993101\" style=\"fill: #4c72b0; fill-opacity: 0.8; stroke: #4c72b0; stroke-opacity: 0.8\"/>\n     <use xlink:href=\"#m3a18acd5bf\" x=\"172.007664\" y=\"100.8432\" style=\"fill: #4c72b0; fill-opacity: 0.8; stroke: #4c72b0; stroke-opacity: 0.8\"/>\n     <use xlink:href=\"#m3a18acd5bf\" x=\"155.988525\" y=\"63.194025\" style=\"fill: #4c72b0; fill-opacity: 0.8; stroke: #4c72b0; stroke-opacity: 0.8\"/>\n     <use xlink:href=\"#m3a18acd5bf\" x=\"155.988525\" y=\"57.820689\" style=\"fill: #4c72b0; fill-opacity: 0.8; stroke: #4c72b0; stroke-opacity: 0.8\"/>\n     <use xlink:href=\"#m3a18acd5bf\" x=\"155.988525\" y=\"47.074016\" style=\"fill: #4c72b0; fill-opacity: 0.8; stroke: #4c72b0; stroke-opacity: 0.8\"/>\n     <use xlink:href=\"#m3a18acd5bf\" x=\"204.045941\" y=\"146.419837\" style=\"fill: #4c72b0; fill-opacity: 0.8; stroke: #4c72b0; stroke-opacity: 0.8\"/>\n     <use xlink:href=\"#m3a18acd5bf\" x=\"204.045941\" y=\"144.270502\" style=\"fill: #4c72b0; fill-opacity: 0.8; stroke: #4c72b0; stroke-opacity: 0.8\"/>\n     <use xlink:href=\"#m3a18acd5bf\" x=\"180.017233\" y=\"137.267254\" style=\"fill: #4c72b0; fill-opacity: 0.8; stroke: #4c72b0; stroke-opacity: 0.8\"/>\n     <use xlink:href=\"#m3a18acd5bf\" x=\"180.017233\" y=\"136.120942\" style=\"fill: #4c72b0; fill-opacity: 0.8; stroke: #4c72b0; stroke-opacity: 0.8\"/>\n     <use xlink:href=\"#m3a18acd5bf\" x=\"180.017233\" y=\"125.839959\" style=\"fill: #4c72b0; fill-opacity: 0.8; stroke: #4c72b0; stroke-opacity: 0.8\"/>\n     <use xlink:href=\"#m3a18acd5bf\" x=\"180.017233\" y=\"124.156314\" style=\"fill: #4c72b0; fill-opacity: 0.8; stroke: #4c72b0; stroke-opacity: 0.8\"/>\n     <use xlink:href=\"#m3a18acd5bf\" x=\"163.998094\" y=\"114.699242\" style=\"fill: #4c72b0; fill-opacity: 0.8; stroke: #4c72b0; stroke-opacity: 0.8\"/>\n     <use xlink:href=\"#m3a18acd5bf\" x=\"163.998094\" y=\"113.015597\" style=\"fill: #4c72b0; fill-opacity: 0.8; stroke: #4c72b0; stroke-opacity: 0.8\"/>\n     <use xlink:href=\"#m3a18acd5bf\" x=\"244.093788\" y=\"161.382787\" style=\"fill: #4c72b0; fill-opacity: 0.8; stroke: #4c72b0; stroke-opacity: 0.8\"/>\n     <use xlink:href=\"#m3a18acd5bf\" x=\"204.045941\" y=\"154.451183\" style=\"fill: #4c72b0; fill-opacity: 0.8; stroke: #4c72b0; stroke-opacity: 0.8\"/>\n     <use xlink:href=\"#m3a18acd5bf\" x=\"204.045941\" y=\"152.48096\" style=\"fill: #4c72b0; fill-opacity: 0.8; stroke: #4c72b0; stroke-opacity: 0.8\"/>\n     <use xlink:href=\"#m3a18acd5bf\" x=\"252.103358\" y=\"154.189681\" style=\"fill: #4c72b0; fill-opacity: 0.8; stroke: #4c72b0; stroke-opacity: 0.8\"/>\n     <use xlink:href=\"#m3a18acd5bf\" x=\"220.06508\" y=\"151.864817\" style=\"fill: #4c72b0; fill-opacity: 0.8; stroke: #4c72b0; stroke-opacity: 0.8\"/>\n     <use xlink:href=\"#m3a18acd5bf\" x=\"212.055511\" y=\"144.037658\" style=\"fill: #4c72b0; fill-opacity: 0.8; stroke: #4c72b0; stroke-opacity: 0.8\"/>\n     <use xlink:href=\"#m3a18acd5bf\" x=\"155.988525\" y=\"146.641935\" style=\"fill: #4c72b0; fill-opacity: 0.8; stroke: #4c72b0; stroke-opacity: 0.8\"/>\n     <use xlink:href=\"#m3a18acd5bf\" x=\"188.026802\" y=\"139.384349\" style=\"fill: #4c72b0; fill-opacity: 0.8; stroke: #4c72b0; stroke-opacity: 0.8\"/>\n     <use xlink:href=\"#m3a18acd5bf\" x=\"212.055511\" y=\"152.982471\" style=\"fill: #4c72b0; fill-opacity: 0.8; stroke: #4c72b0; stroke-opacity: 0.8\"/>\n     <use xlink:href=\"#m3a18acd5bf\" x=\"204.045941\" y=\"143.185088\" style=\"fill: #4c72b0; fill-opacity: 0.8; stroke: #4c72b0; stroke-opacity: 0.8\"/>\n     <use xlink:href=\"#m3a18acd5bf\" x=\"188.026802\" y=\"151.012248\" style=\"fill: #4c72b0; fill-opacity: 0.8; stroke: #4c72b0; stroke-opacity: 0.8\"/>\n     <use xlink:href=\"#m3a18acd5bf\" x=\"139.969386\" y=\"137.826081\" style=\"fill: #4c72b0; fill-opacity: 0.8; stroke: #4c72b0; stroke-opacity: 0.8\"/>\n     <use xlink:href=\"#m3a18acd5bf\" x=\"268.122496\" y=\"160.558875\" style=\"fill: #4c72b0; fill-opacity: 0.8; stroke: #4c72b0; stroke-opacity: 0.8\"/>\n     <use xlink:href=\"#m3a18acd5bf\" x=\"260.112927\" y=\"157.012473\" style=\"fill: #4c72b0; fill-opacity: 0.8; stroke: #4c72b0; stroke-opacity: 0.8\"/>\n     <use xlink:href=\"#m3a18acd5bf\" x=\"260.112927\" y=\"156.47514\" style=\"fill: #4c72b0; fill-opacity: 0.8; stroke: #4c72b0; stroke-opacity: 0.8\"/>\n     <use xlink:href=\"#m3a18acd5bf\" x=\"252.103358\" y=\"154.934783\" style=\"fill: #4c72b0; fill-opacity: 0.8; stroke: #4c72b0; stroke-opacity: 0.8\"/>\n     <use xlink:href=\"#m3a18acd5bf\" x=\"212.055511\" y=\"151.424204\" style=\"fill: #4c72b0; fill-opacity: 0.8; stroke: #4c72b0; stroke-opacity: 0.8\"/>\n     <use xlink:href=\"#m3a18acd5bf\" x=\"212.055511\" y=\"148.271846\" style=\"fill: #4c72b0; fill-opacity: 0.8; stroke: #4c72b0; stroke-opacity: 0.8\"/>\n     <use xlink:href=\"#m3a18acd5bf\" x=\"252.103358\" y=\"154.863139\" style=\"fill: #4c72b0; fill-opacity: 0.8; stroke: #4c72b0; stroke-opacity: 0.8\"/>\n     <use xlink:href=\"#m3a18acd5bf\" x=\"252.103358\" y=\"153.931761\" style=\"fill: #4c72b0; fill-opacity: 0.8; stroke: #4c72b0; stroke-opacity: 0.8\"/>\n     <use xlink:href=\"#m3a18acd5bf\" x=\"244.093788\" y=\"151.424204\" style=\"fill: #4c72b0; fill-opacity: 0.8; stroke: #4c72b0; stroke-opacity: 0.8\"/>\n     <use xlink:href=\"#m3a18acd5bf\" x=\"332.199051\" y=\"151.818248\" style=\"fill: #4c72b0; fill-opacity: 0.8; stroke: #4c72b0; stroke-opacity: 0.8\"/>\n     <use xlink:href=\"#m3a18acd5bf\" x=\"332.199051\" y=\"151.99736\" style=\"fill: #4c72b0; fill-opacity: 0.8; stroke: #4c72b0; stroke-opacity: 0.8\"/>\n     <use xlink:href=\"#m3a18acd5bf\" x=\"228.074649\" y=\"149.776381\" style=\"fill: #4c72b0; fill-opacity: 0.8; stroke: #4c72b0; stroke-opacity: 0.8\"/>\n     <use xlink:href=\"#m3a18acd5bf\" x=\"228.074649\" y=\"146.552379\" style=\"fill: #4c72b0; fill-opacity: 0.8; stroke: #4c72b0; stroke-opacity: 0.8\"/>\n     <use xlink:href=\"#m3a18acd5bf\" x=\"228.074649\" y=\"150.851048\" style=\"fill: #4c72b0; fill-opacity: 0.8; stroke: #4c72b0; stroke-opacity: 0.8\"/>\n     <use xlink:href=\"#m3a18acd5bf\" x=\"228.074649\" y=\"150.206247\" style=\"fill: #4c72b0; fill-opacity: 0.8; stroke: #4c72b0; stroke-opacity: 0.8\"/>\n     <use xlink:href=\"#m3a18acd5bf\" x=\"188.026802\" y=\"146.40909\" style=\"fill: #4c72b0; fill-opacity: 0.8; stroke: #4c72b0; stroke-opacity: 0.8\"/>\n     <use xlink:href=\"#m3a18acd5bf\" x=\"188.026802\" y=\"145.549356\" style=\"fill: #4c72b0; fill-opacity: 0.8; stroke: #4c72b0; stroke-opacity: 0.8\"/>\n     <use xlink:href=\"#m3a18acd5bf\" x=\"196.036372\" y=\"149.450398\" style=\"fill: #4c72b0; fill-opacity: 0.8; stroke: #4c72b0; stroke-opacity: 0.8\"/>\n     <use xlink:href=\"#m3a18acd5bf\" x=\"196.036372\" y=\"145.187552\" style=\"fill: #4c72b0; fill-opacity: 0.8; stroke: #4c72b0; stroke-opacity: 0.8\"/>\n     <use xlink:href=\"#m3a18acd5bf\" x=\"196.036372\" y=\"143.933773\" style=\"fill: #4c72b0; fill-opacity: 0.8; stroke: #4c72b0; stroke-opacity: 0.8\"/>\n     <use xlink:href=\"#m3a18acd5bf\" x=\"196.036372\" y=\"139.599282\" style=\"fill: #4c72b0; fill-opacity: 0.8; stroke: #4c72b0; stroke-opacity: 0.8\"/>\n     <use xlink:href=\"#m3a18acd5bf\" x=\"196.036372\" y=\"138.345504\" style=\"fill: #4c72b0; fill-opacity: 0.8; stroke: #4c72b0; stroke-opacity: 0.8\"/>\n     <use xlink:href=\"#m3a18acd5bf\" x=\"196.036372\" y=\"116.422292\" style=\"fill: #4c72b0; fill-opacity: 0.8; stroke: #4c72b0; stroke-opacity: 0.8\"/>\n     <use xlink:href=\"#m3a18acd5bf\" x=\"228.074649\" y=\"147.662868\" style=\"fill: #4c72b0; fill-opacity: 0.8; stroke: #4c72b0; stroke-opacity: 0.8\"/>\n     <use xlink:href=\"#m3a18acd5bf\" x=\"220.06508\" y=\"141.393976\" style=\"fill: #4c72b0; fill-opacity: 0.8; stroke: #4c72b0; stroke-opacity: 0.8\"/>\n     <use xlink:href=\"#m3a18acd5bf\" x=\"212.055511\" y=\"143.937355\" style=\"fill: #4c72b0; fill-opacity: 0.8; stroke: #4c72b0; stroke-opacity: 0.8\"/>\n     <use xlink:href=\"#m3a18acd5bf\" x=\"212.055511\" y=\"140.677531\" style=\"fill: #4c72b0; fill-opacity: 0.8; stroke: #4c72b0; stroke-opacity: 0.8\"/>\n     <use xlink:href=\"#m3a18acd5bf\" x=\"212.055511\" y=\"139.423753\" style=\"fill: #4c72b0; fill-opacity: 0.8; stroke: #4c72b0; stroke-opacity: 0.8\"/>\n     <use xlink:href=\"#m3a18acd5bf\" x=\"147.978956\" y=\"120.402143\" style=\"fill: #4c72b0; fill-opacity: 0.8; stroke: #4c72b0; stroke-opacity: 0.8\"/>\n     <use xlink:href=\"#m3a18acd5bf\" x=\"147.978956\" y=\"122.408189\" style=\"fill: #4c72b0; fill-opacity: 0.8; stroke: #4c72b0; stroke-opacity: 0.8\"/>\n     <use xlink:href=\"#m3a18acd5bf\" x=\"147.978956\" y=\"123.511514\" style=\"fill: #4c72b0; fill-opacity: 0.8; stroke: #4c72b0; stroke-opacity: 0.8\"/>\n     <use xlink:href=\"#m3a18acd5bf\" x=\"147.978956\" y=\"123.29658\" style=\"fill: #4c72b0; fill-opacity: 0.8; stroke: #4c72b0; stroke-opacity: 0.8\"/>\n     <use xlink:href=\"#m3a18acd5bf\" x=\"324.189482\" y=\"151.864817\" style=\"fill: #4c72b0; fill-opacity: 0.8; stroke: #4c72b0; stroke-opacity: 0.8\"/>\n     <use xlink:href=\"#m3a18acd5bf\" x=\"228.074649\" y=\"151.148372\" style=\"fill: #4c72b0; fill-opacity: 0.8; stroke: #4c72b0; stroke-opacity: 0.8\"/>\n     <use xlink:href=\"#m3a18acd5bf\" x=\"324.189482\" y=\"151.076728\" style=\"fill: #4c72b0; fill-opacity: 0.8; stroke: #4c72b0; stroke-opacity: 0.8\"/>\n     <use xlink:href=\"#m3a18acd5bf\" x=\"228.074649\" y=\"150.360283\" style=\"fill: #4c72b0; fill-opacity: 0.8; stroke: #4c72b0; stroke-opacity: 0.8\"/>\n     <use xlink:href=\"#m3a18acd5bf\" x=\"228.074649\" y=\"149.285616\" style=\"fill: #4c72b0; fill-opacity: 0.8; stroke: #4c72b0; stroke-opacity: 0.8\"/>\n     <use xlink:href=\"#m3a18acd5bf\" x=\"292.151204\" y=\"145.703392\" style=\"fill: #4c72b0; fill-opacity: 0.8; stroke: #4c72b0; stroke-opacity: 0.8\"/>\n     <use xlink:href=\"#m3a18acd5bf\" x=\"212.055511\" y=\"143.91228\" style=\"fill: #4c72b0; fill-opacity: 0.8; stroke: #4c72b0; stroke-opacity: 0.8\"/>\n     <use xlink:href=\"#m3a18acd5bf\" x=\"188.026802\" y=\"138.180721\" style=\"fill: #4c72b0; fill-opacity: 0.8; stroke: #4c72b0; stroke-opacity: 0.8\"/>\n     <use xlink:href=\"#m3a18acd5bf\" x=\"188.026802\" y=\"143.966013\" style=\"fill: #4c72b0; fill-opacity: 0.8; stroke: #4c72b0; stroke-opacity: 0.8\"/>\n     <use xlink:href=\"#m3a18acd5bf\" x=\"147.978956\" y=\"132.09094\" style=\"fill: #4c72b0; fill-opacity: 0.8; stroke: #4c72b0; stroke-opacity: 0.8\"/>\n     <use xlink:href=\"#m3a18acd5bf\" x=\"260.112927\" y=\"130.120717\" style=\"fill: #4c72b0; fill-opacity: 0.8; stroke: #4c72b0; stroke-opacity: 0.8\"/>\n     <use xlink:href=\"#m3a18acd5bf\" x=\"204.045941\" y=\"135.691076\" style=\"fill: #4c72b0; fill-opacity: 0.8; stroke: #4c72b0; stroke-opacity: 0.8\"/>\n     <use xlink:href=\"#m3a18acd5bf\" x=\"180.017233\" y=\"133.36263\" style=\"fill: #4c72b0; fill-opacity: 0.8; stroke: #4c72b0; stroke-opacity: 0.8\"/>\n     <use xlink:href=\"#m3a18acd5bf\" x=\"180.017233\" y=\"131.661073\" style=\"fill: #4c72b0; fill-opacity: 0.8; stroke: #4c72b0; stroke-opacity: 0.8\"/>\n     <use xlink:href=\"#m3a18acd5bf\" x=\"180.017233\" y=\"122.454758\" style=\"fill: #4c72b0; fill-opacity: 0.8; stroke: #4c72b0; stroke-opacity: 0.8\"/>\n     <use xlink:href=\"#m3a18acd5bf\" x=\"180.017233\" y=\"120.556179\" style=\"fill: #4c72b0; fill-opacity: 0.8; stroke: #4c72b0; stroke-opacity: 0.8\"/>\n     <use xlink:href=\"#m3a18acd5bf\" x=\"131.959817\" y=\"113.732042\" style=\"fill: #4c72b0; fill-opacity: 0.8; stroke: #4c72b0; stroke-opacity: 0.8\"/>\n     <use xlink:href=\"#m3a18acd5bf\" x=\"131.959817\" y=\"111.833463\" style=\"fill: #4c72b0; fill-opacity: 0.8; stroke: #4c72b0; stroke-opacity: 0.8\"/>\n     <use xlink:href=\"#m3a18acd5bf\" x=\"180.017233\" y=\"119.374045\" style=\"fill: #4c72b0; fill-opacity: 0.8; stroke: #4c72b0; stroke-opacity: 0.8\"/>\n     <use xlink:href=\"#m3a18acd5bf\" x=\"155.988525\" y=\"111.493152\" style=\"fill: #4c72b0; fill-opacity: 0.8; stroke: #4c72b0; stroke-opacity: 0.8\"/>\n     <use xlink:href=\"#m3a18acd5bf\" x=\"139.969386\" y=\"102.752525\" style=\"fill: #4c72b0; fill-opacity: 0.8; stroke: #4c72b0; stroke-opacity: 0.8\"/>\n     <use xlink:href=\"#m3a18acd5bf\" x=\"172.007664\" y=\"99.224034\" style=\"fill: #4c72b0; fill-opacity: 0.8; stroke: #4c72b0; stroke-opacity: 0.8\"/>\n     <use xlink:href=\"#m3a18acd5bf\" x=\"155.988525\" y=\"98.66879\" style=\"fill: #4c72b0; fill-opacity: 0.8; stroke: #4c72b0; stroke-opacity: 0.8\"/>\n    </g>\n   </g>\n   <g id=\"PolyCollection_1\">\n    <defs>\n     <path id=\"mc5b0f65dc9\" d=\"M 83.902401 -188.381273 \nL 83.902401 -166.87907 \nL 86.976781 -165.962239 \nL 90.051161 -165.076111 \nL 93.125541 -164.194085 \nL 96.199921 -163.312059 \nL 99.274301 -162.430033 \nL 102.348682 -161.548007 \nL 105.423062 -160.659582 \nL 108.497442 -159.754838 \nL 111.571822 -158.851304 \nL 114.646202 -157.94777 \nL 117.720582 -157.07386 \nL 120.794963 -156.155069 \nL 123.869343 -155.233046 \nL 126.943723 -154.326999 \nL 130.018103 -153.421609 \nL 133.092483 -152.516862 \nL 136.166863 -151.612116 \nL 139.241244 -150.707369 \nL 142.315624 -149.801948 \nL 145.390004 -148.889967 \nL 148.464384 -147.978442 \nL 151.538764 -147.044819 \nL 154.613144 -146.15346 \nL 157.687525 -145.241338 \nL 160.761905 -144.286512 \nL 163.836285 -143.349093 \nL 166.910665 -142.361193 \nL 169.985045 -141.399149 \nL 173.059425 -140.435818 \nL 176.133806 -139.476009 \nL 179.208186 -138.499338 \nL 182.282566 -137.550654 \nL 185.356946 -136.562794 \nL 188.431326 -135.582551 \nL 191.505706 -134.574914 \nL 194.580087 -133.613061 \nL 197.654467 -132.592698 \nL 200.728847 -131.601613 \nL 203.803227 -130.545672 \nL 206.877607 -129.540504 \nL 209.951987 -128.490519 \nL 213.026368 -127.374726 \nL 216.100748 -126.219479 \nL 219.175128 -125.095985 \nL 222.249508 -123.929937 \nL 225.323888 -122.730473 \nL 228.398268 -121.37774 \nL 231.472649 -120.120383 \nL 234.547029 -118.888342 \nL 237.621409 -117.6353 \nL 240.695789 -116.329457 \nL 243.770169 -115.031407 \nL 246.844549 -113.730664 \nL 249.918929 -112.433116 \nL 252.99331 -111.162993 \nL 256.06769 -109.854038 \nL 259.14207 -108.509715 \nL 262.21645 -107.236082 \nL 265.29083 -105.936984 \nL 268.36521 -104.638506 \nL 271.439591 -103.339658 \nL 274.513971 -102.004642 \nL 277.588351 -100.668414 \nL 280.662731 -99.351466 \nL 283.737111 -98.055336 \nL 286.811491 -96.660058 \nL 289.885872 -95.32169 \nL 292.960252 -93.982473 \nL 296.034632 -92.624295 \nL 299.109012 -91.266118 \nL 302.183392 -89.900103 \nL 305.257772 -88.519099 \nL 308.332153 -87.170394 \nL 311.406533 -85.841269 \nL 314.480913 -84.483544 \nL 317.555293 -83.125819 \nL 320.629673 -81.770095 \nL 323.704053 -80.40761 \nL 326.778434 -79.057378 \nL 329.852814 -77.681239 \nL 332.927194 -76.291588 \nL 336.001574 -74.901936 \nL 339.075954 -73.512285 \nL 342.150334 -72.122633 \nL 345.224715 -70.733817 \nL 348.299095 -69.384296 \nL 351.373475 -68.050504 \nL 354.447855 -66.717241 \nL 357.522235 -65.379995 \nL 360.596615 -64.010144 \nL 363.670996 -62.640292 \nL 366.745376 -61.270441 \nL 369.819756 -59.900589 \nL 372.894136 -58.536736 \nL 375.968516 -57.159204 \nL 379.042896 -55.788155 \nL 382.117277 -54.417821 \nL 385.191657 -53.082699 \nL 388.266037 -51.75848 \nL 388.266037 -77.642795 \nL 388.266037 -77.642795 \nL 385.191657 -78.555014 \nL 382.117277 -79.491439 \nL 379.042896 -80.391374 \nL 375.968516 -81.283745 \nL 372.894136 -82.193802 \nL 369.819756 -83.090205 \nL 366.745376 -84.015459 \nL 363.670996 -84.950491 \nL 360.596615 -85.886174 \nL 357.522235 -86.821858 \nL 354.447855 -87.757542 \nL 351.373475 -88.693225 \nL 348.299095 -89.628909 \nL 345.224715 -90.564593 \nL 342.150334 -91.500276 \nL 339.075954 -92.43596 \nL 336.001574 -93.371644 \nL 332.927194 -94.307327 \nL 329.852814 -95.243011 \nL 326.778434 -96.183264 \nL 323.704053 -97.119952 \nL 320.629673 -98.055507 \nL 317.555293 -98.991061 \nL 314.480913 -99.926615 \nL 311.406533 -100.883674 \nL 308.332153 -101.797724 \nL 305.257772 -102.733278 \nL 302.183392 -103.668483 \nL 299.109012 -104.584277 \nL 296.034632 -105.435376 \nL 292.960252 -106.369726 \nL 289.885872 -107.387365 \nL 286.811491 -108.319427 \nL 283.737111 -109.229437 \nL 280.662731 -110.178659 \nL 277.588351 -111.102444 \nL 274.513971 -112.01863 \nL 271.439591 -112.948906 \nL 268.36521 -113.853476 \nL 265.29083 -114.783596 \nL 262.21645 -115.715969 \nL 259.14207 -116.697925 \nL 256.06769 -117.697026 \nL 252.99331 -118.669938 \nL 249.918929 -119.663935 \nL 246.844549 -120.688999 \nL 243.770169 -121.68217 \nL 240.695789 -122.641166 \nL 237.621409 -123.651355 \nL 234.547029 -124.768844 \nL 231.472649 -125.818064 \nL 228.398268 -126.971838 \nL 225.323888 -128.019242 \nL 222.249508 -129.185939 \nL 219.175128 -130.286621 \nL 216.100748 -131.490457 \nL 213.026368 -132.566092 \nL 209.951987 -133.736508 \nL 206.877607 -134.98739 \nL 203.803227 -136.202565 \nL 200.728847 -137.385932 \nL 197.654467 -138.618271 \nL 194.580087 -139.859915 \nL 191.505706 -141.145773 \nL 188.431326 -142.418094 \nL 185.356946 -143.666274 \nL 182.282566 -144.86952 \nL 179.208186 -146.246516 \nL 176.133806 -147.57366 \nL 173.059425 -148.885009 \nL 169.985045 -150.296658 \nL 166.910665 -151.667567 \nL 163.836285 -152.929918 \nL 160.761905 -154.192271 \nL 157.687525 -155.576743 \nL 154.613144 -156.961215 \nL 151.538764 -158.283302 \nL 148.464384 -159.578337 \nL 145.390004 -160.906361 \nL 142.315624 -162.257542 \nL 139.241244 -163.710839 \nL 136.166863 -165.143757 \nL 133.092483 -166.534217 \nL 130.018103 -167.943943 \nL 126.943723 -169.363906 \nL 123.869343 -170.770272 \nL 120.794963 -172.094995 \nL 117.720582 -173.43978 \nL 114.646202 -174.866873 \nL 111.571822 -176.201979 \nL 108.497442 -177.529896 \nL 105.423062 -178.857812 \nL 102.348682 -180.189766 \nL 99.274301 -181.583991 \nL 96.199921 -182.97737 \nL 93.125541 -184.370749 \nL 90.051161 -185.738711 \nL 86.976781 -187.060865 \nL 83.902401 -188.381273 \nz\n\" style=\"stroke: #ffffff; stroke-opacity: 0.15\"/>\n    </defs>\n    <g clip-path=\"url(#p764292ef81)\">\n     <use xlink:href=\"#mc5b0f65dc9\" x=\"0\" y=\"266.514844\" style=\"fill: #4c72b0; fill-opacity: 0.15; stroke: #ffffff; stroke-opacity: 0.15\"/>\n    </g>\n   </g>\n   <g id=\"line2d_16\">\n    <path d=\"M 83.902401 89.173848 \nL 86.976781 90.303727 \nL 90.051161 91.433606 \nL 93.125541 92.563486 \nL 96.199921 93.693365 \nL 99.274301 94.823244 \nL 102.348682 95.953124 \nL 105.423062 97.083003 \nL 108.497442 98.212883 \nL 111.571822 99.342762 \nL 114.646202 100.472641 \nL 117.720582 101.602521 \nL 120.794963 102.7324 \nL 123.869343 103.862279 \nL 126.943723 104.992159 \nL 130.018103 106.122038 \nL 133.092483 107.251917 \nL 136.166863 108.381797 \nL 139.241244 109.511676 \nL 142.315624 110.641556 \nL 145.390004 111.771435 \nL 148.464384 112.901314 \nL 151.538764 114.031194 \nL 154.613144 115.161073 \nL 157.687525 116.290952 \nL 160.761905 117.420832 \nL 163.836285 118.550711 \nL 166.910665 119.680591 \nL 169.985045 120.81047 \nL 173.059425 121.940349 \nL 176.133806 123.070229 \nL 179.208186 124.200108 \nL 182.282566 125.329987 \nL 185.356946 126.459867 \nL 188.431326 127.589746 \nL 191.505706 128.719625 \nL 194.580087 129.849505 \nL 197.654467 130.979384 \nL 200.728847 132.109264 \nL 203.803227 133.239143 \nL 206.877607 134.369022 \nL 209.951987 135.498902 \nL 213.026368 136.628781 \nL 216.100748 137.75866 \nL 219.175128 138.88854 \nL 222.249508 140.018419 \nL 225.323888 141.148299 \nL 228.398268 142.278178 \nL 231.472649 143.408057 \nL 234.547029 144.537937 \nL 237.621409 145.667816 \nL 240.695789 146.797695 \nL 243.770169 147.927575 \nL 246.844549 149.057454 \nL 249.918929 150.187333 \nL 252.99331 151.317213 \nL 256.06769 152.447092 \nL 259.14207 153.576972 \nL 262.21645 154.706851 \nL 265.29083 155.83673 \nL 268.36521 156.96661 \nL 271.439591 158.096489 \nL 274.513971 159.226368 \nL 277.588351 160.356248 \nL 280.662731 161.486127 \nL 283.737111 162.616007 \nL 286.811491 163.745886 \nL 289.885872 164.875765 \nL 292.960252 166.005645 \nL 296.034632 167.135524 \nL 299.109012 168.265403 \nL 302.183392 169.395283 \nL 305.257772 170.525162 \nL 308.332153 171.655041 \nL 311.406533 172.784921 \nL 314.480913 173.9148 \nL 317.555293 175.04468 \nL 320.629673 176.174559 \nL 323.704053 177.304438 \nL 326.778434 178.434318 \nL 329.852814 179.564197 \nL 332.927194 180.694076 \nL 336.001574 181.823956 \nL 339.075954 182.953835 \nL 342.150334 184.083715 \nL 345.224715 185.213594 \nL 348.299095 186.343473 \nL 351.373475 187.473353 \nL 354.447855 188.603232 \nL 357.522235 189.733111 \nL 360.596615 190.862991 \nL 363.670996 191.99287 \nL 366.745376 193.122749 \nL 369.819756 194.252629 \nL 372.894136 195.382508 \nL 375.968516 196.512388 \nL 379.042896 197.642267 \nL 382.117277 198.772146 \nL 385.191657 199.902026 \nL 388.266037 201.031905 \n\" clip-path=\"url(#p764292ef81)\" style=\"fill: none; stroke: #4c72b0; stroke-width: 2.25; stroke-linecap: round\"/>\n   </g>\n   <g id=\"patch_3\">\n    <path d=\"M 68.684219 224.64 \nL 68.684219 7.2 \n\" style=\"fill: none; stroke: #cccccc; stroke-width: 1.25; stroke-linejoin: miter; stroke-linecap: square\"/>\n   </g>\n   <g id=\"patch_4\">\n    <path d=\"M 403.484219 224.64 \nL 403.484219 7.2 \n\" style=\"fill: none; stroke: #cccccc; stroke-width: 1.25; stroke-linejoin: miter; stroke-linecap: square\"/>\n   </g>\n   <g id=\"patch_5\">\n    <path d=\"M 68.684219 224.64 \nL 403.484219 224.64 \n\" style=\"fill: none; stroke: #cccccc; stroke-width: 1.25; stroke-linejoin: miter; stroke-linecap: square\"/>\n   </g>\n   <g id=\"patch_6\">\n    <path d=\"M 68.684219 7.2 \nL 403.484219 7.2 \n\" style=\"fill: none; stroke: #cccccc; stroke-width: 1.25; stroke-linejoin: miter; stroke-linecap: square\"/>\n   </g>\n  </g>\n </g>\n <defs>\n  <clipPath id=\"p764292ef81\">\n   <rect x=\"68.684219\" y=\"7.2\" width=\"334.8\" height=\"217.44\"/>\n  </clipPath>\n </defs>\n</svg>\n",
      "text/plain": [
       "<Figure size 432x288 with 1 Axes>"
      ]
     },
     "metadata": {},
     "output_type": "display_data"
    }
   ],
   "source": [
    "sns.set(style=\"whitegrid\")\n",
    "sns.regplot(x=\"highway-mpg\", y=\"price\", data=df)"
   ]
  },
  {
   "cell_type": "markdown",
   "metadata": {
    "application/vnd.databricks.v1+cell": {
     "inputWidgets": {},
     "nuid": "e82229f9-2dc3-4bb2-b495-b159f8a33366",
     "showTitle": false,
     "title": ""
    }
   },
   "source": [
    "<h5>Variables categóricas</h5>\n",
    "\n",
    "<p>Estas son variables que describen una ‘característica’ de una unidad de datos y se seleccionan de un pequeño grupo de categorías. Las variables categóricas pueden tener el tipo <b>objeto</b> o <b>int64</b>. Una buena forma de visualizar variables categóricas es mediante el uso de diagramas de columnas.</p>"
   ]
  },
  {
   "cell_type": "markdown",
   "metadata": {
    "application/vnd.databricks.v1+cell": {
     "inputWidgets": {},
     "nuid": "d4c71989-3a1c-4a2d-b09b-b0749e051b5a",
     "showTitle": false,
     "title": ""
    }
   },
   "source": [
    "Mostremos un solo atributo, y contemos cuantos ejemplos hay de cada categoría. En este caso el atributo <b>make</b> que es la marca del carro:"
   ]
  },
  {
   "cell_type": "code",
   "execution_count": 27,
   "metadata": {
    "application/vnd.databricks.v1+cell": {
     "inputWidgets": {},
     "nuid": "86c7046c-c800-41ed-9331-d658a1dcf176",
     "showTitle": false,
     "title": ""
    }
   },
   "outputs": [
    {
     "data": {
      "text/plain": [
       "<seaborn.axisgrid.FacetGrid at 0x25c9e229f90>"
      ]
     },
     "execution_count": 27,
     "metadata": {},
     "output_type": "execute_result"
    },
    {
     "data": {
      "image/png": "[encoded data removed]",
      "image/svg+xml": "<?xml version=\"1.0\" encoding=\"utf-8\" standalone=\"no\"?>\n<!DOCTYPE svg PUBLIC \"-//W3C//DTD SVG 1.1//EN\"\n  \"http://www.w3.org/Graphics/SVG/1.1/DTD/svg11.dtd\">\n<svg xmlns:xlink=\"http://www.w3.org/1999/xlink\" width=\"1285.438437pt\" height=\"421.59625pt\" viewBox=\"0 0 1285.438437 421.59625\" xmlns=\"http://www.w3.org/2000/svg\" version=\"1.1\">\n <metadata>\n  <rdf:RDF xmlns:dc=\"http://purl.org/dc/elements/1.1/\" xmlns:cc=\"http://creativecommons.org/ns#\" xmlns:rdf=\"http://www.w3.org/1999/02/22-rdf-syntax-ns#\">\n   <cc:Work>\n    <dc:type rdf:resource=\"http://purl.org/dc/dcmitype/StillImage\"/>\n    <dc:date>2022-02-07T12:59:09.426953</dc:date>\n    <dc:format>image/svg+xml</dc:format>\n    <dc:creator>\n     <cc:Agent>\n      <dc:title>Matplotlib v3.5.0, https://matplotlib.org/</dc:title>\n     </cc:Agent>\n    </dc:creator>\n   </cc:Work>\n  </rdf:RDF>\n </metadata>\n <defs>\n  <style type=\"text/css\">*{stroke-linejoin: round; stroke-linecap: butt}</style>\n </defs>\n <g id=\"figure_1\">\n  <g id=\"patch_1\">\n   <path d=\"M 0 421.59625 \nL 1285.438437 421.59625 \nL 1285.438437 0 \nL 0 0 \nz\n\" style=\"fill: #ffffff\"/>\n  </g>\n  <g id=\"axes_1\">\n   <g id=\"patch_2\">\n    <path d=\"M 43.908438 379.733125 \nL 1278.238437 379.733125 \nL 1278.238437 7.2 \nL 43.908438 7.2 \nz\n\" style=\"fill: #ffffff\"/>\n   </g>\n   <g id=\"matplotlib.axis_1\">\n    <g id=\"xtick_1\">\n     <g id=\"text_1\">\n      <!-- alfa-romero -->\n      <g style=\"fill: #262626\" transform=\"translate(43.843501 397.106719)scale(0.11 -0.11)\">\n       <defs>\n        <path id=\"ArialMT-61\" d=\"M 2588 409 \nQ 2275 144 1986 34 \nQ 1697 -75 1366 -75 \nQ 819 -75 525 192 \nQ 231 459 231 875 \nQ 231 1119 342 1320 \nQ 453 1522 633 1644 \nQ 813 1766 1038 1828 \nQ 1203 1872 1538 1913 \nQ 2219 1994 2541 2106 \nQ 2544 2222 2544 2253 \nQ 2544 2597 2384 2738 \nQ 2169 2928 1744 2928 \nQ 1347 2928 1158 2789 \nQ 969 2650 878 2297 \nL 328 2372 \nQ 403 2725 575 2942 \nQ 747 3159 1072 3276 \nQ 1397 3394 1825 3394 \nQ 2250 3394 2515 3294 \nQ 2781 3194 2906 3042 \nQ 3031 2891 3081 2659 \nQ 3109 2516 3109 2141 \nL 3109 1391 \nQ 3109 606 3145 398 \nQ 3181 191 3288 0 \nL 2700 0 \nQ 2613 175 2588 409 \nz\nM 2541 1666 \nQ 2234 1541 1622 1453 \nQ 1275 1403 1131 1340 \nQ 988 1278 909 1158 \nQ 831 1038 831 891 \nQ 831 666 1001 516 \nQ 1172 366 1500 366 \nQ 1825 366 2078 508 \nQ 2331 650 2450 897 \nQ 2541 1088 2541 1459 \nL 2541 1666 \nz\n\" transform=\"scale(0.015625)\"/>\n        <path id=\"ArialMT-6c\" d=\"M 409 0 \nL 409 4581 \nL 972 4581 \nL 972 0 \nL 409 0 \nz\n\" transform=\"scale(0.015625)\"/>\n        <path id=\"ArialMT-66\" d=\"M 556 0 \nL 556 2881 \nL 59 2881 \nL 59 3319 \nL 556 3319 \nL 556 3672 \nQ 556 4006 616 4169 \nQ 697 4388 901 4523 \nQ 1106 4659 1475 4659 \nQ 1713 4659 2000 4603 \nL 1916 4113 \nQ 1741 4144 1584 4144 \nQ 1328 4144 1222 4034 \nQ 1116 3925 1116 3625 \nL 1116 3319 \nL 1763 3319 \nL 1763 2881 \nL 1116 2881 \nL 1116 0 \nL 556 0 \nz\n\" transform=\"scale(0.015625)\"/>\n        <path id=\"ArialMT-2d\" d=\"M 203 1375 \nL 203 1941 \nL 1931 1941 \nL 1931 1375 \nL 203 1375 \nz\n\" transform=\"scale(0.015625)\"/>\n        <path id=\"ArialMT-72\" d=\"M 416 0 \nL 416 3319 \nL 922 3319 \nL 922 2816 \nQ 1116 3169 1280 3281 \nQ 1444 3394 1641 3394 \nQ 1925 3394 2219 3213 \nL 2025 2691 \nQ 1819 2813 1613 2813 \nQ 1428 2813 1281 2702 \nQ 1134 2591 1072 2394 \nQ 978 2094 978 1738 \nL 978 0 \nL 416 0 \nz\n\" transform=\"scale(0.015625)\"/>\n        <path id=\"ArialMT-6f\" d=\"M 213 1659 \nQ 213 2581 725 3025 \nQ 1153 3394 1769 3394 \nQ 2453 3394 2887 2945 \nQ 3322 2497 3322 1706 \nQ 3322 1066 3130 698 \nQ 2938 331 2570 128 \nQ 2203 -75 1769 -75 \nQ 1072 -75 642 372 \nQ 213 819 213 1659 \nz\nM 791 1659 \nQ 791 1022 1069 705 \nQ 1347 388 1769 388 \nQ 2188 388 2466 706 \nQ 2744 1025 2744 1678 \nQ 2744 2294 2464 2611 \nQ 2184 2928 1769 2928 \nQ 1347 2928 1069 2612 \nQ 791 2297 791 1659 \nz\n\" transform=\"scale(0.015625)\"/>\n        <path id=\"ArialMT-6d\" d=\"M 422 0 \nL 422 3319 \nL 925 3319 \nL 925 2853 \nQ 1081 3097 1340 3245 \nQ 1600 3394 1931 3394 \nQ 2300 3394 2536 3241 \nQ 2772 3088 2869 2813 \nQ 3263 3394 3894 3394 \nQ 4388 3394 4653 3120 \nQ 4919 2847 4919 2278 \nL 4919 0 \nL 4359 0 \nL 4359 2091 \nQ 4359 2428 4304 2576 \nQ 4250 2725 4106 2815 \nQ 3963 2906 3769 2906 \nQ 3419 2906 3187 2673 \nQ 2956 2441 2956 1928 \nL 2956 0 \nL 2394 0 \nL 2394 2156 \nQ 2394 2531 2256 2718 \nQ 2119 2906 1806 2906 \nQ 1569 2906 1367 2781 \nQ 1166 2656 1075 2415 \nQ 984 2175 984 1722 \nL 984 0 \nL 422 0 \nz\n\" transform=\"scale(0.015625)\"/>\n        <path id=\"ArialMT-65\" d=\"M 2694 1069 \nL 3275 997 \nQ 3138 488 2766 206 \nQ 2394 -75 1816 -75 \nQ 1088 -75 661 373 \nQ 234 822 234 1631 \nQ 234 2469 665 2931 \nQ 1097 3394 1784 3394 \nQ 2450 3394 2872 2941 \nQ 3294 2488 3294 1666 \nQ 3294 1616 3291 1516 \nL 816 1516 \nQ 847 969 1125 678 \nQ 1403 388 1819 388 \nQ 2128 388 2347 550 \nQ 2566 713 2694 1069 \nz\nM 847 1978 \nL 2700 1978 \nQ 2663 2397 2488 2606 \nQ 2219 2931 1791 2931 \nQ 1403 2931 1139 2672 \nQ 875 2413 847 1978 \nz\n\" transform=\"scale(0.015625)\"/>\n       </defs>\n       <use xlink:href=\"#ArialMT-61\"/>\n       <use xlink:href=\"#ArialMT-6c\" x=\"55.615234\"/>\n       <use xlink:href=\"#ArialMT-66\" x=\"77.832031\"/>\n       <use xlink:href=\"#ArialMT-61\" x=\"105.615234\"/>\n       <use xlink:href=\"#ArialMT-2d\" x=\"161.230469\"/>\n       <use xlink:href=\"#ArialMT-72\" x=\"194.53125\"/>\n       <use xlink:href=\"#ArialMT-6f\" x=\"227.832031\"/>\n       <use xlink:href=\"#ArialMT-6d\" x=\"283.447266\"/>\n       <use xlink:href=\"#ArialMT-65\" x=\"366.748047\"/>\n       <use xlink:href=\"#ArialMT-72\" x=\"422.363281\"/>\n       <use xlink:href=\"#ArialMT-6f\" x=\"455.664062\"/>\n      </g>\n     </g>\n    </g>\n    <g id=\"xtick_2\">\n     <g id=\"text_2\">\n      <!-- audi -->\n      <g style=\"fill: #262626\" transform=\"translate(117.669723 397.106719)scale(0.11 -0.11)\">\n       <defs>\n        <path id=\"ArialMT-75\" d=\"M 2597 0 \nL 2597 488 \nQ 2209 -75 1544 -75 \nQ 1250 -75 995 37 \nQ 741 150 617 320 \nQ 494 491 444 738 \nQ 409 903 409 1263 \nL 409 3319 \nL 972 3319 \nL 972 1478 \nQ 972 1038 1006 884 \nQ 1059 663 1231 536 \nQ 1403 409 1656 409 \nQ 1909 409 2131 539 \nQ 2353 669 2445 892 \nQ 2538 1116 2538 1541 \nL 2538 3319 \nL 3100 3319 \nL 3100 0 \nL 2597 0 \nz\n\" transform=\"scale(0.015625)\"/>\n        <path id=\"ArialMT-64\" d=\"M 2575 0 \nL 2575 419 \nQ 2259 -75 1647 -75 \nQ 1250 -75 917 144 \nQ 584 363 401 755 \nQ 219 1147 219 1656 \nQ 219 2153 384 2558 \nQ 550 2963 881 3178 \nQ 1213 3394 1622 3394 \nQ 1922 3394 2156 3267 \nQ 2391 3141 2538 2938 \nL 2538 4581 \nL 3097 4581 \nL 3097 0 \nL 2575 0 \nz\nM 797 1656 \nQ 797 1019 1065 703 \nQ 1334 388 1700 388 \nQ 2069 388 2326 689 \nQ 2584 991 2584 1609 \nQ 2584 2291 2321 2609 \nQ 2059 2928 1675 2928 \nQ 1300 2928 1048 2622 \nQ 797 2316 797 1656 \nz\n\" transform=\"scale(0.015625)\"/>\n        <path id=\"ArialMT-69\" d=\"M 425 3934 \nL 425 4581 \nL 988 4581 \nL 988 3934 \nL 425 3934 \nz\nM 425 0 \nL 425 3319 \nL 988 3319 \nL 988 0 \nL 425 0 \nz\n\" transform=\"scale(0.015625)\"/>\n       </defs>\n       <use xlink:href=\"#ArialMT-61\"/>\n       <use xlink:href=\"#ArialMT-75\" x=\"55.615234\"/>\n       <use xlink:href=\"#ArialMT-64\" x=\"111.230469\"/>\n       <use xlink:href=\"#ArialMT-69\" x=\"166.845703\"/>\n      </g>\n     </g>\n    </g>\n    <g id=\"xtick_3\">\n     <g id=\"text_3\">\n      <!-- bmw -->\n      <g style=\"fill: #262626\" transform=\"translate(172.561335 397.106719)scale(0.11 -0.11)\">\n       <defs>\n        <path id=\"ArialMT-62\" d=\"M 941 0 \nL 419 0 \nL 419 4581 \nL 981 4581 \nL 981 2947 \nQ 1338 3394 1891 3394 \nQ 2197 3394 2470 3270 \nQ 2744 3147 2920 2923 \nQ 3097 2700 3197 2384 \nQ 3297 2069 3297 1709 \nQ 3297 856 2875 390 \nQ 2453 -75 1863 -75 \nQ 1275 -75 941 416 \nL 941 0 \nz\nM 934 1684 \nQ 934 1088 1097 822 \nQ 1363 388 1816 388 \nQ 2184 388 2453 708 \nQ 2722 1028 2722 1663 \nQ 2722 2313 2464 2622 \nQ 2206 2931 1841 2931 \nQ 1472 2931 1203 2611 \nQ 934 2291 934 1684 \nz\n\" transform=\"scale(0.015625)\"/>\n        <path id=\"ArialMT-77\" d=\"M 1034 0 \nL 19 3319 \nL 600 3319 \nL 1128 1403 \nL 1325 691 \nQ 1338 744 1497 1375 \nL 2025 3319 \nL 2603 3319 \nL 3100 1394 \nL 3266 759 \nL 3456 1400 \nL 4025 3319 \nL 4572 3319 \nL 3534 0 \nL 2950 0 \nL 2422 1988 \nL 2294 2553 \nL 1622 0 \nL 1034 0 \nz\n\" transform=\"scale(0.015625)\"/>\n       </defs>\n       <use xlink:href=\"#ArialMT-62\"/>\n       <use xlink:href=\"#ArialMT-6d\" x=\"55.615234\"/>\n       <use xlink:href=\"#ArialMT-77\" x=\"138.916016\"/>\n      </g>\n     </g>\n    </g>\n    <g id=\"xtick_4\">\n     <g id=\"text_4\">\n      <!-- chevrolet -->\n      <g style=\"fill: #262626\" transform=\"translate(217.963729 397.106719)scale(0.11 -0.11)\">\n       <defs>\n        <path id=\"ArialMT-63\" d=\"M 2588 1216 \nL 3141 1144 \nQ 3050 572 2676 248 \nQ 2303 -75 1759 -75 \nQ 1078 -75 664 370 \nQ 250 816 250 1647 \nQ 250 2184 428 2587 \nQ 606 2991 970 3192 \nQ 1334 3394 1763 3394 \nQ 2303 3394 2647 3120 \nQ 2991 2847 3088 2344 \nL 2541 2259 \nQ 2463 2594 2264 2762 \nQ 2066 2931 1784 2931 \nQ 1359 2931 1093 2626 \nQ 828 2322 828 1663 \nQ 828 994 1084 691 \nQ 1341 388 1753 388 \nQ 2084 388 2306 591 \nQ 2528 794 2588 1216 \nz\n\" transform=\"scale(0.015625)\"/>\n        <path id=\"ArialMT-68\" d=\"M 422 0 \nL 422 4581 \nL 984 4581 \nL 984 2938 \nQ 1378 3394 1978 3394 \nQ 2347 3394 2619 3248 \nQ 2891 3103 3008 2847 \nQ 3125 2591 3125 2103 \nL 3125 0 \nL 2563 0 \nL 2563 2103 \nQ 2563 2525 2380 2717 \nQ 2197 2909 1863 2909 \nQ 1613 2909 1392 2779 \nQ 1172 2650 1078 2428 \nQ 984 2206 984 1816 \nL 984 0 \nL 422 0 \nz\n\" transform=\"scale(0.015625)\"/>\n        <path id=\"ArialMT-76\" d=\"M 1344 0 \nL 81 3319 \nL 675 3319 \nL 1388 1331 \nQ 1503 1009 1600 663 \nQ 1675 925 1809 1294 \nL 2547 3319 \nL 3125 3319 \nL 1869 0 \nL 1344 0 \nz\n\" transform=\"scale(0.015625)\"/>\n        <path id=\"ArialMT-74\" d=\"M 1650 503 \nL 1731 6 \nQ 1494 -44 1306 -44 \nQ 1000 -44 831 53 \nQ 663 150 594 308 \nQ 525 466 525 972 \nL 525 2881 \nL 113 2881 \nL 113 3319 \nL 525 3319 \nL 525 4141 \nL 1084 4478 \nL 1084 3319 \nL 1650 3319 \nL 1650 2881 \nL 1084 2881 \nL 1084 941 \nQ 1084 700 1114 631 \nQ 1144 563 1211 522 \nQ 1278 481 1403 481 \nQ 1497 481 1650 503 \nz\n\" transform=\"scale(0.015625)\"/>\n       </defs>\n       <use xlink:href=\"#ArialMT-63\"/>\n       <use xlink:href=\"#ArialMT-68\" x=\"50\"/>\n       <use xlink:href=\"#ArialMT-65\" x=\"105.615234\"/>\n       <use xlink:href=\"#ArialMT-76\" x=\"161.230469\"/>\n       <use xlink:href=\"#ArialMT-72\" x=\"211.230469\"/>\n       <use xlink:href=\"#ArialMT-6f\" x=\"244.53125\"/>\n       <use xlink:href=\"#ArialMT-6c\" x=\"300.146484\"/>\n       <use xlink:href=\"#ArialMT-65\" x=\"322.363281\"/>\n       <use xlink:href=\"#ArialMT-74\" x=\"377.978516\"/>\n      </g>\n     </g>\n    </g>\n    <g id=\"xtick_5\">\n     <g id=\"text_5\">\n      <!-- dodge -->\n      <g style=\"fill: #262626\" transform=\"translate(281.09245 397.106719)scale(0.11 -0.11)\">\n       <defs>\n        <path id=\"ArialMT-67\" d=\"M 319 -275 \nL 866 -356 \nQ 900 -609 1056 -725 \nQ 1266 -881 1628 -881 \nQ 2019 -881 2231 -725 \nQ 2444 -569 2519 -288 \nQ 2563 -116 2559 434 \nQ 2191 0 1641 0 \nQ 956 0 581 494 \nQ 206 988 206 1678 \nQ 206 2153 378 2554 \nQ 550 2956 876 3175 \nQ 1203 3394 1644 3394 \nQ 2231 3394 2613 2919 \nL 2613 3319 \nL 3131 3319 \nL 3131 450 \nQ 3131 -325 2973 -648 \nQ 2816 -972 2473 -1159 \nQ 2131 -1347 1631 -1347 \nQ 1038 -1347 672 -1080 \nQ 306 -813 319 -275 \nz\nM 784 1719 \nQ 784 1066 1043 766 \nQ 1303 466 1694 466 \nQ 2081 466 2343 764 \nQ 2606 1063 2606 1700 \nQ 2606 2309 2336 2618 \nQ 2066 2928 1684 2928 \nQ 1309 2928 1046 2623 \nQ 784 2319 784 1719 \nz\n\" transform=\"scale(0.015625)\"/>\n       </defs>\n       <use xlink:href=\"#ArialMT-64\"/>\n       <use xlink:href=\"#ArialMT-6f\" x=\"55.615234\"/>\n       <use xlink:href=\"#ArialMT-64\" x=\"111.230469\"/>\n       <use xlink:href=\"#ArialMT-67\" x=\"166.845703\"/>\n       <use xlink:href=\"#ArialMT-65\" x=\"222.460938\"/>\n      </g>\n     </g>\n    </g>\n    <g id=\"xtick_6\">\n     <g id=\"text_6\">\n      <!-- honda -->\n      <g style=\"fill: #262626\" transform=\"translate(337.198359 397.106719)scale(0.11 -0.11)\">\n       <defs>\n        <path id=\"ArialMT-6e\" d=\"M 422 0 \nL 422 3319 \nL 928 3319 \nL 928 2847 \nQ 1294 3394 1984 3394 \nQ 2284 3394 2536 3286 \nQ 2788 3178 2913 3003 \nQ 3038 2828 3088 2588 \nQ 3119 2431 3119 2041 \nL 3119 0 \nL 2556 0 \nL 2556 2019 \nQ 2556 2363 2490 2533 \nQ 2425 2703 2258 2804 \nQ 2091 2906 1866 2906 \nQ 1506 2906 1245 2678 \nQ 984 2450 984 1813 \nL 984 0 \nL 422 0 \nz\n\" transform=\"scale(0.015625)\"/>\n       </defs>\n       <use xlink:href=\"#ArialMT-68\"/>\n       <use xlink:href=\"#ArialMT-6f\" x=\"55.615234\"/>\n       <use xlink:href=\"#ArialMT-6e\" x=\"111.230469\"/>\n       <use xlink:href=\"#ArialMT-64\" x=\"166.845703\"/>\n       <use xlink:href=\"#ArialMT-61\" x=\"222.460938\"/>\n      </g>\n     </g>\n    </g>\n    <g id=\"xtick_7\">\n     <g id=\"text_7\">\n      <!-- isuzu -->\n      <g style=\"fill: #262626\" transform=\"translate(395.757784 397.106719)scale(0.11 -0.11)\">\n       <defs>\n        <path id=\"ArialMT-73\" d=\"M 197 991 \nL 753 1078 \nQ 800 744 1014 566 \nQ 1228 388 1613 388 \nQ 2000 388 2187 545 \nQ 2375 703 2375 916 \nQ 2375 1106 2209 1216 \nQ 2094 1291 1634 1406 \nQ 1016 1563 777 1677 \nQ 538 1791 414 1992 \nQ 291 2194 291 2438 \nQ 291 2659 392 2848 \nQ 494 3038 669 3163 \nQ 800 3259 1026 3326 \nQ 1253 3394 1513 3394 \nQ 1903 3394 2198 3281 \nQ 2494 3169 2634 2976 \nQ 2775 2784 2828 2463 \nL 2278 2388 \nQ 2241 2644 2061 2787 \nQ 1881 2931 1553 2931 \nQ 1166 2931 1000 2803 \nQ 834 2675 834 2503 \nQ 834 2394 903 2306 \nQ 972 2216 1119 2156 \nQ 1203 2125 1616 2013 \nQ 2213 1853 2448 1751 \nQ 2684 1650 2818 1456 \nQ 2953 1263 2953 975 \nQ 2953 694 2789 445 \nQ 2625 197 2315 61 \nQ 2006 -75 1616 -75 \nQ 969 -75 630 194 \nQ 291 463 197 991 \nz\n\" transform=\"scale(0.015625)\"/>\n        <path id=\"ArialMT-7a\" d=\"M 125 0 \nL 125 456 \nL 2238 2881 \nQ 1878 2863 1603 2863 \nL 250 2863 \nL 250 3319 \nL 2963 3319 \nL 2963 2947 \nL 1166 841 \nL 819 456 \nQ 1197 484 1528 484 \nL 3063 484 \nL 3063 0 \nL 125 0 \nz\n\" transform=\"scale(0.015625)\"/>\n       </defs>\n       <use xlink:href=\"#ArialMT-69\"/>\n       <use xlink:href=\"#ArialMT-73\" x=\"22.216797\"/>\n       <use xlink:href=\"#ArialMT-75\" x=\"72.216797\"/>\n       <use xlink:href=\"#ArialMT-7a\" x=\"127.832031\"/>\n       <use xlink:href=\"#ArialMT-75\" x=\"177.832031\"/>\n      </g>\n     </g>\n    </g>\n    <g id=\"xtick_8\">\n     <g id=\"text_8\">\n      <!-- jaguar -->\n      <g style=\"fill: #262626\" transform=\"translate(449.415334 397.106719)scale(0.11 -0.11)\">\n       <defs>\n        <path id=\"ArialMT-6a\" d=\"M 419 3928 \nL 419 4581 \nL 981 4581 \nL 981 3928 \nL 419 3928 \nz\nM -294 -1288 \nL -188 -809 \nQ -19 -853 78 -853 \nQ 250 -853 334 -739 \nQ 419 -625 419 -169 \nL 419 3319 \nL 981 3319 \nL 981 -181 \nQ 981 -794 822 -1034 \nQ 619 -1347 147 -1347 \nQ -81 -1347 -294 -1288 \nz\n\" transform=\"scale(0.015625)\"/>\n       </defs>\n       <use xlink:href=\"#ArialMT-6a\"/>\n       <use xlink:href=\"#ArialMT-61\" x=\"22.216797\"/>\n       <use xlink:href=\"#ArialMT-67\" x=\"77.832031\"/>\n       <use xlink:href=\"#ArialMT-75\" x=\"133.447266\"/>\n       <use xlink:href=\"#ArialMT-61\" x=\"189.0625\"/>\n       <use xlink:href=\"#ArialMT-72\" x=\"244.677734\"/>\n      </g>\n     </g>\n    </g>\n    <g id=\"xtick_9\">\n     <g id=\"text_9\">\n      <!-- mazda -->\n      <g style=\"fill: #262626\" transform=\"translate(504.30179 397.106719)scale(0.11 -0.11)\">\n       <use xlink:href=\"#ArialMT-6d\"/>\n       <use xlink:href=\"#ArialMT-61\" x=\"83.300781\"/>\n       <use xlink:href=\"#ArialMT-7a\" x=\"138.916016\"/>\n       <use xlink:href=\"#ArialMT-64\" x=\"188.916016\"/>\n       <use xlink:href=\"#ArialMT-61\" x=\"244.53125\"/>\n      </g>\n     </g>\n    </g>\n    <g id=\"xtick_10\">\n     <g id=\"text_10\">\n      <!-- mercedes-benz -->\n      <g style=\"fill: #262626\" transform=\"translate(539.01098 397.106719)scale(0.11 -0.11)\">\n       <use xlink:href=\"#ArialMT-6d\"/>\n       <use xlink:href=\"#ArialMT-65\" x=\"83.300781\"/>\n       <use xlink:href=\"#ArialMT-72\" x=\"138.916016\"/>\n       <use xlink:href=\"#ArialMT-63\" x=\"172.216797\"/>\n       <use xlink:href=\"#ArialMT-65\" x=\"222.216797\"/>\n       <use xlink:href=\"#ArialMT-64\" x=\"277.832031\"/>\n       <use xlink:href=\"#ArialMT-65\" x=\"333.447266\"/>\n       <use xlink:href=\"#ArialMT-73\" x=\"389.0625\"/>\n       <use xlink:href=\"#ArialMT-2d\" x=\"439.0625\"/>\n       <use xlink:href=\"#ArialMT-62\" x=\"472.363281\"/>\n       <use xlink:href=\"#ArialMT-65\" x=\"527.978516\"/>\n       <use xlink:href=\"#ArialMT-6e\" x=\"583.59375\"/>\n       <use xlink:href=\"#ArialMT-7a\" x=\"639.208984\"/>\n      </g>\n     </g>\n    </g>\n    <g id=\"xtick_11\">\n     <g id=\"text_11\">\n      <!-- mercury -->\n      <g style=\"fill: #262626\" transform=\"translate(613.159467 396.977812)scale(0.11 -0.11)\">\n       <defs>\n        <path id=\"ArialMT-79\" d=\"M 397 -1278 \nL 334 -750 \nQ 519 -800 656 -800 \nQ 844 -800 956 -737 \nQ 1069 -675 1141 -563 \nQ 1194 -478 1313 -144 \nQ 1328 -97 1363 -6 \nL 103 3319 \nL 709 3319 \nL 1400 1397 \nQ 1534 1031 1641 628 \nQ 1738 1016 1872 1384 \nL 2581 3319 \nL 3144 3319 \nL 1881 -56 \nQ 1678 -603 1566 -809 \nQ 1416 -1088 1222 -1217 \nQ 1028 -1347 759 -1347 \nQ 597 -1347 397 -1278 \nz\n\" transform=\"scale(0.015625)\"/>\n       </defs>\n       <use xlink:href=\"#ArialMT-6d\"/>\n       <use xlink:href=\"#ArialMT-65\" x=\"83.300781\"/>\n       <use xlink:href=\"#ArialMT-72\" x=\"138.916016\"/>\n       <use xlink:href=\"#ArialMT-63\" x=\"172.216797\"/>\n       <use xlink:href=\"#ArialMT-75\" x=\"222.216797\"/>\n       <use xlink:href=\"#ArialMT-72\" x=\"277.832031\"/>\n       <use xlink:href=\"#ArialMT-79\" x=\"311.132812\"/>\n      </g>\n     </g>\n    </g>\n    <g id=\"xtick_12\">\n     <g id=\"text_12\">\n      <!-- mitsubishi -->\n      <g style=\"fill: #262626\" transform=\"translate(664.675455 397.106719)scale(0.11 -0.11)\">\n       <use xlink:href=\"#ArialMT-6d\"/>\n       <use xlink:href=\"#ArialMT-69\" x=\"83.300781\"/>\n       <use xlink:href=\"#ArialMT-74\" x=\"105.517578\"/>\n       <use xlink:href=\"#ArialMT-73\" x=\"133.300781\"/>\n       <use xlink:href=\"#ArialMT-75\" x=\"183.300781\"/>\n       <use xlink:href=\"#ArialMT-62\" x=\"238.916016\"/>\n       <use xlink:href=\"#ArialMT-69\" x=\"294.53125\"/>\n       <use xlink:href=\"#ArialMT-73\" x=\"316.748047\"/>\n       <use xlink:href=\"#ArialMT-68\" x=\"366.748047\"/>\n       <use xlink:href=\"#ArialMT-69\" x=\"422.363281\"/>\n      </g>\n     </g>\n    </g>\n    <g id=\"xtick_13\">\n     <g id=\"text_13\">\n      <!-- nissan -->\n      <g style=\"fill: #262626\" transform=\"translate(729.334723 397.106719)scale(0.11 -0.11)\">\n       <use xlink:href=\"#ArialMT-6e\"/>\n       <use xlink:href=\"#ArialMT-69\" x=\"55.615234\"/>\n       <use xlink:href=\"#ArialMT-73\" x=\"77.832031\"/>\n       <use xlink:href=\"#ArialMT-73\" x=\"127.832031\"/>\n       <use xlink:href=\"#ArialMT-61\" x=\"177.832031\"/>\n       <use xlink:href=\"#ArialMT-6e\" x=\"233.447266\"/>\n      </g>\n     </g>\n    </g>\n    <g id=\"xtick_14\">\n     <g id=\"text_14\">\n      <!-- peugot -->\n      <g style=\"fill: #262626\" transform=\"translate(784.517663 396.977812)scale(0.11 -0.11)\">\n       <defs>\n        <path id=\"ArialMT-70\" d=\"M 422 -1272 \nL 422 3319 \nL 934 3319 \nL 934 2888 \nQ 1116 3141 1344 3267 \nQ 1572 3394 1897 3394 \nQ 2322 3394 2647 3175 \nQ 2972 2956 3137 2557 \nQ 3303 2159 3303 1684 \nQ 3303 1175 3120 767 \nQ 2938 359 2589 142 \nQ 2241 -75 1856 -75 \nQ 1575 -75 1351 44 \nQ 1128 163 984 344 \nL 984 -1272 \nL 422 -1272 \nz\nM 931 1641 \nQ 931 1000 1190 694 \nQ 1450 388 1819 388 \nQ 2194 388 2461 705 \nQ 2728 1022 2728 1688 \nQ 2728 2322 2467 2637 \nQ 2206 2953 1844 2953 \nQ 1484 2953 1207 2617 \nQ 931 2281 931 1641 \nz\n\" transform=\"scale(0.015625)\"/>\n       </defs>\n       <use xlink:href=\"#ArialMT-70\"/>\n       <use xlink:href=\"#ArialMT-65\" x=\"55.615234\"/>\n       <use xlink:href=\"#ArialMT-75\" x=\"111.230469\"/>\n       <use xlink:href=\"#ArialMT-67\" x=\"166.845703\"/>\n       <use xlink:href=\"#ArialMT-6f\" x=\"222.460938\"/>\n       <use xlink:href=\"#ArialMT-74\" x=\"278.076172\"/>\n      </g>\n     </g>\n    </g>\n    <g id=\"xtick_15\">\n     <g id=\"text_15\">\n      <!-- plymouth -->\n      <g style=\"fill: #262626\" transform=\"translate(835.128729 397.106719)scale(0.11 -0.11)\">\n       <use xlink:href=\"#ArialMT-70\"/>\n       <use xlink:href=\"#ArialMT-6c\" x=\"55.615234\"/>\n       <use xlink:href=\"#ArialMT-79\" x=\"77.832031\"/>\n       <use xlink:href=\"#ArialMT-6d\" x=\"127.832031\"/>\n       <use xlink:href=\"#ArialMT-6f\" x=\"211.132812\"/>\n       <use xlink:href=\"#ArialMT-75\" x=\"266.748047\"/>\n       <use xlink:href=\"#ArialMT-74\" x=\"322.363281\"/>\n       <use xlink:href=\"#ArialMT-68\" x=\"350.146484\"/>\n      </g>\n     </g>\n    </g>\n    <g id=\"xtick_16\">\n     <g id=\"text_16\">\n      <!-- porsche -->\n      <g style=\"fill: #262626\" transform=\"translate(893.984638 397.106719)scale(0.11 -0.11)\">\n       <use xlink:href=\"#ArialMT-70\"/>\n       <use xlink:href=\"#ArialMT-6f\" x=\"55.615234\"/>\n       <use xlink:href=\"#ArialMT-72\" x=\"111.230469\"/>\n       <use xlink:href=\"#ArialMT-73\" x=\"144.53125\"/>\n       <use xlink:href=\"#ArialMT-63\" x=\"194.53125\"/>\n       <use xlink:href=\"#ArialMT-68\" x=\"244.53125\"/>\n       <use xlink:href=\"#ArialMT-65\" x=\"300.146484\"/>\n      </g>\n     </g>\n    </g>\n    <g id=\"xtick_17\">\n     <g id=\"text_17\">\n      <!-- renault -->\n      <g style=\"fill: #262626\" transform=\"translate(952.840547 397.106719)scale(0.11 -0.11)\">\n       <use xlink:href=\"#ArialMT-72\"/>\n       <use xlink:href=\"#ArialMT-65\" x=\"33.300781\"/>\n       <use xlink:href=\"#ArialMT-6e\" x=\"88.916016\"/>\n       <use xlink:href=\"#ArialMT-61\" x=\"144.53125\"/>\n       <use xlink:href=\"#ArialMT-75\" x=\"200.146484\"/>\n       <use xlink:href=\"#ArialMT-6c\" x=\"255.761719\"/>\n       <use xlink:href=\"#ArialMT-74\" x=\"277.978516\"/>\n      </g>\n     </g>\n    </g>\n    <g id=\"xtick_18\">\n     <g id=\"text_18\">\n      <!-- saab -->\n      <g style=\"fill: #262626\" transform=\"translate(1013.8363 397.106719)scale(0.11 -0.11)\">\n       <use xlink:href=\"#ArialMT-73\"/>\n       <use xlink:href=\"#ArialMT-61\" x=\"50\"/>\n       <use xlink:href=\"#ArialMT-61\" x=\"105.615234\"/>\n       <use xlink:href=\"#ArialMT-62\" x=\"161.230469\"/>\n      </g>\n     </g>\n    </g>\n    <g id=\"xtick_19\">\n     <g id=\"text_19\">\n      <!-- subaru -->\n      <g style=\"fill: #262626\" transform=\"translate(1065.052365 397.106719)scale(0.11 -0.11)\">\n       <use xlink:href=\"#ArialMT-73\"/>\n       <use xlink:href=\"#ArialMT-75\" x=\"50\"/>\n       <use xlink:href=\"#ArialMT-62\" x=\"105.615234\"/>\n       <use xlink:href=\"#ArialMT-61\" x=\"161.230469\"/>\n       <use xlink:href=\"#ArialMT-72\" x=\"216.845703\"/>\n       <use xlink:href=\"#ArialMT-75\" x=\"250.146484\"/>\n      </g>\n     </g>\n    </g>\n    <g id=\"xtick_20\">\n     <g id=\"text_20\">\n      <!-- toyota -->\n      <g style=\"fill: #262626\" transform=\"translate(1122.99218 396.977812)scale(0.11 -0.11)\">\n       <use xlink:href=\"#ArialMT-74\"/>\n       <use xlink:href=\"#ArialMT-6f\" x=\"27.783203\"/>\n       <use xlink:href=\"#ArialMT-79\" x=\"83.398438\"/>\n       <use xlink:href=\"#ArialMT-6f\" x=\"133.398438\"/>\n       <use xlink:href=\"#ArialMT-74\" x=\"189.013672\"/>\n       <use xlink:href=\"#ArialMT-61\" x=\"216.796875\"/>\n      </g>\n     </g>\n    </g>\n    <g id=\"xtick_21\">\n     <g id=\"text_21\">\n      <!-- volkswagen -->\n      <g style=\"fill: #262626\" transform=\"translate(1165.342933 397.106719)scale(0.11 -0.11)\">\n       <defs>\n        <path id=\"ArialMT-6b\" d=\"M 425 0 \nL 425 4581 \nL 988 4581 \nL 988 1969 \nL 2319 3319 \nL 3047 3319 \nL 1778 2088 \nL 3175 0 \nL 2481 0 \nL 1384 1697 \nL 988 1316 \nL 988 0 \nL 425 0 \nz\n\" transform=\"scale(0.015625)\"/>\n       </defs>\n       <use xlink:href=\"#ArialMT-76\"/>\n       <use xlink:href=\"#ArialMT-6f\" x=\"50\"/>\n       <use xlink:href=\"#ArialMT-6c\" x=\"105.615234\"/>\n       <use xlink:href=\"#ArialMT-6b\" x=\"127.832031\"/>\n       <use xlink:href=\"#ArialMT-73\" x=\"177.832031\"/>\n       <use xlink:href=\"#ArialMT-77\" x=\"227.832031\"/>\n       <use xlink:href=\"#ArialMT-61\" x=\"300.048828\"/>\n       <use xlink:href=\"#ArialMT-67\" x=\"355.664062\"/>\n       <use xlink:href=\"#ArialMT-65\" x=\"411.279297\"/>\n       <use xlink:href=\"#ArialMT-6e\" x=\"466.894531\"/>\n      </g>\n     </g>\n    </g>\n    <g id=\"xtick_22\">\n     <g id=\"text_22\">\n      <!-- volvo -->\n      <g style=\"fill: #262626\" transform=\"translate(1237.34642 397.106719)scale(0.11 -0.11)\">\n       <use xlink:href=\"#ArialMT-76\"/>\n       <use xlink:href=\"#ArialMT-6f\" x=\"50\"/>\n       <use xlink:href=\"#ArialMT-6c\" x=\"105.615234\"/>\n       <use xlink:href=\"#ArialMT-76\" x=\"127.832031\"/>\n       <use xlink:href=\"#ArialMT-6f\" x=\"177.832031\"/>\n      </g>\n     </g>\n    </g>\n    <g id=\"text_23\">\n     <!-- make -->\n     <g style=\"fill: #262626\" transform=\"translate(646.4025 412.01125)scale(0.12 -0.12)\">\n      <use xlink:href=\"#ArialMT-6d\"/>\n      <use xlink:href=\"#ArialMT-61\" x=\"83.300781\"/>\n      <use xlink:href=\"#ArialMT-6b\" x=\"138.916016\"/>\n      <use xlink:href=\"#ArialMT-65\" x=\"188.916016\"/>\n     </g>\n    </g>\n   </g>\n   <g id=\"matplotlib.axis_2\">\n    <g id=\"ytick_1\">\n     <g id=\"line2d_1\">\n      <path d=\"M 43.908438 379.733125 \nL 1278.238437 379.733125 \n\" clip-path=\"url(#p5078190d15)\" style=\"fill: none; stroke: #cccccc; stroke-linecap: round\"/>\n     </g>\n     <g id=\"text_24\">\n      <!-- 0 -->\n      <g style=\"fill: #262626\" transform=\"translate(28.291406 383.669922)scale(0.11 -0.11)\">\n       <defs>\n        <path id=\"ArialMT-30\" d=\"M 266 2259 \nQ 266 3072 433 3567 \nQ 600 4063 929 4331 \nQ 1259 4600 1759 4600 \nQ 2128 4600 2406 4451 \nQ 2684 4303 2865 4023 \nQ 3047 3744 3150 3342 \nQ 3253 2941 3253 2259 \nQ 3253 1453 3087 958 \nQ 2922 463 2592 192 \nQ 2263 -78 1759 -78 \nQ 1097 -78 719 397 \nQ 266 969 266 2259 \nz\nM 844 2259 \nQ 844 1131 1108 757 \nQ 1372 384 1759 384 \nQ 2147 384 2411 759 \nQ 2675 1134 2675 2259 \nQ 2675 3391 2411 3762 \nQ 2147 4134 1753 4134 \nQ 1366 4134 1134 3806 \nQ 844 3388 844 2259 \nz\n\" transform=\"scale(0.015625)\"/>\n       </defs>\n       <use xlink:href=\"#ArialMT-30\"/>\n      </g>\n     </g>\n    </g>\n    <g id=\"ytick_2\">\n     <g id=\"line2d_2\">\n      <path d=\"M 43.908438 324.296648 \nL 1278.238437 324.296648 \n\" clip-path=\"url(#p5078190d15)\" style=\"fill: none; stroke: #cccccc; stroke-linecap: round\"/>\n     </g>\n     <g id=\"text_25\">\n      <!-- 5 -->\n      <g style=\"fill: #262626\" transform=\"translate(28.291406 328.233445)scale(0.11 -0.11)\">\n       <defs>\n        <path id=\"ArialMT-35\" d=\"M 266 1200 \nL 856 1250 \nQ 922 819 1161 601 \nQ 1400 384 1738 384 \nQ 2144 384 2425 690 \nQ 2706 997 2706 1503 \nQ 2706 1984 2436 2262 \nQ 2166 2541 1728 2541 \nQ 1456 2541 1237 2417 \nQ 1019 2294 894 2097 \nL 366 2166 \nL 809 4519 \nL 3088 4519 \nL 3088 3981 \nL 1259 3981 \nL 1013 2750 \nQ 1425 3038 1878 3038 \nQ 2478 3038 2890 2622 \nQ 3303 2206 3303 1553 \nQ 3303 931 2941 478 \nQ 2500 -78 1738 -78 \nQ 1113 -78 717 272 \nQ 322 622 266 1200 \nz\n\" transform=\"scale(0.015625)\"/>\n       </defs>\n       <use xlink:href=\"#ArialMT-35\"/>\n      </g>\n     </g>\n    </g>\n    <g id=\"ytick_3\">\n     <g id=\"line2d_3\">\n      <path d=\"M 43.908438 268.860171 \nL 1278.238437 268.860171 \n\" clip-path=\"url(#p5078190d15)\" style=\"fill: none; stroke: #cccccc; stroke-linecap: round\"/>\n     </g>\n     <g id=\"text_26\">\n      <!-- 10 -->\n      <g style=\"fill: #262626\" transform=\"translate(22.174375 272.796968)scale(0.11 -0.11)\">\n       <defs>\n        <path id=\"ArialMT-31\" d=\"M 2384 0 \nL 1822 0 \nL 1822 3584 \nQ 1619 3391 1289 3197 \nQ 959 3003 697 2906 \nL 697 3450 \nQ 1169 3672 1522 3987 \nQ 1875 4303 2022 4600 \nL 2384 4600 \nL 2384 0 \nz\n\" transform=\"scale(0.015625)\"/>\n       </defs>\n       <use xlink:href=\"#ArialMT-31\"/>\n       <use xlink:href=\"#ArialMT-30\" x=\"55.615234\"/>\n      </g>\n     </g>\n    </g>\n    <g id=\"ytick_4\">\n     <g id=\"line2d_4\">\n      <path d=\"M 43.908438 213.423694 \nL 1278.238437 213.423694 \n\" clip-path=\"url(#p5078190d15)\" style=\"fill: none; stroke: #cccccc; stroke-linecap: round\"/>\n     </g>\n     <g id=\"text_27\">\n      <!-- 15 -->\n      <g style=\"fill: #262626\" transform=\"translate(22.174375 217.360491)scale(0.11 -0.11)\">\n       <use xlink:href=\"#ArialMT-31\"/>\n       <use xlink:href=\"#ArialMT-35\" x=\"55.615234\"/>\n      </g>\n     </g>\n    </g>\n    <g id=\"ytick_5\">\n     <g id=\"line2d_5\">\n      <path d=\"M 43.908438 157.987217 \nL 1278.238437 157.987217 \n\" clip-path=\"url(#p5078190d15)\" style=\"fill: none; stroke: #cccccc; stroke-linecap: round\"/>\n     </g>\n     <g id=\"text_28\">\n      <!-- 20 -->\n      <g style=\"fill: #262626\" transform=\"translate(22.174375 161.924014)scale(0.11 -0.11)\">\n       <defs>\n        <path id=\"ArialMT-32\" d=\"M 3222 541 \nL 3222 0 \nL 194 0 \nQ 188 203 259 391 \nQ 375 700 629 1000 \nQ 884 1300 1366 1694 \nQ 2113 2306 2375 2664 \nQ 2638 3022 2638 3341 \nQ 2638 3675 2398 3904 \nQ 2159 4134 1775 4134 \nQ 1369 4134 1125 3890 \nQ 881 3647 878 3216 \nL 300 3275 \nQ 359 3922 746 4261 \nQ 1134 4600 1788 4600 \nQ 2447 4600 2831 4234 \nQ 3216 3869 3216 3328 \nQ 3216 3053 3103 2787 \nQ 2991 2522 2730 2228 \nQ 2469 1934 1863 1422 \nQ 1356 997 1212 845 \nQ 1069 694 975 541 \nL 3222 541 \nz\n\" transform=\"scale(0.015625)\"/>\n       </defs>\n       <use xlink:href=\"#ArialMT-32\"/>\n       <use xlink:href=\"#ArialMT-30\" x=\"55.615234\"/>\n      </g>\n     </g>\n    </g>\n    <g id=\"ytick_6\">\n     <g id=\"line2d_6\">\n      <path d=\"M 43.908438 102.55074 \nL 1278.238437 102.55074 \n\" clip-path=\"url(#p5078190d15)\" style=\"fill: none; stroke: #cccccc; stroke-linecap: round\"/>\n     </g>\n     <g id=\"text_29\">\n      <!-- 25 -->\n      <g style=\"fill: #262626\" transform=\"translate(22.174375 106.487537)scale(0.11 -0.11)\">\n       <use xlink:href=\"#ArialMT-32\"/>\n       <use xlink:href=\"#ArialMT-35\" x=\"55.615234\"/>\n      </g>\n     </g>\n    </g>\n    <g id=\"ytick_7\">\n     <g id=\"line2d_7\">\n      <path d=\"M 43.908438 47.114263 \nL 1278.238437 47.114263 \n\" clip-path=\"url(#p5078190d15)\" style=\"fill: none; stroke: #cccccc; stroke-linecap: round\"/>\n     </g>\n     <g id=\"text_30\">\n      <!-- 30 -->\n      <g style=\"fill: #262626\" transform=\"translate(22.174375 51.05106)scale(0.11 -0.11)\">\n       <defs>\n        <path id=\"ArialMT-33\" d=\"M 269 1209 \nL 831 1284 \nQ 928 806 1161 595 \nQ 1394 384 1728 384 \nQ 2125 384 2398 659 \nQ 2672 934 2672 1341 \nQ 2672 1728 2419 1979 \nQ 2166 2231 1775 2231 \nQ 1616 2231 1378 2169 \nL 1441 2663 \nQ 1497 2656 1531 2656 \nQ 1891 2656 2178 2843 \nQ 2466 3031 2466 3422 \nQ 2466 3731 2256 3934 \nQ 2047 4138 1716 4138 \nQ 1388 4138 1169 3931 \nQ 950 3725 888 3313 \nL 325 3413 \nQ 428 3978 793 4289 \nQ 1159 4600 1703 4600 \nQ 2078 4600 2393 4439 \nQ 2709 4278 2876 4000 \nQ 3044 3722 3044 3409 \nQ 3044 3113 2884 2869 \nQ 2725 2625 2413 2481 \nQ 2819 2388 3044 2092 \nQ 3269 1797 3269 1353 \nQ 3269 753 2831 336 \nQ 2394 -81 1725 -81 \nQ 1122 -81 723 278 \nQ 325 638 269 1209 \nz\n\" transform=\"scale(0.015625)\"/>\n       </defs>\n       <use xlink:href=\"#ArialMT-33\"/>\n       <use xlink:href=\"#ArialMT-30\" x=\"55.615234\"/>\n      </g>\n     </g>\n    </g>\n    <g id=\"text_31\">\n     <!-- count -->\n     <g style=\"fill: #262626\" transform=\"translate(15.789375 208.143125)rotate(-90)scale(0.12 -0.12)\">\n      <use xlink:href=\"#ArialMT-63\"/>\n      <use xlink:href=\"#ArialMT-6f\" x=\"50\"/>\n      <use xlink:href=\"#ArialMT-75\" x=\"105.615234\"/>\n      <use xlink:href=\"#ArialMT-6e\" x=\"161.230469\"/>\n      <use xlink:href=\"#ArialMT-74\" x=\"216.845703\"/>\n     </g>\n    </g>\n   </g>\n   <g id=\"patch_3\">\n    <path d=\"M 49.519028 379.733125 \nL 94.403756 379.733125 \nL 94.403756 346.471239 \nL 49.519028 346.471239 \nz\n\" clip-path=\"url(#p5078190d15)\" style=\"fill: #e1d6c7; stroke: #ffffff; stroke-linejoin: miter\"/>\n   </g>\n   <g id=\"patch_4\">\n    <path d=\"M 105.624937 379.733125 \nL 150.509665 379.733125 \nL 150.509665 302.122057 \nL 105.624937 302.122057 \nz\n\" clip-path=\"url(#p5078190d15)\" style=\"fill: #dccdbd; stroke: #ffffff; stroke-linejoin: miter\"/>\n   </g>\n   <g id=\"patch_5\">\n    <path d=\"M 161.730847 379.733125 \nL 206.615574 379.733125 \nL 206.615574 291.034762 \nL 161.730847 291.034762 \nz\n\" clip-path=\"url(#p5078190d15)\" style=\"fill: #d7c3b3; stroke: #ffffff; stroke-linejoin: miter\"/>\n   </g>\n   <g id=\"patch_6\">\n    <path d=\"M 217.836756 379.733125 \nL 262.721483 379.733125 \nL 262.721483 346.471239 \nL 217.836756 346.471239 \nz\n\" clip-path=\"url(#p5078190d15)\" style=\"fill: #d2baab; stroke: #ffffff; stroke-linejoin: miter\"/>\n   </g>\n   <g id=\"patch_7\">\n    <path d=\"M 273.942665 379.733125 \nL 318.827392 379.733125 \nL 318.827392 279.947467 \nL 273.942665 279.947467 \nz\n\" clip-path=\"url(#p5078190d15)\" style=\"fill: #cdb0a2; stroke: #ffffff; stroke-linejoin: miter\"/>\n   </g>\n   <g id=\"patch_8\">\n    <path d=\"M 330.048574 379.733125 \nL 374.933301 379.733125 \nL 374.933301 235.598285 \nL 330.048574 235.598285 \nz\n\" clip-path=\"url(#p5078190d15)\" style=\"fill: #c7a69a; stroke: #ffffff; stroke-linejoin: miter\"/>\n   </g>\n   <g id=\"patch_9\">\n    <path d=\"M 386.154483 379.733125 \nL 431.03921 379.733125 \nL 431.03921 335.383943 \nL 386.154483 335.383943 \nz\n\" clip-path=\"url(#p5078190d15)\" style=\"fill: #c39d94; stroke: #ffffff; stroke-linejoin: miter\"/>\n   </g>\n   <g id=\"patch_10\">\n    <path d=\"M 442.260392 379.733125 \nL 487.145119 379.733125 \nL 487.145119 346.471239 \nL 442.260392 346.471239 \nz\n\" clip-path=\"url(#p5078190d15)\" style=\"fill: #bd938e; stroke: #ffffff; stroke-linejoin: miter\"/>\n   </g>\n   <g id=\"patch_11\">\n    <path d=\"M 498.366301 379.733125 \nL 543.251028 379.733125 \nL 543.251028 191.249103 \nL 498.366301 191.249103 \nz\n\" clip-path=\"url(#p5078190d15)\" style=\"fill: #b78b89; stroke: #ffffff; stroke-linejoin: miter\"/>\n   </g>\n   <g id=\"patch_12\">\n    <path d=\"M 554.47221 379.733125 \nL 599.356937 379.733125 \nL 599.356937 291.034762 \nL 554.47221 291.034762 \nz\n\" clip-path=\"url(#p5078190d15)\" style=\"fill: #b08183; stroke: #ffffff; stroke-linejoin: miter\"/>\n   </g>\n   <g id=\"patch_13\">\n    <path d=\"M 610.578119 379.733125 \nL 655.462847 379.733125 \nL 655.462847 368.64583 \nL 610.578119 368.64583 \nz\n\" clip-path=\"url(#p5078190d15)\" style=\"fill: #a9787e; stroke: #ffffff; stroke-linejoin: miter\"/>\n   </g>\n   <g id=\"patch_14\">\n    <path d=\"M 666.684028 379.733125 \nL 711.568756 379.733125 \nL 711.568756 235.598285 \nL 666.684028 235.598285 \nz\n\" clip-path=\"url(#p5078190d15)\" style=\"fill: #a06e78; stroke: #ffffff; stroke-linejoin: miter\"/>\n   </g>\n   <g id=\"patch_15\">\n    <path d=\"M 722.789937 379.733125 \nL 767.674665 379.733125 \nL 767.674665 180.161808 \nL 722.789937 180.161808 \nz\n\" clip-path=\"url(#p5078190d15)\" style=\"fill: #986573; stroke: #ffffff; stroke-linejoin: miter\"/>\n   </g>\n   <g id=\"patch_16\">\n    <path d=\"M 778.895847 379.733125 \nL 823.780574 379.733125 \nL 823.780574 257.772876 \nL 778.895847 257.772876 \nz\n\" clip-path=\"url(#p5078190d15)\" style=\"fill: #8e5c6d; stroke: #ffffff; stroke-linejoin: miter\"/>\n   </g>\n   <g id=\"patch_17\">\n    <path d=\"M 835.001756 379.733125 \nL 879.886483 379.733125 \nL 879.886483 302.122057 \nL 835.001756 302.122057 \nz\n\" clip-path=\"url(#p5078190d15)\" style=\"fill: #845467; stroke: #ffffff; stroke-linejoin: miter\"/>\n   </g>\n   <g id=\"patch_18\">\n    <path d=\"M 891.107665 379.733125 \nL 935.992392 379.733125 \nL 935.992392 324.296648 \nL 891.107665 324.296648 \nz\n\" clip-path=\"url(#p5078190d15)\" style=\"fill: #794b61; stroke: #ffffff; stroke-linejoin: miter\"/>\n   </g>\n   <g id=\"patch_19\">\n    <path d=\"M 947.213574 379.733125 \nL 992.098301 379.733125 \nL 992.098301 357.558534 \nL 947.213574 357.558534 \nz\n\" clip-path=\"url(#p5078190d15)\" style=\"fill: #6f435b; stroke: #ffffff; stroke-linejoin: miter\"/>\n   </g>\n   <g id=\"patch_20\">\n    <path d=\"M 1003.319483 379.733125 \nL 1048.20421 379.733125 \nL 1048.20421 313.209353 \nL 1003.319483 313.209353 \nz\n\" clip-path=\"url(#p5078190d15)\" style=\"fill: #633b54; stroke: #ffffff; stroke-linejoin: miter\"/>\n   </g>\n   <g id=\"patch_21\">\n    <path d=\"M 1059.425392 379.733125 \nL 1104.310119 379.733125 \nL 1104.310119 246.68558 \nL 1059.425392 246.68558 \nz\n\" clip-path=\"url(#p5078190d15)\" style=\"fill: #58344d; stroke: #ffffff; stroke-linejoin: miter\"/>\n   </g>\n   <g id=\"patch_22\">\n    <path d=\"M 1115.531301 379.733125 \nL 1160.416028 379.733125 \nL 1160.416028 24.939673 \nL 1115.531301 24.939673 \nz\n\" clip-path=\"url(#p5078190d15)\" style=\"fill: #4b2c45; stroke: #ffffff; stroke-linejoin: miter\"/>\n   </g>\n   <g id=\"patch_23\">\n    <path d=\"M 1171.63721 379.733125 \nL 1216.521937 379.733125 \nL 1216.521937 246.68558 \nL 1171.63721 246.68558 \nz\n\" clip-path=\"url(#p5078190d15)\" style=\"fill: #3f253b; stroke: #ffffff; stroke-linejoin: miter\"/>\n   </g>\n   <g id=\"patch_24\">\n    <path d=\"M 1227.743119 379.733125 \nL 1272.627847 379.733125 \nL 1272.627847 257.772876 \nL 1227.743119 257.772876 \nz\n\" clip-path=\"url(#p5078190d15)\" style=\"fill: #331e33; stroke: #ffffff; stroke-linejoin: miter\"/>\n   </g>\n   <g id=\"patch_25\">\n    <path d=\"M 43.908438 379.733125 \nL 43.908438 7.2 \n\" style=\"fill: none; stroke: #cccccc; stroke-width: 1.25; stroke-linejoin: miter; stroke-linecap: square\"/>\n   </g>\n   <g id=\"patch_26\">\n    <path d=\"M 43.908438 379.733125 \nL 1278.238437 379.733125 \n\" style=\"fill: none; stroke: #cccccc; stroke-width: 1.25; stroke-linejoin: miter; stroke-linecap: square\"/>\n   </g>\n  </g>\n </g>\n <defs>\n  <clipPath id=\"p5078190d15\">\n   <rect x=\"43.908438\" y=\"7.2\" width=\"1234.33\" height=\"372.533125\"/>\n  </clipPath>\n </defs>\n</svg>\n",
      "text/plain": [
       "<Figure size 1296x432 with 1 Axes>"
      ]
     },
     "metadata": {},
     "output_type": "display_data"
    }
   ],
   "source": [
    "sns.set(style=\"whitegrid\")\n",
    "sns.catplot(x=\"make\", kind=\"count\", palette=\"ch:.25\", data=df, height = 6, aspect = 3)"
   ]
  },
  {
   "cell_type": "code",
   "execution_count": 28,
   "metadata": {
    "application/vnd.databricks.v1+cell": {
     "inputWidgets": {},
     "nuid": "d87f62fd-94ca-4555-a621-a5d0ff22e512",
     "showTitle": false,
     "title": ""
    }
   },
   "outputs": [
    {
     "data": {
      "text/plain": [
       "<seaborn.axisgrid.FacetGrid at 0x25cc187e890>"
      ]
     },
     "execution_count": 28,
     "metadata": {},
     "output_type": "execute_result"
    },
    {
     "data": {
      "image/png": "[encoded data removed]",
      "image/svg+xml": "<?xml version=\"1.0\" encoding=\"utf-8\" standalone=\"no\"?>\n<!DOCTYPE svg PUBLIC \"-//W3C//DTD SVG 1.1//EN\"\n  \"http://www.w3.org/Graphics/SVG/1.1/DTD/svg11.dtd\">\n<svg xmlns:xlink=\"http://www.w3.org/1999/xlink\" width=\"349.414531pt\" height=\"349.561094pt\" viewBox=\"0 0 349.414531 349.561094\" xmlns=\"http://www.w3.org/2000/svg\" version=\"1.1\">\n <metadata>\n  <rdf:RDF xmlns:dc=\"http://purl.org/dc/elements/1.1/\" xmlns:cc=\"http://creativecommons.org/ns#\" xmlns:rdf=\"http://www.w3.org/1999/02/22-rdf-syntax-ns#\">\n   <cc:Work>\n    <dc:type rdf:resource=\"http://purl.org/dc/dcmitype/StillImage\"/>\n    <dc:date>2022-02-07T12:59:10.293232</dc:date>\n    <dc:format>image/svg+xml</dc:format>\n    <dc:creator>\n     <cc:Agent>\n      <dc:title>Matplotlib v3.5.0, https://matplotlib.org/</dc:title>\n     </cc:Agent>\n    </dc:creator>\n   </cc:Work>\n  </rdf:RDF>\n </metadata>\n <defs>\n  <style type=\"text/css\">*{stroke-linejoin: round; stroke-linecap: butt}</style>\n </defs>\n <g id=\"figure_1\">\n  <g id=\"patch_1\">\n   <path d=\"M 0 349.561094 \nL 349.414531 349.561094 \nL 349.414531 0 \nL 0 0 \nz\n\" style=\"fill: #ffffff\"/>\n  </g>\n  <g id=\"axes_1\">\n   <g id=\"patch_2\">\n    <path d=\"M 62.259531 307.68625 \nL 342.214531 307.68625 \nL 342.214531 7.2 \nL 62.259531 7.2 \nz\n\" style=\"fill: #ffffff\"/>\n   </g>\n   <g id=\"matplotlib.axis_1\">\n    <g id=\"xtick_1\">\n     <g id=\"text_1\">\n      <!-- convertible -->\n      <g style=\"fill: #262626\" transform=\"translate(63.659094 325.059844)scale(0.11 -0.11)\">\n       <defs>\n        <path id=\"ArialMT-63\" d=\"M 2588 1216 \nL 3141 1144 \nQ 3050 572 2676 248 \nQ 2303 -75 1759 -75 \nQ 1078 -75 664 370 \nQ 250 816 250 1647 \nQ 250 2184 428 2587 \nQ 606 2991 970 3192 \nQ 1334 3394 1763 3394 \nQ 2303 3394 2647 3120 \nQ 2991 2847 3088 2344 \nL 2541 2259 \nQ 2463 2594 2264 2762 \nQ 2066 2931 1784 2931 \nQ 1359 2931 1093 2626 \nQ 828 2322 828 1663 \nQ 828 994 1084 691 \nQ 1341 388 1753 388 \nQ 2084 388 2306 591 \nQ 2528 794 2588 1216 \nz\n\" transform=\"scale(0.015625)\"/>\n        <path id=\"ArialMT-6f\" d=\"M 213 1659 \nQ 213 2581 725 3025 \nQ 1153 3394 1769 3394 \nQ 2453 3394 2887 2945 \nQ 3322 2497 3322 1706 \nQ 3322 1066 3130 698 \nQ 2938 331 2570 128 \nQ 2203 -75 1769 -75 \nQ 1072 -75 642 372 \nQ 213 819 213 1659 \nz\nM 791 1659 \nQ 791 1022 1069 705 \nQ 1347 388 1769 388 \nQ 2188 388 2466 706 \nQ 2744 1025 2744 1678 \nQ 2744 2294 2464 2611 \nQ 2184 2928 1769 2928 \nQ 1347 2928 1069 2612 \nQ 791 2297 791 1659 \nz\n\" transform=\"scale(0.015625)\"/>\n        <path id=\"ArialMT-6e\" d=\"M 422 0 \nL 422 3319 \nL 928 3319 \nL 928 2847 \nQ 1294 3394 1984 3394 \nQ 2284 3394 2536 3286 \nQ 2788 3178 2913 3003 \nQ 3038 2828 3088 2588 \nQ 3119 2431 3119 2041 \nL 3119 0 \nL 2556 0 \nL 2556 2019 \nQ 2556 2363 2490 2533 \nQ 2425 2703 2258 2804 \nQ 2091 2906 1866 2906 \nQ 1506 2906 1245 2678 \nQ 984 2450 984 1813 \nL 984 0 \nL 422 0 \nz\n\" transform=\"scale(0.015625)\"/>\n        <path id=\"ArialMT-76\" d=\"M 1344 0 \nL 81 3319 \nL 675 3319 \nL 1388 1331 \nQ 1503 1009 1600 663 \nQ 1675 925 1809 1294 \nL 2547 3319 \nL 3125 3319 \nL 1869 0 \nL 1344 0 \nz\n\" transform=\"scale(0.015625)\"/>\n        <path id=\"ArialMT-65\" d=\"M 2694 1069 \nL 3275 997 \nQ 3138 488 2766 206 \nQ 2394 -75 1816 -75 \nQ 1088 -75 661 373 \nQ 234 822 234 1631 \nQ 234 2469 665 2931 \nQ 1097 3394 1784 3394 \nQ 2450 3394 2872 2941 \nQ 3294 2488 3294 1666 \nQ 3294 1616 3291 1516 \nL 816 1516 \nQ 847 969 1125 678 \nQ 1403 388 1819 388 \nQ 2128 388 2347 550 \nQ 2566 713 2694 1069 \nz\nM 847 1978 \nL 2700 1978 \nQ 2663 2397 2488 2606 \nQ 2219 2931 1791 2931 \nQ 1403 2931 1139 2672 \nQ 875 2413 847 1978 \nz\n\" transform=\"scale(0.015625)\"/>\n        <path id=\"ArialMT-72\" d=\"M 416 0 \nL 416 3319 \nL 922 3319 \nL 922 2816 \nQ 1116 3169 1280 3281 \nQ 1444 3394 1641 3394 \nQ 1925 3394 2219 3213 \nL 2025 2691 \nQ 1819 2813 1613 2813 \nQ 1428 2813 1281 2702 \nQ 1134 2591 1072 2394 \nQ 978 2094 978 1738 \nL 978 0 \nL 416 0 \nz\n\" transform=\"scale(0.015625)\"/>\n        <path id=\"ArialMT-74\" d=\"M 1650 503 \nL 1731 6 \nQ 1494 -44 1306 -44 \nQ 1000 -44 831 53 \nQ 663 150 594 308 \nQ 525 466 525 972 \nL 525 2881 \nL 113 2881 \nL 113 3319 \nL 525 3319 \nL 525 4141 \nL 1084 4478 \nL 1084 3319 \nL 1650 3319 \nL 1650 2881 \nL 1084 2881 \nL 1084 941 \nQ 1084 700 1114 631 \nQ 1144 563 1211 522 \nQ 1278 481 1403 481 \nQ 1497 481 1650 503 \nz\n\" transform=\"scale(0.015625)\"/>\n        <path id=\"ArialMT-69\" d=\"M 425 3934 \nL 425 4581 \nL 988 4581 \nL 988 3934 \nL 425 3934 \nz\nM 425 0 \nL 425 3319 \nL 988 3319 \nL 988 0 \nL 425 0 \nz\n\" transform=\"scale(0.015625)\"/>\n        <path id=\"ArialMT-62\" d=\"M 941 0 \nL 419 0 \nL 419 4581 \nL 981 4581 \nL 981 2947 \nQ 1338 3394 1891 3394 \nQ 2197 3394 2470 3270 \nQ 2744 3147 2920 2923 \nQ 3097 2700 3197 2384 \nQ 3297 2069 3297 1709 \nQ 3297 856 2875 390 \nQ 2453 -75 1863 -75 \nQ 1275 -75 941 416 \nL 941 0 \nz\nM 934 1684 \nQ 934 1088 1097 822 \nQ 1363 388 1816 388 \nQ 2184 388 2453 708 \nQ 2722 1028 2722 1663 \nQ 2722 2313 2464 2622 \nQ 2206 2931 1841 2931 \nQ 1472 2931 1203 2611 \nQ 934 2291 934 1684 \nz\n\" transform=\"scale(0.015625)\"/>\n        <path id=\"ArialMT-6c\" d=\"M 409 0 \nL 409 4581 \nL 972 4581 \nL 972 0 \nL 409 0 \nz\n\" transform=\"scale(0.015625)\"/>\n       </defs>\n       <use xlink:href=\"#ArialMT-63\"/>\n       <use xlink:href=\"#ArialMT-6f\" x=\"50\"/>\n       <use xlink:href=\"#ArialMT-6e\" x=\"105.615234\"/>\n       <use xlink:href=\"#ArialMT-76\" x=\"161.230469\"/>\n       <use xlink:href=\"#ArialMT-65\" x=\"211.230469\"/>\n       <use xlink:href=\"#ArialMT-72\" x=\"266.845703\"/>\n       <use xlink:href=\"#ArialMT-74\" x=\"300.146484\"/>\n       <use xlink:href=\"#ArialMT-69\" x=\"327.929688\"/>\n       <use xlink:href=\"#ArialMT-62\" x=\"350.146484\"/>\n       <use xlink:href=\"#ArialMT-6c\" x=\"405.761719\"/>\n       <use xlink:href=\"#ArialMT-65\" x=\"427.978516\"/>\n      </g>\n     </g>\n    </g>\n    <g id=\"xtick_2\">\n     <g id=\"text_2\">\n      <!-- hatchback -->\n      <g style=\"fill: #262626\" transform=\"translate(121.175484 325.059844)scale(0.11 -0.11)\">\n       <defs>\n        <path id=\"ArialMT-68\" d=\"M 422 0 \nL 422 4581 \nL 984 4581 \nL 984 2938 \nQ 1378 3394 1978 3394 \nQ 2347 3394 2619 3248 \nQ 2891 3103 3008 2847 \nQ 3125 2591 3125 2103 \nL 3125 0 \nL 2563 0 \nL 2563 2103 \nQ 2563 2525 2380 2717 \nQ 2197 2909 1863 2909 \nQ 1613 2909 1392 2779 \nQ 1172 2650 1078 2428 \nQ 984 2206 984 1816 \nL 984 0 \nL 422 0 \nz\n\" transform=\"scale(0.015625)\"/>\n        <path id=\"ArialMT-61\" d=\"M 2588 409 \nQ 2275 144 1986 34 \nQ 1697 -75 1366 -75 \nQ 819 -75 525 192 \nQ 231 459 231 875 \nQ 231 1119 342 1320 \nQ 453 1522 633 1644 \nQ 813 1766 1038 1828 \nQ 1203 1872 1538 1913 \nQ 2219 1994 2541 2106 \nQ 2544 2222 2544 2253 \nQ 2544 2597 2384 2738 \nQ 2169 2928 1744 2928 \nQ 1347 2928 1158 2789 \nQ 969 2650 878 2297 \nL 328 2372 \nQ 403 2725 575 2942 \nQ 747 3159 1072 3276 \nQ 1397 3394 1825 3394 \nQ 2250 3394 2515 3294 \nQ 2781 3194 2906 3042 \nQ 3031 2891 3081 2659 \nQ 3109 2516 3109 2141 \nL 3109 1391 \nQ 3109 606 3145 398 \nQ 3181 191 3288 0 \nL 2700 0 \nQ 2613 175 2588 409 \nz\nM 2541 1666 \nQ 2234 1541 1622 1453 \nQ 1275 1403 1131 1340 \nQ 988 1278 909 1158 \nQ 831 1038 831 891 \nQ 831 666 1001 516 \nQ 1172 366 1500 366 \nQ 1825 366 2078 508 \nQ 2331 650 2450 897 \nQ 2541 1088 2541 1459 \nL 2541 1666 \nz\n\" transform=\"scale(0.015625)\"/>\n        <path id=\"ArialMT-6b\" d=\"M 425 0 \nL 425 4581 \nL 988 4581 \nL 988 1969 \nL 2319 3319 \nL 3047 3319 \nL 1778 2088 \nL 3175 0 \nL 2481 0 \nL 1384 1697 \nL 988 1316 \nL 988 0 \nL 425 0 \nz\n\" transform=\"scale(0.015625)\"/>\n       </defs>\n       <use xlink:href=\"#ArialMT-68\"/>\n       <use xlink:href=\"#ArialMT-61\" x=\"55.615234\"/>\n       <use xlink:href=\"#ArialMT-74\" x=\"111.230469\"/>\n       <use xlink:href=\"#ArialMT-63\" x=\"139.013672\"/>\n       <use xlink:href=\"#ArialMT-68\" x=\"189.013672\"/>\n       <use xlink:href=\"#ArialMT-62\" x=\"244.628906\"/>\n       <use xlink:href=\"#ArialMT-61\" x=\"300.244141\"/>\n       <use xlink:href=\"#ArialMT-63\" x=\"355.859375\"/>\n       <use xlink:href=\"#ArialMT-6b\" x=\"405.859375\"/>\n      </g>\n     </g>\n    </g>\n    <g id=\"xtick_3\">\n     <g id=\"text_3\">\n      <!-- sedan -->\n      <g style=\"fill: #262626\" transform=\"translate(187.252969 325.059844)scale(0.11 -0.11)\">\n       <defs>\n        <path id=\"ArialMT-73\" d=\"M 197 991 \nL 753 1078 \nQ 800 744 1014 566 \nQ 1228 388 1613 388 \nQ 2000 388 2187 545 \nQ 2375 703 2375 916 \nQ 2375 1106 2209 1216 \nQ 2094 1291 1634 1406 \nQ 1016 1563 777 1677 \nQ 538 1791 414 1992 \nQ 291 2194 291 2438 \nQ 291 2659 392 2848 \nQ 494 3038 669 3163 \nQ 800 3259 1026 3326 \nQ 1253 3394 1513 3394 \nQ 1903 3394 2198 3281 \nQ 2494 3169 2634 2976 \nQ 2775 2784 2828 2463 \nL 2278 2388 \nQ 2241 2644 2061 2787 \nQ 1881 2931 1553 2931 \nQ 1166 2931 1000 2803 \nQ 834 2675 834 2503 \nQ 834 2394 903 2306 \nQ 972 2216 1119 2156 \nQ 1203 2125 1616 2013 \nQ 2213 1853 2448 1751 \nQ 2684 1650 2818 1456 \nQ 2953 1263 2953 975 \nQ 2953 694 2789 445 \nQ 2625 197 2315 61 \nQ 2006 -75 1616 -75 \nQ 969 -75 630 194 \nQ 291 463 197 991 \nz\n\" transform=\"scale(0.015625)\"/>\n        <path id=\"ArialMT-64\" d=\"M 2575 0 \nL 2575 419 \nQ 2259 -75 1647 -75 \nQ 1250 -75 917 144 \nQ 584 363 401 755 \nQ 219 1147 219 1656 \nQ 219 2153 384 2558 \nQ 550 2963 881 3178 \nQ 1213 3394 1622 3394 \nQ 1922 3394 2156 3267 \nQ 2391 3141 2538 2938 \nL 2538 4581 \nL 3097 4581 \nL 3097 0 \nL 2575 0 \nz\nM 797 1656 \nQ 797 1019 1065 703 \nQ 1334 388 1700 388 \nQ 2069 388 2326 689 \nQ 2584 991 2584 1609 \nQ 2584 2291 2321 2609 \nQ 2059 2928 1675 2928 \nQ 1300 2928 1048 2622 \nQ 797 2316 797 1656 \nz\n\" transform=\"scale(0.015625)\"/>\n       </defs>\n       <use xlink:href=\"#ArialMT-73\"/>\n       <use xlink:href=\"#ArialMT-65\" x=\"50\"/>\n       <use xlink:href=\"#ArialMT-64\" x=\"105.615234\"/>\n       <use xlink:href=\"#ArialMT-61\" x=\"161.230469\"/>\n       <use xlink:href=\"#ArialMT-6e\" x=\"216.845703\"/>\n      </g>\n     </g>\n    </g>\n    <g id=\"xtick_4\">\n     <g id=\"text_4\">\n      <!-- wagon -->\n      <g style=\"fill: #262626\" transform=\"translate(242.021937 324.930937)scale(0.11 -0.11)\">\n       <defs>\n        <path id=\"ArialMT-77\" d=\"M 1034 0 \nL 19 3319 \nL 600 3319 \nL 1128 1403 \nL 1325 691 \nQ 1338 744 1497 1375 \nL 2025 3319 \nL 2603 3319 \nL 3100 1394 \nL 3266 759 \nL 3456 1400 \nL 4025 3319 \nL 4572 3319 \nL 3534 0 \nL 2950 0 \nL 2422 1988 \nL 2294 2553 \nL 1622 0 \nL 1034 0 \nz\n\" transform=\"scale(0.015625)\"/>\n        <path id=\"ArialMT-67\" d=\"M 319 -275 \nL 866 -356 \nQ 900 -609 1056 -725 \nQ 1266 -881 1628 -881 \nQ 2019 -881 2231 -725 \nQ 2444 -569 2519 -288 \nQ 2563 -116 2559 434 \nQ 2191 0 1641 0 \nQ 956 0 581 494 \nQ 206 988 206 1678 \nQ 206 2153 378 2554 \nQ 550 2956 876 3175 \nQ 1203 3394 1644 3394 \nQ 2231 3394 2613 2919 \nL 2613 3319 \nL 3131 3319 \nL 3131 450 \nQ 3131 -325 2973 -648 \nQ 2816 -972 2473 -1159 \nQ 2131 -1347 1631 -1347 \nQ 1038 -1347 672 -1080 \nQ 306 -813 319 -275 \nz\nM 784 1719 \nQ 784 1066 1043 766 \nQ 1303 466 1694 466 \nQ 2081 466 2343 764 \nQ 2606 1063 2606 1700 \nQ 2606 2309 2336 2618 \nQ 2066 2928 1684 2928 \nQ 1309 2928 1046 2623 \nQ 784 2319 784 1719 \nz\n\" transform=\"scale(0.015625)\"/>\n       </defs>\n       <use xlink:href=\"#ArialMT-77\"/>\n       <use xlink:href=\"#ArialMT-61\" x=\"72.216797\"/>\n       <use xlink:href=\"#ArialMT-67\" x=\"127.832031\"/>\n       <use xlink:href=\"#ArialMT-6f\" x=\"183.447266\"/>\n       <use xlink:href=\"#ArialMT-6e\" x=\"239.0625\"/>\n      </g>\n     </g>\n    </g>\n    <g id=\"xtick_5\">\n     <g id=\"text_5\">\n      <!-- hardtop -->\n      <g style=\"fill: #262626\" transform=\"translate(295.567156 325.059844)scale(0.11 -0.11)\">\n       <defs>\n        <path id=\"ArialMT-70\" d=\"M 422 -1272 \nL 422 3319 \nL 934 3319 \nL 934 2888 \nQ 1116 3141 1344 3267 \nQ 1572 3394 1897 3394 \nQ 2322 3394 2647 3175 \nQ 2972 2956 3137 2557 \nQ 3303 2159 3303 1684 \nQ 3303 1175 3120 767 \nQ 2938 359 2589 142 \nQ 2241 -75 1856 -75 \nQ 1575 -75 1351 44 \nQ 1128 163 984 344 \nL 984 -1272 \nL 422 -1272 \nz\nM 931 1641 \nQ 931 1000 1190 694 \nQ 1450 388 1819 388 \nQ 2194 388 2461 705 \nQ 2728 1022 2728 1688 \nQ 2728 2322 2467 2637 \nQ 2206 2953 1844 2953 \nQ 1484 2953 1207 2617 \nQ 931 2281 931 1641 \nz\n\" transform=\"scale(0.015625)\"/>\n       </defs>\n       <use xlink:href=\"#ArialMT-68\"/>\n       <use xlink:href=\"#ArialMT-61\" x=\"55.615234\"/>\n       <use xlink:href=\"#ArialMT-72\" x=\"111.230469\"/>\n       <use xlink:href=\"#ArialMT-64\" x=\"144.53125\"/>\n       <use xlink:href=\"#ArialMT-74\" x=\"200.146484\"/>\n       <use xlink:href=\"#ArialMT-6f\" x=\"227.929688\"/>\n       <use xlink:href=\"#ArialMT-70\" x=\"283.544922\"/>\n      </g>\n     </g>\n    </g>\n    <g id=\"text_6\">\n     <!-- body-style -->\n     <g style=\"fill: #262626\" transform=\"translate(174.892969 339.835469)scale(0.12 -0.12)\">\n      <defs>\n       <path id=\"ArialMT-79\" d=\"M 397 -1278 \nL 334 -750 \nQ 519 -800 656 -800 \nQ 844 -800 956 -737 \nQ 1069 -675 1141 -563 \nQ 1194 -478 1313 -144 \nQ 1328 -97 1363 -6 \nL 103 3319 \nL 709 3319 \nL 1400 1397 \nQ 1534 1031 1641 628 \nQ 1738 1016 1872 1384 \nL 2581 3319 \nL 3144 3319 \nL 1881 -56 \nQ 1678 -603 1566 -809 \nQ 1416 -1088 1222 -1217 \nQ 1028 -1347 759 -1347 \nQ 597 -1347 397 -1278 \nz\n\" transform=\"scale(0.015625)\"/>\n       <path id=\"ArialMT-2d\" d=\"M 203 1375 \nL 203 1941 \nL 1931 1941 \nL 1931 1375 \nL 203 1375 \nz\n\" transform=\"scale(0.015625)\"/>\n      </defs>\n      <use xlink:href=\"#ArialMT-62\"/>\n      <use xlink:href=\"#ArialMT-6f\" x=\"55.615234\"/>\n      <use xlink:href=\"#ArialMT-64\" x=\"111.230469\"/>\n      <use xlink:href=\"#ArialMT-79\" x=\"166.845703\"/>\n      <use xlink:href=\"#ArialMT-2d\" x=\"216.845703\"/>\n      <use xlink:href=\"#ArialMT-73\" x=\"250.146484\"/>\n      <use xlink:href=\"#ArialMT-74\" x=\"300.146484\"/>\n      <use xlink:href=\"#ArialMT-79\" x=\"327.929688\"/>\n      <use xlink:href=\"#ArialMT-6c\" x=\"377.929688\"/>\n      <use xlink:href=\"#ArialMT-65\" x=\"400.146484\"/>\n     </g>\n    </g>\n   </g>\n   <g id=\"matplotlib.axis_2\">\n    <g id=\"ytick_1\">\n     <g id=\"line2d_1\">\n      <path d=\"M 62.259531 307.68625 \nL 342.214531 307.68625 \n\" clip-path=\"url(#pe199bebaab)\" style=\"fill: none; stroke: #cccccc; stroke-linecap: round\"/>\n     </g>\n     <g id=\"text_7\">\n      <!-- 0 -->\n      <g style=\"fill: #262626\" transform=\"translate(46.6425 311.623047)scale(0.11 -0.11)\">\n       <defs>\n        <path id=\"ArialMT-30\" d=\"M 266 2259 \nQ 266 3072 433 3567 \nQ 600 4063 929 4331 \nQ 1259 4600 1759 4600 \nQ 2128 4600 2406 4451 \nQ 2684 4303 2865 4023 \nQ 3047 3744 3150 3342 \nQ 3253 2941 3253 2259 \nQ 3253 1453 3087 958 \nQ 2922 463 2592 192 \nQ 2263 -78 1759 -78 \nQ 1097 -78 719 397 \nQ 266 969 266 2259 \nz\nM 844 2259 \nQ 844 1131 1108 757 \nQ 1372 384 1759 384 \nQ 2147 384 2411 759 \nQ 2675 1134 2675 2259 \nQ 2675 3391 2411 3762 \nQ 2147 4134 1753 4134 \nQ 1366 4134 1134 3806 \nQ 844 3388 844 2259 \nz\n\" transform=\"scale(0.015625)\"/>\n       </defs>\n       <use xlink:href=\"#ArialMT-30\"/>\n      </g>\n     </g>\n    </g>\n    <g id=\"ytick_2\">\n     <g id=\"line2d_2\">\n      <path d=\"M 62.259531 262.949671 \nL 342.214531 262.949671 \n\" clip-path=\"url(#pe199bebaab)\" style=\"fill: none; stroke: #cccccc; stroke-linecap: round\"/>\n     </g>\n     <g id=\"text_8\">\n      <!-- 5000 -->\n      <g style=\"fill: #262626\" transform=\"translate(28.291406 266.886468)scale(0.11 -0.11)\">\n       <defs>\n        <path id=\"ArialMT-35\" d=\"M 266 1200 \nL 856 1250 \nQ 922 819 1161 601 \nQ 1400 384 1738 384 \nQ 2144 384 2425 690 \nQ 2706 997 2706 1503 \nQ 2706 1984 2436 2262 \nQ 2166 2541 1728 2541 \nQ 1456 2541 1237 2417 \nQ 1019 2294 894 2097 \nL 366 2166 \nL 809 4519 \nL 3088 4519 \nL 3088 3981 \nL 1259 3981 \nL 1013 2750 \nQ 1425 3038 1878 3038 \nQ 2478 3038 2890 2622 \nQ 3303 2206 3303 1553 \nQ 3303 931 2941 478 \nQ 2500 -78 1738 -78 \nQ 1113 -78 717 272 \nQ 322 622 266 1200 \nz\n\" transform=\"scale(0.015625)\"/>\n       </defs>\n       <use xlink:href=\"#ArialMT-35\"/>\n       <use xlink:href=\"#ArialMT-30\" x=\"55.615234\"/>\n       <use xlink:href=\"#ArialMT-30\" x=\"111.230469\"/>\n       <use xlink:href=\"#ArialMT-30\" x=\"166.845703\"/>\n      </g>\n     </g>\n    </g>\n    <g id=\"ytick_3\">\n     <g id=\"line2d_3\">\n      <path d=\"M 62.259531 218.213092 \nL 342.214531 218.213092 \n\" clip-path=\"url(#pe199bebaab)\" style=\"fill: none; stroke: #cccccc; stroke-linecap: round\"/>\n     </g>\n     <g id=\"text_9\">\n      <!-- 10000 -->\n      <g style=\"fill: #262626\" transform=\"translate(22.174375 222.149888)scale(0.11 -0.11)\">\n       <defs>\n        <path id=\"ArialMT-31\" d=\"M 2384 0 \nL 1822 0 \nL 1822 3584 \nQ 1619 3391 1289 3197 \nQ 959 3003 697 2906 \nL 697 3450 \nQ 1169 3672 1522 3987 \nQ 1875 4303 2022 4600 \nL 2384 4600 \nL 2384 0 \nz\n\" transform=\"scale(0.015625)\"/>\n       </defs>\n       <use xlink:href=\"#ArialMT-31\"/>\n       <use xlink:href=\"#ArialMT-30\" x=\"55.615234\"/>\n       <use xlink:href=\"#ArialMT-30\" x=\"111.230469\"/>\n       <use xlink:href=\"#ArialMT-30\" x=\"166.845703\"/>\n       <use xlink:href=\"#ArialMT-30\" x=\"222.460938\"/>\n      </g>\n     </g>\n    </g>\n    <g id=\"ytick_4\">\n     <g id=\"line2d_4\">\n      <path d=\"M 62.259531 173.476512 \nL 342.214531 173.476512 \n\" clip-path=\"url(#pe199bebaab)\" style=\"fill: none; stroke: #cccccc; stroke-linecap: round\"/>\n     </g>\n     <g id=\"text_10\">\n      <!-- 15000 -->\n      <g style=\"fill: #262626\" transform=\"translate(22.174375 177.413309)scale(0.11 -0.11)\">\n       <use xlink:href=\"#ArialMT-31\"/>\n       <use xlink:href=\"#ArialMT-35\" x=\"55.615234\"/>\n       <use xlink:href=\"#ArialMT-30\" x=\"111.230469\"/>\n       <use xlink:href=\"#ArialMT-30\" x=\"166.845703\"/>\n       <use xlink:href=\"#ArialMT-30\" x=\"222.460938\"/>\n      </g>\n     </g>\n    </g>\n    <g id=\"ytick_5\">\n     <g id=\"line2d_5\">\n      <path d=\"M 62.259531 128.739933 \nL 342.214531 128.739933 \n\" clip-path=\"url(#pe199bebaab)\" style=\"fill: none; stroke: #cccccc; stroke-linecap: round\"/>\n     </g>\n     <g id=\"text_11\">\n      <!-- 20000 -->\n      <g style=\"fill: #262626\" transform=\"translate(22.174375 132.67673)scale(0.11 -0.11)\">\n       <defs>\n        <path id=\"ArialMT-32\" d=\"M 3222 541 \nL 3222 0 \nL 194 0 \nQ 188 203 259 391 \nQ 375 700 629 1000 \nQ 884 1300 1366 1694 \nQ 2113 2306 2375 2664 \nQ 2638 3022 2638 3341 \nQ 2638 3675 2398 3904 \nQ 2159 4134 1775 4134 \nQ 1369 4134 1125 3890 \nQ 881 3647 878 3216 \nL 300 3275 \nQ 359 3922 746 4261 \nQ 1134 4600 1788 4600 \nQ 2447 4600 2831 4234 \nQ 3216 3869 3216 3328 \nQ 3216 3053 3103 2787 \nQ 2991 2522 2730 2228 \nQ 2469 1934 1863 1422 \nQ 1356 997 1212 845 \nQ 1069 694 975 541 \nL 3222 541 \nz\n\" transform=\"scale(0.015625)\"/>\n       </defs>\n       <use xlink:href=\"#ArialMT-32\"/>\n       <use xlink:href=\"#ArialMT-30\" x=\"55.615234\"/>\n       <use xlink:href=\"#ArialMT-30\" x=\"111.230469\"/>\n       <use xlink:href=\"#ArialMT-30\" x=\"166.845703\"/>\n       <use xlink:href=\"#ArialMT-30\" x=\"222.460938\"/>\n      </g>\n     </g>\n    </g>\n    <g id=\"ytick_6\">\n     <g id=\"line2d_6\">\n      <path d=\"M 62.259531 84.003354 \nL 342.214531 84.003354 \n\" clip-path=\"url(#pe199bebaab)\" style=\"fill: none; stroke: #cccccc; stroke-linecap: round\"/>\n     </g>\n     <g id=\"text_12\">\n      <!-- 25000 -->\n      <g style=\"fill: #262626\" transform=\"translate(22.174375 87.940151)scale(0.11 -0.11)\">\n       <use xlink:href=\"#ArialMT-32\"/>\n       <use xlink:href=\"#ArialMT-35\" x=\"55.615234\"/>\n       <use xlink:href=\"#ArialMT-30\" x=\"111.230469\"/>\n       <use xlink:href=\"#ArialMT-30\" x=\"166.845703\"/>\n       <use xlink:href=\"#ArialMT-30\" x=\"222.460938\"/>\n      </g>\n     </g>\n    </g>\n    <g id=\"ytick_7\">\n     <g id=\"line2d_7\">\n      <path d=\"M 62.259531 39.266775 \nL 342.214531 39.266775 \n\" clip-path=\"url(#pe199bebaab)\" style=\"fill: none; stroke: #cccccc; stroke-linecap: round\"/>\n     </g>\n     <g id=\"text_13\">\n      <!-- 30000 -->\n      <g style=\"fill: #262626\" transform=\"translate(22.174375 43.203571)scale(0.11 -0.11)\">\n       <defs>\n        <path id=\"ArialMT-33\" d=\"M 269 1209 \nL 831 1284 \nQ 928 806 1161 595 \nQ 1394 384 1728 384 \nQ 2125 384 2398 659 \nQ 2672 934 2672 1341 \nQ 2672 1728 2419 1979 \nQ 2166 2231 1775 2231 \nQ 1616 2231 1378 2169 \nL 1441 2663 \nQ 1497 2656 1531 2656 \nQ 1891 2656 2178 2843 \nQ 2466 3031 2466 3422 \nQ 2466 3731 2256 3934 \nQ 2047 4138 1716 4138 \nQ 1388 4138 1169 3931 \nQ 950 3725 888 3313 \nL 325 3413 \nQ 428 3978 793 4289 \nQ 1159 4600 1703 4600 \nQ 2078 4600 2393 4439 \nQ 2709 4278 2876 4000 \nQ 3044 3722 3044 3409 \nQ 3044 3113 2884 2869 \nQ 2725 2625 2413 2481 \nQ 2819 2388 3044 2092 \nQ 3269 1797 3269 1353 \nQ 3269 753 2831 336 \nQ 2394 -81 1725 -81 \nQ 1122 -81 723 278 \nQ 325 638 269 1209 \nz\n\" transform=\"scale(0.015625)\"/>\n       </defs>\n       <use xlink:href=\"#ArialMT-33\"/>\n       <use xlink:href=\"#ArialMT-30\" x=\"55.615234\"/>\n       <use xlink:href=\"#ArialMT-30\" x=\"111.230469\"/>\n       <use xlink:href=\"#ArialMT-30\" x=\"166.845703\"/>\n       <use xlink:href=\"#ArialMT-30\" x=\"222.460938\"/>\n      </g>\n     </g>\n    </g>\n    <g id=\"text_14\">\n     <!-- price -->\n     <g style=\"fill: #262626\" transform=\"translate(15.789375 170.447187)rotate(-90)scale(0.12 -0.12)\">\n      <use xlink:href=\"#ArialMT-70\"/>\n      <use xlink:href=\"#ArialMT-72\" x=\"55.615234\"/>\n      <use xlink:href=\"#ArialMT-69\" x=\"88.916016\"/>\n      <use xlink:href=\"#ArialMT-63\" x=\"111.132812\"/>\n      <use xlink:href=\"#ArialMT-65\" x=\"161.132812\"/>\n     </g>\n    </g>\n   </g>\n   <g id=\"patch_3\">\n    <path d=\"M 67.858631 307.68625 \nL 112.651431 307.68625 \nL 112.651431 111.825032 \nL 67.858631 111.825032 \nz\n\" clip-path=\"url(#pe199bebaab)\" style=\"fill: #5875a4; stroke: #ffffff; stroke-linejoin: miter\"/>\n   </g>\n   <g id=\"patch_4\">\n    <path d=\"M 123.849631 307.68625 \nL 168.642431 307.68625 \nL 168.642431 218.593879 \nL 123.849631 218.593879 \nz\n\" clip-path=\"url(#pe199bebaab)\" style=\"fill: #cc8963; stroke: #ffffff; stroke-linejoin: miter\"/>\n   </g>\n   <g id=\"patch_5\">\n    <path d=\"M 179.840631 307.68625 \nL 224.633431 307.68625 \nL 224.633431 178.310252 \nL 179.840631 178.310252 \nz\n\" clip-path=\"url(#pe199bebaab)\" style=\"fill: #5f9e6e; stroke: #ffffff; stroke-linejoin: miter\"/>\n   </g>\n   <g id=\"patch_6\">\n    <path d=\"M 235.831631 307.68625 \nL 280.624431 307.68625 \nL 280.624431 196.990416 \nL 235.831631 196.990416 \nz\n\" clip-path=\"url(#pe199bebaab)\" style=\"fill: #b55d60; stroke: #ffffff; stroke-linejoin: miter\"/>\n   </g>\n   <g id=\"patch_7\">\n    <path d=\"M 291.822631 307.68625 \nL 336.615431 307.68625 \nL 336.615431 108.979786 \nL 291.822631 108.979786 \nz\n\" clip-path=\"url(#pe199bebaab)\" style=\"fill: #857aab; stroke: #ffffff; stroke-linejoin: miter\"/>\n   </g>\n   <g id=\"line2d_8\">\n    <path d=\"M 90.255031 180.840563 \nL 90.255031 43.484838 \n\" clip-path=\"url(#pe199bebaab)\" style=\"fill: none; stroke: #424242; stroke-width: 2.7; stroke-linecap: round\"/>\n   </g>\n   <g id=\"line2d_9\">\n    <path d=\"M 146.246031 227.581326 \nL 146.246031 210.526104 \n\" clip-path=\"url(#pe199bebaab)\" style=\"fill: none; stroke: #424242; stroke-width: 2.7; stroke-linecap: round\"/>\n   </g>\n   <g id=\"line2d_10\">\n    <path d=\"M 202.237031 192.346387 \nL 202.237031 162.057448 \n\" clip-path=\"url(#pe199bebaab)\" style=\"fill: none; stroke: #424242; stroke-width: 2.7; stroke-linecap: round\"/>\n   </g>\n   <g id=\"line2d_11\">\n    <path d=\"M 258.228031 212.677056 \nL 258.228031 177.808516 \n\" clip-path=\"url(#pe199bebaab)\" style=\"fill: none; stroke: #424242; stroke-width: 2.7; stroke-linecap: round\"/>\n   </g>\n   <g id=\"line2d_12\">\n    <path d=\"M 314.219031 183.926055 \nL 314.219031 21.508869 \n\" clip-path=\"url(#pe199bebaab)\" style=\"fill: none; stroke: #424242; stroke-width: 2.7; stroke-linecap: round\"/>\n   </g>\n   <g id=\"patch_8\">\n    <path d=\"M 62.259531 307.68625 \nL 62.259531 7.2 \n\" style=\"fill: none; stroke: #cccccc; stroke-width: 1.25; stroke-linejoin: miter; stroke-linecap: square\"/>\n   </g>\n   <g id=\"patch_9\">\n    <path d=\"M 62.259531 307.68625 \nL 342.214531 307.68625 \n\" style=\"fill: none; stroke: #cccccc; stroke-width: 1.25; stroke-linejoin: miter; stroke-linecap: square\"/>\n   </g>\n  </g>\n </g>\n <defs>\n  <clipPath id=\"pe199bebaab\">\n   <rect x=\"62.259531\" y=\"7.2\" width=\"279.955\" height=\"300.48625\"/>\n  </clipPath>\n </defs>\n</svg>\n",
      "text/plain": [
       "<Figure size 360x360 with 1 Axes>"
      ]
     },
     "metadata": {},
     "output_type": "display_data"
    }
   ],
   "source": [
    "sns.set(style=\"whitegrid\")\n",
    "sns.catplot(x=\"body-style\", y=\"price\", kind=\"bar\", data=df)"
   ]
  },
  {
   "cell_type": "markdown",
   "metadata": {
    "application/vnd.databricks.v1+cell": {
     "inputWidgets": {},
     "nuid": "d6e4810e-9a6d-4a5d-bf06-8e947fbd13f2",
     "showTitle": false,
     "title": ""
    }
   },
   "source": [
    "<div class=\"alert alert-success alertsuccess\" style=\"margin-top: 20px\">\n",
    "   <strong>AHORA TÚ: </strong>  \n",
    "  <p>\n",
    "Visualiza las variables <b>stroke</b> y <b>price</b> utilizando regplot. ¿Qué tipo de relación hay entre las variables?\n",
    "  </p>\n",
    "</div>"
   ]
  },
  {
   "cell_type": "code",
   "execution_count": 29,
   "metadata": {
    "application/vnd.databricks.v1+cell": {
     "inputWidgets": {},
     "nuid": "21f99b73-951a-48d6-860f-311377f65271",
     "showTitle": false,
     "title": ""
    }
   },
   "outputs": [
    {
     "data": {
      "text/plain": [
       "<AxesSubplot:xlabel='stroke', ylabel='price'>"
      ]
     },
     "execution_count": 29,
     "metadata": {},
     "output_type": "execute_result"
    },
    {
     "data": {
      "image/png": "[encoded data removed]",
      "image/svg+xml": "<?xml version=\"1.0\" encoding=\"utf-8\" standalone=\"no\"?>\n<!DOCTYPE svg PUBLIC \"-//W3C//DTD SVG 1.1//EN\"\n  \"http://www.w3.org/Graphics/SVG/1.1/DTD/svg11.dtd\">\n<svg xmlns:xlink=\"http://www.w3.org/1999/xlink\" width=\"404.259531pt\" height=\"266.374219pt\" viewBox=\"0 0 404.259531 266.374219\" xmlns=\"http://www.w3.org/2000/svg\" version=\"1.1\">\n <metadata>\n  <rdf:RDF xmlns:dc=\"http://purl.org/dc/elements/1.1/\" xmlns:cc=\"http://creativecommons.org/ns#\" xmlns:rdf=\"http://www.w3.org/1999/02/22-rdf-syntax-ns#\">\n   <cc:Work>\n    <dc:type rdf:resource=\"http://purl.org/dc/dcmitype/StillImage\"/>\n    <dc:date>2022-02-07T12:59:10.826906</dc:date>\n    <dc:format>image/svg+xml</dc:format>\n    <dc:creator>\n     <cc:Agent>\n      <dc:title>Matplotlib v3.5.0, https://matplotlib.org/</dc:title>\n     </cc:Agent>\n    </dc:creator>\n   </cc:Work>\n  </rdf:RDF>\n </metadata>\n <defs>\n  <style type=\"text/css\">*{stroke-linejoin: round; stroke-linecap: butt}</style>\n </defs>\n <g id=\"figure_1\">\n  <g id=\"patch_1\">\n   <path d=\"M 0 266.374219 \nL 404.259531 266.374219 \nL 404.259531 0 \nL 0 0 \nz\n\" style=\"fill: #ffffff\"/>\n  </g>\n  <g id=\"axes_1\">\n   <g id=\"patch_2\">\n    <path d=\"M 62.259531 224.64 \nL 397.059531 224.64 \nL 397.059531 7.2 \nL 62.259531 7.2 \nz\n\" style=\"fill: #ffffff\"/>\n   </g>\n   <g id=\"matplotlib.axis_1\">\n    <g id=\"xtick_1\">\n     <g id=\"line2d_1\">\n      <path d=\"M 67.332259 224.64 \nL 67.332259 7.2 \n\" clip-path=\"url(#p5e32b6e988)\" style=\"fill: none; stroke: #cccccc; stroke-linecap: round\"/>\n     </g>\n     <g id=\"text_1\">\n      <!-- 2.0 -->\n      <g style=\"fill: #262626\" transform=\"translate(59.687259 242.013594)scale(0.11 -0.11)\">\n       <defs>\n        <path id=\"ArialMT-32\" d=\"M 3222 541 \nL 3222 0 \nL 194 0 \nQ 188 203 259 391 \nQ 375 700 629 1000 \nQ 884 1300 1366 1694 \nQ 2113 2306 2375 2664 \nQ 2638 3022 2638 3341 \nQ 2638 3675 2398 3904 \nQ 2159 4134 1775 4134 \nQ 1369 4134 1125 3890 \nQ 881 3647 878 3216 \nL 300 3275 \nQ 359 3922 746 4261 \nQ 1134 4600 1788 4600 \nQ 2447 4600 2831 4234 \nQ 3216 3869 3216 3328 \nQ 3216 3053 3103 2787 \nQ 2991 2522 2730 2228 \nQ 2469 1934 1863 1422 \nQ 1356 997 1212 845 \nQ 1069 694 975 541 \nL 3222 541 \nz\n\" transform=\"scale(0.015625)\"/>\n        <path id=\"ArialMT-2e\" d=\"M 581 0 \nL 581 641 \nL 1222 641 \nL 1222 0 \nL 581 0 \nz\n\" transform=\"scale(0.015625)\"/>\n        <path id=\"ArialMT-30\" d=\"M 266 2259 \nQ 266 3072 433 3567 \nQ 600 4063 929 4331 \nQ 1259 4600 1759 4600 \nQ 2128 4600 2406 4451 \nQ 2684 4303 2865 4023 \nQ 3047 3744 3150 3342 \nQ 3253 2941 3253 2259 \nQ 3253 1453 3087 958 \nQ 2922 463 2592 192 \nQ 2263 -78 1759 -78 \nQ 1097 -78 719 397 \nQ 266 969 266 2259 \nz\nM 844 2259 \nQ 844 1131 1108 757 \nQ 1372 384 1759 384 \nQ 2147 384 2411 759 \nQ 2675 1134 2675 2259 \nQ 2675 3391 2411 3762 \nQ 2147 4134 1753 4134 \nQ 1366 4134 1134 3806 \nQ 844 3388 844 2259 \nz\n\" transform=\"scale(0.015625)\"/>\n       </defs>\n       <use xlink:href=\"#ArialMT-32\"/>\n       <use xlink:href=\"#ArialMT-2e\" x=\"55.615234\"/>\n       <use xlink:href=\"#ArialMT-30\" x=\"83.398438\"/>\n      </g>\n     </g>\n    </g>\n    <g id=\"xtick_2\">\n     <g id=\"line2d_2\">\n      <path d=\"M 139.799791 224.64 \nL 139.799791 7.2 \n\" clip-path=\"url(#p5e32b6e988)\" style=\"fill: none; stroke: #cccccc; stroke-linecap: round\"/>\n     </g>\n     <g id=\"text_2\">\n      <!-- 2.5 -->\n      <g style=\"fill: #262626\" transform=\"translate(132.154791 242.013594)scale(0.11 -0.11)\">\n       <defs>\n        <path id=\"ArialMT-35\" d=\"M 266 1200 \nL 856 1250 \nQ 922 819 1161 601 \nQ 1400 384 1738 384 \nQ 2144 384 2425 690 \nQ 2706 997 2706 1503 \nQ 2706 1984 2436 2262 \nQ 2166 2541 1728 2541 \nQ 1456 2541 1237 2417 \nQ 1019 2294 894 2097 \nL 366 2166 \nL 809 4519 \nL 3088 4519 \nL 3088 3981 \nL 1259 3981 \nL 1013 2750 \nQ 1425 3038 1878 3038 \nQ 2478 3038 2890 2622 \nQ 3303 2206 3303 1553 \nQ 3303 931 2941 478 \nQ 2500 -78 1738 -78 \nQ 1113 -78 717 272 \nQ 322 622 266 1200 \nz\n\" transform=\"scale(0.015625)\"/>\n       </defs>\n       <use xlink:href=\"#ArialMT-32\"/>\n       <use xlink:href=\"#ArialMT-2e\" x=\"55.615234\"/>\n       <use xlink:href=\"#ArialMT-35\" x=\"83.398438\"/>\n      </g>\n     </g>\n    </g>\n    <g id=\"xtick_3\">\n     <g id=\"line2d_3\">\n      <path d=\"M 212.267323 224.64 \nL 212.267323 7.2 \n\" clip-path=\"url(#p5e32b6e988)\" style=\"fill: none; stroke: #cccccc; stroke-linecap: round\"/>\n     </g>\n     <g id=\"text_3\">\n      <!-- 3.0 -->\n      <g style=\"fill: #262626\" transform=\"translate(204.622323 242.013594)scale(0.11 -0.11)\">\n       <defs>\n        <path id=\"ArialMT-33\" d=\"M 269 1209 \nL 831 1284 \nQ 928 806 1161 595 \nQ 1394 384 1728 384 \nQ 2125 384 2398 659 \nQ 2672 934 2672 1341 \nQ 2672 1728 2419 1979 \nQ 2166 2231 1775 2231 \nQ 1616 2231 1378 2169 \nL 1441 2663 \nQ 1497 2656 1531 2656 \nQ 1891 2656 2178 2843 \nQ 2466 3031 2466 3422 \nQ 2466 3731 2256 3934 \nQ 2047 4138 1716 4138 \nQ 1388 4138 1169 3931 \nQ 950 3725 888 3313 \nL 325 3413 \nQ 428 3978 793 4289 \nQ 1159 4600 1703 4600 \nQ 2078 4600 2393 4439 \nQ 2709 4278 2876 4000 \nQ 3044 3722 3044 3409 \nQ 3044 3113 2884 2869 \nQ 2725 2625 2413 2481 \nQ 2819 2388 3044 2092 \nQ 3269 1797 3269 1353 \nQ 3269 753 2831 336 \nQ 2394 -81 1725 -81 \nQ 1122 -81 723 278 \nQ 325 638 269 1209 \nz\n\" transform=\"scale(0.015625)\"/>\n       </defs>\n       <use xlink:href=\"#ArialMT-33\"/>\n       <use xlink:href=\"#ArialMT-2e\" x=\"55.615234\"/>\n       <use xlink:href=\"#ArialMT-30\" x=\"83.398438\"/>\n      </g>\n     </g>\n    </g>\n    <g id=\"xtick_4\">\n     <g id=\"line2d_4\">\n      <path d=\"M 284.734856 224.64 \nL 284.734856 7.2 \n\" clip-path=\"url(#p5e32b6e988)\" style=\"fill: none; stroke: #cccccc; stroke-linecap: round\"/>\n     </g>\n     <g id=\"text_4\">\n      <!-- 3.5 -->\n      <g style=\"fill: #262626\" transform=\"translate(277.089856 242.013594)scale(0.11 -0.11)\">\n       <use xlink:href=\"#ArialMT-33\"/>\n       <use xlink:href=\"#ArialMT-2e\" x=\"55.615234\"/>\n       <use xlink:href=\"#ArialMT-35\" x=\"83.398438\"/>\n      </g>\n     </g>\n    </g>\n    <g id=\"xtick_5\">\n     <g id=\"line2d_5\">\n      <path d=\"M 357.202388 224.64 \nL 357.202388 7.2 \n\" clip-path=\"url(#p5e32b6e988)\" style=\"fill: none; stroke: #cccccc; stroke-linecap: round\"/>\n     </g>\n     <g id=\"text_5\">\n      <!-- 4.0 -->\n      <g style=\"fill: #262626\" transform=\"translate(349.557388 242.013594)scale(0.11 -0.11)\">\n       <defs>\n        <path id=\"ArialMT-34\" d=\"M 2069 0 \nL 2069 1097 \nL 81 1097 \nL 81 1613 \nL 2172 4581 \nL 2631 4581 \nL 2631 1613 \nL 3250 1613 \nL 3250 1097 \nL 2631 1097 \nL 2631 0 \nL 2069 0 \nz\nM 2069 1613 \nL 2069 3678 \nL 634 1613 \nL 2069 1613 \nz\n\" transform=\"scale(0.015625)\"/>\n       </defs>\n       <use xlink:href=\"#ArialMT-34\"/>\n       <use xlink:href=\"#ArialMT-2e\" x=\"55.615234\"/>\n       <use xlink:href=\"#ArialMT-30\" x=\"83.398438\"/>\n      </g>\n     </g>\n    </g>\n    <g id=\"text_6\">\n     <!-- stroke -->\n     <g style=\"fill: #262626\" transform=\"translate(213.321719 256.789219)scale(0.12 -0.12)\">\n      <defs>\n       <path id=\"ArialMT-73\" d=\"M 197 991 \nL 753 1078 \nQ 800 744 1014 566 \nQ 1228 388 1613 388 \nQ 2000 388 2187 545 \nQ 2375 703 2375 916 \nQ 2375 1106 2209 1216 \nQ 2094 1291 1634 1406 \nQ 1016 1563 777 1677 \nQ 538 1791 414 1992 \nQ 291 2194 291 2438 \nQ 291 2659 392 2848 \nQ 494 3038 669 3163 \nQ 800 3259 1026 3326 \nQ 1253 3394 1513 3394 \nQ 1903 3394 2198 3281 \nQ 2494 3169 2634 2976 \nQ 2775 2784 2828 2463 \nL 2278 2388 \nQ 2241 2644 2061 2787 \nQ 1881 2931 1553 2931 \nQ 1166 2931 1000 2803 \nQ 834 2675 834 2503 \nQ 834 2394 903 2306 \nQ 972 2216 1119 2156 \nQ 1203 2125 1616 2013 \nQ 2213 1853 2448 1751 \nQ 2684 1650 2818 1456 \nQ 2953 1263 2953 975 \nQ 2953 694 2789 445 \nQ 2625 197 2315 61 \nQ 2006 -75 1616 -75 \nQ 969 -75 630 194 \nQ 291 463 197 991 \nz\n\" transform=\"scale(0.015625)\"/>\n       <path id=\"ArialMT-74\" d=\"M 1650 503 \nL 1731 6 \nQ 1494 -44 1306 -44 \nQ 1000 -44 831 53 \nQ 663 150 594 308 \nQ 525 466 525 972 \nL 525 2881 \nL 113 2881 \nL 113 3319 \nL 525 3319 \nL 525 4141 \nL 1084 4478 \nL 1084 3319 \nL 1650 3319 \nL 1650 2881 \nL 1084 2881 \nL 1084 941 \nQ 1084 700 1114 631 \nQ 1144 563 1211 522 \nQ 1278 481 1403 481 \nQ 1497 481 1650 503 \nz\n\" transform=\"scale(0.015625)\"/>\n       <path id=\"ArialMT-72\" d=\"M 416 0 \nL 416 3319 \nL 922 3319 \nL 922 2816 \nQ 1116 3169 1280 3281 \nQ 1444 3394 1641 3394 \nQ 1925 3394 2219 3213 \nL 2025 2691 \nQ 1819 2813 1613 2813 \nQ 1428 2813 1281 2702 \nQ 1134 2591 1072 2394 \nQ 978 2094 978 1738 \nL 978 0 \nL 416 0 \nz\n\" transform=\"scale(0.015625)\"/>\n       <path id=\"ArialMT-6f\" d=\"M 213 1659 \nQ 213 2581 725 3025 \nQ 1153 3394 1769 3394 \nQ 2453 3394 2887 2945 \nQ 3322 2497 3322 1706 \nQ 3322 1066 3130 698 \nQ 2938 331 2570 128 \nQ 2203 -75 1769 -75 \nQ 1072 -75 642 372 \nQ 213 819 213 1659 \nz\nM 791 1659 \nQ 791 1022 1069 705 \nQ 1347 388 1769 388 \nQ 2188 388 2466 706 \nQ 2744 1025 2744 1678 \nQ 2744 2294 2464 2611 \nQ 2184 2928 1769 2928 \nQ 1347 2928 1069 2612 \nQ 791 2297 791 1659 \nz\n\" transform=\"scale(0.015625)\"/>\n       <path id=\"ArialMT-6b\" d=\"M 425 0 \nL 425 4581 \nL 988 4581 \nL 988 1969 \nL 2319 3319 \nL 3047 3319 \nL 1778 2088 \nL 3175 0 \nL 2481 0 \nL 1384 1697 \nL 988 1316 \nL 988 0 \nL 425 0 \nz\n\" transform=\"scale(0.015625)\"/>\n       <path id=\"ArialMT-65\" d=\"M 2694 1069 \nL 3275 997 \nQ 3138 488 2766 206 \nQ 2394 -75 1816 -75 \nQ 1088 -75 661 373 \nQ 234 822 234 1631 \nQ 234 2469 665 2931 \nQ 1097 3394 1784 3394 \nQ 2450 3394 2872 2941 \nQ 3294 2488 3294 1666 \nQ 3294 1616 3291 1516 \nL 816 1516 \nQ 847 969 1125 678 \nQ 1403 388 1819 388 \nQ 2128 388 2347 550 \nQ 2566 713 2694 1069 \nz\nM 847 1978 \nL 2700 1978 \nQ 2663 2397 2488 2606 \nQ 2219 2931 1791 2931 \nQ 1403 2931 1139 2672 \nQ 875 2413 847 1978 \nz\n\" transform=\"scale(0.015625)\"/>\n      </defs>\n      <use xlink:href=\"#ArialMT-73\"/>\n      <use xlink:href=\"#ArialMT-74\" x=\"50\"/>\n      <use xlink:href=\"#ArialMT-72\" x=\"77.783203\"/>\n      <use xlink:href=\"#ArialMT-6f\" x=\"111.083984\"/>\n      <use xlink:href=\"#ArialMT-6b\" x=\"166.699219\"/>\n      <use xlink:href=\"#ArialMT-65\" x=\"216.699219\"/>\n     </g>\n    </g>\n   </g>\n   <g id=\"matplotlib.axis_2\">\n    <g id=\"ytick_1\">\n     <g id=\"line2d_6\">\n      <path d=\"M 62.259531 215.335416 \nL 397.059531 215.335416 \n\" clip-path=\"url(#p5e32b6e988)\" style=\"fill: none; stroke: #cccccc; stroke-linecap: round\"/>\n     </g>\n     <g id=\"text_7\">\n      <!-- 5000 -->\n      <g style=\"fill: #262626\" transform=\"translate(28.291406 219.272213)scale(0.11 -0.11)\">\n       <use xlink:href=\"#ArialMT-35\"/>\n       <use xlink:href=\"#ArialMT-30\" x=\"55.615234\"/>\n       <use xlink:href=\"#ArialMT-30\" x=\"111.230469\"/>\n       <use xlink:href=\"#ArialMT-30\" x=\"166.845703\"/>\n      </g>\n     </g>\n    </g>\n    <g id=\"ytick_2\">\n     <g id=\"line2d_7\">\n      <path d=\"M 62.259531 190.799305 \nL 397.059531 190.799305 \n\" clip-path=\"url(#p5e32b6e988)\" style=\"fill: none; stroke: #cccccc; stroke-linecap: round\"/>\n     </g>\n     <g id=\"text_8\">\n      <!-- 10000 -->\n      <g style=\"fill: #262626\" transform=\"translate(22.174375 194.736101)scale(0.11 -0.11)\">\n       <defs>\n        <path id=\"ArialMT-31\" d=\"M 2384 0 \nL 1822 0 \nL 1822 3584 \nQ 1619 3391 1289 3197 \nQ 959 3003 697 2906 \nL 697 3450 \nQ 1169 3672 1522 3987 \nQ 1875 4303 2022 4600 \nL 2384 4600 \nL 2384 0 \nz\n\" transform=\"scale(0.015625)\"/>\n       </defs>\n       <use xlink:href=\"#ArialMT-31\"/>\n       <use xlink:href=\"#ArialMT-30\" x=\"55.615234\"/>\n       <use xlink:href=\"#ArialMT-30\" x=\"111.230469\"/>\n       <use xlink:href=\"#ArialMT-30\" x=\"166.845703\"/>\n       <use xlink:href=\"#ArialMT-30\" x=\"222.460938\"/>\n      </g>\n     </g>\n    </g>\n    <g id=\"ytick_3\">\n     <g id=\"line2d_8\">\n      <path d=\"M 62.259531 166.263193 \nL 397.059531 166.263193 \n\" clip-path=\"url(#p5e32b6e988)\" style=\"fill: none; stroke: #cccccc; stroke-linecap: round\"/>\n     </g>\n     <g id=\"text_9\">\n      <!-- 15000 -->\n      <g style=\"fill: #262626\" transform=\"translate(22.174375 170.19999)scale(0.11 -0.11)\">\n       <use xlink:href=\"#ArialMT-31\"/>\n       <use xlink:href=\"#ArialMT-35\" x=\"55.615234\"/>\n       <use xlink:href=\"#ArialMT-30\" x=\"111.230469\"/>\n       <use xlink:href=\"#ArialMT-30\" x=\"166.845703\"/>\n       <use xlink:href=\"#ArialMT-30\" x=\"222.460938\"/>\n      </g>\n     </g>\n    </g>\n    <g id=\"ytick_4\">\n     <g id=\"line2d_9\">\n      <path d=\"M 62.259531 141.727082 \nL 397.059531 141.727082 \n\" clip-path=\"url(#p5e32b6e988)\" style=\"fill: none; stroke: #cccccc; stroke-linecap: round\"/>\n     </g>\n     <g id=\"text_10\">\n      <!-- 20000 -->\n      <g style=\"fill: #262626\" transform=\"translate(22.174375 145.663879)scale(0.11 -0.11)\">\n       <use xlink:href=\"#ArialMT-32\"/>\n       <use xlink:href=\"#ArialMT-30\" x=\"55.615234\"/>\n       <use xlink:href=\"#ArialMT-30\" x=\"111.230469\"/>\n       <use xlink:href=\"#ArialMT-30\" x=\"166.845703\"/>\n       <use xlink:href=\"#ArialMT-30\" x=\"222.460938\"/>\n      </g>\n     </g>\n    </g>\n    <g id=\"ytick_5\">\n     <g id=\"line2d_10\">\n      <path d=\"M 62.259531 117.190971 \nL 397.059531 117.190971 \n\" clip-path=\"url(#p5e32b6e988)\" style=\"fill: none; stroke: #cccccc; stroke-linecap: round\"/>\n     </g>\n     <g id=\"text_11\">\n      <!-- 25000 -->\n      <g style=\"fill: #262626\" transform=\"translate(22.174375 121.127767)scale(0.11 -0.11)\">\n       <use xlink:href=\"#ArialMT-32\"/>\n       <use xlink:href=\"#ArialMT-35\" x=\"55.615234\"/>\n       <use xlink:href=\"#ArialMT-30\" x=\"111.230469\"/>\n       <use xlink:href=\"#ArialMT-30\" x=\"166.845703\"/>\n       <use xlink:href=\"#ArialMT-30\" x=\"222.460938\"/>\n      </g>\n     </g>\n    </g>\n    <g id=\"ytick_6\">\n     <g id=\"line2d_11\">\n      <path d=\"M 62.259531 92.654859 \nL 397.059531 92.654859 \n\" clip-path=\"url(#p5e32b6e988)\" style=\"fill: none; stroke: #cccccc; stroke-linecap: round\"/>\n     </g>\n     <g id=\"text_12\">\n      <!-- 30000 -->\n      <g style=\"fill: #262626\" transform=\"translate(22.174375 96.591656)scale(0.11 -0.11)\">\n       <use xlink:href=\"#ArialMT-33\"/>\n       <use xlink:href=\"#ArialMT-30\" x=\"55.615234\"/>\n       <use xlink:href=\"#ArialMT-30\" x=\"111.230469\"/>\n       <use xlink:href=\"#ArialMT-30\" x=\"166.845703\"/>\n       <use xlink:href=\"#ArialMT-30\" x=\"222.460938\"/>\n      </g>\n     </g>\n    </g>\n    <g id=\"ytick_7\">\n     <g id=\"line2d_12\">\n      <path d=\"M 62.259531 68.118748 \nL 397.059531 68.118748 \n\" clip-path=\"url(#p5e32b6e988)\" style=\"fill: none; stroke: #cccccc; stroke-linecap: round\"/>\n     </g>\n     <g id=\"text_13\">\n      <!-- 35000 -->\n      <g style=\"fill: #262626\" transform=\"translate(22.174375 72.055545)scale(0.11 -0.11)\">\n       <use xlink:href=\"#ArialMT-33\"/>\n       <use xlink:href=\"#ArialMT-35\" x=\"55.615234\"/>\n       <use xlink:href=\"#ArialMT-30\" x=\"111.230469\"/>\n       <use xlink:href=\"#ArialMT-30\" x=\"166.845703\"/>\n       <use xlink:href=\"#ArialMT-30\" x=\"222.460938\"/>\n      </g>\n     </g>\n    </g>\n    <g id=\"ytick_8\">\n     <g id=\"line2d_13\">\n      <path d=\"M 62.259531 43.582637 \nL 397.059531 43.582637 \n\" clip-path=\"url(#p5e32b6e988)\" style=\"fill: none; stroke: #cccccc; stroke-linecap: round\"/>\n     </g>\n     <g id=\"text_14\">\n      <!-- 40000 -->\n      <g style=\"fill: #262626\" transform=\"translate(22.174375 47.519433)scale(0.11 -0.11)\">\n       <use xlink:href=\"#ArialMT-34\"/>\n       <use xlink:href=\"#ArialMT-30\" x=\"55.615234\"/>\n       <use xlink:href=\"#ArialMT-30\" x=\"111.230469\"/>\n       <use xlink:href=\"#ArialMT-30\" x=\"166.845703\"/>\n       <use xlink:href=\"#ArialMT-30\" x=\"222.460938\"/>\n      </g>\n     </g>\n    </g>\n    <g id=\"ytick_9\">\n     <g id=\"line2d_14\">\n      <path d=\"M 62.259531 19.046525 \nL 397.059531 19.046525 \n\" clip-path=\"url(#p5e32b6e988)\" style=\"fill: none; stroke: #cccccc; stroke-linecap: round\"/>\n     </g>\n     <g id=\"text_15\">\n      <!-- 45000 -->\n      <g style=\"fill: #262626\" transform=\"translate(22.174375 22.983322)scale(0.11 -0.11)\">\n       <use xlink:href=\"#ArialMT-34\"/>\n       <use xlink:href=\"#ArialMT-35\" x=\"55.615234\"/>\n       <use xlink:href=\"#ArialMT-30\" x=\"111.230469\"/>\n       <use xlink:href=\"#ArialMT-30\" x=\"166.845703\"/>\n       <use xlink:href=\"#ArialMT-30\" x=\"222.460938\"/>\n      </g>\n     </g>\n    </g>\n    <g id=\"text_16\">\n     <!-- price -->\n     <g style=\"fill: #262626\" transform=\"translate(15.789375 128.924063)rotate(-90)scale(0.12 -0.12)\">\n      <defs>\n       <path id=\"ArialMT-70\" d=\"M 422 -1272 \nL 422 3319 \nL 934 3319 \nL 934 2888 \nQ 1116 3141 1344 3267 \nQ 1572 3394 1897 3394 \nQ 2322 3394 2647 3175 \nQ 2972 2956 3137 2557 \nQ 3303 2159 3303 1684 \nQ 3303 1175 3120 767 \nQ 2938 359 2589 142 \nQ 2241 -75 1856 -75 \nQ 1575 -75 1351 44 \nQ 1128 163 984 344 \nL 984 -1272 \nL 422 -1272 \nz\nM 931 1641 \nQ 931 1000 1190 694 \nQ 1450 388 1819 388 \nQ 2194 388 2461 705 \nQ 2728 1022 2728 1688 \nQ 2728 2322 2467 2637 \nQ 2206 2953 1844 2953 \nQ 1484 2953 1207 2617 \nQ 931 2281 931 1641 \nz\n\" transform=\"scale(0.015625)\"/>\n       <path id=\"ArialMT-69\" d=\"M 425 3934 \nL 425 4581 \nL 988 4581 \nL 988 3934 \nL 425 3934 \nz\nM 425 0 \nL 425 3319 \nL 988 3319 \nL 988 0 \nL 425 0 \nz\n\" transform=\"scale(0.015625)\"/>\n       <path id=\"ArialMT-63\" d=\"M 2588 1216 \nL 3141 1144 \nQ 3050 572 2676 248 \nQ 2303 -75 1759 -75 \nQ 1078 -75 664 370 \nQ 250 816 250 1647 \nQ 250 2184 428 2587 \nQ 606 2991 970 3192 \nQ 1334 3394 1763 3394 \nQ 2303 3394 2647 3120 \nQ 2991 2847 3088 2344 \nL 2541 2259 \nQ 2463 2594 2264 2762 \nQ 2066 2931 1784 2931 \nQ 1359 2931 1093 2626 \nQ 828 2322 828 1663 \nQ 828 994 1084 691 \nQ 1341 388 1753 388 \nQ 2084 388 2306 591 \nQ 2528 794 2588 1216 \nz\n\" transform=\"scale(0.015625)\"/>\n      </defs>\n      <use xlink:href=\"#ArialMT-70\"/>\n      <use xlink:href=\"#ArialMT-72\" x=\"55.615234\"/>\n      <use xlink:href=\"#ArialMT-69\" x=\"88.916016\"/>\n      <use xlink:href=\"#ArialMT-63\" x=\"111.132812\"/>\n      <use xlink:href=\"#ArialMT-65\" x=\"161.132812\"/>\n     </g>\n    </g>\n   </g>\n   <g id=\"PathCollection_1\">\n    <defs>\n     <path id=\"me132058242\" d=\"M 0 3 \nC 0.795609 3 1.55874 2.683901 2.12132 2.12132 \nC 2.683901 1.55874 3 0.795609 3 0 \nC 3 -0.795609 2.683901 -1.55874 2.12132 -2.12132 \nC 1.55874 -2.683901 0.795609 -3 0 -3 \nC -0.795609 -3 -1.55874 -2.683901 -2.12132 -2.12132 \nC -2.683901 -1.55874 -3 -0.795609 -3 0 \nC -3 0.795609 -2.683901 1.55874 -2.12132 2.12132 \nC -1.55874 2.683901 -0.795609 3 0 3 \nz\n\" style=\"stroke: #4c72b0; stroke-opacity: 0.8\"/>\n    </defs>\n    <g clip-path=\"url(#p5e32b6e988)\">\n     <use xlink:href=\"#me132058242\" x=\"165.888103\" y=\"173.648563\" style=\"fill: #4c72b0; fill-opacity: 0.8; stroke: #4c72b0; stroke-opacity: 0.8\"/>\n     <use xlink:href=\"#me132058242\" x=\"165.888103\" y=\"158.90236\" style=\"fill: #4c72b0; fill-opacity: 0.8; stroke: #4c72b0; stroke-opacity: 0.8\"/>\n     <use xlink:href=\"#me132058242\" x=\"280.386804\" y=\"158.90236\" style=\"fill: #4c72b0; fill-opacity: 0.8; stroke: #4c72b0; stroke-opacity: 0.8\"/>\n     <use xlink:href=\"#me132058242\" x=\"270.241349\" y=\"171.415777\" style=\"fill: #4c72b0; fill-opacity: 0.8; stroke: #4c72b0; stroke-opacity: 0.8\"/>\n     <use xlink:href=\"#me132058242\" x=\"270.241349\" y=\"154.240499\" style=\"fill: #4c72b0; fill-opacity: 0.8; stroke: #4c72b0; stroke-opacity: 0.8\"/>\n     <use xlink:href=\"#me132058242\" x=\"270.241349\" y=\"165.036388\" style=\"fill: #4c72b0; fill-opacity: 0.8; stroke: #4c72b0; stroke-opacity: 0.8\"/>\n     <use xlink:href=\"#me132058242\" x=\"270.241349\" y=\"152.964621\" style=\"fill: #4c72b0; fill-opacity: 0.8; stroke: #4c72b0; stroke-opacity: 0.8\"/>\n     <use xlink:href=\"#me132058242\" x=\"270.241349\" y=\"147.026882\" style=\"fill: #4c72b0; fill-opacity: 0.8; stroke: #4c72b0; stroke-opacity: 0.8\"/>\n     <use xlink:href=\"#me132058242\" x=\"270.241349\" y=\"122.711596\" style=\"fill: #4c72b0; fill-opacity: 0.8; stroke: #4c72b0; stroke-opacity: 0.8\"/>\n     <use xlink:href=\"#me132058242\" x=\"183.28031\" y=\"159.245865\" style=\"fill: #4c72b0; fill-opacity: 0.8; stroke: #4c72b0; stroke-opacity: 0.8\"/>\n     <use xlink:href=\"#me132058242\" x=\"183.28031\" y=\"156.81679\" style=\"fill: #4c72b0; fill-opacity: 0.8; stroke: #4c72b0; stroke-opacity: 0.8\"/>\n     <use xlink:href=\"#me132058242\" x=\"239.804986\" y=\"136.967076\" style=\"fill: #4c72b0; fill-opacity: 0.8; stroke: #4c72b0; stroke-opacity: 0.8\"/>\n     <use xlink:href=\"#me132058242\" x=\"239.804986\" y=\"136.304601\" style=\"fill: #4c72b0; fill-opacity: 0.8; stroke: #4c72b0; stroke-opacity: 0.8\"/>\n     <use xlink:href=\"#me132058242\" x=\"239.804986\" y=\"119.325612\" style=\"fill: #4c72b0; fill-opacity: 0.8; stroke: #4c72b0; stroke-opacity: 0.8\"/>\n     <use xlink:href=\"#me132058242\" x=\"268.791999\" y=\"88.92537\" style=\"fill: #4c72b0; fill-opacity: 0.8; stroke: #4c72b0; stroke-opacity: 0.8\"/>\n     <use xlink:href=\"#me132058242\" x=\"268.791999\" y=\"37.129639\" style=\"fill: #4c72b0; fill-opacity: 0.8; stroke: #4c72b0; stroke-opacity: 0.8\"/>\n     <use xlink:href=\"#me132058242\" x=\"268.791999\" y=\"58.89317\" style=\"fill: #4c72b0; fill-opacity: 0.8; stroke: #4c72b0; stroke-opacity: 0.8\"/>\n     <use xlink:href=\"#me132058242\" x=\"216.615375\" y=\"214.594425\" style=\"fill: #4c72b0; fill-opacity: 0.8; stroke: #4c72b0; stroke-opacity: 0.8\"/>\n     <use xlink:href=\"#me132058242\" x=\"228.210181\" y=\"208.980563\" style=\"fill: #4c72b0; fill-opacity: 0.8; stroke: #4c72b0; stroke-opacity: 0.8\"/>\n     <use xlink:href=\"#me132058242\" x=\"228.210181\" y=\"207.606541\" style=\"fill: #4c72b0; fill-opacity: 0.8; stroke: #4c72b0; stroke-opacity: 0.8\"/>\n     <use xlink:href=\"#me132058242\" x=\"245.602388\" y=\"212.528485\" style=\"fill: #4c72b0; fill-opacity: 0.8; stroke: #4c72b0; stroke-opacity: 0.8\"/>\n     <use xlink:href=\"#me132058242\" x=\"245.602388\" y=\"208.578171\" style=\"fill: #4c72b0; fill-opacity: 0.8; stroke: #4c72b0; stroke-opacity: 0.8\"/>\n     <use xlink:href=\"#me132058242\" x=\"268.791999\" y=\"200.82476\" style=\"fill: #4c72b0; fill-opacity: 0.8; stroke: #4c72b0; stroke-opacity: 0.8\"/>\n     <use xlink:href=\"#me132058242\" x=\"245.602388\" y=\"209.30444\" style=\"fill: #4c72b0; fill-opacity: 0.8; stroke: #4c72b0; stroke-opacity: 0.8\"/>\n     <use xlink:href=\"#me132058242\" x=\"245.602388\" y=\"207.032396\" style=\"fill: #4c72b0; fill-opacity: 0.8; stroke: #4c72b0; stroke-opacity: 0.8\"/>\n     <use xlink:href=\"#me132058242\" x=\"245.602388\" y=\"202.532473\" style=\"fill: #4c72b0; fill-opacity: 0.8; stroke: #4c72b0; stroke-opacity: 0.8\"/>\n     <use xlink:href=\"#me132058242\" x=\"268.791999\" y=\"197.875519\" style=\"fill: #4c72b0; fill-opacity: 0.8; stroke: #4c72b0; stroke-opacity: 0.8\"/>\n     <use xlink:href=\"#me132058242\" x=\"278.937453\" y=\"196.094197\" style=\"fill: #4c72b0; fill-opacity: 0.8; stroke: #4c72b0; stroke-opacity: 0.8\"/>\n     <use xlink:href=\"#me132058242\" x=\"342.708882\" y=\"176.254298\" style=\"fill: #4c72b0; fill-opacity: 0.8; stroke: #4c72b0; stroke-opacity: 0.8\"/>\n     <use xlink:href=\"#me132058242\" x=\"271.6907\" y=\"208.077634\" style=\"fill: #4c72b0; fill-opacity: 0.8; stroke: #4c72b0; stroke-opacity: 0.8\"/>\n     <use xlink:href=\"#me132058242\" x=\"271.6907\" y=\"206.232519\" style=\"fill: #4c72b0; fill-opacity: 0.8; stroke: #4c72b0; stroke-opacity: 0.8\"/>\n     <use xlink:href=\"#me132058242\" x=\"222.412778\" y=\"213.377434\" style=\"fill: #4c72b0; fill-opacity: 0.8; stroke: #4c72b0; stroke-opacity: 0.8\"/>\n     <use xlink:href=\"#me132058242\" x=\"271.6907\" y=\"207.832273\" style=\"fill: #4c72b0; fill-opacity: 0.8; stroke: #4c72b0; stroke-opacity: 0.8\"/>\n     <use xlink:href=\"#me132058242\" x=\"271.6907\" y=\"204.88794\" style=\"fill: #4c72b0; fill-opacity: 0.8; stroke: #4c72b0; stroke-opacity: 0.8\"/>\n     <use xlink:href=\"#me132058242\" x=\"271.6907\" y=\"204.073341\" style=\"fill: #4c72b0; fill-opacity: 0.8; stroke: #4c72b0; stroke-opacity: 0.8\"/>\n     <use xlink:href=\"#me132058242\" x=\"271.6907\" y=\"204.073341\" style=\"fill: #4c72b0; fill-opacity: 0.8; stroke: #4c72b0; stroke-opacity: 0.8\"/>\n     <use xlink:href=\"#me132058242\" x=\"296.329661\" y=\"201.129007\" style=\"fill: #4c72b0; fill-opacity: 0.8; stroke: #4c72b0; stroke-opacity: 0.8\"/>\n     <use xlink:href=\"#me132058242\" x=\"296.329661\" y=\"195.240341\" style=\"fill: #4c72b0; fill-opacity: 0.8; stroke: #4c72b0; stroke-opacity: 0.8\"/>\n     <use xlink:href=\"#me132058242\" x=\"296.329661\" y=\"196.467146\" style=\"fill: #4c72b0; fill-opacity: 0.8; stroke: #4c72b0; stroke-opacity: 0.8\"/>\n     <use xlink:href=\"#me132058242\" x=\"296.329661\" y=\"189.351674\" style=\"fill: #4c72b0; fill-opacity: 0.8; stroke: #4c72b0; stroke-opacity: 0.8\"/>\n     <use xlink:href=\"#me132058242\" x=\"296.329661\" y=\"176.347535\" style=\"fill: #4c72b0; fill-opacity: 0.8; stroke: #4c72b0; stroke-opacity: 0.8\"/>\n     <use xlink:href=\"#me132058242\" x=\"296.329661\" y=\"189.106313\" style=\"fill: #4c72b0; fill-opacity: 0.8; stroke: #4c72b0; stroke-opacity: 0.8\"/>\n     <use xlink:href=\"#me132058242\" x=\"245.602388\" y=\"206.576024\" style=\"fill: #4c72b0; fill-opacity: 0.8; stroke: #4c72b0; stroke-opacity: 0.8\"/>\n     <use xlink:href=\"#me132058242\" x=\"245.602388\" y=\"185.656536\" style=\"fill: #4c72b0; fill-opacity: 0.8; stroke: #4c72b0; stroke-opacity: 0.8\"/>\n     <use xlink:href=\"#me132058242\" x=\"381.841349\" y=\"81.613609\" style=\"fill: #4c72b0; fill-opacity: 0.8; stroke: #4c72b0; stroke-opacity: 0.8\"/>\n     <use xlink:href=\"#me132058242\" x=\"381.841349\" y=\"65.419776\" style=\"fill: #4c72b0; fill-opacity: 0.8; stroke: #4c72b0; stroke-opacity: 0.8\"/>\n     <use xlink:href=\"#me132058242\" x=\"177.482908\" y=\"63.211526\" style=\"fill: #4c72b0; fill-opacity: 0.8; stroke: #4c72b0; stroke-opacity: 0.8\"/>\n     <use xlink:href=\"#me132058242\" x=\"234.007583\" y=\"214.378508\" style=\"fill: #4c72b0; fill-opacity: 0.8; stroke: #4c72b0; stroke-opacity: 0.8\"/>\n     <use xlink:href=\"#me132058242\" x=\"234.007583\" y=\"209.962007\" style=\"fill: #4c72b0; fill-opacity: 0.8; stroke: #4c72b0; stroke-opacity: 0.8\"/>\n     <use xlink:href=\"#me132058242\" x=\"234.007583\" y=\"206.526952\" style=\"fill: #4c72b0; fill-opacity: 0.8; stroke: #4c72b0; stroke-opacity: 0.8\"/>\n     <use xlink:href=\"#me132058242\" x=\"234.007583\" y=\"207.017674\" style=\"fill: #4c72b0; fill-opacity: 0.8; stroke: #4c72b0; stroke-opacity: 0.8\"/>\n     <use xlink:href=\"#me132058242\" x=\"234.007583\" y=\"203.582619\" style=\"fill: #4c72b0; fill-opacity: 0.8; stroke: #4c72b0; stroke-opacity: 0.8\"/>\n     <use xlink:href=\"#me132058242\" x=\"268.791999\" y=\"196.467146\" style=\"fill: #4c72b0; fill-opacity: 0.8; stroke: #4c72b0; stroke-opacity: 0.8\"/>\n     <use xlink:href=\"#me132058242\" x=\"268.791999\" y=\"198.184674\" style=\"fill: #4c72b0; fill-opacity: 0.8; stroke: #4c72b0; stroke-opacity: 0.8\"/>\n     <use xlink:href=\"#me132058242\" x=\"268.791999\" y=\"187.879507\" style=\"fill: #4c72b0; fill-opacity: 0.8; stroke: #4c72b0; stroke-opacity: 0.8\"/>\n     <use xlink:href=\"#me132058242\" x=\"268.791999\" y=\"189.597035\" style=\"fill: #4c72b0; fill-opacity: 0.8; stroke: #4c72b0; stroke-opacity: 0.8\"/>\n     <use xlink:href=\"#me132058242\" x=\"268.791999\" y=\"186.898063\" style=\"fill: #4c72b0; fill-opacity: 0.8; stroke: #4c72b0; stroke-opacity: 0.8\"/>\n     <use xlink:href=\"#me132058242\" x=\"268.791999\" y=\"184.689813\" style=\"fill: #4c72b0; fill-opacity: 0.8; stroke: #4c72b0; stroke-opacity: 0.8\"/>\n     <use xlink:href=\"#me132058242\" x=\"235.456934\" y=\"150.167504\" style=\"fill: #4c72b0; fill-opacity: 0.8; stroke: #4c72b0; stroke-opacity: 0.8\"/>\n     <use xlink:href=\"#me132058242\" x=\"305.025765\" y=\"149.853442\" style=\"fill: #4c72b0; fill-opacity: 0.8; stroke: #4c72b0; stroke-opacity: 0.8\"/>\n     <use xlink:href=\"#me132058242\" x=\"305.025765\" y=\"114.482184\" style=\"fill: #4c72b0; fill-opacity: 0.8; stroke: #4c72b0; stroke-opacity: 0.8\"/>\n     <use xlink:href=\"#me132058242\" x=\"305.025765\" y=\"101.252313\" style=\"fill: #4c72b0; fill-opacity: 0.8; stroke: #4c72b0; stroke-opacity: 0.8\"/>\n     <use xlink:href=\"#me132058242\" x=\"305.025765\" y=\"101.605633\" style=\"fill: #4c72b0; fill-opacity: 0.8; stroke: #4c72b0; stroke-opacity: 0.8\"/>\n     <use xlink:href=\"#me132058242\" x=\"305.025765\" y=\"84.803304\" style=\"fill: #4c72b0; fill-opacity: 0.8; stroke: #4c72b0; stroke-opacity: 0.8\"/>\n     <use xlink:href=\"#me132058242\" x=\"226.76083\" y=\"72.123041\" style=\"fill: #4c72b0; fill-opacity: 0.8; stroke: #4c72b0; stroke-opacity: 0.8\"/>\n     <use xlink:href=\"#me132058242\" x=\"226.76083\" y=\"67.843943\" style=\"fill: #4c72b0; fill-opacity: 0.8; stroke: #4c72b0; stroke-opacity: 0.8\"/>\n     <use xlink:href=\"#me132058242\" x=\"262.994596\" y=\"38.871703\" style=\"fill: #4c72b0; fill-opacity: 0.8; stroke: #4c72b0; stroke-opacity: 0.8\"/>\n     <use xlink:href=\"#me132058242\" x=\"262.994596\" y=\"17.083636\" style=\"fill: #4c72b0; fill-opacity: 0.8; stroke: #4c72b0; stroke-opacity: 0.8\"/>\n     <use xlink:href=\"#me132058242\" x=\"229.659531\" y=\"158.887638\" style=\"fill: #4c72b0; fill-opacity: 0.8; stroke: #4c72b0; stroke-opacity: 0.8\"/>\n     <use xlink:href=\"#me132058242\" x=\"245.602388\" y=\"213.426506\" style=\"fill: #4c72b0; fill-opacity: 0.8; stroke: #4c72b0; stroke-opacity: 0.8\"/>\n     <use xlink:href=\"#me132058242\" x=\"245.602388\" y=\"209.500729\" style=\"fill: #4c72b0; fill-opacity: 0.8; stroke: #4c72b0; stroke-opacity: 0.8\"/>\n     <use xlink:href=\"#me132058242\" x=\"245.602388\" y=\"207.145262\" style=\"fill: #4c72b0; fill-opacity: 0.8; stroke: #4c72b0; stroke-opacity: 0.8\"/>\n     <use xlink:href=\"#me132058242\" x=\"268.791999\" y=\"202.139895\" style=\"fill: #4c72b0; fill-opacity: 0.8; stroke: #4c72b0; stroke-opacity: 0.8\"/>\n     <use xlink:href=\"#me132058242\" x=\"278.937453\" y=\"191.000501\" style=\"fill: #4c72b0; fill-opacity: 0.8; stroke: #4c72b0; stroke-opacity: 0.8\"/>\n     <use xlink:href=\"#me132058242\" x=\"278.937453\" y=\"198.165045\" style=\"fill: #4c72b0; fill-opacity: 0.8; stroke: #4c72b0; stroke-opacity: 0.8\"/>\n     <use xlink:href=\"#me132058242\" x=\"336.911479\" y=\"177.898217\" style=\"fill: #4c72b0; fill-opacity: 0.8; stroke: #4c72b0; stroke-opacity: 0.8\"/>\n     <use xlink:href=\"#me132058242\" x=\"336.911479\" y=\"166.906039\" style=\"fill: #4c72b0; fill-opacity: 0.8; stroke: #4c72b0; stroke-opacity: 0.8\"/>\n     <use xlink:href=\"#me132058242\" x=\"336.911479\" y=\"168.770784\" style=\"fill: #4c72b0; fill-opacity: 0.8; stroke: #4c72b0; stroke-opacity: 0.8\"/>\n     <use xlink:href=\"#me132058242\" x=\"278.937453\" y=\"205.574951\" style=\"fill: #4c72b0; fill-opacity: 0.8; stroke: #4c72b0; stroke-opacity: 0.8\"/>\n     <use xlink:href=\"#me132058242\" x=\"278.937453\" y=\"199.686284\" style=\"fill: #4c72b0; fill-opacity: 0.8; stroke: #4c72b0; stroke-opacity: 0.8\"/>\n     <use xlink:href=\"#me132058242\" x=\"278.937453\" y=\"194.337412\" style=\"fill: #4c72b0; fill-opacity: 0.8; stroke: #4c72b0; stroke-opacity: 0.8\"/>\n     <use xlink:href=\"#me132058242\" x=\"278.937453\" y=\"194.337412\" style=\"fill: #4c72b0; fill-opacity: 0.8; stroke: #4c72b0; stroke-opacity: 0.8\"/>\n     <use xlink:href=\"#me132058242\" x=\"254.298492\" y=\"212.886712\" style=\"fill: #4c72b0; fill-opacity: 0.8; stroke: #4c72b0; stroke-opacity: 0.8\"/>\n     <use xlink:href=\"#me132058242\" x=\"280.386804\" y=\"205.035156\" style=\"fill: #4c72b0; fill-opacity: 0.8; stroke: #4c72b0; stroke-opacity: 0.8\"/>\n     <use xlink:href=\"#me132058242\" x=\"254.298492\" y=\"207.243406\" style=\"fill: #4c72b0; fill-opacity: 0.8; stroke: #4c72b0; stroke-opacity: 0.8\"/>\n     <use xlink:href=\"#me132058242\" x=\"254.298492\" y=\"206.261962\" style=\"fill: #4c72b0; fill-opacity: 0.8; stroke: #4c72b0; stroke-opacity: 0.8\"/>\n     <use xlink:href=\"#me132058242\" x=\"254.298492\" y=\"203.808351\" style=\"fill: #4c72b0; fill-opacity: 0.8; stroke: #4c72b0; stroke-opacity: 0.8\"/>\n     <use xlink:href=\"#me132058242\" x=\"254.298492\" y=\"204.053712\" style=\"fill: #4c72b0; fill-opacity: 0.8; stroke: #4c72b0; stroke-opacity: 0.8\"/>\n     <use xlink:href=\"#me132058242\" x=\"254.298492\" y=\"201.600101\" style=\"fill: #4c72b0; fill-opacity: 0.8; stroke: #4c72b0; stroke-opacity: 0.8\"/>\n     <use xlink:href=\"#me132058242\" x=\"254.298492\" y=\"203.072267\" style=\"fill: #4c72b0; fill-opacity: 0.8; stroke: #4c72b0; stroke-opacity: 0.8\"/>\n     <use xlink:href=\"#me132058242\" x=\"254.298492\" y=\"200.618656\" style=\"fill: #4c72b0; fill-opacity: 0.8; stroke: #4c72b0; stroke-opacity: 0.8\"/>\n     <use xlink:href=\"#me132058242\" x=\"254.298492\" y=\"199.391851\" style=\"fill: #4c72b0; fill-opacity: 0.8; stroke: #4c72b0; stroke-opacity: 0.8\"/>\n     <use xlink:href=\"#me132058242\" x=\"280.386804\" y=\"195.956795\" style=\"fill: #4c72b0; fill-opacity: 0.8; stroke: #4c72b0; stroke-opacity: 0.8\"/>\n     <use xlink:href=\"#me132058242\" x=\"280.386804\" y=\"193.012462\" style=\"fill: #4c72b0; fill-opacity: 0.8; stroke: #4c72b0; stroke-opacity: 0.8\"/>\n     <use xlink:href=\"#me132058242\" x=\"251.399791\" y=\"173.628934\" style=\"fill: #4c72b0; fill-opacity: 0.8; stroke: #4c72b0; stroke-opacity: 0.8\"/>\n     <use xlink:href=\"#me132058242\" x=\"251.399791\" y=\"169.212434\" style=\"fill: #4c72b0; fill-opacity: 0.8; stroke: #4c72b0; stroke-opacity: 0.8\"/>\n     <use xlink:href=\"#me132058242\" x=\"251.399791\" y=\"173.628934\" style=\"fill: #4c72b0; fill-opacity: 0.8; stroke: #4c72b0; stroke-opacity: 0.8\"/>\n     <use xlink:href=\"#me132058242\" x=\"251.399791\" y=\"155.472211\" style=\"fill: #4c72b0; fill-opacity: 0.8; stroke: #4c72b0; stroke-opacity: 0.8\"/>\n     <use xlink:href=\"#me132058242\" x=\"251.399791\" y=\"143.204156\" style=\"fill: #4c72b0; fill-opacity: 0.8; stroke: #4c72b0; stroke-opacity: 0.8\"/>\n     <use xlink:href=\"#me132058242\" x=\"251.399791\" y=\"149.583545\" style=\"fill: #4c72b0; fill-opacity: 0.8; stroke: #4c72b0; stroke-opacity: 0.8\"/>\n     <use xlink:href=\"#me132058242\" x=\"239.804986\" y=\"181.475582\" style=\"fill: #4c72b0; fill-opacity: 0.8; stroke: #4c72b0; stroke-opacity: 0.8\"/>\n     <use xlink:href=\"#me132058242\" x=\"287.633557\" y=\"175.096193\" style=\"fill: #4c72b0; fill-opacity: 0.8; stroke: #4c72b0; stroke-opacity: 0.8\"/>\n     <use xlink:href=\"#me132058242\" x=\"239.804986\" y=\"178.825682\" style=\"fill: #4c72b0; fill-opacity: 0.8; stroke: #4c72b0; stroke-opacity: 0.8\"/>\n     <use xlink:href=\"#me132058242\" x=\"287.633557\" y=\"171.857427\" style=\"fill: #4c72b0; fill-opacity: 0.8; stroke: #4c72b0; stroke-opacity: 0.8\"/>\n     <use xlink:href=\"#me132058242\" x=\"94.869921\" y=\"163.417004\" style=\"fill: #4c72b0; fill-opacity: 0.8; stroke: #4c72b0; stroke-opacity: 0.8\"/>\n     <use xlink:href=\"#me132058242\" x=\"287.633557\" y=\"156.939471\" style=\"fill: #4c72b0; fill-opacity: 0.8; stroke: #4c72b0; stroke-opacity: 0.8\"/>\n     <use xlink:href=\"#me132058242\" x=\"94.869921\" y=\"157.945451\" style=\"fill: #4c72b0; fill-opacity: 0.8; stroke: #4c72b0; stroke-opacity: 0.8\"/>\n     <use xlink:href=\"#me132058242\" x=\"287.633557\" y=\"156.080707\" style=\"fill: #4c72b0; fill-opacity: 0.8; stroke: #4c72b0; stroke-opacity: 0.8\"/>\n     <use xlink:href=\"#me132058242\" x=\"239.804986\" y=\"158.264421\" style=\"fill: #4c72b0; fill-opacity: 0.8; stroke: #4c72b0; stroke-opacity: 0.8\"/>\n     <use xlink:href=\"#me132058242\" x=\"287.633557\" y=\"151.786888\" style=\"fill: #4c72b0; fill-opacity: 0.8; stroke: #4c72b0; stroke-opacity: 0.8\"/>\n     <use xlink:href=\"#me132058242\" x=\"242.703687\" y=\"150.805443\" style=\"fill: #4c72b0; fill-opacity: 0.8; stroke: #4c72b0; stroke-opacity: 0.8\"/>\n     <use xlink:href=\"#me132058242\" x=\"245.602388\" y=\"212.528485\" style=\"fill: #4c72b0; fill-opacity: 0.8; stroke: #4c72b0; stroke-opacity: 0.8\"/>\n     <use xlink:href=\"#me132058242\" x=\"268.791999\" y=\"200.82476\" style=\"fill: #4c72b0; fill-opacity: 0.8; stroke: #4c72b0; stroke-opacity: 0.8\"/>\n     <use xlink:href=\"#me132058242\" x=\"245.602388\" y=\"209.30444\" style=\"fill: #4c72b0; fill-opacity: 0.8; stroke: #4c72b0; stroke-opacity: 0.8\"/>\n     <use xlink:href=\"#me132058242\" x=\"245.602388\" y=\"207.032396\" style=\"fill: #4c72b0; fill-opacity: 0.8; stroke: #4c72b0; stroke-opacity: 0.8\"/>\n     <use xlink:href=\"#me132058242\" x=\"245.602388\" y=\"202.532473\" style=\"fill: #4c72b0; fill-opacity: 0.8; stroke: #4c72b0; stroke-opacity: 0.8\"/>\n     <use xlink:href=\"#me132058242\" x=\"278.937453\" y=\"196.094197\" style=\"fill: #4c72b0; fill-opacity: 0.8; stroke: #4c72b0; stroke-opacity: 0.8\"/>\n     <use xlink:href=\"#me132058242\" x=\"336.911479\" y=\"177.235742\" style=\"fill: #4c72b0; fill-opacity: 0.8; stroke: #4c72b0; stroke-opacity: 0.8\"/>\n     <use xlink:href=\"#me132058242\" x=\"228.210181\" y=\"131.824307\" style=\"fill: #4c72b0; fill-opacity: 0.8; stroke: #4c72b0; stroke-opacity: 0.8\"/>\n     <use xlink:href=\"#me132058242\" x=\"197.773817\" y=\"80.249401\" style=\"fill: #4c72b0; fill-opacity: 0.8; stroke: #4c72b0; stroke-opacity: 0.8\"/>\n     <use xlink:href=\"#me132058242\" x=\"197.773817\" y=\"72.888568\" style=\"fill: #4c72b0; fill-opacity: 0.8; stroke: #4c72b0; stroke-opacity: 0.8\"/>\n     <use xlink:href=\"#me132058242\" x=\"197.773817\" y=\"58.166901\" style=\"fill: #4c72b0; fill-opacity: 0.8; stroke: #4c72b0; stroke-opacity: 0.8\"/>\n     <use xlink:href=\"#me132058242\" x=\"342.708882\" y=\"194.258896\" style=\"fill: #4c72b0; fill-opacity: 0.8; stroke: #4c72b0; stroke-opacity: 0.8\"/>\n     <use xlink:href=\"#me132058242\" x=\"342.708882\" y=\"191.314563\" style=\"fill: #4c72b0; fill-opacity: 0.8; stroke: #4c72b0; stroke-opacity: 0.8\"/>\n     <use xlink:href=\"#me132058242\" x=\"222.412778\" y=\"181.720943\" style=\"fill: #4c72b0; fill-opacity: 0.8; stroke: #4c72b0; stroke-opacity: 0.8\"/>\n     <use xlink:href=\"#me132058242\" x=\"222.412778\" y=\"180.150632\" style=\"fill: #4c72b0; fill-opacity: 0.8; stroke: #4c72b0; stroke-opacity: 0.8\"/>\n     <use xlink:href=\"#me132058242\" x=\"77.477713\" y=\"166.066904\" style=\"fill: #4c72b0; fill-opacity: 0.8; stroke: #4c72b0; stroke-opacity: 0.8\"/>\n     <use xlink:href=\"#me132058242\" x=\"222.412778\" y=\"163.76051\" style=\"fill: #4c72b0; fill-opacity: 0.8; stroke: #4c72b0; stroke-opacity: 0.8\"/>\n     <use xlink:href=\"#me132058242\" x=\"222.412778\" y=\"150.805443\" style=\"fill: #4c72b0; fill-opacity: 0.8; stroke: #4c72b0; stroke-opacity: 0.8\"/>\n     <use xlink:href=\"#me132058242\" x=\"222.412778\" y=\"148.499049\" style=\"fill: #4c72b0; fill-opacity: 0.8; stroke: #4c72b0; stroke-opacity: 0.8\"/>\n     <use xlink:href=\"#me132058242\" x=\"119.508882\" y=\"214.756364\" style=\"fill: #4c72b0; fill-opacity: 0.8; stroke: #4c72b0; stroke-opacity: 0.8\"/>\n     <use xlink:href=\"#me132058242\" x=\"160.0907\" y=\"205.260889\" style=\"fill: #4c72b0; fill-opacity: 0.8; stroke: #4c72b0; stroke-opacity: 0.8\"/>\n     <use xlink:href=\"#me132058242\" x=\"160.0907\" y=\"202.561916\" style=\"fill: #4c72b0; fill-opacity: 0.8; stroke: #4c72b0; stroke-opacity: 0.8\"/>\n     <use xlink:href=\"#me132058242\" x=\"160.0907\" y=\"204.902661\" style=\"fill: #4c72b0; fill-opacity: 0.8; stroke: #4c72b0; stroke-opacity: 0.8\"/>\n     <use xlink:href=\"#me132058242\" x=\"160.0907\" y=\"201.717874\" style=\"fill: #4c72b0; fill-opacity: 0.8; stroke: #4c72b0; stroke-opacity: 0.8\"/>\n     <use xlink:href=\"#me132058242\" x=\"160.0907\" y=\"190.995593\" style=\"fill: #4c72b0; fill-opacity: 0.8; stroke: #4c72b0; stroke-opacity: 0.8\"/>\n     <use xlink:href=\"#me132058242\" x=\"160.0907\" y=\"194.563144\" style=\"fill: #4c72b0; fill-opacity: 0.8; stroke: #4c72b0; stroke-opacity: 0.8\"/>\n     <use xlink:href=\"#me132058242\" x=\"160.0907\" y=\"184.621112\" style=\"fill: #4c72b0; fill-opacity: 0.8; stroke: #4c72b0; stroke-opacity: 0.8\"/>\n     <use xlink:href=\"#me132058242\" x=\"160.0907\" y=\"203.248927\" style=\"fill: #4c72b0; fill-opacity: 0.8; stroke: #4c72b0; stroke-opacity: 0.8\"/>\n     <use xlink:href=\"#me132058242\" x=\"160.0907\" y=\"189.827675\" style=\"fill: #4c72b0; fill-opacity: 0.8; stroke: #4c72b0; stroke-opacity: 0.8\"/>\n     <use xlink:href=\"#me132058242\" x=\"160.0907\" y=\"200.549955\" style=\"fill: #4c72b0; fill-opacity: 0.8; stroke: #4c72b0; stroke-opacity: 0.8\"/>\n     <use xlink:href=\"#me132058242\" x=\"160.0907\" y=\"182.48647\" style=\"fill: #4c72b0; fill-opacity: 0.8; stroke: #4c72b0; stroke-opacity: 0.8\"/>\n     <use xlink:href=\"#me132058242\" x=\"216.615375\" y=\"213.627703\" style=\"fill: #4c72b0; fill-opacity: 0.8; stroke: #4c72b0; stroke-opacity: 0.8\"/>\n     <use xlink:href=\"#me132058242\" x=\"216.615375\" y=\"208.769552\" style=\"fill: #4c72b0; fill-opacity: 0.8; stroke: #4c72b0; stroke-opacity: 0.8\"/>\n     <use xlink:href=\"#me132058242\" x=\"216.615375\" y=\"208.033469\" style=\"fill: #4c72b0; fill-opacity: 0.8; stroke: #4c72b0; stroke-opacity: 0.8\"/>\n     <use xlink:href=\"#me132058242\" x=\"216.615375\" y=\"205.923364\" style=\"fill: #4c72b0; fill-opacity: 0.8; stroke: #4c72b0; stroke-opacity: 0.8\"/>\n     <use xlink:href=\"#me132058242\" x=\"216.615375\" y=\"201.114286\" style=\"fill: #4c72b0; fill-opacity: 0.8; stroke: #4c72b0; stroke-opacity: 0.8\"/>\n     <use xlink:href=\"#me132058242\" x=\"216.615375\" y=\"196.79593\" style=\"fill: #4c72b0; fill-opacity: 0.8; stroke: #4c72b0; stroke-opacity: 0.8\"/>\n     <use xlink:href=\"#me132058242\" x=\"216.615375\" y=\"205.825219\" style=\"fill: #4c72b0; fill-opacity: 0.8; stroke: #4c72b0; stroke-opacity: 0.8\"/>\n     <use xlink:href=\"#me132058242\" x=\"216.615375\" y=\"204.549341\" style=\"fill: #4c72b0; fill-opacity: 0.8; stroke: #4c72b0; stroke-opacity: 0.8\"/>\n     <use xlink:href=\"#me132058242\" x=\"262.994596\" y=\"201.114286\" style=\"fill: #4c72b0; fill-opacity: 0.8; stroke: #4c72b0; stroke-opacity: 0.8\"/>\n     <use xlink:href=\"#me132058242\" x=\"262.994596\" y=\"201.65408\" style=\"fill: #4c72b0; fill-opacity: 0.8; stroke: #4c72b0; stroke-opacity: 0.8\"/>\n     <use xlink:href=\"#me132058242\" x=\"216.615375\" y=\"201.899441\" style=\"fill: #4c72b0; fill-opacity: 0.8; stroke: #4c72b0; stroke-opacity: 0.8\"/>\n     <use xlink:href=\"#me132058242\" x=\"216.615375\" y=\"198.856963\" style=\"fill: #4c72b0; fill-opacity: 0.8; stroke: #4c72b0; stroke-opacity: 0.8\"/>\n     <use xlink:href=\"#me132058242\" x=\"216.615375\" y=\"194.440463\" style=\"fill: #4c72b0; fill-opacity: 0.8; stroke: #4c72b0; stroke-opacity: 0.8\"/>\n     <use xlink:href=\"#me132058242\" x=\"216.615375\" y=\"200.32913\" style=\"fill: #4c72b0; fill-opacity: 0.8; stroke: #4c72b0; stroke-opacity: 0.8\"/>\n     <use xlink:href=\"#me132058242\" x=\"216.615375\" y=\"199.44583\" style=\"fill: #4c72b0; fill-opacity: 0.8; stroke: #4c72b0; stroke-opacity: 0.8\"/>\n     <use xlink:href=\"#me132058242\" x=\"223.862129\" y=\"194.244175\" style=\"fill: #4c72b0; fill-opacity: 0.8; stroke: #4c72b0; stroke-opacity: 0.8\"/>\n     <use xlink:href=\"#me132058242\" x=\"223.862129\" y=\"193.066441\" style=\"fill: #4c72b0; fill-opacity: 0.8; stroke: #4c72b0; stroke-opacity: 0.8\"/>\n     <use xlink:href=\"#me132058242\" x=\"284.734856\" y=\"198.410406\" style=\"fill: #4c72b0; fill-opacity: 0.8; stroke: #4c72b0; stroke-opacity: 0.8\"/>\n     <use xlink:href=\"#me132058242\" x=\"284.734856\" y=\"192.570812\" style=\"fill: #4c72b0; fill-opacity: 0.8; stroke: #4c72b0; stroke-opacity: 0.8\"/>\n     <use xlink:href=\"#me132058242\" x=\"284.734856\" y=\"190.853284\" style=\"fill: #4c72b0; fill-opacity: 0.8; stroke: #4c72b0; stroke-opacity: 0.8\"/>\n     <use xlink:href=\"#me132058242\" x=\"284.734856\" y=\"184.915545\" style=\"fill: #4c72b0; fill-opacity: 0.8; stroke: #4c72b0; stroke-opacity: 0.8\"/>\n     <use xlink:href=\"#me132058242\" x=\"284.734856\" y=\"183.198017\" style=\"fill: #4c72b0; fill-opacity: 0.8; stroke: #4c72b0; stroke-opacity: 0.8\"/>\n     <use xlink:href=\"#me132058242\" x=\"284.734856\" y=\"153.165817\" style=\"fill: #4c72b0; fill-opacity: 0.8; stroke: #4c72b0; stroke-opacity: 0.8\"/>\n     <use xlink:href=\"#me132058242\" x=\"290.532259\" y=\"195.961702\" style=\"fill: #4c72b0; fill-opacity: 0.8; stroke: #4c72b0; stroke-opacity: 0.8\"/>\n     <use xlink:href=\"#me132058242\" x=\"262.994596\" y=\"187.374063\" style=\"fill: #4c72b0; fill-opacity: 0.8; stroke: #4c72b0; stroke-opacity: 0.8\"/>\n     <use xlink:href=\"#me132058242\" x=\"290.532259\" y=\"190.858191\" style=\"fill: #4c72b0; fill-opacity: 0.8; stroke: #4c72b0; stroke-opacity: 0.8\"/>\n     <use xlink:href=\"#me132058242\" x=\"290.532259\" y=\"186.392619\" style=\"fill: #4c72b0; fill-opacity: 0.8; stroke: #4c72b0; stroke-opacity: 0.8\"/>\n     <use xlink:href=\"#me132058242\" x=\"290.532259\" y=\"184.675091\" style=\"fill: #4c72b0; fill-opacity: 0.8; stroke: #4c72b0; stroke-opacity: 0.8\"/>\n     <use xlink:href=\"#me132058242\" x=\"262.994596\" y=\"158.617741\" style=\"fill: #4c72b0; fill-opacity: 0.8; stroke: #4c72b0; stroke-opacity: 0.8\"/>\n     <use xlink:href=\"#me132058242\" x=\"262.994596\" y=\"161.365785\" style=\"fill: #4c72b0; fill-opacity: 0.8; stroke: #4c72b0; stroke-opacity: 0.8\"/>\n     <use xlink:href=\"#me132058242\" x=\"262.994596\" y=\"162.87721\" style=\"fill: #4c72b0; fill-opacity: 0.8; stroke: #4c72b0; stroke-opacity: 0.8\"/>\n     <use xlink:href=\"#me132058242\" x=\"262.994596\" y=\"162.582777\" style=\"fill: #4c72b0; fill-opacity: 0.8; stroke: #4c72b0; stroke-opacity: 0.8\"/>\n     <use xlink:href=\"#me132058242\" x=\"270.241349\" y=\"201.717874\" style=\"fill: #4c72b0; fill-opacity: 0.8; stroke: #4c72b0; stroke-opacity: 0.8\"/>\n     <use xlink:href=\"#me132058242\" x=\"270.241349\" y=\"200.73643\" style=\"fill: #4c72b0; fill-opacity: 0.8; stroke: #4c72b0; stroke-opacity: 0.8\"/>\n     <use xlink:href=\"#me132058242\" x=\"270.241349\" y=\"200.638285\" style=\"fill: #4c72b0; fill-opacity: 0.8; stroke: #4c72b0; stroke-opacity: 0.8\"/>\n     <use xlink:href=\"#me132058242\" x=\"270.241349\" y=\"199.656841\" style=\"fill: #4c72b0; fill-opacity: 0.8; stroke: #4c72b0; stroke-opacity: 0.8\"/>\n     <use xlink:href=\"#me132058242\" x=\"270.241349\" y=\"198.184674\" style=\"fill: #4c72b0; fill-opacity: 0.8; stroke: #4c72b0; stroke-opacity: 0.8\"/>\n     <use xlink:href=\"#me132058242\" x=\"270.241349\" y=\"193.277452\" style=\"fill: #4c72b0; fill-opacity: 0.8; stroke: #4c72b0; stroke-opacity: 0.8\"/>\n     <use xlink:href=\"#me132058242\" x=\"270.241349\" y=\"190.823841\" style=\"fill: #4c72b0; fill-opacity: 0.8; stroke: #4c72b0; stroke-opacity: 0.8\"/>\n     <use xlink:href=\"#me132058242\" x=\"270.241349\" y=\"182.972285\" style=\"fill: #4c72b0; fill-opacity: 0.8; stroke: #4c72b0; stroke-opacity: 0.8\"/>\n     <use xlink:href=\"#me132058242\" x=\"270.241349\" y=\"190.897449\" style=\"fill: #4c72b0; fill-opacity: 0.8; stroke: #4c72b0; stroke-opacity: 0.8\"/>\n     <use xlink:href=\"#me132058242\" x=\"270.241349\" y=\"174.630007\" style=\"fill: #4c72b0; fill-opacity: 0.8; stroke: #4c72b0; stroke-opacity: 0.8\"/>\n     <use xlink:href=\"#me132058242\" x=\"270.241349\" y=\"171.931035\" style=\"fill: #4c72b0; fill-opacity: 0.8; stroke: #4c72b0; stroke-opacity: 0.8\"/>\n     <use xlink:href=\"#me132058242\" x=\"270.241349\" y=\"179.561766\" style=\"fill: #4c72b0; fill-opacity: 0.8; stroke: #4c72b0; stroke-opacity: 0.8\"/>\n     <use xlink:href=\"#me132058242\" x=\"234.007583\" y=\"176.372071\" style=\"fill: #4c72b0; fill-opacity: 0.8; stroke: #4c72b0; stroke-opacity: 0.8\"/>\n     <use xlink:href=\"#me132058242\" x=\"234.007583\" y=\"174.041141\" style=\"fill: #4c72b0; fill-opacity: 0.8; stroke: #4c72b0; stroke-opacity: 0.8\"/>\n     <use xlink:href=\"#me132058242\" x=\"234.007583\" y=\"161.429579\" style=\"fill: #4c72b0; fill-opacity: 0.8; stroke: #4c72b0; stroke-opacity: 0.8\"/>\n     <use xlink:href=\"#me132058242\" x=\"234.007583\" y=\"158.828751\" style=\"fill: #4c72b0; fill-opacity: 0.8; stroke: #4c72b0; stroke-opacity: 0.8\"/>\n     <use xlink:href=\"#me132058242\" x=\"234.007583\" y=\"149.480493\" style=\"fill: #4c72b0; fill-opacity: 0.8; stroke: #4c72b0; stroke-opacity: 0.8\"/>\n     <use xlink:href=\"#me132058242\" x=\"234.007583\" y=\"146.879665\" style=\"fill: #4c72b0; fill-opacity: 0.8; stroke: #4c72b0; stroke-opacity: 0.8\"/>\n     <use xlink:href=\"#me132058242\" x=\"234.007583\" y=\"157.209368\" style=\"fill: #4c72b0; fill-opacity: 0.8; stroke: #4c72b0; stroke-opacity: 0.8\"/>\n     <use xlink:href=\"#me132058242\" x=\"234.007583\" y=\"146.413479\" style=\"fill: #4c72b0; fill-opacity: 0.8; stroke: #4c72b0; stroke-opacity: 0.8\"/>\n     <use xlink:href=\"#me132058242\" x=\"193.425765\" y=\"134.439857\" style=\"fill: #4c72b0; fill-opacity: 0.8; stroke: #4c72b0; stroke-opacity: 0.8\"/>\n     <use xlink:href=\"#me132058242\" x=\"270.241349\" y=\"129.606243\" style=\"fill: #4c72b0; fill-opacity: 0.8; stroke: #4c72b0; stroke-opacity: 0.8\"/>\n     <use xlink:href=\"#me132058242\" x=\"234.007583\" y=\"128.845623\" style=\"fill: #4c72b0; fill-opacity: 0.8; stroke: #4c72b0; stroke-opacity: 0.8\"/>\n    </g>\n   </g>\n   <g id=\"PolyCollection_1\">\n    <defs>\n     <path id=\"m63fe43b18a\" d=\"M 77.477713 -100.096215 \nL 77.477713 -57.222659 \nL 80.552093 -57.830297 \nL 83.626473 -58.471848 \nL 86.700854 -59.113399 \nL 89.775234 -59.754951 \nL 92.849614 -60.396502 \nL 95.923994 -61.038053 \nL 98.998374 -61.586461 \nL 102.072754 -62.078131 \nL 105.147135 -62.569801 \nL 108.221515 -63.061524 \nL 111.295895 -63.659669 \nL 114.370275 -64.269541 \nL 117.444655 -64.75257 \nL 120.519035 -65.28289 \nL 123.593416 -65.856268 \nL 126.667796 -66.429646 \nL 129.742176 -67.003095 \nL 132.816556 -67.579268 \nL 135.890936 -68.155441 \nL 138.965316 -68.731614 \nL 142.039697 -69.307787 \nL 145.114077 -69.883959 \nL 148.188457 -70.460132 \nL 151.262837 -71.036305 \nL 154.337217 -71.612478 \nL 157.411597 -72.189248 \nL 160.485978 -72.751239 \nL 163.560358 -73.340997 \nL 166.634738 -73.917942 \nL 169.709118 -74.530283 \nL 172.783498 -75.107005 \nL 175.857878 -75.65126 \nL 178.932259 -76.222779 \nL 182.006639 -76.750221 \nL 185.081019 -77.280646 \nL 188.155399 -77.819495 \nL 191.229779 -78.343058 \nL 194.304159 -78.838791 \nL 197.37854 -79.453331 \nL 200.45292 -80.030918 \nL 203.5273 -80.544925 \nL 206.60168 -81.08539 \nL 209.67606 -81.582546 \nL 212.75044 -81.969787 \nL 215.824821 -82.428858 \nL 218.899201 -82.780565 \nL 221.973581 -83.129971 \nL 225.047961 -83.511308 \nL 228.122341 -83.860754 \nL 231.196721 -84.259772 \nL 234.271101 -84.641441 \nL 237.345482 -84.877279 \nL 240.419862 -85.149614 \nL 243.494242 -85.431462 \nL 246.568622 -85.631922 \nL 249.643002 -85.695757 \nL 252.717382 -85.984864 \nL 255.791763 -86.366859 \nL 258.866143 -86.539583 \nL 261.940523 -86.692024 \nL 265.014903 -86.808327 \nL 268.089283 -86.829921 \nL 271.163663 -86.809769 \nL 274.238044 -86.767656 \nL 277.312424 -86.762196 \nL 280.386804 -86.803413 \nL 283.461184 -86.766301 \nL 286.535564 -86.824608 \nL 289.609944 -86.794023 \nL 292.684325 -86.830219 \nL 295.758705 -86.91647 \nL 298.833085 -86.990043 \nL 301.907465 -86.861491 \nL 304.981845 -86.68095 \nL 308.056225 -86.56528 \nL 311.130606 -86.397518 \nL 314.204986 -86.328371 \nL 317.279366 -86.222487 \nL 320.353746 -86.147535 \nL 323.428126 -86.13708 \nL 326.502506 -86.013367 \nL 329.576887 -85.889653 \nL 332.651267 -85.768087 \nL 335.725647 -85.650048 \nL 338.800027 -85.573911 \nL 341.874407 -85.45037 \nL 344.948787 -85.290195 \nL 348.023168 -85.168731 \nL 351.097548 -85.067661 \nL 354.171928 -84.96683 \nL 357.246308 -84.899847 \nL 360.320688 -84.786713 \nL 363.395068 -84.670205 \nL 366.469449 -84.554304 \nL 369.543829 -84.437848 \nL 372.618209 -84.201205 \nL 375.692589 -84.080284 \nL 378.766969 -83.969041 \nL 381.841349 -83.837972 \nL 381.841349 -118.660425 \nL 381.841349 -118.660425 \nL 378.766969 -118.061219 \nL 375.692589 -117.527181 \nL 372.618209 -116.873079 \nL 369.543829 -116.215407 \nL 366.469449 -115.571343 \nL 363.395068 -114.902534 \nL 360.320688 -114.326309 \nL 357.246308 -113.750553 \nL 354.171928 -113.148278 \nL 351.097548 -112.557663 \nL 348.023168 -112.075868 \nL 344.948787 -111.452315 \nL 341.874407 -110.911366 \nL 338.800027 -110.303899 \nL 335.725647 -109.686694 \nL 332.651267 -109.075803 \nL 329.576887 -108.50628 \nL 326.502506 -108.001245 \nL 323.428126 -107.334764 \nL 320.353746 -106.851482 \nL 317.279366 -106.32969 \nL 314.204986 -105.858047 \nL 311.130606 -105.360198 \nL 308.056225 -104.907604 \nL 304.981845 -104.416345 \nL 301.907465 -103.94016 \nL 298.833085 -103.381302 \nL 295.758705 -102.956723 \nL 292.684325 -102.417292 \nL 289.609944 -101.890846 \nL 286.535564 -101.385604 \nL 283.461184 -101.004341 \nL 280.386804 -100.631408 \nL 277.312424 -100.21001 \nL 274.238044 -99.717047 \nL 271.163663 -99.244977 \nL 268.089283 -98.953829 \nL 265.014903 -98.672436 \nL 261.940523 -98.308229 \nL 258.866143 -97.878258 \nL 255.791763 -97.606738 \nL 252.717382 -97.241598 \nL 249.643002 -96.741092 \nL 246.568622 -96.471235 \nL 243.494242 -96.262835 \nL 240.419862 -96.0655 \nL 237.345482 -95.9328 \nL 234.271101 -95.783573 \nL 231.196721 -95.687686 \nL 228.122341 -95.519514 \nL 225.047961 -95.51206 \nL 221.973581 -95.3618 \nL 218.899201 -95.475877 \nL 215.824821 -95.435121 \nL 212.75044 -95.486734 \nL 209.67606 -95.449127 \nL 206.60168 -95.403728 \nL 203.5273 -95.465935 \nL 200.45292 -95.549562 \nL 197.37854 -95.595655 \nL 194.304159 -95.577088 \nL 191.229779 -95.749027 \nL 188.155399 -95.854297 \nL 185.081019 -96.044874 \nL 182.006639 -96.046457 \nL 178.932259 -96.071509 \nL 175.857878 -96.378089 \nL 172.783498 -96.477307 \nL 169.709118 -96.423365 \nL 166.634738 -96.643359 \nL 163.560358 -96.630075 \nL 160.485978 -96.665305 \nL 157.411597 -96.727759 \nL 154.337217 -96.855727 \nL 151.262837 -96.979971 \nL 148.188457 -97.050507 \nL 145.114077 -97.017376 \nL 142.039697 -96.984246 \nL 138.965316 -97.027208 \nL 135.890936 -97.101877 \nL 132.816556 -97.176546 \nL 129.742176 -97.284301 \nL 126.667796 -97.495399 \nL 123.593416 -97.714395 \nL 120.519035 -97.933392 \nL 117.444655 -98.152388 \nL 114.370275 -98.371385 \nL 111.295895 -98.590382 \nL 108.221515 -98.748109 \nL 105.147135 -98.876859 \nL 102.072754 -99.00561 \nL 98.998374 -99.13226 \nL 95.923994 -99.274573 \nL 92.849614 -99.409313 \nL 89.775234 -99.510143 \nL 86.700854 -99.638974 \nL 83.626473 -99.767804 \nL 80.552093 -99.914024 \nL 77.477713 -100.096215 \nz\n\" style=\"stroke: #ffffff; stroke-opacity: 0.15\"/>\n    </defs>\n    <g clip-path=\"url(#p5e32b6e988)\">\n     <use xlink:href=\"#m63fe43b18a\" x=\"0\" y=\"266.374219\" style=\"fill: #4c72b0; fill-opacity: 0.15; stroke: #ffffff; stroke-opacity: 0.15\"/>\n    </g>\n   </g>\n   <g id=\"line2d_15\">\n    <path d=\"M 77.477713 187.091028 \nL 80.552093 186.875701 \nL 83.626473 186.660373 \nL 86.700854 186.445045 \nL 89.775234 186.229717 \nL 92.849614 186.014389 \nL 95.923994 185.799061 \nL 98.998374 185.583733 \nL 102.072754 185.368405 \nL 105.147135 185.153077 \nL 108.221515 184.937749 \nL 111.295895 184.722421 \nL 114.370275 184.507093 \nL 117.444655 184.291765 \nL 120.519035 184.076437 \nL 123.593416 183.861109 \nL 126.667796 183.645781 \nL 129.742176 183.430453 \nL 132.816556 183.215125 \nL 135.890936 182.999797 \nL 138.965316 182.784469 \nL 142.039697 182.569141 \nL 145.114077 182.353813 \nL 148.188457 182.138485 \nL 151.262837 181.923157 \nL 154.337217 181.70783 \nL 157.411597 181.492502 \nL 160.485978 181.277174 \nL 163.560358 181.061846 \nL 166.634738 180.846518 \nL 169.709118 180.63119 \nL 172.783498 180.415862 \nL 175.857878 180.200534 \nL 178.932259 179.985206 \nL 182.006639 179.769878 \nL 185.081019 179.55455 \nL 188.155399 179.339222 \nL 191.229779 179.123894 \nL 194.304159 178.908566 \nL 197.37854 178.693238 \nL 200.45292 178.47791 \nL 203.5273 178.262582 \nL 206.60168 178.047254 \nL 209.67606 177.831926 \nL 212.75044 177.616598 \nL 215.824821 177.40127 \nL 218.899201 177.185942 \nL 221.973581 176.970614 \nL 225.047961 176.755286 \nL 228.122341 176.539959 \nL 231.196721 176.324631 \nL 234.271101 176.109303 \nL 237.345482 175.893975 \nL 240.419862 175.678647 \nL 243.494242 175.463319 \nL 246.568622 175.247991 \nL 249.643002 175.032663 \nL 252.717382 174.817335 \nL 255.791763 174.602007 \nL 258.866143 174.386679 \nL 261.940523 174.171351 \nL 265.014903 173.956023 \nL 268.089283 173.740695 \nL 271.163663 173.525367 \nL 274.238044 173.310039 \nL 277.312424 173.094711 \nL 280.386804 172.879383 \nL 283.461184 172.664055 \nL 286.535564 172.448727 \nL 289.609944 172.233399 \nL 292.684325 172.018071 \nL 295.758705 171.802743 \nL 298.833085 171.587415 \nL 301.907465 171.372088 \nL 304.981845 171.15676 \nL 308.056225 170.941432 \nL 311.130606 170.726104 \nL 314.204986 170.510776 \nL 317.279366 170.295448 \nL 320.353746 170.08012 \nL 323.428126 169.864792 \nL 326.502506 169.649464 \nL 329.576887 169.434136 \nL 332.651267 169.218808 \nL 335.725647 169.00348 \nL 338.800027 168.788152 \nL 341.874407 168.572824 \nL 344.948787 168.357496 \nL 348.023168 168.142168 \nL 351.097548 167.92684 \nL 354.171928 167.711512 \nL 357.246308 167.496184 \nL 360.320688 167.280856 \nL 363.395068 167.065528 \nL 366.469449 166.8502 \nL 369.543829 166.634872 \nL 372.618209 166.419544 \nL 375.692589 166.204217 \nL 378.766969 165.988889 \nL 381.841349 165.773561 \n\" clip-path=\"url(#p5e32b6e988)\" style=\"fill: none; stroke: #4c72b0; stroke-width: 2.25; stroke-linecap: round\"/>\n   </g>\n   <g id=\"patch_3\">\n    <path d=\"M 62.259531 224.64 \nL 62.259531 7.2 \n\" style=\"fill: none; stroke: #cccccc; stroke-width: 1.25; stroke-linejoin: miter; stroke-linecap: square\"/>\n   </g>\n   <g id=\"patch_4\">\n    <path d=\"M 397.059531 224.64 \nL 397.059531 7.2 \n\" style=\"fill: none; stroke: #cccccc; stroke-width: 1.25; stroke-linejoin: miter; stroke-linecap: square\"/>\n   </g>\n   <g id=\"patch_5\">\n    <path d=\"M 62.259531 224.64 \nL 397.059531 224.64 \n\" style=\"fill: none; stroke: #cccccc; stroke-width: 1.25; stroke-linejoin: miter; stroke-linecap: square\"/>\n   </g>\n   <g id=\"patch_6\">\n    <path d=\"M 62.259531 7.2 \nL 397.059531 7.2 \n\" style=\"fill: none; stroke: #cccccc; stroke-width: 1.25; stroke-linejoin: miter; stroke-linecap: square\"/>\n   </g>\n  </g>\n </g>\n <defs>\n  <clipPath id=\"p5e32b6e988\">\n   <rect x=\"62.259531\" y=\"7.2\" width=\"334.8\" height=\"217.44\"/>\n  </clipPath>\n </defs>\n</svg>\n",
      "text/plain": [
       "<Figure size 432x288 with 1 Axes>"
      ]
     },
     "metadata": {},
     "output_type": "display_data"
    }
   ],
   "source": [
    "# Escribe tu código aquí y presiona Shift+Enter para ejecutar\n",
    "sns.set(style=\"whitegrid\")\n",
    "sns.regplot(x=\"stroke\", y=\"price\", data=df)"
   ]
  },
  {
   "cell_type": "markdown",
   "metadata": {
    "application/vnd.databricks.v1+cell": {
     "inputWidgets": {},
     "nuid": "4236d923-245b-449a-96ca-62f0171cb59e",
     "showTitle": false,
     "title": ""
    }
   },
   "source": [
    "Haz doble clic <b>aquí</b> para ver la solución.\n",
    "\n",
    "<!-- Respuesta:\n",
    "\n",
    "sns.set(style=\"whitegrid\")\n",
    "sns.regplot(x=\"stroke\", y=\"price\", data=df)\n",
    "\n",
    "-->"
   ]
  },
  {
   "cell_type": "markdown",
   "metadata": {
    "application/vnd.databricks.v1+cell": {
     "inputWidgets": {},
     "nuid": "f8d49895-45d2-4832-94e4-21503a8c5eaf",
     "showTitle": false,
     "title": ""
    }
   },
   "source": [
    "<h3>Graficar las estadísticas</h3>"
   ]
  },
  {
   "cell_type": "markdown",
   "metadata": {
    "application/vnd.databricks.v1+cell": {
     "inputWidgets": {},
     "nuid": "04b725ed-3c30-4ea2-bf8e-d216ebf17199",
     "showTitle": false,
     "title": ""
    }
   },
   "source": [
    "Podemos identificar la simentría de los datos utilizando gráficos de histograma:"
   ]
  },
  {
   "cell_type": "code",
   "execution_count": 30,
   "metadata": {
    "application/vnd.databricks.v1+cell": {
     "inputWidgets": {},
     "nuid": "636fb9fa-8f20-4119-b0f3-ba6561a3de61",
     "showTitle": false,
     "title": ""
    }
   },
   "outputs": [
    {
     "data": {
      "text/plain": [
       "<AxesSubplot:xlabel='length', ylabel='Count'>"
      ]
     },
     "execution_count": 30,
     "metadata": {},
     "output_type": "execute_result"
    },
    {
     "data": {
      "image/png": "[encoded data removed]",
      "image/svg+xml": "<?xml version=\"1.0\" encoding=\"utf-8\" standalone=\"no\"?>\n<!DOCTYPE svg PUBLIC \"-//W3C//DTD SVG 1.1//EN\"\n  \"http://www.w3.org/Graphics/SVG/1.1/DTD/svg11.dtd\">\n<svg xmlns:xlink=\"http://www.w3.org/1999/xlink\" width=\"388.49701pt\" height=\"266.514844pt\" viewBox=\"0 0 388.49701 266.514844\" xmlns=\"http://www.w3.org/2000/svg\" version=\"1.1\">\n <metadata>\n  <rdf:RDF xmlns:dc=\"http://purl.org/dc/elements/1.1/\" xmlns:cc=\"http://creativecommons.org/ns#\" xmlns:rdf=\"http://www.w3.org/1999/02/22-rdf-syntax-ns#\">\n   <cc:Work>\n    <dc:type rdf:resource=\"http://purl.org/dc/dcmitype/StillImage\"/>\n    <dc:date>2022-02-07T12:59:11.307970</dc:date>\n    <dc:format>image/svg+xml</dc:format>\n    <dc:creator>\n     <cc:Agent>\n      <dc:title>Matplotlib v3.5.0, https://matplotlib.org/</dc:title>\n     </cc:Agent>\n    </dc:creator>\n   </cc:Work>\n  </rdf:RDF>\n </metadata>\n <defs>\n  <style type=\"text/css\">*{stroke-linejoin: round; stroke-linecap: butt}</style>\n </defs>\n <g id=\"figure_1\">\n  <g id=\"patch_1\">\n   <path d=\"M 0 266.514844 \nL 388.49701 266.514844 \nL 388.49701 0 \nL 0 0 \nz\n\" style=\"fill: #ffffff\"/>\n  </g>\n  <g id=\"axes_1\">\n   <g id=\"patch_2\">\n    <path d=\"M 43.908438 224.64 \nL 378.708438 224.64 \nL 378.708438 7.2 \nL 43.908438 7.2 \nz\n\" style=\"fill: #ffffff\"/>\n   </g>\n   <g id=\"matplotlib.axis_1\">\n    <g id=\"xtick_1\">\n     <g id=\"line2d_1\">\n      <path d=\"M 54.129604 224.64 \nL 54.129604 7.2 \n\" clip-path=\"url(#pf42556e55d)\" style=\"fill: none; stroke: #cccccc; stroke-linecap: round\"/>\n     </g>\n     <g id=\"text_1\">\n      <!-- 140 -->\n      <g style=\"fill: #262626\" transform=\"translate(44.954058 242.013594)scale(0.11 -0.11)\">\n       <defs>\n        <path id=\"ArialMT-31\" d=\"M 2384 0 \nL 1822 0 \nL 1822 3584 \nQ 1619 3391 1289 3197 \nQ 959 3003 697 2906 \nL 697 3450 \nQ 1169 3672 1522 3987 \nQ 1875 4303 2022 4600 \nL 2384 4600 \nL 2384 0 \nz\n\" transform=\"scale(0.015625)\"/>\n        <path id=\"ArialMT-34\" d=\"M 2069 0 \nL 2069 1097 \nL 81 1097 \nL 81 1613 \nL 2172 4581 \nL 2631 4581 \nL 2631 1613 \nL 3250 1613 \nL 3250 1097 \nL 2631 1097 \nL 2631 0 \nL 2069 0 \nz\nM 2069 1613 \nL 2069 3678 \nL 634 1613 \nL 2069 1613 \nz\n\" transform=\"scale(0.015625)\"/>\n        <path id=\"ArialMT-30\" d=\"M 266 2259 \nQ 266 3072 433 3567 \nQ 600 4063 929 4331 \nQ 1259 4600 1759 4600 \nQ 2128 4600 2406 4451 \nQ 2684 4303 2865 4023 \nQ 3047 3744 3150 3342 \nQ 3253 2941 3253 2259 \nQ 3253 1453 3087 958 \nQ 2922 463 2592 192 \nQ 2263 -78 1759 -78 \nQ 1097 -78 719 397 \nQ 266 969 266 2259 \nz\nM 844 2259 \nQ 844 1131 1108 757 \nQ 1372 384 1759 384 \nQ 2147 384 2411 759 \nQ 2675 1134 2675 2259 \nQ 2675 3391 2411 3762 \nQ 2147 4134 1753 4134 \nQ 1366 4134 1134 3806 \nQ 844 3388 844 2259 \nz\n\" transform=\"scale(0.015625)\"/>\n       </defs>\n       <use xlink:href=\"#ArialMT-31\"/>\n       <use xlink:href=\"#ArialMT-34\" x=\"55.615234\"/>\n       <use xlink:href=\"#ArialMT-30\" x=\"111.230469\"/>\n      </g>\n     </g>\n    </g>\n    <g id=\"xtick_2\">\n     <g id=\"line2d_2\">\n      <path d=\"M 99.557013 224.64 \nL 99.557013 7.2 \n\" clip-path=\"url(#pf42556e55d)\" style=\"fill: none; stroke: #cccccc; stroke-linecap: round\"/>\n     </g>\n     <g id=\"text_2\">\n      <!-- 150 -->\n      <g style=\"fill: #262626\" transform=\"translate(90.381466 242.013594)scale(0.11 -0.11)\">\n       <defs>\n        <path id=\"ArialMT-35\" d=\"M 266 1200 \nL 856 1250 \nQ 922 819 1161 601 \nQ 1400 384 1738 384 \nQ 2144 384 2425 690 \nQ 2706 997 2706 1503 \nQ 2706 1984 2436 2262 \nQ 2166 2541 1728 2541 \nQ 1456 2541 1237 2417 \nQ 1019 2294 894 2097 \nL 366 2166 \nL 809 4519 \nL 3088 4519 \nL 3088 3981 \nL 1259 3981 \nL 1013 2750 \nQ 1425 3038 1878 3038 \nQ 2478 3038 2890 2622 \nQ 3303 2206 3303 1553 \nQ 3303 931 2941 478 \nQ 2500 -78 1738 -78 \nQ 1113 -78 717 272 \nQ 322 622 266 1200 \nz\n\" transform=\"scale(0.015625)\"/>\n       </defs>\n       <use xlink:href=\"#ArialMT-31\"/>\n       <use xlink:href=\"#ArialMT-35\" x=\"55.615234\"/>\n       <use xlink:href=\"#ArialMT-30\" x=\"111.230469\"/>\n      </g>\n     </g>\n    </g>\n    <g id=\"xtick_3\">\n     <g id=\"line2d_3\">\n      <path d=\"M 144.984421 224.64 \nL 144.984421 7.2 \n\" clip-path=\"url(#pf42556e55d)\" style=\"fill: none; stroke: #cccccc; stroke-linecap: round\"/>\n     </g>\n     <g id=\"text_3\">\n      <!-- 160 -->\n      <g style=\"fill: #262626\" transform=\"translate(135.808874 242.013594)scale(0.11 -0.11)\">\n       <defs>\n        <path id=\"ArialMT-36\" d=\"M 3184 3459 \nL 2625 3416 \nQ 2550 3747 2413 3897 \nQ 2184 4138 1850 4138 \nQ 1581 4138 1378 3988 \nQ 1113 3794 959 3422 \nQ 806 3050 800 2363 \nQ 1003 2672 1297 2822 \nQ 1591 2972 1913 2972 \nQ 2475 2972 2870 2558 \nQ 3266 2144 3266 1488 \nQ 3266 1056 3080 686 \nQ 2894 316 2569 119 \nQ 2244 -78 1831 -78 \nQ 1128 -78 684 439 \nQ 241 956 241 2144 \nQ 241 3472 731 4075 \nQ 1159 4600 1884 4600 \nQ 2425 4600 2770 4297 \nQ 3116 3994 3184 3459 \nz\nM 888 1484 \nQ 888 1194 1011 928 \nQ 1134 663 1356 523 \nQ 1578 384 1822 384 \nQ 2178 384 2434 671 \nQ 2691 959 2691 1453 \nQ 2691 1928 2437 2201 \nQ 2184 2475 1800 2475 \nQ 1419 2475 1153 2201 \nQ 888 1928 888 1484 \nz\n\" transform=\"scale(0.015625)\"/>\n       </defs>\n       <use xlink:href=\"#ArialMT-31\"/>\n       <use xlink:href=\"#ArialMT-36\" x=\"55.615234\"/>\n       <use xlink:href=\"#ArialMT-30\" x=\"111.230469\"/>\n      </g>\n     </g>\n    </g>\n    <g id=\"xtick_4\">\n     <g id=\"line2d_4\">\n      <path d=\"M 190.41183 224.64 \nL 190.41183 7.2 \n\" clip-path=\"url(#pf42556e55d)\" style=\"fill: none; stroke: #cccccc; stroke-linecap: round\"/>\n     </g>\n     <g id=\"text_4\">\n      <!-- 170 -->\n      <g style=\"fill: #262626\" transform=\"translate(181.236283 242.013594)scale(0.11 -0.11)\">\n       <defs>\n        <path id=\"ArialMT-37\" d=\"M 303 3981 \nL 303 4522 \nL 3269 4522 \nL 3269 4084 \nQ 2831 3619 2401 2847 \nQ 1972 2075 1738 1259 \nQ 1569 684 1522 0 \nL 944 0 \nQ 953 541 1156 1306 \nQ 1359 2072 1739 2783 \nQ 2119 3494 2547 3981 \nL 303 3981 \nz\n\" transform=\"scale(0.015625)\"/>\n       </defs>\n       <use xlink:href=\"#ArialMT-31\"/>\n       <use xlink:href=\"#ArialMT-37\" x=\"55.615234\"/>\n       <use xlink:href=\"#ArialMT-30\" x=\"111.230469\"/>\n      </g>\n     </g>\n    </g>\n    <g id=\"xtick_5\">\n     <g id=\"line2d_5\">\n      <path d=\"M 235.839238 224.64 \nL 235.839238 7.2 \n\" clip-path=\"url(#pf42556e55d)\" style=\"fill: none; stroke: #cccccc; stroke-linecap: round\"/>\n     </g>\n     <g id=\"text_5\">\n      <!-- 180 -->\n      <g style=\"fill: #262626\" transform=\"translate(226.663691 242.013594)scale(0.11 -0.11)\">\n       <defs>\n        <path id=\"ArialMT-38\" d=\"M 1131 2484 \nQ 781 2613 612 2850 \nQ 444 3088 444 3419 \nQ 444 3919 803 4259 \nQ 1163 4600 1759 4600 \nQ 2359 4600 2725 4251 \nQ 3091 3903 3091 3403 \nQ 3091 3084 2923 2848 \nQ 2756 2613 2416 2484 \nQ 2838 2347 3058 2040 \nQ 3278 1734 3278 1309 \nQ 3278 722 2862 322 \nQ 2447 -78 1769 -78 \nQ 1091 -78 675 323 \nQ 259 725 259 1325 \nQ 259 1772 486 2073 \nQ 713 2375 1131 2484 \nz\nM 1019 3438 \nQ 1019 3113 1228 2906 \nQ 1438 2700 1772 2700 \nQ 2097 2700 2305 2904 \nQ 2513 3109 2513 3406 \nQ 2513 3716 2298 3927 \nQ 2084 4138 1766 4138 \nQ 1444 4138 1231 3931 \nQ 1019 3725 1019 3438 \nz\nM 838 1322 \nQ 838 1081 952 856 \nQ 1066 631 1291 507 \nQ 1516 384 1775 384 \nQ 2178 384 2440 643 \nQ 2703 903 2703 1303 \nQ 2703 1709 2433 1975 \nQ 2163 2241 1756 2241 \nQ 1359 2241 1098 1978 \nQ 838 1716 838 1322 \nz\n\" transform=\"scale(0.015625)\"/>\n       </defs>\n       <use xlink:href=\"#ArialMT-31\"/>\n       <use xlink:href=\"#ArialMT-38\" x=\"55.615234\"/>\n       <use xlink:href=\"#ArialMT-30\" x=\"111.230469\"/>\n      </g>\n     </g>\n    </g>\n    <g id=\"xtick_6\">\n     <g id=\"line2d_6\">\n      <path d=\"M 281.266646 224.64 \nL 281.266646 7.2 \n\" clip-path=\"url(#pf42556e55d)\" style=\"fill: none; stroke: #cccccc; stroke-linecap: round\"/>\n     </g>\n     <g id=\"text_6\">\n      <!-- 190 -->\n      <g style=\"fill: #262626\" transform=\"translate(272.0911 242.013594)scale(0.11 -0.11)\">\n       <defs>\n        <path id=\"ArialMT-39\" d=\"M 350 1059 \nL 891 1109 \nQ 959 728 1153 556 \nQ 1347 384 1650 384 \nQ 1909 384 2104 503 \nQ 2300 622 2425 820 \nQ 2550 1019 2634 1356 \nQ 2719 1694 2719 2044 \nQ 2719 2081 2716 2156 \nQ 2547 1888 2255 1720 \nQ 1963 1553 1622 1553 \nQ 1053 1553 659 1965 \nQ 266 2378 266 3053 \nQ 266 3750 677 4175 \nQ 1088 4600 1706 4600 \nQ 2153 4600 2523 4359 \nQ 2894 4119 3086 3673 \nQ 3278 3228 3278 2384 \nQ 3278 1506 3087 986 \nQ 2897 466 2520 194 \nQ 2144 -78 1638 -78 \nQ 1100 -78 759 220 \nQ 419 519 350 1059 \nz\nM 2653 3081 \nQ 2653 3566 2395 3850 \nQ 2138 4134 1775 4134 \nQ 1400 4134 1122 3828 \nQ 844 3522 844 3034 \nQ 844 2597 1108 2323 \nQ 1372 2050 1759 2050 \nQ 2150 2050 2401 2323 \nQ 2653 2597 2653 3081 \nz\n\" transform=\"scale(0.015625)\"/>\n       </defs>\n       <use xlink:href=\"#ArialMT-31\"/>\n       <use xlink:href=\"#ArialMT-39\" x=\"55.615234\"/>\n       <use xlink:href=\"#ArialMT-30\" x=\"111.230469\"/>\n      </g>\n     </g>\n    </g>\n    <g id=\"xtick_7\">\n     <g id=\"line2d_7\">\n      <path d=\"M 326.694055 224.64 \nL 326.694055 7.2 \n\" clip-path=\"url(#pf42556e55d)\" style=\"fill: none; stroke: #cccccc; stroke-linecap: round\"/>\n     </g>\n     <g id=\"text_7\">\n      <!-- 200 -->\n      <g style=\"fill: #262626\" transform=\"translate(317.518508 242.013594)scale(0.11 -0.11)\">\n       <defs>\n        <path id=\"ArialMT-32\" d=\"M 3222 541 \nL 3222 0 \nL 194 0 \nQ 188 203 259 391 \nQ 375 700 629 1000 \nQ 884 1300 1366 1694 \nQ 2113 2306 2375 2664 \nQ 2638 3022 2638 3341 \nQ 2638 3675 2398 3904 \nQ 2159 4134 1775 4134 \nQ 1369 4134 1125 3890 \nQ 881 3647 878 3216 \nL 300 3275 \nQ 359 3922 746 4261 \nQ 1134 4600 1788 4600 \nQ 2447 4600 2831 4234 \nQ 3216 3869 3216 3328 \nQ 3216 3053 3103 2787 \nQ 2991 2522 2730 2228 \nQ 2469 1934 1863 1422 \nQ 1356 997 1212 845 \nQ 1069 694 975 541 \nL 3222 541 \nz\n\" transform=\"scale(0.015625)\"/>\n       </defs>\n       <use xlink:href=\"#ArialMT-32\"/>\n       <use xlink:href=\"#ArialMT-30\" x=\"55.615234\"/>\n       <use xlink:href=\"#ArialMT-30\" x=\"111.230469\"/>\n      </g>\n     </g>\n    </g>\n    <g id=\"xtick_8\">\n     <g id=\"line2d_8\">\n      <path d=\"M 372.121463 224.64 \nL 372.121463 7.2 \n\" clip-path=\"url(#pf42556e55d)\" style=\"fill: none; stroke: #cccccc; stroke-linecap: round\"/>\n     </g>\n     <g id=\"text_8\">\n      <!-- 210 -->\n      <g style=\"fill: #262626\" transform=\"translate(362.945916 242.013594)scale(0.11 -0.11)\">\n       <use xlink:href=\"#ArialMT-32\"/>\n       <use xlink:href=\"#ArialMT-31\" x=\"55.615234\"/>\n       <use xlink:href=\"#ArialMT-30\" x=\"111.230469\"/>\n      </g>\n     </g>\n    </g>\n    <g id=\"text_9\">\n     <!-- length -->\n     <g style=\"fill: #262626\" transform=\"translate(194.962188 256.789219)scale(0.12 -0.12)\">\n      <defs>\n       <path id=\"ArialMT-6c\" d=\"M 409 0 \nL 409 4581 \nL 972 4581 \nL 972 0 \nL 409 0 \nz\n\" transform=\"scale(0.015625)\"/>\n       <path id=\"ArialMT-65\" d=\"M 2694 1069 \nL 3275 997 \nQ 3138 488 2766 206 \nQ 2394 -75 1816 -75 \nQ 1088 -75 661 373 \nQ 234 822 234 1631 \nQ 234 2469 665 2931 \nQ 1097 3394 1784 3394 \nQ 2450 3394 2872 2941 \nQ 3294 2488 3294 1666 \nQ 3294 1616 3291 1516 \nL 816 1516 \nQ 847 969 1125 678 \nQ 1403 388 1819 388 \nQ 2128 388 2347 550 \nQ 2566 713 2694 1069 \nz\nM 847 1978 \nL 2700 1978 \nQ 2663 2397 2488 2606 \nQ 2219 2931 1791 2931 \nQ 1403 2931 1139 2672 \nQ 875 2413 847 1978 \nz\n\" transform=\"scale(0.015625)\"/>\n       <path id=\"ArialMT-6e\" d=\"M 422 0 \nL 422 3319 \nL 928 3319 \nL 928 2847 \nQ 1294 3394 1984 3394 \nQ 2284 3394 2536 3286 \nQ 2788 3178 2913 3003 \nQ 3038 2828 3088 2588 \nQ 3119 2431 3119 2041 \nL 3119 0 \nL 2556 0 \nL 2556 2019 \nQ 2556 2363 2490 2533 \nQ 2425 2703 2258 2804 \nQ 2091 2906 1866 2906 \nQ 1506 2906 1245 2678 \nQ 984 2450 984 1813 \nL 984 0 \nL 422 0 \nz\n\" transform=\"scale(0.015625)\"/>\n       <path id=\"ArialMT-67\" d=\"M 319 -275 \nL 866 -356 \nQ 900 -609 1056 -725 \nQ 1266 -881 1628 -881 \nQ 2019 -881 2231 -725 \nQ 2444 -569 2519 -288 \nQ 2563 -116 2559 434 \nQ 2191 0 1641 0 \nQ 956 0 581 494 \nQ 206 988 206 1678 \nQ 206 2153 378 2554 \nQ 550 2956 876 3175 \nQ 1203 3394 1644 3394 \nQ 2231 3394 2613 2919 \nL 2613 3319 \nL 3131 3319 \nL 3131 450 \nQ 3131 -325 2973 -648 \nQ 2816 -972 2473 -1159 \nQ 2131 -1347 1631 -1347 \nQ 1038 -1347 672 -1080 \nQ 306 -813 319 -275 \nz\nM 784 1719 \nQ 784 1066 1043 766 \nQ 1303 466 1694 466 \nQ 2081 466 2343 764 \nQ 2606 1063 2606 1700 \nQ 2606 2309 2336 2618 \nQ 2066 2928 1684 2928 \nQ 1309 2928 1046 2623 \nQ 784 2319 784 1719 \nz\n\" transform=\"scale(0.015625)\"/>\n       <path id=\"ArialMT-74\" d=\"M 1650 503 \nL 1731 6 \nQ 1494 -44 1306 -44 \nQ 1000 -44 831 53 \nQ 663 150 594 308 \nQ 525 466 525 972 \nL 525 2881 \nL 113 2881 \nL 113 3319 \nL 525 3319 \nL 525 4141 \nL 1084 4478 \nL 1084 3319 \nL 1650 3319 \nL 1650 2881 \nL 1084 2881 \nL 1084 941 \nQ 1084 700 1114 631 \nQ 1144 563 1211 522 \nQ 1278 481 1403 481 \nQ 1497 481 1650 503 \nz\n\" transform=\"scale(0.015625)\"/>\n       <path id=\"ArialMT-68\" d=\"M 422 0 \nL 422 4581 \nL 984 4581 \nL 984 2938 \nQ 1378 3394 1978 3394 \nQ 2347 3394 2619 3248 \nQ 2891 3103 3008 2847 \nQ 3125 2591 3125 2103 \nL 3125 0 \nL 2563 0 \nL 2563 2103 \nQ 2563 2525 2380 2717 \nQ 2197 2909 1863 2909 \nQ 1613 2909 1392 2779 \nQ 1172 2650 1078 2428 \nQ 984 2206 984 1816 \nL 984 0 \nL 422 0 \nz\n\" transform=\"scale(0.015625)\"/>\n      </defs>\n      <use xlink:href=\"#ArialMT-6c\"/>\n      <use xlink:href=\"#ArialMT-65\" x=\"22.216797\"/>\n      <use xlink:href=\"#ArialMT-6e\" x=\"77.832031\"/>\n      <use xlink:href=\"#ArialMT-67\" x=\"133.447266\"/>\n      <use xlink:href=\"#ArialMT-74\" x=\"189.0625\"/>\n      <use xlink:href=\"#ArialMT-68\" x=\"216.845703\"/>\n     </g>\n    </g>\n   </g>\n   <g id=\"matplotlib.axis_2\">\n    <g id=\"ytick_1\">\n     <g id=\"line2d_9\">\n      <path d=\"M 43.908438 224.64 \nL 378.708438 224.64 \n\" clip-path=\"url(#pf42556e55d)\" style=\"fill: none; stroke: #cccccc; stroke-linecap: round\"/>\n     </g>\n     <g id=\"text_10\">\n      <!-- 0 -->\n      <g style=\"fill: #262626\" transform=\"translate(28.291406 228.576797)scale(0.11 -0.11)\">\n       <use xlink:href=\"#ArialMT-30\"/>\n      </g>\n     </g>\n    </g>\n    <g id=\"ytick_2\">\n     <g id=\"line2d_10\">\n      <path d=\"M 43.908438 198.754286 \nL 378.708438 198.754286 \n\" clip-path=\"url(#pf42556e55d)\" style=\"fill: none; stroke: #cccccc; stroke-linecap: round\"/>\n     </g>\n     <g id=\"text_11\">\n      <!-- 5 -->\n      <g style=\"fill: #262626\" transform=\"translate(28.291406 202.691083)scale(0.11 -0.11)\">\n       <use xlink:href=\"#ArialMT-35\"/>\n      </g>\n     </g>\n    </g>\n    <g id=\"ytick_3\">\n     <g id=\"line2d_11\">\n      <path d=\"M 43.908438 172.868571 \nL 378.708438 172.868571 \n\" clip-path=\"url(#pf42556e55d)\" style=\"fill: none; stroke: #cccccc; stroke-linecap: round\"/>\n     </g>\n     <g id=\"text_12\">\n      <!-- 10 -->\n      <g style=\"fill: #262626\" transform=\"translate(22.174375 176.805368)scale(0.11 -0.11)\">\n       <use xlink:href=\"#ArialMT-31\"/>\n       <use xlink:href=\"#ArialMT-30\" x=\"55.615234\"/>\n      </g>\n     </g>\n    </g>\n    <g id=\"ytick_4\">\n     <g id=\"line2d_12\">\n      <path d=\"M 43.908438 146.982857 \nL 378.708438 146.982857 \n\" clip-path=\"url(#pf42556e55d)\" style=\"fill: none; stroke: #cccccc; stroke-linecap: round\"/>\n     </g>\n     <g id=\"text_13\">\n      <!-- 15 -->\n      <g style=\"fill: #262626\" transform=\"translate(22.174375 150.919654)scale(0.11 -0.11)\">\n       <use xlink:href=\"#ArialMT-31\"/>\n       <use xlink:href=\"#ArialMT-35\" x=\"55.615234\"/>\n      </g>\n     </g>\n    </g>\n    <g id=\"ytick_5\">\n     <g id=\"line2d_13\">\n      <path d=\"M 43.908438 121.097143 \nL 378.708438 121.097143 \n\" clip-path=\"url(#pf42556e55d)\" style=\"fill: none; stroke: #cccccc; stroke-linecap: round\"/>\n     </g>\n     <g id=\"text_14\">\n      <!-- 20 -->\n      <g style=\"fill: #262626\" transform=\"translate(22.174375 125.03394)scale(0.11 -0.11)\">\n       <use xlink:href=\"#ArialMT-32\"/>\n       <use xlink:href=\"#ArialMT-30\" x=\"55.615234\"/>\n      </g>\n     </g>\n    </g>\n    <g id=\"ytick_6\">\n     <g id=\"line2d_14\">\n      <path d=\"M 43.908438 95.211429 \nL 378.708438 95.211429 \n\" clip-path=\"url(#pf42556e55d)\" style=\"fill: none; stroke: #cccccc; stroke-linecap: round\"/>\n     </g>\n     <g id=\"text_15\">\n      <!-- 25 -->\n      <g style=\"fill: #262626\" transform=\"translate(22.174375 99.148225)scale(0.11 -0.11)\">\n       <use xlink:href=\"#ArialMT-32\"/>\n       <use xlink:href=\"#ArialMT-35\" x=\"55.615234\"/>\n      </g>\n     </g>\n    </g>\n    <g id=\"ytick_7\">\n     <g id=\"line2d_15\">\n      <path d=\"M 43.908438 69.325714 \nL 378.708438 69.325714 \n\" clip-path=\"url(#pf42556e55d)\" style=\"fill: none; stroke: #cccccc; stroke-linecap: round\"/>\n     </g>\n     <g id=\"text_16\">\n      <!-- 30 -->\n      <g style=\"fill: #262626\" transform=\"translate(22.174375 73.262511)scale(0.11 -0.11)\">\n       <defs>\n        <path id=\"ArialMT-33\" d=\"M 269 1209 \nL 831 1284 \nQ 928 806 1161 595 \nQ 1394 384 1728 384 \nQ 2125 384 2398 659 \nQ 2672 934 2672 1341 \nQ 2672 1728 2419 1979 \nQ 2166 2231 1775 2231 \nQ 1616 2231 1378 2169 \nL 1441 2663 \nQ 1497 2656 1531 2656 \nQ 1891 2656 2178 2843 \nQ 2466 3031 2466 3422 \nQ 2466 3731 2256 3934 \nQ 2047 4138 1716 4138 \nQ 1388 4138 1169 3931 \nQ 950 3725 888 3313 \nL 325 3413 \nQ 428 3978 793 4289 \nQ 1159 4600 1703 4600 \nQ 2078 4600 2393 4439 \nQ 2709 4278 2876 4000 \nQ 3044 3722 3044 3409 \nQ 3044 3113 2884 2869 \nQ 2725 2625 2413 2481 \nQ 2819 2388 3044 2092 \nQ 3269 1797 3269 1353 \nQ 3269 753 2831 336 \nQ 2394 -81 1725 -81 \nQ 1122 -81 723 278 \nQ 325 638 269 1209 \nz\n\" transform=\"scale(0.015625)\"/>\n       </defs>\n       <use xlink:href=\"#ArialMT-33\"/>\n       <use xlink:href=\"#ArialMT-30\" x=\"55.615234\"/>\n      </g>\n     </g>\n    </g>\n    <g id=\"ytick_8\">\n     <g id=\"line2d_16\">\n      <path d=\"M 43.908438 43.44 \nL 378.708438 43.44 \n\" clip-path=\"url(#pf42556e55d)\" style=\"fill: none; stroke: #cccccc; stroke-linecap: round\"/>\n     </g>\n     <g id=\"text_17\">\n      <!-- 35 -->\n      <g style=\"fill: #262626\" transform=\"translate(22.174375 47.376797)scale(0.11 -0.11)\">\n       <use xlink:href=\"#ArialMT-33\"/>\n       <use xlink:href=\"#ArialMT-35\" x=\"55.615234\"/>\n      </g>\n     </g>\n    </g>\n    <g id=\"ytick_9\">\n     <g id=\"line2d_17\">\n      <path d=\"M 43.908438 17.554286 \nL 378.708438 17.554286 \n\" clip-path=\"url(#pf42556e55d)\" style=\"fill: none; stroke: #cccccc; stroke-linecap: round\"/>\n     </g>\n     <g id=\"text_18\">\n      <!-- 40 -->\n      <g style=\"fill: #262626\" transform=\"translate(22.174375 21.491083)scale(0.11 -0.11)\">\n       <use xlink:href=\"#ArialMT-34\"/>\n       <use xlink:href=\"#ArialMT-30\" x=\"55.615234\"/>\n      </g>\n     </g>\n    </g>\n    <g id=\"text_19\">\n     <!-- Count -->\n     <g style=\"fill: #262626\" transform=\"translate(15.789375 131.929687)rotate(-90)scale(0.12 -0.12)\">\n      <defs>\n       <path id=\"ArialMT-43\" d=\"M 3763 1606 \nL 4369 1453 \nQ 4178 706 3683 314 \nQ 3188 -78 2472 -78 \nQ 1731 -78 1267 223 \nQ 803 525 561 1097 \nQ 319 1669 319 2325 \nQ 319 3041 592 3573 \nQ 866 4106 1370 4382 \nQ 1875 4659 2481 4659 \nQ 3169 4659 3637 4309 \nQ 4106 3959 4291 3325 \nL 3694 3184 \nQ 3534 3684 3231 3912 \nQ 2928 4141 2469 4141 \nQ 1941 4141 1586 3887 \nQ 1231 3634 1087 3207 \nQ 944 2781 944 2328 \nQ 944 1744 1114 1308 \nQ 1284 872 1643 656 \nQ 2003 441 2422 441 \nQ 2931 441 3284 734 \nQ 3638 1028 3763 1606 \nz\n\" transform=\"scale(0.015625)\"/>\n       <path id=\"ArialMT-6f\" d=\"M 213 1659 \nQ 213 2581 725 3025 \nQ 1153 3394 1769 3394 \nQ 2453 3394 2887 2945 \nQ 3322 2497 3322 1706 \nQ 3322 1066 3130 698 \nQ 2938 331 2570 128 \nQ 2203 -75 1769 -75 \nQ 1072 -75 642 372 \nQ 213 819 213 1659 \nz\nM 791 1659 \nQ 791 1022 1069 705 \nQ 1347 388 1769 388 \nQ 2188 388 2466 706 \nQ 2744 1025 2744 1678 \nQ 2744 2294 2464 2611 \nQ 2184 2928 1769 2928 \nQ 1347 2928 1069 2612 \nQ 791 2297 791 1659 \nz\n\" transform=\"scale(0.015625)\"/>\n       <path id=\"ArialMT-75\" d=\"M 2597 0 \nL 2597 488 \nQ 2209 -75 1544 -75 \nQ 1250 -75 995 37 \nQ 741 150 617 320 \nQ 494 491 444 738 \nQ 409 903 409 1263 \nL 409 3319 \nL 972 3319 \nL 972 1478 \nQ 972 1038 1006 884 \nQ 1059 663 1231 536 \nQ 1403 409 1656 409 \nQ 1909 409 2131 539 \nQ 2353 669 2445 892 \nQ 2538 1116 2538 1541 \nL 2538 3319 \nL 3100 3319 \nL 3100 0 \nL 2597 0 \nz\n\" transform=\"scale(0.015625)\"/>\n      </defs>\n      <use xlink:href=\"#ArialMT-43\"/>\n      <use xlink:href=\"#ArialMT-6f\" x=\"72.216797\"/>\n      <use xlink:href=\"#ArialMT-75\" x=\"127.832031\"/>\n      <use xlink:href=\"#ArialMT-6e\" x=\"183.447266\"/>\n      <use xlink:href=\"#ArialMT-74\" x=\"239.0625\"/>\n     </g>\n    </g>\n   </g>\n   <g id=\"patch_3\">\n    <path d=\"M 59.126619 224.64 \nL 84.490256 224.64 \nL 84.490256 209.108571 \nL 59.126619 209.108571 \nz\n\" clip-path=\"url(#pf42556e55d)\" style=\"fill: #4c72b0; fill-opacity: 0.75; stroke: #ffffff; stroke-linejoin: miter\"/>\n   </g>\n   <g id=\"patch_4\">\n    <path d=\"M 84.490256 224.64 \nL 109.853892 224.64 \nL 109.853892 209.108571 \nL 84.490256 209.108571 \nz\n\" clip-path=\"url(#pf42556e55d)\" style=\"fill: #4c72b0; fill-opacity: 0.75; stroke: #ffffff; stroke-linejoin: miter\"/>\n   </g>\n   <g id=\"patch_5\">\n    <path d=\"M 109.853892 224.64 \nL 135.217528 224.64 \nL 135.217528 121.097143 \nL 109.853892 121.097143 \nz\n\" clip-path=\"url(#pf42556e55d)\" style=\"fill: #4c72b0; fill-opacity: 0.75; stroke: #ffffff; stroke-linejoin: miter\"/>\n   </g>\n   <g id=\"patch_6\">\n    <path d=\"M 135.217528 224.64 \nL 160.581165 224.64 \nL 160.581165 167.691429 \nL 135.217528 167.691429 \nz\n\" clip-path=\"url(#pf42556e55d)\" style=\"fill: #4c72b0; fill-opacity: 0.75; stroke: #ffffff; stroke-linejoin: miter\"/>\n   </g>\n   <g id=\"patch_7\">\n    <path d=\"M 160.581165 224.64 \nL 185.944801 224.64 \nL 185.944801 43.44 \nL 160.581165 43.44 \nz\n\" clip-path=\"url(#pf42556e55d)\" style=\"fill: #4c72b0; fill-opacity: 0.75; stroke: #ffffff; stroke-linejoin: miter\"/>\n   </g>\n   <g id=\"patch_8\">\n    <path d=\"M 185.944801 224.64 \nL 211.308437 224.64 \nL 211.308437 17.554286 \nL 185.944801 17.554286 \nz\n\" clip-path=\"url(#pf42556e55d)\" style=\"fill: #4c72b0; fill-opacity: 0.75; stroke: #ffffff; stroke-linejoin: miter\"/>\n   </g>\n   <g id=\"patch_9\">\n    <path d=\"M 211.308438 224.64 \nL 236.672074 224.64 \nL 236.672074 38.262857 \nL 211.308438 38.262857 \nz\n\" clip-path=\"url(#pf42556e55d)\" style=\"fill: #4c72b0; fill-opacity: 0.75; stroke: #ffffff; stroke-linejoin: miter\"/>\n   </g>\n   <g id=\"patch_10\">\n    <path d=\"M 236.672074 224.64 \nL 262.03571 224.64 \nL 262.03571 172.868571 \nL 236.672074 172.868571 \nz\n\" clip-path=\"url(#pf42556e55d)\" style=\"fill: #4c72b0; fill-opacity: 0.75; stroke: #ffffff; stroke-linejoin: miter\"/>\n   </g>\n   <g id=\"patch_11\">\n    <path d=\"M 262.03571 224.64 \nL 287.399347 224.64 \nL 287.399347 64.148571 \nL 262.03571 64.148571 \nz\n\" clip-path=\"url(#pf42556e55d)\" style=\"fill: #4c72b0; fill-opacity: 0.75; stroke: #ffffff; stroke-linejoin: miter\"/>\n   </g>\n   <g id=\"patch_12\">\n    <path d=\"M 287.399347 224.64 \nL 312.762983 224.64 \nL 312.762983 198.754286 \nL 287.399347 198.754286 \nz\n\" clip-path=\"url(#pf42556e55d)\" style=\"fill: #4c72b0; fill-opacity: 0.75; stroke: #ffffff; stroke-linejoin: miter\"/>\n   </g>\n   <g id=\"patch_13\">\n    <path d=\"M 312.762983 224.64 \nL 338.126619 224.64 \nL 338.126619 183.222857 \nL 312.762983 183.222857 \nz\n\" clip-path=\"url(#pf42556e55d)\" style=\"fill: #4c72b0; fill-opacity: 0.75; stroke: #ffffff; stroke-linejoin: miter\"/>\n   </g>\n   <g id=\"patch_14\">\n    <path d=\"M 338.126619 224.64 \nL 363.490256 224.64 \nL 363.490256 209.108571 \nL 338.126619 209.108571 \nz\n\" clip-path=\"url(#pf42556e55d)\" style=\"fill: #4c72b0; fill-opacity: 0.75; stroke: #ffffff; stroke-linejoin: miter\"/>\n   </g>\n   <g id=\"patch_15\">\n    <path d=\"M 43.908438 224.64 \nL 43.908438 7.2 \n\" style=\"fill: none; stroke: #cccccc; stroke-width: 1.25; stroke-linejoin: miter; stroke-linecap: square\"/>\n   </g>\n   <g id=\"patch_16\">\n    <path d=\"M 378.708438 224.64 \nL 378.708438 7.2 \n\" style=\"fill: none; stroke: #cccccc; stroke-width: 1.25; stroke-linejoin: miter; stroke-linecap: square\"/>\n   </g>\n   <g id=\"patch_17\">\n    <path d=\"M 43.908437 224.64 \nL 378.708438 224.64 \n\" style=\"fill: none; stroke: #cccccc; stroke-width: 1.25; stroke-linejoin: miter; stroke-linecap: square\"/>\n   </g>\n   <g id=\"patch_18\">\n    <path d=\"M 43.908437 7.2 \nL 378.708438 7.2 \n\" style=\"fill: none; stroke: #cccccc; stroke-width: 1.25; stroke-linejoin: miter; stroke-linecap: square\"/>\n   </g>\n  </g>\n </g>\n <defs>\n  <clipPath id=\"pf42556e55d\">\n   <rect x=\"43.908438\" y=\"7.2\" width=\"334.8\" height=\"217.44\"/>\n  </clipPath>\n </defs>\n</svg>\n",
      "text/plain": [
       "<Figure size 432x288 with 1 Axes>"
      ]
     },
     "metadata": {},
     "output_type": "display_data"
    }
   ],
   "source": [
    "#Histograma del atributo \"length\"\n",
    "sns.histplot(df.length)"
   ]
  },
  {
   "cell_type": "markdown",
   "metadata": {
    "application/vnd.databricks.v1+cell": {
     "inputWidgets": {},
     "nuid": "ef5e1836-f576-4766-a040-6538d34ab225",
     "showTitle": false,
     "title": ""
    }
   },
   "source": [
    "<div class=\"alert alert-success alertsuccess\" style=\"margin-top: 20px\">\n",
    "   <strong>AHORA TÚ: </strong>  \n",
    "  <p>\n",
    "Selecciona una variable y visualiza su histograma. ¿Qué tipo de simetría tiene?\n",
    "  </p>\n",
    "</div>"
   ]
  },
  {
   "cell_type": "code",
   "execution_count": 31,
   "metadata": {
    "application/vnd.databricks.v1+cell": {
     "inputWidgets": {},
     "nuid": "a69acf72-03ff-41f0-95bb-01ad3235a951",
     "showTitle": false,
     "title": ""
    }
   },
   "outputs": [
    {
     "data": {
      "text/plain": [
       "<AxesSubplot:xlabel='num-of-doors', ylabel='Count'>"
      ]
     },
     "execution_count": 31,
     "metadata": {},
     "output_type": "execute_result"
    },
    {
     "data": {
      "image/png": "[encoded data removed]",
      "image/svg+xml": "<?xml version=\"1.0\" encoding=\"utf-8\" standalone=\"no\"?>\n<!DOCTYPE svg PUBLIC \"-//W3C//DTD SVG 1.1//EN\"\n  \"http://www.w3.org/Graphics/SVG/1.1/DTD/svg11.dtd\">\n<svg xmlns:xlink=\"http://www.w3.org/1999/xlink\" width=\"392.025469pt\" height=\"266.374219pt\" viewBox=\"0 0 392.025469 266.374219\" xmlns=\"http://www.w3.org/2000/svg\" version=\"1.1\">\n <metadata>\n  <rdf:RDF xmlns:dc=\"http://purl.org/dc/elements/1.1/\" xmlns:cc=\"http://creativecommons.org/ns#\" xmlns:rdf=\"http://www.w3.org/1999/02/22-rdf-syntax-ns#\">\n   <cc:Work>\n    <dc:type rdf:resource=\"http://purl.org/dc/dcmitype/StillImage\"/>\n    <dc:date>2022-02-07T12:59:11.710165</dc:date>\n    <dc:format>image/svg+xml</dc:format>\n    <dc:creator>\n     <cc:Agent>\n      <dc:title>Matplotlib v3.5.0, https://matplotlib.org/</dc:title>\n     </cc:Agent>\n    </dc:creator>\n   </cc:Work>\n  </rdf:RDF>\n </metadata>\n <defs>\n  <style type=\"text/css\">*{stroke-linejoin: round; stroke-linecap: butt}</style>\n </defs>\n <g id=\"figure_1\">\n  <g id=\"patch_1\">\n   <path d=\"M 0 266.374219 \nL 392.025469 266.374219 \nL 392.025469 0 \nL 0 0 \nz\n\" style=\"fill: #ffffff\"/>\n  </g>\n  <g id=\"axes_1\">\n   <g id=\"patch_2\">\n    <path d=\"M 50.025469 224.64 \nL 384.825469 224.64 \nL 384.825469 7.2 \nL 50.025469 7.2 \nz\n\" style=\"fill: #ffffff\"/>\n   </g>\n   <g id=\"matplotlib.axis_1\">\n    <g id=\"xtick_1\">\n     <g id=\"line2d_1\">\n      <path d=\"M 141.33456 224.64 \nL 141.33456 7.2 \n\" clip-path=\"url(#p3c9fb54df4)\" style=\"fill: none; stroke: #cccccc; stroke-linecap: round\"/>\n     </g>\n     <g id=\"text_1\">\n      <!-- two -->\n      <g style=\"fill: #262626\" transform=\"translate(132.776044 242.013594)scale(0.11 -0.11)\">\n       <defs>\n        <path id=\"ArialMT-74\" d=\"M 1650 503 \nL 1731 6 \nQ 1494 -44 1306 -44 \nQ 1000 -44 831 53 \nQ 663 150 594 308 \nQ 525 466 525 972 \nL 525 2881 \nL 113 2881 \nL 113 3319 \nL 525 3319 \nL 525 4141 \nL 1084 4478 \nL 1084 3319 \nL 1650 3319 \nL 1650 2881 \nL 1084 2881 \nL 1084 941 \nQ 1084 700 1114 631 \nQ 1144 563 1211 522 \nQ 1278 481 1403 481 \nQ 1497 481 1650 503 \nz\n\" transform=\"scale(0.015625)\"/>\n        <path id=\"ArialMT-77\" d=\"M 1034 0 \nL 19 3319 \nL 600 3319 \nL 1128 1403 \nL 1325 691 \nQ 1338 744 1497 1375 \nL 2025 3319 \nL 2603 3319 \nL 3100 1394 \nL 3266 759 \nL 3456 1400 \nL 4025 3319 \nL 4572 3319 \nL 3534 0 \nL 2950 0 \nL 2422 1988 \nL 2294 2553 \nL 1622 0 \nL 1034 0 \nz\n\" transform=\"scale(0.015625)\"/>\n        <path id=\"ArialMT-6f\" d=\"M 213 1659 \nQ 213 2581 725 3025 \nQ 1153 3394 1769 3394 \nQ 2453 3394 2887 2945 \nQ 3322 2497 3322 1706 \nQ 3322 1066 3130 698 \nQ 2938 331 2570 128 \nQ 2203 -75 1769 -75 \nQ 1072 -75 642 372 \nQ 213 819 213 1659 \nz\nM 791 1659 \nQ 791 1022 1069 705 \nQ 1347 388 1769 388 \nQ 2188 388 2466 706 \nQ 2744 1025 2744 1678 \nQ 2744 2294 2464 2611 \nQ 2184 2928 1769 2928 \nQ 1347 2928 1069 2612 \nQ 791 2297 791 1659 \nz\n\" transform=\"scale(0.015625)\"/>\n       </defs>\n       <use xlink:href=\"#ArialMT-74\"/>\n       <use xlink:href=\"#ArialMT-77\" x=\"27.783203\"/>\n       <use xlink:href=\"#ArialMT-6f\" x=\"100\"/>\n      </g>\n     </g>\n    </g>\n    <g id=\"xtick_2\">\n     <g id=\"line2d_2\">\n      <path d=\"M 293.516378 224.64 \nL 293.516378 7.2 \n\" clip-path=\"url(#p3c9fb54df4)\" style=\"fill: none; stroke: #cccccc; stroke-linecap: round\"/>\n     </g>\n     <g id=\"text_2\">\n      <!-- four -->\n      <g style=\"fill: #262626\" transform=\"translate(284.04005 242.013594)scale(0.11 -0.11)\">\n       <defs>\n        <path id=\"ArialMT-66\" d=\"M 556 0 \nL 556 2881 \nL 59 2881 \nL 59 3319 \nL 556 3319 \nL 556 3672 \nQ 556 4006 616 4169 \nQ 697 4388 901 4523 \nQ 1106 4659 1475 4659 \nQ 1713 4659 2000 4603 \nL 1916 4113 \nQ 1741 4144 1584 4144 \nQ 1328 4144 1222 4034 \nQ 1116 3925 1116 3625 \nL 1116 3319 \nL 1763 3319 \nL 1763 2881 \nL 1116 2881 \nL 1116 0 \nL 556 0 \nz\n\" transform=\"scale(0.015625)\"/>\n        <path id=\"ArialMT-75\" d=\"M 2597 0 \nL 2597 488 \nQ 2209 -75 1544 -75 \nQ 1250 -75 995 37 \nQ 741 150 617 320 \nQ 494 491 444 738 \nQ 409 903 409 1263 \nL 409 3319 \nL 972 3319 \nL 972 1478 \nQ 972 1038 1006 884 \nQ 1059 663 1231 536 \nQ 1403 409 1656 409 \nQ 1909 409 2131 539 \nQ 2353 669 2445 892 \nQ 2538 1116 2538 1541 \nL 2538 3319 \nL 3100 3319 \nL 3100 0 \nL 2597 0 \nz\n\" transform=\"scale(0.015625)\"/>\n        <path id=\"ArialMT-72\" d=\"M 416 0 \nL 416 3319 \nL 922 3319 \nL 922 2816 \nQ 1116 3169 1280 3281 \nQ 1444 3394 1641 3394 \nQ 1925 3394 2219 3213 \nL 2025 2691 \nQ 1819 2813 1613 2813 \nQ 1428 2813 1281 2702 \nQ 1134 2591 1072 2394 \nQ 978 2094 978 1738 \nL 978 0 \nL 416 0 \nz\n\" transform=\"scale(0.015625)\"/>\n       </defs>\n       <use xlink:href=\"#ArialMT-66\"/>\n       <use xlink:href=\"#ArialMT-6f\" x=\"27.783203\"/>\n       <use xlink:href=\"#ArialMT-75\" x=\"83.398438\"/>\n       <use xlink:href=\"#ArialMT-72\" x=\"139.013672\"/>\n      </g>\n     </g>\n    </g>\n    <g id=\"text_3\">\n     <!-- num-of-doors -->\n     <g style=\"fill: #262626\" transform=\"translate(181.747969 256.789219)scale(0.12 -0.12)\">\n      <defs>\n       <path id=\"ArialMT-6e\" d=\"M 422 0 \nL 422 3319 \nL 928 3319 \nL 928 2847 \nQ 1294 3394 1984 3394 \nQ 2284 3394 2536 3286 \nQ 2788 3178 2913 3003 \nQ 3038 2828 3088 2588 \nQ 3119 2431 3119 2041 \nL 3119 0 \nL 2556 0 \nL 2556 2019 \nQ 2556 2363 2490 2533 \nQ 2425 2703 2258 2804 \nQ 2091 2906 1866 2906 \nQ 1506 2906 1245 2678 \nQ 984 2450 984 1813 \nL 984 0 \nL 422 0 \nz\n\" transform=\"scale(0.015625)\"/>\n       <path id=\"ArialMT-6d\" d=\"M 422 0 \nL 422 3319 \nL 925 3319 \nL 925 2853 \nQ 1081 3097 1340 3245 \nQ 1600 3394 1931 3394 \nQ 2300 3394 2536 3241 \nQ 2772 3088 2869 2813 \nQ 3263 3394 3894 3394 \nQ 4388 3394 4653 3120 \nQ 4919 2847 4919 2278 \nL 4919 0 \nL 4359 0 \nL 4359 2091 \nQ 4359 2428 4304 2576 \nQ 4250 2725 4106 2815 \nQ 3963 2906 3769 2906 \nQ 3419 2906 3187 2673 \nQ 2956 2441 2956 1928 \nL 2956 0 \nL 2394 0 \nL 2394 2156 \nQ 2394 2531 2256 2718 \nQ 2119 2906 1806 2906 \nQ 1569 2906 1367 2781 \nQ 1166 2656 1075 2415 \nQ 984 2175 984 1722 \nL 984 0 \nL 422 0 \nz\n\" transform=\"scale(0.015625)\"/>\n       <path id=\"ArialMT-2d\" d=\"M 203 1375 \nL 203 1941 \nL 1931 1941 \nL 1931 1375 \nL 203 1375 \nz\n\" transform=\"scale(0.015625)\"/>\n       <path id=\"ArialMT-64\" d=\"M 2575 0 \nL 2575 419 \nQ 2259 -75 1647 -75 \nQ 1250 -75 917 144 \nQ 584 363 401 755 \nQ 219 1147 219 1656 \nQ 219 2153 384 2558 \nQ 550 2963 881 3178 \nQ 1213 3394 1622 3394 \nQ 1922 3394 2156 3267 \nQ 2391 3141 2538 2938 \nL 2538 4581 \nL 3097 4581 \nL 3097 0 \nL 2575 0 \nz\nM 797 1656 \nQ 797 1019 1065 703 \nQ 1334 388 1700 388 \nQ 2069 388 2326 689 \nQ 2584 991 2584 1609 \nQ 2584 2291 2321 2609 \nQ 2059 2928 1675 2928 \nQ 1300 2928 1048 2622 \nQ 797 2316 797 1656 \nz\n\" transform=\"scale(0.015625)\"/>\n       <path id=\"ArialMT-73\" d=\"M 197 991 \nL 753 1078 \nQ 800 744 1014 566 \nQ 1228 388 1613 388 \nQ 2000 388 2187 545 \nQ 2375 703 2375 916 \nQ 2375 1106 2209 1216 \nQ 2094 1291 1634 1406 \nQ 1016 1563 777 1677 \nQ 538 1791 414 1992 \nQ 291 2194 291 2438 \nQ 291 2659 392 2848 \nQ 494 3038 669 3163 \nQ 800 3259 1026 3326 \nQ 1253 3394 1513 3394 \nQ 1903 3394 2198 3281 \nQ 2494 3169 2634 2976 \nQ 2775 2784 2828 2463 \nL 2278 2388 \nQ 2241 2644 2061 2787 \nQ 1881 2931 1553 2931 \nQ 1166 2931 1000 2803 \nQ 834 2675 834 2503 \nQ 834 2394 903 2306 \nQ 972 2216 1119 2156 \nQ 1203 2125 1616 2013 \nQ 2213 1853 2448 1751 \nQ 2684 1650 2818 1456 \nQ 2953 1263 2953 975 \nQ 2953 694 2789 445 \nQ 2625 197 2315 61 \nQ 2006 -75 1616 -75 \nQ 969 -75 630 194 \nQ 291 463 197 991 \nz\n\" transform=\"scale(0.015625)\"/>\n      </defs>\n      <use xlink:href=\"#ArialMT-6e\"/>\n      <use xlink:href=\"#ArialMT-75\" x=\"55.615234\"/>\n      <use xlink:href=\"#ArialMT-6d\" x=\"111.230469\"/>\n      <use xlink:href=\"#ArialMT-2d\" x=\"194.53125\"/>\n      <use xlink:href=\"#ArialMT-6f\" x=\"227.832031\"/>\n      <use xlink:href=\"#ArialMT-66\" x=\"283.447266\"/>\n      <use xlink:href=\"#ArialMT-2d\" x=\"311.230469\"/>\n      <use xlink:href=\"#ArialMT-64\" x=\"344.53125\"/>\n      <use xlink:href=\"#ArialMT-6f\" x=\"400.146484\"/>\n      <use xlink:href=\"#ArialMT-6f\" x=\"455.761719\"/>\n      <use xlink:href=\"#ArialMT-72\" x=\"511.376953\"/>\n      <use xlink:href=\"#ArialMT-73\" x=\"544.677734\"/>\n     </g>\n    </g>\n   </g>\n   <g id=\"matplotlib.axis_2\">\n    <g id=\"ytick_1\">\n     <g id=\"line2d_3\">\n      <path d=\"M 50.025469 224.64 \nL 384.825469 224.64 \n\" clip-path=\"url(#p3c9fb54df4)\" style=\"fill: none; stroke: #cccccc; stroke-linecap: round\"/>\n     </g>\n     <g id=\"text_4\">\n      <!-- 0 -->\n      <g style=\"fill: #262626\" transform=\"translate(34.408438 228.576797)scale(0.11 -0.11)\">\n       <defs>\n        <path id=\"ArialMT-30\" d=\"M 266 2259 \nQ 266 3072 433 3567 \nQ 600 4063 929 4331 \nQ 1259 4600 1759 4600 \nQ 2128 4600 2406 4451 \nQ 2684 4303 2865 4023 \nQ 3047 3744 3150 3342 \nQ 3253 2941 3253 2259 \nQ 3253 1453 3087 958 \nQ 2922 463 2592 192 \nQ 2263 -78 1759 -78 \nQ 1097 -78 719 397 \nQ 266 969 266 2259 \nz\nM 844 2259 \nQ 844 1131 1108 757 \nQ 1372 384 1759 384 \nQ 2147 384 2411 759 \nQ 2675 1134 2675 2259 \nQ 2675 3391 2411 3762 \nQ 2147 4134 1753 4134 \nQ 1366 4134 1134 3806 \nQ 844 3388 844 2259 \nz\n\" transform=\"scale(0.015625)\"/>\n       </defs>\n       <use xlink:href=\"#ArialMT-30\"/>\n      </g>\n     </g>\n    </g>\n    <g id=\"ytick_2\">\n     <g id=\"line2d_4\">\n      <path d=\"M 50.025469 188.309173 \nL 384.825469 188.309173 \n\" clip-path=\"url(#p3c9fb54df4)\" style=\"fill: none; stroke: #cccccc; stroke-linecap: round\"/>\n     </g>\n     <g id=\"text_5\">\n      <!-- 20 -->\n      <g style=\"fill: #262626\" transform=\"translate(28.291406 192.24597)scale(0.11 -0.11)\">\n       <defs>\n        <path id=\"ArialMT-32\" d=\"M 3222 541 \nL 3222 0 \nL 194 0 \nQ 188 203 259 391 \nQ 375 700 629 1000 \nQ 884 1300 1366 1694 \nQ 2113 2306 2375 2664 \nQ 2638 3022 2638 3341 \nQ 2638 3675 2398 3904 \nQ 2159 4134 1775 4134 \nQ 1369 4134 1125 3890 \nQ 881 3647 878 3216 \nL 300 3275 \nQ 359 3922 746 4261 \nQ 1134 4600 1788 4600 \nQ 2447 4600 2831 4234 \nQ 3216 3869 3216 3328 \nQ 3216 3053 3103 2787 \nQ 2991 2522 2730 2228 \nQ 2469 1934 1863 1422 \nQ 1356 997 1212 845 \nQ 1069 694 975 541 \nL 3222 541 \nz\n\" transform=\"scale(0.015625)\"/>\n       </defs>\n       <use xlink:href=\"#ArialMT-32\"/>\n       <use xlink:href=\"#ArialMT-30\" x=\"55.615234\"/>\n      </g>\n     </g>\n    </g>\n    <g id=\"ytick_3\">\n     <g id=\"line2d_5\">\n      <path d=\"M 50.025469 151.978346 \nL 384.825469 151.978346 \n\" clip-path=\"url(#p3c9fb54df4)\" style=\"fill: none; stroke: #cccccc; stroke-linecap: round\"/>\n     </g>\n     <g id=\"text_6\">\n      <!-- 40 -->\n      <g style=\"fill: #262626\" transform=\"translate(28.291406 155.915143)scale(0.11 -0.11)\">\n       <defs>\n        <path id=\"ArialMT-34\" d=\"M 2069 0 \nL 2069 1097 \nL 81 1097 \nL 81 1613 \nL 2172 4581 \nL 2631 4581 \nL 2631 1613 \nL 3250 1613 \nL 3250 1097 \nL 2631 1097 \nL 2631 0 \nL 2069 0 \nz\nM 2069 1613 \nL 2069 3678 \nL 634 1613 \nL 2069 1613 \nz\n\" transform=\"scale(0.015625)\"/>\n       </defs>\n       <use xlink:href=\"#ArialMT-34\"/>\n       <use xlink:href=\"#ArialMT-30\" x=\"55.615234\"/>\n      </g>\n     </g>\n    </g>\n    <g id=\"ytick_4\">\n     <g id=\"line2d_6\">\n      <path d=\"M 50.025469 115.647519 \nL 384.825469 115.647519 \n\" clip-path=\"url(#p3c9fb54df4)\" style=\"fill: none; stroke: #cccccc; stroke-linecap: round\"/>\n     </g>\n     <g id=\"text_7\">\n      <!-- 60 -->\n      <g style=\"fill: #262626\" transform=\"translate(28.291406 119.584316)scale(0.11 -0.11)\">\n       <defs>\n        <path id=\"ArialMT-36\" d=\"M 3184 3459 \nL 2625 3416 \nQ 2550 3747 2413 3897 \nQ 2184 4138 1850 4138 \nQ 1581 4138 1378 3988 \nQ 1113 3794 959 3422 \nQ 806 3050 800 2363 \nQ 1003 2672 1297 2822 \nQ 1591 2972 1913 2972 \nQ 2475 2972 2870 2558 \nQ 3266 2144 3266 1488 \nQ 3266 1056 3080 686 \nQ 2894 316 2569 119 \nQ 2244 -78 1831 -78 \nQ 1128 -78 684 439 \nQ 241 956 241 2144 \nQ 241 3472 731 4075 \nQ 1159 4600 1884 4600 \nQ 2425 4600 2770 4297 \nQ 3116 3994 3184 3459 \nz\nM 888 1484 \nQ 888 1194 1011 928 \nQ 1134 663 1356 523 \nQ 1578 384 1822 384 \nQ 2178 384 2434 671 \nQ 2691 959 2691 1453 \nQ 2691 1928 2437 2201 \nQ 2184 2475 1800 2475 \nQ 1419 2475 1153 2201 \nQ 888 1928 888 1484 \nz\n\" transform=\"scale(0.015625)\"/>\n       </defs>\n       <use xlink:href=\"#ArialMT-36\"/>\n       <use xlink:href=\"#ArialMT-30\" x=\"55.615234\"/>\n      </g>\n     </g>\n    </g>\n    <g id=\"ytick_5\">\n     <g id=\"line2d_7\">\n      <path d=\"M 50.025469 79.316692 \nL 384.825469 79.316692 \n\" clip-path=\"url(#p3c9fb54df4)\" style=\"fill: none; stroke: #cccccc; stroke-linecap: round\"/>\n     </g>\n     <g id=\"text_8\">\n      <!-- 80 -->\n      <g style=\"fill: #262626\" transform=\"translate(28.291406 83.253489)scale(0.11 -0.11)\">\n       <defs>\n        <path id=\"ArialMT-38\" d=\"M 1131 2484 \nQ 781 2613 612 2850 \nQ 444 3088 444 3419 \nQ 444 3919 803 4259 \nQ 1163 4600 1759 4600 \nQ 2359 4600 2725 4251 \nQ 3091 3903 3091 3403 \nQ 3091 3084 2923 2848 \nQ 2756 2613 2416 2484 \nQ 2838 2347 3058 2040 \nQ 3278 1734 3278 1309 \nQ 3278 722 2862 322 \nQ 2447 -78 1769 -78 \nQ 1091 -78 675 323 \nQ 259 725 259 1325 \nQ 259 1772 486 2073 \nQ 713 2375 1131 2484 \nz\nM 1019 3438 \nQ 1019 3113 1228 2906 \nQ 1438 2700 1772 2700 \nQ 2097 2700 2305 2904 \nQ 2513 3109 2513 3406 \nQ 2513 3716 2298 3927 \nQ 2084 4138 1766 4138 \nQ 1444 4138 1231 3931 \nQ 1019 3725 1019 3438 \nz\nM 838 1322 \nQ 838 1081 952 856 \nQ 1066 631 1291 507 \nQ 1516 384 1775 384 \nQ 2178 384 2440 643 \nQ 2703 903 2703 1303 \nQ 2703 1709 2433 1975 \nQ 2163 2241 1756 2241 \nQ 1359 2241 1098 1978 \nQ 838 1716 838 1322 \nz\n\" transform=\"scale(0.015625)\"/>\n       </defs>\n       <use xlink:href=\"#ArialMT-38\"/>\n       <use xlink:href=\"#ArialMT-30\" x=\"55.615234\"/>\n      </g>\n     </g>\n    </g>\n    <g id=\"ytick_6\">\n     <g id=\"line2d_8\">\n      <path d=\"M 50.025469 42.985865 \nL 384.825469 42.985865 \n\" clip-path=\"url(#p3c9fb54df4)\" style=\"fill: none; stroke: #cccccc; stroke-linecap: round\"/>\n     </g>\n     <g id=\"text_9\">\n      <!-- 100 -->\n      <g style=\"fill: #262626\" transform=\"translate(22.174375 46.922662)scale(0.11 -0.11)\">\n       <defs>\n        <path id=\"ArialMT-31\" d=\"M 2384 0 \nL 1822 0 \nL 1822 3584 \nQ 1619 3391 1289 3197 \nQ 959 3003 697 2906 \nL 697 3450 \nQ 1169 3672 1522 3987 \nQ 1875 4303 2022 4600 \nL 2384 4600 \nL 2384 0 \nz\n\" transform=\"scale(0.015625)\"/>\n       </defs>\n       <use xlink:href=\"#ArialMT-31\"/>\n       <use xlink:href=\"#ArialMT-30\" x=\"55.615234\"/>\n       <use xlink:href=\"#ArialMT-30\" x=\"111.230469\"/>\n      </g>\n     </g>\n    </g>\n    <g id=\"text_10\">\n     <!-- Count -->\n     <g style=\"fill: #262626\" transform=\"translate(15.789375 131.929687)rotate(-90)scale(0.12 -0.12)\">\n      <defs>\n       <path id=\"ArialMT-43\" d=\"M 3763 1606 \nL 4369 1453 \nQ 4178 706 3683 314 \nQ 3188 -78 2472 -78 \nQ 1731 -78 1267 223 \nQ 803 525 561 1097 \nQ 319 1669 319 2325 \nQ 319 3041 592 3573 \nQ 866 4106 1370 4382 \nQ 1875 4659 2481 4659 \nQ 3169 4659 3637 4309 \nQ 4106 3959 4291 3325 \nL 3694 3184 \nQ 3534 3684 3231 3912 \nQ 2928 4141 2469 4141 \nQ 1941 4141 1586 3887 \nQ 1231 3634 1087 3207 \nQ 944 2781 944 2328 \nQ 944 1744 1114 1308 \nQ 1284 872 1643 656 \nQ 2003 441 2422 441 \nQ 2931 441 3284 734 \nQ 3638 1028 3763 1606 \nz\n\" transform=\"scale(0.015625)\"/>\n      </defs>\n      <use xlink:href=\"#ArialMT-43\"/>\n      <use xlink:href=\"#ArialMT-6f\" x=\"72.216797\"/>\n      <use xlink:href=\"#ArialMT-75\" x=\"127.832031\"/>\n      <use xlink:href=\"#ArialMT-6e\" x=\"183.447266\"/>\n      <use xlink:href=\"#ArialMT-74\" x=\"239.0625\"/>\n     </g>\n    </g>\n   </g>\n   <g id=\"patch_3\">\n    <path d=\"M 65.243651 224.64 \nL 217.425469 224.64 \nL 217.425469 62.96782 \nL 65.243651 62.96782 \nz\n\" clip-path=\"url(#p3c9fb54df4)\" style=\"fill: #4c72b0; fill-opacity: 0.75; stroke: #ffffff; stroke-linejoin: miter\"/>\n   </g>\n   <g id=\"patch_4\">\n    <path d=\"M 217.425469 224.64 \nL 369.607287 224.64 \nL 369.607287 17.554286 \nL 217.425469 17.554286 \nz\n\" clip-path=\"url(#p3c9fb54df4)\" style=\"fill: #4c72b0; fill-opacity: 0.75; stroke: #ffffff; stroke-linejoin: miter\"/>\n   </g>\n   <g id=\"patch_5\">\n    <path d=\"M 50.025469 224.64 \nL 50.025469 7.2 \n\" style=\"fill: none; stroke: #cccccc; stroke-width: 1.25; stroke-linejoin: miter; stroke-linecap: square\"/>\n   </g>\n   <g id=\"patch_6\">\n    <path d=\"M 384.825469 224.64 \nL 384.825469 7.2 \n\" style=\"fill: none; stroke: #cccccc; stroke-width: 1.25; stroke-linejoin: miter; stroke-linecap: square\"/>\n   </g>\n   <g id=\"patch_7\">\n    <path d=\"M 50.025469 224.64 \nL 384.825469 224.64 \n\" style=\"fill: none; stroke: #cccccc; stroke-width: 1.25; stroke-linejoin: miter; stroke-linecap: square\"/>\n   </g>\n   <g id=\"patch_8\">\n    <path d=\"M 50.025469 7.2 \nL 384.825469 7.2 \n\" style=\"fill: none; stroke: #cccccc; stroke-width: 1.25; stroke-linejoin: miter; stroke-linecap: square\"/>\n   </g>\n  </g>\n </g>\n <defs>\n  <clipPath id=\"p3c9fb54df4\">\n   <rect x=\"50.025469\" y=\"7.2\" width=\"334.8\" height=\"217.44\"/>\n  </clipPath>\n </defs>\n</svg>\n",
      "text/plain": [
       "<Figure size 432x288 with 1 Axes>"
      ]
     },
     "metadata": {},
     "output_type": "display_data"
    }
   ],
   "source": [
    "# Escribe tu código aquí y presiona Shift+Enter para ejecutar\n",
    "sns.histplot(df[\"num-of-doors\"])"
   ]
  },
  {
   "cell_type": "markdown",
   "metadata": {
    "application/vnd.databricks.v1+cell": {
     "inputWidgets": {},
     "nuid": "6dd35f1b-5765-4d56-97a0-1abda72f0a1a",
     "showTitle": false,
     "title": ""
    }
   },
   "source": [
    "La dispersión de datos se puede comprobar también mediante los gráficos de tipo boxplot. La orientación horizontal puede no ser del gusto de muchos usuarios, para que la representación sea vertical simplemente se utiliza la propiedad <code>orient</code>."
   ]
  },
  {
   "cell_type": "code",
   "execution_count": 32,
   "metadata": {
    "application/vnd.databricks.v1+cell": {
     "inputWidgets": {},
     "nuid": "8bf15f86-4625-4b8f-974e-082ade0a8aeb",
     "showTitle": false,
     "title": ""
    }
   },
   "outputs": [
    {
     "name": "stderr",
     "output_type": "stream",
     "text": [
      "C:\\Users\\ortiz\\AppData\\Local\\Programs\\Python\\Python310\\lib\\site-packages\\seaborn\\_core.py:1326: UserWarning: Vertical orientation ignored with only `x` specified.\n",
      "  warnings.warn(single_var_warning.format(\"Vertical\", \"x\"))\n"
     ]
    },
    {
     "data": {
      "text/plain": [
       "<AxesSubplot:xlabel='price'>"
      ]
     },
     "execution_count": 32,
     "metadata": {},
     "output_type": "execute_result"
    },
    {
     "data": {
      "image/png": "[encoded data removed]",
      "image/svg+xml": "<?xml version=\"1.0\" encoding=\"utf-8\" standalone=\"no\"?>\n<!DOCTYPE svg PUBLIC \"-//W3C//DTD SVG 1.1//EN\"\n  \"http://www.w3.org/Graphics/SVG/1.1/DTD/svg11.dtd\">\n<svg xmlns:xlink=\"http://www.w3.org/1999/xlink\" width=\"349.2pt\" height=\"266.374219pt\" viewBox=\"0 0 349.2 266.374219\" xmlns=\"http://www.w3.org/2000/svg\" version=\"1.1\">\n <metadata>\n  <rdf:RDF xmlns:dc=\"http://purl.org/dc/elements/1.1/\" xmlns:cc=\"http://creativecommons.org/ns#\" xmlns:rdf=\"http://www.w3.org/1999/02/22-rdf-syntax-ns#\">\n   <cc:Work>\n    <dc:type rdf:resource=\"http://purl.org/dc/dcmitype/StillImage\"/>\n    <dc:date>2022-02-07T12:59:12.044189</dc:date>\n    <dc:format>image/svg+xml</dc:format>\n    <dc:creator>\n     <cc:Agent>\n      <dc:title>Matplotlib v3.5.0, https://matplotlib.org/</dc:title>\n     </cc:Agent>\n    </dc:creator>\n   </cc:Work>\n  </rdf:RDF>\n </metadata>\n <defs>\n  <style type=\"text/css\">*{stroke-linejoin: round; stroke-linecap: butt}</style>\n </defs>\n <g id=\"figure_1\">\n  <g id=\"patch_1\">\n   <path d=\"M 0 266.374219 \nL 349.2 266.374219 \nL 349.2 0 \nL 0 0 \nz\n\" style=\"fill: #ffffff\"/>\n  </g>\n  <g id=\"axes_1\">\n   <g id=\"patch_2\">\n    <path d=\"M 7.2 224.64 \nL 342 224.64 \nL 342 7.2 \nL 7.2 7.2 \nz\n\" style=\"fill: #ffffff\"/>\n   </g>\n   <g id=\"matplotlib.axis_1\">\n    <g id=\"xtick_1\">\n     <g id=\"line2d_1\">\n      <path d=\"M 21.526595 224.64 \nL 21.526595 7.2 \n\" clip-path=\"url(#p65f50391fa)\" style=\"fill: none; stroke: #cccccc; stroke-linecap: round\"/>\n     </g>\n     <g id=\"text_1\">\n      <!-- 5000 -->\n      <g style=\"fill: #262626\" transform=\"translate(9.292532 242.013594)scale(0.11 -0.11)\">\n       <defs>\n        <path id=\"ArialMT-35\" d=\"M 266 1200 \nL 856 1250 \nQ 922 819 1161 601 \nQ 1400 384 1738 384 \nQ 2144 384 2425 690 \nQ 2706 997 2706 1503 \nQ 2706 1984 2436 2262 \nQ 2166 2541 1728 2541 \nQ 1456 2541 1237 2417 \nQ 1019 2294 894 2097 \nL 366 2166 \nL 809 4519 \nL 3088 4519 \nL 3088 3981 \nL 1259 3981 \nL 1013 2750 \nQ 1425 3038 1878 3038 \nQ 2478 3038 2890 2622 \nQ 3303 2206 3303 1553 \nQ 3303 931 2941 478 \nQ 2500 -78 1738 -78 \nQ 1113 -78 717 272 \nQ 322 622 266 1200 \nz\n\" transform=\"scale(0.015625)\"/>\n        <path id=\"ArialMT-30\" d=\"M 266 2259 \nQ 266 3072 433 3567 \nQ 600 4063 929 4331 \nQ 1259 4600 1759 4600 \nQ 2128 4600 2406 4451 \nQ 2684 4303 2865 4023 \nQ 3047 3744 3150 3342 \nQ 3253 2941 3253 2259 \nQ 3253 1453 3087 958 \nQ 2922 463 2592 192 \nQ 2263 -78 1759 -78 \nQ 1097 -78 719 397 \nQ 266 969 266 2259 \nz\nM 844 2259 \nQ 844 1131 1108 757 \nQ 1372 384 1759 384 \nQ 2147 384 2411 759 \nQ 2675 1134 2675 2259 \nQ 2675 3391 2411 3762 \nQ 2147 4134 1753 4134 \nQ 1366 4134 1134 3806 \nQ 844 3388 844 2259 \nz\n\" transform=\"scale(0.015625)\"/>\n       </defs>\n       <use xlink:href=\"#ArialMT-35\"/>\n       <use xlink:href=\"#ArialMT-30\" x=\"55.615234\"/>\n       <use xlink:href=\"#ArialMT-30\" x=\"111.230469\"/>\n       <use xlink:href=\"#ArialMT-30\" x=\"166.845703\"/>\n      </g>\n     </g>\n    </g>\n    <g id=\"xtick_2\">\n     <g id=\"line2d_2\">\n      <path d=\"M 59.305707 224.64 \nL 59.305707 7.2 \n\" clip-path=\"url(#p65f50391fa)\" style=\"fill: none; stroke: #cccccc; stroke-linecap: round\"/>\n     </g>\n     <g id=\"text_2\">\n      <!-- 10000 -->\n      <g style=\"fill: #262626\" transform=\"translate(44.013128 242.013594)scale(0.11 -0.11)\">\n       <defs>\n        <path id=\"ArialMT-31\" d=\"M 2384 0 \nL 1822 0 \nL 1822 3584 \nQ 1619 3391 1289 3197 \nQ 959 3003 697 2906 \nL 697 3450 \nQ 1169 3672 1522 3987 \nQ 1875 4303 2022 4600 \nL 2384 4600 \nL 2384 0 \nz\n\" transform=\"scale(0.015625)\"/>\n       </defs>\n       <use xlink:href=\"#ArialMT-31\"/>\n       <use xlink:href=\"#ArialMT-30\" x=\"55.615234\"/>\n       <use xlink:href=\"#ArialMT-30\" x=\"111.230469\"/>\n       <use xlink:href=\"#ArialMT-30\" x=\"166.845703\"/>\n       <use xlink:href=\"#ArialMT-30\" x=\"222.460938\"/>\n      </g>\n     </g>\n    </g>\n    <g id=\"xtick_3\">\n     <g id=\"line2d_3\">\n      <path d=\"M 97.084818 224.64 \nL 97.084818 7.2 \n\" clip-path=\"url(#p65f50391fa)\" style=\"fill: none; stroke: #cccccc; stroke-linecap: round\"/>\n     </g>\n     <g id=\"text_3\">\n      <!-- 15000 -->\n      <g style=\"fill: #262626\" transform=\"translate(81.79224 242.013594)scale(0.11 -0.11)\">\n       <use xlink:href=\"#ArialMT-31\"/>\n       <use xlink:href=\"#ArialMT-35\" x=\"55.615234\"/>\n       <use xlink:href=\"#ArialMT-30\" x=\"111.230469\"/>\n       <use xlink:href=\"#ArialMT-30\" x=\"166.845703\"/>\n       <use xlink:href=\"#ArialMT-30\" x=\"222.460938\"/>\n      </g>\n     </g>\n    </g>\n    <g id=\"xtick_4\">\n     <g id=\"line2d_4\">\n      <path d=\"M 134.86393 224.64 \nL 134.86393 7.2 \n\" clip-path=\"url(#p65f50391fa)\" style=\"fill: none; stroke: #cccccc; stroke-linecap: round\"/>\n     </g>\n     <g id=\"text_4\">\n      <!-- 20000 -->\n      <g style=\"fill: #262626\" transform=\"translate(119.571352 242.013594)scale(0.11 -0.11)\">\n       <defs>\n        <path id=\"ArialMT-32\" d=\"M 3222 541 \nL 3222 0 \nL 194 0 \nQ 188 203 259 391 \nQ 375 700 629 1000 \nQ 884 1300 1366 1694 \nQ 2113 2306 2375 2664 \nQ 2638 3022 2638 3341 \nQ 2638 3675 2398 3904 \nQ 2159 4134 1775 4134 \nQ 1369 4134 1125 3890 \nQ 881 3647 878 3216 \nL 300 3275 \nQ 359 3922 746 4261 \nQ 1134 4600 1788 4600 \nQ 2447 4600 2831 4234 \nQ 3216 3869 3216 3328 \nQ 3216 3053 3103 2787 \nQ 2991 2522 2730 2228 \nQ 2469 1934 1863 1422 \nQ 1356 997 1212 845 \nQ 1069 694 975 541 \nL 3222 541 \nz\n\" transform=\"scale(0.015625)\"/>\n       </defs>\n       <use xlink:href=\"#ArialMT-32\"/>\n       <use xlink:href=\"#ArialMT-30\" x=\"55.615234\"/>\n       <use xlink:href=\"#ArialMT-30\" x=\"111.230469\"/>\n       <use xlink:href=\"#ArialMT-30\" x=\"166.845703\"/>\n       <use xlink:href=\"#ArialMT-30\" x=\"222.460938\"/>\n      </g>\n     </g>\n    </g>\n    <g id=\"xtick_5\">\n     <g id=\"line2d_5\">\n      <path d=\"M 172.643042 224.64 \nL 172.643042 7.2 \n\" clip-path=\"url(#p65f50391fa)\" style=\"fill: none; stroke: #cccccc; stroke-linecap: round\"/>\n     </g>\n     <g id=\"text_5\">\n      <!-- 25000 -->\n      <g style=\"fill: #262626\" transform=\"translate(157.350464 242.013594)scale(0.11 -0.11)\">\n       <use xlink:href=\"#ArialMT-32\"/>\n       <use xlink:href=\"#ArialMT-35\" x=\"55.615234\"/>\n       <use xlink:href=\"#ArialMT-30\" x=\"111.230469\"/>\n       <use xlink:href=\"#ArialMT-30\" x=\"166.845703\"/>\n       <use xlink:href=\"#ArialMT-30\" x=\"222.460938\"/>\n      </g>\n     </g>\n    </g>\n    <g id=\"xtick_6\">\n     <g id=\"line2d_6\">\n      <path d=\"M 210.422154 224.64 \nL 210.422154 7.2 \n\" clip-path=\"url(#p65f50391fa)\" style=\"fill: none; stroke: #cccccc; stroke-linecap: round\"/>\n     </g>\n     <g id=\"text_6\">\n      <!-- 30000 -->\n      <g style=\"fill: #262626\" transform=\"translate(195.129576 242.013594)scale(0.11 -0.11)\">\n       <defs>\n        <path id=\"ArialMT-33\" d=\"M 269 1209 \nL 831 1284 \nQ 928 806 1161 595 \nQ 1394 384 1728 384 \nQ 2125 384 2398 659 \nQ 2672 934 2672 1341 \nQ 2672 1728 2419 1979 \nQ 2166 2231 1775 2231 \nQ 1616 2231 1378 2169 \nL 1441 2663 \nQ 1497 2656 1531 2656 \nQ 1891 2656 2178 2843 \nQ 2466 3031 2466 3422 \nQ 2466 3731 2256 3934 \nQ 2047 4138 1716 4138 \nQ 1388 4138 1169 3931 \nQ 950 3725 888 3313 \nL 325 3413 \nQ 428 3978 793 4289 \nQ 1159 4600 1703 4600 \nQ 2078 4600 2393 4439 \nQ 2709 4278 2876 4000 \nQ 3044 3722 3044 3409 \nQ 3044 3113 2884 2869 \nQ 2725 2625 2413 2481 \nQ 2819 2388 3044 2092 \nQ 3269 1797 3269 1353 \nQ 3269 753 2831 336 \nQ 2394 -81 1725 -81 \nQ 1122 -81 723 278 \nQ 325 638 269 1209 \nz\n\" transform=\"scale(0.015625)\"/>\n       </defs>\n       <use xlink:href=\"#ArialMT-33\"/>\n       <use xlink:href=\"#ArialMT-30\" x=\"55.615234\"/>\n       <use xlink:href=\"#ArialMT-30\" x=\"111.230469\"/>\n       <use xlink:href=\"#ArialMT-30\" x=\"166.845703\"/>\n       <use xlink:href=\"#ArialMT-30\" x=\"222.460938\"/>\n      </g>\n     </g>\n    </g>\n    <g id=\"xtick_7\">\n     <g id=\"line2d_7\">\n      <path d=\"M 248.201266 224.64 \nL 248.201266 7.2 \n\" clip-path=\"url(#p65f50391fa)\" style=\"fill: none; stroke: #cccccc; stroke-linecap: round\"/>\n     </g>\n     <g id=\"text_7\">\n      <!-- 35000 -->\n      <g style=\"fill: #262626\" transform=\"translate(232.908687 242.013594)scale(0.11 -0.11)\">\n       <use xlink:href=\"#ArialMT-33\"/>\n       <use xlink:href=\"#ArialMT-35\" x=\"55.615234\"/>\n       <use xlink:href=\"#ArialMT-30\" x=\"111.230469\"/>\n       <use xlink:href=\"#ArialMT-30\" x=\"166.845703\"/>\n       <use xlink:href=\"#ArialMT-30\" x=\"222.460938\"/>\n      </g>\n     </g>\n    </g>\n    <g id=\"xtick_8\">\n     <g id=\"line2d_8\">\n      <path d=\"M 285.980377 224.64 \nL 285.980377 7.2 \n\" clip-path=\"url(#p65f50391fa)\" style=\"fill: none; stroke: #cccccc; stroke-linecap: round\"/>\n     </g>\n     <g id=\"text_8\">\n      <!-- 40000 -->\n      <g style=\"fill: #262626\" transform=\"translate(270.687799 242.013594)scale(0.11 -0.11)\">\n       <defs>\n        <path id=\"ArialMT-34\" d=\"M 2069 0 \nL 2069 1097 \nL 81 1097 \nL 81 1613 \nL 2172 4581 \nL 2631 4581 \nL 2631 1613 \nL 3250 1613 \nL 3250 1097 \nL 2631 1097 \nL 2631 0 \nL 2069 0 \nz\nM 2069 1613 \nL 2069 3678 \nL 634 1613 \nL 2069 1613 \nz\n\" transform=\"scale(0.015625)\"/>\n       </defs>\n       <use xlink:href=\"#ArialMT-34\"/>\n       <use xlink:href=\"#ArialMT-30\" x=\"55.615234\"/>\n       <use xlink:href=\"#ArialMT-30\" x=\"111.230469\"/>\n       <use xlink:href=\"#ArialMT-30\" x=\"166.845703\"/>\n       <use xlink:href=\"#ArialMT-30\" x=\"222.460938\"/>\n      </g>\n     </g>\n    </g>\n    <g id=\"xtick_9\">\n     <g id=\"line2d_9\">\n      <path d=\"M 323.759489 224.64 \nL 323.759489 7.2 \n\" clip-path=\"url(#p65f50391fa)\" style=\"fill: none; stroke: #cccccc; stroke-linecap: round\"/>\n     </g>\n     <g id=\"text_9\">\n      <!-- 45000 -->\n      <g style=\"fill: #262626\" transform=\"translate(308.466911 242.013594)scale(0.11 -0.11)\">\n       <use xlink:href=\"#ArialMT-34\"/>\n       <use xlink:href=\"#ArialMT-35\" x=\"55.615234\"/>\n       <use xlink:href=\"#ArialMT-30\" x=\"111.230469\"/>\n       <use xlink:href=\"#ArialMT-30\" x=\"166.845703\"/>\n       <use xlink:href=\"#ArialMT-30\" x=\"222.460938\"/>\n      </g>\n     </g>\n    </g>\n    <g id=\"text_10\">\n     <!-- price -->\n     <g style=\"fill: #262626\" transform=\"translate(161.595937 256.789219)scale(0.12 -0.12)\">\n      <defs>\n       <path id=\"ArialMT-70\" d=\"M 422 -1272 \nL 422 3319 \nL 934 3319 \nL 934 2888 \nQ 1116 3141 1344 3267 \nQ 1572 3394 1897 3394 \nQ 2322 3394 2647 3175 \nQ 2972 2956 3137 2557 \nQ 3303 2159 3303 1684 \nQ 3303 1175 3120 767 \nQ 2938 359 2589 142 \nQ 2241 -75 1856 -75 \nQ 1575 -75 1351 44 \nQ 1128 163 984 344 \nL 984 -1272 \nL 422 -1272 \nz\nM 931 1641 \nQ 931 1000 1190 694 \nQ 1450 388 1819 388 \nQ 2194 388 2461 705 \nQ 2728 1022 2728 1688 \nQ 2728 2322 2467 2637 \nQ 2206 2953 1844 2953 \nQ 1484 2953 1207 2617 \nQ 931 2281 931 1641 \nz\n\" transform=\"scale(0.015625)\"/>\n       <path id=\"ArialMT-72\" d=\"M 416 0 \nL 416 3319 \nL 922 3319 \nL 922 2816 \nQ 1116 3169 1280 3281 \nQ 1444 3394 1641 3394 \nQ 1925 3394 2219 3213 \nL 2025 2691 \nQ 1819 2813 1613 2813 \nQ 1428 2813 1281 2702 \nQ 1134 2591 1072 2394 \nQ 978 2094 978 1738 \nL 978 0 \nL 416 0 \nz\n\" transform=\"scale(0.015625)\"/>\n       <path id=\"ArialMT-69\" d=\"M 425 3934 \nL 425 4581 \nL 988 4581 \nL 988 3934 \nL 425 3934 \nz\nM 425 0 \nL 425 3319 \nL 988 3319 \nL 988 0 \nL 425 0 \nz\n\" transform=\"scale(0.015625)\"/>\n       <path id=\"ArialMT-63\" d=\"M 2588 1216 \nL 3141 1144 \nQ 3050 572 2676 248 \nQ 2303 -75 1759 -75 \nQ 1078 -75 664 370 \nQ 250 816 250 1647 \nQ 250 2184 428 2587 \nQ 606 2991 970 3192 \nQ 1334 3394 1763 3394 \nQ 2303 3394 2647 3120 \nQ 2991 2847 3088 2344 \nL 2541 2259 \nQ 2463 2594 2264 2762 \nQ 2066 2931 1784 2931 \nQ 1359 2931 1093 2626 \nQ 828 2322 828 1663 \nQ 828 994 1084 691 \nQ 1341 388 1753 388 \nQ 2084 388 2306 591 \nQ 2528 794 2588 1216 \nz\n\" transform=\"scale(0.015625)\"/>\n       <path id=\"ArialMT-65\" d=\"M 2694 1069 \nL 3275 997 \nQ 3138 488 2766 206 \nQ 2394 -75 1816 -75 \nQ 1088 -75 661 373 \nQ 234 822 234 1631 \nQ 234 2469 665 2931 \nQ 1097 3394 1784 3394 \nQ 2450 3394 2872 2941 \nQ 3294 2488 3294 1666 \nQ 3294 1616 3291 1516 \nL 816 1516 \nQ 847 969 1125 678 \nQ 1403 388 1819 388 \nQ 2128 388 2347 550 \nQ 2566 713 2694 1069 \nz\nM 847 1978 \nL 2700 1978 \nQ 2663 2397 2488 2606 \nQ 2219 2931 1791 2931 \nQ 1403 2931 1139 2672 \nQ 875 2413 847 1978 \nz\n\" transform=\"scale(0.015625)\"/>\n      </defs>\n      <use xlink:href=\"#ArialMT-70\"/>\n      <use xlink:href=\"#ArialMT-72\" x=\"55.615234\"/>\n      <use xlink:href=\"#ArialMT-69\" x=\"88.916016\"/>\n      <use xlink:href=\"#ArialMT-63\" x=\"111.132812\"/>\n      <use xlink:href=\"#ArialMT-65\" x=\"161.132812\"/>\n     </g>\n    </g>\n   </g>\n   <g id=\"matplotlib.axis_2\">\n    <g id=\"ytick_1\"/>\n   </g>\n   <g id=\"patch_3\">\n    <path d=\"M 42.494002 28.944 \nL 42.494002 202.896 \nL 108.418552 202.896 \nL 108.418552 28.944 \nL 42.494002 28.944 \nz\n\" clip-path=\"url(#p65f50391fa)\" style=\"fill: #5875a4; stroke: #4c4c4c; stroke-width: 1.5; stroke-linejoin: miter\"/>\n   </g>\n   <g id=\"line2d_10\">\n    <path d=\"M 42.494002 115.92 \nL 22.418182 115.92 \n\" clip-path=\"url(#p65f50391fa)\" style=\"fill: none; stroke: #4c4c4c; stroke-width: 1.5; stroke-linecap: round\"/>\n   </g>\n   <g id=\"line2d_11\">\n    <path d=\"M 108.418552 115.92 \nL 197.184353 115.92 \n\" clip-path=\"url(#p65f50391fa)\" style=\"fill: none; stroke: #4c4c4c; stroke-width: 1.5; stroke-linecap: round\"/>\n   </g>\n   <g id=\"line2d_12\">\n    <path d=\"M 22.418182 72.432 \nL 22.418182 159.408 \n\" clip-path=\"url(#p65f50391fa)\" style=\"fill: none; stroke: #4c4c4c; stroke-width: 1.5; stroke-linecap: round\"/>\n   </g>\n   <g id=\"line2d_13\">\n    <path d=\"M 197.184353 72.432 \nL 197.184353 159.408 \n\" clip-path=\"url(#p65f50391fa)\" style=\"fill: none; stroke: #4c4c4c; stroke-width: 1.5; stroke-linecap: round\"/>\n   </g>\n   <g id=\"line2d_14\">\n    <defs>\n     <path id=\"m9341e5e8f2\" d=\"M 0 3.535534 \nL 2.12132 0 \nL 0 -3.535534 \nL -2.12132 0 \nz\n\" style=\"stroke: #4c4c4c; stroke-linejoin: miter\"/>\n    </defs>\n    <g clip-path=\"url(#p65f50391fa)\">\n     <use xlink:href=\"#m9341e5e8f2\" x=\"216.164579\" y=\"115.92\" style=\"fill: #4c4c4c; stroke: #4c4c4c; stroke-linejoin: miter\"/>\n     <use xlink:href=\"#m9341e5e8f2\" x=\"295.916284\" y=\"115.92\" style=\"fill: #4c4c4c; stroke: #4c4c4c; stroke-linejoin: miter\"/>\n     <use xlink:href=\"#m9341e5e8f2\" x=\"262.406212\" y=\"115.92\" style=\"fill: #4c4c4c; stroke: #4c4c4c; stroke-linejoin: miter\"/>\n     <use xlink:href=\"#m9341e5e8f2\" x=\"227.422754\" y=\"115.92\" style=\"fill: #4c4c4c; stroke: #4c4c4c; stroke-linejoin: miter\"/>\n     <use xlink:href=\"#m9341e5e8f2\" x=\"252.356968\" y=\"115.92\" style=\"fill: #4c4c4c; stroke: #4c4c4c; stroke-linejoin: miter\"/>\n     <use xlink:href=\"#m9341e5e8f2\" x=\"255.757088\" y=\"115.92\" style=\"fill: #4c4c4c; stroke: #4c4c4c; stroke-linejoin: miter\"/>\n     <use xlink:href=\"#m9341e5e8f2\" x=\"222.51147\" y=\"115.92\" style=\"fill: #4c4c4c; stroke: #4c4c4c; stroke-linejoin: miter\"/>\n     <use xlink:href=\"#m9341e5e8f2\" x=\"242.035715\" y=\"115.92\" style=\"fill: #4c4c4c; stroke: #4c4c4c; stroke-linejoin: miter\"/>\n     <use xlink:href=\"#m9341e5e8f2\" x=\"248.624392\" y=\"115.92\" style=\"fill: #4c4c4c; stroke: #4c4c4c; stroke-linejoin: miter\"/>\n     <use xlink:href=\"#m9341e5e8f2\" x=\"293.233967\" y=\"115.92\" style=\"fill: #4c4c4c; stroke: #4c4c4c; stroke-linejoin: miter\"/>\n     <use xlink:href=\"#m9341e5e8f2\" x=\"326.781818\" y=\"115.92\" style=\"fill: #4c4c4c; stroke: #4c4c4c; stroke-linejoin: miter\"/>\n     <use xlink:href=\"#m9341e5e8f2\" x=\"229.523273\" y=\"115.92\" style=\"fill: #4c4c4c; stroke: #4c4c4c; stroke-linejoin: miter\"/>\n     <use xlink:href=\"#m9341e5e8f2\" x=\"240.857006\" y=\"115.92\" style=\"fill: #4c4c4c; stroke: #4c4c4c; stroke-linejoin: miter\"/>\n     <use xlink:href=\"#m9341e5e8f2\" x=\"263.524473\" y=\"115.92\" style=\"fill: #4c4c4c; stroke: #4c4c4c; stroke-linejoin: miter\"/>\n    </g>\n   </g>\n   <g id=\"line2d_15\">\n    <path d=\"M 61.534674 28.944 \nL 61.534674 202.896 \n\" clip-path=\"url(#p65f50391fa)\" style=\"fill: none; stroke: #4c4c4c; stroke-width: 1.5; stroke-linecap: round\"/>\n   </g>\n   <g id=\"patch_4\">\n    <path d=\"M 7.2 224.64 \nL 7.2 7.2 \n\" style=\"fill: none; stroke: #cccccc; stroke-width: 1.25; stroke-linejoin: miter; stroke-linecap: square\"/>\n   </g>\n   <g id=\"patch_5\">\n    <path d=\"M 342 224.64 \nL 342 7.2 \n\" style=\"fill: none; stroke: #cccccc; stroke-width: 1.25; stroke-linejoin: miter; stroke-linecap: square\"/>\n   </g>\n   <g id=\"patch_6\">\n    <path d=\"M 7.2 224.64 \nL 342 224.64 \n\" style=\"fill: none; stroke: #cccccc; stroke-width: 1.25; stroke-linejoin: miter; stroke-linecap: square\"/>\n   </g>\n   <g id=\"patch_7\">\n    <path d=\"M 7.2 7.2 \nL 342 7.2 \n\" style=\"fill: none; stroke: #cccccc; stroke-width: 1.25; stroke-linejoin: miter; stroke-linecap: square\"/>\n   </g>\n  </g>\n </g>\n <defs>\n  <clipPath id=\"p65f50391fa\">\n   <rect x=\"7.2\" y=\"7.2\" width=\"334.8\" height=\"217.44\"/>\n  </clipPath>\n </defs>\n</svg>\n",
      "text/plain": [
       "<Figure size 432x288 with 1 Axes>"
      ]
     },
     "metadata": {},
     "output_type": "display_data"
    }
   ],
   "source": [
    "sns.boxplot(x = df.price, orient=\"v\")"
   ]
  },
  {
   "cell_type": "markdown",
   "metadata": {
    "application/vnd.databricks.v1+cell": {
     "inputWidgets": {},
     "nuid": "e032b215-bbd8-4b52-b50f-62bb8ff7932b",
     "showTitle": false,
     "title": ""
    }
   },
   "source": [
    "Representar más de una gráfico tipo boxplot permite comparar la dispersión de los datos al poder ver los resultados de forma conjunta. Veamos la relación entre <b>body-style</b> y <b>price</b>."
   ]
  },
  {
   "cell_type": "code",
   "execution_count": 33,
   "metadata": {
    "application/vnd.databricks.v1+cell": {
     "inputWidgets": {},
     "nuid": "dd53649e-3dfa-47a8-966f-5af77e9a556f",
     "showTitle": false,
     "title": ""
    }
   },
   "outputs": [
    {
     "data": {
      "text/plain": [
       "<AxesSubplot:xlabel='body-style', ylabel='price'>"
      ]
     },
     "execution_count": 33,
     "metadata": {},
     "output_type": "execute_result"
    },
    {
     "data": {
      "image/png": "[encoded data removed]",
      "image/svg+xml": "<?xml version=\"1.0\" encoding=\"utf-8\" standalone=\"no\"?>\n<!DOCTYPE svg PUBLIC \"-//W3C//DTD SVG 1.1//EN\"\n  \"http://www.w3.org/Graphics/SVG/1.1/DTD/svg11.dtd\">\n<svg xmlns:xlink=\"http://www.w3.org/1999/xlink\" width=\"404.259531pt\" height=\"266.514844pt\" viewBox=\"0 0 404.259531 266.514844\" xmlns=\"http://www.w3.org/2000/svg\" version=\"1.1\">\n <metadata>\n  <rdf:RDF xmlns:dc=\"http://purl.org/dc/elements/1.1/\" xmlns:cc=\"http://creativecommons.org/ns#\" xmlns:rdf=\"http://www.w3.org/1999/02/22-rdf-syntax-ns#\">\n   <cc:Work>\n    <dc:type rdf:resource=\"http://purl.org/dc/dcmitype/StillImage\"/>\n    <dc:date>2022-02-07T12:59:12.487054</dc:date>\n    <dc:format>image/svg+xml</dc:format>\n    <dc:creator>\n     <cc:Agent>\n      <dc:title>Matplotlib v3.5.0, https://matplotlib.org/</dc:title>\n     </cc:Agent>\n    </dc:creator>\n   </cc:Work>\n  </rdf:RDF>\n </metadata>\n <defs>\n  <style type=\"text/css\">*{stroke-linejoin: round; stroke-linecap: butt}</style>\n </defs>\n <g id=\"figure_1\">\n  <g id=\"patch_1\">\n   <path d=\"M 0 266.514844 \nL 404.259531 266.514844 \nL 404.259531 0 \nL 0 0 \nz\n\" style=\"fill: #ffffff\"/>\n  </g>\n  <g id=\"axes_1\">\n   <g id=\"patch_2\">\n    <path d=\"M 62.259531 224.64 \nL 397.059531 224.64 \nL 397.059531 7.2 \nL 62.259531 7.2 \nz\n\" style=\"fill: #ffffff\"/>\n   </g>\n   <g id=\"matplotlib.axis_1\">\n    <g id=\"xtick_1\">\n     <g id=\"text_1\">\n      <!-- convertible -->\n      <g style=\"fill: #262626\" transform=\"translate(69.143594 242.013594)scale(0.11 -0.11)\">\n       <defs>\n        <path id=\"ArialMT-63\" d=\"M 2588 1216 \nL 3141 1144 \nQ 3050 572 2676 248 \nQ 2303 -75 1759 -75 \nQ 1078 -75 664 370 \nQ 250 816 250 1647 \nQ 250 2184 428 2587 \nQ 606 2991 970 3192 \nQ 1334 3394 1763 3394 \nQ 2303 3394 2647 3120 \nQ 2991 2847 3088 2344 \nL 2541 2259 \nQ 2463 2594 2264 2762 \nQ 2066 2931 1784 2931 \nQ 1359 2931 1093 2626 \nQ 828 2322 828 1663 \nQ 828 994 1084 691 \nQ 1341 388 1753 388 \nQ 2084 388 2306 591 \nQ 2528 794 2588 1216 \nz\n\" transform=\"scale(0.015625)\"/>\n        <path id=\"ArialMT-6f\" d=\"M 213 1659 \nQ 213 2581 725 3025 \nQ 1153 3394 1769 3394 \nQ 2453 3394 2887 2945 \nQ 3322 2497 3322 1706 \nQ 3322 1066 3130 698 \nQ 2938 331 2570 128 \nQ 2203 -75 1769 -75 \nQ 1072 -75 642 372 \nQ 213 819 213 1659 \nz\nM 791 1659 \nQ 791 1022 1069 705 \nQ 1347 388 1769 388 \nQ 2188 388 2466 706 \nQ 2744 1025 2744 1678 \nQ 2744 2294 2464 2611 \nQ 2184 2928 1769 2928 \nQ 1347 2928 1069 2612 \nQ 791 2297 791 1659 \nz\n\" transform=\"scale(0.015625)\"/>\n        <path id=\"ArialMT-6e\" d=\"M 422 0 \nL 422 3319 \nL 928 3319 \nL 928 2847 \nQ 1294 3394 1984 3394 \nQ 2284 3394 2536 3286 \nQ 2788 3178 2913 3003 \nQ 3038 2828 3088 2588 \nQ 3119 2431 3119 2041 \nL 3119 0 \nL 2556 0 \nL 2556 2019 \nQ 2556 2363 2490 2533 \nQ 2425 2703 2258 2804 \nQ 2091 2906 1866 2906 \nQ 1506 2906 1245 2678 \nQ 984 2450 984 1813 \nL 984 0 \nL 422 0 \nz\n\" transform=\"scale(0.015625)\"/>\n        <path id=\"ArialMT-76\" d=\"M 1344 0 \nL 81 3319 \nL 675 3319 \nL 1388 1331 \nQ 1503 1009 1600 663 \nQ 1675 925 1809 1294 \nL 2547 3319 \nL 3125 3319 \nL 1869 0 \nL 1344 0 \nz\n\" transform=\"scale(0.015625)\"/>\n        <path id=\"ArialMT-65\" d=\"M 2694 1069 \nL 3275 997 \nQ 3138 488 2766 206 \nQ 2394 -75 1816 -75 \nQ 1088 -75 661 373 \nQ 234 822 234 1631 \nQ 234 2469 665 2931 \nQ 1097 3394 1784 3394 \nQ 2450 3394 2872 2941 \nQ 3294 2488 3294 1666 \nQ 3294 1616 3291 1516 \nL 816 1516 \nQ 847 969 1125 678 \nQ 1403 388 1819 388 \nQ 2128 388 2347 550 \nQ 2566 713 2694 1069 \nz\nM 847 1978 \nL 2700 1978 \nQ 2663 2397 2488 2606 \nQ 2219 2931 1791 2931 \nQ 1403 2931 1139 2672 \nQ 875 2413 847 1978 \nz\n\" transform=\"scale(0.015625)\"/>\n        <path id=\"ArialMT-72\" d=\"M 416 0 \nL 416 3319 \nL 922 3319 \nL 922 2816 \nQ 1116 3169 1280 3281 \nQ 1444 3394 1641 3394 \nQ 1925 3394 2219 3213 \nL 2025 2691 \nQ 1819 2813 1613 2813 \nQ 1428 2813 1281 2702 \nQ 1134 2591 1072 2394 \nQ 978 2094 978 1738 \nL 978 0 \nL 416 0 \nz\n\" transform=\"scale(0.015625)\"/>\n        <path id=\"ArialMT-74\" d=\"M 1650 503 \nL 1731 6 \nQ 1494 -44 1306 -44 \nQ 1000 -44 831 53 \nQ 663 150 594 308 \nQ 525 466 525 972 \nL 525 2881 \nL 113 2881 \nL 113 3319 \nL 525 3319 \nL 525 4141 \nL 1084 4478 \nL 1084 3319 \nL 1650 3319 \nL 1650 2881 \nL 1084 2881 \nL 1084 941 \nQ 1084 700 1114 631 \nQ 1144 563 1211 522 \nQ 1278 481 1403 481 \nQ 1497 481 1650 503 \nz\n\" transform=\"scale(0.015625)\"/>\n        <path id=\"ArialMT-69\" d=\"M 425 3934 \nL 425 4581 \nL 988 4581 \nL 988 3934 \nL 425 3934 \nz\nM 425 0 \nL 425 3319 \nL 988 3319 \nL 988 0 \nL 425 0 \nz\n\" transform=\"scale(0.015625)\"/>\n        <path id=\"ArialMT-62\" d=\"M 941 0 \nL 419 0 \nL 419 4581 \nL 981 4581 \nL 981 2947 \nQ 1338 3394 1891 3394 \nQ 2197 3394 2470 3270 \nQ 2744 3147 2920 2923 \nQ 3097 2700 3197 2384 \nQ 3297 2069 3297 1709 \nQ 3297 856 2875 390 \nQ 2453 -75 1863 -75 \nQ 1275 -75 941 416 \nL 941 0 \nz\nM 934 1684 \nQ 934 1088 1097 822 \nQ 1363 388 1816 388 \nQ 2184 388 2453 708 \nQ 2722 1028 2722 1663 \nQ 2722 2313 2464 2622 \nQ 2206 2931 1841 2931 \nQ 1472 2931 1203 2611 \nQ 934 2291 934 1684 \nz\n\" transform=\"scale(0.015625)\"/>\n        <path id=\"ArialMT-6c\" d=\"M 409 0 \nL 409 4581 \nL 972 4581 \nL 972 0 \nL 409 0 \nz\n\" transform=\"scale(0.015625)\"/>\n       </defs>\n       <use xlink:href=\"#ArialMT-63\"/>\n       <use xlink:href=\"#ArialMT-6f\" x=\"50\"/>\n       <use xlink:href=\"#ArialMT-6e\" x=\"105.615234\"/>\n       <use xlink:href=\"#ArialMT-76\" x=\"161.230469\"/>\n       <use xlink:href=\"#ArialMT-65\" x=\"211.230469\"/>\n       <use xlink:href=\"#ArialMT-72\" x=\"266.845703\"/>\n       <use xlink:href=\"#ArialMT-74\" x=\"300.146484\"/>\n       <use xlink:href=\"#ArialMT-69\" x=\"327.929688\"/>\n       <use xlink:href=\"#ArialMT-62\" x=\"350.146484\"/>\n       <use xlink:href=\"#ArialMT-6c\" x=\"405.761719\"/>\n       <use xlink:href=\"#ArialMT-65\" x=\"427.978516\"/>\n      </g>\n     </g>\n    </g>\n    <g id=\"xtick_2\">\n     <g id=\"text_2\">\n      <!-- hatchback -->\n      <g style=\"fill: #262626\" transform=\"translate(137.628984 242.013594)scale(0.11 -0.11)\">\n       <defs>\n        <path id=\"ArialMT-68\" d=\"M 422 0 \nL 422 4581 \nL 984 4581 \nL 984 2938 \nQ 1378 3394 1978 3394 \nQ 2347 3394 2619 3248 \nQ 2891 3103 3008 2847 \nQ 3125 2591 3125 2103 \nL 3125 0 \nL 2563 0 \nL 2563 2103 \nQ 2563 2525 2380 2717 \nQ 2197 2909 1863 2909 \nQ 1613 2909 1392 2779 \nQ 1172 2650 1078 2428 \nQ 984 2206 984 1816 \nL 984 0 \nL 422 0 \nz\n\" transform=\"scale(0.015625)\"/>\n        <path id=\"ArialMT-61\" d=\"M 2588 409 \nQ 2275 144 1986 34 \nQ 1697 -75 1366 -75 \nQ 819 -75 525 192 \nQ 231 459 231 875 \nQ 231 1119 342 1320 \nQ 453 1522 633 1644 \nQ 813 1766 1038 1828 \nQ 1203 1872 1538 1913 \nQ 2219 1994 2541 2106 \nQ 2544 2222 2544 2253 \nQ 2544 2597 2384 2738 \nQ 2169 2928 1744 2928 \nQ 1347 2928 1158 2789 \nQ 969 2650 878 2297 \nL 328 2372 \nQ 403 2725 575 2942 \nQ 747 3159 1072 3276 \nQ 1397 3394 1825 3394 \nQ 2250 3394 2515 3294 \nQ 2781 3194 2906 3042 \nQ 3031 2891 3081 2659 \nQ 3109 2516 3109 2141 \nL 3109 1391 \nQ 3109 606 3145 398 \nQ 3181 191 3288 0 \nL 2700 0 \nQ 2613 175 2588 409 \nz\nM 2541 1666 \nQ 2234 1541 1622 1453 \nQ 1275 1403 1131 1340 \nQ 988 1278 909 1158 \nQ 831 1038 831 891 \nQ 831 666 1001 516 \nQ 1172 366 1500 366 \nQ 1825 366 2078 508 \nQ 2331 650 2450 897 \nQ 2541 1088 2541 1459 \nL 2541 1666 \nz\n\" transform=\"scale(0.015625)\"/>\n        <path id=\"ArialMT-6b\" d=\"M 425 0 \nL 425 4581 \nL 988 4581 \nL 988 1969 \nL 2319 3319 \nL 3047 3319 \nL 1778 2088 \nL 3175 0 \nL 2481 0 \nL 1384 1697 \nL 988 1316 \nL 988 0 \nL 425 0 \nz\n\" transform=\"scale(0.015625)\"/>\n       </defs>\n       <use xlink:href=\"#ArialMT-68\"/>\n       <use xlink:href=\"#ArialMT-61\" x=\"55.615234\"/>\n       <use xlink:href=\"#ArialMT-74\" x=\"111.230469\"/>\n       <use xlink:href=\"#ArialMT-63\" x=\"139.013672\"/>\n       <use xlink:href=\"#ArialMT-68\" x=\"189.013672\"/>\n       <use xlink:href=\"#ArialMT-62\" x=\"244.628906\"/>\n       <use xlink:href=\"#ArialMT-61\" x=\"300.244141\"/>\n       <use xlink:href=\"#ArialMT-63\" x=\"355.859375\"/>\n       <use xlink:href=\"#ArialMT-6b\" x=\"405.859375\"/>\n      </g>\n     </g>\n    </g>\n    <g id=\"xtick_3\">\n     <g id=\"text_3\">\n      <!-- sedan -->\n      <g style=\"fill: #262626\" transform=\"translate(214.675469 242.013594)scale(0.11 -0.11)\">\n       <defs>\n        <path id=\"ArialMT-73\" d=\"M 197 991 \nL 753 1078 \nQ 800 744 1014 566 \nQ 1228 388 1613 388 \nQ 2000 388 2187 545 \nQ 2375 703 2375 916 \nQ 2375 1106 2209 1216 \nQ 2094 1291 1634 1406 \nQ 1016 1563 777 1677 \nQ 538 1791 414 1992 \nQ 291 2194 291 2438 \nQ 291 2659 392 2848 \nQ 494 3038 669 3163 \nQ 800 3259 1026 3326 \nQ 1253 3394 1513 3394 \nQ 1903 3394 2198 3281 \nQ 2494 3169 2634 2976 \nQ 2775 2784 2828 2463 \nL 2278 2388 \nQ 2241 2644 2061 2787 \nQ 1881 2931 1553 2931 \nQ 1166 2931 1000 2803 \nQ 834 2675 834 2503 \nQ 834 2394 903 2306 \nQ 972 2216 1119 2156 \nQ 1203 2125 1616 2013 \nQ 2213 1853 2448 1751 \nQ 2684 1650 2818 1456 \nQ 2953 1263 2953 975 \nQ 2953 694 2789 445 \nQ 2625 197 2315 61 \nQ 2006 -75 1616 -75 \nQ 969 -75 630 194 \nQ 291 463 197 991 \nz\n\" transform=\"scale(0.015625)\"/>\n        <path id=\"ArialMT-64\" d=\"M 2575 0 \nL 2575 419 \nQ 2259 -75 1647 -75 \nQ 1250 -75 917 144 \nQ 584 363 401 755 \nQ 219 1147 219 1656 \nQ 219 2153 384 2558 \nQ 550 2963 881 3178 \nQ 1213 3394 1622 3394 \nQ 1922 3394 2156 3267 \nQ 2391 3141 2538 2938 \nL 2538 4581 \nL 3097 4581 \nL 3097 0 \nL 2575 0 \nz\nM 797 1656 \nQ 797 1019 1065 703 \nQ 1334 388 1700 388 \nQ 2069 388 2326 689 \nQ 2584 991 2584 1609 \nQ 2584 2291 2321 2609 \nQ 2059 2928 1675 2928 \nQ 1300 2928 1048 2622 \nQ 797 2316 797 1656 \nz\n\" transform=\"scale(0.015625)\"/>\n       </defs>\n       <use xlink:href=\"#ArialMT-73\"/>\n       <use xlink:href=\"#ArialMT-65\" x=\"50\"/>\n       <use xlink:href=\"#ArialMT-64\" x=\"105.615234\"/>\n       <use xlink:href=\"#ArialMT-61\" x=\"161.230469\"/>\n       <use xlink:href=\"#ArialMT-6e\" x=\"216.845703\"/>\n      </g>\n     </g>\n    </g>\n    <g id=\"xtick_4\">\n     <g id=\"text_4\">\n      <!-- wagon -->\n      <g style=\"fill: #262626\" transform=\"translate(280.413438 241.884688)scale(0.11 -0.11)\">\n       <defs>\n        <path id=\"ArialMT-77\" d=\"M 1034 0 \nL 19 3319 \nL 600 3319 \nL 1128 1403 \nL 1325 691 \nQ 1338 744 1497 1375 \nL 2025 3319 \nL 2603 3319 \nL 3100 1394 \nL 3266 759 \nL 3456 1400 \nL 4025 3319 \nL 4572 3319 \nL 3534 0 \nL 2950 0 \nL 2422 1988 \nL 2294 2553 \nL 1622 0 \nL 1034 0 \nz\n\" transform=\"scale(0.015625)\"/>\n        <path id=\"ArialMT-67\" d=\"M 319 -275 \nL 866 -356 \nQ 900 -609 1056 -725 \nQ 1266 -881 1628 -881 \nQ 2019 -881 2231 -725 \nQ 2444 -569 2519 -288 \nQ 2563 -116 2559 434 \nQ 2191 0 1641 0 \nQ 956 0 581 494 \nQ 206 988 206 1678 \nQ 206 2153 378 2554 \nQ 550 2956 876 3175 \nQ 1203 3394 1644 3394 \nQ 2231 3394 2613 2919 \nL 2613 3319 \nL 3131 3319 \nL 3131 450 \nQ 3131 -325 2973 -648 \nQ 2816 -972 2473 -1159 \nQ 2131 -1347 1631 -1347 \nQ 1038 -1347 672 -1080 \nQ 306 -813 319 -275 \nz\nM 784 1719 \nQ 784 1066 1043 766 \nQ 1303 466 1694 466 \nQ 2081 466 2343 764 \nQ 2606 1063 2606 1700 \nQ 2606 2309 2336 2618 \nQ 2066 2928 1684 2928 \nQ 1309 2928 1046 2623 \nQ 784 2319 784 1719 \nz\n\" transform=\"scale(0.015625)\"/>\n       </defs>\n       <use xlink:href=\"#ArialMT-77\"/>\n       <use xlink:href=\"#ArialMT-61\" x=\"72.216797\"/>\n       <use xlink:href=\"#ArialMT-67\" x=\"127.832031\"/>\n       <use xlink:href=\"#ArialMT-6f\" x=\"183.447266\"/>\n       <use xlink:href=\"#ArialMT-6e\" x=\"239.0625\"/>\n      </g>\n     </g>\n    </g>\n    <g id=\"xtick_5\">\n     <g id=\"text_5\">\n      <!-- hardtop -->\n      <g style=\"fill: #262626\" transform=\"translate(344.927656 242.013594)scale(0.11 -0.11)\">\n       <defs>\n        <path id=\"ArialMT-70\" d=\"M 422 -1272 \nL 422 3319 \nL 934 3319 \nL 934 2888 \nQ 1116 3141 1344 3267 \nQ 1572 3394 1897 3394 \nQ 2322 3394 2647 3175 \nQ 2972 2956 3137 2557 \nQ 3303 2159 3303 1684 \nQ 3303 1175 3120 767 \nQ 2938 359 2589 142 \nQ 2241 -75 1856 -75 \nQ 1575 -75 1351 44 \nQ 1128 163 984 344 \nL 984 -1272 \nL 422 -1272 \nz\nM 931 1641 \nQ 931 1000 1190 694 \nQ 1450 388 1819 388 \nQ 2194 388 2461 705 \nQ 2728 1022 2728 1688 \nQ 2728 2322 2467 2637 \nQ 2206 2953 1844 2953 \nQ 1484 2953 1207 2617 \nQ 931 2281 931 1641 \nz\n\" transform=\"scale(0.015625)\"/>\n       </defs>\n       <use xlink:href=\"#ArialMT-68\"/>\n       <use xlink:href=\"#ArialMT-61\" x=\"55.615234\"/>\n       <use xlink:href=\"#ArialMT-72\" x=\"111.230469\"/>\n       <use xlink:href=\"#ArialMT-64\" x=\"144.53125\"/>\n       <use xlink:href=\"#ArialMT-74\" x=\"200.146484\"/>\n       <use xlink:href=\"#ArialMT-6f\" x=\"227.929688\"/>\n       <use xlink:href=\"#ArialMT-70\" x=\"283.544922\"/>\n      </g>\n     </g>\n    </g>\n    <g id=\"text_6\">\n     <!-- body-style -->\n     <g style=\"fill: #262626\" transform=\"translate(202.315469 256.789219)scale(0.12 -0.12)\">\n      <defs>\n       <path id=\"ArialMT-79\" d=\"M 397 -1278 \nL 334 -750 \nQ 519 -800 656 -800 \nQ 844 -800 956 -737 \nQ 1069 -675 1141 -563 \nQ 1194 -478 1313 -144 \nQ 1328 -97 1363 -6 \nL 103 3319 \nL 709 3319 \nL 1400 1397 \nQ 1534 1031 1641 628 \nQ 1738 1016 1872 1384 \nL 2581 3319 \nL 3144 3319 \nL 1881 -56 \nQ 1678 -603 1566 -809 \nQ 1416 -1088 1222 -1217 \nQ 1028 -1347 759 -1347 \nQ 597 -1347 397 -1278 \nz\n\" transform=\"scale(0.015625)\"/>\n       <path id=\"ArialMT-2d\" d=\"M 203 1375 \nL 203 1941 \nL 1931 1941 \nL 1931 1375 \nL 203 1375 \nz\n\" transform=\"scale(0.015625)\"/>\n      </defs>\n      <use xlink:href=\"#ArialMT-62\"/>\n      <use xlink:href=\"#ArialMT-6f\" x=\"55.615234\"/>\n      <use xlink:href=\"#ArialMT-64\" x=\"111.230469\"/>\n      <use xlink:href=\"#ArialMT-79\" x=\"166.845703\"/>\n      <use xlink:href=\"#ArialMT-2d\" x=\"216.845703\"/>\n      <use xlink:href=\"#ArialMT-73\" x=\"250.146484\"/>\n      <use xlink:href=\"#ArialMT-74\" x=\"300.146484\"/>\n      <use xlink:href=\"#ArialMT-79\" x=\"327.929688\"/>\n      <use xlink:href=\"#ArialMT-6c\" x=\"377.929688\"/>\n      <use xlink:href=\"#ArialMT-65\" x=\"400.146484\"/>\n     </g>\n    </g>\n   </g>\n   <g id=\"matplotlib.axis_2\">\n    <g id=\"ytick_1\">\n     <g id=\"line2d_1\">\n      <path d=\"M 62.259531 215.335416 \nL 397.059531 215.335416 \n\" clip-path=\"url(#p707b1649bd)\" style=\"fill: none; stroke: #cccccc; stroke-linecap: round\"/>\n     </g>\n     <g id=\"text_7\">\n      <!-- 5000 -->\n      <g style=\"fill: #262626\" transform=\"translate(28.291406 219.272213)scale(0.11 -0.11)\">\n       <defs>\n        <path id=\"ArialMT-35\" d=\"M 266 1200 \nL 856 1250 \nQ 922 819 1161 601 \nQ 1400 384 1738 384 \nQ 2144 384 2425 690 \nQ 2706 997 2706 1503 \nQ 2706 1984 2436 2262 \nQ 2166 2541 1728 2541 \nQ 1456 2541 1237 2417 \nQ 1019 2294 894 2097 \nL 366 2166 \nL 809 4519 \nL 3088 4519 \nL 3088 3981 \nL 1259 3981 \nL 1013 2750 \nQ 1425 3038 1878 3038 \nQ 2478 3038 2890 2622 \nQ 3303 2206 3303 1553 \nQ 3303 931 2941 478 \nQ 2500 -78 1738 -78 \nQ 1113 -78 717 272 \nQ 322 622 266 1200 \nz\n\" transform=\"scale(0.015625)\"/>\n        <path id=\"ArialMT-30\" d=\"M 266 2259 \nQ 266 3072 433 3567 \nQ 600 4063 929 4331 \nQ 1259 4600 1759 4600 \nQ 2128 4600 2406 4451 \nQ 2684 4303 2865 4023 \nQ 3047 3744 3150 3342 \nQ 3253 2941 3253 2259 \nQ 3253 1453 3087 958 \nQ 2922 463 2592 192 \nQ 2263 -78 1759 -78 \nQ 1097 -78 719 397 \nQ 266 969 266 2259 \nz\nM 844 2259 \nQ 844 1131 1108 757 \nQ 1372 384 1759 384 \nQ 2147 384 2411 759 \nQ 2675 1134 2675 2259 \nQ 2675 3391 2411 3762 \nQ 2147 4134 1753 4134 \nQ 1366 4134 1134 3806 \nQ 844 3388 844 2259 \nz\n\" transform=\"scale(0.015625)\"/>\n       </defs>\n       <use xlink:href=\"#ArialMT-35\"/>\n       <use xlink:href=\"#ArialMT-30\" x=\"55.615234\"/>\n       <use xlink:href=\"#ArialMT-30\" x=\"111.230469\"/>\n       <use xlink:href=\"#ArialMT-30\" x=\"166.845703\"/>\n      </g>\n     </g>\n    </g>\n    <g id=\"ytick_2\">\n     <g id=\"line2d_2\">\n      <path d=\"M 62.259531 190.799305 \nL 397.059531 190.799305 \n\" clip-path=\"url(#p707b1649bd)\" style=\"fill: none; stroke: #cccccc; stroke-linecap: round\"/>\n     </g>\n     <g id=\"text_8\">\n      <!-- 10000 -->\n      <g style=\"fill: #262626\" transform=\"translate(22.174375 194.736101)scale(0.11 -0.11)\">\n       <defs>\n        <path id=\"ArialMT-31\" d=\"M 2384 0 \nL 1822 0 \nL 1822 3584 \nQ 1619 3391 1289 3197 \nQ 959 3003 697 2906 \nL 697 3450 \nQ 1169 3672 1522 3987 \nQ 1875 4303 2022 4600 \nL 2384 4600 \nL 2384 0 \nz\n\" transform=\"scale(0.015625)\"/>\n       </defs>\n       <use xlink:href=\"#ArialMT-31\"/>\n       <use xlink:href=\"#ArialMT-30\" x=\"55.615234\"/>\n       <use xlink:href=\"#ArialMT-30\" x=\"111.230469\"/>\n       <use xlink:href=\"#ArialMT-30\" x=\"166.845703\"/>\n       <use xlink:href=\"#ArialMT-30\" x=\"222.460938\"/>\n      </g>\n     </g>\n    </g>\n    <g id=\"ytick_3\">\n     <g id=\"line2d_3\">\n      <path d=\"M 62.259531 166.263193 \nL 397.059531 166.263193 \n\" clip-path=\"url(#p707b1649bd)\" style=\"fill: none; stroke: #cccccc; stroke-linecap: round\"/>\n     </g>\n     <g id=\"text_9\">\n      <!-- 15000 -->\n      <g style=\"fill: #262626\" transform=\"translate(22.174375 170.19999)scale(0.11 -0.11)\">\n       <use xlink:href=\"#ArialMT-31\"/>\n       <use xlink:href=\"#ArialMT-35\" x=\"55.615234\"/>\n       <use xlink:href=\"#ArialMT-30\" x=\"111.230469\"/>\n       <use xlink:href=\"#ArialMT-30\" x=\"166.845703\"/>\n       <use xlink:href=\"#ArialMT-30\" x=\"222.460938\"/>\n      </g>\n     </g>\n    </g>\n    <g id=\"ytick_4\">\n     <g id=\"line2d_4\">\n      <path d=\"M 62.259531 141.727082 \nL 397.059531 141.727082 \n\" clip-path=\"url(#p707b1649bd)\" style=\"fill: none; stroke: #cccccc; stroke-linecap: round\"/>\n     </g>\n     <g id=\"text_10\">\n      <!-- 20000 -->\n      <g style=\"fill: #262626\" transform=\"translate(22.174375 145.663879)scale(0.11 -0.11)\">\n       <defs>\n        <path id=\"ArialMT-32\" d=\"M 3222 541 \nL 3222 0 \nL 194 0 \nQ 188 203 259 391 \nQ 375 700 629 1000 \nQ 884 1300 1366 1694 \nQ 2113 2306 2375 2664 \nQ 2638 3022 2638 3341 \nQ 2638 3675 2398 3904 \nQ 2159 4134 1775 4134 \nQ 1369 4134 1125 3890 \nQ 881 3647 878 3216 \nL 300 3275 \nQ 359 3922 746 4261 \nQ 1134 4600 1788 4600 \nQ 2447 4600 2831 4234 \nQ 3216 3869 3216 3328 \nQ 3216 3053 3103 2787 \nQ 2991 2522 2730 2228 \nQ 2469 1934 1863 1422 \nQ 1356 997 1212 845 \nQ 1069 694 975 541 \nL 3222 541 \nz\n\" transform=\"scale(0.015625)\"/>\n       </defs>\n       <use xlink:href=\"#ArialMT-32\"/>\n       <use xlink:href=\"#ArialMT-30\" x=\"55.615234\"/>\n       <use xlink:href=\"#ArialMT-30\" x=\"111.230469\"/>\n       <use xlink:href=\"#ArialMT-30\" x=\"166.845703\"/>\n       <use xlink:href=\"#ArialMT-30\" x=\"222.460938\"/>\n      </g>\n     </g>\n    </g>\n    <g id=\"ytick_5\">\n     <g id=\"line2d_5\">\n      <path d=\"M 62.259531 117.190971 \nL 397.059531 117.190971 \n\" clip-path=\"url(#p707b1649bd)\" style=\"fill: none; stroke: #cccccc; stroke-linecap: round\"/>\n     </g>\n     <g id=\"text_11\">\n      <!-- 25000 -->\n      <g style=\"fill: #262626\" transform=\"translate(22.174375 121.127767)scale(0.11 -0.11)\">\n       <use xlink:href=\"#ArialMT-32\"/>\n       <use xlink:href=\"#ArialMT-35\" x=\"55.615234\"/>\n       <use xlink:href=\"#ArialMT-30\" x=\"111.230469\"/>\n       <use xlink:href=\"#ArialMT-30\" x=\"166.845703\"/>\n       <use xlink:href=\"#ArialMT-30\" x=\"222.460938\"/>\n      </g>\n     </g>\n    </g>\n    <g id=\"ytick_6\">\n     <g id=\"line2d_6\">\n      <path d=\"M 62.259531 92.654859 \nL 397.059531 92.654859 \n\" clip-path=\"url(#p707b1649bd)\" style=\"fill: none; stroke: #cccccc; stroke-linecap: round\"/>\n     </g>\n     <g id=\"text_12\">\n      <!-- 30000 -->\n      <g style=\"fill: #262626\" transform=\"translate(22.174375 96.591656)scale(0.11 -0.11)\">\n       <defs>\n        <path id=\"ArialMT-33\" d=\"M 269 1209 \nL 831 1284 \nQ 928 806 1161 595 \nQ 1394 384 1728 384 \nQ 2125 384 2398 659 \nQ 2672 934 2672 1341 \nQ 2672 1728 2419 1979 \nQ 2166 2231 1775 2231 \nQ 1616 2231 1378 2169 \nL 1441 2663 \nQ 1497 2656 1531 2656 \nQ 1891 2656 2178 2843 \nQ 2466 3031 2466 3422 \nQ 2466 3731 2256 3934 \nQ 2047 4138 1716 4138 \nQ 1388 4138 1169 3931 \nQ 950 3725 888 3313 \nL 325 3413 \nQ 428 3978 793 4289 \nQ 1159 4600 1703 4600 \nQ 2078 4600 2393 4439 \nQ 2709 4278 2876 4000 \nQ 3044 3722 3044 3409 \nQ 3044 3113 2884 2869 \nQ 2725 2625 2413 2481 \nQ 2819 2388 3044 2092 \nQ 3269 1797 3269 1353 \nQ 3269 753 2831 336 \nQ 2394 -81 1725 -81 \nQ 1122 -81 723 278 \nQ 325 638 269 1209 \nz\n\" transform=\"scale(0.015625)\"/>\n       </defs>\n       <use xlink:href=\"#ArialMT-33\"/>\n       <use xlink:href=\"#ArialMT-30\" x=\"55.615234\"/>\n       <use xlink:href=\"#ArialMT-30\" x=\"111.230469\"/>\n       <use xlink:href=\"#ArialMT-30\" x=\"166.845703\"/>\n       <use xlink:href=\"#ArialMT-30\" x=\"222.460938\"/>\n      </g>\n     </g>\n    </g>\n    <g id=\"ytick_7\">\n     <g id=\"line2d_7\">\n      <path d=\"M 62.259531 68.118748 \nL 397.059531 68.118748 \n\" clip-path=\"url(#p707b1649bd)\" style=\"fill: none; stroke: #cccccc; stroke-linecap: round\"/>\n     </g>\n     <g id=\"text_13\">\n      <!-- 35000 -->\n      <g style=\"fill: #262626\" transform=\"translate(22.174375 72.055545)scale(0.11 -0.11)\">\n       <use xlink:href=\"#ArialMT-33\"/>\n       <use xlink:href=\"#ArialMT-35\" x=\"55.615234\"/>\n       <use xlink:href=\"#ArialMT-30\" x=\"111.230469\"/>\n       <use xlink:href=\"#ArialMT-30\" x=\"166.845703\"/>\n       <use xlink:href=\"#ArialMT-30\" x=\"222.460938\"/>\n      </g>\n     </g>\n    </g>\n    <g id=\"ytick_8\">\n     <g id=\"line2d_8\">\n      <path d=\"M 62.259531 43.582637 \nL 397.059531 43.582637 \n\" clip-path=\"url(#p707b1649bd)\" style=\"fill: none; stroke: #cccccc; stroke-linecap: round\"/>\n     </g>\n     <g id=\"text_14\">\n      <!-- 40000 -->\n      <g style=\"fill: #262626\" transform=\"translate(22.174375 47.519433)scale(0.11 -0.11)\">\n       <defs>\n        <path id=\"ArialMT-34\" d=\"M 2069 0 \nL 2069 1097 \nL 81 1097 \nL 81 1613 \nL 2172 4581 \nL 2631 4581 \nL 2631 1613 \nL 3250 1613 \nL 3250 1097 \nL 2631 1097 \nL 2631 0 \nL 2069 0 \nz\nM 2069 1613 \nL 2069 3678 \nL 634 1613 \nL 2069 1613 \nz\n\" transform=\"scale(0.015625)\"/>\n       </defs>\n       <use xlink:href=\"#ArialMT-34\"/>\n       <use xlink:href=\"#ArialMT-30\" x=\"55.615234\"/>\n       <use xlink:href=\"#ArialMT-30\" x=\"111.230469\"/>\n       <use xlink:href=\"#ArialMT-30\" x=\"166.845703\"/>\n       <use xlink:href=\"#ArialMT-30\" x=\"222.460938\"/>\n      </g>\n     </g>\n    </g>\n    <g id=\"ytick_9\">\n     <g id=\"line2d_9\">\n      <path d=\"M 62.259531 19.046525 \nL 397.059531 19.046525 \n\" clip-path=\"url(#p707b1649bd)\" style=\"fill: none; stroke: #cccccc; stroke-linecap: round\"/>\n     </g>\n     <g id=\"text_15\">\n      <!-- 45000 -->\n      <g style=\"fill: #262626\" transform=\"translate(22.174375 22.983322)scale(0.11 -0.11)\">\n       <use xlink:href=\"#ArialMT-34\"/>\n       <use xlink:href=\"#ArialMT-35\" x=\"55.615234\"/>\n       <use xlink:href=\"#ArialMT-30\" x=\"111.230469\"/>\n       <use xlink:href=\"#ArialMT-30\" x=\"166.845703\"/>\n       <use xlink:href=\"#ArialMT-30\" x=\"222.460938\"/>\n      </g>\n     </g>\n    </g>\n    <g id=\"text_16\">\n     <!-- price -->\n     <g style=\"fill: #262626\" transform=\"translate(15.789375 128.924063)rotate(-90)scale(0.12 -0.12)\">\n      <use xlink:href=\"#ArialMT-70\"/>\n      <use xlink:href=\"#ArialMT-72\" x=\"55.615234\"/>\n      <use xlink:href=\"#ArialMT-69\" x=\"88.916016\"/>\n      <use xlink:href=\"#ArialMT-63\" x=\"111.132812\"/>\n      <use xlink:href=\"#ArialMT-65\" x=\"161.132812\"/>\n     </g>\n    </g>\n   </g>\n   <g id=\"patch_3\">\n    <path d=\"M 68.955531 169.962012 \nL 122.523531 169.962012 \nL 122.523531 89.174412 \nL 68.955531 89.174412 \nL 68.955531 169.962012 \nz\n\" clip-path=\"url(#p707b1649bd)\" style=\"fill: #5875a4; stroke: #4c4c4c; stroke-width: 1.5; stroke-linejoin: miter\"/>\n   </g>\n   <g id=\"patch_4\">\n    <path d=\"M 135.915531 207.882572 \nL 189.483531 207.882572 \nL 189.483531 180.765262 \nL 135.915531 180.765262 \nL 135.915531 207.882572 \nz\n\" clip-path=\"url(#p707b1649bd)\" style=\"fill: #cc8963; stroke: #4c4c4c; stroke-width: 1.5; stroke-linejoin: miter\"/>\n   </g>\n   <g id=\"patch_5\">\n    <path d=\"M 202.875531 200.560996 \nL 256.443531 200.560996 \nL 256.443531 152.081321 \nL 202.875531 152.081321 \nL 202.875531 200.560996 \nz\n\" clip-path=\"url(#p707b1649bd)\" style=\"fill: #5f9e6e; stroke: #4c4c4c; stroke-width: 1.5; stroke-linejoin: miter\"/>\n   </g>\n   <g id=\"patch_6\">\n    <path d=\"M 269.835531 200.549955 \nL 323.403531 200.549955 \nL 323.403531 162.582777 \nL 269.835531 162.582777 \nL 269.835531 200.549955 \nz\n\" clip-path=\"url(#p707b1649bd)\" style=\"fill: #b55d60; stroke: #4c4c4c; stroke-width: 1.5; stroke-linejoin: miter\"/>\n   </g>\n   <g id=\"patch_7\">\n    <path d=\"M 336.795531 194.03071 \nL 390.363531 194.03071 \nL 390.363531 78.409193 \nL 336.795531 78.409193 \nL 336.795531 194.03071 \nz\n\" clip-path=\"url(#p707b1649bd)\" style=\"fill: #857aab; stroke: #4c4c4c; stroke-width: 1.5; stroke-linejoin: miter\"/>\n   </g>\n   <g id=\"line2d_10\">\n    <path d=\"M 95.739531 169.962012 \nL 95.739531 182.972285 \n\" clip-path=\"url(#p707b1649bd)\" style=\"fill: none; stroke: #4c4c4c; stroke-width: 1.5; stroke-linecap: round\"/>\n   </g>\n   <g id=\"line2d_11\">\n    <path d=\"M 95.739531 89.174412 \nL 95.739531 58.166901 \n\" clip-path=\"url(#p707b1649bd)\" style=\"fill: none; stroke: #4c4c4c; stroke-width: 1.5; stroke-linecap: round\"/>\n   </g>\n   <g id=\"line2d_12\">\n    <path d=\"M 82.347531 182.972285 \nL 109.131531 182.972285 \n\" clip-path=\"url(#p707b1649bd)\" style=\"fill: none; stroke: #4c4c4c; stroke-width: 1.5; stroke-linecap: round\"/>\n   </g>\n   <g id=\"line2d_13\">\n    <path d=\"M 82.347531 58.166901 \nL 109.131531 58.166901 \n\" clip-path=\"url(#p707b1649bd)\" style=\"fill: none; stroke: #4c4c4c; stroke-width: 1.5; stroke-linecap: round\"/>\n   </g>\n   <g id=\"line2d_14\"/>\n   <g id=\"line2d_15\">\n    <path d=\"M 162.699531 207.882572 \nL 162.699531 214.756364 \n\" clip-path=\"url(#p707b1649bd)\" style=\"fill: none; stroke: #4c4c4c; stroke-width: 1.5; stroke-linecap: round\"/>\n   </g>\n   <g id=\"line2d_16\">\n    <path d=\"M 162.699531 180.765262 \nL 162.699531 143.204156 \n\" clip-path=\"url(#p707b1649bd)\" style=\"fill: none; stroke: #4c4c4c; stroke-width: 1.5; stroke-linecap: round\"/>\n   </g>\n   <g id=\"line2d_17\">\n    <path d=\"M 149.307531 214.756364 \nL 176.091531 214.756364 \n\" clip-path=\"url(#p707b1649bd)\" style=\"fill: none; stroke: #4c4c4c; stroke-width: 1.5; stroke-linecap: round\"/>\n   </g>\n   <g id=\"line2d_18\">\n    <path d=\"M 149.307531 143.204156 \nL 176.091531 143.204156 \n\" clip-path=\"url(#p707b1649bd)\" style=\"fill: none; stroke: #4c4c4c; stroke-width: 1.5; stroke-linecap: round\"/>\n   </g>\n   <g id=\"line2d_19\">\n    <defs>\n     <path id=\"m7d1bb4dc55\" d=\"M 0 3.535534 \nL 2.12132 0 \nL 0 -3.535534 \nL -2.12132 0 \nz\n\" style=\"stroke: #4c4c4c; stroke-linejoin: miter\"/>\n    </defs>\n    <g clip-path=\"url(#p707b1649bd)\">\n     <use xlink:href=\"#m7d1bb4dc55\" x=\"162.699531\" y=\"131.824307\" style=\"fill: #4c4c4c; stroke: #4c4c4c; stroke-linejoin: miter\"/>\n    </g>\n   </g>\n   <g id=\"line2d_20\">\n    <path d=\"M 229.659531 200.560996 \nL 229.659531 212.886712 \n\" clip-path=\"url(#p707b1649bd)\" style=\"fill: none; stroke: #4c4c4c; stroke-width: 1.5; stroke-linecap: round\"/>\n   </g>\n   <g id=\"line2d_21\">\n    <path d=\"M 229.659531 152.081321 \nL 229.659531 81.613609 \n\" clip-path=\"url(#p707b1649bd)\" style=\"fill: none; stroke: #4c4c4c; stroke-width: 1.5; stroke-linecap: round\"/>\n   </g>\n   <g id=\"line2d_22\">\n    <path d=\"M 216.267531 212.886712 \nL 243.051531 212.886712 \n\" clip-path=\"url(#p707b1649bd)\" style=\"fill: none; stroke: #4c4c4c; stroke-width: 1.5; stroke-linecap: round\"/>\n   </g>\n   <g id=\"line2d_23\">\n    <path d=\"M 216.267531 81.613609 \nL 243.051531 81.613609 \n\" clip-path=\"url(#p707b1649bd)\" style=\"fill: none; stroke: #4c4c4c; stroke-width: 1.5; stroke-linecap: round\"/>\n   </g>\n   <g id=\"line2d_24\">\n    <g clip-path=\"url(#p707b1649bd)\">\n     <use xlink:href=\"#m7d1bb4dc55\" x=\"229.659531\" y=\"37.129639\" style=\"fill: #4c4c4c; stroke: #4c4c4c; stroke-linejoin: miter\"/>\n     <use xlink:href=\"#m7d1bb4dc55\" x=\"229.659531\" y=\"58.89317\" style=\"fill: #4c4c4c; stroke: #4c4c4c; stroke-linejoin: miter\"/>\n     <use xlink:href=\"#m7d1bb4dc55\" x=\"229.659531\" y=\"65.419776\" style=\"fill: #4c4c4c; stroke: #4c4c4c; stroke-linejoin: miter\"/>\n     <use xlink:href=\"#m7d1bb4dc55\" x=\"229.659531\" y=\"63.211526\" style=\"fill: #4c4c4c; stroke: #4c4c4c; stroke-linejoin: miter\"/>\n     <use xlink:href=\"#m7d1bb4dc55\" x=\"229.659531\" y=\"72.123041\" style=\"fill: #4c4c4c; stroke: #4c4c4c; stroke-linejoin: miter\"/>\n     <use xlink:href=\"#m7d1bb4dc55\" x=\"229.659531\" y=\"38.871703\" style=\"fill: #4c4c4c; stroke: #4c4c4c; stroke-linejoin: miter\"/>\n    </g>\n   </g>\n   <g id=\"line2d_25\">\n    <path d=\"M 296.619531 200.549955 \nL 296.619531 205.923364 \n\" clip-path=\"url(#p707b1649bd)\" style=\"fill: none; stroke: #4c4c4c; stroke-width: 1.5; stroke-linecap: round\"/>\n   </g>\n   <g id=\"line2d_26\">\n    <path d=\"M 296.619531 162.582777 \nL 296.619531 146.879665 \n\" clip-path=\"url(#p707b1649bd)\" style=\"fill: none; stroke: #4c4c4c; stroke-width: 1.5; stroke-linecap: round\"/>\n   </g>\n   <g id=\"line2d_27\">\n    <path d=\"M 283.227531 205.923364 \nL 310.011531 205.923364 \n\" clip-path=\"url(#p707b1649bd)\" style=\"fill: none; stroke: #4c4c4c; stroke-width: 1.5; stroke-linecap: round\"/>\n   </g>\n   <g id=\"line2d_28\">\n    <path d=\"M 283.227531 146.879665 \nL 310.011531 146.879665 \n\" clip-path=\"url(#p707b1649bd)\" style=\"fill: none; stroke: #4c4c4c; stroke-width: 1.5; stroke-linecap: round\"/>\n   </g>\n   <g id=\"line2d_29\">\n    <g clip-path=\"url(#p707b1649bd)\">\n     <use xlink:href=\"#m7d1bb4dc55\" x=\"296.619531\" y=\"101.252313\" style=\"fill: #4c4c4c; stroke: #4c4c4c; stroke-linejoin: miter\"/>\n    </g>\n   </g>\n   <g id=\"line2d_30\">\n    <path d=\"M 363.579531 194.03071 \nL 363.579531 199.391851 \n\" clip-path=\"url(#p707b1649bd)\" style=\"fill: none; stroke: #4c4c4c; stroke-width: 1.5; stroke-linecap: round\"/>\n   </g>\n   <g id=\"line2d_31\">\n    <path d=\"M 363.579531 78.409193 \nL 363.579531 17.083636 \n\" clip-path=\"url(#p707b1649bd)\" style=\"fill: none; stroke: #4c4c4c; stroke-width: 1.5; stroke-linecap: round\"/>\n   </g>\n   <g id=\"line2d_32\">\n    <path d=\"M 350.187531 199.391851 \nL 376.971531 199.391851 \n\" clip-path=\"url(#p707b1649bd)\" style=\"fill: none; stroke: #4c4c4c; stroke-width: 1.5; stroke-linecap: round\"/>\n   </g>\n   <g id=\"line2d_33\">\n    <path d=\"M 350.187531 17.083636 \nL 376.971531 17.083636 \n\" clip-path=\"url(#p707b1649bd)\" style=\"fill: none; stroke: #4c4c4c; stroke-width: 1.5; stroke-linecap: round\"/>\n   </g>\n   <g id=\"line2d_34\"/>\n   <g id=\"line2d_35\">\n    <path d=\"M 68.955531 156.034088 \nL 122.523531 156.034088 \n\" clip-path=\"url(#p707b1649bd)\" style=\"fill: none; stroke: #4c4c4c; stroke-width: 1.5; stroke-linecap: round\"/>\n   </g>\n   <g id=\"line2d_36\">\n    <path d=\"M 135.915531 197.316096 \nL 189.483531 197.316096 \n\" clip-path=\"url(#p707b1649bd)\" style=\"fill: none; stroke: #4c4c4c; stroke-width: 1.5; stroke-linecap: round\"/>\n   </g>\n   <g id=\"line2d_37\">\n    <path d=\"M 202.875531 185.506865 \nL 256.443531 185.506865 \n\" clip-path=\"url(#p707b1649bd)\" style=\"fill: none; stroke: #4c4c4c; stroke-width: 1.5; stroke-linecap: round\"/>\n   </g>\n   <g id=\"line2d_38\">\n    <path d=\"M 269.835531 182.48647 \nL 323.403531 182.48647 \n\" clip-path=\"url(#p707b1649bd)\" style=\"fill: none; stroke: #4c4c4c; stroke-width: 1.5; stroke-linecap: round\"/>\n   </g>\n   <g id=\"line2d_39\">\n    <path d=\"M 336.795531 143.260589 \nL 390.363531 143.260589 \n\" clip-path=\"url(#p707b1649bd)\" style=\"fill: none; stroke: #4c4c4c; stroke-width: 1.5; stroke-linecap: round\"/>\n   </g>\n   <g id=\"patch_8\">\n    <path d=\"M 62.259531 224.64 \nL 62.259531 7.2 \n\" style=\"fill: none; stroke: #cccccc; stroke-width: 1.25; stroke-linejoin: miter; stroke-linecap: square\"/>\n   </g>\n   <g id=\"patch_9\">\n    <path d=\"M 397.059531 224.64 \nL 397.059531 7.2 \n\" style=\"fill: none; stroke: #cccccc; stroke-width: 1.25; stroke-linejoin: miter; stroke-linecap: square\"/>\n   </g>\n   <g id=\"patch_10\">\n    <path d=\"M 62.259531 224.64 \nL 397.059531 224.64 \n\" style=\"fill: none; stroke: #cccccc; stroke-width: 1.25; stroke-linejoin: miter; stroke-linecap: square\"/>\n   </g>\n   <g id=\"patch_11\">\n    <path d=\"M 62.259531 7.2 \nL 397.059531 7.2 \n\" style=\"fill: none; stroke: #cccccc; stroke-width: 1.25; stroke-linejoin: miter; stroke-linecap: square\"/>\n   </g>\n  </g>\n </g>\n <defs>\n  <clipPath id=\"p707b1649bd\">\n   <rect x=\"62.259531\" y=\"7.2\" width=\"334.8\" height=\"217.44\"/>\n  </clipPath>\n </defs>\n</svg>\n",
      "text/plain": [
       "<Figure size 432x288 with 1 Axes>"
      ]
     },
     "metadata": {},
     "output_type": "display_data"
    }
   ],
   "source": [
    "sns.boxplot(x=\"body-style\", y=\"price\", data=df)"
   ]
  },
  {
   "cell_type": "markdown",
   "metadata": {
    "application/vnd.databricks.v1+cell": {
     "inputWidgets": {},
     "nuid": "1bb09af8-3786-48c4-aef6-12d76522e27a",
     "showTitle": false,
     "title": ""
    }
   },
   "source": [
    "<p>Vemos que las distribuciones de precios entre las diferentes categorías del body style tienen una superposición significativa, por lo que esta característica no sería un buen predictor del precio.</p>"
   ]
  },
  {
   "cell_type": "markdown",
   "metadata": {
    "application/vnd.databricks.v1+cell": {
     "inputWidgets": {},
     "nuid": "6909c26b-9743-43e3-b15d-3d592fc0bd99",
     "showTitle": false,
     "title": ""
    }
   },
   "source": [
    "<div class=\"alert alert-success alertsuccess\" style=\"margin-top: 20px\">\n",
    "   <strong>AHORA TÚ: </strong>  \n",
    "  <p>\n",
    "Visualiza las variables <b>engine-location</b> y <b>price</b> utilizando un gráfico de BoxPlot\n",
    "  </p>\n",
    "</div>"
   ]
  },
  {
   "cell_type": "code",
   "execution_count": 34,
   "metadata": {
    "application/vnd.databricks.v1+cell": {
     "inputWidgets": {},
     "nuid": "7b5c8a76-59bd-4b5d-946b-b3aa1ab03b79",
     "showTitle": false,
     "title": ""
    }
   },
   "outputs": [
    {
     "data": {
      "text/plain": [
       "<AxesSubplot:xlabel='engine-location', ylabel='price'>"
      ]
     },
     "execution_count": 34,
     "metadata": {},
     "output_type": "execute_result"
    },
    {
     "data": {
      "image/png": "[encoded data removed]",
      "image/svg+xml": "<?xml version=\"1.0\" encoding=\"utf-8\" standalone=\"no\"?>\n<!DOCTYPE svg PUBLIC \"-//W3C//DTD SVG 1.1//EN\"\n  \"http://www.w3.org/Graphics/SVG/1.1/DTD/svg11.dtd\">\n<svg xmlns:xlink=\"http://www.w3.org/1999/xlink\" width=\"404.259531pt\" height=\"266.514844pt\" viewBox=\"0 0 404.259531 266.514844\" xmlns=\"http://www.w3.org/2000/svg\" version=\"1.1\">\n <metadata>\n  <rdf:RDF xmlns:dc=\"http://purl.org/dc/elements/1.1/\" xmlns:cc=\"http://creativecommons.org/ns#\" xmlns:rdf=\"http://www.w3.org/1999/02/22-rdf-syntax-ns#\">\n   <cc:Work>\n    <dc:type rdf:resource=\"http://purl.org/dc/dcmitype/StillImage\"/>\n    <dc:date>2022-02-07T12:59:12.864210</dc:date>\n    <dc:format>image/svg+xml</dc:format>\n    <dc:creator>\n     <cc:Agent>\n      <dc:title>Matplotlib v3.5.0, https://matplotlib.org/</dc:title>\n     </cc:Agent>\n    </dc:creator>\n   </cc:Work>\n  </rdf:RDF>\n </metadata>\n <defs>\n  <style type=\"text/css\">*{stroke-linejoin: round; stroke-linecap: butt}</style>\n </defs>\n <g id=\"figure_1\">\n  <g id=\"patch_1\">\n   <path d=\"M 0 266.514844 \nL 404.259531 266.514844 \nL 404.259531 0 \nL 0 0 \nz\n\" style=\"fill: #ffffff\"/>\n  </g>\n  <g id=\"axes_1\">\n   <g id=\"patch_2\">\n    <path d=\"M 62.259531 224.64 \nL 397.059531 224.64 \nL 397.059531 7.2 \nL 62.259531 7.2 \nz\n\" style=\"fill: #ffffff\"/>\n   </g>\n   <g id=\"matplotlib.axis_1\">\n    <g id=\"xtick_1\">\n     <g id=\"text_1\">\n      <!-- front -->\n      <g style=\"fill: #262626\" transform=\"translate(134.955234 242.013594)scale(0.11 -0.11)\">\n       <defs>\n        <path id=\"ArialMT-66\" d=\"M 556 0 \nL 556 2881 \nL 59 2881 \nL 59 3319 \nL 556 3319 \nL 556 3672 \nQ 556 4006 616 4169 \nQ 697 4388 901 4523 \nQ 1106 4659 1475 4659 \nQ 1713 4659 2000 4603 \nL 1916 4113 \nQ 1741 4144 1584 4144 \nQ 1328 4144 1222 4034 \nQ 1116 3925 1116 3625 \nL 1116 3319 \nL 1763 3319 \nL 1763 2881 \nL 1116 2881 \nL 1116 0 \nL 556 0 \nz\n\" transform=\"scale(0.015625)\"/>\n        <path id=\"ArialMT-72\" d=\"M 416 0 \nL 416 3319 \nL 922 3319 \nL 922 2816 \nQ 1116 3169 1280 3281 \nQ 1444 3394 1641 3394 \nQ 1925 3394 2219 3213 \nL 2025 2691 \nQ 1819 2813 1613 2813 \nQ 1428 2813 1281 2702 \nQ 1134 2591 1072 2394 \nQ 978 2094 978 1738 \nL 978 0 \nL 416 0 \nz\n\" transform=\"scale(0.015625)\"/>\n        <path id=\"ArialMT-6f\" d=\"M 213 1659 \nQ 213 2581 725 3025 \nQ 1153 3394 1769 3394 \nQ 2453 3394 2887 2945 \nQ 3322 2497 3322 1706 \nQ 3322 1066 3130 698 \nQ 2938 331 2570 128 \nQ 2203 -75 1769 -75 \nQ 1072 -75 642 372 \nQ 213 819 213 1659 \nz\nM 791 1659 \nQ 791 1022 1069 705 \nQ 1347 388 1769 388 \nQ 2188 388 2466 706 \nQ 2744 1025 2744 1678 \nQ 2744 2294 2464 2611 \nQ 2184 2928 1769 2928 \nQ 1347 2928 1069 2612 \nQ 791 2297 791 1659 \nz\n\" transform=\"scale(0.015625)\"/>\n        <path id=\"ArialMT-6e\" d=\"M 422 0 \nL 422 3319 \nL 928 3319 \nL 928 2847 \nQ 1294 3394 1984 3394 \nQ 2284 3394 2536 3286 \nQ 2788 3178 2913 3003 \nQ 3038 2828 3088 2588 \nQ 3119 2431 3119 2041 \nL 3119 0 \nL 2556 0 \nL 2556 2019 \nQ 2556 2363 2490 2533 \nQ 2425 2703 2258 2804 \nQ 2091 2906 1866 2906 \nQ 1506 2906 1245 2678 \nQ 984 2450 984 1813 \nL 984 0 \nL 422 0 \nz\n\" transform=\"scale(0.015625)\"/>\n        <path id=\"ArialMT-74\" d=\"M 1650 503 \nL 1731 6 \nQ 1494 -44 1306 -44 \nQ 1000 -44 831 53 \nQ 663 150 594 308 \nQ 525 466 525 972 \nL 525 2881 \nL 113 2881 \nL 113 3319 \nL 525 3319 \nL 525 4141 \nL 1084 4478 \nL 1084 3319 \nL 1650 3319 \nL 1650 2881 \nL 1084 2881 \nL 1084 941 \nQ 1084 700 1114 631 \nQ 1144 563 1211 522 \nQ 1278 481 1403 481 \nQ 1497 481 1650 503 \nz\n\" transform=\"scale(0.015625)\"/>\n       </defs>\n       <use xlink:href=\"#ArialMT-66\"/>\n       <use xlink:href=\"#ArialMT-72\" x=\"27.783203\"/>\n       <use xlink:href=\"#ArialMT-6f\" x=\"61.083984\"/>\n       <use xlink:href=\"#ArialMT-6e\" x=\"116.699219\"/>\n       <use xlink:href=\"#ArialMT-74\" x=\"172.314453\"/>\n      </g>\n     </g>\n    </g>\n    <g id=\"xtick_2\">\n     <g id=\"text_2\">\n      <!-- rear -->\n      <g style=\"fill: #262626\" transform=\"translate(303.579844 242.013594)scale(0.11 -0.11)\">\n       <defs>\n        <path id=\"ArialMT-65\" d=\"M 2694 1069 \nL 3275 997 \nQ 3138 488 2766 206 \nQ 2394 -75 1816 -75 \nQ 1088 -75 661 373 \nQ 234 822 234 1631 \nQ 234 2469 665 2931 \nQ 1097 3394 1784 3394 \nQ 2450 3394 2872 2941 \nQ 3294 2488 3294 1666 \nQ 3294 1616 3291 1516 \nL 816 1516 \nQ 847 969 1125 678 \nQ 1403 388 1819 388 \nQ 2128 388 2347 550 \nQ 2566 713 2694 1069 \nz\nM 847 1978 \nL 2700 1978 \nQ 2663 2397 2488 2606 \nQ 2219 2931 1791 2931 \nQ 1403 2931 1139 2672 \nQ 875 2413 847 1978 \nz\n\" transform=\"scale(0.015625)\"/>\n        <path id=\"ArialMT-61\" d=\"M 2588 409 \nQ 2275 144 1986 34 \nQ 1697 -75 1366 -75 \nQ 819 -75 525 192 \nQ 231 459 231 875 \nQ 231 1119 342 1320 \nQ 453 1522 633 1644 \nQ 813 1766 1038 1828 \nQ 1203 1872 1538 1913 \nQ 2219 1994 2541 2106 \nQ 2544 2222 2544 2253 \nQ 2544 2597 2384 2738 \nQ 2169 2928 1744 2928 \nQ 1347 2928 1158 2789 \nQ 969 2650 878 2297 \nL 328 2372 \nQ 403 2725 575 2942 \nQ 747 3159 1072 3276 \nQ 1397 3394 1825 3394 \nQ 2250 3394 2515 3294 \nQ 2781 3194 2906 3042 \nQ 3031 2891 3081 2659 \nQ 3109 2516 3109 2141 \nL 3109 1391 \nQ 3109 606 3145 398 \nQ 3181 191 3288 0 \nL 2700 0 \nQ 2613 175 2588 409 \nz\nM 2541 1666 \nQ 2234 1541 1622 1453 \nQ 1275 1403 1131 1340 \nQ 988 1278 909 1158 \nQ 831 1038 831 891 \nQ 831 666 1001 516 \nQ 1172 366 1500 366 \nQ 1825 366 2078 508 \nQ 2331 650 2450 897 \nQ 2541 1088 2541 1459 \nL 2541 1666 \nz\n\" transform=\"scale(0.015625)\"/>\n       </defs>\n       <use xlink:href=\"#ArialMT-72\"/>\n       <use xlink:href=\"#ArialMT-65\" x=\"33.300781\"/>\n       <use xlink:href=\"#ArialMT-61\" x=\"88.916016\"/>\n       <use xlink:href=\"#ArialMT-72\" x=\"144.53125\"/>\n      </g>\n     </g>\n    </g>\n    <g id=\"text_3\">\n     <!-- engine-location -->\n     <g style=\"fill: #262626\" transform=\"translate(188.966406 256.789219)scale(0.12 -0.12)\">\n      <defs>\n       <path id=\"ArialMT-67\" d=\"M 319 -275 \nL 866 -356 \nQ 900 -609 1056 -725 \nQ 1266 -881 1628 -881 \nQ 2019 -881 2231 -725 \nQ 2444 -569 2519 -288 \nQ 2563 -116 2559 434 \nQ 2191 0 1641 0 \nQ 956 0 581 494 \nQ 206 988 206 1678 \nQ 206 2153 378 2554 \nQ 550 2956 876 3175 \nQ 1203 3394 1644 3394 \nQ 2231 3394 2613 2919 \nL 2613 3319 \nL 3131 3319 \nL 3131 450 \nQ 3131 -325 2973 -648 \nQ 2816 -972 2473 -1159 \nQ 2131 -1347 1631 -1347 \nQ 1038 -1347 672 -1080 \nQ 306 -813 319 -275 \nz\nM 784 1719 \nQ 784 1066 1043 766 \nQ 1303 466 1694 466 \nQ 2081 466 2343 764 \nQ 2606 1063 2606 1700 \nQ 2606 2309 2336 2618 \nQ 2066 2928 1684 2928 \nQ 1309 2928 1046 2623 \nQ 784 2319 784 1719 \nz\n\" transform=\"scale(0.015625)\"/>\n       <path id=\"ArialMT-69\" d=\"M 425 3934 \nL 425 4581 \nL 988 4581 \nL 988 3934 \nL 425 3934 \nz\nM 425 0 \nL 425 3319 \nL 988 3319 \nL 988 0 \nL 425 0 \nz\n\" transform=\"scale(0.015625)\"/>\n       <path id=\"ArialMT-2d\" d=\"M 203 1375 \nL 203 1941 \nL 1931 1941 \nL 1931 1375 \nL 203 1375 \nz\n\" transform=\"scale(0.015625)\"/>\n       <path id=\"ArialMT-6c\" d=\"M 409 0 \nL 409 4581 \nL 972 4581 \nL 972 0 \nL 409 0 \nz\n\" transform=\"scale(0.015625)\"/>\n       <path id=\"ArialMT-63\" d=\"M 2588 1216 \nL 3141 1144 \nQ 3050 572 2676 248 \nQ 2303 -75 1759 -75 \nQ 1078 -75 664 370 \nQ 250 816 250 1647 \nQ 250 2184 428 2587 \nQ 606 2991 970 3192 \nQ 1334 3394 1763 3394 \nQ 2303 3394 2647 3120 \nQ 2991 2847 3088 2344 \nL 2541 2259 \nQ 2463 2594 2264 2762 \nQ 2066 2931 1784 2931 \nQ 1359 2931 1093 2626 \nQ 828 2322 828 1663 \nQ 828 994 1084 691 \nQ 1341 388 1753 388 \nQ 2084 388 2306 591 \nQ 2528 794 2588 1216 \nz\n\" transform=\"scale(0.015625)\"/>\n      </defs>\n      <use xlink:href=\"#ArialMT-65\"/>\n      <use xlink:href=\"#ArialMT-6e\" x=\"55.615234\"/>\n      <use xlink:href=\"#ArialMT-67\" x=\"111.230469\"/>\n      <use xlink:href=\"#ArialMT-69\" x=\"166.845703\"/>\n      <use xlink:href=\"#ArialMT-6e\" x=\"189.0625\"/>\n      <use xlink:href=\"#ArialMT-65\" x=\"244.677734\"/>\n      <use xlink:href=\"#ArialMT-2d\" x=\"300.292969\"/>\n      <use xlink:href=\"#ArialMT-6c\" x=\"333.59375\"/>\n      <use xlink:href=\"#ArialMT-6f\" x=\"355.810547\"/>\n      <use xlink:href=\"#ArialMT-63\" x=\"411.425781\"/>\n      <use xlink:href=\"#ArialMT-61\" x=\"461.425781\"/>\n      <use xlink:href=\"#ArialMT-74\" x=\"517.041016\"/>\n      <use xlink:href=\"#ArialMT-69\" x=\"544.824219\"/>\n      <use xlink:href=\"#ArialMT-6f\" x=\"567.041016\"/>\n      <use xlink:href=\"#ArialMT-6e\" x=\"622.65625\"/>\n     </g>\n    </g>\n   </g>\n   <g id=\"matplotlib.axis_2\">\n    <g id=\"ytick_1\">\n     <g id=\"line2d_1\">\n      <path d=\"M 62.259531 215.335416 \nL 397.059531 215.335416 \n\" clip-path=\"url(#p6ec16d6c2c)\" style=\"fill: none; stroke: #cccccc; stroke-linecap: round\"/>\n     </g>\n     <g id=\"text_4\">\n      <!-- 5000 -->\n      <g style=\"fill: #262626\" transform=\"translate(28.291406 219.272213)scale(0.11 -0.11)\">\n       <defs>\n        <path id=\"ArialMT-35\" d=\"M 266 1200 \nL 856 1250 \nQ 922 819 1161 601 \nQ 1400 384 1738 384 \nQ 2144 384 2425 690 \nQ 2706 997 2706 1503 \nQ 2706 1984 2436 2262 \nQ 2166 2541 1728 2541 \nQ 1456 2541 1237 2417 \nQ 1019 2294 894 2097 \nL 366 2166 \nL 809 4519 \nL 3088 4519 \nL 3088 3981 \nL 1259 3981 \nL 1013 2750 \nQ 1425 3038 1878 3038 \nQ 2478 3038 2890 2622 \nQ 3303 2206 3303 1553 \nQ 3303 931 2941 478 \nQ 2500 -78 1738 -78 \nQ 1113 -78 717 272 \nQ 322 622 266 1200 \nz\n\" transform=\"scale(0.015625)\"/>\n        <path id=\"ArialMT-30\" d=\"M 266 2259 \nQ 266 3072 433 3567 \nQ 600 4063 929 4331 \nQ 1259 4600 1759 4600 \nQ 2128 4600 2406 4451 \nQ 2684 4303 2865 4023 \nQ 3047 3744 3150 3342 \nQ 3253 2941 3253 2259 \nQ 3253 1453 3087 958 \nQ 2922 463 2592 192 \nQ 2263 -78 1759 -78 \nQ 1097 -78 719 397 \nQ 266 969 266 2259 \nz\nM 844 2259 \nQ 844 1131 1108 757 \nQ 1372 384 1759 384 \nQ 2147 384 2411 759 \nQ 2675 1134 2675 2259 \nQ 2675 3391 2411 3762 \nQ 2147 4134 1753 4134 \nQ 1366 4134 1134 3806 \nQ 844 3388 844 2259 \nz\n\" transform=\"scale(0.015625)\"/>\n       </defs>\n       <use xlink:href=\"#ArialMT-35\"/>\n       <use xlink:href=\"#ArialMT-30\" x=\"55.615234\"/>\n       <use xlink:href=\"#ArialMT-30\" x=\"111.230469\"/>\n       <use xlink:href=\"#ArialMT-30\" x=\"166.845703\"/>\n      </g>\n     </g>\n    </g>\n    <g id=\"ytick_2\">\n     <g id=\"line2d_2\">\n      <path d=\"M 62.259531 190.799305 \nL 397.059531 190.799305 \n\" clip-path=\"url(#p6ec16d6c2c)\" style=\"fill: none; stroke: #cccccc; stroke-linecap: round\"/>\n     </g>\n     <g id=\"text_5\">\n      <!-- 10000 -->\n      <g style=\"fill: #262626\" transform=\"translate(22.174375 194.736101)scale(0.11 -0.11)\">\n       <defs>\n        <path id=\"ArialMT-31\" d=\"M 2384 0 \nL 1822 0 \nL 1822 3584 \nQ 1619 3391 1289 3197 \nQ 959 3003 697 2906 \nL 697 3450 \nQ 1169 3672 1522 3987 \nQ 1875 4303 2022 4600 \nL 2384 4600 \nL 2384 0 \nz\n\" transform=\"scale(0.015625)\"/>\n       </defs>\n       <use xlink:href=\"#ArialMT-31\"/>\n       <use xlink:href=\"#ArialMT-30\" x=\"55.615234\"/>\n       <use xlink:href=\"#ArialMT-30\" x=\"111.230469\"/>\n       <use xlink:href=\"#ArialMT-30\" x=\"166.845703\"/>\n       <use xlink:href=\"#ArialMT-30\" x=\"222.460938\"/>\n      </g>\n     </g>\n    </g>\n    <g id=\"ytick_3\">\n     <g id=\"line2d_3\">\n      <path d=\"M 62.259531 166.263193 \nL 397.059531 166.263193 \n\" clip-path=\"url(#p6ec16d6c2c)\" style=\"fill: none; stroke: #cccccc; stroke-linecap: round\"/>\n     </g>\n     <g id=\"text_6\">\n      <!-- 15000 -->\n      <g style=\"fill: #262626\" transform=\"translate(22.174375 170.19999)scale(0.11 -0.11)\">\n       <use xlink:href=\"#ArialMT-31\"/>\n       <use xlink:href=\"#ArialMT-35\" x=\"55.615234\"/>\n       <use xlink:href=\"#ArialMT-30\" x=\"111.230469\"/>\n       <use xlink:href=\"#ArialMT-30\" x=\"166.845703\"/>\n       <use xlink:href=\"#ArialMT-30\" x=\"222.460938\"/>\n      </g>\n     </g>\n    </g>\n    <g id=\"ytick_4\">\n     <g id=\"line2d_4\">\n      <path d=\"M 62.259531 141.727082 \nL 397.059531 141.727082 \n\" clip-path=\"url(#p6ec16d6c2c)\" style=\"fill: none; stroke: #cccccc; stroke-linecap: round\"/>\n     </g>\n     <g id=\"text_7\">\n      <!-- 20000 -->\n      <g style=\"fill: #262626\" transform=\"translate(22.174375 145.663879)scale(0.11 -0.11)\">\n       <defs>\n        <path id=\"ArialMT-32\" d=\"M 3222 541 \nL 3222 0 \nL 194 0 \nQ 188 203 259 391 \nQ 375 700 629 1000 \nQ 884 1300 1366 1694 \nQ 2113 2306 2375 2664 \nQ 2638 3022 2638 3341 \nQ 2638 3675 2398 3904 \nQ 2159 4134 1775 4134 \nQ 1369 4134 1125 3890 \nQ 881 3647 878 3216 \nL 300 3275 \nQ 359 3922 746 4261 \nQ 1134 4600 1788 4600 \nQ 2447 4600 2831 4234 \nQ 3216 3869 3216 3328 \nQ 3216 3053 3103 2787 \nQ 2991 2522 2730 2228 \nQ 2469 1934 1863 1422 \nQ 1356 997 1212 845 \nQ 1069 694 975 541 \nL 3222 541 \nz\n\" transform=\"scale(0.015625)\"/>\n       </defs>\n       <use xlink:href=\"#ArialMT-32\"/>\n       <use xlink:href=\"#ArialMT-30\" x=\"55.615234\"/>\n       <use xlink:href=\"#ArialMT-30\" x=\"111.230469\"/>\n       <use xlink:href=\"#ArialMT-30\" x=\"166.845703\"/>\n       <use xlink:href=\"#ArialMT-30\" x=\"222.460938\"/>\n      </g>\n     </g>\n    </g>\n    <g id=\"ytick_5\">\n     <g id=\"line2d_5\">\n      <path d=\"M 62.259531 117.190971 \nL 397.059531 117.190971 \n\" clip-path=\"url(#p6ec16d6c2c)\" style=\"fill: none; stroke: #cccccc; stroke-linecap: round\"/>\n     </g>\n     <g id=\"text_8\">\n      <!-- 25000 -->\n      <g style=\"fill: #262626\" transform=\"translate(22.174375 121.127767)scale(0.11 -0.11)\">\n       <use xlink:href=\"#ArialMT-32\"/>\n       <use xlink:href=\"#ArialMT-35\" x=\"55.615234\"/>\n       <use xlink:href=\"#ArialMT-30\" x=\"111.230469\"/>\n       <use xlink:href=\"#ArialMT-30\" x=\"166.845703\"/>\n       <use xlink:href=\"#ArialMT-30\" x=\"222.460938\"/>\n      </g>\n     </g>\n    </g>\n    <g id=\"ytick_6\">\n     <g id=\"line2d_6\">\n      <path d=\"M 62.259531 92.654859 \nL 397.059531 92.654859 \n\" clip-path=\"url(#p6ec16d6c2c)\" style=\"fill: none; stroke: #cccccc; stroke-linecap: round\"/>\n     </g>\n     <g id=\"text_9\">\n      <!-- 30000 -->\n      <g style=\"fill: #262626\" transform=\"translate(22.174375 96.591656)scale(0.11 -0.11)\">\n       <defs>\n        <path id=\"ArialMT-33\" d=\"M 269 1209 \nL 831 1284 \nQ 928 806 1161 595 \nQ 1394 384 1728 384 \nQ 2125 384 2398 659 \nQ 2672 934 2672 1341 \nQ 2672 1728 2419 1979 \nQ 2166 2231 1775 2231 \nQ 1616 2231 1378 2169 \nL 1441 2663 \nQ 1497 2656 1531 2656 \nQ 1891 2656 2178 2843 \nQ 2466 3031 2466 3422 \nQ 2466 3731 2256 3934 \nQ 2047 4138 1716 4138 \nQ 1388 4138 1169 3931 \nQ 950 3725 888 3313 \nL 325 3413 \nQ 428 3978 793 4289 \nQ 1159 4600 1703 4600 \nQ 2078 4600 2393 4439 \nQ 2709 4278 2876 4000 \nQ 3044 3722 3044 3409 \nQ 3044 3113 2884 2869 \nQ 2725 2625 2413 2481 \nQ 2819 2388 3044 2092 \nQ 3269 1797 3269 1353 \nQ 3269 753 2831 336 \nQ 2394 -81 1725 -81 \nQ 1122 -81 723 278 \nQ 325 638 269 1209 \nz\n\" transform=\"scale(0.015625)\"/>\n       </defs>\n       <use xlink:href=\"#ArialMT-33\"/>\n       <use xlink:href=\"#ArialMT-30\" x=\"55.615234\"/>\n       <use xlink:href=\"#ArialMT-30\" x=\"111.230469\"/>\n       <use xlink:href=\"#ArialMT-30\" x=\"166.845703\"/>\n       <use xlink:href=\"#ArialMT-30\" x=\"222.460938\"/>\n      </g>\n     </g>\n    </g>\n    <g id=\"ytick_7\">\n     <g id=\"line2d_7\">\n      <path d=\"M 62.259531 68.118748 \nL 397.059531 68.118748 \n\" clip-path=\"url(#p6ec16d6c2c)\" style=\"fill: none; stroke: #cccccc; stroke-linecap: round\"/>\n     </g>\n     <g id=\"text_10\">\n      <!-- 35000 -->\n      <g style=\"fill: #262626\" transform=\"translate(22.174375 72.055545)scale(0.11 -0.11)\">\n       <use xlink:href=\"#ArialMT-33\"/>\n       <use xlink:href=\"#ArialMT-35\" x=\"55.615234\"/>\n       <use xlink:href=\"#ArialMT-30\" x=\"111.230469\"/>\n       <use xlink:href=\"#ArialMT-30\" x=\"166.845703\"/>\n       <use xlink:href=\"#ArialMT-30\" x=\"222.460938\"/>\n      </g>\n     </g>\n    </g>\n    <g id=\"ytick_8\">\n     <g id=\"line2d_8\">\n      <path d=\"M 62.259531 43.582637 \nL 397.059531 43.582637 \n\" clip-path=\"url(#p6ec16d6c2c)\" style=\"fill: none; stroke: #cccccc; stroke-linecap: round\"/>\n     </g>\n     <g id=\"text_11\">\n      <!-- 40000 -->\n      <g style=\"fill: #262626\" transform=\"translate(22.174375 47.519433)scale(0.11 -0.11)\">\n       <defs>\n        <path id=\"ArialMT-34\" d=\"M 2069 0 \nL 2069 1097 \nL 81 1097 \nL 81 1613 \nL 2172 4581 \nL 2631 4581 \nL 2631 1613 \nL 3250 1613 \nL 3250 1097 \nL 2631 1097 \nL 2631 0 \nL 2069 0 \nz\nM 2069 1613 \nL 2069 3678 \nL 634 1613 \nL 2069 1613 \nz\n\" transform=\"scale(0.015625)\"/>\n       </defs>\n       <use xlink:href=\"#ArialMT-34\"/>\n       <use xlink:href=\"#ArialMT-30\" x=\"55.615234\"/>\n       <use xlink:href=\"#ArialMT-30\" x=\"111.230469\"/>\n       <use xlink:href=\"#ArialMT-30\" x=\"166.845703\"/>\n       <use xlink:href=\"#ArialMT-30\" x=\"222.460938\"/>\n      </g>\n     </g>\n    </g>\n    <g id=\"ytick_9\">\n     <g id=\"line2d_9\">\n      <path d=\"M 62.259531 19.046525 \nL 397.059531 19.046525 \n\" clip-path=\"url(#p6ec16d6c2c)\" style=\"fill: none; stroke: #cccccc; stroke-linecap: round\"/>\n     </g>\n     <g id=\"text_12\">\n      <!-- 45000 -->\n      <g style=\"fill: #262626\" transform=\"translate(22.174375 22.983322)scale(0.11 -0.11)\">\n       <use xlink:href=\"#ArialMT-34\"/>\n       <use xlink:href=\"#ArialMT-35\" x=\"55.615234\"/>\n       <use xlink:href=\"#ArialMT-30\" x=\"111.230469\"/>\n       <use xlink:href=\"#ArialMT-30\" x=\"166.845703\"/>\n       <use xlink:href=\"#ArialMT-30\" x=\"222.460938\"/>\n      </g>\n     </g>\n    </g>\n    <g id=\"text_13\">\n     <!-- price -->\n     <g style=\"fill: #262626\" transform=\"translate(15.789375 128.924063)rotate(-90)scale(0.12 -0.12)\">\n      <defs>\n       <path id=\"ArialMT-70\" d=\"M 422 -1272 \nL 422 3319 \nL 934 3319 \nL 934 2888 \nQ 1116 3141 1344 3267 \nQ 1572 3394 1897 3394 \nQ 2322 3394 2647 3175 \nQ 2972 2956 3137 2557 \nQ 3303 2159 3303 1684 \nQ 3303 1175 3120 767 \nQ 2938 359 2589 142 \nQ 2241 -75 1856 -75 \nQ 1575 -75 1351 44 \nQ 1128 163 984 344 \nL 984 -1272 \nL 422 -1272 \nz\nM 931 1641 \nQ 931 1000 1190 694 \nQ 1450 388 1819 388 \nQ 2194 388 2461 705 \nQ 2728 1022 2728 1688 \nQ 2728 2322 2467 2637 \nQ 2206 2953 1844 2953 \nQ 1484 2953 1207 2617 \nQ 931 2281 931 1641 \nz\n\" transform=\"scale(0.015625)\"/>\n      </defs>\n      <use xlink:href=\"#ArialMT-70\"/>\n      <use xlink:href=\"#ArialMT-72\" x=\"55.615234\"/>\n      <use xlink:href=\"#ArialMT-69\" x=\"88.916016\"/>\n      <use xlink:href=\"#ArialMT-63\" x=\"111.132812\"/>\n      <use xlink:href=\"#ArialMT-65\" x=\"161.132812\"/>\n     </g>\n    </g>\n   </g>\n   <g id=\"patch_3\">\n    <path d=\"M 78.999531 201.717874 \nL 212.919531 201.717874 \nL 212.919531 159.775845 \nL 78.999531 159.775845 \nL 78.999531 201.717874 \nz\n\" clip-path=\"url(#p6ec16d6c2c)\" style=\"fill: #5875a4; stroke: #4c4c4c; stroke-width: 1.5; stroke-linejoin: miter\"/>\n   </g>\n   <g id=\"patch_4\">\n    <path d=\"M 246.399531 76.568985 \nL 380.319531 76.568985 \nL 380.319531 65.527735 \nL 246.399531 65.527735 \nL 246.399531 76.568985 \nz\n\" clip-path=\"url(#p6ec16d6c2c)\" style=\"fill: #cc8963; stroke: #4c4c4c; stroke-width: 1.5; stroke-linejoin: miter\"/>\n   </g>\n   <g id=\"line2d_10\">\n    <path d=\"M 145.959531 201.717874 \nL 145.959531 214.756364 \n\" clip-path=\"url(#p6ec16d6c2c)\" style=\"fill: none; stroke: #4c4c4c; stroke-width: 1.5; stroke-linecap: round\"/>\n   </g>\n   <g id=\"line2d_11\">\n    <path d=\"M 145.959531 159.775845 \nL 145.959531 101.252313 \n\" clip-path=\"url(#p6ec16d6c2c)\" style=\"fill: none; stroke: #4c4c4c; stroke-width: 1.5; stroke-linecap: round\"/>\n   </g>\n   <g id=\"line2d_12\">\n    <path d=\"M 112.479531 214.756364 \nL 179.439531 214.756364 \n\" clip-path=\"url(#p6ec16d6c2c)\" style=\"fill: none; stroke: #4c4c4c; stroke-width: 1.5; stroke-linecap: round\"/>\n   </g>\n   <g id=\"line2d_13\">\n    <path d=\"M 112.479531 101.252313 \nL 179.439531 101.252313 \n\" clip-path=\"url(#p6ec16d6c2c)\" style=\"fill: none; stroke: #4c4c4c; stroke-width: 1.5; stroke-linecap: round\"/>\n   </g>\n   <g id=\"line2d_14\">\n    <defs>\n     <path id=\"m46ca4b03c2\" d=\"M 0 3.535534 \nL 2.12132 0 \nL 0 -3.535534 \nL -2.12132 0 \nz\n\" style=\"stroke: #4c4c4c; stroke-linejoin: miter\"/>\n    </defs>\n    <g clip-path=\"url(#p6ec16d6c2c)\">\n     <use xlink:href=\"#m46ca4b03c2\" x=\"145.959531\" y=\"88.92537\" style=\"fill: #4c4c4c; stroke: #4c4c4c; stroke-linejoin: miter\"/>\n     <use xlink:href=\"#m46ca4b03c2\" x=\"145.959531\" y=\"37.129639\" style=\"fill: #4c4c4c; stroke: #4c4c4c; stroke-linejoin: miter\"/>\n     <use xlink:href=\"#m46ca4b03c2\" x=\"145.959531\" y=\"58.89317\" style=\"fill: #4c4c4c; stroke: #4c4c4c; stroke-linejoin: miter\"/>\n     <use xlink:href=\"#m46ca4b03c2\" x=\"145.959531\" y=\"81.613609\" style=\"fill: #4c4c4c; stroke: #4c4c4c; stroke-linejoin: miter\"/>\n     <use xlink:href=\"#m46ca4b03c2\" x=\"145.959531\" y=\"65.419776\" style=\"fill: #4c4c4c; stroke: #4c4c4c; stroke-linejoin: miter\"/>\n     <use xlink:href=\"#m46ca4b03c2\" x=\"145.959531\" y=\"63.211526\" style=\"fill: #4c4c4c; stroke: #4c4c4c; stroke-linejoin: miter\"/>\n     <use xlink:href=\"#m46ca4b03c2\" x=\"145.959531\" y=\"84.803304\" style=\"fill: #4c4c4c; stroke: #4c4c4c; stroke-linejoin: miter\"/>\n     <use xlink:href=\"#m46ca4b03c2\" x=\"145.959531\" y=\"72.123041\" style=\"fill: #4c4c4c; stroke: #4c4c4c; stroke-linejoin: miter\"/>\n     <use xlink:href=\"#m46ca4b03c2\" x=\"145.959531\" y=\"67.843943\" style=\"fill: #4c4c4c; stroke: #4c4c4c; stroke-linejoin: miter\"/>\n     <use xlink:href=\"#m46ca4b03c2\" x=\"145.959531\" y=\"38.871703\" style=\"fill: #4c4c4c; stroke: #4c4c4c; stroke-linejoin: miter\"/>\n     <use xlink:href=\"#m46ca4b03c2\" x=\"145.959531\" y=\"17.083636\" style=\"fill: #4c4c4c; stroke: #4c4c4c; stroke-linejoin: miter\"/>\n    </g>\n   </g>\n   <g id=\"line2d_15\">\n    <path d=\"M 313.359531 76.568985 \nL 313.359531 80.249401 \n\" clip-path=\"url(#p6ec16d6c2c)\" style=\"fill: none; stroke: #4c4c4c; stroke-width: 1.5; stroke-linecap: round\"/>\n   </g>\n   <g id=\"line2d_16\">\n    <path d=\"M 313.359531 65.527735 \nL 313.359531 58.166901 \n\" clip-path=\"url(#p6ec16d6c2c)\" style=\"fill: none; stroke: #4c4c4c; stroke-width: 1.5; stroke-linecap: round\"/>\n   </g>\n   <g id=\"line2d_17\">\n    <path d=\"M 279.879531 80.249401 \nL 346.839531 80.249401 \n\" clip-path=\"url(#p6ec16d6c2c)\" style=\"fill: none; stroke: #4c4c4c; stroke-width: 1.5; stroke-linecap: round\"/>\n   </g>\n   <g id=\"line2d_18\">\n    <path d=\"M 279.879531 58.166901 \nL 346.839531 58.166901 \n\" clip-path=\"url(#p6ec16d6c2c)\" style=\"fill: none; stroke: #4c4c4c; stroke-width: 1.5; stroke-linecap: round\"/>\n   </g>\n   <g id=\"line2d_19\"/>\n   <g id=\"line2d_20\">\n    <path d=\"M 78.999531 189.712355 \nL 212.919531 189.712355 \n\" clip-path=\"url(#p6ec16d6c2c)\" style=\"fill: none; stroke: #4c4c4c; stroke-width: 1.5; stroke-linecap: round\"/>\n   </g>\n   <g id=\"line2d_21\">\n    <path d=\"M 246.399531 72.888568 \nL 380.319531 72.888568 \n\" clip-path=\"url(#p6ec16d6c2c)\" style=\"fill: none; stroke: #4c4c4c; stroke-width: 1.5; stroke-linecap: round\"/>\n   </g>\n   <g id=\"patch_5\">\n    <path d=\"M 62.259531 224.64 \nL 62.259531 7.2 \n\" style=\"fill: none; stroke: #cccccc; stroke-width: 1.25; stroke-linejoin: miter; stroke-linecap: square\"/>\n   </g>\n   <g id=\"patch_6\">\n    <path d=\"M 397.059531 224.64 \nL 397.059531 7.2 \n\" style=\"fill: none; stroke: #cccccc; stroke-width: 1.25; stroke-linejoin: miter; stroke-linecap: square\"/>\n   </g>\n   <g id=\"patch_7\">\n    <path d=\"M 62.259531 224.64 \nL 397.059531 224.64 \n\" style=\"fill: none; stroke: #cccccc; stroke-width: 1.25; stroke-linejoin: miter; stroke-linecap: square\"/>\n   </g>\n   <g id=\"patch_8\">\n    <path d=\"M 62.259531 7.2 \nL 397.059531 7.2 \n\" style=\"fill: none; stroke: #cccccc; stroke-width: 1.25; stroke-linejoin: miter; stroke-linecap: square\"/>\n   </g>\n  </g>\n </g>\n <defs>\n  <clipPath id=\"p6ec16d6c2c\">\n   <rect x=\"62.259531\" y=\"7.2\" width=\"334.8\" height=\"217.44\"/>\n  </clipPath>\n </defs>\n</svg>\n",
      "text/plain": [
       "<Figure size 432x288 with 1 Axes>"
      ]
     },
     "metadata": {},
     "output_type": "display_data"
    }
   ],
   "source": [
    "# Escribe tu código aquí y presiona Shift+Enter para ejecutar\n",
    "sns.boxplot(x=\"engine-location\", y=\"price\", data=df)"
   ]
  },
  {
   "cell_type": "markdown",
   "metadata": {
    "application/vnd.databricks.v1+cell": {
     "inputWidgets": {},
     "nuid": "e5e83a93-a48f-4c5b-baf3-6076f7d036ca",
     "showTitle": false,
     "title": ""
    }
   },
   "source": [
    "Haz doble clic <b>aquí</b> para ver la solución.\n",
    "\n",
    "<!-- Respuesta:\n",
    "\n",
    "sns.boxplot(x=\"engine-location\", y=\"price\", data=df)\n",
    "\n",
    "-->"
   ]
  },
  {
   "cell_type": "markdown",
   "metadata": {
    "application/vnd.databricks.v1+cell": {
     "inputWidgets": {},
     "nuid": "e2f3f6c5-a17d-4e90-8664-e7e1ec16a41d",
     "showTitle": false,
     "title": ""
    }
   },
   "source": [
    "<h3>Exportar los datos</h3>"
   ]
  },
  {
   "cell_type": "markdown",
   "metadata": {
    "application/vnd.databricks.v1+cell": {
     "inputWidgets": {},
     "nuid": "bec03d70-3a0b-4db1-9bfe-e87aa8a1d3c8",
     "showTitle": false,
     "title": ""
    }
   },
   "source": [
    "<p>\n",
    "De la misma forma, Pandas nos permite guardar el conjunto en formato CSV con el método <code>dataframe.to_csv()</code>, puedes añadir la ruta al archivo y el nombre con comillas dentro de los corchetes.\n",
    "</p>\n",
    "<p>\n",
    "    Por ejemplo, para guardar el dataframe <code>df</code> como <b>automobile.csv</b> en tu equipo local, se podría usar la sintaxis siguiente:\n",
    "    </p>"
   ]
  },
  {
   "cell_type": "code",
   "execution_count": 35,
   "metadata": {
    "application/vnd.databricks.v1+cell": {
     "inputWidgets": {},
     "nuid": "ef64c037-6276-46d1-9c86-4c86fb659a2b",
     "showTitle": false,
     "title": ""
    }
   },
   "outputs": [],
   "source": [
    "#path=\"/dbfs/FileStore/tables/automobile.csv\"\n",
    "#df.to_csv(path)\n",
    "df.to_csv(\"automobile.csv\")"
   ]
  },
  {
   "cell_type": "markdown",
   "metadata": {
    "application/vnd.databricks.v1+cell": {
     "inputWidgets": {},
     "nuid": "07c82f8c-5b7a-40ad-bf28-019e5a797e32",
     "showTitle": false,
     "title": ""
    }
   },
   "source": [
    "Podemos leer y guardar con otros formatos y usar funciones similares a <code>pd.read_csv()</code> y <code>df.to_csv()</code> para otros formatos de datos, las funciones se muestran en la siguiente tabla:\n",
    "\n",
    "| Data Formate |        Read       |            Save |\n",
    "| ------------ | :---------------: | --------------: |\n",
    "| csv          |  `pd.read_csv()`  |   `df.to_csv()` |\n",
    "| json         |  `pd.read_json()` |  `df.to_json()` |\n",
    "| excel        | `pd.read_excel()` | `df.to_excel()` |\n",
    "| hdf          |  `pd.read_hdf()`  |   `df.to_hdf()` |\n",
    "| sql          |  `pd.read_sql()`  |   `df.to_sql()` |\n",
    "| ...          |        ...        |             ... |"
   ]
  },
  {
   "cell_type": "markdown",
   "metadata": {
    "application/vnd.databricks.v1+cell": {
     "inputWidgets": {},
     "nuid": "ac015f93-9541-44f4-a318-b88870335ee4",
     "showTitle": false,
     "title": ""
    }
   },
   "source": [
    "Links de ayuda interesantes:\n",
    "<ul>\n",
    "    <li>Graficos Seaborn: https://seaborn.pydata.org/examples/index.html</li>\n",
    "    <li>Plotting with categorical data: https://seaborn.pydata.org/tutorial/categorical.html</li>\n",
    "    <li>Visualizing statistical relationships: https://seaborn.pydata.org/tutorial/relational.html </li>\n",
    "    <li>Funciones Generales y Ayuda Pandas: https://pandas.pydata.org/pandas-docs/stable/reference/general_functions.html </li>\n",
    "    <li>How to Perform Exploratory Data Analysis with Seaborn: https://towardsdatascience.com/how-to-perform-exploratory-data-analysis-with-seaborn-97e3413e841d</li> \n",
    "<ul>"
   ]
  }
 ],
 "metadata": {
  "application/vnd.databricks.v1+notebook": {
   "dashboards": [],
   "language": "python",
   "notebookMetadata": {
    "pythonIndentUnit": 2
   },
   "notebookName": "EjerciciosPracticos_Exploracion",
   "notebookOrigID": 3438185790994154,
   "widgets": {}
  },
  "kernelspec": {
   "display_name": "Python 3",
   "language": "python",
   "name": "python3"
  },
  "language_info": {
   "codemirror_mode": {
    "name": "ipython",
    "version": 3
   },
   "file_extension": ".py",
   "mimetype": "text/x-python",
   "name": "python",
   "nbconvert_exporter": "python",
   "pygments_lexer": "ipython3",
   "version": "3.10.0"
  }
 },
 "nbformat": 4,
 "nbformat_minor": 4
}
