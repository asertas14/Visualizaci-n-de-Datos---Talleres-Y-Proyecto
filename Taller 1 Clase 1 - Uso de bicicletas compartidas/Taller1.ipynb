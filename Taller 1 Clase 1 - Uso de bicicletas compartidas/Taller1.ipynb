{
 "cells": [
  {
   "cell_type": "markdown",
   "metadata": {},
   "source": [
    "# Bicilcetas compartidas\n",
    "\n",
    "Objetivos:\n",
    "\n",
    "    - ¿En qué epoca del año debo asegurarme tener el mayor número de bicicletas?\n",
    "    - ¿cuáles  son las horas del día y los dias de la semana donde voy a tener mayor demanda ?\n",
    "    - Es posible inferir el uso qué le dan a las bicicletas mis usuarios ?\n",
    "    - Cómo afectan las condiciones climáticas en la renta de las bicicletas ?"
   ]
  },
  {
   "cell_type": "markdown",
   "metadata": {},
   "source": [
    "# Importación de librerías\n",
    "\n",
    "En las siguientes líneas se importarán las librerías necesarias, las cuales son **Pandas** para el manejo de datos, **matplotlib** para realizar gráficas."
   ]
  },
  {
   "cell_type": "code",
   "execution_count": 1,
   "metadata": {},
   "outputs": [],
   "source": [
    "#Para manejo de datos\n",
    "import pandas as pd\n",
    "# Para gráficar\n",
    "import numpy as np\n",
    "import matplotlib.pyplot as plt"
   ]
  },
  {
   "cell_type": "markdown",
   "metadata": {},
   "source": [
    "# Carga de datos"
   ]
  },
  {
   "cell_type": "code",
   "execution_count": 2,
   "metadata": {},
   "outputs": [],
   "source": [
    "# Carga datos dia\n",
    "data_d= pd.read_csv('Bike-Sharing-Dataset/day.csv',index_col=0)"
   ]
  },
  {
   "cell_type": "code",
   "execution_count": 3,
   "metadata": {},
   "outputs": [
    {
     "data": {
      "text/html": [
       "<div>\n",
       "<style scoped>\n",
       "    .dataframe tbody tr th:only-of-type {\n",
       "        vertical-align: middle;\n",
       "    }\n",
       "\n",
       "    .dataframe tbody tr th {\n",
       "        vertical-align: top;\n",
       "    }\n",
       "\n",
       "    .dataframe thead th {\n",
       "        text-align: right;\n",
       "    }\n",
       "</style>\n",
       "<table border=\"1\" class=\"dataframe\">\n",
       "  <thead>\n",
       "    <tr style=\"text-align: right;\">\n",
       "      <th></th>\n",
       "      <th>dteday</th>\n",
       "      <th>season</th>\n",
       "      <th>yr</th>\n",
       "      <th>mnth</th>\n",
       "      <th>holiday</th>\n",
       "      <th>weekday</th>\n",
       "      <th>workingday</th>\n",
       "      <th>weathersit</th>\n",
       "      <th>temp</th>\n",
       "      <th>atemp</th>\n",
       "      <th>hum</th>\n",
       "      <th>windspeed</th>\n",
       "      <th>casual</th>\n",
       "      <th>registered</th>\n",
       "      <th>cnt</th>\n",
       "    </tr>\n",
       "    <tr>\n",
       "      <th>instant</th>\n",
       "      <th></th>\n",
       "      <th></th>\n",
       "      <th></th>\n",
       "      <th></th>\n",
       "      <th></th>\n",
       "      <th></th>\n",
       "      <th></th>\n",
       "      <th></th>\n",
       "      <th></th>\n",
       "      <th></th>\n",
       "      <th></th>\n",
       "      <th></th>\n",
       "      <th></th>\n",
       "      <th></th>\n",
       "      <th></th>\n",
       "    </tr>\n",
       "  </thead>\n",
       "  <tbody>\n",
       "    <tr>\n",
       "      <th>1</th>\n",
       "      <td>2011-01-01</td>\n",
       "      <td>1</td>\n",
       "      <td>0</td>\n",
       "      <td>1</td>\n",
       "      <td>0</td>\n",
       "      <td>6</td>\n",
       "      <td>0</td>\n",
       "      <td>2</td>\n",
       "      <td>0.344167</td>\n",
       "      <td>0.363625</td>\n",
       "      <td>0.805833</td>\n",
       "      <td>0.160446</td>\n",
       "      <td>331</td>\n",
       "      <td>654</td>\n",
       "      <td>985</td>\n",
       "    </tr>\n",
       "    <tr>\n",
       "      <th>2</th>\n",
       "      <td>2011-01-02</td>\n",
       "      <td>1</td>\n",
       "      <td>0</td>\n",
       "      <td>1</td>\n",
       "      <td>0</td>\n",
       "      <td>0</td>\n",
       "      <td>0</td>\n",
       "      <td>2</td>\n",
       "      <td>0.363478</td>\n",
       "      <td>0.353739</td>\n",
       "      <td>0.696087</td>\n",
       "      <td>0.248539</td>\n",
       "      <td>131</td>\n",
       "      <td>670</td>\n",
       "      <td>801</td>\n",
       "    </tr>\n",
       "    <tr>\n",
       "      <th>3</th>\n",
       "      <td>2011-01-03</td>\n",
       "      <td>1</td>\n",
       "      <td>0</td>\n",
       "      <td>1</td>\n",
       "      <td>0</td>\n",
       "      <td>1</td>\n",
       "      <td>1</td>\n",
       "      <td>1</td>\n",
       "      <td>0.196364</td>\n",
       "      <td>0.189405</td>\n",
       "      <td>0.437273</td>\n",
       "      <td>0.248309</td>\n",
       "      <td>120</td>\n",
       "      <td>1229</td>\n",
       "      <td>1349</td>\n",
       "    </tr>\n",
       "    <tr>\n",
       "      <th>4</th>\n",
       "      <td>2011-01-04</td>\n",
       "      <td>1</td>\n",
       "      <td>0</td>\n",
       "      <td>1</td>\n",
       "      <td>0</td>\n",
       "      <td>2</td>\n",
       "      <td>1</td>\n",
       "      <td>1</td>\n",
       "      <td>0.200000</td>\n",
       "      <td>0.212122</td>\n",
       "      <td>0.590435</td>\n",
       "      <td>0.160296</td>\n",
       "      <td>108</td>\n",
       "      <td>1454</td>\n",
       "      <td>1562</td>\n",
       "    </tr>\n",
       "    <tr>\n",
       "      <th>5</th>\n",
       "      <td>2011-01-05</td>\n",
       "      <td>1</td>\n",
       "      <td>0</td>\n",
       "      <td>1</td>\n",
       "      <td>0</td>\n",
       "      <td>3</td>\n",
       "      <td>1</td>\n",
       "      <td>1</td>\n",
       "      <td>0.226957</td>\n",
       "      <td>0.229270</td>\n",
       "      <td>0.436957</td>\n",
       "      <td>0.186900</td>\n",
       "      <td>82</td>\n",
       "      <td>1518</td>\n",
       "      <td>1600</td>\n",
       "    </tr>\n",
       "  </tbody>\n",
       "</table>\n",
       "</div>"
      ],
      "text/plain": [
       "             dteday  season  yr  mnth  holiday  weekday  workingday  \\\n",
       "instant                                                               \n",
       "1        2011-01-01       1   0     1        0        6           0   \n",
       "2        2011-01-02       1   0     1        0        0           0   \n",
       "3        2011-01-03       1   0     1        0        1           1   \n",
       "4        2011-01-04       1   0     1        0        2           1   \n",
       "5        2011-01-05       1   0     1        0        3           1   \n",
       "\n",
       "         weathersit      temp     atemp       hum  windspeed  casual  \\\n",
       "instant                                                                \n",
       "1                 2  0.344167  0.363625  0.805833   0.160446     331   \n",
       "2                 2  0.363478  0.353739  0.696087   0.248539     131   \n",
       "3                 1  0.196364  0.189405  0.437273   0.248309     120   \n",
       "4                 1  0.200000  0.212122  0.590435   0.160296     108   \n",
       "5                 1  0.226957  0.229270  0.436957   0.186900      82   \n",
       "\n",
       "         registered   cnt  \n",
       "instant                    \n",
       "1               654   985  \n",
       "2               670   801  \n",
       "3              1229  1349  \n",
       "4              1454  1562  \n",
       "5              1518  1600  "
      ]
     },
     "execution_count": 3,
     "metadata": {},
     "output_type": "execute_result"
    }
   ],
   "source": [
    "# Muestra de datos dia\n",
    "data_d.head()"
   ]
  },
  {
   "cell_type": "markdown",
   "metadata": {},
   "source": [
    "# Descripción de los datos"
   ]
  },
  {
   "cell_type": "code",
   "execution_count": 4,
   "metadata": {},
   "outputs": [
    {
     "data": {
      "text/plain": [
       "(731, 15)"
      ]
     },
     "execution_count": 4,
     "metadata": {},
     "output_type": "execute_result"
    }
   ],
   "source": [
    "# dimensión de la fuente de datos\n",
    "data_d.shape"
   ]
  },
  {
   "cell_type": "code",
   "execution_count": 5,
   "metadata": {},
   "outputs": [
    {
     "name": "stdout",
     "output_type": "stream",
     "text": [
      "<class 'pandas.core.frame.DataFrame'>\n",
      "Int64Index: 731 entries, 1 to 731\n",
      "Data columns (total 15 columns):\n",
      " #   Column      Non-Null Count  Dtype  \n",
      "---  ------      --------------  -----  \n",
      " 0   dteday      731 non-null    object \n",
      " 1   season      731 non-null    int64  \n",
      " 2   yr          731 non-null    int64  \n",
      " 3   mnth        731 non-null    int64  \n",
      " 4   holiday     731 non-null    int64  \n",
      " 5   weekday     731 non-null    int64  \n",
      " 6   workingday  731 non-null    int64  \n",
      " 7   weathersit  731 non-null    int64  \n",
      " 8   temp        731 non-null    float64\n",
      " 9   atemp       731 non-null    float64\n",
      " 10  hum         731 non-null    float64\n",
      " 11  windspeed   731 non-null    float64\n",
      " 12  casual      731 non-null    int64  \n",
      " 13  registered  731 non-null    int64  \n",
      " 14  cnt         731 non-null    int64  \n",
      "dtypes: float64(4), int64(10), object(1)\n",
      "memory usage: 91.4+ KB\n"
     ]
    }
   ],
   "source": [
    "# identificar los tipos de datos\n",
    "data_d.info()"
   ]
  },
  {
   "cell_type": "markdown",
   "metadata": {},
   "source": [
    "De lo anterior vemos que no se tienen datos faltantes"
   ]
  },
  {
   "cell_type": "markdown",
   "metadata": {},
   "source": [
    "# Preparación y limpieza de datos"
   ]
  },
  {
   "cell_type": "code",
   "execution_count": 6,
   "metadata": {},
   "outputs": [
    {
     "data": {
      "text/plain": [
       "0"
      ]
     },
     "execution_count": 6,
     "metadata": {},
     "output_type": "execute_result"
    }
   ],
   "source": [
    "# contar los registros duplicados del atributo orden_id\n",
    "data_d.duplicated().sum()"
   ]
  },
  {
   "cell_type": "code",
   "execution_count": 7,
   "metadata": {},
   "outputs": [],
   "source": [
    "#Creación de otro archivo para la limpieza\n",
    "data_t= data_d\n",
    "#Eliminación data vacia\n",
    "data_t= data_t.dropna()\n",
    "#Eliminación data duplicada\n",
    "data_t= data_t.drop_duplicates()\n"
   ]
  },
  {
   "cell_type": "markdown",
   "metadata": {},
   "source": [
    "# Análisis de los atributos"
   ]
  },
  {
   "cell_type": "code",
   "execution_count": 8,
   "metadata": {},
   "outputs": [
    {
     "data": {
      "text/plain": [
       "dteday         object\n",
       "season          int64\n",
       "yr              int64\n",
       "mnth            int64\n",
       "holiday         int64\n",
       "weekday         int64\n",
       "workingday      int64\n",
       "weathersit      int64\n",
       "temp          float64\n",
       "atemp         float64\n",
       "hum           float64\n",
       "windspeed     float64\n",
       "casual          int64\n",
       "registered      int64\n",
       "cnt             int64\n",
       "dtype: object"
      ]
     },
     "execution_count": 8,
     "metadata": {},
     "output_type": "execute_result"
    }
   ],
   "source": [
    "#identificar los tipos de datos\n",
    "data_t.dtypes"
   ]
  },
  {
   "cell_type": "code",
   "execution_count": 9,
   "metadata": {},
   "outputs": [],
   "source": [
    "# Transformar dteday en una fecha\n",
    "data_t['dteday'] = pd.to_datetime(data_t['dteday'], format=\"%Y/%m/%d\")\n",
    "# Transformar yr en una categoria: : año (0: 2011, 1:2012)\n",
    "data_t['yr'] = data_t['yr'].astype('category')\n",
    "# Transformar season en una categoria:  season (1:invierno, 2:primavera, 3:verano, 4 :fall)\n",
    "data_t['season'] = data_t['season'].astype('category')\n",
    "# Transformar holiday en una categoria\n",
    "data_t['holiday'] = data_t['holiday'].astype('category')\n",
    "# Transformar weekday en una categoria: día de la semana\n",
    "data_t['weekday'] = data_t['weekday'].astype('category')\n",
    "# Transformar workingday en una categoria: si el día no es fin de semana ni festivo es 1, de lo contrario es 0.\n",
    "data_t['workingday'] = data_t['workingday'].astype('category')\n",
    "# Transformar mnth en una categoria: mes del año\n",
    "data_t['mnth'] = data_t['mnth'].astype('category')\n",
    "#: weathersit :- 1: Despejado, Pocas nubes, Parcialmente nublado, Parcialmente nublado- 2: Niebla + Nublado, Niebla + Nubes rotas, Niebla + Pocas nubes, Niebla- 3: Nieve ligera, Lluvia ligera + Tormenta eléctrica + Nubes dispersas, Lluvia ligera + Nubes dispersas -4: Lluvia intensa + Paletas de hielo + Tormenta eléctrica + Niebla, Nieve + Niebla\n",
    "data_t['weathersit'] = data_t['weathersit'].astype('category')\n",
    "\n",
    "\n",
    "\n",
    "\n"
   ]
  },
  {
   "cell_type": "code",
   "execution_count": 10,
   "metadata": {},
   "outputs": [
    {
     "name": "stdout",
     "output_type": "stream",
     "text": [
      "<class 'pandas.core.frame.DataFrame'>\n",
      "Int64Index: 731 entries, 1 to 731\n",
      "Data columns (total 15 columns):\n",
      " #   Column      Non-Null Count  Dtype         \n",
      "---  ------      --------------  -----         \n",
      " 0   dteday      731 non-null    datetime64[ns]\n",
      " 1   season      731 non-null    category      \n",
      " 2   yr          731 non-null    category      \n",
      " 3   mnth        731 non-null    category      \n",
      " 4   holiday     731 non-null    category      \n",
      " 5   weekday     731 non-null    category      \n",
      " 6   workingday  731 non-null    category      \n",
      " 7   weathersit  731 non-null    category      \n",
      " 8   temp        731 non-null    float64       \n",
      " 9   atemp       731 non-null    float64       \n",
      " 10  hum         731 non-null    float64       \n",
      " 11  windspeed   731 non-null    float64       \n",
      " 12  casual      731 non-null    int64         \n",
      " 13  registered  731 non-null    int64         \n",
      " 14  cnt         731 non-null    int64         \n",
      "dtypes: category(7), datetime64[ns](1), float64(4), int64(3)\n",
      "memory usage: 57.8 KB\n"
     ]
    }
   ],
   "source": [
    "#identificar los tipos de datos\n",
    "data_t.info()"
   ]
  },
  {
   "cell_type": "markdown",
   "metadata": {},
   "source": [
    "### Estadísticas sobre datos númericos"
   ]
  },
  {
   "cell_type": "code",
   "execution_count": 11,
   "metadata": {},
   "outputs": [
    {
     "data": {
      "text/html": [
       "<div>\n",
       "<style scoped>\n",
       "    .dataframe tbody tr th:only-of-type {\n",
       "        vertical-align: middle;\n",
       "    }\n",
       "\n",
       "    .dataframe tbody tr th {\n",
       "        vertical-align: top;\n",
       "    }\n",
       "\n",
       "    .dataframe thead th {\n",
       "        text-align: right;\n",
       "    }\n",
       "</style>\n",
       "<table border=\"1\" class=\"dataframe\">\n",
       "  <thead>\n",
       "    <tr style=\"text-align: right;\">\n",
       "      <th></th>\n",
       "      <th>temp</th>\n",
       "      <th>atemp</th>\n",
       "      <th>hum</th>\n",
       "      <th>windspeed</th>\n",
       "      <th>casual</th>\n",
       "      <th>registered</th>\n",
       "      <th>cnt</th>\n",
       "    </tr>\n",
       "  </thead>\n",
       "  <tbody>\n",
       "    <tr>\n",
       "      <th>count</th>\n",
       "      <td>731.000000</td>\n",
       "      <td>731.000000</td>\n",
       "      <td>731.000000</td>\n",
       "      <td>731.000000</td>\n",
       "      <td>731.000000</td>\n",
       "      <td>731.000000</td>\n",
       "      <td>731.000000</td>\n",
       "    </tr>\n",
       "    <tr>\n",
       "      <th>mean</th>\n",
       "      <td>0.495385</td>\n",
       "      <td>0.474354</td>\n",
       "      <td>0.627894</td>\n",
       "      <td>0.190486</td>\n",
       "      <td>848.176471</td>\n",
       "      <td>3656.172367</td>\n",
       "      <td>4504.348837</td>\n",
       "    </tr>\n",
       "    <tr>\n",
       "      <th>std</th>\n",
       "      <td>0.183051</td>\n",
       "      <td>0.162961</td>\n",
       "      <td>0.142429</td>\n",
       "      <td>0.077498</td>\n",
       "      <td>686.622488</td>\n",
       "      <td>1560.256377</td>\n",
       "      <td>1937.211452</td>\n",
       "    </tr>\n",
       "    <tr>\n",
       "      <th>min</th>\n",
       "      <td>0.059130</td>\n",
       "      <td>0.079070</td>\n",
       "      <td>0.000000</td>\n",
       "      <td>0.022392</td>\n",
       "      <td>2.000000</td>\n",
       "      <td>20.000000</td>\n",
       "      <td>22.000000</td>\n",
       "    </tr>\n",
       "    <tr>\n",
       "      <th>25%</th>\n",
       "      <td>0.337083</td>\n",
       "      <td>0.337842</td>\n",
       "      <td>0.520000</td>\n",
       "      <td>0.134950</td>\n",
       "      <td>315.500000</td>\n",
       "      <td>2497.000000</td>\n",
       "      <td>3152.000000</td>\n",
       "    </tr>\n",
       "    <tr>\n",
       "      <th>50%</th>\n",
       "      <td>0.498333</td>\n",
       "      <td>0.486733</td>\n",
       "      <td>0.626667</td>\n",
       "      <td>0.180975</td>\n",
       "      <td>713.000000</td>\n",
       "      <td>3662.000000</td>\n",
       "      <td>4548.000000</td>\n",
       "    </tr>\n",
       "    <tr>\n",
       "      <th>75%</th>\n",
       "      <td>0.655417</td>\n",
       "      <td>0.608602</td>\n",
       "      <td>0.730209</td>\n",
       "      <td>0.233214</td>\n",
       "      <td>1096.000000</td>\n",
       "      <td>4776.500000</td>\n",
       "      <td>5956.000000</td>\n",
       "    </tr>\n",
       "    <tr>\n",
       "      <th>max</th>\n",
       "      <td>0.861667</td>\n",
       "      <td>0.840896</td>\n",
       "      <td>0.972500</td>\n",
       "      <td>0.507463</td>\n",
       "      <td>3410.000000</td>\n",
       "      <td>6946.000000</td>\n",
       "      <td>8714.000000</td>\n",
       "    </tr>\n",
       "  </tbody>\n",
       "</table>\n",
       "</div>"
      ],
      "text/plain": [
       "             temp       atemp         hum   windspeed       casual  \\\n",
       "count  731.000000  731.000000  731.000000  731.000000   731.000000   \n",
       "mean     0.495385    0.474354    0.627894    0.190486   848.176471   \n",
       "std      0.183051    0.162961    0.142429    0.077498   686.622488   \n",
       "min      0.059130    0.079070    0.000000    0.022392     2.000000   \n",
       "25%      0.337083    0.337842    0.520000    0.134950   315.500000   \n",
       "50%      0.498333    0.486733    0.626667    0.180975   713.000000   \n",
       "75%      0.655417    0.608602    0.730209    0.233214  1096.000000   \n",
       "max      0.861667    0.840896    0.972500    0.507463  3410.000000   \n",
       "\n",
       "        registered          cnt  \n",
       "count   731.000000   731.000000  \n",
       "mean   3656.172367  4504.348837  \n",
       "std    1560.256377  1937.211452  \n",
       "min      20.000000    22.000000  \n",
       "25%    2497.000000  3152.000000  \n",
       "50%    3662.000000  4548.000000  \n",
       "75%    4776.500000  5956.000000  \n",
       "max    6946.000000  8714.000000  "
      ]
     },
     "execution_count": 11,
     "metadata": {},
     "output_type": "execute_result"
    }
   ],
   "source": [
    "# Estadísticas básicas para las variables numéricas\n",
    "data_t.describe()"
   ]
  },
  {
   "cell_type": "markdown",
   "metadata": {},
   "source": [
    "### Estadísticas sobre datos categóricos"
   ]
  },
  {
   "cell_type": "code",
   "execution_count": 12,
   "metadata": {},
   "outputs": [
    {
     "data": {
      "text/plain": [
       "Index(['dteday', 'season', 'yr', 'mnth', 'holiday', 'weekday', 'workingday',\n",
       "       'weathersit'],\n",
       "      dtype='object')"
      ]
     },
     "execution_count": 12,
     "metadata": {},
     "output_type": "execute_result"
    }
   ],
   "source": [
    "#identificar las columnas de tipo string, si no se toma de la descripción inicial de la fuente de datos\n",
    "columnas_cat= data_t.select_dtypes(include=['category','datetime']).columns\n",
    "\n",
    "columnas_cat"
   ]
  },
  {
   "cell_type": "code",
   "execution_count": 13,
   "metadata": {},
   "outputs": [
    {
     "name": "stdout",
     "output_type": "stream",
     "text": [
      "Atributo: dteday\n",
      "2011-01-01    1\n",
      "2012-04-25    1\n",
      "2012-04-27    1\n",
      "2012-04-28    1\n",
      "2012-04-29    1\n",
      "             ..\n",
      "2011-09-03    1\n",
      "2011-09-04    1\n",
      "2011-09-05    1\n",
      "2011-09-06    1\n",
      "2012-12-31    1\n",
      "Name: dteday, Length: 731, dtype: int64\n",
      "Atributo: season\n",
      "3    188\n",
      "2    184\n",
      "1    181\n",
      "4    178\n",
      "Name: season, dtype: int64\n",
      "Atributo: yr\n",
      "1    366\n",
      "0    365\n",
      "Name: yr, dtype: int64\n",
      "Atributo: mnth\n",
      "1     62\n",
      "3     62\n",
      "5     62\n",
      "7     62\n",
      "8     62\n",
      "10    62\n",
      "12    62\n",
      "4     60\n",
      "6     60\n",
      "9     60\n",
      "11    60\n",
      "2     57\n",
      "Name: mnth, dtype: int64\n",
      "Atributo: holiday\n",
      "0    710\n",
      "1     21\n",
      "Name: holiday, dtype: int64\n",
      "Atributo: weekday\n",
      "0    105\n",
      "1    105\n",
      "6    105\n",
      "2    104\n",
      "3    104\n",
      "4    104\n",
      "5    104\n",
      "Name: weekday, dtype: int64\n",
      "Atributo: workingday\n",
      "1    500\n",
      "0    231\n",
      "Name: workingday, dtype: int64\n",
      "Atributo: weathersit\n",
      "1    463\n",
      "2    247\n",
      "3     21\n",
      "Name: weathersit, dtype: int64\n"
     ]
    }
   ],
   "source": [
    "# contar los valores de cada atributo categórico\n",
    "for i in ['dteday', 'season', 'yr', 'mnth', 'holiday', 'weekday', 'workingday','weathersit']:\n",
    "    print('Atributo: '+ i)\n",
    "    print(data_t[i].value_counts())"
   ]
  },
  {
   "cell_type": "markdown",
   "metadata": {},
   "source": [
    "# Visualización de datos\n",
    "Vanis a revisar el total de bicicletas por día durante el último año"
   ]
  },
  {
   "cell_type": "code",
   "execution_count": 14,
   "metadata": {},
   "outputs": [
    {
     "data": {
      "text/html": [
       "<div>\n",
       "<style scoped>\n",
       "    .dataframe tbody tr th:only-of-type {\n",
       "        vertical-align: middle;\n",
       "    }\n",
       "\n",
       "    .dataframe tbody tr th {\n",
       "        vertical-align: top;\n",
       "    }\n",
       "\n",
       "    .dataframe thead th {\n",
       "        text-align: right;\n",
       "    }\n",
       "</style>\n",
       "<table border=\"1\" class=\"dataframe\">\n",
       "  <thead>\n",
       "    <tr style=\"text-align: right;\">\n",
       "      <th></th>\n",
       "      <th>dteday</th>\n",
       "      <th>cnt</th>\n",
       "    </tr>\n",
       "  </thead>\n",
       "  <tbody>\n",
       "    <tr>\n",
       "      <th>0</th>\n",
       "      <td>2011-01-01</td>\n",
       "      <td>985</td>\n",
       "    </tr>\n",
       "    <tr>\n",
       "      <th>1</th>\n",
       "      <td>2011-01-02</td>\n",
       "      <td>801</td>\n",
       "    </tr>\n",
       "    <tr>\n",
       "      <th>2</th>\n",
       "      <td>2011-01-03</td>\n",
       "      <td>1349</td>\n",
       "    </tr>\n",
       "    <tr>\n",
       "      <th>3</th>\n",
       "      <td>2011-01-04</td>\n",
       "      <td>1562</td>\n",
       "    </tr>\n",
       "    <tr>\n",
       "      <th>4</th>\n",
       "      <td>2011-01-05</td>\n",
       "      <td>1600</td>\n",
       "    </tr>\n",
       "  </tbody>\n",
       "</table>\n",
       "</div>"
      ],
      "text/plain": [
       "      dteday   cnt\n",
       "0 2011-01-01   985\n",
       "1 2011-01-02   801\n",
       "2 2011-01-03  1349\n",
       "3 2011-01-04  1562\n",
       "4 2011-01-05  1600"
      ]
     },
     "execution_count": 14,
     "metadata": {},
     "output_type": "execute_result"
    }
   ],
   "source": [
    "#agrupar por fechas\n",
    "#fechas de límites\n",
    "fecha_inicio =  data_t.dteday.min()\n",
    "fecha_final = data_t.dteday.max()\n",
    "#calcular entre dos fechas\n",
    "despues_fecha_inicio = data_t['dteday'] >= fecha_inicio\n",
    "antes_fecha_final = data_t['dteday'] <= fecha_final\n",
    "entre_dos_fechas = despues_fecha_inicio & antes_fecha_final\n",
    "\n",
    "#crear los datos para graficar\n",
    "fecha_ventas=data_t\n",
    "\n",
    "# obtener solamente los días\n",
    "fecha_ventas['dteday']=fecha_ventas['dteday']\n",
    "fecha_ventas=fecha_ventas[entre_dos_fechas].groupby('dteday')['cnt'].sum().reset_index()\n",
    "fecha_ventas.head()\n"
   ]
  },
  {
   "cell_type": "code",
   "execution_count": 15,
   "metadata": {},
   "outputs": [
    {
     "data": {
      "image/png": "[encoded data removed]",
      "image/svg+xml": "<?xml version=\"1.0\" encoding=\"utf-8\" standalone=\"no\"?>\n<!DOCTYPE svg PUBLIC \"-//W3C//DTD SVG 1.1//EN\"\n  \"http://www.w3.org/Graphics/SVG/1.1/DTD/svg11.dtd\">\n<svg xmlns:xlink=\"http://www.w3.org/1999/xlink\" width=\"399.688881pt\" height=\"275.228378pt\" viewBox=\"0 0 399.688881 275.228378\" xmlns=\"http://www.w3.org/2000/svg\" version=\"1.1\">\n <metadata>\n  <rdf:RDF xmlns:dc=\"http://purl.org/dc/elements/1.1/\" xmlns:cc=\"http://creativecommons.org/ns#\" xmlns:rdf=\"http://www.w3.org/1999/02/22-rdf-syntax-ns#\">\n   <cc:Work>\n    <dc:type rdf:resource=\"http://purl.org/dc/dcmitype/StillImage\"/>\n    <dc:date>2022-01-31T09:00:11.856645</dc:date>\n    <dc:format>image/svg+xml</dc:format>\n    <dc:creator>\n     <cc:Agent>\n      <dc:title>Matplotlib v3.5.0, https://matplotlib.org/</dc:title>\n     </cc:Agent>\n    </dc:creator>\n   </cc:Work>\n  </rdf:RDF>\n </metadata>\n <defs>\n  <style type=\"text/css\">*{stroke-linejoin: round; stroke-linecap: butt}</style>\n </defs>\n <g id=\"figure_1\">\n  <g id=\"patch_1\">\n   <path d=\"M 0 275.228378 \nL 399.688881 275.228378 \nL 399.688881 0 \nL 0 0 \nL 0 275.228378 \nz\n\" style=\"fill: none\"/>\n  </g>\n  <g id=\"axes_1\">\n   <g id=\"patch_2\">\n    <path d=\"M 54.295938 224.64 \nL 389.095938 224.64 \nL 389.095938 7.2 \nL 54.295938 7.2 \nz\n\" style=\"fill: #ffffff\"/>\n   </g>\n   <g id=\"matplotlib.axis_1\">\n    <g id=\"xtick_1\">\n     <g id=\"line2d_1\">\n      <defs>\n       <path id=\"m61ba5c9c75\" d=\"M 0 0 \nL 0 3.5 \n\" style=\"stroke: #000000; stroke-width: 0.8\"/>\n      </defs>\n      <g>\n       <use xlink:href=\"#m61ba5c9c75\" x=\"69.514119\" y=\"224.64\" style=\"stroke: #000000; stroke-width: 0.8\"/>\n      </g>\n     </g>\n     <g id=\"text_1\">\n      <!-- 2011-01 -->\n      <g transform=\"translate(56.692837 266.557817)rotate(-45)scale(0.1 -0.1)\">\n       <defs>\n        <path id=\"DejaVuSans-32\" d=\"M 1228 531 \nL 3431 531 \nL 3431 0 \nL 469 0 \nL 469 531 \nQ 828 903 1448 1529 \nQ 2069 2156 2228 2338 \nQ 2531 2678 2651 2914 \nQ 2772 3150 2772 3378 \nQ 2772 3750 2511 3984 \nQ 2250 4219 1831 4219 \nQ 1534 4219 1204 4116 \nQ 875 4013 500 3803 \nL 500 4441 \nQ 881 4594 1212 4672 \nQ 1544 4750 1819 4750 \nQ 2544 4750 2975 4387 \nQ 3406 4025 3406 3419 \nQ 3406 3131 3298 2873 \nQ 3191 2616 2906 2266 \nQ 2828 2175 2409 1742 \nQ 1991 1309 1228 531 \nz\n\" transform=\"scale(0.015625)\"/>\n        <path id=\"DejaVuSans-30\" d=\"M 2034 4250 \nQ 1547 4250 1301 3770 \nQ 1056 3291 1056 2328 \nQ 1056 1369 1301 889 \nQ 1547 409 2034 409 \nQ 2525 409 2770 889 \nQ 3016 1369 3016 2328 \nQ 3016 3291 2770 3770 \nQ 2525 4250 2034 4250 \nz\nM 2034 4750 \nQ 2819 4750 3233 4129 \nQ 3647 3509 3647 2328 \nQ 3647 1150 3233 529 \nQ 2819 -91 2034 -91 \nQ 1250 -91 836 529 \nQ 422 1150 422 2328 \nQ 422 3509 836 4129 \nQ 1250 4750 2034 4750 \nz\n\" transform=\"scale(0.015625)\"/>\n        <path id=\"DejaVuSans-31\" d=\"M 794 531 \nL 1825 531 \nL 1825 4091 \nL 703 3866 \nL 703 4441 \nL 1819 4666 \nL 2450 4666 \nL 2450 531 \nL 3481 531 \nL 3481 0 \nL 794 0 \nL 794 531 \nz\n\" transform=\"scale(0.015625)\"/>\n        <path id=\"DejaVuSans-2d\" d=\"M 313 2009 \nL 1997 2009 \nL 1997 1497 \nL 313 1497 \nL 313 2009 \nz\n\" transform=\"scale(0.015625)\"/>\n       </defs>\n       <use xlink:href=\"#DejaVuSans-32\"/>\n       <use xlink:href=\"#DejaVuSans-30\" x=\"63.623047\"/>\n       <use xlink:href=\"#DejaVuSans-31\" x=\"127.246094\"/>\n       <use xlink:href=\"#DejaVuSans-31\" x=\"190.869141\"/>\n       <use xlink:href=\"#DejaVuSans-2d\" x=\"254.492188\"/>\n       <use xlink:href=\"#DejaVuSans-30\" x=\"290.576172\"/>\n       <use xlink:href=\"#DejaVuSans-31\" x=\"354.199219\"/>\n      </g>\n     </g>\n    </g>\n    <g id=\"xtick_2\">\n     <g id=\"line2d_2\">\n      <g>\n       <use xlink:href=\"#m61ba5c9c75\" x=\"107.038403\" y=\"224.64\" style=\"stroke: #000000; stroke-width: 0.8\"/>\n      </g>\n     </g>\n     <g id=\"text_2\">\n      <!-- 2011-04 -->\n      <g transform=\"translate(94.217121 266.557817)rotate(-45)scale(0.1 -0.1)\">\n       <defs>\n        <path id=\"DejaVuSans-34\" d=\"M 2419 4116 \nL 825 1625 \nL 2419 1625 \nL 2419 4116 \nz\nM 2253 4666 \nL 3047 4666 \nL 3047 1625 \nL 3713 1625 \nL 3713 1100 \nL 3047 1100 \nL 3047 0 \nL 2419 0 \nL 2419 1100 \nL 313 1100 \nL 313 1709 \nL 2253 4666 \nz\n\" transform=\"scale(0.015625)\"/>\n       </defs>\n       <use xlink:href=\"#DejaVuSans-32\"/>\n       <use xlink:href=\"#DejaVuSans-30\" x=\"63.623047\"/>\n       <use xlink:href=\"#DejaVuSans-31\" x=\"127.246094\"/>\n       <use xlink:href=\"#DejaVuSans-31\" x=\"190.869141\"/>\n       <use xlink:href=\"#DejaVuSans-2d\" x=\"254.492188\"/>\n       <use xlink:href=\"#DejaVuSans-30\" x=\"290.576172\"/>\n       <use xlink:href=\"#DejaVuSans-34\" x=\"354.199219\"/>\n      </g>\n     </g>\n    </g>\n    <g id=\"xtick_3\">\n     <g id=\"line2d_3\">\n      <g>\n       <use xlink:href=\"#m61ba5c9c75\" x=\"144.979624\" y=\"224.64\" style=\"stroke: #000000; stroke-width: 0.8\"/>\n      </g>\n     </g>\n     <g id=\"text_3\">\n      <!-- 2011-07 -->\n      <g transform=\"translate(132.158341 266.557817)rotate(-45)scale(0.1 -0.1)\">\n       <defs>\n        <path id=\"DejaVuSans-37\" d=\"M 525 4666 \nL 3525 4666 \nL 3525 4397 \nL 1831 0 \nL 1172 0 \nL 2766 4134 \nL 525 4134 \nL 525 4666 \nz\n\" transform=\"scale(0.015625)\"/>\n       </defs>\n       <use xlink:href=\"#DejaVuSans-32\"/>\n       <use xlink:href=\"#DejaVuSans-30\" x=\"63.623047\"/>\n       <use xlink:href=\"#DejaVuSans-31\" x=\"127.246094\"/>\n       <use xlink:href=\"#DejaVuSans-31\" x=\"190.869141\"/>\n       <use xlink:href=\"#DejaVuSans-2d\" x=\"254.492188\"/>\n       <use xlink:href=\"#DejaVuSans-30\" x=\"290.576172\"/>\n       <use xlink:href=\"#DejaVuSans-37\" x=\"354.199219\"/>\n      </g>\n     </g>\n    </g>\n    <g id=\"xtick_4\">\n     <g id=\"line2d_4\">\n      <g>\n       <use xlink:href=\"#m61ba5c9c75\" x=\"183.337781\" y=\"224.64\" style=\"stroke: #000000; stroke-width: 0.8\"/>\n      </g>\n     </g>\n     <g id=\"text_4\">\n      <!-- 2011-10 -->\n      <g transform=\"translate(170.516498 266.557817)rotate(-45)scale(0.1 -0.1)\">\n       <use xlink:href=\"#DejaVuSans-32\"/>\n       <use xlink:href=\"#DejaVuSans-30\" x=\"63.623047\"/>\n       <use xlink:href=\"#DejaVuSans-31\" x=\"127.246094\"/>\n       <use xlink:href=\"#DejaVuSans-31\" x=\"190.869141\"/>\n       <use xlink:href=\"#DejaVuSans-2d\" x=\"254.492188\"/>\n       <use xlink:href=\"#DejaVuSans-31\" x=\"290.576172\"/>\n       <use xlink:href=\"#DejaVuSans-30\" x=\"354.199219\"/>\n      </g>\n     </g>\n    </g>\n    <g id=\"xtick_5\">\n     <g id=\"line2d_5\">\n      <g>\n       <use xlink:href=\"#m61ba5c9c75\" x=\"221.695937\" y=\"224.64\" style=\"stroke: #000000; stroke-width: 0.8\"/>\n      </g>\n     </g>\n     <g id=\"text_5\">\n      <!-- 2012-01 -->\n      <g transform=\"translate(208.874655 266.557817)rotate(-45)scale(0.1 -0.1)\">\n       <use xlink:href=\"#DejaVuSans-32\"/>\n       <use xlink:href=\"#DejaVuSans-30\" x=\"63.623047\"/>\n       <use xlink:href=\"#DejaVuSans-31\" x=\"127.246094\"/>\n       <use xlink:href=\"#DejaVuSans-32\" x=\"190.869141\"/>\n       <use xlink:href=\"#DejaVuSans-2d\" x=\"254.492188\"/>\n       <use xlink:href=\"#DejaVuSans-30\" x=\"290.576172\"/>\n       <use xlink:href=\"#DejaVuSans-31\" x=\"354.199219\"/>\n      </g>\n     </g>\n    </g>\n    <g id=\"xtick_6\">\n     <g id=\"line2d_6\">\n      <g>\n       <use xlink:href=\"#m61ba5c9c75\" x=\"259.637158\" y=\"224.64\" style=\"stroke: #000000; stroke-width: 0.8\"/>\n      </g>\n     </g>\n     <g id=\"text_6\">\n      <!-- 2012-04 -->\n      <g transform=\"translate(246.815876 266.557817)rotate(-45)scale(0.1 -0.1)\">\n       <use xlink:href=\"#DejaVuSans-32\"/>\n       <use xlink:href=\"#DejaVuSans-30\" x=\"63.623047\"/>\n       <use xlink:href=\"#DejaVuSans-31\" x=\"127.246094\"/>\n       <use xlink:href=\"#DejaVuSans-32\" x=\"190.869141\"/>\n       <use xlink:href=\"#DejaVuSans-2d\" x=\"254.492188\"/>\n       <use xlink:href=\"#DejaVuSans-30\" x=\"290.576172\"/>\n       <use xlink:href=\"#DejaVuSans-34\" x=\"354.199219\"/>\n      </g>\n     </g>\n    </g>\n    <g id=\"xtick_7\">\n     <g id=\"line2d_7\">\n      <g>\n       <use xlink:href=\"#m61ba5c9c75\" x=\"297.578378\" y=\"224.64\" style=\"stroke: #000000; stroke-width: 0.8\"/>\n      </g>\n     </g>\n     <g id=\"text_7\">\n      <!-- 2012-07 -->\n      <g transform=\"translate(284.757096 266.557817)rotate(-45)scale(0.1 -0.1)\">\n       <use xlink:href=\"#DejaVuSans-32\"/>\n       <use xlink:href=\"#DejaVuSans-30\" x=\"63.623047\"/>\n       <use xlink:href=\"#DejaVuSans-31\" x=\"127.246094\"/>\n       <use xlink:href=\"#DejaVuSans-32\" x=\"190.869141\"/>\n       <use xlink:href=\"#DejaVuSans-2d\" x=\"254.492188\"/>\n       <use xlink:href=\"#DejaVuSans-30\" x=\"290.576172\"/>\n       <use xlink:href=\"#DejaVuSans-37\" x=\"354.199219\"/>\n      </g>\n     </g>\n    </g>\n    <g id=\"xtick_8\">\n     <g id=\"line2d_8\">\n      <g>\n       <use xlink:href=\"#m61ba5c9c75\" x=\"335.936535\" y=\"224.64\" style=\"stroke: #000000; stroke-width: 0.8\"/>\n      </g>\n     </g>\n     <g id=\"text_8\">\n      <!-- 2012-10 -->\n      <g transform=\"translate(323.115253 266.557817)rotate(-45)scale(0.1 -0.1)\">\n       <use xlink:href=\"#DejaVuSans-32\"/>\n       <use xlink:href=\"#DejaVuSans-30\" x=\"63.623047\"/>\n       <use xlink:href=\"#DejaVuSans-31\" x=\"127.246094\"/>\n       <use xlink:href=\"#DejaVuSans-32\" x=\"190.869141\"/>\n       <use xlink:href=\"#DejaVuSans-2d\" x=\"254.492188\"/>\n       <use xlink:href=\"#DejaVuSans-31\" x=\"290.576172\"/>\n       <use xlink:href=\"#DejaVuSans-30\" x=\"354.199219\"/>\n      </g>\n     </g>\n    </g>\n    <g id=\"xtick_9\">\n     <g id=\"line2d_9\">\n      <g>\n       <use xlink:href=\"#m61ba5c9c75\" x=\"374.294692\" y=\"224.64\" style=\"stroke: #000000; stroke-width: 0.8\"/>\n      </g>\n     </g>\n     <g id=\"text_9\">\n      <!-- 2013-01 -->\n      <g transform=\"translate(361.47341 266.557817)rotate(-45)scale(0.1 -0.1)\">\n       <defs>\n        <path id=\"DejaVuSans-33\" d=\"M 2597 2516 \nQ 3050 2419 3304 2112 \nQ 3559 1806 3559 1356 \nQ 3559 666 3084 287 \nQ 2609 -91 1734 -91 \nQ 1441 -91 1130 -33 \nQ 819 25 488 141 \nL 488 750 \nQ 750 597 1062 519 \nQ 1375 441 1716 441 \nQ 2309 441 2620 675 \nQ 2931 909 2931 1356 \nQ 2931 1769 2642 2001 \nQ 2353 2234 1838 2234 \nL 1294 2234 \nL 1294 2753 \nL 1863 2753 \nQ 2328 2753 2575 2939 \nQ 2822 3125 2822 3475 \nQ 2822 3834 2567 4026 \nQ 2313 4219 1838 4219 \nQ 1578 4219 1281 4162 \nQ 984 4106 628 3988 \nL 628 4550 \nQ 988 4650 1302 4700 \nQ 1616 4750 1894 4750 \nQ 2613 4750 3031 4423 \nQ 3450 4097 3450 3541 \nQ 3450 3153 3228 2886 \nQ 3006 2619 2597 2516 \nz\n\" transform=\"scale(0.015625)\"/>\n       </defs>\n       <use xlink:href=\"#DejaVuSans-32\"/>\n       <use xlink:href=\"#DejaVuSans-30\" x=\"63.623047\"/>\n       <use xlink:href=\"#DejaVuSans-31\" x=\"127.246094\"/>\n       <use xlink:href=\"#DejaVuSans-33\" x=\"190.869141\"/>\n       <use xlink:href=\"#DejaVuSans-2d\" x=\"254.492188\"/>\n       <use xlink:href=\"#DejaVuSans-30\" x=\"290.576172\"/>\n       <use xlink:href=\"#DejaVuSans-31\" x=\"354.199219\"/>\n      </g>\n     </g>\n    </g>\n   </g>\n   <g id=\"matplotlib.axis_2\">\n    <g id=\"ytick_1\">\n     <g id=\"line2d_10\">\n      <defs>\n       <path id=\"m83566862ac\" d=\"M 0 0 \nL -3.5 0 \n\" style=\"stroke: #000000; stroke-width: 0.8\"/>\n      </defs>\n      <g>\n       <use xlink:href=\"#m83566862ac\" x=\"54.295938\" y=\"215.256686\" style=\"stroke: #000000; stroke-width: 0.8\"/>\n      </g>\n     </g>\n     <g id=\"text_10\">\n      <!-- 0 -->\n      <g transform=\"translate(40.933438 219.055905)scale(0.1 -0.1)\">\n       <use xlink:href=\"#DejaVuSans-30\"/>\n      </g>\n     </g>\n    </g>\n    <g id=\"ytick_2\">\n     <g id=\"line2d_11\">\n      <g>\n       <use xlink:href=\"#m83566862ac\" x=\"54.295938\" y=\"169.772855\" style=\"stroke: #000000; stroke-width: 0.8\"/>\n      </g>\n     </g>\n     <g id=\"text_11\">\n      <!-- 2000 -->\n      <g transform=\"translate(21.845938 173.572074)scale(0.1 -0.1)\">\n       <use xlink:href=\"#DejaVuSans-32\"/>\n       <use xlink:href=\"#DejaVuSans-30\" x=\"63.623047\"/>\n       <use xlink:href=\"#DejaVuSans-30\" x=\"127.246094\"/>\n       <use xlink:href=\"#DejaVuSans-30\" x=\"190.869141\"/>\n      </g>\n     </g>\n    </g>\n    <g id=\"ytick_3\">\n     <g id=\"line2d_12\">\n      <g>\n       <use xlink:href=\"#m83566862ac\" x=\"54.295938\" y=\"124.289025\" style=\"stroke: #000000; stroke-width: 0.8\"/>\n      </g>\n     </g>\n     <g id=\"text_12\">\n      <!-- 4000 -->\n      <g transform=\"translate(21.845938 128.088244)scale(0.1 -0.1)\">\n       <use xlink:href=\"#DejaVuSans-34\"/>\n       <use xlink:href=\"#DejaVuSans-30\" x=\"63.623047\"/>\n       <use xlink:href=\"#DejaVuSans-30\" x=\"127.246094\"/>\n       <use xlink:href=\"#DejaVuSans-30\" x=\"190.869141\"/>\n      </g>\n     </g>\n    </g>\n    <g id=\"ytick_4\">\n     <g id=\"line2d_13\">\n      <g>\n       <use xlink:href=\"#m83566862ac\" x=\"54.295938\" y=\"78.805194\" style=\"stroke: #000000; stroke-width: 0.8\"/>\n      </g>\n     </g>\n     <g id=\"text_13\">\n      <!-- 6000 -->\n      <g transform=\"translate(21.845938 82.604413)scale(0.1 -0.1)\">\n       <defs>\n        <path id=\"DejaVuSans-36\" d=\"M 2113 2584 \nQ 1688 2584 1439 2293 \nQ 1191 2003 1191 1497 \nQ 1191 994 1439 701 \nQ 1688 409 2113 409 \nQ 2538 409 2786 701 \nQ 3034 994 3034 1497 \nQ 3034 2003 2786 2293 \nQ 2538 2584 2113 2584 \nz\nM 3366 4563 \nL 3366 3988 \nQ 3128 4100 2886 4159 \nQ 2644 4219 2406 4219 \nQ 1781 4219 1451 3797 \nQ 1122 3375 1075 2522 \nQ 1259 2794 1537 2939 \nQ 1816 3084 2150 3084 \nQ 2853 3084 3261 2657 \nQ 3669 2231 3669 1497 \nQ 3669 778 3244 343 \nQ 2819 -91 2113 -91 \nQ 1303 -91 875 529 \nQ 447 1150 447 2328 \nQ 447 3434 972 4092 \nQ 1497 4750 2381 4750 \nQ 2619 4750 2861 4703 \nQ 3103 4656 3366 4563 \nz\n\" transform=\"scale(0.015625)\"/>\n       </defs>\n       <use xlink:href=\"#DejaVuSans-36\"/>\n       <use xlink:href=\"#DejaVuSans-30\" x=\"63.623047\"/>\n       <use xlink:href=\"#DejaVuSans-30\" x=\"127.246094\"/>\n       <use xlink:href=\"#DejaVuSans-30\" x=\"190.869141\"/>\n      </g>\n     </g>\n    </g>\n    <g id=\"ytick_5\">\n     <g id=\"line2d_14\">\n      <g>\n       <use xlink:href=\"#m83566862ac\" x=\"54.295938\" y=\"33.321364\" style=\"stroke: #000000; stroke-width: 0.8\"/>\n      </g>\n     </g>\n     <g id=\"text_14\">\n      <!-- 8000 -->\n      <g transform=\"translate(21.845938 37.120583)scale(0.1 -0.1)\">\n       <defs>\n        <path id=\"DejaVuSans-38\" d=\"M 2034 2216 \nQ 1584 2216 1326 1975 \nQ 1069 1734 1069 1313 \nQ 1069 891 1326 650 \nQ 1584 409 2034 409 \nQ 2484 409 2743 651 \nQ 3003 894 3003 1313 \nQ 3003 1734 2745 1975 \nQ 2488 2216 2034 2216 \nz\nM 1403 2484 \nQ 997 2584 770 2862 \nQ 544 3141 544 3541 \nQ 544 4100 942 4425 \nQ 1341 4750 2034 4750 \nQ 2731 4750 3128 4425 \nQ 3525 4100 3525 3541 \nQ 3525 3141 3298 2862 \nQ 3072 2584 2669 2484 \nQ 3125 2378 3379 2068 \nQ 3634 1759 3634 1313 \nQ 3634 634 3220 271 \nQ 2806 -91 2034 -91 \nQ 1263 -91 848 271 \nQ 434 634 434 1313 \nQ 434 1759 690 2068 \nQ 947 2378 1403 2484 \nz\nM 1172 3481 \nQ 1172 3119 1398 2916 \nQ 1625 2713 2034 2713 \nQ 2441 2713 2670 2916 \nQ 2900 3119 2900 3481 \nQ 2900 3844 2670 4047 \nQ 2441 4250 2034 4250 \nQ 1625 4250 1398 4047 \nQ 1172 3844 1172 3481 \nz\n\" transform=\"scale(0.015625)\"/>\n       </defs>\n       <use xlink:href=\"#DejaVuSans-38\"/>\n       <use xlink:href=\"#DejaVuSans-30\" x=\"63.623047\"/>\n       <use xlink:href=\"#DejaVuSans-30\" x=\"127.246094\"/>\n       <use xlink:href=\"#DejaVuSans-30\" x=\"190.869141\"/>\n      </g>\n     </g>\n    </g>\n    <g id=\"text_15\">\n     <!-- Recuento total de bicicletas en alquiler -->\n     <g transform=\"translate(15.558281 223.317813)rotate(-90)scale(0.11 -0.11)\">\n      <defs>\n       <path id=\"DejaVuSans-52\" d=\"M 2841 2188 \nQ 3044 2119 3236 1894 \nQ 3428 1669 3622 1275 \nL 4263 0 \nL 3584 0 \nL 2988 1197 \nQ 2756 1666 2539 1819 \nQ 2322 1972 1947 1972 \nL 1259 1972 \nL 1259 0 \nL 628 0 \nL 628 4666 \nL 2053 4666 \nQ 2853 4666 3247 4331 \nQ 3641 3997 3641 3322 \nQ 3641 2881 3436 2590 \nQ 3231 2300 2841 2188 \nz\nM 1259 4147 \nL 1259 2491 \nL 2053 2491 \nQ 2509 2491 2742 2702 \nQ 2975 2913 2975 3322 \nQ 2975 3731 2742 3939 \nQ 2509 4147 2053 4147 \nL 1259 4147 \nz\n\" transform=\"scale(0.015625)\"/>\n       <path id=\"DejaVuSans-65\" d=\"M 3597 1894 \nL 3597 1613 \nL 953 1613 \nQ 991 1019 1311 708 \nQ 1631 397 2203 397 \nQ 2534 397 2845 478 \nQ 3156 559 3463 722 \nL 3463 178 \nQ 3153 47 2828 -22 \nQ 2503 -91 2169 -91 \nQ 1331 -91 842 396 \nQ 353 884 353 1716 \nQ 353 2575 817 3079 \nQ 1281 3584 2069 3584 \nQ 2775 3584 3186 3129 \nQ 3597 2675 3597 1894 \nz\nM 3022 2063 \nQ 3016 2534 2758 2815 \nQ 2500 3097 2075 3097 \nQ 1594 3097 1305 2825 \nQ 1016 2553 972 2059 \nL 3022 2063 \nz\n\" transform=\"scale(0.015625)\"/>\n       <path id=\"DejaVuSans-63\" d=\"M 3122 3366 \nL 3122 2828 \nQ 2878 2963 2633 3030 \nQ 2388 3097 2138 3097 \nQ 1578 3097 1268 2742 \nQ 959 2388 959 1747 \nQ 959 1106 1268 751 \nQ 1578 397 2138 397 \nQ 2388 397 2633 464 \nQ 2878 531 3122 666 \nL 3122 134 \nQ 2881 22 2623 -34 \nQ 2366 -91 2075 -91 \nQ 1284 -91 818 406 \nQ 353 903 353 1747 \nQ 353 2603 823 3093 \nQ 1294 3584 2113 3584 \nQ 2378 3584 2631 3529 \nQ 2884 3475 3122 3366 \nz\n\" transform=\"scale(0.015625)\"/>\n       <path id=\"DejaVuSans-75\" d=\"M 544 1381 \nL 544 3500 \nL 1119 3500 \nL 1119 1403 \nQ 1119 906 1312 657 \nQ 1506 409 1894 409 \nQ 2359 409 2629 706 \nQ 2900 1003 2900 1516 \nL 2900 3500 \nL 3475 3500 \nL 3475 0 \nL 2900 0 \nL 2900 538 \nQ 2691 219 2414 64 \nQ 2138 -91 1772 -91 \nQ 1169 -91 856 284 \nQ 544 659 544 1381 \nz\nM 1991 3584 \nL 1991 3584 \nz\n\" transform=\"scale(0.015625)\"/>\n       <path id=\"DejaVuSans-6e\" d=\"M 3513 2113 \nL 3513 0 \nL 2938 0 \nL 2938 2094 \nQ 2938 2591 2744 2837 \nQ 2550 3084 2163 3084 \nQ 1697 3084 1428 2787 \nQ 1159 2491 1159 1978 \nL 1159 0 \nL 581 0 \nL 581 3500 \nL 1159 3500 \nL 1159 2956 \nQ 1366 3272 1645 3428 \nQ 1925 3584 2291 3584 \nQ 2894 3584 3203 3211 \nQ 3513 2838 3513 2113 \nz\n\" transform=\"scale(0.015625)\"/>\n       <path id=\"DejaVuSans-74\" d=\"M 1172 4494 \nL 1172 3500 \nL 2356 3500 \nL 2356 3053 \nL 1172 3053 \nL 1172 1153 \nQ 1172 725 1289 603 \nQ 1406 481 1766 481 \nL 2356 481 \nL 2356 0 \nL 1766 0 \nQ 1100 0 847 248 \nQ 594 497 594 1153 \nL 594 3053 \nL 172 3053 \nL 172 3500 \nL 594 3500 \nL 594 4494 \nL 1172 4494 \nz\n\" transform=\"scale(0.015625)\"/>\n       <path id=\"DejaVuSans-6f\" d=\"M 1959 3097 \nQ 1497 3097 1228 2736 \nQ 959 2375 959 1747 \nQ 959 1119 1226 758 \nQ 1494 397 1959 397 \nQ 2419 397 2687 759 \nQ 2956 1122 2956 1747 \nQ 2956 2369 2687 2733 \nQ 2419 3097 1959 3097 \nz\nM 1959 3584 \nQ 2709 3584 3137 3096 \nQ 3566 2609 3566 1747 \nQ 3566 888 3137 398 \nQ 2709 -91 1959 -91 \nQ 1206 -91 779 398 \nQ 353 888 353 1747 \nQ 353 2609 779 3096 \nQ 1206 3584 1959 3584 \nz\n\" transform=\"scale(0.015625)\"/>\n       <path id=\"DejaVuSans-20\" transform=\"scale(0.015625)\"/>\n       <path id=\"DejaVuSans-61\" d=\"M 2194 1759 \nQ 1497 1759 1228 1600 \nQ 959 1441 959 1056 \nQ 959 750 1161 570 \nQ 1363 391 1709 391 \nQ 2188 391 2477 730 \nQ 2766 1069 2766 1631 \nL 2766 1759 \nL 2194 1759 \nz\nM 3341 1997 \nL 3341 0 \nL 2766 0 \nL 2766 531 \nQ 2569 213 2275 61 \nQ 1981 -91 1556 -91 \nQ 1019 -91 701 211 \nQ 384 513 384 1019 \nQ 384 1609 779 1909 \nQ 1175 2209 1959 2209 \nL 2766 2209 \nL 2766 2266 \nQ 2766 2663 2505 2880 \nQ 2244 3097 1772 3097 \nQ 1472 3097 1187 3025 \nQ 903 2953 641 2809 \nL 641 3341 \nQ 956 3463 1253 3523 \nQ 1550 3584 1831 3584 \nQ 2591 3584 2966 3190 \nQ 3341 2797 3341 1997 \nz\n\" transform=\"scale(0.015625)\"/>\n       <path id=\"DejaVuSans-6c\" d=\"M 603 4863 \nL 1178 4863 \nL 1178 0 \nL 603 0 \nL 603 4863 \nz\n\" transform=\"scale(0.015625)\"/>\n       <path id=\"DejaVuSans-64\" d=\"M 2906 2969 \nL 2906 4863 \nL 3481 4863 \nL 3481 0 \nL 2906 0 \nL 2906 525 \nQ 2725 213 2448 61 \nQ 2172 -91 1784 -91 \nQ 1150 -91 751 415 \nQ 353 922 353 1747 \nQ 353 2572 751 3078 \nQ 1150 3584 1784 3584 \nQ 2172 3584 2448 3432 \nQ 2725 3281 2906 2969 \nz\nM 947 1747 \nQ 947 1113 1208 752 \nQ 1469 391 1925 391 \nQ 2381 391 2643 752 \nQ 2906 1113 2906 1747 \nQ 2906 2381 2643 2742 \nQ 2381 3103 1925 3103 \nQ 1469 3103 1208 2742 \nQ 947 2381 947 1747 \nz\n\" transform=\"scale(0.015625)\"/>\n       <path id=\"DejaVuSans-62\" d=\"M 3116 1747 \nQ 3116 2381 2855 2742 \nQ 2594 3103 2138 3103 \nQ 1681 3103 1420 2742 \nQ 1159 2381 1159 1747 \nQ 1159 1113 1420 752 \nQ 1681 391 2138 391 \nQ 2594 391 2855 752 \nQ 3116 1113 3116 1747 \nz\nM 1159 2969 \nQ 1341 3281 1617 3432 \nQ 1894 3584 2278 3584 \nQ 2916 3584 3314 3078 \nQ 3713 2572 3713 1747 \nQ 3713 922 3314 415 \nQ 2916 -91 2278 -91 \nQ 1894 -91 1617 61 \nQ 1341 213 1159 525 \nL 1159 0 \nL 581 0 \nL 581 4863 \nL 1159 4863 \nL 1159 2969 \nz\n\" transform=\"scale(0.015625)\"/>\n       <path id=\"DejaVuSans-69\" d=\"M 603 3500 \nL 1178 3500 \nL 1178 0 \nL 603 0 \nL 603 3500 \nz\nM 603 4863 \nL 1178 4863 \nL 1178 4134 \nL 603 4134 \nL 603 4863 \nz\n\" transform=\"scale(0.015625)\"/>\n       <path id=\"DejaVuSans-73\" d=\"M 2834 3397 \nL 2834 2853 \nQ 2591 2978 2328 3040 \nQ 2066 3103 1784 3103 \nQ 1356 3103 1142 2972 \nQ 928 2841 928 2578 \nQ 928 2378 1081 2264 \nQ 1234 2150 1697 2047 \nL 1894 2003 \nQ 2506 1872 2764 1633 \nQ 3022 1394 3022 966 \nQ 3022 478 2636 193 \nQ 2250 -91 1575 -91 \nQ 1294 -91 989 -36 \nQ 684 19 347 128 \nL 347 722 \nQ 666 556 975 473 \nQ 1284 391 1588 391 \nQ 1994 391 2212 530 \nQ 2431 669 2431 922 \nQ 2431 1156 2273 1281 \nQ 2116 1406 1581 1522 \nL 1381 1569 \nQ 847 1681 609 1914 \nQ 372 2147 372 2553 \nQ 372 3047 722 3315 \nQ 1072 3584 1716 3584 \nQ 2034 3584 2315 3537 \nQ 2597 3491 2834 3397 \nz\n\" transform=\"scale(0.015625)\"/>\n       <path id=\"DejaVuSans-71\" d=\"M 947 1747 \nQ 947 1113 1208 752 \nQ 1469 391 1925 391 \nQ 2381 391 2643 752 \nQ 2906 1113 2906 1747 \nQ 2906 2381 2643 2742 \nQ 2381 3103 1925 3103 \nQ 1469 3103 1208 2742 \nQ 947 2381 947 1747 \nz\nM 2906 525 \nQ 2725 213 2448 61 \nQ 2172 -91 1784 -91 \nQ 1150 -91 751 415 \nQ 353 922 353 1747 \nQ 353 2572 751 3078 \nQ 1150 3584 1784 3584 \nQ 2172 3584 2448 3432 \nQ 2725 3281 2906 2969 \nL 2906 3500 \nL 3481 3500 \nL 3481 -1331 \nL 2906 -1331 \nL 2906 525 \nz\n\" transform=\"scale(0.015625)\"/>\n       <path id=\"DejaVuSans-72\" d=\"M 2631 2963 \nQ 2534 3019 2420 3045 \nQ 2306 3072 2169 3072 \nQ 1681 3072 1420 2755 \nQ 1159 2438 1159 1844 \nL 1159 0 \nL 581 0 \nL 581 3500 \nL 1159 3500 \nL 1159 2956 \nQ 1341 3275 1631 3429 \nQ 1922 3584 2338 3584 \nQ 2397 3584 2469 3576 \nQ 2541 3569 2628 3553 \nL 2631 2963 \nz\n\" transform=\"scale(0.015625)\"/>\n      </defs>\n      <use xlink:href=\"#DejaVuSans-52\"/>\n      <use xlink:href=\"#DejaVuSans-65\" x=\"64.982422\"/>\n      <use xlink:href=\"#DejaVuSans-63\" x=\"126.505859\"/>\n      <use xlink:href=\"#DejaVuSans-75\" x=\"181.486328\"/>\n      <use xlink:href=\"#DejaVuSans-65\" x=\"244.865234\"/>\n      <use xlink:href=\"#DejaVuSans-6e\" x=\"306.388672\"/>\n      <use xlink:href=\"#DejaVuSans-74\" x=\"369.767578\"/>\n      <use xlink:href=\"#DejaVuSans-6f\" x=\"408.976562\"/>\n      <use xlink:href=\"#DejaVuSans-20\" x=\"470.158203\"/>\n      <use xlink:href=\"#DejaVuSans-74\" x=\"501.945312\"/>\n      <use xlink:href=\"#DejaVuSans-6f\" x=\"541.154297\"/>\n      <use xlink:href=\"#DejaVuSans-74\" x=\"602.335938\"/>\n      <use xlink:href=\"#DejaVuSans-61\" x=\"641.544922\"/>\n      <use xlink:href=\"#DejaVuSans-6c\" x=\"702.824219\"/>\n      <use xlink:href=\"#DejaVuSans-20\" x=\"730.607422\"/>\n      <use xlink:href=\"#DejaVuSans-64\" x=\"762.394531\"/>\n      <use xlink:href=\"#DejaVuSans-65\" x=\"825.871094\"/>\n      <use xlink:href=\"#DejaVuSans-20\" x=\"887.394531\"/>\n      <use xlink:href=\"#DejaVuSans-62\" x=\"919.181641\"/>\n      <use xlink:href=\"#DejaVuSans-69\" x=\"982.658203\"/>\n      <use xlink:href=\"#DejaVuSans-63\" x=\"1010.441406\"/>\n      <use xlink:href=\"#DejaVuSans-69\" x=\"1065.421875\"/>\n      <use xlink:href=\"#DejaVuSans-63\" x=\"1093.205078\"/>\n      <use xlink:href=\"#DejaVuSans-6c\" x=\"1148.185547\"/>\n      <use xlink:href=\"#DejaVuSans-65\" x=\"1175.96875\"/>\n      <use xlink:href=\"#DejaVuSans-74\" x=\"1237.492188\"/>\n      <use xlink:href=\"#DejaVuSans-61\" x=\"1276.701172\"/>\n      <use xlink:href=\"#DejaVuSans-73\" x=\"1337.980469\"/>\n      <use xlink:href=\"#DejaVuSans-20\" x=\"1390.080078\"/>\n      <use xlink:href=\"#DejaVuSans-65\" x=\"1421.867188\"/>\n      <use xlink:href=\"#DejaVuSans-6e\" x=\"1483.390625\"/>\n      <use xlink:href=\"#DejaVuSans-20\" x=\"1546.769531\"/>\n      <use xlink:href=\"#DejaVuSans-61\" x=\"1578.556641\"/>\n      <use xlink:href=\"#DejaVuSans-6c\" x=\"1639.835938\"/>\n      <use xlink:href=\"#DejaVuSans-71\" x=\"1667.619141\"/>\n      <use xlink:href=\"#DejaVuSans-75\" x=\"1731.095703\"/>\n      <use xlink:href=\"#DejaVuSans-69\" x=\"1794.474609\"/>\n      <use xlink:href=\"#DejaVuSans-6c\" x=\"1822.257812\"/>\n      <use xlink:href=\"#DejaVuSans-65\" x=\"1850.041016\"/>\n      <use xlink:href=\"#DejaVuSans-72\" x=\"1911.564453\"/>\n     </g>\n    </g>\n   </g>\n   <g id=\"line2d_15\">\n    <path d=\"M 69.514119 192.855899 \nL 69.931056 197.040412 \nL 70.347992 184.577842 \nL 70.764929 179.733814 \nL 71.181865 178.869621 \nL 71.598802 178.73317 \nL 72.015738 180.916394 \nL 72.432675 193.447189 \nL 72.849611 196.562831 \nL 73.266548 185.214616 \nL 73.683484 186.533647 \nL 74.100421 188.83058 \nL 74.517357 183.281553 \nL 74.934294 182.940424 \nL 75.35123 186.874776 \nL 75.768167 187.87542 \nL 76.185103 192.514771 \nL 76.60204 199.723958 \nL 77.018976 177.732526 \nL 77.435913 171.433015 \nL 77.852849 180.165911 \nL 78.269786 192.946867 \nL 78.686722 192.833157 \nL 79.103659 183.054134 \nL 79.520595 170.113984 \nL 79.937532 203.749277 \nL 80.354468 205.45492 \nL 80.771404 188.716871 \nL 81.188341 190.286063 \nL 81.605277 190.331547 \nL 82.022214 181.121071 \nL 82.43915 184.327681 \nL 82.856087 180.552523 \nL 83.273023 180.006717 \nL 83.68996 176.413495 \nL 84.106896 192.401061 \nL 84.523833 178.346557 \nL 84.940769 176.322527 \nL 85.357706 180.461555 \nL 85.774642 178.755912 \nL 86.191579 180.27962 \nL 86.608515 175.549302 \nL 87.025452 181.780587 \nL 87.442388 179.119782 \nL 87.859325 171.751402 \nL 88.276261 173.98011 \nL 89.110134 158.970446 \nL 89.527071 148.6911 \nL 89.944007 178.073654 \nL 90.360944 174.048335 \nL 90.77788 190.081386 \nL 91.194817 182.280909 \nL 91.611753 171.660434 \nL 92.02869 174.162045 \nL 92.445626 182.030748 \nL 93.279499 160.630605 \nL 93.696436 182.371876 \nL 94.113372 173.161401 \nL 94.530309 166.725439 \nL 94.947245 176.936559 \nL 95.364182 171.046403 \nL 95.781118 168.021728 \nL 96.198055 201.497827 \nL 96.614991 172.68382 \nL 97.031928 166.748181 \nL 97.448864 172.251724 \nL 97.865801 201.088473 \nL 98.282737 170.295919 \nL 98.699673 166.770922 \nL 99.11661 160.289477 \nL 99.533546 168.726727 \nL 99.950483 168.499308 \nL 100.367419 165.406408 \nL 101.201292 141.595622 \nL 101.618229 144.370136 \nL 102.035165 159.061413 \nL 102.452102 168.021728 \nL 102.869038 153.785289 \nL 103.285975 167.021084 \nL 103.702911 172.843014 \nL 104.536784 158.492865 \nL 104.953721 176.754623 \nL 105.787594 160.107541 \nL 106.20453 180.325104 \nL 106.621467 176.936559 \nL 107.038403 164.610441 \nL 107.45534 164.041893 \nL 107.872276 141.368203 \nL 108.289213 144.41562 \nL 108.706149 174.434948 \nL 109.123086 151.397388 \nL 109.540022 143.82433 \nL 109.956959 181.803328 \nL 110.373895 159.425284 \nL 111.207768 139.116754 \nL 111.624705 168.99963 \nL 112.041641 166.088665 \nL 112.458578 140.958849 \nL 112.875514 144.165459 \nL 113.292451 197.176863 \nL 113.709387 130.110955 \nL 114.126324 137.274658 \nL 114.54326 142.391589 \nL 114.960197 125.562572 \nL 115.377133 119.990803 \nL 115.79407 176.982042 \nL 116.211006 123.470316 \nL 116.627942 119.945319 \nL 117.044879 122.628865 \nL 117.461815 115.192259 \nL 117.878752 127.19999 \nL 118.295688 122.969994 \nL 118.712625 110.757585 \nL 119.129561 94.451632 \nL 119.546498 139.048528 \nL 119.963434 115.169517 \nL 120.380371 114.032421 \nL 120.797307 155.377223 \nL 121.214244 114.441776 \nL 121.63118 110.46194 \nL 122.048117 108.051297 \nL 122.465053 116.715967 \nL 122.88199 116.056451 \nL 123.298926 106.027267 \nL 123.715863 120.149996 \nL 124.132799 104.64001 \nL 124.966672 137.729497 \nL 125.383609 111.712746 \nL 125.800545 125.244185 \nL 126.217482 121.491769 \nL 126.634418 127.586603 \nL 127.051355 111.212424 \nL 127.468291 103.434689 \nL 127.885228 83.239868 \nL 128.302164 109.279361 \nL 128.719101 118.05774 \nL 129.136037 113.100003 \nL 129.552974 102.047432 \nL 129.96991 108.892748 \nL 130.386847 108.847264 \nL 130.803783 107.050653 \nL 131.22072 106.368396 \nL 131.637656 122.060317 \nL 132.054593 124.698379 \nL 132.471529 124.880315 \nL 132.888466 102.274851 \nL 133.305402 94.451632 \nL 133.722338 93.769375 \nL 134.556211 111.826455 \nL 134.973148 105.345009 \nL 135.807021 126.222088 \nL 136.223957 110.962262 \nL 136.640894 102.320335 \nL 137.05783 113.827744 \nL 137.474767 101.092271 \nL 137.891703 104.025978 \nL 138.30864 97.453565 \nL 138.725576 129.587891 \nL 139.142513 105.094848 \nL 139.559449 98.840822 \nL 139.976386 107.36904 \nL 140.393322 124.061606 \nL 140.810259 105.299526 \nL 141.227195 112.758874 \nL 141.644132 106.322912 \nL 142.478005 96.953243 \nL 142.894941 94.610825 \nL 143.311878 108.187749 \nL 143.728814 109.552264 \nL 144.145751 96.430179 \nL 144.562687 89.835023 \nL 144.979624 93.314536 \nL 145.39656 98.840822 \nL 145.813497 109.529522 \nL 146.230433 77.827292 \nL 146.64737 109.165651 \nL 147.481243 110.825811 \nL 147.898179 123.379348 \nL 148.315116 93.905826 \nL 148.732052 104.253397 \nL 149.148989 122.33322 \nL 149.565925 118.421611 \nL 149.982862 116.51129 \nL 150.399798 99.636789 \nL 151.233671 80.556322 \nL 151.650607 94.679051 \nL 152.067544 113.873228 \nL 152.48448 111.985649 \nL 152.901417 116.738709 \nL 153.318353 129.201279 \nL 153.73529 138.229819 \nL 154.152226 140.549494 \nL 154.569163 133.249339 \nL 154.986099 127.927731 \nL 155.403036 110.871295 \nL 155.819972 109.370328 \nL 156.236909 115.419678 \nL 156.653845 127.79128 \nL 157.070782 113.486615 \nL 157.487718 117.420966 \nL 157.904655 118.239675 \nL 158.321591 105.072106 \nL 158.738528 133.977081 \nL 159.155464 111.189682 \nL 159.572401 104.594526 \nL 160.406274 129.178537 \nL 160.82321 116.87516 \nL 161.240147 110.598392 \nL 161.657083 106.550331 \nL 162.07402 106.277428 \nL 162.490956 103.707592 \nL 162.907893 120.877738 \nL 163.324829 128.38257 \nL 164.158702 107.801136 \nL 164.575639 108.506136 \nL 164.992575 128.723698 \nL 165.409512 120.809512 \nL 165.826448 97.203404 \nL 166.243385 127.177248 \nL 166.660321 107.050653 \nL 167.077258 81.193095 \nL 167.494194 98.590661 \nL 167.911131 134.704822 \nL 168.328067 109.256619 \nL 168.745004 189.89945 \nL 169.16194 116.693225 \nL 169.578876 109.870651 \nL 169.995813 96.907759 \nL 170.412749 100.228078 \nL 170.829686 98.931789 \nL 171.246622 107.755652 \nL 171.663559 113.281938 \nL 172.080495 102.911624 \nL 172.497432 139.048528 \nL 173.331305 169.863823 \nL 173.748241 173.366078 \nL 174.582114 93.701149 \nL 175.415987 108.074039 \nL 175.832924 106.936943 \nL 176.24986 106.436621 \nL 176.666797 132.044018 \nL 177.083733 107.005169 \nL 177.917606 118.05774 \nL 178.334543 112.031132 \nL 178.751479 132.453372 \nL 179.168416 116.283871 \nL 179.585352 106.209202 \nL 180.002289 160.789799 \nL 180.419225 91.927279 \nL 181.670035 121.559995 \nL 182.086971 126.404023 \nL 182.503908 105.208558 \nL 182.920844 96.953243 \nL 183.337781 160.016574 \nL 183.754717 148.895777 \nL 184.171654 134.068048 \nL 184.58859 113.918711 \nL 185.005527 105.504203 \nL 185.422463 106.89146 \nL 185.8394 101.888238 \nL 186.256336 92.245666 \nL 186.673272 89.925991 \nL 187.090209 98.886305 \nL 187.507145 111.485327 \nL 187.924082 160.312219 \nL 188.341018 149.009487 \nL 188.757955 132.385147 \nL 189.174891 96.612114 \nL 189.591828 100.614691 \nL 190.008764 111.326133 \nL 190.425701 107.278072 \nL 190.842637 160.130283 \nL 191.259574 119.854351 \nL 191.67651 117.375483 \nL 192.093447 117.284515 \nL 192.510383 115.624355 \nL 192.92732 120.036287 \nL 193.344256 108.665329 \nL 193.761193 126.699668 \nL 194.178129 154.785933 \nL 194.595066 130.042729 \nL 195.012002 200.997505 \nL 195.428939 139.503366 \nL 196.262812 122.742575 \nL 196.679748 120.059029 \nL 197.096685 124.880315 \nL 197.513621 123.242897 \nL 197.930558 125.971927 \nL 198.347494 132.271437 \nL 198.764431 123.493058 \nL 199.181367 119.626932 \nL 199.598304 121.810156 \nL 200.01524 148.554648 \nL 200.432177 138.661915 \nL 200.849113 122.765316 \nL 201.26605 130.724987 \nL 201.682986 113.236454 \nL 202.099923 119.854351 \nL 202.516859 173.934626 \nL 202.933796 145.825619 \nL 203.767669 131.95305 \nL 204.184605 135.205144 \nL 204.601541 152.37529 \nL 205.018478 178.710428 \nL 205.435414 156.900931 \nL 205.852351 181.257522 \nL 206.269287 151.761258 \nL 206.686224 145.48449 \nL 207.10316 145.416264 \nL 207.520097 127.3137 \nL 207.937033 148.986745 \nL 208.35397 133.090146 \nL 208.770906 130.497568 \nL 209.187843 125.65354 \nL 209.604779 133.067404 \nL 210.021716 136.001111 \nL 210.438652 128.587247 \nL 210.855589 156.264158 \nL 211.272525 199.223636 \nL 211.689462 139.708043 \nL 212.106398 132.930953 \nL 212.940271 152.875612 \nL 213.357208 139.980946 \nL 214.191081 130.201923 \nL 214.608017 130.906922 \nL 215.024954 133.908855 \nL 215.44189 152.96658 \nL 215.858827 159.97109 \nL 216.275763 137.865948 \nL 216.6927 129.974504 \nL 217.109636 154.763191 \nL 217.526573 145.48449 \nL 217.943509 165.019795 \nL 218.360446 192.264609 \nL 218.777382 198.109282 \nL 219.194319 185.305583 \nL 219.611255 188.83058 \nL 220.028192 162.904797 \nL 220.445128 160.153025 \nL 220.862065 147.053682 \nL 221.279001 158.743026 \nL 221.695937 163.086732 \nL 222.112874 170.887209 \nL 222.52981 164.405763 \nL 222.946747 161.40383 \nL 223.78062 122.060317 \nL 224.197556 112.440487 \nL 225.031429 161.221895 \nL 225.448366 133.431275 \nL 225.865302 165.747536 \nL 226.282239 122.083059 \nL 227.116112 158.561091 \nL 227.533048 162.70012 \nL 227.949985 162.995765 \nL 228.366921 148.509165 \nL 228.783858 138.47998 \nL 229.200794 140.390301 \nL 229.617731 143.324008 \nL 230.034667 185.669454 \nL 230.451604 170.295919 \nL 230.86854 159.948348 \nL 231.285477 116.579516 \nL 231.702413 118.148708 \nL 232.11935 122.583381 \nL 232.536286 136.660627 \nL 232.953223 123.765961 \nL 233.370159 141.504655 \nL 233.787096 132.839985 \nL 234.204032 112.71339 \nL 234.620969 111.121456 \nL 235.037905 129.724343 \nL 235.454842 120.854996 \nL 235.871778 150.851582 \nL 236.288715 148.236262 \nL 236.705651 129.201279 \nL 237.122588 115.760807 \nL 237.539524 151.533839 \nL 237.956461 128.15515 \nL 238.373397 128.132408 \nL 238.790334 165.929472 \nL 239.20727 180.484297 \nL 239.624206 137.433852 \nL 240.041143 126.062894 \nL 240.458079 120.445641 \nL 240.875016 146.91723 \nL 241.291952 120.78677 \nL 241.708889 117.057096 \nL 242.125825 154.103676 \nL 242.542762 144.097233 \nL 242.959698 129.360472 \nL 243.376635 106.709524 \nL 243.793571 100.137111 \nL 244.210508 135.955627 \nL 244.627444 153.125773 \nL 245.044381 138.184335 \nL 245.461317 116.966128 \nL 245.878254 116.03371 \nL 246.29519 173.548013 \nL 246.712127 101.774529 \nL 247.129063 142.619008 \nL 247.546 122.788058 \nL 247.962936 137.41111 \nL 248.379873 139.457882 \nL 248.796809 125.289669 \nL 249.213746 103.45743 \nL 249.630682 92.859698 \nL 250.047619 111.348875 \nL 250.464555 121.605479 \nL 250.881492 103.57114 \nL 251.298428 94.770019 \nL 252.132301 71.709717 \nL 252.549238 74.438747 \nL 252.966174 115.692581 \nL 253.383111 37.051038 \nL 253.800047 81.261321 \nL 254.216984 75.325681 \nL 254.63392 76.690196 \nL 255.050857 73.574554 \nL 255.467793 58.996986 \nL 255.88473 25.088791 \nL 256.301666 138.570948 \nL 256.718603 101.638077 \nL 257.135539 88.857121 \nL 257.552475 99.227434 \nL 257.969412 85.673253 \nL 258.386348 75.78052 \nL 258.803285 91.10857 \nL 259.220221 73.460844 \nL 259.637158 77.872776 \nL 260.054094 80.260677 \nL 260.471031 61.248436 \nL 260.887967 68.889719 \nL 261.304904 68.412139 \nL 261.72184 68.343913 \nL 262.138777 59.315373 \nL 262.555713 97.703726 \nL 263.389586 80.670031 \nL 263.806523 104.685494 \nL 264.223459 92.245666 \nL 265.057332 45.601998 \nL 265.474269 53.061346 \nL 265.891205 70.390686 \nL 266.308142 63.090531 \nL 266.725078 115.942742 \nL 267.142015 65.956012 \nL 267.558951 49.468124 \nL 267.975888 64.614239 \nL 268.392824 191.900739 \nL 269.226697 87.151477 \nL 269.643634 74.347779 \nL 270.06057 100.95582 \nL 270.477507 73.506328 \nL 270.894443 119.285803 \nL 271.31138 71.891652 \nL 271.728316 88.538734 \nL 272.145253 84.718092 \nL 272.562189 74.961811 \nL 272.979126 69.230848 \nL 273.396062 72.073587 \nL 273.812999 58.724083 \nL 274.229935 70.640847 \nL 274.646871 72.596651 \nL 275.063808 84.990995 \nL 275.480744 107.983072 \nL 275.897681 65.796819 \nL 276.731554 46.306997 \nL 277.14849 76.121648 \nL 277.565427 150.601421 \nL 278.3993 46.420707 \nL 278.816236 47.330384 \nL 279.233173 41.531195 \nL 279.650109 26.635241 \nL 280.067046 53.129572 \nL 280.483982 116.124677 \nL 280.900919 77.145035 \nL 281.317855 95.634212 \nL 281.734792 61.29392 \nL 282.151728 62.112629 \nL 282.568665 66.615528 \nL 282.985601 65.364722 \nL 283.402538 77.827292 \nL 283.819474 84.649867 \nL 284.236411 59.360857 \nL 284.653347 48.376512 \nL 285.070284 121.400802 \nL 285.48722 30.592334 \nL 285.904157 41.485711 \nL 286.321093 56.108763 \nL 286.73803 56.040537 \nL 287.154966 54.812474 \nL 287.571903 44.828773 \nL 287.988839 39.325229 \nL 288.405776 44.737805 \nL 288.822712 65.205529 \nL 289.239649 63.704563 \nL 289.656585 102.183883 \nL 290.073522 46.488933 \nL 290.490458 47.807964 \nL 290.907395 40.939905 \nL 291.324331 40.098455 \nL 291.741268 56.563601 \nL 292.158204 99.29566 \nL 292.57514 60.043114 \nL 292.992077 74.00665 \nL 293.409013 80.965676 \nL 293.82595 82.830513 \nL 294.242886 45.647482 \nL 294.659823 58.542148 \nL 295.076759 61.089242 \nL 295.493696 46.011353 \nL 295.910632 48.444737 \nL 296.327569 58.815051 \nL 296.744505 91.017603 \nL 297.161442 85.923414 \nL 297.578378 89.471153 \nL 297.995315 73.64278 \nL 298.412251 63.79553 \nL 298.829188 46.898287 \nL 299.246124 73.324393 \nL 299.663061 74.097618 \nL 300.079997 105.185816 \nL 300.496934 109.006458 \nL 300.91387 65.865045 \nL 301.330807 72.210039 \nL 301.747743 50.059413 \nL 302.16468 45.920385 \nL 302.581616 44.715063 \nL 302.998553 56.768278 \nL 303.415489 78.100195 \nL 303.832426 59.929405 \nL 304.249362 60.930049 \nL 304.666299 85.332124 \nL 305.083235 65.364722 \nL 305.500172 81.761643 \nL 305.917108 113.850486 \nL 306.334045 46.739094 \nL 306.750981 56.836504 \nL 307.584854 29.387013 \nL 308.001791 59.224405 \nL 308.418727 58.246503 \nL 308.835664 63.226982 \nL 309.2526 65.228271 \nL 309.669537 53.675378 \nL 310.086473 51.151025 \nL 310.503409 42.872968 \nL 310.920346 50.127639 \nL 311.337282 52.083444 \nL 311.754219 60.065856 \nL 312.171155 90.994861 \nL 312.588092 55.767634 \nL 313.421965 43.919096 \nL 313.838901 49.559091 \nL 314.255838 83.671964 \nL 314.672774 72.005362 \nL 315.089711 66.433592 \nL 315.506647 58.724083 \nL 315.923584 60.975533 \nL 316.34052 48.171834 \nL 316.757457 42.30442 \nL 317.174393 52.697476 \nL 317.59133 36.391522 \nL 318.008266 111.803713 \nL 318.425203 66.751979 \nL 319.259076 47.535061 \nL 319.676012 38.665714 \nL 320.092949 42.827484 \nL 320.509885 77.599873 \nL 320.926822 95.747921 \nL 321.343758 57.950858 \nL 321.760695 55.153602 \nL 322.177631 40.212164 \nL 322.594568 39.848294 \nL 323.011504 48.103609 \nL 323.428441 75.621326 \nL 323.845377 83.126158 \nL 324.262314 78.031969 \nL 324.67925 59.15618 \nL 325.096187 53.516185 \nL 325.513123 74.188586 \nL 325.93006 44.601354 \nL 326.346996 79.351 \nL 326.763933 28.158949 \nL 327.180869 44.123774 \nL 327.597805 38.62023 \nL 328.014742 36.277813 \nL 328.431678 37.778779 \nL 328.848615 33.116687 \nL 329.265551 17.083636 \nL 329.682488 48.490221 \nL 330.099424 59.04247 \nL 330.516361 122.628865 \nL 330.933297 42.622807 \nL 331.350234 39.6891 \nL 331.76717 29.523464 \nL 332.184107 24.338307 \nL 333.01798 46.147804 \nL 333.434916 43.828129 \nL 333.851853 39.393455 \nL 334.268789 47.125706 \nL 334.685726 46.625384 \nL 335.102662 20.699601 \nL 335.519599 58.587632 \nL 335.936535 61.111984 \nL 336.353472 109.756941 \nL 336.770408 43.054904 \nL 337.187345 48.603931 \nL 337.604281 29.773625 \nL 338.021218 34.117331 \nL 338.438154 135.432563 \nL 338.855091 90.676474 \nL 339.272027 69.890364 \nL 339.688964 40.348616 \nL 340.1059 43.100387 \nL 340.522837 49.650059 \nL 340.939773 53.58441 \nL 341.35671 64.27311 \nL 341.773646 81.647934 \nL 342.190583 43.919096 \nL 342.607519 45.579256 \nL 343.024456 44.487644 \nL 343.441392 91.904538 \nL 343.858329 31.274591 \nL 344.275265 60.065856 \nL 344.692202 54.744248 \nL 345.109138 45.465547 \nL 345.526074 40.303132 \nL 345.943011 47.898932 \nL 346.359947 45.965869 \nL 346.776884 36.687167 \nL 347.19382 113.850486 \nL 347.610757 214.756364 \nL 348.027693 190.331547 \nL 348.44463 88.675186 \nL 348.861566 79.123581 \nL 349.278503 82.284707 \nL 349.695439 98.408725 \nL 350.112376 99.113725 \nL 350.529312 95.656954 \nL 350.946249 85.946156 \nL 351.363185 100.751143 \nL 351.780122 94.383406 \nL 352.613995 66.615528 \nL 353.030931 59.429083 \nL 353.447868 72.687619 \nL 353.864804 122.151285 \nL 354.281741 90.289862 \nL 354.698677 91.426957 \nL 355.115614 85.673253 \nL 355.53255 87.242445 \nL 355.949487 109.074684 \nL 356.366423 90.198894 \nL 356.78336 87.128735 \nL 357.200296 98.22679 \nL 357.617233 160.107541 \nL 358.034169 126.335797 \nL 358.451106 163.473345 \nL 358.868042 160.130283 \nL 359.284979 99.568563 \nL 359.701915 125.221443 \nL 360.118852 95.634212 \nL 360.535788 94.201471 \nL 360.952725 86.35551 \nL 361.786598 109.529522 \nL 362.203534 73.483586 \nL 362.620471 65.023594 \nL 363.037407 84.968253 \nL 363.87128 101.365174 \nL 364.288216 88.311315 \nL 364.705153 141.845783 \nL 365.122089 97.680984 \nL 365.539026 90.15341 \nL 365.955962 94.292439 \nL 366.372899 89.448411 \nL 366.789835 87.651799 \nL 367.206772 100.47824 \nL 367.623708 129.155795 \nL 368.457581 88.879863 \nL 368.874518 95.475018 \nL 369.291454 121.37806 \nL 369.708391 132.862727 \nL 370.125327 175.481076 \nL 370.542264 174.616883 \nL 370.9592 194.334124 \nL 371.376137 192.219126 \nL 371.793073 205.227501 \nL 372.21001 167.180277 \nL 372.626946 144.870458 \nL 373.043883 184.759777 \nL 373.460819 174.412206 \nL 373.877756 153.193999 \nL 373.877756 153.193999 \n\" clip-path=\"url(#p861c8a7686)\" style=\"fill: none; stroke: #1f77b4; stroke-width: 1.5; stroke-linecap: square\"/>\n   </g>\n   <g id=\"patch_3\">\n    <path d=\"M 54.295938 224.64 \nL 54.295938 7.2 \n\" style=\"fill: none; stroke: #000000; stroke-width: 0.8; stroke-linejoin: miter; stroke-linecap: square\"/>\n   </g>\n   <g id=\"patch_4\">\n    <path d=\"M 389.095938 224.64 \nL 389.095938 7.2 \n\" style=\"fill: none; stroke: #000000; stroke-width: 0.8; stroke-linejoin: miter; stroke-linecap: square\"/>\n   </g>\n   <g id=\"patch_5\">\n    <path d=\"M 54.295938 224.64 \nL 389.095937 224.64 \n\" style=\"fill: none; stroke: #000000; stroke-width: 0.8; stroke-linejoin: miter; stroke-linecap: square\"/>\n   </g>\n   <g id=\"patch_6\">\n    <path d=\"M 54.295938 7.2 \nL 389.095937 7.2 \n\" style=\"fill: none; stroke: #000000; stroke-width: 0.8; stroke-linejoin: miter; stroke-linecap: square\"/>\n   </g>\n  </g>\n </g>\n <defs>\n  <clipPath id=\"p861c8a7686\">\n   <rect x=\"54.295938\" y=\"7.2\" width=\"334.8\" height=\"217.44\"/>\n  </clipPath>\n </defs>\n</svg>\n",
      "text/plain": [
       "<Figure size 432x288 with 1 Axes>"
      ]
     },
     "metadata": {
      "needs_background": "light"
     },
     "output_type": "display_data"
    }
   ],
   "source": [
    "plt.plot(fecha_ventas['dteday'],fecha_ventas['cnt'])\n",
    "plt.xticks(rotation = 45)\n",
    "plt.ylabel(\"Recuento total de bicicletas en alquiler\", size=11)\n",
    "plt.show()"
   ]
  },
  {
   "cell_type": "code",
   "execution_count": 16,
   "metadata": {},
   "outputs": [
    {
     "data": {
      "text/html": [
       "<div>\n",
       "<style scoped>\n",
       "    .dataframe tbody tr th:only-of-type {\n",
       "        vertical-align: middle;\n",
       "    }\n",
       "\n",
       "    .dataframe tbody tr th {\n",
       "        vertical-align: top;\n",
       "    }\n",
       "\n",
       "    .dataframe thead th {\n",
       "        text-align: right;\n",
       "    }\n",
       "</style>\n",
       "<table border=\"1\" class=\"dataframe\">\n",
       "  <thead>\n",
       "    <tr style=\"text-align: right;\">\n",
       "      <th></th>\n",
       "      <th>season</th>\n",
       "      <th>cnt</th>\n",
       "    </tr>\n",
       "  </thead>\n",
       "  <tbody>\n",
       "    <tr>\n",
       "      <th>0</th>\n",
       "      <td>1</td>\n",
       "      <td>2604.132597</td>\n",
       "    </tr>\n",
       "    <tr>\n",
       "      <th>1</th>\n",
       "      <td>2</td>\n",
       "      <td>4992.331522</td>\n",
       "    </tr>\n",
       "    <tr>\n",
       "      <th>2</th>\n",
       "      <td>3</td>\n",
       "      <td>5644.303191</td>\n",
       "    </tr>\n",
       "    <tr>\n",
       "      <th>3</th>\n",
       "      <td>4</td>\n",
       "      <td>4728.162921</td>\n",
       "    </tr>\n",
       "  </tbody>\n",
       "</table>\n",
       "</div>"
      ],
      "text/plain": [
       "  season          cnt\n",
       "0      1  2604.132597\n",
       "1      2  4992.331522\n",
       "2      3  5644.303191\n",
       "3      4  4728.162921"
      ]
     },
     "execution_count": 16,
     "metadata": {},
     "output_type": "execute_result"
    }
   ],
   "source": [
    "# resumir la información\n",
    "alquiler_mes=data_t.groupby('season').mean()['cnt'].reset_index()\n",
    "alquiler_mes"
   ]
  },
  {
   "cell_type": "code",
   "execution_count": 17,
   "metadata": {},
   "outputs": [
    {
     "name": "stderr",
     "output_type": "stream",
     "text": [
      "C:\\Users\\ortiz\\AppData\\Local\\Temp/ipykernel_19616/1258272656.py:14: UserWarning: FixedFormatter should only be used together with FixedLocator\n",
      "  ax.set_xticklabels(labels=[\" \",\" \",\"Invierno\",\" \",\"Primavera\",\" \",\"Verano\",\" \",\"Otoño\"])\n"
     ]
    },
    {
     "data": {
      "image/png": "[encoded data removed]",
      "image/svg+xml": "<?xml version=\"1.0\" encoding=\"utf-8\" standalone=\"no\"?>\n<!DOCTYPE svg PUBLIC \"-//W3C//DTD SVG 1.1//EN\"\n  \"http://www.w3.org/Graphics/SVG/1.1/DTD/svg11.dtd\">\n<svg xmlns:xlink=\"http://www.w3.org/1999/xlink\" width=\"381.891875pt\" height=\"277.51875pt\" viewBox=\"0 0 381.891875 277.51875\" xmlns=\"http://www.w3.org/2000/svg\" version=\"1.1\">\n <metadata>\n  <rdf:RDF xmlns:dc=\"http://purl.org/dc/elements/1.1/\" xmlns:cc=\"http://creativecommons.org/ns#\" xmlns:rdf=\"http://www.w3.org/1999/02/22-rdf-syntax-ns#\">\n   <cc:Work>\n    <dc:type rdf:resource=\"http://purl.org/dc/dcmitype/StillImage\"/>\n    <dc:date>2022-01-31T09:00:12.454646</dc:date>\n    <dc:format>image/svg+xml</dc:format>\n    <dc:creator>\n     <cc:Agent>\n      <dc:title>Matplotlib v3.5.0, https://matplotlib.org/</dc:title>\n     </cc:Agent>\n    </dc:creator>\n   </cc:Work>\n  </rdf:RDF>\n </metadata>\n <defs>\n  <style type=\"text/css\">*{stroke-linejoin: round; stroke-linecap: butt}</style>\n </defs>\n <g id=\"figure_1\">\n  <g id=\"patch_1\">\n   <path d=\"M -0 277.51875 \nL 381.891875 277.51875 \nL 381.891875 0 \nL -0 0 \nL -0 277.51875 \nz\n\" style=\"fill: none\"/>\n  </g>\n  <g id=\"axes_1\">\n   <g id=\"patch_2\">\n    <path d=\"M 39.65 239.9625 \nL 374.45 239.9625 \nL 374.45 22.5225 \nL 39.65 22.5225 \nz\n\" style=\"fill: #ffffff\"/>\n   </g>\n   <g id=\"patch_3\">\n    <path d=\"M 54.868182 239.9625 \nL 118.944737 239.9625 \nL 118.944737 144.418614 \nL 54.868182 144.418614 \nz\n\" clip-path=\"url(#p4ab9ce2be2)\" style=\"fill: #008000\"/>\n   </g>\n   <g id=\"patch_4\">\n    <path d=\"M 134.963876 239.9625 \nL 199.040431 239.9625 \nL 199.040431 56.797191 \nL 134.963876 56.797191 \nz\n\" clip-path=\"url(#p4ab9ce2be2)\" style=\"fill: #008000\"/>\n   </g>\n   <g id=\"patch_5\">\n    <path d=\"M 215.059569 239.9625 \nL 279.136124 239.9625 \nL 279.136124 32.876786 \nL 215.059569 32.876786 \nz\n\" clip-path=\"url(#p4ab9ce2be2)\" style=\"fill: #008000\"/>\n   </g>\n   <g id=\"patch_6\">\n    <path d=\"M 295.155263 239.9625 \nL 359.231818 239.9625 \nL 359.231818 66.48936 \nL 295.155263 66.48936 \nz\n\" clip-path=\"url(#p4ab9ce2be2)\" style=\"fill: #008000\"/>\n   </g>\n   <g id=\"matplotlib.axis_1\">\n    <g id=\"xtick_1\">\n     <g id=\"line2d_1\">\n      <defs>\n       <path id=\"m8ae1a521df\" d=\"M 0 0 \nL 0 3.5 \n\" style=\"stroke: #000000; stroke-width: 0.8\"/>\n      </defs>\n      <g>\n       <use xlink:href=\"#m8ae1a521df\" x=\"46.858612\" y=\"239.9625\" style=\"stroke: #000000; stroke-width: 0.8\"/>\n      </g>\n     </g>\n     <g id=\"text_1\">\n      <!--   -->\n      <g transform=\"translate(45.26955 254.560937)scale(0.1 -0.1)\">\n       <defs>\n        <path id=\"DejaVuSans-20\" transform=\"scale(0.015625)\"/>\n       </defs>\n       <use xlink:href=\"#DejaVuSans-20\"/>\n      </g>\n     </g>\n    </g>\n    <g id=\"xtick_2\">\n     <g id=\"line2d_2\">\n      <g>\n       <use xlink:href=\"#m8ae1a521df\" x=\"86.906459\" y=\"239.9625\" style=\"stroke: #000000; stroke-width: 0.8\"/>\n      </g>\n     </g>\n     <g id=\"text_2\">\n      <!-- Invierno -->\n      <g transform=\"translate(66.641616 254.560937)scale(0.1 -0.1)\">\n       <defs>\n        <path id=\"DejaVuSans-49\" d=\"M 628 4666 \nL 1259 4666 \nL 1259 0 \nL 628 0 \nL 628 4666 \nz\n\" transform=\"scale(0.015625)\"/>\n        <path id=\"DejaVuSans-6e\" d=\"M 3513 2113 \nL 3513 0 \nL 2938 0 \nL 2938 2094 \nQ 2938 2591 2744 2837 \nQ 2550 3084 2163 3084 \nQ 1697 3084 1428 2787 \nQ 1159 2491 1159 1978 \nL 1159 0 \nL 581 0 \nL 581 3500 \nL 1159 3500 \nL 1159 2956 \nQ 1366 3272 1645 3428 \nQ 1925 3584 2291 3584 \nQ 2894 3584 3203 3211 \nQ 3513 2838 3513 2113 \nz\n\" transform=\"scale(0.015625)\"/>\n        <path id=\"DejaVuSans-76\" d=\"M 191 3500 \nL 800 3500 \nL 1894 563 \nL 2988 3500 \nL 3597 3500 \nL 2284 0 \nL 1503 0 \nL 191 3500 \nz\n\" transform=\"scale(0.015625)\"/>\n        <path id=\"DejaVuSans-69\" d=\"M 603 3500 \nL 1178 3500 \nL 1178 0 \nL 603 0 \nL 603 3500 \nz\nM 603 4863 \nL 1178 4863 \nL 1178 4134 \nL 603 4134 \nL 603 4863 \nz\n\" transform=\"scale(0.015625)\"/>\n        <path id=\"DejaVuSans-65\" d=\"M 3597 1894 \nL 3597 1613 \nL 953 1613 \nQ 991 1019 1311 708 \nQ 1631 397 2203 397 \nQ 2534 397 2845 478 \nQ 3156 559 3463 722 \nL 3463 178 \nQ 3153 47 2828 -22 \nQ 2503 -91 2169 -91 \nQ 1331 -91 842 396 \nQ 353 884 353 1716 \nQ 353 2575 817 3079 \nQ 1281 3584 2069 3584 \nQ 2775 3584 3186 3129 \nQ 3597 2675 3597 1894 \nz\nM 3022 2063 \nQ 3016 2534 2758 2815 \nQ 2500 3097 2075 3097 \nQ 1594 3097 1305 2825 \nQ 1016 2553 972 2059 \nL 3022 2063 \nz\n\" transform=\"scale(0.015625)\"/>\n        <path id=\"DejaVuSans-72\" d=\"M 2631 2963 \nQ 2534 3019 2420 3045 \nQ 2306 3072 2169 3072 \nQ 1681 3072 1420 2755 \nQ 1159 2438 1159 1844 \nL 1159 0 \nL 581 0 \nL 581 3500 \nL 1159 3500 \nL 1159 2956 \nQ 1341 3275 1631 3429 \nQ 1922 3584 2338 3584 \nQ 2397 3584 2469 3576 \nQ 2541 3569 2628 3553 \nL 2631 2963 \nz\n\" transform=\"scale(0.015625)\"/>\n        <path id=\"DejaVuSans-6f\" d=\"M 1959 3097 \nQ 1497 3097 1228 2736 \nQ 959 2375 959 1747 \nQ 959 1119 1226 758 \nQ 1494 397 1959 397 \nQ 2419 397 2687 759 \nQ 2956 1122 2956 1747 \nQ 2956 2369 2687 2733 \nQ 2419 3097 1959 3097 \nz\nM 1959 3584 \nQ 2709 3584 3137 3096 \nQ 3566 2609 3566 1747 \nQ 3566 888 3137 398 \nQ 2709 -91 1959 -91 \nQ 1206 -91 779 398 \nQ 353 888 353 1747 \nQ 353 2609 779 3096 \nQ 1206 3584 1959 3584 \nz\n\" transform=\"scale(0.015625)\"/>\n       </defs>\n       <use xlink:href=\"#DejaVuSans-49\"/>\n       <use xlink:href=\"#DejaVuSans-6e\" x=\"29.492188\"/>\n       <use xlink:href=\"#DejaVuSans-76\" x=\"92.871094\"/>\n       <use xlink:href=\"#DejaVuSans-69\" x=\"152.050781\"/>\n       <use xlink:href=\"#DejaVuSans-65\" x=\"179.833984\"/>\n       <use xlink:href=\"#DejaVuSans-72\" x=\"241.357422\"/>\n       <use xlink:href=\"#DejaVuSans-6e\" x=\"280.720703\"/>\n       <use xlink:href=\"#DejaVuSans-6f\" x=\"344.099609\"/>\n      </g>\n     </g>\n    </g>\n    <g id=\"xtick_3\">\n     <g id=\"line2d_3\">\n      <g>\n       <use xlink:href=\"#m8ae1a521df\" x=\"126.954306\" y=\"239.9625\" style=\"stroke: #000000; stroke-width: 0.8\"/>\n      </g>\n     </g>\n     <g id=\"text_3\">\n      <!--   -->\n      <g transform=\"translate(125.365244 254.560937)scale(0.1 -0.1)\">\n       <use xlink:href=\"#DejaVuSans-20\"/>\n      </g>\n     </g>\n    </g>\n    <g id=\"xtick_4\">\n     <g id=\"line2d_4\">\n      <g>\n       <use xlink:href=\"#m8ae1a521df\" x=\"167.002153\" y=\"239.9625\" style=\"stroke: #000000; stroke-width: 0.8\"/>\n      </g>\n     </g>\n     <g id=\"text_4\">\n      <!-- Primavera -->\n      <g transform=\"translate(141.540434 254.560937)scale(0.1 -0.1)\">\n       <defs>\n        <path id=\"DejaVuSans-50\" d=\"M 1259 4147 \nL 1259 2394 \nL 2053 2394 \nQ 2494 2394 2734 2622 \nQ 2975 2850 2975 3272 \nQ 2975 3691 2734 3919 \nQ 2494 4147 2053 4147 \nL 1259 4147 \nz\nM 628 4666 \nL 2053 4666 \nQ 2838 4666 3239 4311 \nQ 3641 3956 3641 3272 \nQ 3641 2581 3239 2228 \nQ 2838 1875 2053 1875 \nL 1259 1875 \nL 1259 0 \nL 628 0 \nL 628 4666 \nz\n\" transform=\"scale(0.015625)\"/>\n        <path id=\"DejaVuSans-6d\" d=\"M 3328 2828 \nQ 3544 3216 3844 3400 \nQ 4144 3584 4550 3584 \nQ 5097 3584 5394 3201 \nQ 5691 2819 5691 2113 \nL 5691 0 \nL 5113 0 \nL 5113 2094 \nQ 5113 2597 4934 2840 \nQ 4756 3084 4391 3084 \nQ 3944 3084 3684 2787 \nQ 3425 2491 3425 1978 \nL 3425 0 \nL 2847 0 \nL 2847 2094 \nQ 2847 2600 2669 2842 \nQ 2491 3084 2119 3084 \nQ 1678 3084 1418 2786 \nQ 1159 2488 1159 1978 \nL 1159 0 \nL 581 0 \nL 581 3500 \nL 1159 3500 \nL 1159 2956 \nQ 1356 3278 1631 3431 \nQ 1906 3584 2284 3584 \nQ 2666 3584 2933 3390 \nQ 3200 3197 3328 2828 \nz\n\" transform=\"scale(0.015625)\"/>\n        <path id=\"DejaVuSans-61\" d=\"M 2194 1759 \nQ 1497 1759 1228 1600 \nQ 959 1441 959 1056 \nQ 959 750 1161 570 \nQ 1363 391 1709 391 \nQ 2188 391 2477 730 \nQ 2766 1069 2766 1631 \nL 2766 1759 \nL 2194 1759 \nz\nM 3341 1997 \nL 3341 0 \nL 2766 0 \nL 2766 531 \nQ 2569 213 2275 61 \nQ 1981 -91 1556 -91 \nQ 1019 -91 701 211 \nQ 384 513 384 1019 \nQ 384 1609 779 1909 \nQ 1175 2209 1959 2209 \nL 2766 2209 \nL 2766 2266 \nQ 2766 2663 2505 2880 \nQ 2244 3097 1772 3097 \nQ 1472 3097 1187 3025 \nQ 903 2953 641 2809 \nL 641 3341 \nQ 956 3463 1253 3523 \nQ 1550 3584 1831 3584 \nQ 2591 3584 2966 3190 \nQ 3341 2797 3341 1997 \nz\n\" transform=\"scale(0.015625)\"/>\n       </defs>\n       <use xlink:href=\"#DejaVuSans-50\"/>\n       <use xlink:href=\"#DejaVuSans-72\" x=\"58.552734\"/>\n       <use xlink:href=\"#DejaVuSans-69\" x=\"99.666016\"/>\n       <use xlink:href=\"#DejaVuSans-6d\" x=\"127.449219\"/>\n       <use xlink:href=\"#DejaVuSans-61\" x=\"224.861328\"/>\n       <use xlink:href=\"#DejaVuSans-76\" x=\"286.140625\"/>\n       <use xlink:href=\"#DejaVuSans-65\" x=\"345.320312\"/>\n       <use xlink:href=\"#DejaVuSans-72\" x=\"406.84375\"/>\n       <use xlink:href=\"#DejaVuSans-61\" x=\"447.957031\"/>\n      </g>\n     </g>\n    </g>\n    <g id=\"xtick_5\">\n     <g id=\"line2d_5\">\n      <g>\n       <use xlink:href=\"#m8ae1a521df\" x=\"207.05\" y=\"239.9625\" style=\"stroke: #000000; stroke-width: 0.8\"/>\n      </g>\n     </g>\n     <g id=\"text_5\">\n      <!--   -->\n      <g transform=\"translate(205.460938 254.560937)scale(0.1 -0.1)\">\n       <use xlink:href=\"#DejaVuSans-20\"/>\n      </g>\n     </g>\n    </g>\n    <g id=\"xtick_6\">\n     <g id=\"line2d_6\">\n      <g>\n       <use xlink:href=\"#m8ae1a521df\" x=\"247.097847\" y=\"239.9625\" style=\"stroke: #000000; stroke-width: 0.8\"/>\n      </g>\n     </g>\n     <g id=\"text_6\">\n      <!-- Verano -->\n      <g transform=\"translate(229.640816 254.560937)scale(0.1 -0.1)\">\n       <defs>\n        <path id=\"DejaVuSans-56\" d=\"M 1831 0 \nL 50 4666 \nL 709 4666 \nL 2188 738 \nL 3669 4666 \nL 4325 4666 \nL 2547 0 \nL 1831 0 \nz\n\" transform=\"scale(0.015625)\"/>\n       </defs>\n       <use xlink:href=\"#DejaVuSans-56\"/>\n       <use xlink:href=\"#DejaVuSans-65\" x=\"60.658203\"/>\n       <use xlink:href=\"#DejaVuSans-72\" x=\"122.181641\"/>\n       <use xlink:href=\"#DejaVuSans-61\" x=\"163.294922\"/>\n       <use xlink:href=\"#DejaVuSans-6e\" x=\"224.574219\"/>\n       <use xlink:href=\"#DejaVuSans-6f\" x=\"287.953125\"/>\n      </g>\n     </g>\n    </g>\n    <g id=\"xtick_7\">\n     <g id=\"line2d_7\">\n      <g>\n       <use xlink:href=\"#m8ae1a521df\" x=\"287.145694\" y=\"239.9625\" style=\"stroke: #000000; stroke-width: 0.8\"/>\n      </g>\n     </g>\n     <g id=\"text_7\">\n      <!--   -->\n      <g transform=\"translate(285.556631 254.560937)scale(0.1 -0.1)\">\n       <use xlink:href=\"#DejaVuSans-20\"/>\n      </g>\n     </g>\n    </g>\n    <g id=\"xtick_8\">\n     <g id=\"line2d_8\">\n      <g>\n       <use xlink:href=\"#m8ae1a521df\" x=\"327.193541\" y=\"239.9625\" style=\"stroke: #000000; stroke-width: 0.8\"/>\n      </g>\n     </g>\n     <g id=\"text_8\">\n      <!-- Otoño -->\n      <g transform=\"translate(312.009947 254.560937)scale(0.1 -0.1)\">\n       <defs>\n        <path id=\"DejaVuSans-4f\" d=\"M 2522 4238 \nQ 1834 4238 1429 3725 \nQ 1025 3213 1025 2328 \nQ 1025 1447 1429 934 \nQ 1834 422 2522 422 \nQ 3209 422 3611 934 \nQ 4013 1447 4013 2328 \nQ 4013 3213 3611 3725 \nQ 3209 4238 2522 4238 \nz\nM 2522 4750 \nQ 3503 4750 4090 4092 \nQ 4678 3434 4678 2328 \nQ 4678 1225 4090 567 \nQ 3503 -91 2522 -91 \nQ 1538 -91 948 565 \nQ 359 1222 359 2328 \nQ 359 3434 948 4092 \nQ 1538 4750 2522 4750 \nz\n\" transform=\"scale(0.015625)\"/>\n        <path id=\"DejaVuSans-74\" d=\"M 1172 4494 \nL 1172 3500 \nL 2356 3500 \nL 2356 3053 \nL 1172 3053 \nL 1172 1153 \nQ 1172 725 1289 603 \nQ 1406 481 1766 481 \nL 2356 481 \nL 2356 0 \nL 1766 0 \nQ 1100 0 847 248 \nQ 594 497 594 1153 \nL 594 3053 \nL 172 3053 \nL 172 3500 \nL 594 3500 \nL 594 4494 \nL 1172 4494 \nz\n\" transform=\"scale(0.015625)\"/>\n        <path id=\"DejaVuSans-f1\" d=\"M 3513 2113 \nL 3513 0 \nL 2938 0 \nL 2938 2094 \nQ 2938 2591 2744 2837 \nQ 2550 3084 2163 3084 \nQ 1697 3084 1428 2787 \nQ 1159 2491 1159 1978 \nL 1159 0 \nL 581 0 \nL 581 3500 \nL 1159 3500 \nL 1159 2956 \nQ 1366 3272 1645 3428 \nQ 1925 3584 2291 3584 \nQ 2894 3584 3203 3211 \nQ 3513 2838 3513 2113 \nz\nM 2060 4281 \nL 1881 4453 \nQ 1813 4516 1761 4545 \nQ 1710 4575 1669 4575 \nQ 1550 4575 1494 4461 \nQ 1438 4347 1431 4091 \nL 1041 4091 \nQ 1047 4513 1206 4742 \nQ 1366 4972 1650 4972 \nQ 1769 4972 1869 4928 \nQ 1969 4884 2085 4781 \nL 2263 4609 \nQ 2331 4547 2383 4517 \nQ 2435 4488 2475 4488 \nQ 2594 4488 2650 4602 \nQ 2706 4716 2713 4972 \nL 3103 4972 \nQ 3097 4550 2937 4320 \nQ 2778 4091 2494 4091 \nQ 2375 4091 2275 4134 \nQ 2175 4178 2060 4281 \nz\n\" transform=\"scale(0.015625)\"/>\n       </defs>\n       <use xlink:href=\"#DejaVuSans-4f\"/>\n       <use xlink:href=\"#DejaVuSans-74\" x=\"78.710938\"/>\n       <use xlink:href=\"#DejaVuSans-6f\" x=\"117.919922\"/>\n       <use xlink:href=\"#DejaVuSans-f1\" x=\"179.101562\"/>\n       <use xlink:href=\"#DejaVuSans-6f\" x=\"242.480469\"/>\n      </g>\n     </g>\n    </g>\n    <g id=\"xtick_9\">\n     <g id=\"line2d_9\">\n      <g>\n       <use xlink:href=\"#m8ae1a521df\" x=\"367.241388\" y=\"239.9625\" style=\"stroke: #000000; stroke-width: 0.8\"/>\n      </g>\n     </g>\n    </g>\n    <g id=\"text_9\">\n     <!-- Season -->\n     <g transform=\"translate(188.902344 268.239062)scale(0.1 -0.1)\">\n      <defs>\n       <path id=\"DejaVuSans-53\" d=\"M 3425 4513 \nL 3425 3897 \nQ 3066 4069 2747 4153 \nQ 2428 4238 2131 4238 \nQ 1616 4238 1336 4038 \nQ 1056 3838 1056 3469 \nQ 1056 3159 1242 3001 \nQ 1428 2844 1947 2747 \nL 2328 2669 \nQ 3034 2534 3370 2195 \nQ 3706 1856 3706 1288 \nQ 3706 609 3251 259 \nQ 2797 -91 1919 -91 \nQ 1588 -91 1214 -16 \nQ 841 59 441 206 \nL 441 856 \nQ 825 641 1194 531 \nQ 1563 422 1919 422 \nQ 2459 422 2753 634 \nQ 3047 847 3047 1241 \nQ 3047 1584 2836 1778 \nQ 2625 1972 2144 2069 \nL 1759 2144 \nQ 1053 2284 737 2584 \nQ 422 2884 422 3419 \nQ 422 4038 858 4394 \nQ 1294 4750 2059 4750 \nQ 2388 4750 2728 4690 \nQ 3069 4631 3425 4513 \nz\n\" transform=\"scale(0.015625)\"/>\n       <path id=\"DejaVuSans-73\" d=\"M 2834 3397 \nL 2834 2853 \nQ 2591 2978 2328 3040 \nQ 2066 3103 1784 3103 \nQ 1356 3103 1142 2972 \nQ 928 2841 928 2578 \nQ 928 2378 1081 2264 \nQ 1234 2150 1697 2047 \nL 1894 2003 \nQ 2506 1872 2764 1633 \nQ 3022 1394 3022 966 \nQ 3022 478 2636 193 \nQ 2250 -91 1575 -91 \nQ 1294 -91 989 -36 \nQ 684 19 347 128 \nL 347 722 \nQ 666 556 975 473 \nQ 1284 391 1588 391 \nQ 1994 391 2212 530 \nQ 2431 669 2431 922 \nQ 2431 1156 2273 1281 \nQ 2116 1406 1581 1522 \nL 1381 1569 \nQ 847 1681 609 1914 \nQ 372 2147 372 2553 \nQ 372 3047 722 3315 \nQ 1072 3584 1716 3584 \nQ 2034 3584 2315 3537 \nQ 2597 3491 2834 3397 \nz\n\" transform=\"scale(0.015625)\"/>\n      </defs>\n      <use xlink:href=\"#DejaVuSans-53\"/>\n      <use xlink:href=\"#DejaVuSans-65\" x=\"63.476562\"/>\n      <use xlink:href=\"#DejaVuSans-61\" x=\"125\"/>\n      <use xlink:href=\"#DejaVuSans-73\" x=\"186.279297\"/>\n      <use xlink:href=\"#DejaVuSans-6f\" x=\"238.378906\"/>\n      <use xlink:href=\"#DejaVuSans-6e\" x=\"299.560547\"/>\n     </g>\n    </g>\n   </g>\n   <g id=\"matplotlib.axis_2\">\n    <g id=\"ytick_1\">\n     <g id=\"line2d_10\">\n      <defs>\n       <path id=\"mc633982db4\" d=\"M 0 0 \nL -3.5 0 \n\" style=\"stroke: #000000; stroke-width: 0.8\"/>\n      </defs>\n      <g>\n       <use xlink:href=\"#mc633982db4\" x=\"39.65\" y=\"239.9625\" style=\"stroke: #000000; stroke-width: 0.8\"/>\n      </g>\n     </g>\n     <g id=\"text_10\">\n      <!-- 0 -->\n      <g transform=\"translate(26.2875 243.761719)scale(0.1 -0.1)\">\n       <defs>\n        <path id=\"DejaVuSans-30\" d=\"M 2034 4250 \nQ 1547 4250 1301 3770 \nQ 1056 3291 1056 2328 \nQ 1056 1369 1301 889 \nQ 1547 409 2034 409 \nQ 2525 409 2770 889 \nQ 3016 1369 3016 2328 \nQ 3016 3291 2770 3770 \nQ 2525 4250 2034 4250 \nz\nM 2034 4750 \nQ 2819 4750 3233 4129 \nQ 3647 3509 3647 2328 \nQ 3647 1150 3233 529 \nQ 2819 -91 2034 -91 \nQ 1250 -91 836 529 \nQ 422 1150 422 2328 \nQ 422 3509 836 4129 \nQ 1250 4750 2034 4750 \nz\n\" transform=\"scale(0.015625)\"/>\n       </defs>\n       <use xlink:href=\"#DejaVuSans-30\"/>\n      </g>\n     </g>\n    </g>\n    <g id=\"ytick_2\">\n     <g id=\"line2d_11\">\n      <g>\n       <use xlink:href=\"#mc633982db4\" x=\"39.65\" y=\"203.273168\" style=\"stroke: #000000; stroke-width: 0.8\"/>\n      </g>\n     </g>\n     <g id=\"text_11\">\n      <!-- 1000 -->\n      <g transform=\"translate(7.2 207.072387)scale(0.1 -0.1)\">\n       <defs>\n        <path id=\"DejaVuSans-31\" d=\"M 794 531 \nL 1825 531 \nL 1825 4091 \nL 703 3866 \nL 703 4441 \nL 1819 4666 \nL 2450 4666 \nL 2450 531 \nL 3481 531 \nL 3481 0 \nL 794 0 \nL 794 531 \nz\n\" transform=\"scale(0.015625)\"/>\n       </defs>\n       <use xlink:href=\"#DejaVuSans-31\"/>\n       <use xlink:href=\"#DejaVuSans-30\" x=\"63.623047\"/>\n       <use xlink:href=\"#DejaVuSans-30\" x=\"127.246094\"/>\n       <use xlink:href=\"#DejaVuSans-30\" x=\"190.869141\"/>\n      </g>\n     </g>\n    </g>\n    <g id=\"ytick_3\">\n     <g id=\"line2d_12\">\n      <g>\n       <use xlink:href=\"#mc633982db4\" x=\"39.65\" y=\"166.583836\" style=\"stroke: #000000; stroke-width: 0.8\"/>\n      </g>\n     </g>\n     <g id=\"text_12\">\n      <!-- 2000 -->\n      <g transform=\"translate(7.2 170.383055)scale(0.1 -0.1)\">\n       <defs>\n        <path id=\"DejaVuSans-32\" d=\"M 1228 531 \nL 3431 531 \nL 3431 0 \nL 469 0 \nL 469 531 \nQ 828 903 1448 1529 \nQ 2069 2156 2228 2338 \nQ 2531 2678 2651 2914 \nQ 2772 3150 2772 3378 \nQ 2772 3750 2511 3984 \nQ 2250 4219 1831 4219 \nQ 1534 4219 1204 4116 \nQ 875 4013 500 3803 \nL 500 4441 \nQ 881 4594 1212 4672 \nQ 1544 4750 1819 4750 \nQ 2544 4750 2975 4387 \nQ 3406 4025 3406 3419 \nQ 3406 3131 3298 2873 \nQ 3191 2616 2906 2266 \nQ 2828 2175 2409 1742 \nQ 1991 1309 1228 531 \nz\n\" transform=\"scale(0.015625)\"/>\n       </defs>\n       <use xlink:href=\"#DejaVuSans-32\"/>\n       <use xlink:href=\"#DejaVuSans-30\" x=\"63.623047\"/>\n       <use xlink:href=\"#DejaVuSans-30\" x=\"127.246094\"/>\n       <use xlink:href=\"#DejaVuSans-30\" x=\"190.869141\"/>\n      </g>\n     </g>\n    </g>\n    <g id=\"ytick_4\">\n     <g id=\"line2d_13\">\n      <g>\n       <use xlink:href=\"#mc633982db4\" x=\"39.65\" y=\"129.894504\" style=\"stroke: #000000; stroke-width: 0.8\"/>\n      </g>\n     </g>\n     <g id=\"text_13\">\n      <!-- 3000 -->\n      <g transform=\"translate(7.2 133.693722)scale(0.1 -0.1)\">\n       <defs>\n        <path id=\"DejaVuSans-33\" d=\"M 2597 2516 \nQ 3050 2419 3304 2112 \nQ 3559 1806 3559 1356 \nQ 3559 666 3084 287 \nQ 2609 -91 1734 -91 \nQ 1441 -91 1130 -33 \nQ 819 25 488 141 \nL 488 750 \nQ 750 597 1062 519 \nQ 1375 441 1716 441 \nQ 2309 441 2620 675 \nQ 2931 909 2931 1356 \nQ 2931 1769 2642 2001 \nQ 2353 2234 1838 2234 \nL 1294 2234 \nL 1294 2753 \nL 1863 2753 \nQ 2328 2753 2575 2939 \nQ 2822 3125 2822 3475 \nQ 2822 3834 2567 4026 \nQ 2313 4219 1838 4219 \nQ 1578 4219 1281 4162 \nQ 984 4106 628 3988 \nL 628 4550 \nQ 988 4650 1302 4700 \nQ 1616 4750 1894 4750 \nQ 2613 4750 3031 4423 \nQ 3450 4097 3450 3541 \nQ 3450 3153 3228 2886 \nQ 3006 2619 2597 2516 \nz\n\" transform=\"scale(0.015625)\"/>\n       </defs>\n       <use xlink:href=\"#DejaVuSans-33\"/>\n       <use xlink:href=\"#DejaVuSans-30\" x=\"63.623047\"/>\n       <use xlink:href=\"#DejaVuSans-30\" x=\"127.246094\"/>\n       <use xlink:href=\"#DejaVuSans-30\" x=\"190.869141\"/>\n      </g>\n     </g>\n    </g>\n    <g id=\"ytick_5\">\n     <g id=\"line2d_14\">\n      <g>\n       <use xlink:href=\"#mc633982db4\" x=\"39.65\" y=\"93.205172\" style=\"stroke: #000000; stroke-width: 0.8\"/>\n      </g>\n     </g>\n     <g id=\"text_14\">\n      <!-- 4000 -->\n      <g transform=\"translate(7.2 97.00439)scale(0.1 -0.1)\">\n       <defs>\n        <path id=\"DejaVuSans-34\" d=\"M 2419 4116 \nL 825 1625 \nL 2419 1625 \nL 2419 4116 \nz\nM 2253 4666 \nL 3047 4666 \nL 3047 1625 \nL 3713 1625 \nL 3713 1100 \nL 3047 1100 \nL 3047 0 \nL 2419 0 \nL 2419 1100 \nL 313 1100 \nL 313 1709 \nL 2253 4666 \nz\n\" transform=\"scale(0.015625)\"/>\n       </defs>\n       <use xlink:href=\"#DejaVuSans-34\"/>\n       <use xlink:href=\"#DejaVuSans-30\" x=\"63.623047\"/>\n       <use xlink:href=\"#DejaVuSans-30\" x=\"127.246094\"/>\n       <use xlink:href=\"#DejaVuSans-30\" x=\"190.869141\"/>\n      </g>\n     </g>\n    </g>\n    <g id=\"ytick_6\">\n     <g id=\"line2d_15\">\n      <g>\n       <use xlink:href=\"#mc633982db4\" x=\"39.65\" y=\"56.515839\" style=\"stroke: #000000; stroke-width: 0.8\"/>\n      </g>\n     </g>\n     <g id=\"text_15\">\n      <!-- 5000 -->\n      <g transform=\"translate(7.2 60.315058)scale(0.1 -0.1)\">\n       <defs>\n        <path id=\"DejaVuSans-35\" d=\"M 691 4666 \nL 3169 4666 \nL 3169 4134 \nL 1269 4134 \nL 1269 2991 \nQ 1406 3038 1543 3061 \nQ 1681 3084 1819 3084 \nQ 2600 3084 3056 2656 \nQ 3513 2228 3513 1497 \nQ 3513 744 3044 326 \nQ 2575 -91 1722 -91 \nQ 1428 -91 1123 -41 \nQ 819 9 494 109 \nL 494 744 \nQ 775 591 1075 516 \nQ 1375 441 1709 441 \nQ 2250 441 2565 725 \nQ 2881 1009 2881 1497 \nQ 2881 1984 2565 2268 \nQ 2250 2553 1709 2553 \nQ 1456 2553 1204 2497 \nQ 953 2441 691 2322 \nL 691 4666 \nz\n\" transform=\"scale(0.015625)\"/>\n       </defs>\n       <use xlink:href=\"#DejaVuSans-35\"/>\n       <use xlink:href=\"#DejaVuSans-30\" x=\"63.623047\"/>\n       <use xlink:href=\"#DejaVuSans-30\" x=\"127.246094\"/>\n       <use xlink:href=\"#DejaVuSans-30\" x=\"190.869141\"/>\n      </g>\n     </g>\n    </g>\n   </g>\n   <g id=\"patch_7\">\n    <path d=\"M 39.65 239.9625 \nL 39.65 22.5225 \n\" style=\"fill: none; stroke: #000000; stroke-width: 0.8; stroke-linejoin: miter; stroke-linecap: square\"/>\n   </g>\n   <g id=\"patch_8\">\n    <path d=\"M 374.45 239.9625 \nL 374.45 22.5225 \n\" style=\"fill: none; stroke: #000000; stroke-width: 0.8; stroke-linejoin: miter; stroke-linecap: square\"/>\n   </g>\n   <g id=\"patch_9\">\n    <path d=\"M 39.65 239.9625 \nL 374.45 239.9625 \n\" style=\"fill: none; stroke: #000000; stroke-width: 0.8; stroke-linejoin: miter; stroke-linecap: square\"/>\n   </g>\n   <g id=\"patch_10\">\n    <path d=\"M 39.65 22.5225 \nL 374.45 22.5225 \n\" style=\"fill: none; stroke: #000000; stroke-width: 0.8; stroke-linejoin: miter; stroke-linecap: square\"/>\n   </g>\n   <g id=\"text_16\">\n    <!-- 2604 -->\n    <g transform=\"translate(70.887321 144.381925)scale(0.1 -0.1)\">\n     <defs>\n      <path id=\"DejaVuSans-36\" d=\"M 2113 2584 \nQ 1688 2584 1439 2293 \nQ 1191 2003 1191 1497 \nQ 1191 994 1439 701 \nQ 1688 409 2113 409 \nQ 2538 409 2786 701 \nQ 3034 994 3034 1497 \nQ 3034 2003 2786 2293 \nQ 2538 2584 2113 2584 \nz\nM 3366 4563 \nL 3366 3988 \nQ 3128 4100 2886 4159 \nQ 2644 4219 2406 4219 \nQ 1781 4219 1451 3797 \nQ 1122 3375 1075 2522 \nQ 1259 2794 1537 2939 \nQ 1816 3084 2150 3084 \nQ 2853 3084 3261 2657 \nQ 3669 2231 3669 1497 \nQ 3669 778 3244 343 \nQ 2819 -91 2113 -91 \nQ 1303 -91 875 529 \nQ 447 1150 447 2328 \nQ 447 3434 972 4092 \nQ 1497 4750 2381 4750 \nQ 2619 4750 2861 4703 \nQ 3103 4656 3366 4563 \nz\n\" transform=\"scale(0.015625)\"/>\n     </defs>\n     <use xlink:href=\"#DejaVuSans-32\"/>\n     <use xlink:href=\"#DejaVuSans-36\" x=\"63.623047\"/>\n     <use xlink:href=\"#DejaVuSans-30\" x=\"127.246094\"/>\n     <use xlink:href=\"#DejaVuSans-34\" x=\"190.869141\"/>\n    </g>\n   </g>\n   <g id=\"text_17\">\n    <!-- 4992 -->\n    <g transform=\"translate(150.983014 56.760501)scale(0.1 -0.1)\">\n     <defs>\n      <path id=\"DejaVuSans-39\" d=\"M 703 97 \nL 703 672 \nQ 941 559 1184 500 \nQ 1428 441 1663 441 \nQ 2288 441 2617 861 \nQ 2947 1281 2994 2138 \nQ 2813 1869 2534 1725 \nQ 2256 1581 1919 1581 \nQ 1219 1581 811 2004 \nQ 403 2428 403 3163 \nQ 403 3881 828 4315 \nQ 1253 4750 1959 4750 \nQ 2769 4750 3195 4129 \nQ 3622 3509 3622 2328 \nQ 3622 1225 3098 567 \nQ 2575 -91 1691 -91 \nQ 1453 -91 1209 -44 \nQ 966 3 703 97 \nz\nM 1959 2075 \nQ 2384 2075 2632 2365 \nQ 2881 2656 2881 3163 \nQ 2881 3666 2632 3958 \nQ 2384 4250 1959 4250 \nQ 1534 4250 1286 3958 \nQ 1038 3666 1038 3163 \nQ 1038 2656 1286 2365 \nQ 1534 2075 1959 2075 \nz\n\" transform=\"scale(0.015625)\"/>\n     </defs>\n     <use xlink:href=\"#DejaVuSans-34\"/>\n     <use xlink:href=\"#DejaVuSans-39\" x=\"63.623047\"/>\n     <use xlink:href=\"#DejaVuSans-39\" x=\"127.246094\"/>\n     <use xlink:href=\"#DejaVuSans-32\" x=\"190.869141\"/>\n    </g>\n   </g>\n   <g id=\"text_18\">\n    <!-- 5644 -->\n    <g transform=\"translate(231.078708 32.840096)scale(0.1 -0.1)\">\n     <use xlink:href=\"#DejaVuSans-35\"/>\n     <use xlink:href=\"#DejaVuSans-36\" x=\"63.623047\"/>\n     <use xlink:href=\"#DejaVuSans-34\" x=\"127.246094\"/>\n     <use xlink:href=\"#DejaVuSans-34\" x=\"190.869141\"/>\n    </g>\n   </g>\n   <g id=\"text_19\">\n    <!-- 4728 -->\n    <g transform=\"translate(311.174402 66.452671)scale(0.1 -0.1)\">\n     <defs>\n      <path id=\"DejaVuSans-37\" d=\"M 525 4666 \nL 3525 4666 \nL 3525 4397 \nL 1831 0 \nL 1172 0 \nL 2766 4134 \nL 525 4134 \nL 525 4666 \nz\n\" transform=\"scale(0.015625)\"/>\n      <path id=\"DejaVuSans-38\" d=\"M 2034 2216 \nQ 1584 2216 1326 1975 \nQ 1069 1734 1069 1313 \nQ 1069 891 1326 650 \nQ 1584 409 2034 409 \nQ 2484 409 2743 651 \nQ 3003 894 3003 1313 \nQ 3003 1734 2745 1975 \nQ 2488 2216 2034 2216 \nz\nM 1403 2484 \nQ 997 2584 770 2862 \nQ 544 3141 544 3541 \nQ 544 4100 942 4425 \nQ 1341 4750 2034 4750 \nQ 2731 4750 3128 4425 \nQ 3525 4100 3525 3541 \nQ 3525 3141 3298 2862 \nQ 3072 2584 2669 2484 \nQ 3125 2378 3379 2068 \nQ 3634 1759 3634 1313 \nQ 3634 634 3220 271 \nQ 2806 -91 2034 -91 \nQ 1263 -91 848 271 \nQ 434 634 434 1313 \nQ 434 1759 690 2068 \nQ 947 2378 1403 2484 \nz\nM 1172 3481 \nQ 1172 3119 1398 2916 \nQ 1625 2713 2034 2713 \nQ 2441 2713 2670 2916 \nQ 2900 3119 2900 3481 \nQ 2900 3844 2670 4047 \nQ 2441 4250 2034 4250 \nQ 1625 4250 1398 4047 \nQ 1172 3844 1172 3481 \nz\n\" transform=\"scale(0.015625)\"/>\n     </defs>\n     <use xlink:href=\"#DejaVuSans-34\"/>\n     <use xlink:href=\"#DejaVuSans-37\" x=\"63.623047\"/>\n     <use xlink:href=\"#DejaVuSans-32\" x=\"127.246094\"/>\n     <use xlink:href=\"#DejaVuSans-38\" x=\"190.869141\"/>\n    </g>\n   </g>\n   <g id=\"text_20\">\n    <!-- Promedio Bicicletas alquiladas por Mes En el ultimo año -->\n    <g transform=\"translate(39.408125 16.5225)scale(0.12 -0.12)\">\n     <defs>\n      <path id=\"DejaVuSans-64\" d=\"M 2906 2969 \nL 2906 4863 \nL 3481 4863 \nL 3481 0 \nL 2906 0 \nL 2906 525 \nQ 2725 213 2448 61 \nQ 2172 -91 1784 -91 \nQ 1150 -91 751 415 \nQ 353 922 353 1747 \nQ 353 2572 751 3078 \nQ 1150 3584 1784 3584 \nQ 2172 3584 2448 3432 \nQ 2725 3281 2906 2969 \nz\nM 947 1747 \nQ 947 1113 1208 752 \nQ 1469 391 1925 391 \nQ 2381 391 2643 752 \nQ 2906 1113 2906 1747 \nQ 2906 2381 2643 2742 \nQ 2381 3103 1925 3103 \nQ 1469 3103 1208 2742 \nQ 947 2381 947 1747 \nz\n\" transform=\"scale(0.015625)\"/>\n      <path id=\"DejaVuSans-42\" d=\"M 1259 2228 \nL 1259 519 \nL 2272 519 \nQ 2781 519 3026 730 \nQ 3272 941 3272 1375 \nQ 3272 1813 3026 2020 \nQ 2781 2228 2272 2228 \nL 1259 2228 \nz\nM 1259 4147 \nL 1259 2741 \nL 2194 2741 \nQ 2656 2741 2882 2914 \nQ 3109 3088 3109 3444 \nQ 3109 3797 2882 3972 \nQ 2656 4147 2194 4147 \nL 1259 4147 \nz\nM 628 4666 \nL 2241 4666 \nQ 2963 4666 3353 4366 \nQ 3744 4066 3744 3513 \nQ 3744 3084 3544 2831 \nQ 3344 2578 2956 2516 \nQ 3422 2416 3680 2098 \nQ 3938 1781 3938 1306 \nQ 3938 681 3513 340 \nQ 3088 0 2303 0 \nL 628 0 \nL 628 4666 \nz\n\" transform=\"scale(0.015625)\"/>\n      <path id=\"DejaVuSans-63\" d=\"M 3122 3366 \nL 3122 2828 \nQ 2878 2963 2633 3030 \nQ 2388 3097 2138 3097 \nQ 1578 3097 1268 2742 \nQ 959 2388 959 1747 \nQ 959 1106 1268 751 \nQ 1578 397 2138 397 \nQ 2388 397 2633 464 \nQ 2878 531 3122 666 \nL 3122 134 \nQ 2881 22 2623 -34 \nQ 2366 -91 2075 -91 \nQ 1284 -91 818 406 \nQ 353 903 353 1747 \nQ 353 2603 823 3093 \nQ 1294 3584 2113 3584 \nQ 2378 3584 2631 3529 \nQ 2884 3475 3122 3366 \nz\n\" transform=\"scale(0.015625)\"/>\n      <path id=\"DejaVuSans-6c\" d=\"M 603 4863 \nL 1178 4863 \nL 1178 0 \nL 603 0 \nL 603 4863 \nz\n\" transform=\"scale(0.015625)\"/>\n      <path id=\"DejaVuSans-71\" d=\"M 947 1747 \nQ 947 1113 1208 752 \nQ 1469 391 1925 391 \nQ 2381 391 2643 752 \nQ 2906 1113 2906 1747 \nQ 2906 2381 2643 2742 \nQ 2381 3103 1925 3103 \nQ 1469 3103 1208 2742 \nQ 947 2381 947 1747 \nz\nM 2906 525 \nQ 2725 213 2448 61 \nQ 2172 -91 1784 -91 \nQ 1150 -91 751 415 \nQ 353 922 353 1747 \nQ 353 2572 751 3078 \nQ 1150 3584 1784 3584 \nQ 2172 3584 2448 3432 \nQ 2725 3281 2906 2969 \nL 2906 3500 \nL 3481 3500 \nL 3481 -1331 \nL 2906 -1331 \nL 2906 525 \nz\n\" transform=\"scale(0.015625)\"/>\n      <path id=\"DejaVuSans-75\" d=\"M 544 1381 \nL 544 3500 \nL 1119 3500 \nL 1119 1403 \nQ 1119 906 1312 657 \nQ 1506 409 1894 409 \nQ 2359 409 2629 706 \nQ 2900 1003 2900 1516 \nL 2900 3500 \nL 3475 3500 \nL 3475 0 \nL 2900 0 \nL 2900 538 \nQ 2691 219 2414 64 \nQ 2138 -91 1772 -91 \nQ 1169 -91 856 284 \nQ 544 659 544 1381 \nz\nM 1991 3584 \nL 1991 3584 \nz\n\" transform=\"scale(0.015625)\"/>\n      <path id=\"DejaVuSans-70\" d=\"M 1159 525 \nL 1159 -1331 \nL 581 -1331 \nL 581 3500 \nL 1159 3500 \nL 1159 2969 \nQ 1341 3281 1617 3432 \nQ 1894 3584 2278 3584 \nQ 2916 3584 3314 3078 \nQ 3713 2572 3713 1747 \nQ 3713 922 3314 415 \nQ 2916 -91 2278 -91 \nQ 1894 -91 1617 61 \nQ 1341 213 1159 525 \nz\nM 3116 1747 \nQ 3116 2381 2855 2742 \nQ 2594 3103 2138 3103 \nQ 1681 3103 1420 2742 \nQ 1159 2381 1159 1747 \nQ 1159 1113 1420 752 \nQ 1681 391 2138 391 \nQ 2594 391 2855 752 \nQ 3116 1113 3116 1747 \nz\n\" transform=\"scale(0.015625)\"/>\n      <path id=\"DejaVuSans-4d\" d=\"M 628 4666 \nL 1569 4666 \nL 2759 1491 \nL 3956 4666 \nL 4897 4666 \nL 4897 0 \nL 4281 0 \nL 4281 4097 \nL 3078 897 \nL 2444 897 \nL 1241 4097 \nL 1241 0 \nL 628 0 \nL 628 4666 \nz\n\" transform=\"scale(0.015625)\"/>\n      <path id=\"DejaVuSans-45\" d=\"M 628 4666 \nL 3578 4666 \nL 3578 4134 \nL 1259 4134 \nL 1259 2753 \nL 3481 2753 \nL 3481 2222 \nL 1259 2222 \nL 1259 531 \nL 3634 531 \nL 3634 0 \nL 628 0 \nL 628 4666 \nz\n\" transform=\"scale(0.015625)\"/>\n     </defs>\n     <use xlink:href=\"#DejaVuSans-50\"/>\n     <use xlink:href=\"#DejaVuSans-72\" x=\"58.552734\"/>\n     <use xlink:href=\"#DejaVuSans-6f\" x=\"97.416016\"/>\n     <use xlink:href=\"#DejaVuSans-6d\" x=\"158.597656\"/>\n     <use xlink:href=\"#DejaVuSans-65\" x=\"256.009766\"/>\n     <use xlink:href=\"#DejaVuSans-64\" x=\"317.533203\"/>\n     <use xlink:href=\"#DejaVuSans-69\" x=\"381.009766\"/>\n     <use xlink:href=\"#DejaVuSans-6f\" x=\"408.792969\"/>\n     <use xlink:href=\"#DejaVuSans-20\" x=\"469.974609\"/>\n     <use xlink:href=\"#DejaVuSans-42\" x=\"501.761719\"/>\n     <use xlink:href=\"#DejaVuSans-69\" x=\"570.365234\"/>\n     <use xlink:href=\"#DejaVuSans-63\" x=\"598.148438\"/>\n     <use xlink:href=\"#DejaVuSans-69\" x=\"653.128906\"/>\n     <use xlink:href=\"#DejaVuSans-63\" x=\"680.912109\"/>\n     <use xlink:href=\"#DejaVuSans-6c\" x=\"735.892578\"/>\n     <use xlink:href=\"#DejaVuSans-65\" x=\"763.675781\"/>\n     <use xlink:href=\"#DejaVuSans-74\" x=\"825.199219\"/>\n     <use xlink:href=\"#DejaVuSans-61\" x=\"864.408203\"/>\n     <use xlink:href=\"#DejaVuSans-73\" x=\"925.6875\"/>\n     <use xlink:href=\"#DejaVuSans-20\" x=\"977.787109\"/>\n     <use xlink:href=\"#DejaVuSans-61\" x=\"1009.574219\"/>\n     <use xlink:href=\"#DejaVuSans-6c\" x=\"1070.853516\"/>\n     <use xlink:href=\"#DejaVuSans-71\" x=\"1098.636719\"/>\n     <use xlink:href=\"#DejaVuSans-75\" x=\"1162.113281\"/>\n     <use xlink:href=\"#DejaVuSans-69\" x=\"1225.492188\"/>\n     <use xlink:href=\"#DejaVuSans-6c\" x=\"1253.275391\"/>\n     <use xlink:href=\"#DejaVuSans-61\" x=\"1281.058594\"/>\n     <use xlink:href=\"#DejaVuSans-64\" x=\"1342.337891\"/>\n     <use xlink:href=\"#DejaVuSans-61\" x=\"1405.814453\"/>\n     <use xlink:href=\"#DejaVuSans-73\" x=\"1467.09375\"/>\n     <use xlink:href=\"#DejaVuSans-20\" x=\"1519.193359\"/>\n     <use xlink:href=\"#DejaVuSans-70\" x=\"1550.980469\"/>\n     <use xlink:href=\"#DejaVuSans-6f\" x=\"1614.457031\"/>\n     <use xlink:href=\"#DejaVuSans-72\" x=\"1675.638672\"/>\n     <use xlink:href=\"#DejaVuSans-20\" x=\"1716.751953\"/>\n     <use xlink:href=\"#DejaVuSans-4d\" x=\"1748.539062\"/>\n     <use xlink:href=\"#DejaVuSans-65\" x=\"1834.818359\"/>\n     <use xlink:href=\"#DejaVuSans-73\" x=\"1896.341797\"/>\n     <use xlink:href=\"#DejaVuSans-20\" x=\"1948.441406\"/>\n     <use xlink:href=\"#DejaVuSans-45\" x=\"1980.228516\"/>\n     <use xlink:href=\"#DejaVuSans-6e\" x=\"2043.412109\"/>\n     <use xlink:href=\"#DejaVuSans-20\" x=\"2106.791016\"/>\n     <use xlink:href=\"#DejaVuSans-65\" x=\"2138.578125\"/>\n     <use xlink:href=\"#DejaVuSans-6c\" x=\"2200.101562\"/>\n     <use xlink:href=\"#DejaVuSans-20\" x=\"2227.884766\"/>\n     <use xlink:href=\"#DejaVuSans-75\" x=\"2259.671875\"/>\n     <use xlink:href=\"#DejaVuSans-6c\" x=\"2323.050781\"/>\n     <use xlink:href=\"#DejaVuSans-74\" x=\"2350.833984\"/>\n     <use xlink:href=\"#DejaVuSans-69\" x=\"2390.042969\"/>\n     <use xlink:href=\"#DejaVuSans-6d\" x=\"2417.826172\"/>\n     <use xlink:href=\"#DejaVuSans-6f\" x=\"2515.238281\"/>\n     <use xlink:href=\"#DejaVuSans-20\" x=\"2576.419922\"/>\n     <use xlink:href=\"#DejaVuSans-61\" x=\"2608.207031\"/>\n     <use xlink:href=\"#DejaVuSans-f1\" x=\"2669.486328\"/>\n     <use xlink:href=\"#DejaVuSans-6f\" x=\"2732.865234\"/>\n    </g>\n   </g>\n  </g>\n </g>\n <defs>\n  <clipPath id=\"p4ab9ce2be2\">\n   <rect x=\"39.65\" y=\"22.5225\" width=\"334.8\" height=\"217.44\"/>\n  </clipPath>\n </defs>\n</svg>\n",
      "text/plain": [
       "<Figure size 432x288 with 1 Axes>"
      ]
     },
     "metadata": {
      "needs_background": "light"
     },
     "output_type": "display_data"
    }
   ],
   "source": [
    "\n",
    "fig, ax= plt.subplots()\n",
    "#Diagrama para un subconjunto de meses\n",
    "ax.bar(alquiler_mes.index,alquiler_mes['cnt'],color=\"g\")\n",
    "\n",
    "#Altura barras\n",
    "\n",
    "for i,j in zip(alquiler_mes.index,alquiler_mes['cnt']):\n",
    "    ax.annotate(int(j),xy=(i-0.2,j+1))\n",
    "\n",
    "#Personalización Gráfico\n",
    "ax.set_title('Promedio Bicicletas alquiladas por Mes En el ultimo año')\n",
    "ax.set_xlabel('Season')\n",
    "\n",
    "ax.set_xticklabels(labels=[\" \",\" \",\"Invierno\",\" \",\"Primavera\",\" \",\"Verano\",\" \",\"Otoño\"])\n",
    "\n",
    "\n",
    "plt.show();"
   ]
  },
  {
   "cell_type": "markdown",
   "metadata": {},
   "source": [
    "Días de la semana con mayor número demanda por tipo de usuario"
   ]
  },
  {
   "cell_type": "code",
   "execution_count": 18,
   "metadata": {},
   "outputs": [
    {
     "data": {
      "text/html": [
       "<div>\n",
       "<style scoped>\n",
       "    .dataframe tbody tr th:only-of-type {\n",
       "        vertical-align: middle;\n",
       "    }\n",
       "\n",
       "    .dataframe tbody tr th {\n",
       "        vertical-align: top;\n",
       "    }\n",
       "\n",
       "    .dataframe thead th {\n",
       "        text-align: right;\n",
       "    }\n",
       "</style>\n",
       "<table border=\"1\" class=\"dataframe\">\n",
       "  <thead>\n",
       "    <tr style=\"text-align: right;\">\n",
       "      <th></th>\n",
       "      <th>weekday</th>\n",
       "      <th>casual</th>\n",
       "    </tr>\n",
       "  </thead>\n",
       "  <tbody>\n",
       "    <tr>\n",
       "      <th>0</th>\n",
       "      <td>0</td>\n",
       "      <td>1338.295238</td>\n",
       "    </tr>\n",
       "    <tr>\n",
       "      <th>1</th>\n",
       "      <td>1</td>\n",
       "      <td>674.133333</td>\n",
       "    </tr>\n",
       "    <tr>\n",
       "      <th>2</th>\n",
       "      <td>2</td>\n",
       "      <td>556.182692</td>\n",
       "    </tr>\n",
       "    <tr>\n",
       "      <th>3</th>\n",
       "      <td>3</td>\n",
       "      <td>551.144231</td>\n",
       "    </tr>\n",
       "    <tr>\n",
       "      <th>4</th>\n",
       "      <td>4</td>\n",
       "      <td>590.961538</td>\n",
       "    </tr>\n",
       "    <tr>\n",
       "      <th>5</th>\n",
       "      <td>5</td>\n",
       "      <td>752.288462</td>\n",
       "    </tr>\n",
       "    <tr>\n",
       "      <th>6</th>\n",
       "      <td>6</td>\n",
       "      <td>1465.257143</td>\n",
       "    </tr>\n",
       "  </tbody>\n",
       "</table>\n",
       "</div>"
      ],
      "text/plain": [
       "  weekday       casual\n",
       "0       0  1338.295238\n",
       "1       1   674.133333\n",
       "2       2   556.182692\n",
       "3       3   551.144231\n",
       "4       4   590.961538\n",
       "5       5   752.288462\n",
       "6       6  1465.257143"
      ]
     },
     "execution_count": 18,
     "metadata": {},
     "output_type": "execute_result"
    }
   ],
   "source": [
    "# resumir la información\n",
    "semanal_casual=data_t.groupby('weekday').mean()['casual'].reset_index()\n",
    "semanal_casual\n",
    "\n"
   ]
  },
  {
   "cell_type": "code",
   "execution_count": 19,
   "metadata": {},
   "outputs": [
    {
     "data": {
      "text/html": [
       "<div>\n",
       "<style scoped>\n",
       "    .dataframe tbody tr th:only-of-type {\n",
       "        vertical-align: middle;\n",
       "    }\n",
       "\n",
       "    .dataframe tbody tr th {\n",
       "        vertical-align: top;\n",
       "    }\n",
       "\n",
       "    .dataframe thead th {\n",
       "        text-align: right;\n",
       "    }\n",
       "</style>\n",
       "<table border=\"1\" class=\"dataframe\">\n",
       "  <thead>\n",
       "    <tr style=\"text-align: right;\">\n",
       "      <th></th>\n",
       "      <th>weekday</th>\n",
       "      <th>registered</th>\n",
       "    </tr>\n",
       "  </thead>\n",
       "  <tbody>\n",
       "    <tr>\n",
       "      <th>0</th>\n",
       "      <td>0</td>\n",
       "      <td>2890.533333</td>\n",
       "    </tr>\n",
       "    <tr>\n",
       "      <th>1</th>\n",
       "      <td>1</td>\n",
       "      <td>3663.990476</td>\n",
       "    </tr>\n",
       "    <tr>\n",
       "      <th>2</th>\n",
       "      <td>2</td>\n",
       "      <td>3954.480769</td>\n",
       "    </tr>\n",
       "    <tr>\n",
       "      <th>3</th>\n",
       "      <td>3</td>\n",
       "      <td>3997.394231</td>\n",
       "    </tr>\n",
       "    <tr>\n",
       "      <th>4</th>\n",
       "      <td>4</td>\n",
       "      <td>4076.298077</td>\n",
       "    </tr>\n",
       "    <tr>\n",
       "      <th>5</th>\n",
       "      <td>5</td>\n",
       "      <td>3938.000000</td>\n",
       "    </tr>\n",
       "    <tr>\n",
       "      <th>6</th>\n",
       "      <td>6</td>\n",
       "      <td>3085.285714</td>\n",
       "    </tr>\n",
       "  </tbody>\n",
       "</table>\n",
       "</div>"
      ],
      "text/plain": [
       "  weekday   registered\n",
       "0       0  2890.533333\n",
       "1       1  3663.990476\n",
       "2       2  3954.480769\n",
       "3       3  3997.394231\n",
       "4       4  4076.298077\n",
       "5       5  3938.000000\n",
       "6       6  3085.285714"
      ]
     },
     "execution_count": 19,
     "metadata": {},
     "output_type": "execute_result"
    }
   ],
   "source": [
    "# resumir la información\n",
    "semanal_registrado=data_t.groupby('weekday').mean()['registered'].reset_index()\n",
    "semanal_registrado"
   ]
  },
  {
   "cell_type": "code",
   "execution_count": 20,
   "metadata": {},
   "outputs": [
    {
     "name": "stderr",
     "output_type": "stream",
     "text": [
      "C:\\Users\\ortiz\\AppData\\Local\\Temp/ipykernel_19616/220469511.py:7: UserWarning: FixedFormatter should only be used together with FixedLocator\n",
      "  ax[0].set_xticklabels(labels=[\"\",\"Domingo\", \"Lunes\",\"Martes\",\"Miercoles\",\"Jueves\",\"Viernes\",\"Sábado\"])\n",
      "C:\\Users\\ortiz\\AppData\\Local\\Temp/ipykernel_19616/220469511.py:8: UserWarning: FixedFormatter should only be used together with FixedLocator\n",
      "  ax[1].set_xticklabels(labels=[\"\",\"Domingo\", \"Lunes\",\"Martes\",\"Miercoles\",\"Jueves\",\"Viernes\",\"Sábado\"])\n"
     ]
    },
    {
     "data": {
      "text/plain": [
       "[Text(-1.0, 0, ''),\n",
       " Text(0.0, 0, 'Domingo'),\n",
       " Text(1.0, 0, 'Lunes'),\n",
       " Text(2.0, 0, 'Martes'),\n",
       " Text(3.0, 0, 'Miercoles'),\n",
       " Text(4.0, 0, 'Jueves'),\n",
       " Text(5.0, 0, 'Viernes'),\n",
       " Text(6.0, 0, 'Sábado'),\n",
       " Text(7.0, 0, '')]"
      ]
     },
     "execution_count": 20,
     "metadata": {},
     "output_type": "execute_result"
    },
    {
     "data": {
      "image/png": "[encoded data removed]",
      "image/svg+xml": "<?xml version=\"1.0\" encoding=\"utf-8\" standalone=\"no\"?>\n<!DOCTYPE svg PUBLIC \"-//W3C//DTD SVG 1.1//EN\"\n  \"http://www.w3.org/Graphics/SVG/1.1/DTD/svg11.dtd\">\n<svg xmlns:xlink=\"http://www.w3.org/1999/xlink\" width=\"381.65pt\" height=\"263.63625pt\" viewBox=\"0 0 381.65 263.63625\" xmlns=\"http://www.w3.org/2000/svg\" version=\"1.1\">\n <metadata>\n  <rdf:RDF xmlns:dc=\"http://purl.org/dc/elements/1.1/\" xmlns:cc=\"http://creativecommons.org/ns#\" xmlns:rdf=\"http://www.w3.org/1999/02/22-rdf-syntax-ns#\">\n   <cc:Work>\n    <dc:type rdf:resource=\"http://purl.org/dc/dcmitype/StillImage\"/>\n    <dc:date>2022-01-31T09:00:13.030646</dc:date>\n    <dc:format>image/svg+xml</dc:format>\n    <dc:creator>\n     <cc:Agent>\n      <dc:title>Matplotlib v3.5.0, https://matplotlib.org/</dc:title>\n     </cc:Agent>\n    </dc:creator>\n   </cc:Work>\n  </rdf:RDF>\n </metadata>\n <defs>\n  <style type=\"text/css\">*{stroke-linejoin: round; stroke-linecap: butt}</style>\n </defs>\n <g id=\"figure_1\">\n  <g id=\"patch_1\">\n   <path d=\"M -0 263.63625 \nL 381.65 263.63625 \nL 381.65 0 \nL -0 0 \nL -0 263.63625 \nz\n\" style=\"fill: none\"/>\n  </g>\n  <g id=\"axes_1\">\n   <g id=\"patch_2\">\n    <path d=\"M 39.65 121.154489 \nL 374.45 121.154489 \nL 374.45 22.318125 \nL 39.65 22.318125 \nz\n\" style=\"fill: #ffffff\"/>\n   </g>\n   <g id=\"patch_3\">\n    <path d=\"M 54.868182 121.154489 \nL 90.675668 121.154489 \nL 90.675668 54.406296 \nL 54.868182 54.406296 \nz\n\" clip-path=\"url(#p87df9833c4)\" style=\"fill: #ffa500\"/>\n   </g>\n   <g id=\"patch_4\">\n    <path d=\"M 99.62754 121.154489 \nL 135.435027 121.154489 \nL 135.435027 36.545625 \nL 99.62754 36.545625 \nz\n\" clip-path=\"url(#p87df9833c4)\" style=\"fill: #ffa500\"/>\n   </g>\n   <g id=\"patch_5\">\n    <path d=\"M 144.386898 121.154489 \nL 180.194385 121.154489 \nL 180.194385 29.837624 \nL 144.386898 29.837624 \nz\n\" clip-path=\"url(#p87df9833c4)\" style=\"fill: #ffa500\"/>\n   </g>\n   <g id=\"patch_6\">\n    <path d=\"M 189.146257 121.154489 \nL 224.953743 121.154489 \nL 224.953743 28.846666 \nL 189.146257 28.846666 \nz\n\" clip-path=\"url(#p87df9833c4)\" style=\"fill: #ffa500\"/>\n   </g>\n   <g id=\"patch_7\">\n    <path d=\"M 233.905615 121.154489 \nL 269.713102 121.154489 \nL 269.713102 27.024619 \nL 233.905615 27.024619 \nz\n\" clip-path=\"url(#p87df9833c4)\" style=\"fill: #ffa500\"/>\n   </g>\n   <g id=\"patch_8\">\n    <path d=\"M 278.664973 121.154489 \nL 314.47246 121.154489 \nL 314.47246 30.218198 \nL 278.664973 30.218198 \nz\n\" clip-path=\"url(#p87df9833c4)\" style=\"fill: #ffa500\"/>\n   </g>\n   <g id=\"patch_9\">\n    <path d=\"M 323.424332 121.154489 \nL 359.231818 121.154489 \nL 359.231818 49.909075 \nL 323.424332 49.909075 \nz\n\" clip-path=\"url(#p87df9833c4)\" style=\"fill: #ffa500\"/>\n   </g>\n   <g id=\"matplotlib.axis_1\">\n    <g id=\"xtick_1\">\n     <g id=\"line2d_1\">\n      <defs>\n       <path id=\"m15a304177d\" d=\"M 0 0 \nL 0 3.5 \n\" style=\"stroke: #000000; stroke-width: 0.8\"/>\n      </defs>\n      <g>\n       <use xlink:href=\"#m15a304177d\" x=\"72.771925\" y=\"121.154489\" style=\"stroke: #000000; stroke-width: 0.8\"/>\n      </g>\n     </g>\n     <g id=\"text_1\">\n      <!-- Domingo -->\n      <g transform=\"translate(50.200831 135.752926)scale(0.1 -0.1)\">\n       <defs>\n        <path id=\"DejaVuSans-44\" d=\"M 1259 4147 \nL 1259 519 \nL 2022 519 \nQ 2988 519 3436 956 \nQ 3884 1394 3884 2338 \nQ 3884 3275 3436 3711 \nQ 2988 4147 2022 4147 \nL 1259 4147 \nz\nM 628 4666 \nL 1925 4666 \nQ 3281 4666 3915 4102 \nQ 4550 3538 4550 2338 \nQ 4550 1131 3912 565 \nQ 3275 0 1925 0 \nL 628 0 \nL 628 4666 \nz\n\" transform=\"scale(0.015625)\"/>\n        <path id=\"DejaVuSans-6f\" d=\"M 1959 3097 \nQ 1497 3097 1228 2736 \nQ 959 2375 959 1747 \nQ 959 1119 1226 758 \nQ 1494 397 1959 397 \nQ 2419 397 2687 759 \nQ 2956 1122 2956 1747 \nQ 2956 2369 2687 2733 \nQ 2419 3097 1959 3097 \nz\nM 1959 3584 \nQ 2709 3584 3137 3096 \nQ 3566 2609 3566 1747 \nQ 3566 888 3137 398 \nQ 2709 -91 1959 -91 \nQ 1206 -91 779 398 \nQ 353 888 353 1747 \nQ 353 2609 779 3096 \nQ 1206 3584 1959 3584 \nz\n\" transform=\"scale(0.015625)\"/>\n        <path id=\"DejaVuSans-6d\" d=\"M 3328 2828 \nQ 3544 3216 3844 3400 \nQ 4144 3584 4550 3584 \nQ 5097 3584 5394 3201 \nQ 5691 2819 5691 2113 \nL 5691 0 \nL 5113 0 \nL 5113 2094 \nQ 5113 2597 4934 2840 \nQ 4756 3084 4391 3084 \nQ 3944 3084 3684 2787 \nQ 3425 2491 3425 1978 \nL 3425 0 \nL 2847 0 \nL 2847 2094 \nQ 2847 2600 2669 2842 \nQ 2491 3084 2119 3084 \nQ 1678 3084 1418 2786 \nQ 1159 2488 1159 1978 \nL 1159 0 \nL 581 0 \nL 581 3500 \nL 1159 3500 \nL 1159 2956 \nQ 1356 3278 1631 3431 \nQ 1906 3584 2284 3584 \nQ 2666 3584 2933 3390 \nQ 3200 3197 3328 2828 \nz\n\" transform=\"scale(0.015625)\"/>\n        <path id=\"DejaVuSans-69\" d=\"M 603 3500 \nL 1178 3500 \nL 1178 0 \nL 603 0 \nL 603 3500 \nz\nM 603 4863 \nL 1178 4863 \nL 1178 4134 \nL 603 4134 \nL 603 4863 \nz\n\" transform=\"scale(0.015625)\"/>\n        <path id=\"DejaVuSans-6e\" d=\"M 3513 2113 \nL 3513 0 \nL 2938 0 \nL 2938 2094 \nQ 2938 2591 2744 2837 \nQ 2550 3084 2163 3084 \nQ 1697 3084 1428 2787 \nQ 1159 2491 1159 1978 \nL 1159 0 \nL 581 0 \nL 581 3500 \nL 1159 3500 \nL 1159 2956 \nQ 1366 3272 1645 3428 \nQ 1925 3584 2291 3584 \nQ 2894 3584 3203 3211 \nQ 3513 2838 3513 2113 \nz\n\" transform=\"scale(0.015625)\"/>\n        <path id=\"DejaVuSans-67\" d=\"M 2906 1791 \nQ 2906 2416 2648 2759 \nQ 2391 3103 1925 3103 \nQ 1463 3103 1205 2759 \nQ 947 2416 947 1791 \nQ 947 1169 1205 825 \nQ 1463 481 1925 481 \nQ 2391 481 2648 825 \nQ 2906 1169 2906 1791 \nz\nM 3481 434 \nQ 3481 -459 3084 -895 \nQ 2688 -1331 1869 -1331 \nQ 1566 -1331 1297 -1286 \nQ 1028 -1241 775 -1147 \nL 775 -588 \nQ 1028 -725 1275 -790 \nQ 1522 -856 1778 -856 \nQ 2344 -856 2625 -561 \nQ 2906 -266 2906 331 \nL 2906 616 \nQ 2728 306 2450 153 \nQ 2172 0 1784 0 \nQ 1141 0 747 490 \nQ 353 981 353 1791 \nQ 353 2603 747 3093 \nQ 1141 3584 1784 3584 \nQ 2172 3584 2450 3431 \nQ 2728 3278 2906 2969 \nL 2906 3500 \nL 3481 3500 \nL 3481 434 \nz\n\" transform=\"scale(0.015625)\"/>\n       </defs>\n       <use xlink:href=\"#DejaVuSans-44\"/>\n       <use xlink:href=\"#DejaVuSans-6f\" x=\"77.001953\"/>\n       <use xlink:href=\"#DejaVuSans-6d\" x=\"138.183594\"/>\n       <use xlink:href=\"#DejaVuSans-69\" x=\"235.595703\"/>\n       <use xlink:href=\"#DejaVuSans-6e\" x=\"263.378906\"/>\n       <use xlink:href=\"#DejaVuSans-67\" x=\"326.757812\"/>\n       <use xlink:href=\"#DejaVuSans-6f\" x=\"390.234375\"/>\n      </g>\n     </g>\n    </g>\n    <g id=\"xtick_2\">\n     <g id=\"line2d_2\">\n      <g>\n       <use xlink:href=\"#m15a304177d\" x=\"117.531283\" y=\"121.154489\" style=\"stroke: #000000; stroke-width: 0.8\"/>\n      </g>\n     </g>\n     <g id=\"text_2\">\n      <!-- Lunes -->\n      <g transform=\"translate(102.814096 135.752926)scale(0.1 -0.1)\">\n       <defs>\n        <path id=\"DejaVuSans-4c\" d=\"M 628 4666 \nL 1259 4666 \nL 1259 531 \nL 3531 531 \nL 3531 0 \nL 628 0 \nL 628 4666 \nz\n\" transform=\"scale(0.015625)\"/>\n        <path id=\"DejaVuSans-75\" d=\"M 544 1381 \nL 544 3500 \nL 1119 3500 \nL 1119 1403 \nQ 1119 906 1312 657 \nQ 1506 409 1894 409 \nQ 2359 409 2629 706 \nQ 2900 1003 2900 1516 \nL 2900 3500 \nL 3475 3500 \nL 3475 0 \nL 2900 0 \nL 2900 538 \nQ 2691 219 2414 64 \nQ 2138 -91 1772 -91 \nQ 1169 -91 856 284 \nQ 544 659 544 1381 \nz\nM 1991 3584 \nL 1991 3584 \nz\n\" transform=\"scale(0.015625)\"/>\n        <path id=\"DejaVuSans-65\" d=\"M 3597 1894 \nL 3597 1613 \nL 953 1613 \nQ 991 1019 1311 708 \nQ 1631 397 2203 397 \nQ 2534 397 2845 478 \nQ 3156 559 3463 722 \nL 3463 178 \nQ 3153 47 2828 -22 \nQ 2503 -91 2169 -91 \nQ 1331 -91 842 396 \nQ 353 884 353 1716 \nQ 353 2575 817 3079 \nQ 1281 3584 2069 3584 \nQ 2775 3584 3186 3129 \nQ 3597 2675 3597 1894 \nz\nM 3022 2063 \nQ 3016 2534 2758 2815 \nQ 2500 3097 2075 3097 \nQ 1594 3097 1305 2825 \nQ 1016 2553 972 2059 \nL 3022 2063 \nz\n\" transform=\"scale(0.015625)\"/>\n        <path id=\"DejaVuSans-73\" d=\"M 2834 3397 \nL 2834 2853 \nQ 2591 2978 2328 3040 \nQ 2066 3103 1784 3103 \nQ 1356 3103 1142 2972 \nQ 928 2841 928 2578 \nQ 928 2378 1081 2264 \nQ 1234 2150 1697 2047 \nL 1894 2003 \nQ 2506 1872 2764 1633 \nQ 3022 1394 3022 966 \nQ 3022 478 2636 193 \nQ 2250 -91 1575 -91 \nQ 1294 -91 989 -36 \nQ 684 19 347 128 \nL 347 722 \nQ 666 556 975 473 \nQ 1284 391 1588 391 \nQ 1994 391 2212 530 \nQ 2431 669 2431 922 \nQ 2431 1156 2273 1281 \nQ 2116 1406 1581 1522 \nL 1381 1569 \nQ 847 1681 609 1914 \nQ 372 2147 372 2553 \nQ 372 3047 722 3315 \nQ 1072 3584 1716 3584 \nQ 2034 3584 2315 3537 \nQ 2597 3491 2834 3397 \nz\n\" transform=\"scale(0.015625)\"/>\n       </defs>\n       <use xlink:href=\"#DejaVuSans-4c\"/>\n       <use xlink:href=\"#DejaVuSans-75\" x=\"53.962891\"/>\n       <use xlink:href=\"#DejaVuSans-6e\" x=\"117.341797\"/>\n       <use xlink:href=\"#DejaVuSans-65\" x=\"180.720703\"/>\n       <use xlink:href=\"#DejaVuSans-73\" x=\"242.244141\"/>\n      </g>\n     </g>\n    </g>\n    <g id=\"xtick_3\">\n     <g id=\"line2d_3\">\n      <g>\n       <use xlink:href=\"#m15a304177d\" x=\"162.290642\" y=\"121.154489\" style=\"stroke: #000000; stroke-width: 0.8\"/>\n      </g>\n     </g>\n     <g id=\"text_3\">\n      <!-- Martes -->\n      <g transform=\"translate(145.215642 135.752926)scale(0.1 -0.1)\">\n       <defs>\n        <path id=\"DejaVuSans-4d\" d=\"M 628 4666 \nL 1569 4666 \nL 2759 1491 \nL 3956 4666 \nL 4897 4666 \nL 4897 0 \nL 4281 0 \nL 4281 4097 \nL 3078 897 \nL 2444 897 \nL 1241 4097 \nL 1241 0 \nL 628 0 \nL 628 4666 \nz\n\" transform=\"scale(0.015625)\"/>\n        <path id=\"DejaVuSans-61\" d=\"M 2194 1759 \nQ 1497 1759 1228 1600 \nQ 959 1441 959 1056 \nQ 959 750 1161 570 \nQ 1363 391 1709 391 \nQ 2188 391 2477 730 \nQ 2766 1069 2766 1631 \nL 2766 1759 \nL 2194 1759 \nz\nM 3341 1997 \nL 3341 0 \nL 2766 0 \nL 2766 531 \nQ 2569 213 2275 61 \nQ 1981 -91 1556 -91 \nQ 1019 -91 701 211 \nQ 384 513 384 1019 \nQ 384 1609 779 1909 \nQ 1175 2209 1959 2209 \nL 2766 2209 \nL 2766 2266 \nQ 2766 2663 2505 2880 \nQ 2244 3097 1772 3097 \nQ 1472 3097 1187 3025 \nQ 903 2953 641 2809 \nL 641 3341 \nQ 956 3463 1253 3523 \nQ 1550 3584 1831 3584 \nQ 2591 3584 2966 3190 \nQ 3341 2797 3341 1997 \nz\n\" transform=\"scale(0.015625)\"/>\n        <path id=\"DejaVuSans-72\" d=\"M 2631 2963 \nQ 2534 3019 2420 3045 \nQ 2306 3072 2169 3072 \nQ 1681 3072 1420 2755 \nQ 1159 2438 1159 1844 \nL 1159 0 \nL 581 0 \nL 581 3500 \nL 1159 3500 \nL 1159 2956 \nQ 1341 3275 1631 3429 \nQ 1922 3584 2338 3584 \nQ 2397 3584 2469 3576 \nQ 2541 3569 2628 3553 \nL 2631 2963 \nz\n\" transform=\"scale(0.015625)\"/>\n        <path id=\"DejaVuSans-74\" d=\"M 1172 4494 \nL 1172 3500 \nL 2356 3500 \nL 2356 3053 \nL 1172 3053 \nL 1172 1153 \nQ 1172 725 1289 603 \nQ 1406 481 1766 481 \nL 2356 481 \nL 2356 0 \nL 1766 0 \nQ 1100 0 847 248 \nQ 594 497 594 1153 \nL 594 3053 \nL 172 3053 \nL 172 3500 \nL 594 3500 \nL 594 4494 \nL 1172 4494 \nz\n\" transform=\"scale(0.015625)\"/>\n       </defs>\n       <use xlink:href=\"#DejaVuSans-4d\"/>\n       <use xlink:href=\"#DejaVuSans-61\" x=\"86.279297\"/>\n       <use xlink:href=\"#DejaVuSans-72\" x=\"147.558594\"/>\n       <use xlink:href=\"#DejaVuSans-74\" x=\"188.671875\"/>\n       <use xlink:href=\"#DejaVuSans-65\" x=\"227.880859\"/>\n       <use xlink:href=\"#DejaVuSans-73\" x=\"289.404297\"/>\n      </g>\n     </g>\n    </g>\n    <g id=\"xtick_4\">\n     <g id=\"line2d_4\">\n      <g>\n       <use xlink:href=\"#m15a304177d\" x=\"207.05\" y=\"121.154489\" style=\"stroke: #000000; stroke-width: 0.8\"/>\n      </g>\n     </g>\n     <g id=\"text_4\">\n      <!-- Miercoles -->\n      <g transform=\"translate(183.448438 135.752926)scale(0.1 -0.1)\">\n       <defs>\n        <path id=\"DejaVuSans-63\" d=\"M 3122 3366 \nL 3122 2828 \nQ 2878 2963 2633 3030 \nQ 2388 3097 2138 3097 \nQ 1578 3097 1268 2742 \nQ 959 2388 959 1747 \nQ 959 1106 1268 751 \nQ 1578 397 2138 397 \nQ 2388 397 2633 464 \nQ 2878 531 3122 666 \nL 3122 134 \nQ 2881 22 2623 -34 \nQ 2366 -91 2075 -91 \nQ 1284 -91 818 406 \nQ 353 903 353 1747 \nQ 353 2603 823 3093 \nQ 1294 3584 2113 3584 \nQ 2378 3584 2631 3529 \nQ 2884 3475 3122 3366 \nz\n\" transform=\"scale(0.015625)\"/>\n        <path id=\"DejaVuSans-6c\" d=\"M 603 4863 \nL 1178 4863 \nL 1178 0 \nL 603 0 \nL 603 4863 \nz\n\" transform=\"scale(0.015625)\"/>\n       </defs>\n       <use xlink:href=\"#DejaVuSans-4d\"/>\n       <use xlink:href=\"#DejaVuSans-69\" x=\"86.279297\"/>\n       <use xlink:href=\"#DejaVuSans-65\" x=\"114.0625\"/>\n       <use xlink:href=\"#DejaVuSans-72\" x=\"175.585938\"/>\n       <use xlink:href=\"#DejaVuSans-63\" x=\"214.449219\"/>\n       <use xlink:href=\"#DejaVuSans-6f\" x=\"269.429688\"/>\n       <use xlink:href=\"#DejaVuSans-6c\" x=\"330.611328\"/>\n       <use xlink:href=\"#DejaVuSans-65\" x=\"358.394531\"/>\n       <use xlink:href=\"#DejaVuSans-73\" x=\"419.917969\"/>\n      </g>\n     </g>\n    </g>\n    <g id=\"xtick_5\">\n     <g id=\"line2d_5\">\n      <g>\n       <use xlink:href=\"#m15a304177d\" x=\"251.809358\" y=\"121.154489\" style=\"stroke: #000000; stroke-width: 0.8\"/>\n      </g>\n     </g>\n     <g id=\"text_5\">\n      <!-- Jueves -->\n      <g transform=\"translate(235.448421 135.752926)scale(0.1 -0.1)\">\n       <defs>\n        <path id=\"DejaVuSans-4a\" d=\"M 628 4666 \nL 1259 4666 \nL 1259 325 \nQ 1259 -519 939 -900 \nQ 619 -1281 -91 -1281 \nL -331 -1281 \nL -331 -750 \nL -134 -750 \nQ 284 -750 456 -515 \nQ 628 -281 628 325 \nL 628 4666 \nz\n\" transform=\"scale(0.015625)\"/>\n        <path id=\"DejaVuSans-76\" d=\"M 191 3500 \nL 800 3500 \nL 1894 563 \nL 2988 3500 \nL 3597 3500 \nL 2284 0 \nL 1503 0 \nL 191 3500 \nz\n\" transform=\"scale(0.015625)\"/>\n       </defs>\n       <use xlink:href=\"#DejaVuSans-4a\"/>\n       <use xlink:href=\"#DejaVuSans-75\" x=\"29.492188\"/>\n       <use xlink:href=\"#DejaVuSans-65\" x=\"92.871094\"/>\n       <use xlink:href=\"#DejaVuSans-76\" x=\"154.394531\"/>\n       <use xlink:href=\"#DejaVuSans-65\" x=\"213.574219\"/>\n       <use xlink:href=\"#DejaVuSans-73\" x=\"275.097656\"/>\n      </g>\n     </g>\n    </g>\n    <g id=\"xtick_6\">\n     <g id=\"line2d_6\">\n      <g>\n       <use xlink:href=\"#m15a304177d\" x=\"296.568717\" y=\"121.154489\" style=\"stroke: #000000; stroke-width: 0.8\"/>\n      </g>\n     </g>\n     <g id=\"text_6\">\n      <!-- Viernes -->\n      <g transform=\"translate(277.97731 135.752926)scale(0.1 -0.1)\">\n       <defs>\n        <path id=\"DejaVuSans-56\" d=\"M 1831 0 \nL 50 4666 \nL 709 4666 \nL 2188 738 \nL 3669 4666 \nL 4325 4666 \nL 2547 0 \nL 1831 0 \nz\n\" transform=\"scale(0.015625)\"/>\n       </defs>\n       <use xlink:href=\"#DejaVuSans-56\"/>\n       <use xlink:href=\"#DejaVuSans-69\" x=\"66.158203\"/>\n       <use xlink:href=\"#DejaVuSans-65\" x=\"93.941406\"/>\n       <use xlink:href=\"#DejaVuSans-72\" x=\"155.464844\"/>\n       <use xlink:href=\"#DejaVuSans-6e\" x=\"194.828125\"/>\n       <use xlink:href=\"#DejaVuSans-65\" x=\"258.207031\"/>\n       <use xlink:href=\"#DejaVuSans-73\" x=\"319.730469\"/>\n      </g>\n     </g>\n    </g>\n    <g id=\"xtick_7\">\n     <g id=\"line2d_7\">\n      <g>\n       <use xlink:href=\"#m15a304177d\" x=\"341.328075\" y=\"121.154489\" style=\"stroke: #000000; stroke-width: 0.8\"/>\n      </g>\n     </g>\n     <g id=\"text_7\">\n      <!-- Sábado -->\n      <g transform=\"translate(322.617919 135.752926)scale(0.1 -0.1)\">\n       <defs>\n        <path id=\"DejaVuSans-53\" d=\"M 3425 4513 \nL 3425 3897 \nQ 3066 4069 2747 4153 \nQ 2428 4238 2131 4238 \nQ 1616 4238 1336 4038 \nQ 1056 3838 1056 3469 \nQ 1056 3159 1242 3001 \nQ 1428 2844 1947 2747 \nL 2328 2669 \nQ 3034 2534 3370 2195 \nQ 3706 1856 3706 1288 \nQ 3706 609 3251 259 \nQ 2797 -91 1919 -91 \nQ 1588 -91 1214 -16 \nQ 841 59 441 206 \nL 441 856 \nQ 825 641 1194 531 \nQ 1563 422 1919 422 \nQ 2459 422 2753 634 \nQ 3047 847 3047 1241 \nQ 3047 1584 2836 1778 \nQ 2625 1972 2144 2069 \nL 1759 2144 \nQ 1053 2284 737 2584 \nQ 422 2884 422 3419 \nQ 422 4038 858 4394 \nQ 1294 4750 2059 4750 \nQ 2388 4750 2728 4690 \nQ 3069 4631 3425 4513 \nz\n\" transform=\"scale(0.015625)\"/>\n        <path id=\"DejaVuSans-e1\" d=\"M 2194 1759 \nQ 1497 1759 1228 1600 \nQ 959 1441 959 1056 \nQ 959 750 1161 570 \nQ 1363 391 1709 391 \nQ 2188 391 2477 730 \nQ 2766 1069 2766 1631 \nL 2766 1759 \nL 2194 1759 \nz\nM 3341 1997 \nL 3341 0 \nL 2766 0 \nL 2766 531 \nQ 2569 213 2275 61 \nQ 1981 -91 1556 -91 \nQ 1019 -91 701 211 \nQ 384 513 384 1019 \nQ 384 1609 779 1909 \nQ 1175 2209 1959 2209 \nL 2766 2209 \nL 2766 2266 \nQ 2766 2663 2505 2880 \nQ 2244 3097 1772 3097 \nQ 1472 3097 1187 3025 \nQ 903 2953 641 2809 \nL 641 3341 \nQ 956 3463 1253 3523 \nQ 1550 3584 1831 3584 \nQ 2591 3584 2966 3190 \nQ 3341 2797 3341 1997 \nz\nM 2290 5119 \nL 2912 5119 \nL 1894 3944 \nL 1415 3944 \nL 2290 5119 \nz\n\" transform=\"scale(0.015625)\"/>\n        <path id=\"DejaVuSans-62\" d=\"M 3116 1747 \nQ 3116 2381 2855 2742 \nQ 2594 3103 2138 3103 \nQ 1681 3103 1420 2742 \nQ 1159 2381 1159 1747 \nQ 1159 1113 1420 752 \nQ 1681 391 2138 391 \nQ 2594 391 2855 752 \nQ 3116 1113 3116 1747 \nz\nM 1159 2969 \nQ 1341 3281 1617 3432 \nQ 1894 3584 2278 3584 \nQ 2916 3584 3314 3078 \nQ 3713 2572 3713 1747 \nQ 3713 922 3314 415 \nQ 2916 -91 2278 -91 \nQ 1894 -91 1617 61 \nQ 1341 213 1159 525 \nL 1159 0 \nL 581 0 \nL 581 4863 \nL 1159 4863 \nL 1159 2969 \nz\n\" transform=\"scale(0.015625)\"/>\n        <path id=\"DejaVuSans-64\" d=\"M 2906 2969 \nL 2906 4863 \nL 3481 4863 \nL 3481 0 \nL 2906 0 \nL 2906 525 \nQ 2725 213 2448 61 \nQ 2172 -91 1784 -91 \nQ 1150 -91 751 415 \nQ 353 922 353 1747 \nQ 353 2572 751 3078 \nQ 1150 3584 1784 3584 \nQ 2172 3584 2448 3432 \nQ 2725 3281 2906 2969 \nz\nM 947 1747 \nQ 947 1113 1208 752 \nQ 1469 391 1925 391 \nQ 2381 391 2643 752 \nQ 2906 1113 2906 1747 \nQ 2906 2381 2643 2742 \nQ 2381 3103 1925 3103 \nQ 1469 3103 1208 2742 \nQ 947 2381 947 1747 \nz\n\" transform=\"scale(0.015625)\"/>\n       </defs>\n       <use xlink:href=\"#DejaVuSans-53\"/>\n       <use xlink:href=\"#DejaVuSans-e1\" x=\"63.476562\"/>\n       <use xlink:href=\"#DejaVuSans-62\" x=\"124.755859\"/>\n       <use xlink:href=\"#DejaVuSans-61\" x=\"188.232422\"/>\n       <use xlink:href=\"#DejaVuSans-64\" x=\"249.511719\"/>\n       <use xlink:href=\"#DejaVuSans-6f\" x=\"312.988281\"/>\n      </g>\n     </g>\n    </g>\n   </g>\n   <g id=\"matplotlib.axis_2\">\n    <g id=\"ytick_1\">\n     <g id=\"line2d_8\">\n      <defs>\n       <path id=\"m66d9d57fc7\" d=\"M 0 0 \nL -3.5 0 \n\" style=\"stroke: #000000; stroke-width: 0.8\"/>\n      </defs>\n      <g>\n       <use xlink:href=\"#m66d9d57fc7\" x=\"39.65\" y=\"121.154489\" style=\"stroke: #000000; stroke-width: 0.8\"/>\n      </g>\n     </g>\n     <g id=\"text_8\">\n      <!-- 0 -->\n      <g transform=\"translate(26.2875 124.953707)scale(0.1 -0.1)\">\n       <defs>\n        <path id=\"DejaVuSans-30\" d=\"M 2034 4250 \nQ 1547 4250 1301 3770 \nQ 1056 3291 1056 2328 \nQ 1056 1369 1301 889 \nQ 1547 409 2034 409 \nQ 2525 409 2770 889 \nQ 3016 1369 3016 2328 \nQ 3016 3291 2770 3770 \nQ 2525 4250 2034 4250 \nz\nM 2034 4750 \nQ 2819 4750 3233 4129 \nQ 3647 3509 3647 2328 \nQ 3647 1150 3233 529 \nQ 2819 -91 2034 -91 \nQ 1250 -91 836 529 \nQ 422 1150 422 2328 \nQ 422 3509 836 4129 \nQ 1250 4750 2034 4750 \nz\n\" transform=\"scale(0.015625)\"/>\n       </defs>\n       <use xlink:href=\"#DejaVuSans-30\"/>\n      </g>\n     </g>\n    </g>\n    <g id=\"ytick_2\">\n     <g id=\"line2d_9\">\n      <g>\n       <use xlink:href=\"#m66d9d57fc7\" x=\"39.65\" y=\"74.970491\" style=\"stroke: #000000; stroke-width: 0.8\"/>\n      </g>\n     </g>\n     <g id=\"text_9\">\n      <!-- 2000 -->\n      <g transform=\"translate(7.2 78.76971)scale(0.1 -0.1)\">\n       <defs>\n        <path id=\"DejaVuSans-32\" d=\"M 1228 531 \nL 3431 531 \nL 3431 0 \nL 469 0 \nL 469 531 \nQ 828 903 1448 1529 \nQ 2069 2156 2228 2338 \nQ 2531 2678 2651 2914 \nQ 2772 3150 2772 3378 \nQ 2772 3750 2511 3984 \nQ 2250 4219 1831 4219 \nQ 1534 4219 1204 4116 \nQ 875 4013 500 3803 \nL 500 4441 \nQ 881 4594 1212 4672 \nQ 1544 4750 1819 4750 \nQ 2544 4750 2975 4387 \nQ 3406 4025 3406 3419 \nQ 3406 3131 3298 2873 \nQ 3191 2616 2906 2266 \nQ 2828 2175 2409 1742 \nQ 1991 1309 1228 531 \nz\n\" transform=\"scale(0.015625)\"/>\n       </defs>\n       <use xlink:href=\"#DejaVuSans-32\"/>\n       <use xlink:href=\"#DejaVuSans-30\" x=\"63.623047\"/>\n       <use xlink:href=\"#DejaVuSans-30\" x=\"127.246094\"/>\n       <use xlink:href=\"#DejaVuSans-30\" x=\"190.869141\"/>\n      </g>\n     </g>\n    </g>\n    <g id=\"ytick_3\">\n     <g id=\"line2d_10\">\n      <g>\n       <use xlink:href=\"#m66d9d57fc7\" x=\"39.65\" y=\"28.786494\" style=\"stroke: #000000; stroke-width: 0.8\"/>\n      </g>\n     </g>\n     <g id=\"text_10\">\n      <!-- 4000 -->\n      <g transform=\"translate(7.2 32.585712)scale(0.1 -0.1)\">\n       <defs>\n        <path id=\"DejaVuSans-34\" d=\"M 2419 4116 \nL 825 1625 \nL 2419 1625 \nL 2419 4116 \nz\nM 2253 4666 \nL 3047 4666 \nL 3047 1625 \nL 3713 1625 \nL 3713 1100 \nL 3047 1100 \nL 3047 0 \nL 2419 0 \nL 2419 1100 \nL 313 1100 \nL 313 1709 \nL 2253 4666 \nz\n\" transform=\"scale(0.015625)\"/>\n       </defs>\n       <use xlink:href=\"#DejaVuSans-34\"/>\n       <use xlink:href=\"#DejaVuSans-30\" x=\"63.623047\"/>\n       <use xlink:href=\"#DejaVuSans-30\" x=\"127.246094\"/>\n       <use xlink:href=\"#DejaVuSans-30\" x=\"190.869141\"/>\n      </g>\n     </g>\n    </g>\n   </g>\n   <g id=\"patch_10\">\n    <path d=\"M 39.65 121.154489 \nL 39.65 22.318125 \n\" style=\"fill: none; stroke: #000000; stroke-width: 0.8; stroke-linejoin: miter; stroke-linecap: square\"/>\n   </g>\n   <g id=\"patch_11\">\n    <path d=\"M 374.45 121.154489 \nL 374.45 22.318125 \n\" style=\"fill: none; stroke: #000000; stroke-width: 0.8; stroke-linejoin: miter; stroke-linecap: square\"/>\n   </g>\n   <g id=\"patch_12\">\n    <path d=\"M 39.65 121.154489 \nL 374.45 121.154489 \n\" style=\"fill: none; stroke: #000000; stroke-width: 0.8; stroke-linejoin: miter; stroke-linecap: square\"/>\n   </g>\n   <g id=\"patch_13\">\n    <path d=\"M 39.65 22.318125 \nL 374.45 22.318125 \n\" style=\"fill: none; stroke: #000000; stroke-width: 0.8; stroke-linejoin: miter; stroke-linecap: square\"/>\n   </g>\n   <g id=\"text_11\">\n    <!-- Promedio uso bicicletas usuarios registrados -->\n    <g transform=\"translate(39.65 16.318125)scale(0.12 -0.12)\">\n     <defs>\n      <path id=\"DejaVuSans-50\" d=\"M 1259 4147 \nL 1259 2394 \nL 2053 2394 \nQ 2494 2394 2734 2622 \nQ 2975 2850 2975 3272 \nQ 2975 3691 2734 3919 \nQ 2494 4147 2053 4147 \nL 1259 4147 \nz\nM 628 4666 \nL 2053 4666 \nQ 2838 4666 3239 4311 \nQ 3641 3956 3641 3272 \nQ 3641 2581 3239 2228 \nQ 2838 1875 2053 1875 \nL 1259 1875 \nL 1259 0 \nL 628 0 \nL 628 4666 \nz\n\" transform=\"scale(0.015625)\"/>\n      <path id=\"DejaVuSans-20\" transform=\"scale(0.015625)\"/>\n     </defs>\n     <use xlink:href=\"#DejaVuSans-50\"/>\n     <use xlink:href=\"#DejaVuSans-72\" x=\"58.552734\"/>\n     <use xlink:href=\"#DejaVuSans-6f\" x=\"97.416016\"/>\n     <use xlink:href=\"#DejaVuSans-6d\" x=\"158.597656\"/>\n     <use xlink:href=\"#DejaVuSans-65\" x=\"256.009766\"/>\n     <use xlink:href=\"#DejaVuSans-64\" x=\"317.533203\"/>\n     <use xlink:href=\"#DejaVuSans-69\" x=\"381.009766\"/>\n     <use xlink:href=\"#DejaVuSans-6f\" x=\"408.792969\"/>\n     <use xlink:href=\"#DejaVuSans-20\" x=\"469.974609\"/>\n     <use xlink:href=\"#DejaVuSans-75\" x=\"501.761719\"/>\n     <use xlink:href=\"#DejaVuSans-73\" x=\"565.140625\"/>\n     <use xlink:href=\"#DejaVuSans-6f\" x=\"617.240234\"/>\n     <use xlink:href=\"#DejaVuSans-20\" x=\"678.421875\"/>\n     <use xlink:href=\"#DejaVuSans-62\" x=\"710.208984\"/>\n     <use xlink:href=\"#DejaVuSans-69\" x=\"773.685547\"/>\n     <use xlink:href=\"#DejaVuSans-63\" x=\"801.46875\"/>\n     <use xlink:href=\"#DejaVuSans-69\" x=\"856.449219\"/>\n     <use xlink:href=\"#DejaVuSans-63\" x=\"884.232422\"/>\n     <use xlink:href=\"#DejaVuSans-6c\" x=\"939.212891\"/>\n     <use xlink:href=\"#DejaVuSans-65\" x=\"966.996094\"/>\n     <use xlink:href=\"#DejaVuSans-74\" x=\"1028.519531\"/>\n     <use xlink:href=\"#DejaVuSans-61\" x=\"1067.728516\"/>\n     <use xlink:href=\"#DejaVuSans-73\" x=\"1129.007812\"/>\n     <use xlink:href=\"#DejaVuSans-20\" x=\"1181.107422\"/>\n     <use xlink:href=\"#DejaVuSans-75\" x=\"1212.894531\"/>\n     <use xlink:href=\"#DejaVuSans-73\" x=\"1276.273438\"/>\n     <use xlink:href=\"#DejaVuSans-75\" x=\"1328.373047\"/>\n     <use xlink:href=\"#DejaVuSans-61\" x=\"1391.751953\"/>\n     <use xlink:href=\"#DejaVuSans-72\" x=\"1453.03125\"/>\n     <use xlink:href=\"#DejaVuSans-69\" x=\"1494.144531\"/>\n     <use xlink:href=\"#DejaVuSans-6f\" x=\"1521.927734\"/>\n     <use xlink:href=\"#DejaVuSans-73\" x=\"1583.109375\"/>\n     <use xlink:href=\"#DejaVuSans-20\" x=\"1635.208984\"/>\n     <use xlink:href=\"#DejaVuSans-72\" x=\"1666.996094\"/>\n     <use xlink:href=\"#DejaVuSans-65\" x=\"1705.859375\"/>\n     <use xlink:href=\"#DejaVuSans-67\" x=\"1767.382812\"/>\n     <use xlink:href=\"#DejaVuSans-69\" x=\"1830.859375\"/>\n     <use xlink:href=\"#DejaVuSans-73\" x=\"1858.642578\"/>\n     <use xlink:href=\"#DejaVuSans-74\" x=\"1910.742188\"/>\n     <use xlink:href=\"#DejaVuSans-72\" x=\"1949.951172\"/>\n     <use xlink:href=\"#DejaVuSans-61\" x=\"1991.064453\"/>\n     <use xlink:href=\"#DejaVuSans-64\" x=\"2052.34375\"/>\n     <use xlink:href=\"#DejaVuSans-6f\" x=\"2115.820312\"/>\n     <use xlink:href=\"#DejaVuSans-73\" x=\"2177.001953\"/>\n    </g>\n   </g>\n  </g>\n  <g id=\"axes_2\">\n   <g id=\"patch_14\">\n    <path d=\"M 39.65 239.758125 \nL 374.45 239.758125 \nL 374.45 140.921761 \nL 39.65 140.921761 \nz\n\" style=\"fill: #ffffff\"/>\n   </g>\n   <g id=\"patch_15\">\n    <path d=\"M 54.868182 239.758125 \nL 90.675668 239.758125 \nL 90.675668 208.854213 \nL 54.868182 208.854213 \nz\n\" clip-path=\"url(#p77e72a3cec)\" style=\"fill: #0000ff\"/>\n   </g>\n   <g id=\"patch_16\">\n    <path d=\"M 99.62754 239.758125 \nL 135.435027 239.758125 \nL 135.435027 224.191039 \nL 99.62754 224.191039 \nz\n\" clip-path=\"url(#p77e72a3cec)\" style=\"fill: #0000ff\"/>\n   </g>\n   <g id=\"patch_17\">\n    <path d=\"M 144.386898 239.758125 \nL 180.194385 239.758125 \nL 180.194385 226.914755 \nL 144.386898 226.914755 \nz\n\" clip-path=\"url(#p77e72a3cec)\" style=\"fill: #0000ff\"/>\n   </g>\n   <g id=\"patch_18\">\n    <path d=\"M 189.146257 239.758125 \nL 224.953743 239.758125 \nL 224.953743 227.031103 \nL 189.146257 227.031103 \nz\n\" clip-path=\"url(#p77e72a3cec)\" style=\"fill: #0000ff\"/>\n   </g>\n   <g id=\"patch_19\">\n    <path d=\"M 233.905615 239.758125 \nL 269.713102 239.758125 \nL 269.713102 226.111642 \nL 233.905615 226.111642 \nz\n\" clip-path=\"url(#p77e72a3cec)\" style=\"fill: #0000ff\"/>\n   </g>\n   <g id=\"patch_20\">\n    <path d=\"M 278.664973 239.758125 \nL 314.47246 239.758125 \nL 314.47246 222.386281 \nL 278.664973 222.386281 \nz\n\" clip-path=\"url(#p77e72a3cec)\" style=\"fill: #0000ff\"/>\n   </g>\n   <g id=\"patch_21\">\n    <path d=\"M 323.424332 239.758125 \nL 359.231818 239.758125 \nL 359.231818 205.922409 \nL 323.424332 205.922409 \nz\n\" clip-path=\"url(#p77e72a3cec)\" style=\"fill: #0000ff\"/>\n   </g>\n   <g id=\"matplotlib.axis_3\">\n    <g id=\"xtick_8\">\n     <g id=\"line2d_11\">\n      <g>\n       <use xlink:href=\"#m15a304177d\" x=\"72.771925\" y=\"239.758125\" style=\"stroke: #000000; stroke-width: 0.8\"/>\n      </g>\n     </g>\n     <g id=\"text_12\">\n      <!-- Domingo -->\n      <g transform=\"translate(50.200831 254.356562)scale(0.1 -0.1)\">\n       <use xlink:href=\"#DejaVuSans-44\"/>\n       <use xlink:href=\"#DejaVuSans-6f\" x=\"77.001953\"/>\n       <use xlink:href=\"#DejaVuSans-6d\" x=\"138.183594\"/>\n       <use xlink:href=\"#DejaVuSans-69\" x=\"235.595703\"/>\n       <use xlink:href=\"#DejaVuSans-6e\" x=\"263.378906\"/>\n       <use xlink:href=\"#DejaVuSans-67\" x=\"326.757812\"/>\n       <use xlink:href=\"#DejaVuSans-6f\" x=\"390.234375\"/>\n      </g>\n     </g>\n    </g>\n    <g id=\"xtick_9\">\n     <g id=\"line2d_12\">\n      <g>\n       <use xlink:href=\"#m15a304177d\" x=\"117.531283\" y=\"239.758125\" style=\"stroke: #000000; stroke-width: 0.8\"/>\n      </g>\n     </g>\n     <g id=\"text_13\">\n      <!-- Lunes -->\n      <g transform=\"translate(102.814096 254.356562)scale(0.1 -0.1)\">\n       <use xlink:href=\"#DejaVuSans-4c\"/>\n       <use xlink:href=\"#DejaVuSans-75\" x=\"53.962891\"/>\n       <use xlink:href=\"#DejaVuSans-6e\" x=\"117.341797\"/>\n       <use xlink:href=\"#DejaVuSans-65\" x=\"180.720703\"/>\n       <use xlink:href=\"#DejaVuSans-73\" x=\"242.244141\"/>\n      </g>\n     </g>\n    </g>\n    <g id=\"xtick_10\">\n     <g id=\"line2d_13\">\n      <g>\n       <use xlink:href=\"#m15a304177d\" x=\"162.290642\" y=\"239.758125\" style=\"stroke: #000000; stroke-width: 0.8\"/>\n      </g>\n     </g>\n     <g id=\"text_14\">\n      <!-- Martes -->\n      <g transform=\"translate(145.215642 254.356562)scale(0.1 -0.1)\">\n       <use xlink:href=\"#DejaVuSans-4d\"/>\n       <use xlink:href=\"#DejaVuSans-61\" x=\"86.279297\"/>\n       <use xlink:href=\"#DejaVuSans-72\" x=\"147.558594\"/>\n       <use xlink:href=\"#DejaVuSans-74\" x=\"188.671875\"/>\n       <use xlink:href=\"#DejaVuSans-65\" x=\"227.880859\"/>\n       <use xlink:href=\"#DejaVuSans-73\" x=\"289.404297\"/>\n      </g>\n     </g>\n    </g>\n    <g id=\"xtick_11\">\n     <g id=\"line2d_14\">\n      <g>\n       <use xlink:href=\"#m15a304177d\" x=\"207.05\" y=\"239.758125\" style=\"stroke: #000000; stroke-width: 0.8\"/>\n      </g>\n     </g>\n     <g id=\"text_15\">\n      <!-- Miercoles -->\n      <g transform=\"translate(183.448438 254.356562)scale(0.1 -0.1)\">\n       <use xlink:href=\"#DejaVuSans-4d\"/>\n       <use xlink:href=\"#DejaVuSans-69\" x=\"86.279297\"/>\n       <use xlink:href=\"#DejaVuSans-65\" x=\"114.0625\"/>\n       <use xlink:href=\"#DejaVuSans-72\" x=\"175.585938\"/>\n       <use xlink:href=\"#DejaVuSans-63\" x=\"214.449219\"/>\n       <use xlink:href=\"#DejaVuSans-6f\" x=\"269.429688\"/>\n       <use xlink:href=\"#DejaVuSans-6c\" x=\"330.611328\"/>\n       <use xlink:href=\"#DejaVuSans-65\" x=\"358.394531\"/>\n       <use xlink:href=\"#DejaVuSans-73\" x=\"419.917969\"/>\n      </g>\n     </g>\n    </g>\n    <g id=\"xtick_12\">\n     <g id=\"line2d_15\">\n      <g>\n       <use xlink:href=\"#m15a304177d\" x=\"251.809358\" y=\"239.758125\" style=\"stroke: #000000; stroke-width: 0.8\"/>\n      </g>\n     </g>\n     <g id=\"text_16\">\n      <!-- Jueves -->\n      <g transform=\"translate(235.448421 254.356562)scale(0.1 -0.1)\">\n       <use xlink:href=\"#DejaVuSans-4a\"/>\n       <use xlink:href=\"#DejaVuSans-75\" x=\"29.492188\"/>\n       <use xlink:href=\"#DejaVuSans-65\" x=\"92.871094\"/>\n       <use xlink:href=\"#DejaVuSans-76\" x=\"154.394531\"/>\n       <use xlink:href=\"#DejaVuSans-65\" x=\"213.574219\"/>\n       <use xlink:href=\"#DejaVuSans-73\" x=\"275.097656\"/>\n      </g>\n     </g>\n    </g>\n    <g id=\"xtick_13\">\n     <g id=\"line2d_16\">\n      <g>\n       <use xlink:href=\"#m15a304177d\" x=\"296.568717\" y=\"239.758125\" style=\"stroke: #000000; stroke-width: 0.8\"/>\n      </g>\n     </g>\n     <g id=\"text_17\">\n      <!-- Viernes -->\n      <g transform=\"translate(277.97731 254.356562)scale(0.1 -0.1)\">\n       <use xlink:href=\"#DejaVuSans-56\"/>\n       <use xlink:href=\"#DejaVuSans-69\" x=\"66.158203\"/>\n       <use xlink:href=\"#DejaVuSans-65\" x=\"93.941406\"/>\n       <use xlink:href=\"#DejaVuSans-72\" x=\"155.464844\"/>\n       <use xlink:href=\"#DejaVuSans-6e\" x=\"194.828125\"/>\n       <use xlink:href=\"#DejaVuSans-65\" x=\"258.207031\"/>\n       <use xlink:href=\"#DejaVuSans-73\" x=\"319.730469\"/>\n      </g>\n     </g>\n    </g>\n    <g id=\"xtick_14\">\n     <g id=\"line2d_17\">\n      <g>\n       <use xlink:href=\"#m15a304177d\" x=\"341.328075\" y=\"239.758125\" style=\"stroke: #000000; stroke-width: 0.8\"/>\n      </g>\n     </g>\n     <g id=\"text_18\">\n      <!-- Sábado -->\n      <g transform=\"translate(322.617919 254.356562)scale(0.1 -0.1)\">\n       <use xlink:href=\"#DejaVuSans-53\"/>\n       <use xlink:href=\"#DejaVuSans-e1\" x=\"63.476562\"/>\n       <use xlink:href=\"#DejaVuSans-62\" x=\"124.755859\"/>\n       <use xlink:href=\"#DejaVuSans-61\" x=\"188.232422\"/>\n       <use xlink:href=\"#DejaVuSans-64\" x=\"249.511719\"/>\n       <use xlink:href=\"#DejaVuSans-6f\" x=\"312.988281\"/>\n      </g>\n     </g>\n    </g>\n   </g>\n   <g id=\"matplotlib.axis_4\">\n    <g id=\"ytick_4\">\n     <g id=\"line2d_18\">\n      <g>\n       <use xlink:href=\"#m66d9d57fc7\" x=\"39.65\" y=\"239.758125\" style=\"stroke: #000000; stroke-width: 0.8\"/>\n      </g>\n     </g>\n     <g id=\"text_19\">\n      <!-- 0 -->\n      <g transform=\"translate(26.2875 243.557344)scale(0.1 -0.1)\">\n       <use xlink:href=\"#DejaVuSans-30\"/>\n      </g>\n     </g>\n    </g>\n    <g id=\"ytick_5\">\n     <g id=\"line2d_19\">\n      <g>\n       <use xlink:href=\"#m66d9d57fc7\" x=\"39.65\" y=\"193.574127\" style=\"stroke: #000000; stroke-width: 0.8\"/>\n      </g>\n     </g>\n     <g id=\"text_20\">\n      <!-- 2000 -->\n      <g transform=\"translate(7.2 197.373346)scale(0.1 -0.1)\">\n       <use xlink:href=\"#DejaVuSans-32\"/>\n       <use xlink:href=\"#DejaVuSans-30\" x=\"63.623047\"/>\n       <use xlink:href=\"#DejaVuSans-30\" x=\"127.246094\"/>\n       <use xlink:href=\"#DejaVuSans-30\" x=\"190.869141\"/>\n      </g>\n     </g>\n    </g>\n    <g id=\"ytick_6\">\n     <g id=\"line2d_20\">\n      <g>\n       <use xlink:href=\"#m66d9d57fc7\" x=\"39.65\" y=\"147.39013\" style=\"stroke: #000000; stroke-width: 0.8\"/>\n      </g>\n     </g>\n     <g id=\"text_21\">\n      <!-- 4000 -->\n      <g transform=\"translate(7.2 151.189349)scale(0.1 -0.1)\">\n       <use xlink:href=\"#DejaVuSans-34\"/>\n       <use xlink:href=\"#DejaVuSans-30\" x=\"63.623047\"/>\n       <use xlink:href=\"#DejaVuSans-30\" x=\"127.246094\"/>\n       <use xlink:href=\"#DejaVuSans-30\" x=\"190.869141\"/>\n      </g>\n     </g>\n    </g>\n   </g>\n   <g id=\"patch_22\">\n    <path d=\"M 39.65 239.758125 \nL 39.65 140.921761 \n\" style=\"fill: none; stroke: #000000; stroke-width: 0.8; stroke-linejoin: miter; stroke-linecap: square\"/>\n   </g>\n   <g id=\"patch_23\">\n    <path d=\"M 374.45 239.758125 \nL 374.45 140.921761 \n\" style=\"fill: none; stroke: #000000; stroke-width: 0.8; stroke-linejoin: miter; stroke-linecap: square\"/>\n   </g>\n   <g id=\"patch_24\">\n    <path d=\"M 39.65 239.758125 \nL 374.45 239.758125 \n\" style=\"fill: none; stroke: #000000; stroke-width: 0.8; stroke-linejoin: miter; stroke-linecap: square\"/>\n   </g>\n   <g id=\"patch_25\">\n    <path d=\"M 39.65 140.921761 \nL 374.45 140.921761 \n\" style=\"fill: none; stroke: #000000; stroke-width: 0.8; stroke-linejoin: miter; stroke-linecap: square\"/>\n   </g>\n   <g id=\"text_22\">\n    <!-- Promedio uso bicicletas usuarios casual -->\n    <g transform=\"translate(72.771925 158.936129)scale(0.1 -0.1)\">\n     <use xlink:href=\"#DejaVuSans-50\"/>\n     <use xlink:href=\"#DejaVuSans-72\" x=\"58.552734\"/>\n     <use xlink:href=\"#DejaVuSans-6f\" x=\"97.416016\"/>\n     <use xlink:href=\"#DejaVuSans-6d\" x=\"158.597656\"/>\n     <use xlink:href=\"#DejaVuSans-65\" x=\"256.009766\"/>\n     <use xlink:href=\"#DejaVuSans-64\" x=\"317.533203\"/>\n     <use xlink:href=\"#DejaVuSans-69\" x=\"381.009766\"/>\n     <use xlink:href=\"#DejaVuSans-6f\" x=\"408.792969\"/>\n     <use xlink:href=\"#DejaVuSans-20\" x=\"469.974609\"/>\n     <use xlink:href=\"#DejaVuSans-75\" x=\"501.761719\"/>\n     <use xlink:href=\"#DejaVuSans-73\" x=\"565.140625\"/>\n     <use xlink:href=\"#DejaVuSans-6f\" x=\"617.240234\"/>\n     <use xlink:href=\"#DejaVuSans-20\" x=\"678.421875\"/>\n     <use xlink:href=\"#DejaVuSans-62\" x=\"710.208984\"/>\n     <use xlink:href=\"#DejaVuSans-69\" x=\"773.685547\"/>\n     <use xlink:href=\"#DejaVuSans-63\" x=\"801.46875\"/>\n     <use xlink:href=\"#DejaVuSans-69\" x=\"856.449219\"/>\n     <use xlink:href=\"#DejaVuSans-63\" x=\"884.232422\"/>\n     <use xlink:href=\"#DejaVuSans-6c\" x=\"939.212891\"/>\n     <use xlink:href=\"#DejaVuSans-65\" x=\"966.996094\"/>\n     <use xlink:href=\"#DejaVuSans-74\" x=\"1028.519531\"/>\n     <use xlink:href=\"#DejaVuSans-61\" x=\"1067.728516\"/>\n     <use xlink:href=\"#DejaVuSans-73\" x=\"1129.007812\"/>\n     <use xlink:href=\"#DejaVuSans-20\" x=\"1181.107422\"/>\n     <use xlink:href=\"#DejaVuSans-75\" x=\"1212.894531\"/>\n     <use xlink:href=\"#DejaVuSans-73\" x=\"1276.273438\"/>\n     <use xlink:href=\"#DejaVuSans-75\" x=\"1328.373047\"/>\n     <use xlink:href=\"#DejaVuSans-61\" x=\"1391.751953\"/>\n     <use xlink:href=\"#DejaVuSans-72\" x=\"1453.03125\"/>\n     <use xlink:href=\"#DejaVuSans-69\" x=\"1494.144531\"/>\n     <use xlink:href=\"#DejaVuSans-6f\" x=\"1521.927734\"/>\n     <use xlink:href=\"#DejaVuSans-73\" x=\"1583.109375\"/>\n     <use xlink:href=\"#DejaVuSans-20\" x=\"1635.208984\"/>\n     <use xlink:href=\"#DejaVuSans-63\" x=\"1666.996094\"/>\n     <use xlink:href=\"#DejaVuSans-61\" x=\"1721.976562\"/>\n     <use xlink:href=\"#DejaVuSans-73\" x=\"1783.255859\"/>\n     <use xlink:href=\"#DejaVuSans-75\" x=\"1835.355469\"/>\n     <use xlink:href=\"#DejaVuSans-61\" x=\"1898.734375\"/>\n     <use xlink:href=\"#DejaVuSans-6c\" x=\"1960.013672\"/>\n    </g>\n   </g>\n  </g>\n </g>\n <defs>\n  <clipPath id=\"p87df9833c4\">\n   <rect x=\"39.65\" y=\"22.318125\" width=\"334.8\" height=\"98.836364\"/>\n  </clipPath>\n  <clipPath id=\"p77e72a3cec\">\n   <rect x=\"39.65\" y=\"140.921761\" width=\"334.8\" height=\"98.836364\"/>\n  </clipPath>\n </defs>\n</svg>\n",
      "text/plain": [
       "<Figure size 432x288 with 2 Axes>"
      ]
     },
     "metadata": {
      "needs_background": "light"
     },
     "output_type": "display_data"
    }
   ],
   "source": [
    "fig, ax = plt.subplots(2, 1, sharey=True)\n",
    "ax[0].bar(semanal_registrado.index,semanal_registrado['registered'], color=\"orange\")\n",
    "ax[0].set_title('Promedio uso bicicletas usuarios registrados',loc='left')\n",
    "ax[1].bar(semanal_casual.index,semanal_casual['casual'], color=\"blue\")\n",
    "ax[1].annotate(\"Promedio uso bicicletas usuarios casual\",xy=(0,3500))\n",
    "\n",
    "ax[0].set_xticklabels(labels=[\"\",\"Domingo\", \"Lunes\",\"Martes\",\"Miercoles\",\"Jueves\",\"Viernes\",\"Sábado\"])\n",
    "ax[1].set_xticklabels(labels=[\"\",\"Domingo\", \"Lunes\",\"Martes\",\"Miercoles\",\"Jueves\",\"Viernes\",\"Sábado\"])"
   ]
  }
 ],
 "metadata": {
  "interpreter": {
   "hash": "f1b86c9e1abb17b8fbf4e3fe1b2afe267756771920605b54056801fb76573d9f"
  },
  "kernelspec": {
   "display_name": "Python 3.9.7 64-bit ('base': conda)",
   "language": "python",
   "name": "python3"
  },
  "language_info": {
   "codemirror_mode": {
    "name": "ipython",
    "version": 3
   },
   "file_extension": ".py",
   "mimetype": "text/x-python",
   "name": "python",
   "nbconvert_exporter": "python",
   "pygments_lexer": "ipython3",
   "version": "3.10.0"
  },
  "orig_nbformat": 4
 },
 "nbformat": 4,
 "nbformat_minor": 2
}
